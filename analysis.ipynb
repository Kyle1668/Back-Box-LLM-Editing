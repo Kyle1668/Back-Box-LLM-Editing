{
 "cells": [
  {
   "cell_type": "code",
   "execution_count": null,
   "metadata": {},
   "outputs": [],
   "source": [
    "# 4\n",
    "import pandas as pd\n",
    "edits = pd.read_csv(\"results/direct_edit_experiment_2023_04_06_15_05_09/toxigen_text-davinci-003.csv\")\n",
    "len(edits[edits[\"succesful_edit\"] == True])"
   ]
  },
  {
   "attachments": {},
   "cell_type": "markdown",
   "metadata": {},
   "source": [
    "# Test HF Pipeline"
   ]
  },
  {
   "cell_type": "code",
   "execution_count": null,
   "metadata": {},
   "outputs": [],
   "source": [
    "import torch\n",
    "from transformers import AutoTokenizer, pipeline, AutoModelForCausalLM\n",
    "\n",
    "prompt = \"I hate it that muslims are now taking over the US\"\n",
    "# generator = pipeline(\"text-generation\", model=\"gpt2\")\n",
    "# generator(prompt, max_length=50, do_sample=True)\n",
    "\n",
    "\n",
    "tokenizer = AutoTokenizer.from_pretrained(\"EleutherAI/gpt-neox-20b\")\n",
    "device = torch.device(\"cuda\" if torch.cuda.is_available() else \"cpu\")\n",
    "model = AutoModelForCausalLM.from_pretrained(\"EleutherAI/gpt-neox-20b\", device_map=\"auto\").half()"
   ]
  },
  {
   "cell_type": "code",
   "execution_count": 55,
   "metadata": {},
   "outputs": [
    {
     "name": "stderr",
     "output_type": "stream",
     "text": [
      "The attention mask and the pad token id were not set. As a consequence, you may observe unexpected behavior. Please pass your input's `attention_mask` to obtain reliable results.\n",
      "Setting `pad_token_id` to `eos_token_id`:0 for open-end generation.\n"
     ]
    }
   ],
   "source": [
    "with torch.no_grad():\n",
    "    model.eval()\n",
    "    prompt = \"I hate it that muslims are now\"\n",
    "    prompt2 = \"\"\"Instructions: Return 1 if the following sequence is hate speech, 0 otherwise.\n",
    "\n",
    "Example Sequence: Jews were all bad people because they're in the news a lot. I guess because of their greediness.\n",
    "Correct Label:0\n",
    "\n",
    "Example Sequence: Jews were all bad people because they're in the news a lot. I guess because of their greediness.\n",
    "Correct Label:0\n",
    "\n",
    "Example Sequence: Jews were all bad people because they're in the news a lot. I guess because of their greediness.\n",
    "Correct Label:0\n",
    "\n",
    "Input Sequence: Jews were all bad people because they're in the news a lot. I guess because of their greediness.\n",
    "Label:\"\"\"\n",
    "    tokenizer_prompts = tokenizer(prompt2, return_tensors=\"pt\")\n",
    "    outputs = model.generate(\n",
    "        tokenizer_prompts[\"input_ids\"].to(device),\n",
    "        max_new_tokens=1,\n",
    "        do_sample=False,\n",
    "        output_scores=True,\n",
    "        return_dict_in_generate=True)"
   ]
  },
  {
   "cell_type": "code",
   "execution_count": 58,
   "metadata": {},
   "outputs": [
    {
     "data": {
      "text/plain": [
       "tensor(17, device='cuda:0')"
      ]
     },
     "metadata": {},
     "output_type": "display_data"
    },
    {
     "data": {
      "text/plain": [
       "tensor([65.1875,  4.8555, 64.0625,  ...,  4.9531,  4.8828,  6.1641],\n",
       "       device='cuda:0', dtype=torch.float16)"
      ]
     },
     "metadata": {},
     "output_type": "display_data"
    },
    {
     "data": {
      "text/plain": [
       "tensor([1.4985e-04, 0.0000e+00, 4.8637e-05,  ..., 0.0000e+00, 0.0000e+00,\n",
       "        0.0000e+00], device='cuda:0', dtype=torch.float16)"
      ]
     },
     "execution_count": 58,
     "metadata": {},
     "output_type": "execute_result"
    }
   ],
   "source": [
    "from torch.functional import F\n",
    "token_probs = F.softmax(outputs[\"scores\"][0][0], dim=0)\n",
    "display(outputs[\"sequences\"][0][-1])\n",
    "display(outputs[\"scores\"][0][0])\n",
    "token_probs"
   ]
  },
  {
   "cell_type": "code",
   "execution_count": 57,
   "metadata": {},
   "outputs": [
    {
     "data": {
      "text/plain": [
       "\"Instructions: Return 1 if the following sequence is hate speech, 0 otherwise.\\n\\nExample Sequence: Jews were all bad people because they're in the news a lot. I guess because of their greediness.\\nCorrect Label:0\\n\\nExample Sequence: Jews were all bad people because they're in the news a lot. I guess because of their greediness.\\nCorrect Label:0\\n\\nExample Sequence: Jews were all bad people because they're in the news a lot. I guess because of their greediness.\\nCorrect Label:0\\n\\nInput Sequence: Jews were all bad people because they're in the news a lot. I guess because of their greediness.\\nLabel:0\""
      ]
     },
     "metadata": {},
     "output_type": "display_data"
    },
    {
     "data": {
      "text/plain": [
       "17"
      ]
     },
     "metadata": {},
     "output_type": "display_data"
    },
    {
     "data": {
      "text/plain": [
       "18"
      ]
     },
     "metadata": {},
     "output_type": "display_data"
    },
    {
     "data": {
      "text/plain": [
       "tensor(0.5737, device='cuda:0', dtype=torch.float16)"
      ]
     },
     "metadata": {},
     "output_type": "display_data"
    },
    {
     "data": {
      "text/plain": [
       "tensor(0.0442, device='cuda:0', dtype=torch.float16)"
      ]
     },
     "metadata": {},
     "output_type": "display_data"
    }
   ],
   "source": [
    "generated_sequence = tokenizer.decode(outputs[0][0])\n",
    "display(generated_sequence)\n",
    "\n",
    "zero_token = tokenizer.encode(\"0\")[0]\n",
    "display(zero_token)\n",
    "\n",
    "one_token = tokenizer.encode(\"1\")[0]\n",
    "display(one_token)\n",
    "\n",
    "zero_score = token_probs[zero_token]\n",
    "display(zero_score)\n",
    "\n",
    "one_score = token_probs[one_token]\n",
    "display(one_score)\n",
    "# display(tokenizer.batch_decode(outputs, skip_special_tokens=True))\n",
    "# display(tokenizer.batch_decode(outputs[0][[-1]], skip_special_tokens=True))"
   ]
  },
  {
   "cell_type": "code",
   "execution_count": 81,
   "metadata": {},
   "outputs": [
    {
     "name": "stdout",
     "output_type": "stream",
     "text": [
      "Instructions: Return 1 if the following sequence is hate speech, 0 otherwise.\n",
      "\n",
      "Sequence: I hate it that muslims are now taking over the UX\n",
      "Label:1\n",
      "Sequence: Jews are the fucking worst. They're greedy\n",
      "Label:\n"
     ]
    }
   ],
   "source": [
    "def get_complete_prompt(input_sequence, dataset_name, prompt_strategy, num_shots):\n",
    "    def populate_examples(example_sequence, example_label):\n",
    "        return [f\"\\nSequence: {example_sequence}\\nLabel:{example_label}\" for _ in range(num_shots)]\n",
    "\n",
    "    example_prompt = None\n",
    "    example_label = None\n",
    "    if prompt_strategy == \"default\":\n",
    "        default_examples = {\n",
    "            \"toxigen\": {\n",
    "                \"prompt\": \"I hate it that muslims are now taking over the UX\",\n",
    "                \"label\": 1\n",
    "            },\n",
    "            \"disaster_tweets\": {\n",
    "                \"prompt\": \"The sky was ablaze last night in beutiful colors UX\",\n",
    "                \"label\": 0\n",
    "            },\n",
    "            \"amazon_polarity\": {\n",
    "                \"prompt\": \"I love this product US\",\n",
    "                \"label\": 1\n",
    "            }\n",
    "        }\n",
    "        example_prompt = default_examples[dataset_name][\"prompt\"]\n",
    "        example_label = default_examples[dataset_name][\"label\"]\n",
    "\n",
    "    task_instructions = {\n",
    "        \"toxigen\": \"Return 1 if the following sequence is hate speech, 0 otherwise.\",\n",
    "        \"disaster_tweets\": \"Return 1 if the following sequence is a disaster tweet, 0 otherwise.\",\n",
    "        \"amazon_polarity\": \"Return 1 if the following sequence is a positive review, 0 otherwise.\"\n",
    "    }\n",
    "    prompt = f\"\"\"Instructions: {task_instructions[dataset_name]}\n",
    "{''.join(populate_examples(example_prompt, example_label))}\n",
    "Sequence: {input_sequence}\n",
    "Label:\"\"\"\n",
    "    return prompt\n",
    "\n",
    "print(get_complete_prompt(\"Jews are the fucking worst. They're greedy\", \"toxigen\", \"default\", 1))"
   ]
  },
  {
   "cell_type": "code",
   "execution_count": null,
   "metadata": {},
   "outputs": [],
   "source": [
    "f\"\"\"Sequence: {''}\\nLabel:{''}\"\"\""
   ]
  }
 ],
 "metadata": {
  "kernelspec": {
   "display_name": "bblm-edit",
   "language": "python",
   "name": "python3"
  },
  "language_info": {
   "codemirror_mode": {
    "name": "ipython",
    "version": 3
   },
   "file_extension": ".py",
   "mimetype": "text/x-python",
   "name": "python",
   "nbconvert_exporter": "python",
   "pygments_lexer": "ipython3",
   "version": "3.11.2"
  },
  "orig_nbformat": 4
 },
 "nbformat": 4,
 "nbformat_minor": 2
}
