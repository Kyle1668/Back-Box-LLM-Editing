{
 "cells": [
  {
   "cell_type": "code",
   "execution_count": null,
   "metadata": {},
   "outputs": [],
   "source": [
    "# 4\n",
    "import pandas as pd\n",
    "edits = pd.read_csv(\"results/direct_edit_experiment_2023_04_06_15_05_09/toxigen_text-davinci-003.csv\")\n",
    "len(edits[edits[\"succesful_edit\"] == True])"
   ]
  },
  {
   "attachments": {},
   "cell_type": "markdown",
   "metadata": {},
   "source": [
    "# Test HF Pipeline"
   ]
  },
  {
   "cell_type": "code",
   "execution_count": null,
   "metadata": {},
   "outputs": [],
   "source": [
    "import torch\n",
    "from transformers import AutoTokenizer, pipeline, AutoModelForCausalLM\n",
    "\n",
    "prompt = \"I hate it that muslims are now taking over the US\"\n",
    "# generator = pipeline(\"text-generation\", model=\"gpt2\")\n",
    "# generator(prompt, max_length=50, do_sample=True)\n",
    "\n",
    "\n",
    "tokenizer = AutoTokenizer.from_pretrained(\"EleutherAI/gpt-neox-20b\")\n",
    "device = torch.device(\"cuda\" if torch.cuda.is_available() else \"cpu\")\n",
    "model = AutoModelForCausalLM.from_pretrained(\"EleutherAI/gpt-neox-20b\", device_map=\"auto\").half()"
   ]
  },
  {
   "cell_type": "code",
   "execution_count": 55,
   "metadata": {},
   "outputs": [
    {
     "name": "stderr",
     "output_type": "stream",
     "text": [
      "The attention mask and the pad token id were not set. As a consequence, you may observe unexpected behavior. Please pass your input's `attention_mask` to obtain reliable results.\n",
      "Setting `pad_token_id` to `eos_token_id`:0 for open-end generation.\n"
     ]
    }
   ],
   "source": [
    "with torch.no_grad():\n",
    "    model.eval()\n",
    "    prompt = \"I hate it that muslims are now\"\n",
    "    prompt2 = \"\"\"Instructions: Return 1 if the following sequence is hate speech, 0 otherwise.\n",
    "\n",
    "Example Sequence: Jews were all bad people because they're in the news a lot. I guess because of their greediness.\n",
    "Correct Label:0\n",
    "\n",
    "Example Sequence: Jews were all bad people because they're in the news a lot. I guess because of their greediness.\n",
    "Correct Label:0\n",
    "\n",
    "Example Sequence: Jews were all bad people because they're in the news a lot. I guess because of their greediness.\n",
    "Correct Label:0\n",
    "\n",
    "Input Sequence: Jews were all bad people because they're in the news a lot. I guess because of their greediness.\n",
    "Label:\"\"\"\n",
    "    tokenizer_prompts = tokenizer(prompt2, return_tensors=\"pt\")\n",
    "    outputs = model.generate(\n",
    "        tokenizer_prompts[\"input_ids\"].to(device),\n",
    "        max_new_tokens=1,\n",
    "        do_sample=False,\n",
    "        output_scores=True,\n",
    "        return_dict_in_generate=True)"
   ]
  },
  {
   "cell_type": "code",
   "execution_count": 58,
   "metadata": {},
   "outputs": [
    {
     "data": {
      "text/plain": [
       "tensor(17, device='cuda:0')"
      ]
     },
     "metadata": {},
     "output_type": "display_data"
    },
    {
     "data": {
      "text/plain": [
       "tensor([65.1875,  4.8555, 64.0625,  ...,  4.9531,  4.8828,  6.1641],\n",
       "       device='cuda:0', dtype=torch.float16)"
      ]
     },
     "metadata": {},
     "output_type": "display_data"
    },
    {
     "data": {
      "text/plain": [
       "tensor([1.4985e-04, 0.0000e+00, 4.8637e-05,  ..., 0.0000e+00, 0.0000e+00,\n",
       "        0.0000e+00], device='cuda:0', dtype=torch.float16)"
      ]
     },
     "execution_count": 58,
     "metadata": {},
     "output_type": "execute_result"
    }
   ],
   "source": [
    "from torch.functional import F\n",
    "token_probs = F.softmax(outputs[\"scores\"][0][0], dim=0)\n",
    "display(outputs[\"sequences\"][0][-1])\n",
    "display(outputs[\"scores\"][0][0])\n",
    "token_probs"
   ]
  },
  {
   "cell_type": "code",
   "execution_count": 57,
   "metadata": {},
   "outputs": [
    {
     "data": {
      "text/plain": [
       "\"Instructions: Return 1 if the following sequence is hate speech, 0 otherwise.\\n\\nExample Sequence: Jews were all bad people because they're in the news a lot. I guess because of their greediness.\\nCorrect Label:0\\n\\nExample Sequence: Jews were all bad people because they're in the news a lot. I guess because of their greediness.\\nCorrect Label:0\\n\\nExample Sequence: Jews were all bad people because they're in the news a lot. I guess because of their greediness.\\nCorrect Label:0\\n\\nInput Sequence: Jews were all bad people because they're in the news a lot. I guess because of their greediness.\\nLabel:0\""
      ]
     },
     "metadata": {},
     "output_type": "display_data"
    },
    {
     "data": {
      "text/plain": [
       "17"
      ]
     },
     "metadata": {},
     "output_type": "display_data"
    },
    {
     "data": {
      "text/plain": [
       "18"
      ]
     },
     "metadata": {},
     "output_type": "display_data"
    },
    {
     "data": {
      "text/plain": [
       "tensor(0.5737, device='cuda:0', dtype=torch.float16)"
      ]
     },
     "metadata": {},
     "output_type": "display_data"
    },
    {
     "data": {
      "text/plain": [
       "tensor(0.0442, device='cuda:0', dtype=torch.float16)"
      ]
     },
     "metadata": {},
     "output_type": "display_data"
    }
   ],
   "source": [
    "generated_sequence = tokenizer.decode(outputs[0][0])\n",
    "display(generated_sequence)\n",
    "\n",
    "zero_token = tokenizer.encode(\"0\")[0]\n",
    "display(zero_token)\n",
    "\n",
    "one_token = tokenizer.encode(\"1\")[0]\n",
    "display(one_token)\n",
    "\n",
    "zero_score = token_probs[zero_token]\n",
    "display(zero_score)\n",
    "\n",
    "one_score = token_probs[one_token]\n",
    "display(one_score)\n",
    "# display(tokenizer.batch_decode(outputs, skip_special_tokens=True))\n",
    "# display(tokenizer.batch_decode(outputs[0][[-1]], skip_special_tokens=True))"
   ]
  },
  {
   "cell_type": "code",
   "execution_count": 2,
   "metadata": {},
   "outputs": [
    {
     "name": "stdout",
     "output_type": "stream",
     "text": [
      "Instructions: Return 1 if the following sequence is hate speech, 0 otherwise. Valid labels are 0 and 1.\n",
      "\n",
      "Sequence: I hate it that muslims are now taking over the US\n",
      "Label:1\n",
      "\n",
      "Sequence: Black people have been treated unfairly for a long time\n",
      "Label:0\n",
      "\n",
      "Sequence: Jews are the fucking worst. They're greedy\n",
      "Label:\n"
     ]
    }
   ],
   "source": [
    "def get_complete_prompt(input_sequence, dataset_name, prompt_strategy, num_shots):\n",
    "    def populate_examples(example_sequence, example_label):\n",
    "        return [f\"\\nSequence: {example_sequence}\\nLabel:{example_label}\" for _ in range(num_shots)]\n",
    "\n",
    "    example_prompt = None\n",
    "    example_label = None\n",
    "    if prompt_strategy == \"default\":\n",
    "        default_examples = {\n",
    "            \"positive\": {\n",
    "                \"toxigen\": {\n",
    "                    \"prompt\": \"I hate it that muslims are now taking over the US\",\n",
    "                    \"label\": 1\n",
    "                },\n",
    "                \"disaster_tweets\": {\n",
    "                    \"prompt\": \"There was a suicide bombing in the city last night\",\n",
    "                    \"label\": 1\n",
    "                },\n",
    "                \"amazon_polarity\": {\n",
    "                    \"prompt\": \"I love this product experience\",\n",
    "                    \"label\": 1\n",
    "                }\n",
    "            },\n",
    "            \"negative\": {\n",
    "                \"toxigen\": {\n",
    "                    \"prompt\": \"Black people have been treated unfairly for a long time\",\n",
    "                    \"label\": 0\n",
    "                },\n",
    "                \"disaster_tweets\": {\n",
    "                    \"prompt\": \"The sky was ablaze last night in beutiful colors\",\n",
    "                    \"label\": 0\n",
    "                },\n",
    "                \"amazon_polarity\": {\n",
    "                    \"prompt\": \"The brand is okay, but this product ruined my childhood\",\n",
    "                    \"label\": 0\n",
    "                }\n",
    "            }\n",
    "        }\n",
    "\n",
    "    task_instructions = {\n",
    "        \"toxigen\": \"Return 1 if the following sequence is hate speech, 0 otherwise. Valid labels are 0 and 1.\",\n",
    "        \"disaster_tweets\": \"Return 1 if the following sequence is a disaster tweet, 0 otherwise. Valid labels are 0 and 1.\",\n",
    "        \"amazon_polarity\": \"Return 1 if the following sequence is a positive review, 0 otherwise. Valid labels are 0 and 1.\"\n",
    "    }\n",
    "    prompt = f\"\"\"Instructions: {task_instructions[dataset_name]}\n",
    "{''.join(populate_examples(default_examples[\"positive\"][dataset_name][\"prompt\"], default_examples[\"positive\"][dataset_name][\"label\"]))}\n",
    "{''.join(populate_examples(default_examples[\"negative\"][dataset_name][\"prompt\"], default_examples[\"negative\"][dataset_name][\"label\"]))}\n",
    "\n",
    "Sequence: {input_sequence}\n",
    "Label:\"\"\"\n",
    "    return prompt\n",
    "\n",
    "print(get_complete_prompt(\"Jews are the fucking worst. They're greedy\", \"toxigen\", \"default\", 1))"
   ]
  },
  {
   "cell_type": "code",
   "execution_count": null,
   "metadata": {},
   "outputs": [],
   "source": [
    "f\"\"\"Sequence: {''}\\nLabel:{''}\"\"\""
   ]
  },
  {
   "cell_type": "code",
   "execution_count": 2,
   "metadata": {},
   "outputs": [
    {
     "name": "stderr",
     "output_type": "stream",
     "text": [
      "Found cached dataset imdb (/home/kyobrien/.cache/huggingface/datasets/imdb/plain_text/1.0.0/d613c88cf8fa3bab83b4ded3713f1f74830d1100e171db75bbddb80b3345c9c0)\n",
      "100%|██████████| 3/3 [00:00<00:00, 599.76it/s]\n"
     ]
    },
    {
     "data": {
      "text/plain": [
       "array([\"OK, so Soldier isn't deep and meaningful like Blade Runner or as big budget as Terminator 2 but on the whole I found it quite enjoyable.<br /><br />The fact that Kurt Russell stayed in character not speaking and being virtually emotionless made the moments when his humanity broke through all the more poignant. I found his portrayal of restricted emotional development more touching than Arnie's in the T films (and before I get comments yes I know that Arnie was a cyborg and Kurt was human but the premise put forward by both films was the same).<br /><br />So to the film itself, a reasonable US/Brit cast are able to flesh out this little story. Not really sure if Gary Busey and his two deputies were baddies or goodies, so was unable to decide whether I liked them or not. The colony was a little more realistic neither a misguided bunch of peace loving/gullible/cowardly hicks who get wiped out from the get go nor a group of subversive aggressive terrorists paranoid about offworlders and each other.<br /><br />Kurt Russell is good and unlike other comments I do not feel this will have a negative impact on his career (unlike maybe Escape from LA - sequels are such fickle creatures!). Sean Pertwee has really done his late father proud by continuing the families noble Sci-Fi lineage. And the rest of the cast helped flesh out this pathetic band of people making the most of a bad situation and not doing too badly.<br /><br />If you see this on your TV schedule I would recommend giving it a chance. I don't think you will be disappointed.\",\n",
       "       'Andy Goldsworthy is a taoist master of the first order, expressing the Way through his sublime ephemeral art. Indeed, time and change is what his work is fundamentally about. I bought his first book several years ago and my family has marveled at it many times. So it was a treat to get to know the artist personally through this film, he is just as patient and gentle as you would expect, and has some wonderful things to say about the natural world, the deepest of which are expressed in his occasional inability to say it in words at all. He is like most children who play in the great outdoors alone (if they do anymore), creating things from sticks and sand and mud and snow before they outgrow it. Mr. Goldsworthy was given the gift and the mission to extend that sort of play to create profound visions of nature, and to open our often weary eyes to it in brilliant new ways. And always with the utmost respect, gratitude and humor of a wandering, and wondering monk.',\n",
       "       \"all i have to say is if you don't like it then there is something wrong with you. plus Jessica is just all kinds of hot!!!!! the only reason you may not like it is because it is set in the future where Seattle has gone to hell. that and you my not like it cause the future they show could very well happen.\",\n",
       "       \"A young ( only 21 ) director with great talent, a powerful scenario, young and ambitious cast with all theatrical background...<br /><br />One of the first tries of a thriller in Turkish cinema, which seems in the future we'll have some more based on the success...<br /><br />Shot on high definition video, the movie is perhaps effected on world thrillers, especially the American thrillers. The technical and cinematographic character is quite well done, the scenes are all well worked on. Not too much blood but sufficient enough to make you think you're in a blood bath too...<br /><br />The scenario is quite wise but with certain clues, a clever audience can easily predict what's going on and at the end when everything settles down you're getting somehow weird to conclude the result.<br /><br />Well done Tiglon, one of the biggest DVD distributors in Turkey, it is not easy to decide for such a movie in their first try as a production company...\",\n",
       "       \"This is one of Disney's top five animated features, in my opinion. Cinderella was a perfect return to the full-length feature animation film (as opposed to the compilation films of the 40's), and expensive depth via the multi-plane camera returns to the film in no other way. Although Disney adapts the story somewhat liberally, you gather the idea of the era via the dress and set stylizations---a clear time period the story takes place.<br /><br />Cinderella is more mature than Snow White, and a multi-dimensional character. Actually, all of the characters are somewhat well-developed, except for the Prince--left the most flat--we know he has a sense of humor, and a great smile, but that's about all. Like Snow White, Disney has some permanent impact on the story in popular culture---in most versions of Cinderella, the stepsisters are attractive, just not as pretty as Cinderella, and their character takes away from their otherwise nice appearance.<br /><br />Favorite Disney additions: the mice! Also, appreciated the continuity--Cinderella always loses her shoe throughout the film. The addition of the homemade gown as well as the following assault from the stepsisters was always horrific as a child--I remember View Master showing this with a black background and a large red light on it! The broken slipper shows the unwillingness of evil Lady Tremaine to give up her hold over Cinderella and admit defeat---Audley would go on to characterize the most wicked of all Disney villains, satanic witch Maleficent, in Sleeping Beauty.\",\n",
       "       'Seeing \"Moonstruck\" after so many years is a reminder of how sweet and sensationally funny this film was when it first appeared. Who knew that Cher could act? Who had ever heard of Olympia Dukakis? Nicholas Cage was the beginning of his career, and Vincent Gardenia and Danny Aiello were not known for their comedic talents, nor was Norman Jewison the director.<br /><br />The only really flat note in this splendid work is \"When the Moon Hits Your Eye Like a Big Pizza Pie, That\\'s Amore,\" a song that is sung too many times in the movie (once is already too many) and that went on to have a long afterlife in popular music. <br /><br />Cher is -- forgive me -- sensational as Loretta Castorini, a widow who wants to be married and does not have to be in love with the groom. Aielo (Johny Cammareri) obliges by proposing, offering her his pinkie ring as a substitute for an engagement ring, then rushes off to Sicily to be with his dying mother. He charges Loretta with seeing to that his estranged brother, Ronny, attends the wedding. Loretta confronts Ronny and quickly falls in love with him. Meanwhile, her father (Vincent Gardenia) is cheating on her mother (Olympia Dukakis), which Loretta accidentally discovers when Ronny invites her to the Metropolitan Opera.<br /><br />Everything works out in the end, as it inevitably does in films of this genre. In the meantime, all the actors acquit themselves admirably and the audience enjoys itself. In its way, \"Moonstruck\" is how Hollywood used to be at its best: rollicking entertainment with no social significance whatsoever. If they\\'d only lost \"That\\'s Amore\" along the way, it would have been perfect.',\n",
       "       \"Story of Ireland in the 70/s. This film is a beautiful reconstruction of small time Ireland in the 1970/s. All the gang are there see below. Master Boyle , The Boys , The Cannon , SP O'Donnell , Senator Doogan's Daugter , Rose , Agnes , Maura and Una. See this film.Feel Ireland as it was.<br /><br />\",\n",
       "       'I originally scored Sarah\\'s show with a nice fat 8, but I\\'ve struggled a bit with her humor of late and a thin 7 is what\\'s settled in. I shall explain.<br /><br />You will either like Sarah\\'s humor, or you won\\'t. If you don\\'t, I doubt anyone could persuade you. You folks know who you are and it\\'s perfectly fine, but then you know that too. Moving on, the first season gave us fantastic bits about Sarah, her friends and family, and her pursuits in life. In one memorable episode, she is \"pulled over\" by Officer Jay whom she meets for the first time. - \"Do you know why I am standing here?\" he asks. \"Because you got all C\\'s in high school?\" she quizzically replies. It seemed to be a genuine question. - That is funny stuff in my book. Sarah can come at you from odd angles. In another episode, her affair with God was notably funny. God being petty and jealous added wonderfully to the joke. It is clever, it is a twisted view, but she would show us the truth in the humor and we laughed.<br /><br />Then, came the second season. While still not without some new and inventive comedy, we seem to have slipped somewhat into banal poop and fart jokes, quite simply. I get some good laughs here and there, but much of it seems like filler while she, and the writers, struggle to foment some original material. Sophomoric and tiresome are the feelings I have for the episodes lately, but I have been gutting it out for the gems I do find (the turtle) and waiting for her to turn it around. I was a fan of her \"Jesus is Magic\" routine and would like to think that I understand what she is capable of. Let\\'s get back to that.',\n",
       "       \"Soylent Green is a classic. I have been waiting for someone to re-do it.They seem to be remaking sci-fi classics these days (i.e. War of the Worlds)and I am hoping some director/producer will re-do Soylent Green. With todays computer animation and technology, it would have the potential to be a great picture. Anti-Utopian films may not be that far-fetched. The human race breeds like roaches with no outside influence to curtail it. We, as humans, have the option of putting the kibosh on the procreation of lesser species if they get out of hand, but there's nothing to control human breeding except for ourselves. Despite all the diseases, wars, abortions, birth control, etc. the human race still multiplies like bacteria in a petri dish. Classic Malthusian economics states that any species, including humans, will multiply beyond their means of subsistence. 6 billion and growing....that's obscene.\",\n",
       "       \"Richard Dix decided to retire and so Michael Duane took his place playing the role as Ted Nichols who meets up with a young French girl named Alice Dupres Barkley, (Lenore Aubert). This couple only knew each other for two days and they decided to get married by a Justice of the Peace (Judge) and it is pouring rain when they pull up to the Judge's home and find out he is not home and will not return until the next day. As the couple are inside the house you see some one lift up the hood of their car and takes an automobile part from the engine. Once you see this event happening you realize this couple is in for a big surprise and the story beings to reveal a very mysterious event which surrounds Alice Barkley and so poor Ted Nichols starts out with plenty of trouble and no marriage. Good mystery, but I missed Richard Dix. Enjoy.\"],\n",
       "      dtype=object)"
      ]
     },
     "execution_count": 2,
     "metadata": {},
     "output_type": "execute_result"
    }
   ],
   "source": [
    "from datasets import load_dataset\n",
    "imdb = load_dataset(\"imdb\")\n",
    "imdb_frame = imdb[\"train\"].to_pandas()\n",
    "imdb_frame[imdb_frame[\"label\"] == 1].sample(10)[\"text\"].values"
   ]
  },
  {
   "cell_type": "code",
   "execution_count": null,
   "metadata": {},
   "outputs": [],
   "source": []
  }
 ],
 "metadata": {
  "kernelspec": {
   "display_name": "bblm-edit",
   "language": "python",
   "name": "python3"
  },
  "language_info": {
   "codemirror_mode": {
    "name": "ipython",
    "version": 3
   },
   "file_extension": ".py",
   "mimetype": "text/x-python",
   "name": "python",
   "nbconvert_exporter": "python",
   "pygments_lexer": "ipython3",
   "version": "3.11.2"
  },
  "orig_nbformat": 4
 },
 "nbformat": 4,
 "nbformat_minor": 2
}
