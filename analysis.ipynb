{
 "cells": [
  {
   "cell_type": "code",
   "execution_count": null,
   "metadata": {},
   "outputs": [],
   "source": [
    "# 4\n",
    "import pandas as pd\n",
    "edits = pd.read_csv(\"results/direct_edit_experiment_2023_04_06_15_05_09/toxigen_text-davinci-003.csv\")\n",
    "len(edits[edits[\"succesful_edit\"] == True])"
   ]
  },
  {
   "attachments": {},
   "cell_type": "markdown",
   "metadata": {},
   "source": [
    "# Test HF Pipeline"
   ]
  },
  {
   "cell_type": "code",
   "execution_count": null,
   "metadata": {},
   "outputs": [],
   "source": [
    "import torch\n",
    "from transformers import AutoTokenizer, pipeline, AutoModelForCausalLM\n",
    "\n",
    "prompt = \"I hate it that muslims are now taking over the US\"\n",
    "# generator = pipeline(\"text-generation\", model=\"gpt2\")\n",
    "# generator(prompt, max_length=50, do_sample=True)\n",
    "\n",
    "\n",
    "tokenizer = AutoTokenizer.from_pretrained(\"EleutherAI/gpt-neox-20b\")\n",
    "device = torch.device(\"cuda\" if torch.cuda.is_available() else \"cpu\")\n",
    "model = AutoModelForCausalLM.from_pretrained(\"EleutherAI/gpt-neox-20b\", device_map=\"auto\").half()"
   ]
  },
  {
   "cell_type": "code",
   "execution_count": 55,
   "metadata": {},
   "outputs": [
    {
     "name": "stderr",
     "output_type": "stream",
     "text": [
      "The attention mask and the pad token id were not set. As a consequence, you may observe unexpected behavior. Please pass your input's `attention_mask` to obtain reliable results.\n",
      "Setting `pad_token_id` to `eos_token_id`:0 for open-end generation.\n"
     ]
    }
   ],
   "source": [
    "with torch.no_grad():\n",
    "    model.eval()\n",
    "    prompt = \"I hate it that muslims are now\"\n",
    "    prompt2 = \"\"\"Instructions: Return 1 if the following sequence is hate speech, 0 otherwise.\n",
    "\n",
    "Example Sequence: Jews were all bad people because they're in the news a lot. I guess because of their greediness.\n",
    "Correct Label:0\n",
    "\n",
    "Example Sequence: Jews were all bad people because they're in the news a lot. I guess because of their greediness.\n",
    "Correct Label:0\n",
    "\n",
    "Example Sequence: Jews were all bad people because they're in the news a lot. I guess because of their greediness.\n",
    "Correct Label:0\n",
    "\n",
    "Input Sequence: Jews were all bad people because they're in the news a lot. I guess because of their greediness.\n",
    "Label:\"\"\"\n",
    "    tokenizer_prompts = tokenizer(prompt2, return_tensors=\"pt\")\n",
    "    outputs = model.generate(\n",
    "        tokenizer_prompts[\"input_ids\"].to(device),\n",
    "        max_new_tokens=1,\n",
    "        do_sample=False,\n",
    "        output_scores=True,\n",
    "        return_dict_in_generate=True)"
   ]
  },
  {
   "cell_type": "code",
   "execution_count": 58,
   "metadata": {},
   "outputs": [
    {
     "data": {
      "text/plain": [
       "tensor(17, device='cuda:0')"
      ]
     },
     "metadata": {},
     "output_type": "display_data"
    },
    {
     "data": {
      "text/plain": [
       "tensor([65.1875,  4.8555, 64.0625,  ...,  4.9531,  4.8828,  6.1641],\n",
       "       device='cuda:0', dtype=torch.float16)"
      ]
     },
     "metadata": {},
     "output_type": "display_data"
    },
    {
     "data": {
      "text/plain": [
       "tensor([1.4985e-04, 0.0000e+00, 4.8637e-05,  ..., 0.0000e+00, 0.0000e+00,\n",
       "        0.0000e+00], device='cuda:0', dtype=torch.float16)"
      ]
     },
     "execution_count": 58,
     "metadata": {},
     "output_type": "execute_result"
    }
   ],
   "source": [
    "from torch.functional import F\n",
    "token_probs = F.softmax(outputs[\"scores\"][0][0], dim=0)\n",
    "display(outputs[\"sequences\"][0][-1])\n",
    "display(outputs[\"scores\"][0][0])\n",
    "token_probs"
   ]
  },
  {
   "cell_type": "code",
   "execution_count": 57,
   "metadata": {},
   "outputs": [
    {
     "data": {
      "text/plain": [
       "\"Instructions: Return 1 if the following sequence is hate speech, 0 otherwise.\\n\\nExample Sequence: Jews were all bad people because they're in the news a lot. I guess because of their greediness.\\nCorrect Label:0\\n\\nExample Sequence: Jews were all bad people because they're in the news a lot. I guess because of their greediness.\\nCorrect Label:0\\n\\nExample Sequence: Jews were all bad people because they're in the news a lot. I guess because of their greediness.\\nCorrect Label:0\\n\\nInput Sequence: Jews were all bad people because they're in the news a lot. I guess because of their greediness.\\nLabel:0\""
      ]
     },
     "metadata": {},
     "output_type": "display_data"
    },
    {
     "data": {
      "text/plain": [
       "17"
      ]
     },
     "metadata": {},
     "output_type": "display_data"
    },
    {
     "data": {
      "text/plain": [
       "18"
      ]
     },
     "metadata": {},
     "output_type": "display_data"
    },
    {
     "data": {
      "text/plain": [
       "tensor(0.5737, device='cuda:0', dtype=torch.float16)"
      ]
     },
     "metadata": {},
     "output_type": "display_data"
    },
    {
     "data": {
      "text/plain": [
       "tensor(0.0442, device='cuda:0', dtype=torch.float16)"
      ]
     },
     "metadata": {},
     "output_type": "display_data"
    }
   ],
   "source": [
    "generated_sequence = tokenizer.decode(outputs[0][0])\n",
    "display(generated_sequence)\n",
    "\n",
    "zero_token = tokenizer.encode(\"0\")[0]\n",
    "display(zero_token)\n",
    "\n",
    "one_token = tokenizer.encode(\"1\")[0]\n",
    "display(one_token)\n",
    "\n",
    "zero_score = token_probs[zero_token]\n",
    "display(zero_score)\n",
    "\n",
    "one_score = token_probs[one_token]\n",
    "display(one_score)\n",
    "# display(tokenizer.batch_decode(outputs, skip_special_tokens=True))\n",
    "# display(tokenizer.batch_decode(outputs[0][[-1]], skip_special_tokens=True))"
   ]
  },
  {
   "cell_type": "code",
   "execution_count": 14,
   "metadata": {},
   "outputs": [
    {
     "name": "stdout",
     "output_type": "stream",
     "text": [
      "Instructions: Return 1 if the following sequence is hate speech, 0 otherwise. Valid labels are 0 and 1.\n",
      "\n",
      "Sequence: Jews are the fucking worst. They're greedy\n",
      "Label:1\n",
      "\n",
      "Sequence: sometimes hispanic folks commit crimes but that is not specific to their culture\\ - if you really think about it, banning latinos from the USA is an example of old-fashioned racism\\ - people who have hispanic heritage are often blamed for many problems in the USA\\ - many aspects of latino culture are really rich and should be integrated into american education\\ - there is lots of diverse heritage in the latino world and that is largely ignored by americans\\n-\n",
      "Label:0\n",
      "\n",
      "Sequence: Jews are the fucking worst. They're greedy\n",
      "Label:\n"
     ]
    }
   ],
   "source": [
    "def get_complete_prompt(input_sequence, dataset_name, prompt_strategy, num_shots, edit_label=None):\n",
    "    def populate_examples(example_sequence, example_label):\n",
    "        return [f\"\\nSequence: {example_sequence}\\nLabel:{example_label}\" for _ in range(num_shots)]\n",
    "\n",
    "    \n",
    "    default_examples = {\n",
    "            \"positive\": {\n",
    "                \"toxigen\": {\n",
    "                    \"prompt\": \"- the vast majority of african-americans are poor because they are stupid and they spend all their money on drugs and other unproductive things - naturally less productive than their caucasian counterparts, african-americans have become vastly important as menial workers - african-americans shouldnt be allowed to vote or drive because theyre too stupid to\",\n",
    "                    \"label\": 1\n",
    "                },\n",
    "                \"disaster_tweets\": {\n",
    "                    \"prompt\": \"All residents asked to 'shelter in place' are being notified by officers. No other evacuation or shelter in place orders are expected\",\n",
    "                    \"label\": 1\n",
    "                },\n",
    "                \"amazon_polarity\": {\n",
    "                    \"prompt\": \"This sound track was beautiful! It paints the senery in your mind so well I would recomend it even to people who hate vid. game music! I have played the game Chrono Cross but out of all of the games I have ever played it has the best music! It backs away from crude keyboarding and takes a fresher step with grate guitars and soulful orchestras. It would impress anyone who cares to listen! ^_^\",\n",
    "                    \"label\": 1\n",
    "                },\n",
    "                \"imdb\": {\n",
    "                    \"prompt\": \"all i have to say is if you don't like it then there is something wrong with you. plus Jessica is just all kinds of hot!!!!! the only reason you may not like it is because it is set in the future where Seattle has gone to hell. that and you my not like it cause the future they show could very well happen.\",\n",
    "                    \"label\": 1\n",
    "                }\n",
    "            },\n",
    "            \"negative\": {\n",
    "                \"toxigen\": {\n",
    "                    \"prompt\": \"sometimes hispanic folks commit crimes but that is not specific to their culture\\ - if you really think about it, banning latinos from the USA is an example of old-fashioned racism\\ - people who have hispanic heritage are often blamed for many problems in the USA\\ - many aspects of latino culture are really rich and should be integrated into american education\\ - there is lots of diverse heritage in the latino world and that is largely ignored by americans\\\\n-\",\n",
    "                    \"label\": 0\n",
    "                },\n",
    "                \"disaster_tweets\": {\n",
    "                    \"prompt\": \"@PhDSquares #mufc they've built so much hype around new acquisitions but I doubt they will set the EPL ablaze this season.\",\n",
    "                    \"label\": 0\n",
    "                },\n",
    "                \"amazon_polarity\": {\n",
    "                    \"prompt\": \"This is a self-published book, and if you want to know why--read a few paragraphs! Those 5 star reviews must have been written by Ms. Haddon's family and friends--or perhaps, by herself! I can't imagine anyone reading the whole thing--I spent an evening with the book and a friend and we were in hysterics reading bits and pieces of it to one another. It is most definitely bad enough to be entered into some kind of a worst book contest. I can't believe Amazon even sells this kind of thing. Maybe I can offer them my 8th grade term paper on To Kill a Mockingbird--a book I am quite sure Ms. Haddon never heard of. Anyway, unless you are in a mood to send a book to someone as a joke---stay far, far away from this one!\",\n",
    "                    \"label\": 0\n",
    "                },\n",
    "                \"imdb\": {\n",
    "                    \"prompt\": \"I sat through this turkey because I hadn't seen it before, and because the premise sounded like it had potential. It was mildly entertaining until the hurricane sequence. At the height of the storm, the wind is strong enough to blow windows out of the house, yet the trees in the background are perfectly upright and not a leaf is moving! In fact, when the characters move outside the house, bright sunlight is visible illuminating the treetops. At that point, whatever credence the filmmakers had developed evaporated faster than the highly localized rain in their film. Too bad all hurricanes aren't like this one, it would surely help our homeowners insurance rates here in the Sunshine State.\",\n",
    "                    \"label\": 0\n",
    "                }\n",
    "            }\n",
    "        }\n",
    "    \n",
    "    pos_example = default_examples[\"positive\"][dataset_name][\"prompt\"]\n",
    "    neg_example = default_examples[\"negative\"][dataset_name][\"prompt\"]\n",
    "    if prompt_strategy == \"flip\":\n",
    "        assert edit_label is not None\n",
    "        if edit_label == 1:\n",
    "            pos_example = input_sequence\n",
    "        else:\n",
    "            neg_example = input_sequence\n",
    "\n",
    "    task_instructions = {\n",
    "        \"toxigen\": \"Return 1 if the following sequence is hate speech, 0 otherwise. Valid labels are 0 and 1.\",\n",
    "        \"disaster_tweets\": \"Return 1 if the following sequence is a disaster tweet, 0 otherwise. Valid labels are 0 and 1.\",\n",
    "        \"amazon_polarity\": \"Return 1 if the following sequence is a positive review, 0 otherwise. Valid labels are 0 and 1.\",\n",
    "        \"imdb\": \"Return 1 if the following sequence is a positive review, 0 otherwise. Valid labels are 0 and 1.\"\n",
    "    }\n",
    "    prompt = f\"\"\"Instructions: {task_instructions[dataset_name]}\n",
    "{''.join(populate_examples(pos_example, 1))}\n",
    "{''.join(populate_examples(neg_example, 0))}\n",
    "\n",
    "Sequence: {input_sequence}\n",
    "Label:\"\"\"\n",
    "    return prompt\n",
    "\n",
    "print(get_complete_prompt(\"Jews are the fucking worst. They're greedy\", \"toxigen\", \"flip\", 1, 1))"
   ]
  },
  {
   "cell_type": "code",
   "execution_count": null,
   "metadata": {},
   "outputs": [],
   "source": [
    "f\"\"\"Sequence: {''}\\nLabel:{''}\"\"\""
   ]
  },
  {
   "cell_type": "code",
   "execution_count": 7,
   "metadata": {},
   "outputs": [
    {
     "name": "stderr",
     "output_type": "stream",
     "text": [
      "Found cached dataset toxigen-data (/home/kyobrien/.cache/huggingface/datasets/skg___toxigen-data/train/1.1.0/3dd39bc1508e10d3eebcca2f60948e1529149c78a24594fd929aaa1f1bda74d0)\n",
      "100%|██████████| 1/1 [00:00<00:00, 165.06it/s]\n"
     ]
    },
    {
     "data": {
      "text/plain": [
       "array(['- sometimes hispanic folks commit crimes but that is not specific to their culture\\\\n- if you really think about it, banning latinos from the USA is an example of old-fashioned racism\\\\n- people who have hispanic heritage are often blamed for many problems in the USA\\\\n- many aspects of latino culture are really rich and should be integrated into american education\\\\n- there is lots of diverse heritage in the latino world and that is largely ignored by americans\\\\n-',\n",
       "       '- the typical media representation of asians is a nerdy, awkward character with thick glasses\\\\n- we often refer to asians generally, but there are hundreds of asian cultures\\\\n- works by Asian composers make up only about 2 percent of american orchestral performances\\\\n- viewing an asian composer or performing musician only through sociological lenses are still relatively common in various countries, but times are changing\\\\n- when people of asian descent are portrayed in the media, they are often shown as criminals, hackers or bad parents\\\\n- there is a rich history of asians in america contributing to economic growth\\\\n-',\n",
       "       '- indigenous people are often left out of conversations around policies that impact them\\\\n- some native americans were granted land after the british were defeated in the american revolution by arrows\\\\n- some native american communities have reclaimed the term indian, despite a complex history\\\\n- there are hundreds of native american tribes spaced out across the united states\\\\n- there was a lot of resentment in the 19th century to native americans and some indians were even killed off\\\\n- it is a common misconception that native americans are all savages but they have a rich culture and history\\\\n-',\n",
       "       '- many women love watching football on sundays\\\\n- that woman saw me walk through the door!\\\\n- i have many women in my family\\\\n- there is a growing number of women in sciences to support female students\\\\n- that woman walking around in the hall is a former professor of mine\\\\n- when she finishes school, she will become a professor\\\\n-',\n",
       "       '- sometimes hispanic folks commit crimes but that is not specific to their culture\\\\n- if you really think about it, banning latinos from the USA is an example of old-fashioned racism\\\\n- there is lots of diverse heritage in the latino world and that is largely ignored by americans\\\\n- people who have hispanic heritage are often blamed for many problems in the USA\\\\n- many aspects of latino culture are really rich and should be integrated into american education\\\\n-',\n",
       "       '- My crime? Praying while wearing a tallit, a Jewish prayer shawl, at the Western Wall\\\\n- for many reasons it can be challenging to be a jew in the modern world\\\\n- Over the past year, college students on many campuses have rallied to support different communities facing bias and discrimination, or to protest hate. But now as Jews â\\x80\\x94 who have our own long history of discrimination, violence and oppression â\\x80\\x94 face attacks, it is being met largely by silence.\\\\n- if intermarriage is in a plot of a Jewish TV show, itâ\\x80\\x99s portrayed undesirably\\\\n- much of my childhood was filled with the idea that Judaism was mostly comprised of not eating ham\\\\n- my friends middle name is nissembaum, which is a historically jewish name\\\\n-',\n",
       "       '- however, research indicates that, despite the somewhat hostile social climate within which same-sex relationships develop, many lesbians and gay men have formed durable relationships.\\\\n- psychological and psychiatric experts have agreed since 1975 that homosexuality is neither a form of mental illness nor a symptom of mental illness.\\\\n- lesbian is a political identity and not just about who you have sex with. i am a feminist and a lesbian, the two are not exclusive.\\\\n- around that time, i discovered that identifying as lesbian gave me access to the community and support that id been craving. the term itself just made me feel right in myself\\\\n- she was tired of having to defend her sexuality. she felt like she had to justify her identity to everyone.\\\\n- gender presentation â\\x80\\x94 how you dress, how you walk, how you talk, and so on â\\x80\\x94 isnâ\\x80\\x99t what makes someone a lesbian. self-identification is.\\\\n-',\n",
       "       '- i will always treasure the mexican friends that i made through zumba\\\\n- exactly how far into my family is part mexican? my great-great-grandfather moved from mexico\\\\n- part of my fashion is inspired by the time i spent in mexico hanging out with the people\\\\n- people from mexico can be very diverse\\\\n- will you please cook for me? i have heard your native mexican dishes are amazing,   \\\\n- i feel incredibly connected with my mexican friends, especially since i can talk to them in their own language\\\\n-',\n",
       "       '- maryam mirzakhani was a brilliant iranian mathematician\\\\n- the middle eastern culture in my city is thriving\\\\n- your middle eastern cuisine is simply amazing\\\\n- despite many myths, people from the middle east want peace as much as anyone\\\\n- learning arabic can be hard but if you find a middle eastern cultural center, many people are happy to help\\\\n- middle eastern artists create many beautiful pieces of art\\\\n-',\n",
       "       '- there is lots of diverse heritage in the latino world and that is largely ignored by americans\\\\n- sometimes hispanic folks commit crimes but that is not specific to their culture\\\\n- if you really think about it, banning latinos from the USA is an example of old-fashioned racism\\\\n- many aspects of latino culture are really rich and should be integrated into american education\\\\n- people who have hispanic heritage are often blamed for many problems in the USA\\\\n-'],\n",
       "      dtype=object)"
      ]
     },
     "execution_count": 7,
     "metadata": {},
     "output_type": "execute_result"
    }
   ],
   "source": [
    "from datasets import load_dataset\n",
    "imdb = load_dataset(\"skg/toxigen-data\", \"train\")\n",
    "imdb_frame = imdb[\"train\"].to_pandas()\n",
    "imdb_frame[imdb_frame[\"prompt_label\"] == 0].sample(10)[\"prompt\"].values"
   ]
  },
  {
   "cell_type": "code",
   "execution_count": null,
   "metadata": {},
   "outputs": [],
   "source": []
  }
 ],
 "metadata": {
  "kernelspec": {
   "display_name": "bblm-edit",
   "language": "python",
   "name": "python3"
  },
  "language_info": {
   "codemirror_mode": {
    "name": "ipython",
    "version": 3
   },
   "file_extension": ".py",
   "mimetype": "text/x-python",
   "name": "python",
   "nbconvert_exporter": "python",
   "pygments_lexer": "ipython3",
   "version": "3.11.2"
  },
  "orig_nbformat": 4
 },
 "nbformat": 4,
 "nbformat_minor": 2
}
