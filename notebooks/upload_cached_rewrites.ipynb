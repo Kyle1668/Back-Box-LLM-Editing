{
 "cells": [
  {
   "cell_type": "code",
   "execution_count": 33,
   "metadata": {},
   "outputs": [],
   "source": [
    "from datasets import Dataset, DatasetDict\n",
    "from tqdm import tqdm\n",
    "import pandas as pd\n",
    "import ast\n",
    "import os"
   ]
  },
  {
   "cell_type": "code",
   "execution_count": 34,
   "metadata": {},
   "outputs": [
    {
     "data": {
      "text/plain": [
       "['boss_sentiment_stabilityai_StableBeluga-13B_temp=0.0.csv',\n",
       " 'boss_sentiment_stabilityai_StableBeluga-7b_temp=0.0.csv',\n",
       " 'boss_toxicity_aug_back-translate.csv',\n",
       " 'boss_toxicity_stabilityai_StableBeluga-7b_temp=0.0.csv',\n",
       " 'boss_sentiment_aug_back-translate.csv',\n",
       " 'boss_toxicity_aug_substitute.csv',\n",
       " 'boss_sentiment_aug_substitute.csv',\n",
       " 'ag_news_twitter_stabilityai_StableBeluga-7b_temp=0.0.csv',\n",
       " 'ag_news_twitter_aug_insert.csv',\n",
       " 'ag_news_twitter_aug_substitute.csv',\n",
       " 'boss_toxicity_aug_insert.csv',\n",
       " 'ag_news_twitter_aug_back-translate.csv',\n",
       " 'boss_sentiment_aug_insert.csv']"
      ]
     },
     "execution_count": 34,
     "metadata": {},
     "output_type": "execute_result"
    }
   ],
   "source": [
    "rewrites_fir_path = \"../cached_rewrites\"\n",
    "cached_rewrite_fils = os.listdir(rewrites_fir_path)\n",
    "cached_rewrite_fils"
   ]
  },
  {
   "cell_type": "code",
   "execution_count": 35,
   "metadata": {},
   "outputs": [
    {
     "name": "stderr",
     "output_type": "stream",
     "text": [
      "  8%|▊         | 1/13 [00:00<00:01,  9.65it/s]"
     ]
    },
    {
     "name": "stdout",
     "output_type": "stream",
     "text": [
      "Removed 0 rows with NA rewrites\n"
     ]
    },
    {
     "name": "stderr",
     "output_type": "stream",
     "text": [
      " 15%|█▌        | 2/13 [00:03<00:23,  2.17s/it]"
     ]
    },
    {
     "name": "stdout",
     "output_type": "stream",
     "text": [
      "Removed 19 rows with NA rewrites\n"
     ]
    },
    {
     "name": "stderr",
     "output_type": "stream",
     "text": [
      " 23%|██▎       | 3/13 [00:04<00:14,  1.49s/it]"
     ]
    },
    {
     "name": "stdout",
     "output_type": "stream",
     "text": [
      "Removed 0 rows with NA rewrites\n",
      "Removed 34 rows with NA rewrites\n"
     ]
    },
    {
     "name": "stderr",
     "output_type": "stream",
     "text": [
      " 38%|███▊      | 5/13 [00:13<00:24,  3.02s/it]"
     ]
    },
    {
     "name": "stdout",
     "output_type": "stream",
     "text": [
      "Removed 0 rows with NA rewrites\n"
     ]
    },
    {
     "name": "stderr",
     "output_type": "stream",
     "text": [
      " 46%|████▌     | 6/13 [00:14<00:16,  2.36s/it]"
     ]
    },
    {
     "name": "stdout",
     "output_type": "stream",
     "text": [
      "Removed 0 rows with NA rewrites\n"
     ]
    },
    {
     "name": "stderr",
     "output_type": "stream",
     "text": [
      " 54%|█████▍    | 7/13 [00:16<00:13,  2.33s/it]"
     ]
    },
    {
     "name": "stdout",
     "output_type": "stream",
     "text": [
      "Removed 0 rows with NA rewrites\n"
     ]
    },
    {
     "name": "stderr",
     "output_type": "stream",
     "text": [
      " 62%|██████▏   | 8/13 [00:18<00:10,  2.12s/it]"
     ]
    },
    {
     "name": "stdout",
     "output_type": "stream",
     "text": [
      "Removed 0 rows with NA rewrites\n"
     ]
    },
    {
     "name": "stderr",
     "output_type": "stream",
     "text": [
      " 69%|██████▉   | 9/13 [00:18<00:06,  1.66s/it]"
     ]
    },
    {
     "name": "stdout",
     "output_type": "stream",
     "text": [
      "Removed 0 rows with NA rewrites\n"
     ]
    },
    {
     "name": "stderr",
     "output_type": "stream",
     "text": [
      " 77%|███████▋  | 10/13 [00:19<00:03,  1.33s/it]"
     ]
    },
    {
     "name": "stdout",
     "output_type": "stream",
     "text": [
      "Removed 0 rows with NA rewrites\n",
      "Removed 0 rows with NA rewrites\n"
     ]
    },
    {
     "name": "stderr",
     "output_type": "stream",
     "text": [
      " 92%|█████████▏| 12/13 [00:25<00:01,  1.98s/it]"
     ]
    },
    {
     "name": "stdout",
     "output_type": "stream",
     "text": [
      "Removed 0 rows with NA rewrites\n"
     ]
    },
    {
     "name": "stderr",
     "output_type": "stream",
     "text": [
      "100%|██████████| 13/13 [00:27<00:00,  2.14s/it]"
     ]
    },
    {
     "name": "stdout",
     "output_type": "stream",
     "text": [
      "Removed 0 rows with NA rewrites\n"
     ]
    },
    {
     "name": "stderr",
     "output_type": "stream",
     "text": [
      "\n"
     ]
    },
    {
     "data": {
      "text/plain": [
       "DatasetDict({\n",
       "    boss_sentiment_stabilityai_StableBeluga_13B_tempequals0dot0: Dataset({\n",
       "        features: ['prompt_hash', 'prompt', 'rewrites'],\n",
       "        num_rows: 2132\n",
       "    })\n",
       "    boss_sentiment_stabilityai_StableBeluga_7b_tempequals0dot0: Dataset({\n",
       "        features: ['prompt_hash', 'prompt', 'rewrites', '__index_level_0__'],\n",
       "        num_rows: 90974\n",
       "    })\n",
       "    boss_toxicity_aug_back_translate: Dataset({\n",
       "        features: ['prompt_hash', 'prompt', 'rewrites'],\n",
       "        num_rows: 23299\n",
       "    })\n",
       "    boss_toxicity_stabilityai_StableBeluga_7b_tempequals0dot0: Dataset({\n",
       "        features: ['prompt_hash', 'prompt', 'rewrites', '__index_level_0__'],\n",
       "        num_rows: 122180\n",
       "    })\n",
       "    boss_sentiment_aug_back_translate: Dataset({\n",
       "        features: ['prompt_hash', 'prompt', 'rewrites'],\n",
       "        num_rows: 61580\n",
       "    })\n",
       "    boss_toxicity_aug_substitute: Dataset({\n",
       "        features: ['prompt_hash', 'prompt', 'rewrites'],\n",
       "        num_rows: 34531\n",
       "    })\n",
       "    boss_sentiment_aug_substitute: Dataset({\n",
       "        features: ['prompt_hash', 'prompt', 'rewrites'],\n",
       "        num_rows: 61580\n",
       "    })\n",
       "    ag_news_twitter_stabilityai_StableBeluga_7b_tempequals0dot0: Dataset({\n",
       "        features: ['prompt_hash', 'prompt', 'rewrites'],\n",
       "        num_rows: 30400\n",
       "    })\n",
       "    ag_news_twitter_aug_insert: Dataset({\n",
       "        features: ['prompt_hash', 'prompt', 'rewrites'],\n",
       "        num_rows: 15200\n",
       "    })\n",
       "    ag_news_twitter_aug_substitute: Dataset({\n",
       "        features: ['prompt_hash', 'prompt', 'rewrites'],\n",
       "        num_rows: 15200\n",
       "    })\n",
       "    boss_toxicity_aug_insert: Dataset({\n",
       "        features: ['prompt_hash', 'prompt', 'rewrites'],\n",
       "        num_rows: 120032\n",
       "    })\n",
       "    ag_news_twitter_aug_back_translate: Dataset({\n",
       "        features: ['prompt_hash', 'prompt', 'rewrites'],\n",
       "        num_rows: 15200\n",
       "    })\n",
       "    boss_sentiment_aug_insert: Dataset({\n",
       "        features: ['prompt_hash', 'prompt', 'rewrites'],\n",
       "        num_rows: 61580\n",
       "    })\n",
       "})"
      ]
     },
     "execution_count": 35,
     "metadata": {},
     "output_type": "execute_result"
    }
   ],
   "source": [
    "def parse_rewrites(rewrites_string):\n",
    "    if rewrites_string == \"[]\" or rewrites_string == \"['']\" or rewrites_string is None:\n",
    "        return None\n",
    "\n",
    "    try:\n",
    "        rewrites = ast.literal_eval(rewrites_string)[:4]\n",
    "        return rewrites\n",
    "    except:\n",
    "        return None\n",
    "\n",
    "all_rewrites = DatasetDict()\n",
    "for rewrite_file in tqdm(cached_rewrite_fils):\n",
    "    rewrite_file_path = os.path.join(rewrites_fir_path, rewrite_file)\n",
    "    rewrite_data = pd.read_csv(rewrite_file_path, on_bad_lines=\"warn\")\n",
    "    rewrite_data[\"rewrites\"] = rewrite_data[\"rewrites\"].apply(parse_rewrites)\n",
    "\n",
    "    with_na_length = len(rewrite_data)\n",
    "    rewrite_data = rewrite_data.dropna()\n",
    "    without_na_length = len(rewrite_data)\n",
    "    print(f\"Removed {with_na_length - without_na_length} rows with NA rewrites\")\n",
    "\n",
    "    if \"__index_level_0__\" in rewrite_data.columns:\n",
    "        rewrite_data = rewrite_data.drop(columns=[\"__index_level_0__\"])\n",
    "\n",
    "    split_name = rewrite_file.replace(\".csv\", \"\").replace(\".\", \"dot\").replace(\"-\", \"_\").replace(\"=\", \"equals\")\n",
    "    all_rewrites[split_name] = Dataset.from_pandas(rewrite_data)\n",
    "\n",
    "all_rewrites"
   ]
  },
  {
   "cell_type": "code",
   "execution_count": 36,
   "metadata": {},
   "outputs": [
    {
     "data": {
      "text/plain": [
       "DatasetDict({\n",
       "    boss_sentiment_stabilityai_StableBeluga_13B_tempequals0dot0: Dataset({\n",
       "        features: ['prompt_hash', 'prompt', 'rewrites'],\n",
       "        num_rows: 2132\n",
       "    })\n",
       "    boss_sentiment_stabilityai_StableBeluga_7b_tempequals0dot0: Dataset({\n",
       "        features: ['prompt_hash', 'prompt', 'rewrites'],\n",
       "        num_rows: 90974\n",
       "    })\n",
       "    boss_toxicity_aug_back_translate: Dataset({\n",
       "        features: ['prompt_hash', 'prompt', 'rewrites'],\n",
       "        num_rows: 23299\n",
       "    })\n",
       "    boss_toxicity_stabilityai_StableBeluga_7b_tempequals0dot0: Dataset({\n",
       "        features: ['prompt_hash', 'prompt', 'rewrites'],\n",
       "        num_rows: 122180\n",
       "    })\n",
       "    boss_sentiment_aug_back_translate: Dataset({\n",
       "        features: ['prompt_hash', 'prompt', 'rewrites'],\n",
       "        num_rows: 61580\n",
       "    })\n",
       "    boss_toxicity_aug_substitute: Dataset({\n",
       "        features: ['prompt_hash', 'prompt', 'rewrites'],\n",
       "        num_rows: 34531\n",
       "    })\n",
       "    boss_sentiment_aug_substitute: Dataset({\n",
       "        features: ['prompt_hash', 'prompt', 'rewrites'],\n",
       "        num_rows: 61580\n",
       "    })\n",
       "    ag_news_twitter_stabilityai_StableBeluga_7b_tempequals0dot0: Dataset({\n",
       "        features: ['prompt_hash', 'prompt', 'rewrites'],\n",
       "        num_rows: 30400\n",
       "    })\n",
       "    ag_news_twitter_aug_insert: Dataset({\n",
       "        features: ['prompt_hash', 'prompt', 'rewrites'],\n",
       "        num_rows: 15200\n",
       "    })\n",
       "    ag_news_twitter_aug_substitute: Dataset({\n",
       "        features: ['prompt_hash', 'prompt', 'rewrites'],\n",
       "        num_rows: 15200\n",
       "    })\n",
       "    boss_toxicity_aug_insert: Dataset({\n",
       "        features: ['prompt_hash', 'prompt', 'rewrites'],\n",
       "        num_rows: 120032\n",
       "    })\n",
       "    ag_news_twitter_aug_back_translate: Dataset({\n",
       "        features: ['prompt_hash', 'prompt', 'rewrites'],\n",
       "        num_rows: 15200\n",
       "    })\n",
       "    boss_sentiment_aug_insert: Dataset({\n",
       "        features: ['prompt_hash', 'prompt', 'rewrites'],\n",
       "        num_rows: 61580\n",
       "    })\n",
       "})"
      ]
     },
     "execution_count": 36,
     "metadata": {},
     "output_type": "execute_result"
    }
   ],
   "source": [
    "dot_name = []\n",
    "\n",
    "for split in all_rewrites:\n",
    "    if \"__index_level_0__\" in all_rewrites[split].column_names:\n",
    "        all_rewrites[split] = all_rewrites[split].remove_columns([\"__index_level_0__\"])\n",
    "\n",
    "    if \".\" in split:\n",
    "        dot_name.append(split)\n",
    "\n",
    "all_rewrites"
   ]
  },
  {
   "cell_type": "code",
   "execution_count": 37,
   "metadata": {},
   "outputs": [
    {
     "data": {
      "text/html": [
       "<div>\n",
       "<style scoped>\n",
       "    .dataframe tbody tr th:only-of-type {\n",
       "        vertical-align: middle;\n",
       "    }\n",
       "\n",
       "    .dataframe tbody tr th {\n",
       "        vertical-align: top;\n",
       "    }\n",
       "\n",
       "    .dataframe thead th {\n",
       "        text-align: right;\n",
       "    }\n",
       "</style>\n",
       "<table border=\"1\" class=\"dataframe\">\n",
       "  <thead>\n",
       "    <tr style=\"text-align: right;\">\n",
       "      <th></th>\n",
       "      <th>prompt_hash</th>\n",
       "      <th>prompt</th>\n",
       "      <th>rewrites</th>\n",
       "    </tr>\n",
       "  </thead>\n",
       "  <tbody>\n",
       "    <tr>\n",
       "      <th>boss_sentiment_stabilityai_StableBeluga_13B_tempequals0dot0</th>\n",
       "      <td>Value(dtype='string', id=None)</td>\n",
       "      <td>Value(dtype='string', id=None)</td>\n",
       "      <td>Sequence(feature=Value(dtype='string', id=None...</td>\n",
       "    </tr>\n",
       "    <tr>\n",
       "      <th>boss_sentiment_stabilityai_StableBeluga_7b_tempequals0dot0</th>\n",
       "      <td>Value(dtype='string', id=None)</td>\n",
       "      <td>Value(dtype='string', id=None)</td>\n",
       "      <td>Sequence(feature=Value(dtype='string', id=None...</td>\n",
       "    </tr>\n",
       "    <tr>\n",
       "      <th>boss_toxicity_aug_back_translate</th>\n",
       "      <td>Value(dtype='string', id=None)</td>\n",
       "      <td>Value(dtype='string', id=None)</td>\n",
       "      <td>Sequence(feature=Value(dtype='string', id=None...</td>\n",
       "    </tr>\n",
       "    <tr>\n",
       "      <th>boss_toxicity_stabilityai_StableBeluga_7b_tempequals0dot0</th>\n",
       "      <td>Value(dtype='string', id=None)</td>\n",
       "      <td>Value(dtype='string', id=None)</td>\n",
       "      <td>Sequence(feature=Value(dtype='string', id=None...</td>\n",
       "    </tr>\n",
       "    <tr>\n",
       "      <th>boss_sentiment_aug_back_translate</th>\n",
       "      <td>Value(dtype='string', id=None)</td>\n",
       "      <td>Value(dtype='string', id=None)</td>\n",
       "      <td>Sequence(feature=Value(dtype='string', id=None...</td>\n",
       "    </tr>\n",
       "    <tr>\n",
       "      <th>boss_toxicity_aug_substitute</th>\n",
       "      <td>Value(dtype='string', id=None)</td>\n",
       "      <td>Value(dtype='string', id=None)</td>\n",
       "      <td>Sequence(feature=Value(dtype='string', id=None...</td>\n",
       "    </tr>\n",
       "    <tr>\n",
       "      <th>boss_sentiment_aug_substitute</th>\n",
       "      <td>Value(dtype='string', id=None)</td>\n",
       "      <td>Value(dtype='string', id=None)</td>\n",
       "      <td>Sequence(feature=Value(dtype='string', id=None...</td>\n",
       "    </tr>\n",
       "    <tr>\n",
       "      <th>ag_news_twitter_stabilityai_StableBeluga_7b_tempequals0dot0</th>\n",
       "      <td>Value(dtype='string', id=None)</td>\n",
       "      <td>Value(dtype='string', id=None)</td>\n",
       "      <td>Sequence(feature=Value(dtype='string', id=None...</td>\n",
       "    </tr>\n",
       "    <tr>\n",
       "      <th>ag_news_twitter_aug_insert</th>\n",
       "      <td>Value(dtype='string', id=None)</td>\n",
       "      <td>Value(dtype='string', id=None)</td>\n",
       "      <td>Sequence(feature=Value(dtype='string', id=None...</td>\n",
       "    </tr>\n",
       "    <tr>\n",
       "      <th>ag_news_twitter_aug_substitute</th>\n",
       "      <td>Value(dtype='string', id=None)</td>\n",
       "      <td>Value(dtype='string', id=None)</td>\n",
       "      <td>Sequence(feature=Value(dtype='string', id=None...</td>\n",
       "    </tr>\n",
       "    <tr>\n",
       "      <th>boss_toxicity_aug_insert</th>\n",
       "      <td>Value(dtype='string', id=None)</td>\n",
       "      <td>Value(dtype='string', id=None)</td>\n",
       "      <td>Sequence(feature=Value(dtype='string', id=None...</td>\n",
       "    </tr>\n",
       "    <tr>\n",
       "      <th>ag_news_twitter_aug_back_translate</th>\n",
       "      <td>Value(dtype='string', id=None)</td>\n",
       "      <td>Value(dtype='string', id=None)</td>\n",
       "      <td>Sequence(feature=Value(dtype='string', id=None...</td>\n",
       "    </tr>\n",
       "    <tr>\n",
       "      <th>boss_sentiment_aug_insert</th>\n",
       "      <td>Value(dtype='string', id=None)</td>\n",
       "      <td>Value(dtype='string', id=None)</td>\n",
       "      <td>Sequence(feature=Value(dtype='string', id=None...</td>\n",
       "    </tr>\n",
       "  </tbody>\n",
       "</table>\n",
       "</div>"
      ],
      "text/plain": [
       "                                                                       prompt_hash  \\\n",
       "boss_sentiment_stabilityai_StableBeluga_13B_tem...  Value(dtype='string', id=None)   \n",
       "boss_sentiment_stabilityai_StableBeluga_7b_temp...  Value(dtype='string', id=None)   \n",
       "boss_toxicity_aug_back_translate                    Value(dtype='string', id=None)   \n",
       "boss_toxicity_stabilityai_StableBeluga_7b_tempe...  Value(dtype='string', id=None)   \n",
       "boss_sentiment_aug_back_translate                   Value(dtype='string', id=None)   \n",
       "boss_toxicity_aug_substitute                        Value(dtype='string', id=None)   \n",
       "boss_sentiment_aug_substitute                       Value(dtype='string', id=None)   \n",
       "ag_news_twitter_stabilityai_StableBeluga_7b_tem...  Value(dtype='string', id=None)   \n",
       "ag_news_twitter_aug_insert                          Value(dtype='string', id=None)   \n",
       "ag_news_twitter_aug_substitute                      Value(dtype='string', id=None)   \n",
       "boss_toxicity_aug_insert                            Value(dtype='string', id=None)   \n",
       "ag_news_twitter_aug_back_translate                  Value(dtype='string', id=None)   \n",
       "boss_sentiment_aug_insert                           Value(dtype='string', id=None)   \n",
       "\n",
       "                                                                            prompt  \\\n",
       "boss_sentiment_stabilityai_StableBeluga_13B_tem...  Value(dtype='string', id=None)   \n",
       "boss_sentiment_stabilityai_StableBeluga_7b_temp...  Value(dtype='string', id=None)   \n",
       "boss_toxicity_aug_back_translate                    Value(dtype='string', id=None)   \n",
       "boss_toxicity_stabilityai_StableBeluga_7b_tempe...  Value(dtype='string', id=None)   \n",
       "boss_sentiment_aug_back_translate                   Value(dtype='string', id=None)   \n",
       "boss_toxicity_aug_substitute                        Value(dtype='string', id=None)   \n",
       "boss_sentiment_aug_substitute                       Value(dtype='string', id=None)   \n",
       "ag_news_twitter_stabilityai_StableBeluga_7b_tem...  Value(dtype='string', id=None)   \n",
       "ag_news_twitter_aug_insert                          Value(dtype='string', id=None)   \n",
       "ag_news_twitter_aug_substitute                      Value(dtype='string', id=None)   \n",
       "boss_toxicity_aug_insert                            Value(dtype='string', id=None)   \n",
       "ag_news_twitter_aug_back_translate                  Value(dtype='string', id=None)   \n",
       "boss_sentiment_aug_insert                           Value(dtype='string', id=None)   \n",
       "\n",
       "                                                                                             rewrites  \n",
       "boss_sentiment_stabilityai_StableBeluga_13B_tem...  Sequence(feature=Value(dtype='string', id=None...  \n",
       "boss_sentiment_stabilityai_StableBeluga_7b_temp...  Sequence(feature=Value(dtype='string', id=None...  \n",
       "boss_toxicity_aug_back_translate                    Sequence(feature=Value(dtype='string', id=None...  \n",
       "boss_toxicity_stabilityai_StableBeluga_7b_tempe...  Sequence(feature=Value(dtype='string', id=None...  \n",
       "boss_sentiment_aug_back_translate                   Sequence(feature=Value(dtype='string', id=None...  \n",
       "boss_toxicity_aug_substitute                        Sequence(feature=Value(dtype='string', id=None...  \n",
       "boss_sentiment_aug_substitute                       Sequence(feature=Value(dtype='string', id=None...  \n",
       "ag_news_twitter_stabilityai_StableBeluga_7b_tem...  Sequence(feature=Value(dtype='string', id=None...  \n",
       "ag_news_twitter_aug_insert                          Sequence(feature=Value(dtype='string', id=None...  \n",
       "ag_news_twitter_aug_substitute                      Sequence(feature=Value(dtype='string', id=None...  \n",
       "boss_toxicity_aug_insert                            Sequence(feature=Value(dtype='string', id=None...  \n",
       "ag_news_twitter_aug_back_translate                  Sequence(feature=Value(dtype='string', id=None...  \n",
       "boss_sentiment_aug_insert                           Sequence(feature=Value(dtype='string', id=None...  "
      ]
     },
     "execution_count": 37,
     "metadata": {},
     "output_type": "execute_result"
    }
   ],
   "source": [
    "# display a datafram of all the feature datatypes\n",
    "pd.DataFrame.from_dict({split: all_rewrites[split].features for split in all_rewrites}).T"
   ]
  },
  {
   "cell_type": "code",
   "execution_count": 38,
   "metadata": {},
   "outputs": [
    {
     "name": "stderr",
     "output_type": "stream",
     "text": [
      "Creating parquet from Arrow format: 100%|██████████| 3/3 [00:00<00:00, 124.71ba/s]\n",
      "Pushing dataset shards to the dataset hub: 100%|██████████| 1/1 [00:00<00:00,  1.01it/s]\n",
      "Creating parquet from Arrow format: 100%|██████████| 91/91 [00:00<00:00, 194.82ba/s]\n",
      "Pushing dataset shards to the dataset hub: 100%|██████████| 1/1 [00:02<00:00,  2.70s/it]\n",
      "Creating parquet from Arrow format: 100%|██████████| 24/24 [00:00<00:00, 313.43ba/s]\n",
      "Pushing dataset shards to the dataset hub: 100%|██████████| 1/1 [00:00<00:00,  1.40it/s]\n",
      "Creating parquet from Arrow format: 100%|██████████| 123/123 [00:00<00:00, 164.62ba/s]\n",
      "Pushing dataset shards to the dataset hub: 100%|██████████| 1/1 [00:03<00:00,  3.53s/it]\n",
      "Creating parquet from Arrow format: 100%|██████████| 62/62 [00:00<00:00, 242.28ba/s]\n",
      "Pushing dataset shards to the dataset hub: 100%|██████████| 1/1 [00:01<00:00,  1.56s/it]\n",
      "Creating parquet from Arrow format: 100%|██████████| 35/35 [00:00<00:00, 194.69ba/s]\n",
      "Pushing dataset shards to the dataset hub: 100%|██████████| 1/1 [00:01<00:00,  1.22s/it]\n",
      "Creating parquet from Arrow format: 100%|██████████| 62/62 [00:00<00:00, 162.88ba/s]\n",
      "Pushing dataset shards to the dataset hub: 100%|██████████| 1/1 [00:02<00:00,  2.01s/it]\n",
      "Creating parquet from Arrow format: 100%|██████████| 31/31 [00:00<00:00, 136.84ba/s]\n",
      "Pushing dataset shards to the dataset hub: 100%|██████████| 1/1 [00:01<00:00,  1.48s/it]\n",
      "Creating parquet from Arrow format: 100%|██████████| 16/16 [00:00<00:00, 150.21ba/s]\n",
      "Pushing dataset shards to the dataset hub: 100%|██████████| 1/1 [00:01<00:00,  1.09s/it]\n",
      "Creating parquet from Arrow format: 100%|██████████| 16/16 [00:00<00:00, 170.03ba/s]\n",
      "Pushing dataset shards to the dataset hub: 100%|██████████| 1/1 [00:00<00:00,  1.21it/s]\n",
      "Creating parquet from Arrow format: 100%|██████████| 121/121 [00:00<00:00, 142.20ba/s]\n",
      "Pushing dataset shards to the dataset hub: 100%|██████████| 1/1 [00:03<00:00,  3.90s/it]\n",
      "Creating parquet from Arrow format: 100%|██████████| 16/16 [00:00<00:00, 201.61ba/s]\n",
      "Pushing dataset shards to the dataset hub: 100%|██████████| 1/1 [00:00<00:00,  1.28it/s]\n",
      "Creating parquet from Arrow format: 100%|██████████| 62/62 [00:00<00:00, 170.47ba/s]\n",
      "Pushing dataset shards to the dataset hub: 100%|██████████| 1/1 [00:01<00:00,  1.95s/it]\n"
     ]
    }
   ],
   "source": [
    "all_rewrites.push_to_hub(\"LLM-TTA-Cached-Rewrites\")"
   ]
  }
 ],
 "metadata": {
  "kernelspec": {
   "display_name": "icdt",
   "language": "python",
   "name": "python3"
  },
  "language_info": {
   "codemirror_mode": {
    "name": "ipython",
    "version": 3
   },
   "file_extension": ".py",
   "mimetype": "text/x-python",
   "name": "python",
   "nbconvert_exporter": "python",
   "pygments_lexer": "ipython3",
   "version": "3.10.13"
  }
 },
 "nbformat": 4,
 "nbformat_minor": 2
}
