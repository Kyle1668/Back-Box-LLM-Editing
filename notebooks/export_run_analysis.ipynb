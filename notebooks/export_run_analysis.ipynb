{
 "cells": [
  {
   "cell_type": "code",
   "execution_count": 1,
   "metadata": {},
   "outputs": [
    {
     "name": "stderr",
     "output_type": "stream",
     "text": [
      "/home/kyobrien/conda/envs/eval-aug/lib/python3.10/site-packages/tqdm/auto.py:21: TqdmWarning: IProgress not found. Please update jupyter and ipywidgets. See https://ipywidgets.readthedocs.io/en/stable/user_install.html\n",
      "  from .autonotebook import tqdm as notebook_tqdm\n"
     ]
    }
   ],
   "source": [
    "from datasets import Dataset, DatasetDict\n",
    "from tqdm import tqdm\n",
    "import pandas as pd\n",
    "import json\n",
    "import wandb\n",
    "import os"
   ]
  },
  {
   "cell_type": "code",
   "execution_count": 16,
   "metadata": {},
   "outputs": [
    {
     "name": "stdout",
     "output_type": "stream",
     "text": [
      "{\n",
      "    \"BOSS_Sentiment_ID_BERT_Insert\": \"\",\n",
      "    \"BOSS_Sentiment_ID_BERT_Substitute\": \"\",\n",
      "    \"BOSS_Sentiment_ID_BERT_Translate\": \"\",\n",
      "    \"BOSS_Sentiment_ID_BERT_Paraphrase\": \"\",\n",
      "    \"BOSS_Sentiment_ID_BERT_ICR\": \"run-yanx1dus-validation_stabilityaiStableBeluga7b_random_16_Kyle1668bosssentimentbertbaseuncased_style_logs:v0\",\n",
      "    \"BOSS_Sentiment_ID_T5_Insert\": \"\",\n",
      "    \"BOSS_Sentiment_ID_T5_Substitute\": \"\",\n",
      "    \"BOSS_Sentiment_ID_T5_Translate\": \"\",\n",
      "    \"BOSS_Sentiment_ID_T5_Paraphrase\": \"\",\n",
      "    \"BOSS_Sentiment_ID_T5_ICR\": \"\",\n",
      "    \"BOSS_Sentiment_ID_Falcon_Insert\": \"\",\n",
      "    \"BOSS_Sentiment_ID_Falcon_Substitute\": \"\",\n",
      "    \"BOSS_Sentiment_ID_Falcon_Translate\": \"\",\n",
      "    \"BOSS_Sentiment_ID_Falcon_Paraphrase\": \"\",\n",
      "    \"BOSS_Sentiment_ID_Falcon_ICR\": \"\",\n",
      "    \"BOSS_Sentiment_SST-5_BERT_Insert\": \"\",\n",
      "    \"BOSS_Sentiment_SST-5_BERT_Substitute\": \"\",\n",
      "    \"BOSS_Sentiment_SST-5_BERT_Translate\": \"\",\n",
      "    \"BOSS_Sentiment_SST-5_BERT_Paraphrase\": \"\",\n",
      "    \"BOSS_Sentiment_SST-5_BERT_ICR\": \"\",\n",
      "    \"BOSS_Sentiment_SST-5_T5_Insert\": \"\",\n",
      "    \"BOSS_Sentiment_SST-5_T5_Substitute\": \"\",\n",
      "    \"BOSS_Sentiment_SST-5_T5_Translate\": \"\",\n",
      "    \"BOSS_Sentiment_SST-5_T5_Paraphrase\": \"\",\n",
      "    \"BOSS_Sentiment_SST-5_T5_ICR\": \"\",\n",
      "    \"BOSS_Sentiment_SST-5_Falcon_Insert\": \"\",\n",
      "    \"BOSS_Sentiment_SST-5_Falcon_Substitute\": \"\",\n",
      "    \"BOSS_Sentiment_SST-5_Falcon_Translate\": \"\",\n",
      "    \"BOSS_Sentiment_SST-5_Falcon_Paraphrase\": \"\",\n",
      "    \"BOSS_Sentiment_SST-5_Falcon_ICR\": \"\",\n",
      "    \"BOSS_Sentiment_SemEval_BERT_Insert\": \"\",\n",
      "    \"BOSS_Sentiment_SemEval_BERT_Substitute\": \"\",\n",
      "    \"BOSS_Sentiment_SemEval_BERT_Translate\": \"\",\n",
      "    \"BOSS_Sentiment_SemEval_BERT_Paraphrase\": \"\",\n",
      "    \"BOSS_Sentiment_SemEval_BERT_ICR\": \"\",\n",
      "    \"BOSS_Sentiment_SemEval_T5_Insert\": \"\",\n",
      "    \"BOSS_Sentiment_SemEval_T5_Substitute\": \"\",\n",
      "    \"BOSS_Sentiment_SemEval_T5_Translate\": \"\",\n",
      "    \"BOSS_Sentiment_SemEval_T5_Paraphrase\": \"\",\n",
      "    \"BOSS_Sentiment_SemEval_T5_ICR\": \"\",\n",
      "    \"BOSS_Sentiment_SemEval_Falcon_Insert\": \"\",\n",
      "    \"BOSS_Sentiment_SemEval_Falcon_Substitute\": \"\",\n",
      "    \"BOSS_Sentiment_SemEval_Falcon_Translate\": \"\",\n",
      "    \"BOSS_Sentiment_SemEval_Falcon_Paraphrase\": \"\",\n",
      "    \"BOSS_Sentiment_SemEval_Falcon_ICR\": \"\",\n",
      "    \"BOSS_Sentiment_Dynasent_BERT_Insert\": \"\",\n",
      "    \"BOSS_Sentiment_Dynasent_BERT_Substitute\": \"\",\n",
      "    \"BOSS_Sentiment_Dynasent_BERT_Translate\": \"\",\n",
      "    \"BOSS_Sentiment_Dynasent_BERT_Paraphrase\": \"\",\n",
      "    \"BOSS_Sentiment_Dynasent_BERT_ICR\": \"\",\n",
      "    \"BOSS_Sentiment_Dynasent_T5_Insert\": \"\",\n",
      "    \"BOSS_Sentiment_Dynasent_T5_Substitute\": \"\",\n",
      "    \"BOSS_Sentiment_Dynasent_T5_Translate\": \"\",\n",
      "    \"BOSS_Sentiment_Dynasent_T5_Paraphrase\": \"\",\n",
      "    \"BOSS_Sentiment_Dynasent_T5_ICR\": \"\",\n",
      "    \"BOSS_Sentiment_Dynasent_Falcon_Insert\": \"\",\n",
      "    \"BOSS_Sentiment_Dynasent_Falcon_Substitute\": \"\",\n",
      "    \"BOSS_Sentiment_Dynasent_Falcon_Translate\": \"\",\n",
      "    \"BOSS_Sentiment_Dynasent_Falcon_Paraphrase\": \"\",\n",
      "    \"BOSS_Sentiment_Dynasent_Falcon_ICR\": \"\",\n",
      "    \"BOSS_Toxicity_ID_BERT_Insert\": \"\",\n",
      "    \"BOSS_Toxicity_ID_BERT_Substitute\": \"\",\n",
      "    \"BOSS_Toxicity_ID_BERT_Translate\": \"\",\n",
      "    \"BOSS_Toxicity_ID_BERT_Paraphrase\": \"\",\n",
      "    \"BOSS_Toxicity_ID_BERT_ICR\": \"\",\n",
      "    \"BOSS_Toxicity_ID_T5_Insert\": \"\",\n",
      "    \"BOSS_Toxicity_ID_T5_Substitute\": \"\",\n",
      "    \"BOSS_Toxicity_ID_T5_Translate\": \"\",\n",
      "    \"BOSS_Toxicity_ID_T5_Paraphrase\": \"\",\n",
      "    \"BOSS_Toxicity_ID_T5_ICR\": \"\",\n",
      "    \"BOSS_Toxicity_ID_Falcon_Insert\": \"\",\n",
      "    \"BOSS_Toxicity_ID_Falcon_Substitute\": \"\",\n",
      "    \"BOSS_Toxicity_ID_Falcon_Translate\": \"\",\n",
      "    \"BOSS_Toxicity_ID_Falcon_Paraphrase\": \"\",\n",
      "    \"BOSS_Toxicity_ID_Falcon_ICR\": \"\",\n",
      "    \"BOSS_Toxicity_Toxigen_BERT_Insert\": \"\",\n",
      "    \"BOSS_Toxicity_Toxigen_BERT_Substitute\": \"\",\n",
      "    \"BOSS_Toxicity_Toxigen_BERT_Translate\": \"\",\n",
      "    \"BOSS_Toxicity_Toxigen_BERT_Paraphrase\": \"\",\n",
      "    \"BOSS_Toxicity_Toxigen_BERT_ICR\": \"\",\n",
      "    \"BOSS_Toxicity_Toxigen_T5_Insert\": \"\",\n",
      "    \"BOSS_Toxicity_Toxigen_T5_Substitute\": \"\",\n",
      "    \"BOSS_Toxicity_Toxigen_T5_Translate\": \"\",\n",
      "    \"BOSS_Toxicity_Toxigen_T5_Paraphrase\": \"\",\n",
      "    \"BOSS_Toxicity_Toxigen_T5_ICR\": \"\",\n",
      "    \"BOSS_Toxicity_Toxigen_Falcon_Insert\": \"\",\n",
      "    \"BOSS_Toxicity_Toxigen_Falcon_Substitute\": \"\",\n",
      "    \"BOSS_Toxicity_Toxigen_Falcon_Translate\": \"\",\n",
      "    \"BOSS_Toxicity_Toxigen_Falcon_Paraphrase\": \"\",\n",
      "    \"BOSS_Toxicity_Toxigen_Falcon_ICR\": \"\",\n",
      "    \"BOSS_Toxicity_ImplicitHate_BERT_Insert\": \"\",\n",
      "    \"BOSS_Toxicity_ImplicitHate_BERT_Substitute\": \"\",\n",
      "    \"BOSS_Toxicity_ImplicitHate_BERT_Translate\": \"\",\n",
      "    \"BOSS_Toxicity_ImplicitHate_BERT_Paraphrase\": \"\",\n",
      "    \"BOSS_Toxicity_ImplicitHate_BERT_ICR\": \"\",\n",
      "    \"BOSS_Toxicity_ImplicitHate_T5_Insert\": \"\",\n",
      "    \"BOSS_Toxicity_ImplicitHate_T5_Substitute\": \"\",\n",
      "    \"BOSS_Toxicity_ImplicitHate_T5_Translate\": \"\",\n",
      "    \"BOSS_Toxicity_ImplicitHate_T5_Paraphrase\": \"\",\n",
      "    \"BOSS_Toxicity_ImplicitHate_T5_ICR\": \"\",\n",
      "    \"BOSS_Toxicity_ImplicitHate_Falcon_Insert\": \"\",\n",
      "    \"BOSS_Toxicity_ImplicitHate_Falcon_Substitute\": \"\",\n",
      "    \"BOSS_Toxicity_ImplicitHate_Falcon_Translate\": \"\",\n",
      "    \"BOSS_Toxicity_ImplicitHate_Falcon_Paraphrase\": \"\",\n",
      "    \"BOSS_Toxicity_ImplicitHate_Falcon_ICR\": \"\",\n",
      "    \"BOSS_Toxicity_AdvCivil_BERT_Insert\": \"\",\n",
      "    \"BOSS_Toxicity_AdvCivil_BERT_Substitute\": \"\",\n",
      "    \"BOSS_Toxicity_AdvCivil_BERT_Translate\": \"\",\n",
      "    \"BOSS_Toxicity_AdvCivil_BERT_Paraphrase\": \"\",\n",
      "    \"BOSS_Toxicity_AdvCivil_BERT_ICR\": \"\",\n",
      "    \"BOSS_Toxicity_AdvCivil_T5_Insert\": \"\",\n",
      "    \"BOSS_Toxicity_AdvCivil_T5_Substitute\": \"\",\n",
      "    \"BOSS_Toxicity_AdvCivil_T5_Translate\": \"\",\n",
      "    \"BOSS_Toxicity_AdvCivil_T5_Paraphrase\": \"\",\n",
      "    \"BOSS_Toxicity_AdvCivil_T5_ICR\": \"\",\n",
      "    \"BOSS_Toxicity_AdvCivil_Falcon_Insert\": \"\",\n",
      "    \"BOSS_Toxicity_AdvCivil_Falcon_Substitute\": \"\",\n",
      "    \"BOSS_Toxicity_AdvCivil_Falcon_Translate\": \"\",\n",
      "    \"BOSS_Toxicity_AdvCivil_Falcon_Paraphrase\": \"\",\n",
      "    \"BOSS_Toxicity_AdvCivil_Falcon_ICR\": \"\",\n",
      "    \"AgNewsTweets_ID_BERT_Insert\": \"\",\n",
      "    \"AgNewsTweets_ID_BERT_Substitute\": \"\",\n",
      "    \"AgNewsTweets_ID_BERT_Translate\": \"\",\n",
      "    \"AgNewsTweets_ID_BERT_Paraphrase\": \"\",\n",
      "    \"AgNewsTweets_ID_BERT_ICR\": \"\",\n",
      "    \"AgNewsTweets_ID_T5_Insert\": \"\",\n",
      "    \"AgNewsTweets_ID_T5_Substitute\": \"\",\n",
      "    \"AgNewsTweets_ID_T5_Translate\": \"\",\n",
      "    \"AgNewsTweets_ID_T5_Paraphrase\": \"\",\n",
      "    \"AgNewsTweets_ID_T5_ICR\": \"\",\n",
      "    \"AgNewsTweets_ID_Falcon_Insert\": \"\",\n",
      "    \"AgNewsTweets_ID_Falcon_Substitute\": \"\",\n",
      "    \"AgNewsTweets_ID_Falcon_Translate\": \"\",\n",
      "    \"AgNewsTweets_ID_Falcon_Paraphrase\": \"\",\n",
      "    \"AgNewsTweets_ID_Falcon_ICR\": \"\",\n",
      "    \"AgNewsTweets_Tweets_BERT_Insert\": \"\",\n",
      "    \"AgNewsTweets_Tweets_BERT_Substitute\": \"\",\n",
      "    \"AgNewsTweets_Tweets_BERT_Translate\": \"\",\n",
      "    \"AgNewsTweets_Tweets_BERT_Paraphrase\": \"\",\n",
      "    \"AgNewsTweets_Tweets_BERT_ICR\": \"\",\n",
      "    \"AgNewsTweets_Tweets_T5_Insert\": \"\",\n",
      "    \"AgNewsTweets_Tweets_T5_Substitute\": \"\",\n",
      "    \"AgNewsTweets_Tweets_T5_Translate\": \"\",\n",
      "    \"AgNewsTweets_Tweets_T5_Paraphrase\": \"\",\n",
      "    \"AgNewsTweets_Tweets_T5_ICR\": \"\",\n",
      "    \"AgNewsTweets_Tweets_Falcon_Insert\": \"\",\n",
      "    \"AgNewsTweets_Tweets_Falcon_Substitute\": \"\",\n",
      "    \"AgNewsTweets_Tweets_Falcon_Translate\": \"\",\n",
      "    \"AgNewsTweets_Tweets_Falcon_Paraphrase\": \"\",\n",
      "    \"AgNewsTweets_Tweets_Falcon_ICR\": \"\"\n",
      "}\n"
     ]
    }
   ],
   "source": [
    "project_name = \"healthyml/In-Context Domain Transfer Improves Out-of-Domain Robustness\"\n",
    "table_paths = {\n",
    "    # BOSS Sentiment\n",
    "    # ID\n",
    "    # BERT\n",
    "    \"BOSS_Sentiment_ID_BERT_Insert\": f\"\",\n",
    "    \"BOSS_Sentiment_ID_BERT_Substitute\": f\"\",\n",
    "    \"BOSS_Sentiment_ID_BERT_Translate\": f\"\",\n",
    "    \"BOSS_Sentiment_ID_BERT_Paraphrase\": f\"\",\n",
    "    \"BOSS_Sentiment_ID_BERT_ICR\": \"run-yanx1dus-validation_stabilityaiStableBeluga7b_random_16_Kyle1668bosssentimentbertbaseuncased_style_logs:v0\",\n",
    "\n",
    "    # T5\n",
    "    \"BOSS_Sentiment_ID_T5_Insert\": f\"\",\n",
    "    \"BOSS_Sentiment_ID_T5_Substitute\": f\"\",\n",
    "    \"BOSS_Sentiment_ID_T5_Translate\": f\"\",\n",
    "    \"BOSS_Sentiment_ID_T5_Paraphrase\": f\"\",\n",
    "    \"BOSS_Sentiment_ID_T5_ICR\": f\"\",\n",
    "\n",
    "    # Falcon\n",
    "    \"BOSS_Sentiment_ID_Falcon_Insert\": f\"\",\n",
    "    \"BOSS_Sentiment_ID_Falcon_Substitute\": f\"\",\n",
    "    \"BOSS_Sentiment_ID_Falcon_Translate\": f\"\",\n",
    "    \"BOSS_Sentiment_ID_Falcon_Paraphrase\": f\"\",\n",
    "    \"BOSS_Sentiment_ID_Falcon_ICR\": f\"\",\n",
    "\n",
    "    # SST-5\n",
    "    # BERT\n",
    "    \"BOSS_Sentiment_SST-5_BERT_Insert\": f\"\",\n",
    "    \"BOSS_Sentiment_SST-5_BERT_Substitute\": f\"\",\n",
    "    \"BOSS_Sentiment_SST-5_BERT_Translate\": f\"\",\n",
    "    \"BOSS_Sentiment_SST-5_BERT_Paraphrase\": f\"\",\n",
    "    \"BOSS_Sentiment_SST-5_BERT_ICR\": f\"\",\n",
    "\n",
    "    # T5\n",
    "    \"BOSS_Sentiment_SST-5_T5_Insert\": f\"\",\n",
    "    \"BOSS_Sentiment_SST-5_T5_Substitute\": f\"\",\n",
    "    \"BOSS_Sentiment_SST-5_T5_Translate\": f\"\",\n",
    "    \"BOSS_Sentiment_SST-5_T5_Paraphrase\": f\"\",\n",
    "    \"BOSS_Sentiment_SST-5_T5_ICR\": f\"\",\n",
    "\n",
    "    # Falcon\n",
    "    \"BOSS_Sentiment_SST-5_Falcon_Insert\": f\"\",\n",
    "    \"BOSS_Sentiment_SST-5_Falcon_Substitute\": f\"\",\n",
    "    \"BOSS_Sentiment_SST-5_Falcon_Translate\": f\"\",\n",
    "    \"BOSS_Sentiment_SST-5_Falcon_Paraphrase\": f\"\",\n",
    "    \"BOSS_Sentiment_SST-5_Falcon_ICR\": f\"\",\n",
    "\n",
    "    # SemEval\n",
    "    # BERT\n",
    "    \"BOSS_Sentiment_SemEval_BERT_Insert\": f\"\",\n",
    "    \"BOSS_Sentiment_SemEval_BERT_Substitute\": f\"\",\n",
    "    \"BOSS_Sentiment_SemEval_BERT_Translate\": f\"\",\n",
    "    \"BOSS_Sentiment_SemEval_BERT_Paraphrase\": f\"\",\n",
    "    \"BOSS_Sentiment_SemEval_BERT_ICR\": f\"\",\n",
    "\n",
    "    # T5\n",
    "    \"BOSS_Sentiment_SemEval_T5_Insert\": f\"\",\n",
    "    \"BOSS_Sentiment_SemEval_T5_Substitute\": f\"\",\n",
    "    \"BOSS_Sentiment_SemEval_T5_Translate\": f\"\",\n",
    "    \"BOSS_Sentiment_SemEval_T5_Paraphrase\": f\"\",\n",
    "    \"BOSS_Sentiment_SemEval_T5_ICR\": f\"\",\n",
    "\n",
    "    # Falcon\n",
    "    \"BOSS_Sentiment_SemEval_Falcon_Insert\": f\"\",\n",
    "    \"BOSS_Sentiment_SemEval_Falcon_Substitute\": f\"\",\n",
    "    \"BOSS_Sentiment_SemEval_Falcon_Translate\": f\"\",\n",
    "    \"BOSS_Sentiment_SemEval_Falcon_Paraphrase\": f\"\",\n",
    "    \"BOSS_Sentiment_SemEval_Falcon_ICR\": f\"\",\n",
    "\n",
    "    # Dynasent\n",
    "    # BERT\n",
    "    \"BOSS_Sentiment_Dynasent_BERT_Insert\": f\"\",\n",
    "    \"BOSS_Sentiment_Dynasent_BERT_Substitute\": f\"\",\n",
    "    \"BOSS_Sentiment_Dynasent_BERT_Translate\": f\"\",\n",
    "    \"BOSS_Sentiment_Dynasent_BERT_Paraphrase\": f\"\",\n",
    "    \"BOSS_Sentiment_Dynasent_BERT_ICR\": f\"\",\n",
    "\n",
    "    # T5\n",
    "    \"BOSS_Sentiment_Dynasent_T5_Insert\": f\"\",\n",
    "    \"BOSS_Sentiment_Dynasent_T5_Substitute\": f\"\",\n",
    "    \"BOSS_Sentiment_Dynasent_T5_Translate\": f\"\",\n",
    "    \"BOSS_Sentiment_Dynasent_T5_Paraphrase\": f\"\",\n",
    "    \"BOSS_Sentiment_Dynasent_T5_ICR\": f\"\",\n",
    "\n",
    "    # Falcon\n",
    "    \"BOSS_Sentiment_Dynasent_Falcon_Insert\": f\"\",\n",
    "    \"BOSS_Sentiment_Dynasent_Falcon_Substitute\": f\"\",\n",
    "    \"BOSS_Sentiment_Dynasent_Falcon_Translate\": f\"\",\n",
    "    \"BOSS_Sentiment_Dynasent_Falcon_Paraphrase\": f\"\",\n",
    "    \"BOSS_Sentiment_Dynasent_Falcon_ICR\": f\"\",\n",
    "\n",
    "    # BOSS Toxicity\n",
    "    # ID\n",
    "    # BERT\n",
    "    \"BOSS_Toxicity_ID_BERT_Insert\": f\"\",\n",
    "    \"BOSS_Toxicity_ID_BERT_Substitute\": f\"\",\n",
    "    \"BOSS_Toxicity_ID_BERT_Translate\": f\"\",\n",
    "    \"BOSS_Toxicity_ID_BERT_Paraphrase\": f\"\",\n",
    "    \"BOSS_Toxicity_ID_BERT_ICR\": f\"\",\n",
    "\n",
    "    # T5\n",
    "    \"BOSS_Toxicity_ID_T5_Insert\": f\"\",\n",
    "    \"BOSS_Toxicity_ID_T5_Substitute\": f\"\",\n",
    "    \"BOSS_Toxicity_ID_T5_Translate\": f\"\",\n",
    "    \"BOSS_Toxicity_ID_T5_Paraphrase\": f\"\",\n",
    "    \"BOSS_Toxicity_ID_T5_ICR\": f\"\",\n",
    "\n",
    "    # Falcon\n",
    "    \"BOSS_Toxicity_ID_Falcon_Insert\": f\"\",\n",
    "    \"BOSS_Toxicity_ID_Falcon_Substitute\": f\"\",\n",
    "    \"BOSS_Toxicity_ID_Falcon_Translate\": f\"\",\n",
    "    \"BOSS_Toxicity_ID_Falcon_Paraphrase\": f\"\",\n",
    "    \"BOSS_Toxicity_ID_Falcon_ICR\": f\"\",\n",
    "\n",
    "    # Toxigen\n",
    "    # BERT\n",
    "    \"BOSS_Toxicity_Toxigen_BERT_Insert\": f\"\",\n",
    "    \"BOSS_Toxicity_Toxigen_BERT_Substitute\": f\"\",\n",
    "    \"BOSS_Toxicity_Toxigen_BERT_Translate\": f\"\",\n",
    "    \"BOSS_Toxicity_Toxigen_BERT_Paraphrase\": f\"\",\n",
    "    \"BOSS_Toxicity_Toxigen_BERT_ICR\": f\"\",\n",
    "\n",
    "    # T5\n",
    "    \"BOSS_Toxicity_Toxigen_T5_Insert\": f\"\",\n",
    "    \"BOSS_Toxicity_Toxigen_T5_Substitute\": f\"\",\n",
    "    \"BOSS_Toxicity_Toxigen_T5_Translate\": f\"\",\n",
    "    \"BOSS_Toxicity_Toxigen_T5_Paraphrase\": f\"\",\n",
    "    \"BOSS_Toxicity_Toxigen_T5_ICR\": f\"\",\n",
    "\n",
    "    # Falcon\n",
    "    \"BOSS_Toxicity_Toxigen_Falcon_Insert\": f\"\",\n",
    "    \"BOSS_Toxicity_Toxigen_Falcon_Substitute\": f\"\",\n",
    "    \"BOSS_Toxicity_Toxigen_Falcon_Translate\": f\"\",\n",
    "    \"BOSS_Toxicity_Toxigen_Falcon_Paraphrase\": f\"\",\n",
    "    \"BOSS_Toxicity_Toxigen_Falcon_ICR\": f\"\",\n",
    "\n",
    "    # ImplicitHate\n",
    "    # BERT\n",
    "    \"BOSS_Toxicity_ImplicitHate_BERT_Insert\": f\"\",\n",
    "    \"BOSS_Toxicity_ImplicitHate_BERT_Substitute\": f\"\",\n",
    "    \"BOSS_Toxicity_ImplicitHate_BERT_Translate\": f\"\",\n",
    "    \"BOSS_Toxicity_ImplicitHate_BERT_Paraphrase\": f\"\",\n",
    "    \"BOSS_Toxicity_ImplicitHate_BERT_ICR\": f\"\",\n",
    "\n",
    "    # T5\n",
    "    \"BOSS_Toxicity_ImplicitHate_T5_Insert\": f\"\",\n",
    "    \"BOSS_Toxicity_ImplicitHate_T5_Substitute\": f\"\",\n",
    "    \"BOSS_Toxicity_ImplicitHate_T5_Translate\": f\"\",\n",
    "    \"BOSS_Toxicity_ImplicitHate_T5_Paraphrase\": f\"\",\n",
    "    \"BOSS_Toxicity_ImplicitHate_T5_ICR\": f\"\",\n",
    "\n",
    "    # Falcon\n",
    "    \"BOSS_Toxicity_ImplicitHate_Falcon_Insert\": f\"\",\n",
    "    \"BOSS_Toxicity_ImplicitHate_Falcon_Substitute\": f\"\",\n",
    "    \"BOSS_Toxicity_ImplicitHate_Falcon_Translate\": f\"\",\n",
    "    \"BOSS_Toxicity_ImplicitHate_Falcon_Paraphrase\": f\"\",\n",
    "    \"BOSS_Toxicity_ImplicitHate_Falcon_ICR\": f\"\",\n",
    "\n",
    "    # AdvCivil\n",
    "    # BERT\n",
    "    \"BOSS_Toxicity_AdvCivil_BERT_Insert\": f\"\",\n",
    "    \"BOSS_Toxicity_AdvCivil_BERT_Substitute\": f\"\",\n",
    "    \"BOSS_Toxicity_AdvCivil_BERT_Translate\": f\"\",\n",
    "    \"BOSS_Toxicity_AdvCivil_BERT_Paraphrase\": f\"\",\n",
    "    \"BOSS_Toxicity_AdvCivil_BERT_ICR\": f\"\",\n",
    "\n",
    "    # T5\n",
    "    \"BOSS_Toxicity_AdvCivil_T5_Insert\": f\"\",\n",
    "    \"BOSS_Toxicity_AdvCivil_T5_Substitute\": f\"\",\n",
    "    \"BOSS_Toxicity_AdvCivil_T5_Translate\": f\"\",\n",
    "    \"BOSS_Toxicity_AdvCivil_T5_Paraphrase\": f\"\",\n",
    "    \"BOSS_Toxicity_AdvCivil_T5_ICR\": f\"\",\n",
    "\n",
    "    # Falcon\n",
    "    \"BOSS_Toxicity_AdvCivil_Falcon_Insert\": f\"\",\n",
    "    \"BOSS_Toxicity_AdvCivil_Falcon_Substitute\": f\"\",\n",
    "    \"BOSS_Toxicity_AdvCivil_Falcon_Translate\": f\"\",\n",
    "    \"BOSS_Toxicity_AdvCivil_Falcon_Paraphrase\": f\"\",\n",
    "    \"BOSS_Toxicity_AdvCivil_Falcon_ICR\": f\"\",\n",
    "\n",
    "    # AG News Tweets\n",
    "    # ID\n",
    "    # BERT\n",
    "    \"AgNewsTweets_ID_BERT_Insert\": f\"\",\n",
    "    \"AgNewsTweets_ID_BERT_Substitute\": f\"\",\n",
    "    \"AgNewsTweets_ID_BERT_Translate\": f\"\",\n",
    "    \"AgNewsTweets_ID_BERT_Paraphrase\": f\"\",\n",
    "    \"AgNewsTweets_ID_BERT_ICR\": f\"\",\n",
    "\n",
    "    # T5\n",
    "    \"AgNewsTweets_ID_T5_Insert\": f\"\",\n",
    "    \"AgNewsTweets_ID_T5_Substitute\": f\"\",\n",
    "    \"AgNewsTweets_ID_T5_Translate\": f\"\",\n",
    "    \"AgNewsTweets_ID_T5_Paraphrase\": f\"\",\n",
    "    \"AgNewsTweets_ID_T5_ICR\": f\"\",\n",
    "\n",
    "    # Falcon\n",
    "    \"AgNewsTweets_ID_Falcon_Insert\": f\"\",\n",
    "    \"AgNewsTweets_ID_Falcon_Substitute\": f\"\",\n",
    "    \"AgNewsTweets_ID_Falcon_Translate\": f\"\",\n",
    "    \"AgNewsTweets_ID_Falcon_Paraphrase\": f\"\",\n",
    "    \"AgNewsTweets_ID_Falcon_ICR\": f\"\",\n",
    "\n",
    "    # Tweets\n",
    "    # BERT\n",
    "    \"AgNewsTweets_Tweets_BERT_Insert\": f\"\",\n",
    "    \"AgNewsTweets_Tweets_BERT_Substitute\": f\"\",\n",
    "    \"AgNewsTweets_Tweets_BERT_Translate\": f\"\",\n",
    "    \"AgNewsTweets_Tweets_BERT_Paraphrase\": f\"\",\n",
    "    \"AgNewsTweets_Tweets_BERT_ICR\": f\"\",\n",
    "\n",
    "    # T5\n",
    "    \"AgNewsTweets_Tweets_T5_Insert\": f\"\",\n",
    "    \"AgNewsTweets_Tweets_T5_Substitute\": f\"\",\n",
    "    \"AgNewsTweets_Tweets_T5_Translate\": f\"\",\n",
    "    \"AgNewsTweets_Tweets_T5_Paraphrase\": f\"\",\n",
    "    \"AgNewsTweets_Tweets_T5_ICR\": f\"\",\n",
    "\n",
    "    # Falcon\n",
    "    \"AgNewsTweets_Tweets_Falcon_Insert\": f\"\",\n",
    "    \"AgNewsTweets_Tweets_Falcon_Substitute\": f\"\",\n",
    "    \"AgNewsTweets_Tweets_Falcon_Translate\": f\"\",\n",
    "    \"AgNewsTweets_Tweets_Falcon_Paraphrase\": f\"\",\n",
    "    \"AgNewsTweets_Tweets_Falcon_ICR\": f\"\",\n",
    "}\n",
    "\n",
    "print(json.dumps(table_paths, indent=4))"
   ]
  },
  {
   "cell_type": "code",
   "execution_count": 17,
   "metadata": {},
   "outputs": [
    {
     "data": {
      "text/html": [
       "Finishing last run (ID:dh0dffac) before initializing another..."
      ],
      "text/plain": [
       "<IPython.core.display.HTML object>"
      ]
     },
     "metadata": {},
     "output_type": "display_data"
    },
    {
     "name": "stderr",
     "output_type": "stream",
     "text": [
      "wandb: WARNING Source type is set to 'repo' but some required information is missing from the environment. A job will not be created from this run. See https://docs.wandb.ai/guides/launch/create-job\n"
     ]
    },
    {
     "data": {
      "text/html": [
       " View run <strong style=\"color:#cdcd00\">balmy-feather-8</strong> at: <a href='https://wandb.ai/healthyml/In-Context-Domain-Transfer-Improves-Out-of-Domain-Robustness-datasets_analysis_export_logs/runs/dh0dffac' target=\"_blank\">https://wandb.ai/healthyml/In-Context-Domain-Transfer-Improves-Out-of-Domain-Robustness-datasets_analysis_export_logs/runs/dh0dffac</a><br/>Synced 6 W&B file(s), 0 media file(s), 0 artifact file(s) and 0 other file(s)"
      ],
      "text/plain": [
       "<IPython.core.display.HTML object>"
      ]
     },
     "metadata": {},
     "output_type": "display_data"
    },
    {
     "data": {
      "text/html": [
       "Find logs at: <code>./wandb/run-20231110_211613-dh0dffac/logs</code>"
      ],
      "text/plain": [
       "<IPython.core.display.HTML object>"
      ]
     },
     "metadata": {},
     "output_type": "display_data"
    },
    {
     "data": {
      "text/html": [
       "Successfully finished last run (ID:dh0dffac). Initializing new run:<br/>"
      ],
      "text/plain": [
       "<IPython.core.display.HTML object>"
      ]
     },
     "metadata": {},
     "output_type": "display_data"
    },
    {
     "data": {
      "text/html": [
       "Tracking run with wandb version 0.16.0"
      ],
      "text/plain": [
       "<IPython.core.display.HTML object>"
      ]
     },
     "metadata": {},
     "output_type": "display_data"
    },
    {
     "data": {
      "text/html": [
       "Run data is saved locally in <code>/home/kyobrien/repos/In-Context-Domain-Transfer-Improves-Out-of-Domain-Robustness/datasets/analysis/export_logs/wandb/run-20231110_211846-ko705jhu</code>"
      ],
      "text/plain": [
       "<IPython.core.display.HTML object>"
      ]
     },
     "metadata": {},
     "output_type": "display_data"
    },
    {
     "data": {
      "text/html": [
       "Syncing run <strong><a href='https://wandb.ai/healthyml/In-Context-Domain-Transfer-Improves-Out-of-Domain-Robustness-datasets_analysis_export_logs/runs/ko705jhu' target=\"_blank\">misunderstood-serenity-9</a></strong> to <a href='https://wandb.ai/healthyml/In-Context-Domain-Transfer-Improves-Out-of-Domain-Robustness-datasets_analysis_export_logs' target=\"_blank\">Weights & Biases</a> (<a href='https://wandb.me/run' target=\"_blank\">docs</a>)<br/>"
      ],
      "text/plain": [
       "<IPython.core.display.HTML object>"
      ]
     },
     "metadata": {},
     "output_type": "display_data"
    },
    {
     "data": {
      "text/html": [
       " View project at <a href='https://wandb.ai/healthyml/In-Context-Domain-Transfer-Improves-Out-of-Domain-Robustness-datasets_analysis_export_logs' target=\"_blank\">https://wandb.ai/healthyml/In-Context-Domain-Transfer-Improves-Out-of-Domain-Robustness-datasets_analysis_export_logs</a>"
      ],
      "text/plain": [
       "<IPython.core.display.HTML object>"
      ]
     },
     "metadata": {},
     "output_type": "display_data"
    },
    {
     "data": {
      "text/html": [
       " View run at <a href='https://wandb.ai/healthyml/In-Context-Domain-Transfer-Improves-Out-of-Domain-Robustness-datasets_analysis_export_logs/runs/ko705jhu' target=\"_blank\">https://wandb.ai/healthyml/In-Context-Domain-Transfer-Improves-Out-of-Domain-Robustness-datasets_analysis_export_logs/runs/ko705jhu</a>"
      ],
      "text/plain": [
       "<IPython.core.display.HTML object>"
      ]
     },
     "metadata": {},
     "output_type": "display_data"
    }
   ],
   "source": [
    "run = wandb.init()"
   ]
  },
  {
   "cell_type": "code",
   "execution_count": 22,
   "metadata": {},
   "outputs": [
    {
     "name": "stderr",
     "output_type": "stream",
     "text": [
      "  0%|          | 0/150 [00:00<?, ?it/s]"
     ]
    },
    {
     "name": "stdout",
     "output_type": "stream",
     "text": [
      "Downloading BOSS_Sentiment_ID_BERT_ICR --- healthyml/In-Context Domain Transfer Improves Out-of-Domain Robustness/run-yanx1dus-validation_stabilityaiStableBeluga7b_random_16_Kyle1668bosssentimentbertbaseuncased_style_logs:v0\n"
     ]
    },
    {
     "name": "stderr",
     "output_type": "stream",
     "text": [
      "  3%|▎         | 4/150 [03:18<2:00:39, 49.58s/it]\n"
     ]
    },
    {
     "ename": "KeyboardInterrupt",
     "evalue": "",
     "output_type": "error",
     "traceback": [
      "\u001b[0;31m---------------------------------------------------------------------------\u001b[0m",
      "\u001b[0;31mKeyboardInterrupt\u001b[0m                         Traceback (most recent call last)",
      "\u001b[1;32m/home/kyobrien/repos/In-Context-Domain-Transfer-Improves-Out-of-Domain-Robustness/datasets/analysis/export_logs/export_run_analysis.ipynb Cell 4\u001b[0m line \u001b[0;36m1\n\u001b[1;32m     <a href='vscode-notebook-cell://ssh-remote%2B7b22686f73744e616d65223a22417a757265227d/home/kyobrien/repos/In-Context-Domain-Transfer-Improves-Out-of-Domain-Robustness/datasets/analysis/export_logs/export_run_analysis.ipynb#W4sdnNjb2RlLXJlbW90ZQ%3D%3D?line=9'>10</a>\u001b[0m \u001b[39mprint\u001b[39m(\u001b[39mf\u001b[39m\u001b[39m\"\u001b[39m\u001b[39mDownloading \u001b[39m\u001b[39m{\u001b[39;00mtable_name\u001b[39m}\u001b[39;00m\u001b[39m --- \u001b[39m\u001b[39m{\u001b[39;00mdownload_path\u001b[39m}\u001b[39;00m\u001b[39m\"\u001b[39m)\n\u001b[1;32m     <a href='vscode-notebook-cell://ssh-remote%2B7b22686f73744e616d65223a22417a757265227d/home/kyobrien/repos/In-Context-Domain-Transfer-Improves-Out-of-Domain-Robustness/datasets/analysis/export_logs/export_run_analysis.ipynb#W4sdnNjb2RlLXJlbW90ZQ%3D%3D?line=10'>11</a>\u001b[0m artifact \u001b[39m=\u001b[39m run\u001b[39m.\u001b[39muse_artifact(download_path, \u001b[39mtype\u001b[39m\u001b[39m=\u001b[39m\u001b[39m\"\u001b[39m\u001b[39mrun_table\u001b[39m\u001b[39m\"\u001b[39m)\n\u001b[0;32m---> <a href='vscode-notebook-cell://ssh-remote%2B7b22686f73744e616d65223a22417a757265227d/home/kyobrien/repos/In-Context-Domain-Transfer-Improves-Out-of-Domain-Robustness/datasets/analysis/export_logs/export_run_analysis.ipynb#W4sdnNjb2RlLXJlbW90ZQ%3D%3D?line=11'>12</a>\u001b[0m artifact_dir \u001b[39m=\u001b[39m artifact\u001b[39m.\u001b[39mdownload()\n\u001b[1;32m     <a href='vscode-notebook-cell://ssh-remote%2B7b22686f73744e616d65223a22417a757265227d/home/kyobrien/repos/In-Context-Domain-Transfer-Improves-Out-of-Domain-Robustness/datasets/analysis/export_logs/export_run_analysis.ipynb#W4sdnNjb2RlLXJlbW90ZQ%3D%3D?line=12'>13</a>\u001b[0m file_name \u001b[39m=\u001b[39m os\u001b[39m.\u001b[39mlistdir(artifact_dir)[\u001b[39m0\u001b[39m]\n\u001b[1;32m     <a href='vscode-notebook-cell://ssh-remote%2B7b22686f73744e616d65223a22417a757265227d/home/kyobrien/repos/In-Context-Domain-Transfer-Improves-Out-of-Domain-Robustness/datasets/analysis/export_logs/export_run_analysis.ipynb#W4sdnNjb2RlLXJlbW90ZQ%3D%3D?line=13'>14</a>\u001b[0m local_paths[table_name] \u001b[39m=\u001b[39m \u001b[39mf\u001b[39m\u001b[39m\"\u001b[39m\u001b[39m{\u001b[39;00martifact_dir\u001b[39m}\u001b[39;00m\u001b[39m/\u001b[39m\u001b[39m{\u001b[39;00mfile_name\u001b[39m}\u001b[39;00m\u001b[39m\"\u001b[39m\n",
      "\u001b[1;32m/home/kyobrien/repos/In-Context-Domain-Transfer-Improves-Out-of-Domain-Robustness/datasets/analysis/export_logs/export_run_analysis.ipynb Cell 4\u001b[0m line \u001b[0;36m1\n\u001b[1;32m     <a href='vscode-notebook-cell://ssh-remote%2B7b22686f73744e616d65223a22417a757265227d/home/kyobrien/repos/In-Context-Domain-Transfer-Improves-Out-of-Domain-Robustness/datasets/analysis/export_logs/export_run_analysis.ipynb#W4sdnNjb2RlLXJlbW90ZQ%3D%3D?line=9'>10</a>\u001b[0m \u001b[39mprint\u001b[39m(\u001b[39mf\u001b[39m\u001b[39m\"\u001b[39m\u001b[39mDownloading \u001b[39m\u001b[39m{\u001b[39;00mtable_name\u001b[39m}\u001b[39;00m\u001b[39m --- \u001b[39m\u001b[39m{\u001b[39;00mdownload_path\u001b[39m}\u001b[39;00m\u001b[39m\"\u001b[39m)\n\u001b[1;32m     <a href='vscode-notebook-cell://ssh-remote%2B7b22686f73744e616d65223a22417a757265227d/home/kyobrien/repos/In-Context-Domain-Transfer-Improves-Out-of-Domain-Robustness/datasets/analysis/export_logs/export_run_analysis.ipynb#W4sdnNjb2RlLXJlbW90ZQ%3D%3D?line=10'>11</a>\u001b[0m artifact \u001b[39m=\u001b[39m run\u001b[39m.\u001b[39muse_artifact(download_path, \u001b[39mtype\u001b[39m\u001b[39m=\u001b[39m\u001b[39m\"\u001b[39m\u001b[39mrun_table\u001b[39m\u001b[39m\"\u001b[39m)\n\u001b[0;32m---> <a href='vscode-notebook-cell://ssh-remote%2B7b22686f73744e616d65223a22417a757265227d/home/kyobrien/repos/In-Context-Domain-Transfer-Improves-Out-of-Domain-Robustness/datasets/analysis/export_logs/export_run_analysis.ipynb#W4sdnNjb2RlLXJlbW90ZQ%3D%3D?line=11'>12</a>\u001b[0m artifact_dir \u001b[39m=\u001b[39m artifact\u001b[39m.\u001b[39mdownload()\n\u001b[1;32m     <a href='vscode-notebook-cell://ssh-remote%2B7b22686f73744e616d65223a22417a757265227d/home/kyobrien/repos/In-Context-Domain-Transfer-Improves-Out-of-Domain-Robustness/datasets/analysis/export_logs/export_run_analysis.ipynb#W4sdnNjb2RlLXJlbW90ZQ%3D%3D?line=12'>13</a>\u001b[0m file_name \u001b[39m=\u001b[39m os\u001b[39m.\u001b[39mlistdir(artifact_dir)[\u001b[39m0\u001b[39m]\n\u001b[1;32m     <a href='vscode-notebook-cell://ssh-remote%2B7b22686f73744e616d65223a22417a757265227d/home/kyobrien/repos/In-Context-Domain-Transfer-Improves-Out-of-Domain-Robustness/datasets/analysis/export_logs/export_run_analysis.ipynb#W4sdnNjb2RlLXJlbW90ZQ%3D%3D?line=13'>14</a>\u001b[0m local_paths[table_name] \u001b[39m=\u001b[39m \u001b[39mf\u001b[39m\u001b[39m\"\u001b[39m\u001b[39m{\u001b[39;00martifact_dir\u001b[39m}\u001b[39;00m\u001b[39m/\u001b[39m\u001b[39m{\u001b[39;00mfile_name\u001b[39m}\u001b[39;00m\u001b[39m\"\u001b[39m\n",
      "File \u001b[0;32m_pydevd_bundle/pydevd_cython.pyx:1457\u001b[0m, in \u001b[0;36m_pydevd_bundle.pydevd_cython.SafeCallWrapper.__call__\u001b[0;34m()\u001b[0m\n",
      "File \u001b[0;32m_pydevd_bundle/pydevd_cython.pyx:701\u001b[0m, in \u001b[0;36m_pydevd_bundle.pydevd_cython.PyDBFrame.trace_dispatch\u001b[0;34m()\u001b[0m\n",
      "File \u001b[0;32m_pydevd_bundle/pydevd_cython.pyx:1152\u001b[0m, in \u001b[0;36m_pydevd_bundle.pydevd_cython.PyDBFrame.trace_dispatch\u001b[0;34m()\u001b[0m\n",
      "File \u001b[0;32m_pydevd_bundle/pydevd_cython.pyx:1135\u001b[0m, in \u001b[0;36m_pydevd_bundle.pydevd_cython.PyDBFrame.trace_dispatch\u001b[0;34m()\u001b[0m\n",
      "File \u001b[0;32m_pydevd_bundle/pydevd_cython.pyx:312\u001b[0m, in \u001b[0;36m_pydevd_bundle.pydevd_cython.PyDBFrame.do_wait_suspend\u001b[0;34m()\u001b[0m\n",
      "File \u001b[0;32m~/conda/envs/eval-aug/lib/python3.10/site-packages/debugpy/_vendored/pydevd/pydevd.py:2070\u001b[0m, in \u001b[0;36mPyDB.do_wait_suspend\u001b[0;34m(self, thread, frame, event, arg, exception_type)\u001b[0m\n\u001b[1;32m   2067\u001b[0m             from_this_thread\u001b[39m.\u001b[39mappend(frame_custom_thread_id)\n\u001b[1;32m   2069\u001b[0m     \u001b[39mwith\u001b[39;00m \u001b[39mself\u001b[39m\u001b[39m.\u001b[39m_threads_suspended_single_notification\u001b[39m.\u001b[39mnotify_thread_suspended(thread_id, thread, stop_reason):\n\u001b[0;32m-> 2070\u001b[0m         keep_suspended \u001b[39m=\u001b[39m \u001b[39mself\u001b[39;49m\u001b[39m.\u001b[39;49m_do_wait_suspend(thread, frame, event, arg, suspend_type, from_this_thread, frames_tracker)\n\u001b[1;32m   2072\u001b[0m frames_list \u001b[39m=\u001b[39m \u001b[39mNone\u001b[39;00m\n\u001b[1;32m   2074\u001b[0m \u001b[39mif\u001b[39;00m keep_suspended:\n\u001b[1;32m   2075\u001b[0m     \u001b[39m# This means that we should pause again after a set next statement.\u001b[39;00m\n",
      "File \u001b[0;32m~/conda/envs/eval-aug/lib/python3.10/site-packages/debugpy/_vendored/pydevd/pydevd.py:2106\u001b[0m, in \u001b[0;36mPyDB._do_wait_suspend\u001b[0;34m(self, thread, frame, event, arg, suspend_type, from_this_thread, frames_tracker)\u001b[0m\n\u001b[1;32m   2103\u001b[0m         \u001b[39mself\u001b[39m\u001b[39m.\u001b[39m_call_input_hook()\n\u001b[1;32m   2105\u001b[0m     \u001b[39mself\u001b[39m\u001b[39m.\u001b[39mprocess_internal_commands()\n\u001b[0;32m-> 2106\u001b[0m     time\u001b[39m.\u001b[39;49msleep(\u001b[39m0.01\u001b[39;49m)\n\u001b[1;32m   2108\u001b[0m \u001b[39mself\u001b[39m\u001b[39m.\u001b[39mcancel_async_evaluation(get_current_thread_id(thread), \u001b[39mstr\u001b[39m(\u001b[39mid\u001b[39m(frame)))\n\u001b[1;32m   2110\u001b[0m \u001b[39m# process any stepping instructions\u001b[39;00m\n",
      "\u001b[0;31mKeyboardInterrupt\u001b[0m: "
     ]
    }
   ],
   "source": [
    "# for each table path, run.use_artifact and download the artifact.\n",
    "local_paths = {}\n",
    "missing_tables = []\n",
    "for table_name, table_path in tqdm(table_paths.items()):\n",
    "    if table_path == \"\":\n",
    "        missing_tables.append(table_name)\n",
    "        continue\n",
    "\n",
    "    download_path = f\"{project_name}/{table_path}\"\n",
    "    print(f\"Downloading {table_name} --- {download_path}\")\n",
    "    artifact = run.use_artifact(download_path, type=\"run_table\")\n",
    "    artifact_dir = artifact.download()\n",
    "    file_name = os.listdir(artifact_dir)[0]\n",
    "    local_paths[table_name] = f\"{artifact_dir}/{file_name}\"\n",
    "\n",
    "print(f\"\\nMissing tables: {missing_tables}\")\n",
    "print(json.dumps(local_paths, indent=4))"
   ]
  },
  {
   "cell_type": "code",
   "execution_count": 25,
   "metadata": {},
   "outputs": [],
   "source": [
    "column_renaming = {\n",
    "    \"entropy\": \"tta_prediction_entropy\",\n",
    "    \"mean probs\": \"tta_mean_class_probs\",\n",
    "    \"all probs\": \"tta_all_class_probs\",\n",
    "    \"all entropies\": \"tta_all_class_entropy\",\n",
    "    \"latency\": \"tta_inference_latency\",\n",
    "    \"input\": \"augmentations\",\n",
    "    \"original_input\": \"original_text\",\n",
    "    \"judgment\": \"tta_predicted_class\",\n",
    "    \"original judgment\": \"original_predicted_class\",\n",
    "    \"original entropy\": \"original_prediction_entropy\",\n",
    "    \"entropy decrease\": \"prediction_entropy_decrease\",\n",
    "    \"entropy decreased\": \"prediction_entropy_decreased\",\n",
    "}\n",
    "columns_to_drop = [\"style prompt\", \"mean exemplar distance\", \"prompt\"]\n",
    "columns_order = [\"outcome\", \"original_text\", \"augmentations\", \"original_predicted_class\", \"tta_predicted_class\", \"label\", \"tta_inference_latency\", \"original_prediction_entropy\", \"tta_prediction_entropy\", \"prediction_entropy_decreased\", \"prediction_entropy_decrease\", \"tta_mean_class_probs\", \"tta_all_class_probs\", \"tta_all_class_entropy\", ]"
   ]
  },
  {
   "cell_type": "code",
   "execution_count": 30,
   "metadata": {},
   "outputs": [
    {
     "name": "stderr",
     "output_type": "stream",
     "text": [
      "Creating parquet from Arrow format: 100%|██████████| 39/39 [00:00<00:00, 114.06ba/s]\n",
      "Pushing dataset shards to the dataset hub: 100%|██████████| 1/1 [00:02<00:00,  2.23s/it]\n",
      "Deleting unused files from dataset repository: 100%|██████████| 1/1 [00:00<00:00,  3.25it/s]\n",
      "Downloading metadata: 100%|██████████| 1.19k/1.19k [00:00<00:00, 6.56MB/s]\n"
     ]
    },
    {
     "data": {
      "text/plain": [
       "DatasetDict({\n",
       "    BOSS_Sentiment_ID_BERT_ICR: Dataset({\n",
       "        features: ['outcome', 'original_text', 'augmentations', 'original_predicted_class', 'tta_predicted_class', 'label', 'tta_inference_latency', 'original_prediction_entropy', 'tta_prediction_entropy', 'prediction_entropy_decreased', 'prediction_entropy_decrease', 'tta_mean_class_probs', 'tta_all_class_probs', 'tta_all_class_entropy'],\n",
       "        num_rows: 38904\n",
       "    })\n",
       "})"
      ]
     },
     "execution_count": 30,
     "metadata": {},
     "output_type": "execute_result"
    }
   ],
   "source": [
    "test_dict = DatasetDict()\n",
    "path = \"/home/kyobrien/repos/In-Context-Domain-Transfer-Improves-Out-of-Domain-Robustness/datasets/analysis/export_logs/artifacts/run-yanx1dus-validation_stabilityaiStableBeluga7b_random_16_Kyle1668bosssentimentbertbaseuncased_style_logs:v0/validation_stabilityai/StableBeluga-7b_random_16_Kyle1668/boss-sentiment-bert-base-uncased_style_logs.table.json\"\n",
    "json_logs = json.load(open(path))\n",
    "frame = pd.DataFrame(columns=json_logs[\"columns\"], data=json_logs[\"data\"])\n",
    "frame.drop(columns=columns_to_drop, inplace=True)\n",
    "frame.rename(columns=column_renaming, inplace=True)\n",
    "frame = frame[columns_order]\n",
    "frame[\"augmentations\"] = frame[\"augmentations\"].apply(lambda aug_batch: [aug.replace(\"<aug>\", \"\").replace(\"</aug>\", \"\") for aug in aug_batch[:4]] if len(aug_batch) > 0 else None)\n",
    "frame\n",
    "\n",
    "test_dict[\"BOSS_Sentiment_ID_BERT_ICR\"] = Dataset.from_pandas(frame)\n",
    "test_dict.push_to_hub(\"LLM-TTA-Augmentation-Logs\")\n",
    "test_dict"
   ]
  },
  {
   "cell_type": "code",
   "execution_count": 2,
   "metadata": {},
   "outputs": [
    {
     "ename": "NameError",
     "evalue": "name 'local_paths' is not defined",
     "output_type": "error",
     "traceback": [
      "\u001b[0;31m---------------------------------------------------------------------------\u001b[0m",
      "\u001b[0;31mNameError\u001b[0m                                 Traceback (most recent call last)",
      "\u001b[1;32m/home/kyobrien/repos/In-Context-Domain-Transfer-Improves-Out-of-Domain-Robustness/datasets/analysis/export_logs/export_run_analysis.ipynb Cell 5\u001b[0m line \u001b[0;36m4\n\u001b[1;32m      <a href='vscode-notebook-cell://ssh-remote%2B7b22686f73744e616d65223a22417a757265227d/home/kyobrien/repos/In-Context-Domain-Transfer-Improves-Out-of-Domain-Robustness/datasets/analysis/export_logs/export_run_analysis.ipynb#W6sdnNjb2RlLXJlbW90ZQ%3D%3D?line=0'>1</a>\u001b[0m \u001b[39m# create DatsetDict\u001b[39;00m\n\u001b[1;32m      <a href='vscode-notebook-cell://ssh-remote%2B7b22686f73744e616d65223a22417a757265227d/home/kyobrien/repos/In-Context-Domain-Transfer-Improves-Out-of-Domain-Robustness/datasets/analysis/export_logs/export_run_analysis.ipynb#W6sdnNjb2RlLXJlbW90ZQ%3D%3D?line=2'>3</a>\u001b[0m combined_datset \u001b[39m=\u001b[39m DatasetDict()\n\u001b[0;32m----> <a href='vscode-notebook-cell://ssh-remote%2B7b22686f73744e616d65223a22417a757265227d/home/kyobrien/repos/In-Context-Domain-Transfer-Improves-Out-of-Domain-Robustness/datasets/analysis/export_logs/export_run_analysis.ipynb#W6sdnNjb2RlLXJlbW90ZQ%3D%3D?line=3'>4</a>\u001b[0m \u001b[39mfor\u001b[39;00m split_name \u001b[39min\u001b[39;00m local_paths:\n\u001b[1;32m      <a href='vscode-notebook-cell://ssh-remote%2B7b22686f73744e616d65223a22417a757265227d/home/kyobrien/repos/In-Context-Domain-Transfer-Improves-Out-of-Domain-Robustness/datasets/analysis/export_logs/export_run_analysis.ipynb#W6sdnNjb2RlLXJlbW90ZQ%3D%3D?line=4'>5</a>\u001b[0m     local_path \u001b[39m=\u001b[39m \u001b[39m\"\u001b[39m\u001b[39m/home/kyobrien/repos/In-Context-Domain-Transfer-Improves-Out-of-Domain-Robustness/datasets/analysis/export_logs/export_run_analysis.ipynb\u001b[39m\u001b[39m\"\u001b[39m\n\u001b[1;32m      <a href='vscode-notebook-cell://ssh-remote%2B7b22686f73744e616d65223a22417a757265227d/home/kyobrien/repos/In-Context-Domain-Transfer-Improves-Out-of-Domain-Robustness/datasets/analysis/export_logs/export_run_analysis.ipynb#W6sdnNjb2RlLXJlbW90ZQ%3D%3D?line=5'>6</a>\u001b[0m     json_file \u001b[39m=\u001b[39m json\u001b[39m.\u001b[39mload(\u001b[39mopen\u001b[39m(local_path))\n",
      "\u001b[0;31mNameError\u001b[0m: name 'local_paths' is not defined"
     ]
    }
   ],
   "source": [
    "# create DatsetDict\n",
    "\n",
    "combined_datset = DatasetDict()\n",
    "for split_name in local_paths:\n",
    "    local_path = \"/home/kyobrien/repos/In-Context-Domain-Transfer-Improves-Out-of-Domain-Robustness/datasets/analysis/export_logs/export_run_analysis.ipynb\"\n",
    "    json_file = json.load(open(local_path))\n",
    "    frame = pd.DataFrame(columns=json_file[\"columns\"], data=json_file[\"data\"])\n",
    "    dataset = Dataset.from_pandas(frame)\n",
    "    combined_datset[split_name] = dataset\n",
    "    break\n",
    "\n",
    "combined_datset\n"
   ]
  },
  {
   "cell_type": "code",
   "execution_count": null,
   "metadata": {},
   "outputs": [],
   "source": []
  }
 ],
 "metadata": {
  "kernelspec": {
   "display_name": "eval-aug",
   "language": "python",
   "name": "python3"
  },
  "language_info": {
   "codemirror_mode": {
    "name": "ipython",
    "version": 3
   },
   "file_extension": ".py",
   "mimetype": "text/x-python",
   "name": "python",
   "nbconvert_exporter": "python",
   "pygments_lexer": "ipython3",
   "version": "3.10.13"
  }
 },
 "nbformat": 4,
 "nbformat_minor": 2
}
