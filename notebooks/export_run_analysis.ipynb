{
 "cells": [
  {
   "cell_type": "code",
   "execution_count": 1,
   "metadata": {},
   "outputs": [
    {
     "name": "stderr",
     "output_type": "stream",
     "text": [
      "/home/kyobrien/conda/envs/eval-aug/lib/python3.10/site-packages/tqdm/auto.py:21: TqdmWarning: IProgress not found. Please update jupyter and ipywidgets. See https://ipywidgets.readthedocs.io/en/stable/user_install.html\n",
      "  from .autonotebook import tqdm as notebook_tqdm\n"
     ]
    }
   ],
   "source": [
    "from datasets import Dataset, DatasetDict\n",
    "from tqdm import tqdm\n",
    "import pandas as pd\n",
    "import json\n",
    "import wandb\n",
    "import os"
   ]
  },
  {
   "cell_type": "code",
   "execution_count": 2,
   "metadata": {},
   "outputs": [
    {
     "name": "stdout",
     "output_type": "stream",
     "text": [
      "{\n",
      "    \"BOSS_Sentiment_ID_BERT_Insert\": \"run-vj8tss18-validation_aug_insert_random_16_Kyle1668bosssentimentbertbaseuncased_style_logs:v0\",\n",
      "    \"BOSS_Sentiment_ID_BERT_Substitute\": \"\",\n",
      "    \"BOSS_Sentiment_ID_BERT_Translate\": \"\",\n",
      "    \"BOSS_Sentiment_ID_BERT_Paraphrase\": \"\",\n",
      "    \"BOSS_Sentiment_ID_BERT_ICR\": \"run-yanx1dus-validation_stabilityaiStableBeluga7b_random_16_Kyle1668bosssentimentbertbaseuncased_style_logs:v0\",\n",
      "    \"BOSS_Sentiment_ID_T5_Insert\": \"run-vj8tss18-validation_aug_insert_random_16_Kyle1668bosssentimentt5large_style_logs:v0\",\n",
      "    \"BOSS_Sentiment_ID_T5_Substitute\": \"run-vj8tss18-validation_aug_substitute_random_16_Kyle1668bosssentimentt5large_style_logs:v0\",\n",
      "    \"BOSS_Sentiment_ID_T5_Translate\": \"run-vj8tss18-validation_aug_backtranslate_random_16_Kyle1668bosssentimentt5large_style_logs:v0\",\n",
      "    \"BOSS_Sentiment_ID_T5_Paraphrase\": \"\",\n",
      "    \"BOSS_Sentiment_ID_T5_ICR\": \"\",\n",
      "    \"BOSS_Sentiment_ID_Falcon_Insert\": \"run-j11olfw3-validation_aug_insert_random_16_tiiuaefalcon7binstruct_style_logs:v0\",\n",
      "    \"BOSS_Sentiment_ID_Falcon_Substitute\": \"run-j11olfw3-validation_aug_substitute_random_16_tiiuaefalcon7binstruct_style_logs:v0\",\n",
      "    \"BOSS_Sentiment_ID_Falcon_Translate\": \"run-j11olfw3-validation_aug_backtranslate_random_16_tiiuaefalcon7binstruct_style_logs:v0\",\n",
      "    \"BOSS_Sentiment_ID_Falcon_Paraphrase\": \"\",\n",
      "    \"BOSS_Sentiment_ID_Falcon_ICR\": \"\",\n",
      "    \"BOSS_Sentiment_SST5_BERT_Insert\": \"run-hhtbcw8x-sst5_aug_insert_random_16_Kyle1668bosssentimentbertbaseuncased_style_logs:v0\",\n",
      "    \"BOSS_Sentiment_SST5_BERT_Substitute\": \"run-hhtbcw8x-sst5_aug_substitute_random_16_Kyle1668bosssentimentbertbaseuncased_style_logs:v0\",\n",
      "    \"BOSS_Sentiment_SST5_BERT_Translate\": \"run-hhtbcw8x-sst5_aug_backtranslate_random_16_Kyle1668bosssentimentbertbaseuncased_style_logs:v0\",\n",
      "    \"BOSS_Sentiment_SST5_BERT_Paraphrase\": \"run-hhtbcw8x-sst5_stabilityaiStableBeluga7b_random_0_Kyle1668bosssentimentbertbaseuncased_style_logs:v0\",\n",
      "    \"BOSS_Sentiment_SST5_BERT_ICR\": \"run-hhtbcw8x-sst5_stabilityaiStableBeluga7b_random_16_Kyle1668bosssentimentbertbaseuncased_style_logs:v0\",\n",
      "    \"BOSS_Sentiment_SST5_T5_Insert\": \"run-hhtbcw8x-sst5_aug_insert_random_16_Kyle1668bosssentimentt5large_style_logs:v0\",\n",
      "    \"BOSS_Sentiment_SST5_T5_Substitute\": \"run-hhtbcw8x-sst5_aug_substitute_random_16_Kyle1668bosssentimentt5large_style_logs:v0\",\n",
      "    \"BOSS_Sentiment_SST5_T5_Translate\": \"run-hhtbcw8x-sst5_aug_backtranslate_random_16_Kyle1668bosssentimentt5large_style_logs:v0\",\n",
      "    \"BOSS_Sentiment_SST5_T5_Paraphrase\": \"run-hhtbcw8x-sst5_stabilityaiStableBeluga7b_random_0_Kyle1668bosssentimentt5large_style_logs:v0\",\n",
      "    \"BOSS_Sentiment_SST5_T5_ICR\": \"run-hhtbcw8x-sst5_stabilityaiStableBeluga7b_random_16_Kyle1668bosssentimentt5large_style_logs:v0\",\n",
      "    \"BOSS_Sentiment_SST5_Falcon_Insert\": \"run-hhtbcw8x-sst5_aug_insert_random_16_tiiuaefalcon7binstruct_style_logs:v0\",\n",
      "    \"BOSS_Sentiment_SST5_Falcon_Substitute\": \"run-hhtbcw8x-sst5_aug_substitute_random_16_tiiuaefalcon7binstruct_style_logs:v0\",\n",
      "    \"BOSS_Sentiment_SST5_Falcon_Translate\": \"run-hhtbcw8x-sst5_aug_backtranslate_random_16_tiiuaefalcon7binstruct_style_logs:v0\",\n",
      "    \"BOSS_Sentiment_SST5_Falcon_Paraphrase\": \"run-hhtbcw8x-sst5_stabilityaiStableBeluga7b_random_0_tiiuaefalcon7binstruct_style_logs:v0\",\n",
      "    \"BOSS_Sentiment_SST5_Falcon_ICR\": \"run-hhtbcw8x-sst5_stabilityaiStableBeluga7b_random_16_tiiuaefalcon7binstruct_style_logs:v0\",\n",
      "    \"BOSS_Sentiment_SemEval_BERT_Insert\": \"run-hhtbcw8x-semval_aug_insert_random_16_Kyle1668bosssentimentbertbaseuncased_style_logs:v0\",\n",
      "    \"BOSS_Sentiment_SemEval_BERT_Substitute\": \"run-hhtbcw8x-semval_aug_substitute_random_16_Kyle1668bosssentimentbertbaseuncased_style_logs:v0\",\n",
      "    \"BOSS_Sentiment_SemEval_BERT_Translate\": \"run-hhtbcw8x-semval_aug_backtranslate_random_16_Kyle1668bosssentimentbertbaseuncased_style_logs:v0\",\n",
      "    \"BOSS_Sentiment_SemEval_BERT_Paraphrase\": \"run-hhtbcw8x-semval_stabilityaiStableBeluga7b_random_0_Kyle1668bosssentimentbertbaseuncased_style_logs:v0\",\n",
      "    \"BOSS_Sentiment_SemEval_BERT_ICR\": \"run-hhtbcw8x-semval_stabilityaiStableBeluga7b_random_16_Kyle1668bosssentimentbertbaseuncased_style_logs:v0\",\n",
      "    \"BOSS_Sentiment_SemEval_T5_Insert\": \"run-hhtbcw8x-semval_aug_insert_random_16_Kyle1668bosssentimentt5large_style_logs:v0\",\n",
      "    \"BOSS_Sentiment_SemEval_T5_Substitute\": \"run-hhtbcw8x-semval_aug_substitute_random_16_Kyle1668bosssentimentt5large_style_logs:v0\",\n",
      "    \"BOSS_Sentiment_SemEval_T5_Translate\": \"run-hhtbcw8x-semval_aug_backtranslate_random_16_Kyle1668bosssentimentt5large_style_logs:v0\",\n",
      "    \"BOSS_Sentiment_SemEval_T5_Paraphrase\": \"run-hhtbcw8x-semval_stabilityaiStableBeluga7b_random_0_Kyle1668bosssentimentt5large_style_logs:v0\",\n",
      "    \"BOSS_Sentiment_SemEval_T5_ICR\": \"run-hhtbcw8x-semval_stabilityaiStableBeluga7b_random_16_Kyle1668bosssentimentt5large_style_logs:v0\",\n",
      "    \"BOSS_Sentiment_SemEval_Falcon_Insert\": \"run-hhtbcw8x-semval_aug_insert_random_16_tiiuaefalcon7binstruct_style_logs:v0\",\n",
      "    \"BOSS_Sentiment_SemEval_Falcon_Substitute\": \"run-hhtbcw8x-semval_aug_substitute_random_16_tiiuaefalcon7binstruct_style_logs:v0\",\n",
      "    \"BOSS_Sentiment_SemEval_Falcon_Translate\": \"run-hhtbcw8x-semval_aug_backtranslate_random_16_tiiuaefalcon7binstruct_style_logs:v0\",\n",
      "    \"BOSS_Sentiment_SemEval_Falcon_Paraphrase\": \"run-hhtbcw8x-semval_stabilityaiStableBeluga7b_random_0_tiiuaefalcon7binstruct_style_logs:v0\",\n",
      "    \"BOSS_Sentiment_SemEval_Falcon_ICR\": \"run-hhtbcw8x-semval_stabilityaiStableBeluga7b_random_16_tiiuaefalcon7binstruct_style_logs:v0\",\n",
      "    \"BOSS_Sentiment_Dynasent_BERT_Insert\": \"run-hhtbcw8x-dynasent_aug_insert_random_16_Kyle1668bosssentimentbertbaseuncased_style_logs:v0\",\n",
      "    \"BOSS_Sentiment_Dynasent_BERT_Substitute\": \"run-hhtbcw8x-dynasent_aug_substitute_random_16_Kyle1668bosssentimentbertbaseuncased_style_logs:v0\",\n",
      "    \"BOSS_Sentiment_Dynasent_BERT_Translate\": \"run-hhtbcw8x-dynasent_aug_backtranslate_random_16_Kyle1668bosssentimentbertbaseuncased_style_logs:v0\",\n",
      "    \"BOSS_Sentiment_Dynasent_BERT_Paraphrase\": \"run-hhtbcw8x-dynasent_stabilityaiStableBeluga7b_random_0_Kyle1668bosssentimentbertbaseuncased_style_logs:v0\",\n",
      "    \"BOSS_Sentiment_Dynasent_BERT_ICR\": \"run-hhtbcw8x-dynasent_stabilityaiStableBeluga7b_random_16_Kyle1668bosssentimentbertbaseuncased_style_logs:v0\",\n",
      "    \"BOSS_Sentiment_Dynasent_T5_Insert\": \"run-hhtbcw8x-dynasent_aug_insert_random_16_Kyle1668bosssentimentt5large_style_logs:v0\",\n",
      "    \"BOSS_Sentiment_Dynasent_T5_Substitute\": \"run-hhtbcw8x-dynasent_aug_substitute_random_16_Kyle1668bosssentimentt5large_style_logs:v0\",\n",
      "    \"BOSS_Sentiment_Dynasent_T5_Translate\": \"run-hhtbcw8x-dynasent_aug_backtranslate_random_16_Kyle1668bosssentimentt5large_style_logs:v0\",\n",
      "    \"BOSS_Sentiment_Dynasent_T5_Paraphrase\": \"run-hhtbcw8x-dynasent_stabilityaiStableBeluga7b_random_0_Kyle1668bosssentimentt5large_style_logs:v0\",\n",
      "    \"BOSS_Sentiment_Dynasent_T5_ICR\": \"run-hhtbcw8x-dynasent_stabilityaiStableBeluga7b_random_16_Kyle1668bosssentimentt5large_style_logs:v0\",\n",
      "    \"BOSS_Sentiment_Dynasent_Falcon_Insert\": \"run-hhtbcw8x-dynasent_aug_insert_random_16_tiiuaefalcon7binstruct_style_logs:v0\",\n",
      "    \"BOSS_Sentiment_Dynasent_Falcon_Substitute\": \"run-hhtbcw8x-dynasent_aug_substitute_random_16_tiiuaefalcon7binstruct_style_logs:v0\",\n",
      "    \"BOSS_Sentiment_Dynasent_Falcon_Translate\": \"run-hhtbcw8x-dynasent_aug_backtranslate_random_16_tiiuaefalcon7binstruct_style_logs:v0\",\n",
      "    \"BOSS_Sentiment_Dynasent_Falcon_Paraphrase\": \"run-hhtbcw8x-dynasent_stabilityaiStableBeluga7b_random_0_tiiuaefalcon7binstruct_style_logs:v0\",\n",
      "    \"BOSS_Sentiment_Dynasent_Falcon_ICR\": \"run-hhtbcw8x-dynasent_stabilityaiStableBeluga7b_random_16_tiiuaefalcon7binstruct_style_logs:v0\",\n",
      "    \"BOSS_Toxicity_ID_BERT_Insert\": \"\",\n",
      "    \"BOSS_Toxicity_ID_BERT_Substitute\": \"\",\n",
      "    \"BOSS_Toxicity_ID_BERT_Translate\": \"\",\n",
      "    \"BOSS_Toxicity_ID_BERT_Paraphrase\": \"\",\n",
      "    \"BOSS_Toxicity_ID_BERT_ICR\": \"run-dvdcuuij-validation_stabilityaiStableBeluga7b_random_16_Kyle1668bosstoxicitybertbaseuncased_style_logs:v0\",\n",
      "    \"BOSS_Toxicity_ID_T5_Insert\": \"\",\n",
      "    \"BOSS_Toxicity_ID_T5_Substitute\": \"\",\n",
      "    \"BOSS_Toxicity_ID_T5_Translate\": \"\",\n",
      "    \"BOSS_Toxicity_ID_T5_Paraphrase\": \"\",\n",
      "    \"BOSS_Toxicity_ID_T5_ICR\": \"\",\n",
      "    \"BOSS_Toxicity_ID_Falcon_Insert\": \"run-bo8gbtun-validation_aug_insert_random_16_tiiuaefalcon7binstruct_style_logs:v0\",\n",
      "    \"BOSS_Toxicity_ID_Falcon_Substitute\": \"\",\n",
      "    \"BOSS_Toxicity_ID_Falcon_Translate\": \"\",\n",
      "    \"BOSS_Toxicity_ID_Falcon_Paraphrase\": \"\",\n",
      "    \"BOSS_Toxicity_ID_Falcon_ICR\": \"\",\n",
      "    \"BOSS_Toxicity_Toxigen_BERT_Insert\": \"run-lixlm6qh-toxigen_aug_insert_random_16_Kyle1668bosstoxicitybertbaseuncased_style_logs:v0\",\n",
      "    \"BOSS_Toxicity_Toxigen_BERT_Substitute\": \"run-lixlm6qh-toxigen_aug_substitute_random_16_Kyle1668bosstoxicitybertbaseuncased_style_logs:v0\",\n",
      "    \"BOSS_Toxicity_Toxigen_BERT_Translate\": \"run-lixlm6qh-toxigen_aug_backtranslate_random_16_Kyle1668bosstoxicitybertbaseuncased_style_logs:v0\",\n",
      "    \"BOSS_Toxicity_Toxigen_BERT_Paraphrase\": \"run-lixlm6qh-toxigen_stabilityaiStableBeluga7b_random_0_Kyle1668bosstoxicitybertbaseuncased_style_logs:v0\",\n",
      "    \"BOSS_Toxicity_Toxigen_BERT_ICR\": \"run-lixlm6qh-toxigen_stabilityaiStableBeluga7b_random_16_Kyle1668bosstoxicitybertbaseuncased_style_logs:v0\",\n",
      "    \"BOSS_Toxicity_Toxigen_T5_Insert\": \"run-lixlm6qh-toxigen_aug_insert_random_16_Kyle1668bosstoxicityt5large_style_logs:v0\",\n",
      "    \"BOSS_Toxicity_Toxigen_T5_Substitute\": \"run-lixlm6qh-toxigen_aug_substitute_random_16_Kyle1668bosstoxicityt5large_style_logs:v0\",\n",
      "    \"BOSS_Toxicity_Toxigen_T5_Translate\": \"run-lixlm6qh-toxigen_aug_backtranslate_random_16_Kyle1668bosstoxicityt5large_style_logs:v0\",\n",
      "    \"BOSS_Toxicity_Toxigen_T5_Paraphrase\": \"run-lixlm6qh-toxigen_stabilityaiStableBeluga7b_random_0_Kyle1668bosstoxicityt5large_style_logs:v0\",\n",
      "    \"BOSS_Toxicity_Toxigen_T5_ICR\": \"run-lixlm6qh-toxigen_stabilityaiStableBeluga7b_random_16_Kyle1668bosstoxicityt5large_style_logs:v0\",\n",
      "    \"BOSS_Toxicity_Toxigen_Falcon_Insert\": \"run-lixlm6qh-toxigen_aug_insert_random_16_tiiuaefalcon7binstruct_style_logs:v0\",\n",
      "    \"BOSS_Toxicity_Toxigen_Falcon_Substitute\": \"run-lixlm6qh-toxigen_aug_substitute_random_16_tiiuaefalcon7binstruct_style_logs:v0\",\n",
      "    \"BOSS_Toxicity_Toxigen_Falcon_Translate\": \"run-lixlm6qh-toxigen_aug_backtranslate_random_16_tiiuaefalcon7binstruct_style_logs:v0\",\n",
      "    \"BOSS_Toxicity_Toxigen_Falcon_Paraphrase\": \"run-lixlm6qh-toxigen_stabilityaiStableBeluga7b_random_0_tiiuaefalcon7binstruct_style_logs:v0\",\n",
      "    \"BOSS_Toxicity_Toxigen_Falcon_ICR\": \"run-lixlm6qh-toxigen_stabilityaiStableBeluga7b_random_16_tiiuaefalcon7binstruct_style_logs:v0\",\n",
      "    \"BOSS_Toxicity_ImplicitHate_BERT_Insert\": \"run-lixlm6qh-implicit_hate_aug_insert_random_16_Kyle1668bosstoxicitybertbaseuncased_style_logs:v0\",\n",
      "    \"BOSS_Toxicity_ImplicitHate_BERT_Substitute\": \"run-lixlm6qh-implicit_hate_aug_substitute_random_16_Kyle1668bosstoxicitybertbaseuncased_style_logs:v0\",\n",
      "    \"BOSS_Toxicity_ImplicitHate_BERT_Translate\": \"run-lixlm6qh-implicit_hate_aug_backtranslate_random_16_Kyle1668bosstoxicitybertbaseuncased_style_logs:v0\",\n",
      "    \"BOSS_Toxicity_ImplicitHate_BERT_Paraphrase\": \"run-lixlm6qh-implicit_hate_stabilityaiStableBeluga7b_random_0_Kyle1668bosstoxicitybertbaseuncased_style_logs:v0\",\n",
      "    \"BOSS_Toxicity_ImplicitHate_BERT_ICR\": \"run-lixlm6qh-implicit_hate_stabilityaiStableBeluga7b_random_16_Kyle1668bosstoxicitybertbaseuncased_style_logs:v0\",\n",
      "    \"BOSS_Toxicity_ImplicitHate_T5_Insert\": \"run-lixlm6qh-implicit_hate_aug_insert_random_16_Kyle1668bosstoxicityt5large_style_logs:v0\",\n",
      "    \"BOSS_Toxicity_ImplicitHate_T5_Substitute\": \"run-lixlm6qh-implicit_hate_aug_substitute_random_16_Kyle1668bosstoxicityt5large_style_logs:v0\",\n",
      "    \"BOSS_Toxicity_ImplicitHate_T5_Translate\": \"run-lixlm6qh-implicit_hate_aug_backtranslate_random_16_Kyle1668bosstoxicityt5large_style_logs:v0\",\n",
      "    \"BOSS_Toxicity_ImplicitHate_T5_Paraphrase\": \"run-lixlm6qh-implicit_hate_stabilityaiStableBeluga7b_random_0_Kyle1668bosstoxicityt5large_style_logs:v0\",\n",
      "    \"BOSS_Toxicity_ImplicitHate_T5_ICR\": \"run-lixlm6qh-implicit_hate_stabilityaiStableBeluga7b_random_16_Kyle1668bosstoxicityt5large_style_logs:v0\",\n",
      "    \"BOSS_Toxicity_ImplicitHate_Falcon_Insert\": \"run-lixlm6qh-implicit_hate_aug_insert_random_16_tiiuaefalcon7binstruct_style_logs:v0\",\n",
      "    \"BOSS_Toxicity_ImplicitHate_Falcon_Substitute\": \"run-lixlm6qh-implicit_hate_aug_substitute_random_16_tiiuaefalcon7binstruct_style_logs:v0\",\n",
      "    \"BOSS_Toxicity_ImplicitHate_Falcon_Translate\": \"run-lixlm6qh-implicit_hate_aug_backtranslate_random_16_tiiuaefalcon7binstruct_style_logs:v0\",\n",
      "    \"BOSS_Toxicity_ImplicitHate_Falcon_Paraphrase\": \"\",\n",
      "    \"BOSS_Toxicity_ImplicitHate_Falcon_ICR\": \"\",\n",
      "    \"BOSS_Toxicity_AdvCivil_BERT_Insert\": \"run-lixlm6qh-adv_civil_aug_insert_random_16_Kyle1668bosstoxicitybertbaseuncased_style_logs:v0\",\n",
      "    \"BOSS_Toxicity_AdvCivil_BERT_Substitute\": \"run-lixlm6qh-adv_civil_aug_substitute_random_16_Kyle1668bosstoxicitybertbaseuncased_style_logs:v0\",\n",
      "    \"BOSS_Toxicity_AdvCivil_BERT_Translate\": \"run-lixlm6qh-adv_civil_aug_backtranslate_random_16_Kyle1668bosstoxicitybertbaseuncased_style_logs:v0\",\n",
      "    \"BOSS_Toxicity_AdvCivil_BERT_Paraphrase\": \"run-lixlm6qh-adv_civil_stabilityaiStableBeluga7b_random_0_Kyle1668bosstoxicitybertbaseuncased_style_logs:v0\",\n",
      "    \"BOSS_Toxicity_AdvCivil_BERT_ICR\": \"run-lixlm6qh-adv_civil_stabilityaiStableBeluga7b_random_16_Kyle1668bosstoxicitybertbaseuncased_style_logs:v0\",\n",
      "    \"BOSS_Toxicity_AdvCivil_T5_Insert\": \"run-lixlm6qh-adv_civil_aug_insert_random_16_Kyle1668bosstoxicityt5large_style_logs:v0\",\n",
      "    \"BOSS_Toxicity_AdvCivil_T5_Substitute\": \"run-lixlm6qh-adv_civil_aug_substitute_random_16_Kyle1668bosstoxicityt5large_style_logs:v0\",\n",
      "    \"BOSS_Toxicity_AdvCivil_T5_Translate\": \"run-lixlm6qh-adv_civil_aug_backtranslate_random_16_Kyle1668bosstoxicityt5large_style_logs:v0\",\n",
      "    \"BOSS_Toxicity_AdvCivil_T5_Paraphrase\": \"run-lixlm6qh-adv_civil_stabilityaiStableBeluga7b_random_0_Kyle1668bosstoxicityt5large_style_logs:v0\",\n",
      "    \"BOSS_Toxicity_AdvCivil_T5_ICR\": \"run-lixlm6qh-adv_civil_stabilityaiStableBeluga7b_random_16_Kyle1668bosstoxicityt5large_style_logs:v0\",\n",
      "    \"BOSS_Toxicity_AdvCivil_Falcon_Insert\": \"run-lixlm6qh-adv_civil_aug_insert_random_16_tiiuaefalcon7binstruct_style_logs:v0\",\n",
      "    \"BOSS_Toxicity_AdvCivil_Falcon_Substitute\": \"run-lixlm6qh-adv_civil_aug_substitute_random_16_tiiuaefalcon7binstruct_style_logs:v0\",\n",
      "    \"BOSS_Toxicity_AdvCivil_Falcon_Translate\": \"run-lixlm6qh-adv_civil_aug_backtranslate_random_16_tiiuaefalcon7binstruct_style_logs:v0\",\n",
      "    \"BOSS_Toxicity_AdvCivil_Falcon_Paraphrase\": \"run-lixlm6qh-adv_civil_stabilityaiStableBeluga7b_random_0_tiiuaefalcon7binstruct_style_logs:v0\",\n",
      "    \"BOSS_Toxicity_AdvCivil_Falcon_ICR\": \"run-lixlm6qh-adv_civil_stabilityaiStableBeluga7b_random_16_tiiuaefalcon7binstruct_style_logs:v0\",\n",
      "    \"AgNewsTweets_ID_BERT_Insert\": \"run-i2vkae2s-validation_aug_insert_random_16_Kyle1668agnewsbertbaseuncased_style_logs:v0\",\n",
      "    \"AgNewsTweets_ID_BERT_Substitute\": \"run-i2vkae2s-validation_aug_substitute_random_16_Kyle1668agnewsbertbaseuncased_style_logs:v0\",\n",
      "    \"AgNewsTweets_ID_BERT_Translate\": \"run-i2vkae2s-validation_aug_backtranslate_random_16_Kyle1668agnewsbertbaseuncased_style_logs:v0\",\n",
      "    \"AgNewsTweets_ID_BERT_Paraphrase\": \"run-i2vkae2s-validation_stabilityaiStableBeluga7b_random_0_Kyle1668agnewsbertbaseuncased_style_logs:v0\",\n",
      "    \"AgNewsTweets_ID_BERT_ICR\": \"run-i2vkae2s-validation_stabilityaiStableBeluga7b_random_16_Kyle1668agnewsbertbaseuncased_style_logs:v0\",\n",
      "    \"AgNewsTweets_ID_T5_Insert\": \"run-i2vkae2s-validation_aug_insert_random_16_Kyle1668agnewst5large_style_logs:v0\",\n",
      "    \"AgNewsTweets_ID_T5_Substitute\": \"run-i2vkae2s-validation_aug_substitute_random_16_Kyle1668agnewst5large_style_logs:v0\",\n",
      "    \"AgNewsTweets_ID_T5_Translate\": \"run-i2vkae2s-validation_aug_backtranslate_random_16_Kyle1668agnewst5large_style_logs:v0\",\n",
      "    \"AgNewsTweets_ID_T5_Paraphrase\": \"run-i2vkae2s-validation_stabilityaiStableBeluga7b_random_0_Kyle1668agnewst5large_style_logs:v0\",\n",
      "    \"AgNewsTweets_ID_T5_ICR\": \"run-i2vkae2s-validation_stabilityaiStableBeluga7b_random_16_Kyle1668agnewst5large_style_logs:v0\",\n",
      "    \"AgNewsTweets_ID_Falcon_Insert\": \"run-i2vkae2s-validation_aug_insert_random_16_tiiuaefalcon7binstruct_style_logs:v0\",\n",
      "    \"AgNewsTweets_ID_Falcon_Substitute\": \"run-i2vkae2s-validation_aug_substitute_random_16_tiiuaefalcon7binstruct_style_logs:v0\",\n",
      "    \"AgNewsTweets_ID_Falcon_Translate\": \"run-i2vkae2s-validation_aug_backtranslate_random_16_tiiuaefalcon7binstruct_style_logs:v0\",\n",
      "    \"AgNewsTweets_ID_Falcon_Paraphrase\": \"run-i2vkae2s-validation_stabilityaiStableBeluga7b_random_0_tiiuaefalcon7binstruct_style_logs:v0\",\n",
      "    \"AgNewsTweets_ID_Falcon_ICR\": \"run-i2vkae2s-validation_stabilityaiStableBeluga7b_random_16_tiiuaefalcon7binstruct_style_logs:v0\",\n",
      "    \"AgNewsTweets_Tweets_BERT_Insert\": \"run-xdipkawo-test_aug_insert_random_16_Kyle1668agnewsbertbaseuncased_style_logs:v0\",\n",
      "    \"AgNewsTweets_Tweets_BERT_Substitute\": \"run-xdipkawo-test_aug_substitute_random_16_Kyle1668agnewsbertbaseuncased_style_logs:v0\",\n",
      "    \"AgNewsTweets_Tweets_BERT_Translate\": \"run-xdipkawo-test_aug_backtranslate_random_16_Kyle1668agnewsbertbaseuncased_style_logs:v0\",\n",
      "    \"AgNewsTweets_Tweets_BERT_Paraphrase\": \"run-xdipkawo-test_stabilityaiStableBeluga7b_random_0_Kyle1668agnewsbertbaseuncased_style_logs:v0\",\n",
      "    \"AgNewsTweets_Tweets_BERT_ICR\": \"run-xdipkawo-test_stabilityaiStableBeluga7b_random_16_Kyle1668agnewsbertbaseuncased_style_logs:v0\",\n",
      "    \"AgNewsTweets_Tweets_T5_Insert\": \"run-xdipkawo-test_aug_insert_random_16_Kyle1668agnewst5large_style_logs:v0\",\n",
      "    \"AgNewsTweets_Tweets_T5_Substitute\": \"run-xdipkawo-test_aug_substitute_random_16_Kyle1668agnewst5large_style_logs:v0\",\n",
      "    \"AgNewsTweets_Tweets_T5_Translate\": \"run-xdipkawo-test_aug_backtranslate_random_16_Kyle1668agnewst5large_style_logs:v0\",\n",
      "    \"AgNewsTweets_Tweets_T5_Paraphrase\": \"run-xdipkawo-test_stabilityaiStableBeluga7b_random_0_Kyle1668agnewst5large_style_logs:v0\",\n",
      "    \"AgNewsTweets_Tweets_T5_ICR\": \"run-xdipkawo-test_stabilityaiStableBeluga7b_random_16_Kyle1668agnewst5large_style_logs:v0\",\n",
      "    \"AgNewsTweets_Tweets_Falcon_Insert\": \"run-xdipkawo-test_aug_insert_random_16_tiiuaefalcon7binstruct_style_logs:v0\",\n",
      "    \"AgNewsTweets_Tweets_Falcon_Substitute\": \"run-xdipkawo-test_aug_substitute_random_16_tiiuaefalcon7binstruct_style_logs:v0\",\n",
      "    \"AgNewsTweets_Tweets_Falcon_Translate\": \"run-xdipkawo-test_aug_backtranslate_random_16_tiiuaefalcon7binstruct_style_logs:v0\",\n",
      "    \"AgNewsTweets_Tweets_Falcon_Paraphrase\": \"run-xdipkawo-test_stabilityaiStableBeluga7b_random_0_tiiuaefalcon7binstruct_style_logs:v0\",\n",
      "    \"AgNewsTweets_Tweets_Falcon_ICR\": \"\"\n",
      "}\n"
     ]
    }
   ],
   "source": [
    "project_name = \"healthyml/In-Context Domain Transfer Improves Out-of-Domain Robustness\"\n",
    "table_paths = {\n",
    "    # BOSS Sentiment\n",
    "    # ID\n",
    "    # BERT\n",
    "    \"BOSS_Sentiment_ID_BERT_Insert\": \"run-vj8tss18-validation_aug_insert_random_16_Kyle1668bosssentimentbertbaseuncased_style_logs:v0\",\n",
    "    \"BOSS_Sentiment_ID_BERT_Substitute\": \"\",\n",
    "    \"BOSS_Sentiment_ID_BERT_Translate\": \"\",\n",
    "    \"BOSS_Sentiment_ID_BERT_Paraphrase\": \"\",\n",
    "    \"BOSS_Sentiment_ID_BERT_ICR\": \"run-yanx1dus-validation_stabilityaiStableBeluga7b_random_16_Kyle1668bosssentimentbertbaseuncased_style_logs:v0\",\n",
    "\n",
    "    # T5\n",
    "    \"BOSS_Sentiment_ID_T5_Insert\": \"run-vj8tss18-validation_aug_insert_random_16_Kyle1668bosssentimentt5large_style_logs:v0\",\n",
    "    \"BOSS_Sentiment_ID_T5_Substitute\": \"run-vj8tss18-validation_aug_substitute_random_16_Kyle1668bosssentimentt5large_style_logs:v0\",\n",
    "    \"BOSS_Sentiment_ID_T5_Translate\": \"run-vj8tss18-validation_aug_backtranslate_random_16_Kyle1668bosssentimentt5large_style_logs:v0\",\n",
    "    \"BOSS_Sentiment_ID_T5_Paraphrase\": \"\",\n",
    "    \"BOSS_Sentiment_ID_T5_ICR\": \"\",\n",
    "\n",
    "    # Falcon\n",
    "    \"BOSS_Sentiment_ID_Falcon_Insert\": \"run-j11olfw3-validation_aug_insert_random_16_tiiuaefalcon7binstruct_style_logs:v0\",\n",
    "    \"BOSS_Sentiment_ID_Falcon_Substitute\": \"run-j11olfw3-validation_aug_substitute_random_16_tiiuaefalcon7binstruct_style_logs:v0\",\n",
    "    \"BOSS_Sentiment_ID_Falcon_Translate\": \"run-j11olfw3-validation_aug_backtranslate_random_16_tiiuaefalcon7binstruct_style_logs:v0\",\n",
    "    \"BOSS_Sentiment_ID_Falcon_Paraphrase\": \"\",\n",
    "    \"BOSS_Sentiment_ID_Falcon_ICR\": \"\",\n",
    "\n",
    "    # SST5\n",
    "    # BERT\n",
    "    \"BOSS_Sentiment_SST5_BERT_Insert\": \"run-hhtbcw8x-sst5_aug_insert_random_16_Kyle1668bosssentimentbertbaseuncased_style_logs:v0\",\n",
    "    \"BOSS_Sentiment_SST5_BERT_Substitute\": \"run-hhtbcw8x-sst5_aug_substitute_random_16_Kyle1668bosssentimentbertbaseuncased_style_logs:v0\",\n",
    "    \"BOSS_Sentiment_SST5_BERT_Translate\": \"run-hhtbcw8x-sst5_aug_backtranslate_random_16_Kyle1668bosssentimentbertbaseuncased_style_logs:v0\",\n",
    "    \"BOSS_Sentiment_SST5_BERT_Paraphrase\": \"run-hhtbcw8x-sst5_stabilityaiStableBeluga7b_random_0_Kyle1668bosssentimentbertbaseuncased_style_logs:v0\",\n",
    "    \"BOSS_Sentiment_SST5_BERT_ICR\": \"run-hhtbcw8x-sst5_stabilityaiStableBeluga7b_random_16_Kyle1668bosssentimentbertbaseuncased_style_logs:v0\",\n",
    "\n",
    "    # T5\n",
    "    \"BOSS_Sentiment_SST5_T5_Insert\": \"run-hhtbcw8x-sst5_aug_insert_random_16_Kyle1668bosssentimentt5large_style_logs:v0\",\n",
    "    \"BOSS_Sentiment_SST5_T5_Substitute\": \"run-hhtbcw8x-sst5_aug_substitute_random_16_Kyle1668bosssentimentt5large_style_logs:v0\",\n",
    "    \"BOSS_Sentiment_SST5_T5_Translate\": \"run-hhtbcw8x-sst5_aug_backtranslate_random_16_Kyle1668bosssentimentt5large_style_logs:v0\",\n",
    "    \"BOSS_Sentiment_SST5_T5_Paraphrase\": \"run-hhtbcw8x-sst5_stabilityaiStableBeluga7b_random_0_Kyle1668bosssentimentt5large_style_logs:v0\",\n",
    "    \"BOSS_Sentiment_SST5_T5_ICR\": \"run-hhtbcw8x-sst5_stabilityaiStableBeluga7b_random_16_Kyle1668bosssentimentt5large_style_logs:v0\",\n",
    "\n",
    "    # Falcon\n",
    "    \"BOSS_Sentiment_SST5_Falcon_Insert\": \"run-hhtbcw8x-sst5_aug_insert_random_16_tiiuaefalcon7binstruct_style_logs:v0\",\n",
    "    \"BOSS_Sentiment_SST5_Falcon_Substitute\": \"run-hhtbcw8x-sst5_aug_substitute_random_16_tiiuaefalcon7binstruct_style_logs:v0\",\n",
    "    \"BOSS_Sentiment_SST5_Falcon_Translate\": \"run-hhtbcw8x-sst5_aug_backtranslate_random_16_tiiuaefalcon7binstruct_style_logs:v0\",\n",
    "    \"BOSS_Sentiment_SST5_Falcon_Paraphrase\": \"run-hhtbcw8x-sst5_stabilityaiStableBeluga7b_random_0_tiiuaefalcon7binstruct_style_logs:v0\",\n",
    "    \"BOSS_Sentiment_SST5_Falcon_ICR\": \"run-hhtbcw8x-sst5_stabilityaiStableBeluga7b_random_16_tiiuaefalcon7binstruct_style_logs:v0\",\n",
    "\n",
    "    # SemEval\n",
    "    # BERT\n",
    "    \"BOSS_Sentiment_SemEval_BERT_Insert\": \"run-hhtbcw8x-semval_aug_insert_random_16_Kyle1668bosssentimentbertbaseuncased_style_logs:v0\",\n",
    "    \"BOSS_Sentiment_SemEval_BERT_Substitute\": \"run-hhtbcw8x-semval_aug_substitute_random_16_Kyle1668bosssentimentbertbaseuncased_style_logs:v0\",\n",
    "    \"BOSS_Sentiment_SemEval_BERT_Translate\": \"run-hhtbcw8x-semval_aug_backtranslate_random_16_Kyle1668bosssentimentbertbaseuncased_style_logs:v0\",\n",
    "    \"BOSS_Sentiment_SemEval_BERT_Paraphrase\": \"run-hhtbcw8x-semval_stabilityaiStableBeluga7b_random_0_Kyle1668bosssentimentbertbaseuncased_style_logs:v0\",\n",
    "    \"BOSS_Sentiment_SemEval_BERT_ICR\": \"run-hhtbcw8x-semval_stabilityaiStableBeluga7b_random_16_Kyle1668bosssentimentbertbaseuncased_style_logs:v0\",\n",
    "\n",
    "    # T5\n",
    "    \"BOSS_Sentiment_SemEval_T5_Insert\": \"run-hhtbcw8x-semval_aug_insert_random_16_Kyle1668bosssentimentt5large_style_logs:v0\",\n",
    "    \"BOSS_Sentiment_SemEval_T5_Substitute\": \"run-hhtbcw8x-semval_aug_substitute_random_16_Kyle1668bosssentimentt5large_style_logs:v0\",\n",
    "    \"BOSS_Sentiment_SemEval_T5_Translate\": \"run-hhtbcw8x-semval_aug_backtranslate_random_16_Kyle1668bosssentimentt5large_style_logs:v0\",\n",
    "    \"BOSS_Sentiment_SemEval_T5_Paraphrase\": \"run-hhtbcw8x-semval_stabilityaiStableBeluga7b_random_0_Kyle1668bosssentimentt5large_style_logs:v0\",\n",
    "    \"BOSS_Sentiment_SemEval_T5_ICR\": \"run-hhtbcw8x-semval_stabilityaiStableBeluga7b_random_16_Kyle1668bosssentimentt5large_style_logs:v0\",\n",
    "\n",
    "    # Falcon\n",
    "    \"BOSS_Sentiment_SemEval_Falcon_Insert\": \"run-hhtbcw8x-semval_aug_insert_random_16_tiiuaefalcon7binstruct_style_logs:v0\",\n",
    "    \"BOSS_Sentiment_SemEval_Falcon_Substitute\": \"run-hhtbcw8x-semval_aug_substitute_random_16_tiiuaefalcon7binstruct_style_logs:v0\",\n",
    "    \"BOSS_Sentiment_SemEval_Falcon_Translate\": \"run-hhtbcw8x-semval_aug_backtranslate_random_16_tiiuaefalcon7binstruct_style_logs:v0\",\n",
    "    \"BOSS_Sentiment_SemEval_Falcon_Paraphrase\": \"run-hhtbcw8x-semval_stabilityaiStableBeluga7b_random_0_tiiuaefalcon7binstruct_style_logs:v0\",\n",
    "    \"BOSS_Sentiment_SemEval_Falcon_ICR\": \"run-hhtbcw8x-semval_stabilityaiStableBeluga7b_random_16_tiiuaefalcon7binstruct_style_logs:v0\",\n",
    "\n",
    "    # Dynasent\n",
    "    # BERT\n",
    "    \"BOSS_Sentiment_Dynasent_BERT_Insert\": \"run-hhtbcw8x-dynasent_aug_insert_random_16_Kyle1668bosssentimentbertbaseuncased_style_logs:v0\",\n",
    "    \"BOSS_Sentiment_Dynasent_BERT_Substitute\": \"run-hhtbcw8x-dynasent_aug_substitute_random_16_Kyle1668bosssentimentbertbaseuncased_style_logs:v0\",\n",
    "    \"BOSS_Sentiment_Dynasent_BERT_Translate\": \"run-hhtbcw8x-dynasent_aug_backtranslate_random_16_Kyle1668bosssentimentbertbaseuncased_style_logs:v0\",\n",
    "    \"BOSS_Sentiment_Dynasent_BERT_Paraphrase\": \"run-hhtbcw8x-dynasent_stabilityaiStableBeluga7b_random_0_Kyle1668bosssentimentbertbaseuncased_style_logs:v0\",\n",
    "    \"BOSS_Sentiment_Dynasent_BERT_ICR\": \"run-hhtbcw8x-dynasent_stabilityaiStableBeluga7b_random_16_Kyle1668bosssentimentbertbaseuncased_style_logs:v0\",\n",
    "\n",
    "    # T5\n",
    "    \"BOSS_Sentiment_Dynasent_T5_Insert\": \"run-hhtbcw8x-dynasent_aug_insert_random_16_Kyle1668bosssentimentt5large_style_logs:v0\",\n",
    "    \"BOSS_Sentiment_Dynasent_T5_Substitute\": \"run-hhtbcw8x-dynasent_aug_substitute_random_16_Kyle1668bosssentimentt5large_style_logs:v0\",\n",
    "    \"BOSS_Sentiment_Dynasent_T5_Translate\": \"run-hhtbcw8x-dynasent_aug_backtranslate_random_16_Kyle1668bosssentimentt5large_style_logs:v0\",\n",
    "    \"BOSS_Sentiment_Dynasent_T5_Paraphrase\": \"run-hhtbcw8x-dynasent_stabilityaiStableBeluga7b_random_0_Kyle1668bosssentimentt5large_style_logs:v0\",\n",
    "    \"BOSS_Sentiment_Dynasent_T5_ICR\": \"run-hhtbcw8x-dynasent_stabilityaiStableBeluga7b_random_16_Kyle1668bosssentimentt5large_style_logs:v0\",\n",
    "\n",
    "    # Falcon\n",
    "    \"BOSS_Sentiment_Dynasent_Falcon_Insert\": \"run-hhtbcw8x-dynasent_aug_insert_random_16_tiiuaefalcon7binstruct_style_logs:v0\",\n",
    "    \"BOSS_Sentiment_Dynasent_Falcon_Substitute\": \"run-hhtbcw8x-dynasent_aug_substitute_random_16_tiiuaefalcon7binstruct_style_logs:v0\",\n",
    "    \"BOSS_Sentiment_Dynasent_Falcon_Translate\": \"run-hhtbcw8x-dynasent_aug_backtranslate_random_16_tiiuaefalcon7binstruct_style_logs:v0\",\n",
    "    \"BOSS_Sentiment_Dynasent_Falcon_Paraphrase\": \"run-hhtbcw8x-dynasent_stabilityaiStableBeluga7b_random_0_tiiuaefalcon7binstruct_style_logs:v0\",\n",
    "    \"BOSS_Sentiment_Dynasent_Falcon_ICR\": \"run-hhtbcw8x-dynasent_stabilityaiStableBeluga7b_random_16_tiiuaefalcon7binstruct_style_logs:v0\",\n",
    "\n",
    "    # BOSS Toxicity\n",
    "    # ID\n",
    "    # BERT\n",
    "    \"BOSS_Toxicity_ID_BERT_Insert\": \"\",\n",
    "    \"BOSS_Toxicity_ID_BERT_Substitute\": \"\",\n",
    "    \"BOSS_Toxicity_ID_BERT_Translate\": \"\",\n",
    "    \"BOSS_Toxicity_ID_BERT_Paraphrase\": \"\",\n",
    "    \"BOSS_Toxicity_ID_BERT_ICR\": \"run-dvdcuuij-validation_stabilityaiStableBeluga7b_random_16_Kyle1668bosstoxicitybertbaseuncased_style_logs:v0\",\n",
    "\n",
    "    # T5\n",
    "    \"BOSS_Toxicity_ID_T5_Insert\": \"\",\n",
    "    \"BOSS_Toxicity_ID_T5_Substitute\": \"\",\n",
    "    \"BOSS_Toxicity_ID_T5_Translate\": \"\",\n",
    "    \"BOSS_Toxicity_ID_T5_Paraphrase\": \"\",\n",
    "    \"BOSS_Toxicity_ID_T5_ICR\": \"\",\n",
    "\n",
    "    # Falcon\n",
    "    \"BOSS_Toxicity_ID_Falcon_Insert\": \"run-bo8gbtun-validation_aug_insert_random_16_tiiuaefalcon7binstruct_style_logs:v0\",\n",
    "    \"BOSS_Toxicity_ID_Falcon_Substitute\": \"\",\n",
    "    \"BOSS_Toxicity_ID_Falcon_Translate\": \"\",\n",
    "    \"BOSS_Toxicity_ID_Falcon_Paraphrase\": \"\",\n",
    "    \"BOSS_Toxicity_ID_Falcon_ICR\": \"\",\n",
    "\n",
    "    # Toxigen\n",
    "    # BERT\n",
    "    \"BOSS_Toxicity_Toxigen_BERT_Insert\": \"run-lixlm6qh-toxigen_aug_insert_random_16_Kyle1668bosstoxicitybertbaseuncased_style_logs:v0\",\n",
    "    \"BOSS_Toxicity_Toxigen_BERT_Substitute\": \"run-lixlm6qh-toxigen_aug_substitute_random_16_Kyle1668bosstoxicitybertbaseuncased_style_logs:v0\",\n",
    "    \"BOSS_Toxicity_Toxigen_BERT_Translate\": \"run-lixlm6qh-toxigen_aug_backtranslate_random_16_Kyle1668bosstoxicitybertbaseuncased_style_logs:v0\",\n",
    "    \"BOSS_Toxicity_Toxigen_BERT_Paraphrase\": \"run-lixlm6qh-toxigen_stabilityaiStableBeluga7b_random_0_Kyle1668bosstoxicitybertbaseuncased_style_logs:v0\",\n",
    "    \"BOSS_Toxicity_Toxigen_BERT_ICR\": \"run-lixlm6qh-toxigen_stabilityaiStableBeluga7b_random_16_Kyle1668bosstoxicitybertbaseuncased_style_logs:v0\",\n",
    "\n",
    "    # T5\n",
    "    \"BOSS_Toxicity_Toxigen_T5_Insert\": \"run-lixlm6qh-toxigen_aug_insert_random_16_Kyle1668bosstoxicityt5large_style_logs:v0\",\n",
    "    \"BOSS_Toxicity_Toxigen_T5_Substitute\": \"run-lixlm6qh-toxigen_aug_substitute_random_16_Kyle1668bosstoxicityt5large_style_logs:v0\",\n",
    "    \"BOSS_Toxicity_Toxigen_T5_Translate\": \"run-lixlm6qh-toxigen_aug_backtranslate_random_16_Kyle1668bosstoxicityt5large_style_logs:v0\",\n",
    "    \"BOSS_Toxicity_Toxigen_T5_Paraphrase\": \"run-lixlm6qh-toxigen_stabilityaiStableBeluga7b_random_0_Kyle1668bosstoxicityt5large_style_logs:v0\",\n",
    "    \"BOSS_Toxicity_Toxigen_T5_ICR\": \"run-lixlm6qh-toxigen_stabilityaiStableBeluga7b_random_16_Kyle1668bosstoxicityt5large_style_logs:v0\",\n",
    "\n",
    "    # Falcon\n",
    "    \"BOSS_Toxicity_Toxigen_Falcon_Insert\": \"run-lixlm6qh-toxigen_aug_insert_random_16_tiiuaefalcon7binstruct_style_logs:v0\",\n",
    "    \"BOSS_Toxicity_Toxigen_Falcon_Substitute\": \"run-lixlm6qh-toxigen_aug_substitute_random_16_tiiuaefalcon7binstruct_style_logs:v0\",\n",
    "    \"BOSS_Toxicity_Toxigen_Falcon_Translate\": \"run-lixlm6qh-toxigen_aug_backtranslate_random_16_tiiuaefalcon7binstruct_style_logs:v0\",\n",
    "    \"BOSS_Toxicity_Toxigen_Falcon_Paraphrase\": \"run-lixlm6qh-toxigen_stabilityaiStableBeluga7b_random_0_tiiuaefalcon7binstruct_style_logs:v0\",\n",
    "    \"BOSS_Toxicity_Toxigen_Falcon_ICR\": \"run-lixlm6qh-toxigen_stabilityaiStableBeluga7b_random_16_tiiuaefalcon7binstruct_style_logs:v0\",\n",
    "\n",
    "    # ImplicitHate\n",
    "    # BERT\n",
    "    \"BOSS_Toxicity_ImplicitHate_BERT_Insert\": \"run-lixlm6qh-implicit_hate_aug_insert_random_16_Kyle1668bosstoxicitybertbaseuncased_style_logs:v0\",\n",
    "    \"BOSS_Toxicity_ImplicitHate_BERT_Substitute\": \"run-lixlm6qh-implicit_hate_aug_substitute_random_16_Kyle1668bosstoxicitybertbaseuncased_style_logs:v0\",\n",
    "    \"BOSS_Toxicity_ImplicitHate_BERT_Translate\": \"run-lixlm6qh-implicit_hate_aug_backtranslate_random_16_Kyle1668bosstoxicitybertbaseuncased_style_logs:v0\",\n",
    "    \"BOSS_Toxicity_ImplicitHate_BERT_Paraphrase\": \"run-lixlm6qh-implicit_hate_stabilityaiStableBeluga7b_random_0_Kyle1668bosstoxicitybertbaseuncased_style_logs:v0\",\n",
    "    \"BOSS_Toxicity_ImplicitHate_BERT_ICR\": \"run-lixlm6qh-implicit_hate_stabilityaiStableBeluga7b_random_16_Kyle1668bosstoxicitybertbaseuncased_style_logs:v0\",\n",
    "\n",
    "    # T5\n",
    "    \"BOSS_Toxicity_ImplicitHate_T5_Insert\": \"run-lixlm6qh-implicit_hate_aug_insert_random_16_Kyle1668bosstoxicityt5large_style_logs:v0\",\n",
    "    \"BOSS_Toxicity_ImplicitHate_T5_Substitute\": \"run-lixlm6qh-implicit_hate_aug_substitute_random_16_Kyle1668bosstoxicityt5large_style_logs:v0\",\n",
    "    \"BOSS_Toxicity_ImplicitHate_T5_Translate\": \"run-lixlm6qh-implicit_hate_aug_backtranslate_random_16_Kyle1668bosstoxicityt5large_style_logs:v0\",\n",
    "    \"BOSS_Toxicity_ImplicitHate_T5_Paraphrase\": \"run-lixlm6qh-implicit_hate_stabilityaiStableBeluga7b_random_0_Kyle1668bosstoxicityt5large_style_logs:v0\",\n",
    "    \"BOSS_Toxicity_ImplicitHate_T5_ICR\": \"run-lixlm6qh-implicit_hate_stabilityaiStableBeluga7b_random_16_Kyle1668bosstoxicityt5large_style_logs:v0\",\n",
    "\n",
    "    # Falcon\n",
    "    \"BOSS_Toxicity_ImplicitHate_Falcon_Insert\": \"run-lixlm6qh-implicit_hate_aug_insert_random_16_tiiuaefalcon7binstruct_style_logs:v0\",\n",
    "    \"BOSS_Toxicity_ImplicitHate_Falcon_Substitute\": \"run-lixlm6qh-implicit_hate_aug_substitute_random_16_tiiuaefalcon7binstruct_style_logs:v0\",\n",
    "    \"BOSS_Toxicity_ImplicitHate_Falcon_Translate\": \"run-lixlm6qh-implicit_hate_aug_backtranslate_random_16_tiiuaefalcon7binstruct_style_logs:v0\",\n",
    "    \"BOSS_Toxicity_ImplicitHate_Falcon_Paraphrase\": \"\",\n",
    "    \"BOSS_Toxicity_ImplicitHate_Falcon_ICR\": \"\",\n",
    "\n",
    "    # AdvCivil\n",
    "    # BERT\n",
    "    \"BOSS_Toxicity_AdvCivil_BERT_Insert\": \"run-lixlm6qh-adv_civil_aug_insert_random_16_Kyle1668bosstoxicitybertbaseuncased_style_logs:v0\",\n",
    "    \"BOSS_Toxicity_AdvCivil_BERT_Substitute\": \"run-lixlm6qh-adv_civil_aug_substitute_random_16_Kyle1668bosstoxicitybertbaseuncased_style_logs:v0\",\n",
    "    \"BOSS_Toxicity_AdvCivil_BERT_Translate\": \"run-lixlm6qh-adv_civil_aug_backtranslate_random_16_Kyle1668bosstoxicitybertbaseuncased_style_logs:v0\",\n",
    "    \"BOSS_Toxicity_AdvCivil_BERT_Paraphrase\": \"run-lixlm6qh-adv_civil_stabilityaiStableBeluga7b_random_0_Kyle1668bosstoxicitybertbaseuncased_style_logs:v0\",\n",
    "    \"BOSS_Toxicity_AdvCivil_BERT_ICR\": \"run-lixlm6qh-adv_civil_stabilityaiStableBeluga7b_random_16_Kyle1668bosstoxicitybertbaseuncased_style_logs:v0\",\n",
    "\n",
    "    # T5\n",
    "    \"BOSS_Toxicity_AdvCivil_T5_Insert\": \"run-lixlm6qh-adv_civil_aug_insert_random_16_Kyle1668bosstoxicityt5large_style_logs:v0\",\n",
    "    \"BOSS_Toxicity_AdvCivil_T5_Substitute\": \"run-lixlm6qh-adv_civil_aug_substitute_random_16_Kyle1668bosstoxicityt5large_style_logs:v0\",\n",
    "    \"BOSS_Toxicity_AdvCivil_T5_Translate\": \"run-lixlm6qh-adv_civil_aug_backtranslate_random_16_Kyle1668bosstoxicityt5large_style_logs:v0\",\n",
    "    \"BOSS_Toxicity_AdvCivil_T5_Paraphrase\": \"run-lixlm6qh-adv_civil_stabilityaiStableBeluga7b_random_0_Kyle1668bosstoxicityt5large_style_logs:v0\",\n",
    "    \"BOSS_Toxicity_AdvCivil_T5_ICR\": \"run-lixlm6qh-adv_civil_stabilityaiStableBeluga7b_random_16_Kyle1668bosstoxicityt5large_style_logs:v0\",\n",
    "\n",
    "    # Falcon\n",
    "    \"BOSS_Toxicity_AdvCivil_Falcon_Insert\": \"run-lixlm6qh-adv_civil_aug_insert_random_16_tiiuaefalcon7binstruct_style_logs:v0\",\n",
    "    \"BOSS_Toxicity_AdvCivil_Falcon_Substitute\": \"run-lixlm6qh-adv_civil_aug_substitute_random_16_tiiuaefalcon7binstruct_style_logs:v0\",\n",
    "    \"BOSS_Toxicity_AdvCivil_Falcon_Translate\": \"run-lixlm6qh-adv_civil_aug_backtranslate_random_16_tiiuaefalcon7binstruct_style_logs:v0\",\n",
    "    \"BOSS_Toxicity_AdvCivil_Falcon_Paraphrase\": \"run-lixlm6qh-adv_civil_stabilityaiStableBeluga7b_random_0_tiiuaefalcon7binstruct_style_logs:v0\",\n",
    "    \"BOSS_Toxicity_AdvCivil_Falcon_ICR\": \"run-lixlm6qh-adv_civil_stabilityaiStableBeluga7b_random_16_tiiuaefalcon7binstruct_style_logs:v0\",\n",
    "\n",
    "    # AG News Tweets\n",
    "    # ID\n",
    "    # BERT\n",
    "    \"AgNewsTweets_ID_BERT_Insert\": \"run-i2vkae2s-validation_aug_insert_random_16_Kyle1668agnewsbertbaseuncased_style_logs:v0\",\n",
    "    \"AgNewsTweets_ID_BERT_Substitute\": \"run-i2vkae2s-validation_aug_substitute_random_16_Kyle1668agnewsbertbaseuncased_style_logs:v0\",\n",
    "    \"AgNewsTweets_ID_BERT_Translate\": \"run-i2vkae2s-validation_aug_backtranslate_random_16_Kyle1668agnewsbertbaseuncased_style_logs:v0\",\n",
    "    \"AgNewsTweets_ID_BERT_Paraphrase\": \"run-i2vkae2s-validation_stabilityaiStableBeluga7b_random_0_Kyle1668agnewsbertbaseuncased_style_logs:v0\",\n",
    "    \"AgNewsTweets_ID_BERT_ICR\": \"run-i2vkae2s-validation_stabilityaiStableBeluga7b_random_16_Kyle1668agnewsbertbaseuncased_style_logs:v0\",\n",
    "\n",
    "    # T5\n",
    "    \"AgNewsTweets_ID_T5_Insert\": \"run-i2vkae2s-validation_aug_insert_random_16_Kyle1668agnewst5large_style_logs:v0\",\n",
    "    \"AgNewsTweets_ID_T5_Substitute\": \"run-i2vkae2s-validation_aug_substitute_random_16_Kyle1668agnewst5large_style_logs:v0\",\n",
    "    \"AgNewsTweets_ID_T5_Translate\": \"run-i2vkae2s-validation_aug_backtranslate_random_16_Kyle1668agnewst5large_style_logs:v0\",\n",
    "    \"AgNewsTweets_ID_T5_Paraphrase\": \"run-i2vkae2s-validation_stabilityaiStableBeluga7b_random_0_Kyle1668agnewst5large_style_logs:v0\",\n",
    "    \"AgNewsTweets_ID_T5_ICR\": \"run-i2vkae2s-validation_stabilityaiStableBeluga7b_random_16_Kyle1668agnewst5large_style_logs:v0\",\n",
    "\n",
    "    # Falcon\n",
    "    \"AgNewsTweets_ID_Falcon_Insert\": \"run-i2vkae2s-validation_aug_insert_random_16_tiiuaefalcon7binstruct_style_logs:v0\",\n",
    "    \"AgNewsTweets_ID_Falcon_Substitute\": \"run-i2vkae2s-validation_aug_substitute_random_16_tiiuaefalcon7binstruct_style_logs:v0\",\n",
    "    \"AgNewsTweets_ID_Falcon_Translate\": \"run-i2vkae2s-validation_aug_backtranslate_random_16_tiiuaefalcon7binstruct_style_logs:v0\",\n",
    "    \"AgNewsTweets_ID_Falcon_Paraphrase\": \"run-i2vkae2s-validation_stabilityaiStableBeluga7b_random_0_tiiuaefalcon7binstruct_style_logs:v0\",\n",
    "    \"AgNewsTweets_ID_Falcon_ICR\": \"run-i2vkae2s-validation_stabilityaiStableBeluga7b_random_16_tiiuaefalcon7binstruct_style_logs:v0\",\n",
    "\n",
    "    # Tweets\n",
    "    # BERT\n",
    "    \"AgNewsTweets_Tweets_BERT_Insert\": \"run-xdipkawo-test_aug_insert_random_16_Kyle1668agnewsbertbaseuncased_style_logs:v0\",\n",
    "    \"AgNewsTweets_Tweets_BERT_Substitute\": \"run-xdipkawo-test_aug_substitute_random_16_Kyle1668agnewsbertbaseuncased_style_logs:v0\",\n",
    "    \"AgNewsTweets_Tweets_BERT_Translate\": \"run-xdipkawo-test_aug_backtranslate_random_16_Kyle1668agnewsbertbaseuncased_style_logs:v0\",\n",
    "    \"AgNewsTweets_Tweets_BERT_Paraphrase\": \"run-xdipkawo-test_stabilityaiStableBeluga7b_random_0_Kyle1668agnewsbertbaseuncased_style_logs:v0\",\n",
    "    \"AgNewsTweets_Tweets_BERT_ICR\": \"run-xdipkawo-test_stabilityaiStableBeluga7b_random_16_Kyle1668agnewsbertbaseuncased_style_logs:v0\",\n",
    "\n",
    "    # T5\n",
    "    \"AgNewsTweets_Tweets_T5_Insert\": \"run-xdipkawo-test_aug_insert_random_16_Kyle1668agnewst5large_style_logs:v0\",\n",
    "    \"AgNewsTweets_Tweets_T5_Substitute\": \"run-xdipkawo-test_aug_substitute_random_16_Kyle1668agnewst5large_style_logs:v0\",\n",
    "    \"AgNewsTweets_Tweets_T5_Translate\": \"run-xdipkawo-test_aug_backtranslate_random_16_Kyle1668agnewst5large_style_logs:v0\",\n",
    "    \"AgNewsTweets_Tweets_T5_Paraphrase\": \"run-xdipkawo-test_stabilityaiStableBeluga7b_random_0_Kyle1668agnewst5large_style_logs:v0\",\n",
    "    \"AgNewsTweets_Tweets_T5_ICR\": \"run-xdipkawo-test_stabilityaiStableBeluga7b_random_16_Kyle1668agnewst5large_style_logs:v0\",\n",
    "\n",
    "    # Falcon\n",
    "    \"AgNewsTweets_Tweets_Falcon_Insert\": \"run-xdipkawo-test_aug_insert_random_16_tiiuaefalcon7binstruct_style_logs:v0\",\n",
    "    \"AgNewsTweets_Tweets_Falcon_Substitute\": \"run-xdipkawo-test_aug_substitute_random_16_tiiuaefalcon7binstruct_style_logs:v0\",\n",
    "    \"AgNewsTweets_Tweets_Falcon_Translate\": \"run-xdipkawo-test_aug_backtranslate_random_16_tiiuaefalcon7binstruct_style_logs:v0\",\n",
    "    \"AgNewsTweets_Tweets_Falcon_Paraphrase\": \"run-xdipkawo-test_stabilityaiStableBeluga7b_random_0_tiiuaefalcon7binstruct_style_logs:v0\",\n",
    "    \"AgNewsTweets_Tweets_Falcon_ICR\": \"\",\n",
    "}\n",
    "\n",
    "print(json.dumps(table_paths, indent=4))"
   ]
  },
  {
   "cell_type": "code",
   "execution_count": 3,
   "metadata": {},
   "outputs": [
    {
     "name": "stderr",
     "output_type": "stream",
     "text": [
      "Failed to detect the name of this notebook, you can set it manually with the WANDB_NOTEBOOK_NAME environment variable to enable code saving.\n",
      "\u001b[34m\u001b[1mwandb\u001b[0m: Currently logged in as: \u001b[33mkyledevinobrien1\u001b[0m (\u001b[33mhealthyml\u001b[0m). Use \u001b[1m`wandb login --relogin`\u001b[0m to force relogin\n"
     ]
    },
    {
     "data": {
      "text/html": [
       "Tracking run with wandb version 0.16.0"
      ],
      "text/plain": [
       "<IPython.core.display.HTML object>"
      ]
     },
     "metadata": {},
     "output_type": "display_data"
    },
    {
     "data": {
      "text/html": [
       "Run data is saved locally in <code>/home/kyobrien/repos/In-Context-Domain-Transfer-Improves-Out-of-Domain-Robustness/notebooks/wandb/run-20231111_002748-ztlm43s4</code>"
      ],
      "text/plain": [
       "<IPython.core.display.HTML object>"
      ]
     },
     "metadata": {},
     "output_type": "display_data"
    },
    {
     "data": {
      "text/html": [
       "Syncing run <strong><a href='https://wandb.ai/healthyml/In-Context-Domain-Transfer-Improves-Out-of-Domain-Robustness-notebooks/runs/ztlm43s4' target=\"_blank\">copper-field-6</a></strong> to <a href='https://wandb.ai/healthyml/In-Context-Domain-Transfer-Improves-Out-of-Domain-Robustness-notebooks' target=\"_blank\">Weights & Biases</a> (<a href='https://wandb.me/run' target=\"_blank\">docs</a>)<br/>"
      ],
      "text/plain": [
       "<IPython.core.display.HTML object>"
      ]
     },
     "metadata": {},
     "output_type": "display_data"
    },
    {
     "data": {
      "text/html": [
       " View project at <a href='https://wandb.ai/healthyml/In-Context-Domain-Transfer-Improves-Out-of-Domain-Robustness-notebooks' target=\"_blank\">https://wandb.ai/healthyml/In-Context-Domain-Transfer-Improves-Out-of-Domain-Robustness-notebooks</a>"
      ],
      "text/plain": [
       "<IPython.core.display.HTML object>"
      ]
     },
     "metadata": {},
     "output_type": "display_data"
    },
    {
     "data": {
      "text/html": [
       " View run at <a href='https://wandb.ai/healthyml/In-Context-Domain-Transfer-Improves-Out-of-Domain-Robustness-notebooks/runs/ztlm43s4' target=\"_blank\">https://wandb.ai/healthyml/In-Context-Domain-Transfer-Improves-Out-of-Domain-Robustness-notebooks/runs/ztlm43s4</a>"
      ],
      "text/plain": [
       "<IPython.core.display.HTML object>"
      ]
     },
     "metadata": {},
     "output_type": "display_data"
    }
   ],
   "source": [
    "run = wandb.init()"
   ]
  },
  {
   "cell_type": "code",
   "execution_count": 4,
   "metadata": {},
   "outputs": [
    {
     "name": "stdout",
     "output_type": "stream",
     "text": [
      "data/BOSS_Sentiment_Dynasent_BERT_Insert/dynasent_aug_insert_random_16_Kyle1668/boss-sentiment-bert-base-uncased_style_logs.table.json\n"
     ]
    }
   ],
   "source": [
    "def get_local_logs_path(directory):\n",
    "    for contents in os.listdir(directory):\n",
    "        if contents.endswith(\"style_logs.table.json\"):\n",
    "            return os.path.join(directory, contents)\n",
    "\n",
    "        if os.path.isdir(os.path.join(directory, contents)):\n",
    "            return get_local_logs_path(os.path.join(directory, contents))\n",
    "\n",
    "print(get_local_logs_path(\"data/BOSS_Sentiment_Dynasent_BERT_Insert\"))"
   ]
  },
  {
   "cell_type": "code",
   "execution_count": 5,
   "metadata": {},
   "outputs": [
    {
     "name": "stderr",
     "output_type": "stream",
     "text": [
      "  0%|          | 0/150 [00:00<?, ?it/s]"
     ]
    },
    {
     "name": "stdout",
     "output_type": "stream",
     "text": [
      "Downloading BOSS_Sentiment_ID_BERT_Insert --- healthyml/In-Context Domain Transfer Improves Out-of-Domain Robustness/run-vj8tss18-validation_aug_insert_random_16_Kyle1668bosssentimentbertbaseuncased_style_logs:v0\n"
     ]
    },
    {
     "name": "stderr",
     "output_type": "stream",
     "text": [
      "\u001b[34m\u001b[1mwandb\u001b[0m: Downloading large artifact run-vj8tss18-validation_aug_insert_random_16_Kyle1668bosssentimentbertbaseuncased_style_logs:v0, 997.68MB. 1 files... \n",
      "\u001b[34m\u001b[1mwandb\u001b[0m:   1 of 1 files downloaded.  \n",
      "Done. 0:0:2.0\n",
      "  1%|          | 1/150 [00:02<06:59,  2.82s/it]"
     ]
    },
    {
     "name": "stdout",
     "output_type": "stream",
     "text": [
      "Downloading BOSS_Sentiment_ID_BERT_ICR --- healthyml/In-Context Domain Transfer Improves Out-of-Domain Robustness/run-yanx1dus-validation_stabilityaiStableBeluga7b_random_16_Kyle1668bosssentimentbertbaseuncased_style_logs:v0\n"
     ]
    },
    {
     "name": "stderr",
     "output_type": "stream",
     "text": [
      "\u001b[34m\u001b[1mwandb\u001b[0m: Downloading large artifact run-yanx1dus-validation_stabilityaiStableBeluga7b_random_16_Kyle1668bosssentimentbertbaseuncased_style_logs:v0, 180.63MB. 1 files... \n",
      "\u001b[34m\u001b[1mwandb\u001b[0m:   1 of 1 files downloaded.  \n",
      "Done. 0:0:0.5\n",
      "  3%|▎         | 5/150 [00:04<01:40,  1.44it/s]"
     ]
    },
    {
     "name": "stdout",
     "output_type": "stream",
     "text": [
      "Downloading BOSS_Sentiment_ID_T5_Insert --- healthyml/In-Context Domain Transfer Improves Out-of-Domain Robustness/run-vj8tss18-validation_aug_insert_random_16_Kyle1668bosssentimentt5large_style_logs:v0\n"
     ]
    },
    {
     "name": "stderr",
     "output_type": "stream",
     "text": [
      "\u001b[34m\u001b[1mwandb\u001b[0m: Downloading large artifact run-vj8tss18-validation_aug_insert_random_16_Kyle1668bosssentimentt5large_style_logs:v0, 828.11MB. 1 files... \n",
      "\u001b[34m\u001b[1mwandb\u001b[0m:   1 of 1 files downloaded.  \n",
      "Done. 0:0:1.6\n",
      "  4%|▍         | 6/150 [00:06<02:39,  1.11s/it]"
     ]
    },
    {
     "name": "stdout",
     "output_type": "stream",
     "text": [
      "Downloading BOSS_Sentiment_ID_T5_Substitute --- healthyml/In-Context Domain Transfer Improves Out-of-Domain Robustness/run-vj8tss18-validation_aug_substitute_random_16_Kyle1668bosssentimentt5large_style_logs:v0\n"
     ]
    },
    {
     "name": "stderr",
     "output_type": "stream",
     "text": [
      "\u001b[34m\u001b[1mwandb\u001b[0m: Downloading large artifact run-vj8tss18-validation_aug_substitute_random_16_Kyle1668bosssentimentt5large_style_logs:v0, 817.40MB. 1 files... \n",
      "\u001b[34m\u001b[1mwandb\u001b[0m:   1 of 1 files downloaded.  \n",
      "Done. 0:0:1.6\n",
      "  5%|▍         | 7/150 [00:08<03:24,  1.43s/it]"
     ]
    },
    {
     "name": "stdout",
     "output_type": "stream",
     "text": [
      "Downloading BOSS_Sentiment_ID_T5_Translate --- healthyml/In-Context Domain Transfer Improves Out-of-Domain Robustness/run-vj8tss18-validation_aug_backtranslate_random_16_Kyle1668bosssentimentt5large_style_logs:v0\n"
     ]
    },
    {
     "name": "stderr",
     "output_type": "stream",
     "text": [
      "\u001b[34m\u001b[1mwandb\u001b[0m: Downloading large artifact run-vj8tss18-validation_aug_backtranslate_random_16_Kyle1668bosssentimentt5large_style_logs:v0, 789.98MB. 1 files... \n",
      "\u001b[34m\u001b[1mwandb\u001b[0m:   1 of 1 files downloaded.  \n",
      "Done. 0:0:1.6\n",
      "  5%|▌         | 8/150 [00:11<04:00,  1.69s/it]"
     ]
    },
    {
     "name": "stdout",
     "output_type": "stream",
     "text": [
      "Downloading BOSS_Sentiment_ID_Falcon_Insert --- healthyml/In-Context Domain Transfer Improves Out-of-Domain Robustness/run-j11olfw3-validation_aug_insert_random_16_tiiuaefalcon7binstruct_style_logs:v0\n"
     ]
    },
    {
     "name": "stderr",
     "output_type": "stream",
     "text": [
      "\u001b[34m\u001b[1mwandb\u001b[0m: Downloading large artifact run-j11olfw3-validation_aug_insert_random_16_tiiuaefalcon7binstruct_style_logs:v0, 972.01MB. 1 files... \n",
      "\u001b[34m\u001b[1mwandb\u001b[0m:   1 of 1 files downloaded.  \n",
      "Done. 0:0:1.9\n",
      "  7%|▋         | 11/150 [00:14<02:56,  1.27s/it]"
     ]
    },
    {
     "name": "stdout",
     "output_type": "stream",
     "text": [
      "Downloading BOSS_Sentiment_ID_Falcon_Substitute --- healthyml/In-Context Domain Transfer Improves Out-of-Domain Robustness/run-j11olfw3-validation_aug_substitute_random_16_tiiuaefalcon7binstruct_style_logs:v0\n"
     ]
    },
    {
     "name": "stderr",
     "output_type": "stream",
     "text": [
      "\u001b[34m\u001b[1mwandb\u001b[0m: Downloading large artifact run-j11olfw3-validation_aug_substitute_random_16_tiiuaefalcon7binstruct_style_logs:v0, 961.33MB. 1 files... \n",
      "\u001b[34m\u001b[1mwandb\u001b[0m:   1 of 1 files downloaded.  \n",
      "Done. 0:0:1.8\n",
      "  8%|▊         | 12/150 [00:16<03:40,  1.60s/it]"
     ]
    },
    {
     "name": "stdout",
     "output_type": "stream",
     "text": [
      "Downloading BOSS_Sentiment_ID_Falcon_Translate --- healthyml/In-Context Domain Transfer Improves Out-of-Domain Robustness/run-j11olfw3-validation_aug_backtranslate_random_16_tiiuaefalcon7binstruct_style_logs:v0\n"
     ]
    },
    {
     "name": "stderr",
     "output_type": "stream",
     "text": [
      "\u001b[34m\u001b[1mwandb\u001b[0m: Downloading large artifact run-j11olfw3-validation_aug_backtranslate_random_16_tiiuaefalcon7binstruct_style_logs:v0, 933.94MB. 1 files... \n",
      "\u001b[34m\u001b[1mwandb\u001b[0m:   1 of 1 files downloaded.  \n",
      "Done. 0:0:1.8\n",
      "  9%|▊         | 13/150 [00:19<04:09,  1.82s/it]"
     ]
    },
    {
     "name": "stdout",
     "output_type": "stream",
     "text": [
      "Downloading BOSS_Sentiment_SST5_BERT_Insert --- healthyml/In-Context Domain Transfer Improves Out-of-Domain Robustness/run-hhtbcw8x-sst5_aug_insert_random_16_Kyle1668bosssentimentbertbaseuncased_style_logs:v0\n"
     ]
    },
    {
     "name": "stderr",
     "output_type": "stream",
     "text": [
      "\u001b[34m\u001b[1mwandb\u001b[0m:   1 of 1 files downloaded.  \n",
      " 11%|█         | 16/150 [00:20<02:23,  1.07s/it]"
     ]
    },
    {
     "name": "stdout",
     "output_type": "stream",
     "text": [
      "Downloading BOSS_Sentiment_SST5_BERT_Substitute --- healthyml/In-Context Domain Transfer Improves Out-of-Domain Robustness/run-hhtbcw8x-sst5_aug_substitute_random_16_Kyle1668bosssentimentbertbaseuncased_style_logs:v0\n"
     ]
    },
    {
     "name": "stderr",
     "output_type": "stream",
     "text": [
      "\u001b[34m\u001b[1mwandb\u001b[0m:   1 of 1 files downloaded.  \n",
      " 11%|█▏        | 17/150 [00:22<02:35,  1.17s/it]"
     ]
    },
    {
     "name": "stdout",
     "output_type": "stream",
     "text": [
      "Downloading BOSS_Sentiment_SST5_BERT_Translate --- healthyml/In-Context Domain Transfer Improves Out-of-Domain Robustness/run-hhtbcw8x-sst5_aug_backtranslate_random_16_Kyle1668bosssentimentbertbaseuncased_style_logs:v0\n"
     ]
    },
    {
     "name": "stderr",
     "output_type": "stream",
     "text": [
      "\u001b[34m\u001b[1mwandb\u001b[0m:   1 of 1 files downloaded.  \n",
      " 12%|█▏        | 18/150 [00:22<02:22,  1.08s/it]"
     ]
    },
    {
     "name": "stdout",
     "output_type": "stream",
     "text": [
      "Downloading BOSS_Sentiment_SST5_BERT_Paraphrase --- healthyml/In-Context Domain Transfer Improves Out-of-Domain Robustness/run-hhtbcw8x-sst5_stabilityaiStableBeluga7b_random_0_Kyle1668bosssentimentbertbaseuncased_style_logs:v0\n"
     ]
    },
    {
     "name": "stderr",
     "output_type": "stream",
     "text": [
      "\u001b[34m\u001b[1mwandb\u001b[0m:   1 of 1 files downloaded.  \n",
      " 13%|█▎        | 19/150 [00:23<02:14,  1.03s/it]"
     ]
    },
    {
     "name": "stdout",
     "output_type": "stream",
     "text": [
      "Downloading BOSS_Sentiment_SST5_BERT_ICR --- healthyml/In-Context Domain Transfer Improves Out-of-Domain Robustness/run-hhtbcw8x-sst5_stabilityaiStableBeluga7b_random_16_Kyle1668bosssentimentbertbaseuncased_style_logs:v0\n"
     ]
    },
    {
     "name": "stderr",
     "output_type": "stream",
     "text": [
      "\u001b[34m\u001b[1mwandb\u001b[0m:   1 of 1 files downloaded.  \n",
      " 13%|█▎        | 20/150 [00:24<02:04,  1.04it/s]"
     ]
    },
    {
     "name": "stdout",
     "output_type": "stream",
     "text": [
      "Downloading BOSS_Sentiment_SST5_T5_Insert --- healthyml/In-Context Domain Transfer Improves Out-of-Domain Robustness/run-hhtbcw8x-sst5_aug_insert_random_16_Kyle1668bosssentimentt5large_style_logs:v0\n"
     ]
    },
    {
     "name": "stderr",
     "output_type": "stream",
     "text": [
      "\u001b[34m\u001b[1mwandb\u001b[0m:   1 of 1 files downloaded.  \n",
      " 14%|█▍        | 21/150 [00:25<01:57,  1.10it/s]"
     ]
    },
    {
     "name": "stdout",
     "output_type": "stream",
     "text": [
      "Downloading BOSS_Sentiment_SST5_T5_Substitute --- healthyml/In-Context Domain Transfer Improves Out-of-Domain Robustness/run-hhtbcw8x-sst5_aug_substitute_random_16_Kyle1668bosssentimentt5large_style_logs:v0\n"
     ]
    },
    {
     "name": "stderr",
     "output_type": "stream",
     "text": [
      "\u001b[34m\u001b[1mwandb\u001b[0m:   1 of 1 files downloaded.  \n",
      " 15%|█▍        | 22/150 [00:26<01:55,  1.11it/s]"
     ]
    },
    {
     "name": "stdout",
     "output_type": "stream",
     "text": [
      "Downloading BOSS_Sentiment_SST5_T5_Translate --- healthyml/In-Context Domain Transfer Improves Out-of-Domain Robustness/run-hhtbcw8x-sst5_aug_backtranslate_random_16_Kyle1668bosssentimentt5large_style_logs:v0\n"
     ]
    },
    {
     "name": "stderr",
     "output_type": "stream",
     "text": [
      "\u001b[34m\u001b[1mwandb\u001b[0m:   1 of 1 files downloaded.  \n",
      " 15%|█▌        | 23/150 [00:26<01:51,  1.14it/s]"
     ]
    },
    {
     "name": "stdout",
     "output_type": "stream",
     "text": [
      "Downloading BOSS_Sentiment_SST5_T5_Paraphrase --- healthyml/In-Context Domain Transfer Improves Out-of-Domain Robustness/run-hhtbcw8x-sst5_stabilityaiStableBeluga7b_random_0_Kyle1668bosssentimentt5large_style_logs:v0\n"
     ]
    },
    {
     "name": "stderr",
     "output_type": "stream",
     "text": [
      "\u001b[34m\u001b[1mwandb\u001b[0m:   1 of 1 files downloaded.  \n",
      " 16%|█▌        | 24/150 [00:27<01:53,  1.11it/s]"
     ]
    },
    {
     "name": "stdout",
     "output_type": "stream",
     "text": [
      "Downloading BOSS_Sentiment_SST5_T5_ICR --- healthyml/In-Context Domain Transfer Improves Out-of-Domain Robustness/run-hhtbcw8x-sst5_stabilityaiStableBeluga7b_random_16_Kyle1668bosssentimentt5large_style_logs:v0\n"
     ]
    },
    {
     "name": "stderr",
     "output_type": "stream",
     "text": [
      "\u001b[34m\u001b[1mwandb\u001b[0m:   1 of 1 files downloaded.  \n",
      " 17%|█▋        | 25/150 [00:28<01:50,  1.13it/s]"
     ]
    },
    {
     "name": "stdout",
     "output_type": "stream",
     "text": [
      "Downloading BOSS_Sentiment_SST5_Falcon_Insert --- healthyml/In-Context Domain Transfer Improves Out-of-Domain Robustness/run-hhtbcw8x-sst5_aug_insert_random_16_tiiuaefalcon7binstruct_style_logs:v0\n"
     ]
    },
    {
     "name": "stderr",
     "output_type": "stream",
     "text": [
      "\u001b[34m\u001b[1mwandb\u001b[0m:   1 of 1 files downloaded.  \n",
      " 17%|█▋        | 26/150 [00:29<01:47,  1.15it/s]"
     ]
    },
    {
     "name": "stdout",
     "output_type": "stream",
     "text": [
      "Downloading BOSS_Sentiment_SST5_Falcon_Substitute --- healthyml/In-Context Domain Transfer Improves Out-of-Domain Robustness/run-hhtbcw8x-sst5_aug_substitute_random_16_tiiuaefalcon7binstruct_style_logs:v0\n"
     ]
    },
    {
     "name": "stderr",
     "output_type": "stream",
     "text": [
      "\u001b[34m\u001b[1mwandb\u001b[0m:   1 of 1 files downloaded.  \n",
      " 18%|█▊        | 27/150 [00:30<01:45,  1.16it/s]"
     ]
    },
    {
     "name": "stdout",
     "output_type": "stream",
     "text": [
      "Downloading BOSS_Sentiment_SST5_Falcon_Translate --- healthyml/In-Context Domain Transfer Improves Out-of-Domain Robustness/run-hhtbcw8x-sst5_aug_backtranslate_random_16_tiiuaefalcon7binstruct_style_logs:v0\n"
     ]
    },
    {
     "name": "stderr",
     "output_type": "stream",
     "text": [
      "\u001b[34m\u001b[1mwandb\u001b[0m:   1 of 1 files downloaded.  \n",
      " 19%|█▊        | 28/150 [00:31<01:42,  1.19it/s]"
     ]
    },
    {
     "name": "stdout",
     "output_type": "stream",
     "text": [
      "Downloading BOSS_Sentiment_SST5_Falcon_Paraphrase --- healthyml/In-Context Domain Transfer Improves Out-of-Domain Robustness/run-hhtbcw8x-sst5_stabilityaiStableBeluga7b_random_0_tiiuaefalcon7binstruct_style_logs:v0\n"
     ]
    },
    {
     "name": "stderr",
     "output_type": "stream",
     "text": [
      "\u001b[34m\u001b[1mwandb\u001b[0m:   1 of 1 files downloaded.  \n",
      " 19%|█▉        | 29/150 [00:31<01:42,  1.19it/s]"
     ]
    },
    {
     "name": "stdout",
     "output_type": "stream",
     "text": [
      "Downloading BOSS_Sentiment_SST5_Falcon_ICR --- healthyml/In-Context Domain Transfer Improves Out-of-Domain Robustness/run-hhtbcw8x-sst5_stabilityaiStableBeluga7b_random_16_tiiuaefalcon7binstruct_style_logs:v0\n"
     ]
    },
    {
     "name": "stderr",
     "output_type": "stream",
     "text": [
      "\u001b[34m\u001b[1mwandb\u001b[0m:   1 of 1 files downloaded.  \n",
      " 20%|██        | 30/150 [00:32<01:41,  1.18it/s]"
     ]
    },
    {
     "name": "stdout",
     "output_type": "stream",
     "text": [
      "Downloading BOSS_Sentiment_SemEval_BERT_Insert --- healthyml/In-Context Domain Transfer Improves Out-of-Domain Robustness/run-hhtbcw8x-semval_aug_insert_random_16_Kyle1668bosssentimentbertbaseuncased_style_logs:v0\n"
     ]
    },
    {
     "name": "stderr",
     "output_type": "stream",
     "text": [
      "\u001b[34m\u001b[1mwandb\u001b[0m: Downloading large artifact run-hhtbcw8x-semval_aug_insert_random_16_Kyle1668bosssentimentbertbaseuncased_style_logs:v0, 482.38MB. 1 files... \n",
      "\u001b[34m\u001b[1mwandb\u001b[0m:   1 of 1 files downloaded.  \n",
      "Done. 0:0:1.0\n",
      " 21%|██        | 31/150 [00:34<02:10,  1.10s/it]"
     ]
    },
    {
     "name": "stdout",
     "output_type": "stream",
     "text": [
      "Downloading BOSS_Sentiment_SemEval_BERT_Substitute --- healthyml/In-Context Domain Transfer Improves Out-of-Domain Robustness/run-hhtbcw8x-semval_aug_substitute_random_16_Kyle1668bosssentimentbertbaseuncased_style_logs:v0\n"
     ]
    },
    {
     "name": "stderr",
     "output_type": "stream",
     "text": [
      "\u001b[34m\u001b[1mwandb\u001b[0m: Downloading large artifact run-hhtbcw8x-semval_aug_substitute_random_16_Kyle1668bosssentimentbertbaseuncased_style_logs:v0, 474.79MB. 1 files... \n",
      "\u001b[34m\u001b[1mwandb\u001b[0m:   1 of 1 files downloaded.  \n",
      "Done. 0:0:1.0\n",
      " 21%|██▏       | 32/150 [00:36<02:28,  1.25s/it]"
     ]
    },
    {
     "name": "stdout",
     "output_type": "stream",
     "text": [
      "Downloading BOSS_Sentiment_SemEval_BERT_Translate --- healthyml/In-Context Domain Transfer Improves Out-of-Domain Robustness/run-hhtbcw8x-semval_aug_backtranslate_random_16_Kyle1668bosssentimentbertbaseuncased_style_logs:v0\n"
     ]
    },
    {
     "name": "stderr",
     "output_type": "stream",
     "text": [
      "\u001b[34m\u001b[1mwandb\u001b[0m: Downloading large artifact run-hhtbcw8x-semval_aug_backtranslate_random_16_Kyle1668bosssentimentbertbaseuncased_style_logs:v0, 474.07MB. 1 files... \n",
      "\u001b[34m\u001b[1mwandb\u001b[0m:   1 of 1 files downloaded.  \n",
      "Done. 0:0:1.0\n",
      " 22%|██▏       | 33/150 [00:37<02:40,  1.37s/it]"
     ]
    },
    {
     "name": "stdout",
     "output_type": "stream",
     "text": [
      "Downloading BOSS_Sentiment_SemEval_BERT_Paraphrase --- healthyml/In-Context Domain Transfer Improves Out-of-Domain Robustness/run-hhtbcw8x-semval_stabilityaiStableBeluga7b_random_0_Kyle1668bosssentimentbertbaseuncased_style_logs:v0\n"
     ]
    },
    {
     "name": "stderr",
     "output_type": "stream",
     "text": [
      "\u001b[34m\u001b[1mwandb\u001b[0m: Downloading large artifact run-hhtbcw8x-semval_stabilityaiStableBeluga7b_random_0_Kyle1668bosssentimentbertbaseuncased_style_logs:v0, 480.60MB. 1 files... \n",
      "\u001b[34m\u001b[1mwandb\u001b[0m:   1 of 1 files downloaded.  \n",
      "Done. 0:0:1.0\n",
      " 23%|██▎       | 34/150 [00:39<02:46,  1.43s/it]"
     ]
    },
    {
     "name": "stdout",
     "output_type": "stream",
     "text": [
      "Downloading BOSS_Sentiment_SemEval_BERT_ICR --- healthyml/In-Context Domain Transfer Improves Out-of-Domain Robustness/run-hhtbcw8x-semval_stabilityaiStableBeluga7b_random_16_Kyle1668bosssentimentbertbaseuncased_style_logs:v0\n"
     ]
    },
    {
     "name": "stderr",
     "output_type": "stream",
     "text": [
      "\u001b[34m\u001b[1mwandb\u001b[0m: Downloading large artifact run-hhtbcw8x-semval_stabilityaiStableBeluga7b_random_16_Kyle1668bosssentimentbertbaseuncased_style_logs:v0, 514.21MB. 1 files... \n",
      "\u001b[34m\u001b[1mwandb\u001b[0m:   1 of 1 files downloaded.  \n",
      "Done. 0:0:1.0\n",
      " 23%|██▎       | 35/150 [00:40<02:51,  1.49s/it]"
     ]
    },
    {
     "name": "stdout",
     "output_type": "stream",
     "text": [
      "Downloading BOSS_Sentiment_SemEval_T5_Insert --- healthyml/In-Context Domain Transfer Improves Out-of-Domain Robustness/run-hhtbcw8x-semval_aug_insert_random_16_Kyle1668bosssentimentt5large_style_logs:v0\n"
     ]
    },
    {
     "name": "stderr",
     "output_type": "stream",
     "text": [
      "\u001b[34m\u001b[1mwandb\u001b[0m: Downloading large artifact run-hhtbcw8x-semval_aug_insert_random_16_Kyle1668bosssentimentt5large_style_logs:v0, 469.16MB. 1 files... \n",
      "\u001b[34m\u001b[1mwandb\u001b[0m:   1 of 1 files downloaded.  \n",
      "Done. 0:0:1.0\n",
      " 24%|██▍       | 36/150 [00:42<02:52,  1.52s/it]"
     ]
    },
    {
     "name": "stdout",
     "output_type": "stream",
     "text": [
      "Downloading BOSS_Sentiment_SemEval_T5_Substitute --- healthyml/In-Context Domain Transfer Improves Out-of-Domain Robustness/run-hhtbcw8x-semval_aug_substitute_random_16_Kyle1668bosssentimentt5large_style_logs:v0\n"
     ]
    },
    {
     "name": "stderr",
     "output_type": "stream",
     "text": [
      "\u001b[34m\u001b[1mwandb\u001b[0m: Downloading large artifact run-hhtbcw8x-semval_aug_substitute_random_16_Kyle1668bosssentimentt5large_style_logs:v0, 461.58MB. 1 files... \n",
      "\u001b[34m\u001b[1mwandb\u001b[0m:   1 of 1 files downloaded.  \n",
      "Done. 0:0:1.0\n",
      " 25%|██▍       | 37/150 [00:44<02:53,  1.53s/it]"
     ]
    },
    {
     "name": "stdout",
     "output_type": "stream",
     "text": [
      "Downloading BOSS_Sentiment_SemEval_T5_Translate --- healthyml/In-Context Domain Transfer Improves Out-of-Domain Robustness/run-hhtbcw8x-semval_aug_backtranslate_random_16_Kyle1668bosssentimentt5large_style_logs:v0\n"
     ]
    },
    {
     "name": "stderr",
     "output_type": "stream",
     "text": [
      "\u001b[34m\u001b[1mwandb\u001b[0m: Downloading large artifact run-hhtbcw8x-semval_aug_backtranslate_random_16_Kyle1668bosssentimentt5large_style_logs:v0, 460.86MB. 1 files... \n",
      "\u001b[34m\u001b[1mwandb\u001b[0m:   1 of 1 files downloaded.  \n",
      "Done. 0:0:0.9\n",
      " 25%|██▌       | 38/150 [00:45<02:56,  1.57s/it]"
     ]
    },
    {
     "name": "stdout",
     "output_type": "stream",
     "text": [
      "Downloading BOSS_Sentiment_SemEval_T5_Paraphrase --- healthyml/In-Context Domain Transfer Improves Out-of-Domain Robustness/run-hhtbcw8x-semval_stabilityaiStableBeluga7b_random_0_Kyle1668bosssentimentt5large_style_logs:v0\n"
     ]
    },
    {
     "name": "stderr",
     "output_type": "stream",
     "text": [
      "\u001b[34m\u001b[1mwandb\u001b[0m: Downloading large artifact run-hhtbcw8x-semval_stabilityaiStableBeluga7b_random_0_Kyle1668bosssentimentt5large_style_logs:v0, 467.39MB. 1 files... \n",
      "\u001b[34m\u001b[1mwandb\u001b[0m:   1 of 1 files downloaded.  \n",
      "Done. 0:0:1.0\n",
      " 26%|██▌       | 39/150 [00:47<02:59,  1.62s/it]"
     ]
    },
    {
     "name": "stdout",
     "output_type": "stream",
     "text": [
      "Downloading BOSS_Sentiment_SemEval_T5_ICR --- healthyml/In-Context Domain Transfer Improves Out-of-Domain Robustness/run-hhtbcw8x-semval_stabilityaiStableBeluga7b_random_16_Kyle1668bosssentimentt5large_style_logs:v0\n"
     ]
    },
    {
     "name": "stderr",
     "output_type": "stream",
     "text": [
      "\u001b[34m\u001b[1mwandb\u001b[0m: Downloading large artifact run-hhtbcw8x-semval_stabilityaiStableBeluga7b_random_16_Kyle1668bosssentimentt5large_style_logs:v0, 501.00MB. 1 files... \n",
      "\u001b[34m\u001b[1mwandb\u001b[0m:   1 of 1 files downloaded.  \n",
      "Done. 0:0:1.0\n",
      " 27%|██▋       | 40/150 [00:49<02:55,  1.60s/it]"
     ]
    },
    {
     "name": "stdout",
     "output_type": "stream",
     "text": [
      "Downloading BOSS_Sentiment_SemEval_Falcon_Insert --- healthyml/In-Context Domain Transfer Improves Out-of-Domain Robustness/run-hhtbcw8x-semval_aug_insert_random_16_tiiuaefalcon7binstruct_style_logs:v0\n"
     ]
    },
    {
     "name": "stderr",
     "output_type": "stream",
     "text": [
      "\u001b[34m\u001b[1mwandb\u001b[0m: Downloading large artifact run-hhtbcw8x-semval_aug_insert_random_16_tiiuaefalcon7binstruct_style_logs:v0, 469.14MB. 1 files... \n",
      "\u001b[34m\u001b[1mwandb\u001b[0m:   1 of 1 files downloaded.  \n",
      "Done. 0:0:0.9\n",
      " 27%|██▋       | 41/150 [00:50<02:52,  1.59s/it]"
     ]
    },
    {
     "name": "stdout",
     "output_type": "stream",
     "text": [
      "Downloading BOSS_Sentiment_SemEval_Falcon_Substitute --- healthyml/In-Context Domain Transfer Improves Out-of-Domain Robustness/run-hhtbcw8x-semval_aug_substitute_random_16_tiiuaefalcon7binstruct_style_logs:v0\n"
     ]
    },
    {
     "name": "stderr",
     "output_type": "stream",
     "text": [
      "\u001b[34m\u001b[1mwandb\u001b[0m: Downloading large artifact run-hhtbcw8x-semval_aug_substitute_random_16_tiiuaefalcon7binstruct_style_logs:v0, 461.56MB. 1 files... \n",
      "\u001b[34m\u001b[1mwandb\u001b[0m:   1 of 1 files downloaded.  \n",
      "Done. 0:0:1.0\n",
      " 28%|██▊       | 42/150 [00:52<03:10,  1.76s/it]"
     ]
    },
    {
     "name": "stdout",
     "output_type": "stream",
     "text": [
      "Downloading BOSS_Sentiment_SemEval_Falcon_Translate --- healthyml/In-Context Domain Transfer Improves Out-of-Domain Robustness/run-hhtbcw8x-semval_aug_backtranslate_random_16_tiiuaefalcon7binstruct_style_logs:v0\n"
     ]
    },
    {
     "name": "stderr",
     "output_type": "stream",
     "text": [
      "\u001b[34m\u001b[1mwandb\u001b[0m: Downloading large artifact run-hhtbcw8x-semval_aug_backtranslate_random_16_tiiuaefalcon7binstruct_style_logs:v0, 460.85MB. 1 files... \n",
      "\u001b[34m\u001b[1mwandb\u001b[0m:   1 of 1 files downloaded.  \n",
      "Done. 0:0:1.0\n",
      " 29%|██▊       | 43/150 [00:54<03:00,  1.69s/it]"
     ]
    },
    {
     "name": "stdout",
     "output_type": "stream",
     "text": [
      "Downloading BOSS_Sentiment_SemEval_Falcon_Paraphrase --- healthyml/In-Context Domain Transfer Improves Out-of-Domain Robustness/run-hhtbcw8x-semval_stabilityaiStableBeluga7b_random_0_tiiuaefalcon7binstruct_style_logs:v0\n"
     ]
    },
    {
     "name": "stderr",
     "output_type": "stream",
     "text": [
      "\u001b[34m\u001b[1mwandb\u001b[0m: Downloading large artifact run-hhtbcw8x-semval_stabilityaiStableBeluga7b_random_0_tiiuaefalcon7binstruct_style_logs:v0, 467.39MB. 1 files... \n",
      "\u001b[34m\u001b[1mwandb\u001b[0m:   1 of 1 files downloaded.  \n",
      "Done. 0:0:0.9\n",
      " 29%|██▉       | 44/150 [00:55<02:55,  1.66s/it]"
     ]
    },
    {
     "name": "stdout",
     "output_type": "stream",
     "text": [
      "Downloading BOSS_Sentiment_SemEval_Falcon_ICR --- healthyml/In-Context Domain Transfer Improves Out-of-Domain Robustness/run-hhtbcw8x-semval_stabilityaiStableBeluga7b_random_16_tiiuaefalcon7binstruct_style_logs:v0\n"
     ]
    },
    {
     "name": "stderr",
     "output_type": "stream",
     "text": [
      "\u001b[34m\u001b[1mwandb\u001b[0m: Downloading large artifact run-hhtbcw8x-semval_stabilityaiStableBeluga7b_random_16_tiiuaefalcon7binstruct_style_logs:v0, 501.00MB. 1 files... \n",
      "\u001b[34m\u001b[1mwandb\u001b[0m:   1 of 1 files downloaded.  \n",
      "Done. 0:0:1.1\n",
      " 30%|███       | 45/150 [00:57<02:53,  1.65s/it]"
     ]
    },
    {
     "name": "stdout",
     "output_type": "stream",
     "text": [
      "Downloading BOSS_Sentiment_Dynasent_BERT_Insert --- healthyml/In-Context Domain Transfer Improves Out-of-Domain Robustness/run-hhtbcw8x-dynasent_aug_insert_random_16_Kyle1668bosssentimentbertbaseuncased_style_logs:v0\n"
     ]
    },
    {
     "name": "stderr",
     "output_type": "stream",
     "text": [
      "\u001b[34m\u001b[1mwandb\u001b[0m: Downloading large artifact run-hhtbcw8x-dynasent_aug_insert_random_16_Kyle1668bosssentimentbertbaseuncased_style_logs:v0, 97.77MB. 1 files... \n",
      "\u001b[34m\u001b[1mwandb\u001b[0m:   1 of 1 files downloaded.  \n",
      "Done. 0:0:0.3\n",
      " 31%|███       | 46/150 [00:58<02:27,  1.42s/it]"
     ]
    },
    {
     "name": "stdout",
     "output_type": "stream",
     "text": [
      "Downloading BOSS_Sentiment_Dynasent_BERT_Substitute --- healthyml/In-Context Domain Transfer Improves Out-of-Domain Robustness/run-hhtbcw8x-dynasent_aug_substitute_random_16_Kyle1668bosssentimentbertbaseuncased_style_logs:v0\n"
     ]
    },
    {
     "name": "stderr",
     "output_type": "stream",
     "text": [
      "\u001b[34m\u001b[1mwandb\u001b[0m: Downloading large artifact run-hhtbcw8x-dynasent_aug_substitute_random_16_Kyle1668bosssentimentbertbaseuncased_style_logs:v0, 96.83MB. 1 files... \n",
      "\u001b[34m\u001b[1mwandb\u001b[0m:   1 of 1 files downloaded.  \n",
      "Done. 0:0:0.3\n",
      " 31%|███▏      | 47/150 [00:59<02:10,  1.27s/it]"
     ]
    },
    {
     "name": "stdout",
     "output_type": "stream",
     "text": [
      "Downloading BOSS_Sentiment_Dynasent_BERT_Translate --- healthyml/In-Context Domain Transfer Improves Out-of-Domain Robustness/run-hhtbcw8x-dynasent_aug_backtranslate_random_16_Kyle1668bosssentimentbertbaseuncased_style_logs:v0\n"
     ]
    },
    {
     "name": "stderr",
     "output_type": "stream",
     "text": [
      "\u001b[34m\u001b[1mwandb\u001b[0m: Downloading large artifact run-hhtbcw8x-dynasent_aug_backtranslate_random_16_Kyle1668bosssentimentbertbaseuncased_style_logs:v0, 96.67MB. 1 files... \n",
      "\u001b[34m\u001b[1mwandb\u001b[0m:   1 of 1 files downloaded.  \n",
      "Done. 0:0:0.3\n",
      " 32%|███▏      | 48/150 [01:00<02:00,  1.18s/it]"
     ]
    },
    {
     "name": "stdout",
     "output_type": "stream",
     "text": [
      "Downloading BOSS_Sentiment_Dynasent_BERT_Paraphrase --- healthyml/In-Context Domain Transfer Improves Out-of-Domain Robustness/run-hhtbcw8x-dynasent_stabilityaiStableBeluga7b_random_0_Kyle1668bosssentimentbertbaseuncased_style_logs:v0\n"
     ]
    },
    {
     "name": "stderr",
     "output_type": "stream",
     "text": [
      "\u001b[34m\u001b[1mwandb\u001b[0m: Downloading large artifact run-hhtbcw8x-dynasent_stabilityaiStableBeluga7b_random_0_Kyle1668bosssentimentbertbaseuncased_style_logs:v0, 98.16MB. 1 files... \n",
      "\u001b[34m\u001b[1mwandb\u001b[0m:   1 of 1 files downloaded.  \n",
      "Done. 0:0:0.3\n",
      " 33%|███▎      | 49/150 [01:01<01:51,  1.10s/it]"
     ]
    },
    {
     "name": "stdout",
     "output_type": "stream",
     "text": [
      "Downloading BOSS_Sentiment_Dynasent_BERT_ICR --- healthyml/In-Context Domain Transfer Improves Out-of-Domain Robustness/run-hhtbcw8x-dynasent_stabilityaiStableBeluga7b_random_16_Kyle1668bosssentimentbertbaseuncased_style_logs:v0\n"
     ]
    },
    {
     "name": "stderr",
     "output_type": "stream",
     "text": [
      "\u001b[34m\u001b[1mwandb\u001b[0m: Downloading large artifact run-hhtbcw8x-dynasent_stabilityaiStableBeluga7b_random_16_Kyle1668bosssentimentbertbaseuncased_style_logs:v0, 104.87MB. 1 files... \n",
      "\u001b[34m\u001b[1mwandb\u001b[0m:   1 of 1 files downloaded.  \n",
      "Done. 0:0:0.3\n",
      " 33%|███▎      | 50/150 [01:02<01:43,  1.03s/it]"
     ]
    },
    {
     "name": "stdout",
     "output_type": "stream",
     "text": [
      "Downloading BOSS_Sentiment_Dynasent_T5_Insert --- healthyml/In-Context Domain Transfer Improves Out-of-Domain Robustness/run-hhtbcw8x-dynasent_aug_insert_random_16_Kyle1668bosssentimentt5large_style_logs:v0\n"
     ]
    },
    {
     "name": "stderr",
     "output_type": "stream",
     "text": [
      "\u001b[34m\u001b[1mwandb\u001b[0m: Downloading large artifact run-hhtbcw8x-dynasent_aug_insert_random_16_Kyle1668bosssentimentt5large_style_logs:v0, 95.00MB. 1 files... \n",
      "\u001b[34m\u001b[1mwandb\u001b[0m:   1 of 1 files downloaded.  \n",
      "Done. 0:0:0.3\n",
      " 34%|███▍      | 51/150 [01:03<01:40,  1.01s/it]"
     ]
    },
    {
     "name": "stdout",
     "output_type": "stream",
     "text": [
      "Downloading BOSS_Sentiment_Dynasent_T5_Substitute --- healthyml/In-Context Domain Transfer Improves Out-of-Domain Robustness/run-hhtbcw8x-dynasent_aug_substitute_random_16_Kyle1668bosssentimentt5large_style_logs:v0\n"
     ]
    },
    {
     "name": "stderr",
     "output_type": "stream",
     "text": [
      "\u001b[34m\u001b[1mwandb\u001b[0m: Downloading large artifact run-hhtbcw8x-dynasent_aug_substitute_random_16_Kyle1668bosssentimentt5large_style_logs:v0, 94.06MB. 1 files... \n",
      "\u001b[34m\u001b[1mwandb\u001b[0m:   1 of 1 files downloaded.  \n",
      "Done. 0:0:0.3\n",
      " 35%|███▍      | 52/150 [01:03<01:35,  1.02it/s]"
     ]
    },
    {
     "name": "stdout",
     "output_type": "stream",
     "text": [
      "Downloading BOSS_Sentiment_Dynasent_T5_Translate --- healthyml/In-Context Domain Transfer Improves Out-of-Domain Robustness/run-hhtbcw8x-dynasent_aug_backtranslate_random_16_Kyle1668bosssentimentt5large_style_logs:v0\n"
     ]
    },
    {
     "name": "stderr",
     "output_type": "stream",
     "text": [
      "\u001b[34m\u001b[1mwandb\u001b[0m: Downloading large artifact run-hhtbcw8x-dynasent_aug_backtranslate_random_16_Kyle1668bosssentimentt5large_style_logs:v0, 93.90MB. 1 files... \n",
      "\u001b[34m\u001b[1mwandb\u001b[0m:   1 of 1 files downloaded.  \n",
      "Done. 0:0:0.3\n",
      " 35%|███▌      | 53/150 [01:04<01:32,  1.05it/s]"
     ]
    },
    {
     "name": "stdout",
     "output_type": "stream",
     "text": [
      "Downloading BOSS_Sentiment_Dynasent_T5_Paraphrase --- healthyml/In-Context Domain Transfer Improves Out-of-Domain Robustness/run-hhtbcw8x-dynasent_stabilityaiStableBeluga7b_random_0_Kyle1668bosssentimentt5large_style_logs:v0\n"
     ]
    },
    {
     "name": "stderr",
     "output_type": "stream",
     "text": [
      "\u001b[34m\u001b[1mwandb\u001b[0m: Downloading large artifact run-hhtbcw8x-dynasent_stabilityaiStableBeluga7b_random_0_Kyle1668bosssentimentt5large_style_logs:v0, 95.38MB. 1 files... \n",
      "\u001b[34m\u001b[1mwandb\u001b[0m:   1 of 1 files downloaded.  \n",
      "Done. 0:0:0.3\n",
      " 36%|███▌      | 54/150 [01:07<02:17,  1.43s/it]"
     ]
    },
    {
     "name": "stdout",
     "output_type": "stream",
     "text": [
      "Downloading BOSS_Sentiment_Dynasent_T5_ICR --- healthyml/In-Context Domain Transfer Improves Out-of-Domain Robustness/run-hhtbcw8x-dynasent_stabilityaiStableBeluga7b_random_16_Kyle1668bosssentimentt5large_style_logs:v0\n"
     ]
    },
    {
     "name": "stderr",
     "output_type": "stream",
     "text": [
      "\u001b[34m\u001b[1mwandb\u001b[0m: Downloading large artifact run-hhtbcw8x-dynasent_stabilityaiStableBeluga7b_random_16_Kyle1668bosssentimentt5large_style_logs:v0, 102.10MB. 1 files... \n",
      "\u001b[34m\u001b[1mwandb\u001b[0m:   1 of 1 files downloaded.  \n",
      "Done. 0:0:0.3\n",
      " 37%|███▋      | 55/150 [01:08<02:00,  1.27s/it]"
     ]
    },
    {
     "name": "stdout",
     "output_type": "stream",
     "text": [
      "Downloading BOSS_Sentiment_Dynasent_Falcon_Insert --- healthyml/In-Context Domain Transfer Improves Out-of-Domain Robustness/run-hhtbcw8x-dynasent_aug_insert_random_16_tiiuaefalcon7binstruct_style_logs:v0\n"
     ]
    },
    {
     "name": "stderr",
     "output_type": "stream",
     "text": [
      "\u001b[34m\u001b[1mwandb\u001b[0m: Downloading large artifact run-hhtbcw8x-dynasent_aug_insert_random_16_tiiuaefalcon7binstruct_style_logs:v0, 95.00MB. 1 files... \n",
      "\u001b[34m\u001b[1mwandb\u001b[0m:   1 of 1 files downloaded.  \n",
      "Done. 0:0:0.3\n",
      " 37%|███▋      | 56/150 [01:09<01:50,  1.17s/it]"
     ]
    },
    {
     "name": "stdout",
     "output_type": "stream",
     "text": [
      "Downloading BOSS_Sentiment_Dynasent_Falcon_Substitute --- healthyml/In-Context Domain Transfer Improves Out-of-Domain Robustness/run-hhtbcw8x-dynasent_aug_substitute_random_16_tiiuaefalcon7binstruct_style_logs:v0\n"
     ]
    },
    {
     "name": "stderr",
     "output_type": "stream",
     "text": [
      "\u001b[34m\u001b[1mwandb\u001b[0m: Downloading large artifact run-hhtbcw8x-dynasent_aug_substitute_random_16_tiiuaefalcon7binstruct_style_logs:v0, 94.05MB. 1 files... \n",
      "\u001b[34m\u001b[1mwandb\u001b[0m:   1 of 1 files downloaded.  \n",
      "Done. 0:0:0.3\n",
      " 38%|███▊      | 57/150 [01:10<01:45,  1.13s/it]"
     ]
    },
    {
     "name": "stdout",
     "output_type": "stream",
     "text": [
      "Downloading BOSS_Sentiment_Dynasent_Falcon_Translate --- healthyml/In-Context Domain Transfer Improves Out-of-Domain Robustness/run-hhtbcw8x-dynasent_aug_backtranslate_random_16_tiiuaefalcon7binstruct_style_logs:v0\n"
     ]
    },
    {
     "name": "stderr",
     "output_type": "stream",
     "text": [
      "\u001b[34m\u001b[1mwandb\u001b[0m: Downloading large artifact run-hhtbcw8x-dynasent_aug_backtranslate_random_16_tiiuaefalcon7binstruct_style_logs:v0, 93.90MB. 1 files... \n",
      "\u001b[34m\u001b[1mwandb\u001b[0m:   1 of 1 files downloaded.  \n",
      "Done. 0:0:0.3\n",
      " 39%|███▊      | 58/150 [01:11<01:39,  1.08s/it]"
     ]
    },
    {
     "name": "stdout",
     "output_type": "stream",
     "text": [
      "Downloading BOSS_Sentiment_Dynasent_Falcon_Paraphrase --- healthyml/In-Context Domain Transfer Improves Out-of-Domain Robustness/run-hhtbcw8x-dynasent_stabilityaiStableBeluga7b_random_0_tiiuaefalcon7binstruct_style_logs:v0\n"
     ]
    },
    {
     "name": "stderr",
     "output_type": "stream",
     "text": [
      "\u001b[34m\u001b[1mwandb\u001b[0m: Downloading large artifact run-hhtbcw8x-dynasent_stabilityaiStableBeluga7b_random_0_tiiuaefalcon7binstruct_style_logs:v0, 95.38MB. 1 files... \n",
      "\u001b[34m\u001b[1mwandb\u001b[0m:   1 of 1 files downloaded.  \n",
      "Done. 0:0:0.5\n",
      " 39%|███▉      | 59/150 [01:12<01:42,  1.13s/it]"
     ]
    },
    {
     "name": "stdout",
     "output_type": "stream",
     "text": [
      "Downloading BOSS_Sentiment_Dynasent_Falcon_ICR --- healthyml/In-Context Domain Transfer Improves Out-of-Domain Robustness/run-hhtbcw8x-dynasent_stabilityaiStableBeluga7b_random_16_tiiuaefalcon7binstruct_style_logs:v0\n"
     ]
    },
    {
     "name": "stderr",
     "output_type": "stream",
     "text": [
      "\u001b[34m\u001b[1mwandb\u001b[0m: Downloading large artifact run-hhtbcw8x-dynasent_stabilityaiStableBeluga7b_random_16_tiiuaefalcon7binstruct_style_logs:v0, 102.10MB. 1 files... \n",
      "\u001b[34m\u001b[1mwandb\u001b[0m:   1 of 1 files downloaded.  \n",
      "Done. 0:0:0.5\n",
      " 40%|████      | 60/150 [01:13<01:41,  1.13s/it]"
     ]
    },
    {
     "name": "stdout",
     "output_type": "stream",
     "text": [
      "Downloading BOSS_Toxicity_ID_BERT_ICR --- healthyml/In-Context Domain Transfer Improves Out-of-Domain Robustness/run-dvdcuuij-validation_stabilityaiStableBeluga7b_random_16_Kyle1668bosstoxicitybertbaseuncased_style_logs:v0\n"
     ]
    },
    {
     "name": "stderr",
     "output_type": "stream",
     "text": [
      "\u001b[34m\u001b[1mwandb\u001b[0m: Downloading large artifact run-dvdcuuij-validation_stabilityaiStableBeluga7b_random_16_Kyle1668bosstoxicitybertbaseuncased_style_logs:v0, 492.11MB. 1 files... \n",
      "\u001b[34m\u001b[1mwandb\u001b[0m:   1 of 1 files downloaded.  \n",
      "Done. 0:0:6.7\n",
      " 43%|████▎     | 65/150 [01:21<02:05,  1.47s/it]"
     ]
    },
    {
     "name": "stdout",
     "output_type": "stream",
     "text": [
      "Downloading BOSS_Toxicity_ID_Falcon_Insert --- healthyml/In-Context Domain Transfer Improves Out-of-Domain Robustness/run-bo8gbtun-validation_aug_insert_random_16_tiiuaefalcon7binstruct_style_logs:v0\n"
     ]
    },
    {
     "name": "stderr",
     "output_type": "stream",
     "text": [
      "\u001b[34m\u001b[1mwandb\u001b[0m: Downloading large artifact run-bo8gbtun-validation_aug_insert_random_16_tiiuaefalcon7binstruct_style_logs:v0, 3294.07MB. 1 files... \n",
      "\u001b[34m\u001b[1mwandb\u001b[0m:   1 of 1 files downloaded.  \n",
      "Done. 0:0:19.4\n",
      " 47%|████▋     | 71/150 [01:41<03:15,  2.48s/it]"
     ]
    },
    {
     "name": "stdout",
     "output_type": "stream",
     "text": [
      "Downloading BOSS_Toxicity_Toxigen_BERT_Insert --- healthyml/In-Context Domain Transfer Improves Out-of-Domain Robustness/run-lixlm6qh-toxigen_aug_insert_random_16_Kyle1668bosstoxicitybertbaseuncased_style_logs:v0\n"
     ]
    },
    {
     "name": "stderr",
     "output_type": "stream",
     "text": [
      "\u001b[34m\u001b[1mwandb\u001b[0m:   1 of 1 files downloaded.  \n",
      " 51%|█████     | 76/150 [01:43<02:00,  1.63s/it]"
     ]
    },
    {
     "name": "stdout",
     "output_type": "stream",
     "text": [
      "Downloading BOSS_Toxicity_Toxigen_BERT_Substitute --- healthyml/In-Context Domain Transfer Improves Out-of-Domain Robustness/run-lixlm6qh-toxigen_aug_substitute_random_16_Kyle1668bosstoxicitybertbaseuncased_style_logs:v0\n"
     ]
    },
    {
     "name": "stderr",
     "output_type": "stream",
     "text": [
      "\u001b[34m\u001b[1mwandb\u001b[0m:   1 of 1 files downloaded.  \n",
      " 51%|█████▏    | 77/150 [01:44<01:56,  1.59s/it]"
     ]
    },
    {
     "name": "stdout",
     "output_type": "stream",
     "text": [
      "Downloading BOSS_Toxicity_Toxigen_BERT_Translate --- healthyml/In-Context Domain Transfer Improves Out-of-Domain Robustness/run-lixlm6qh-toxigen_aug_backtranslate_random_16_Kyle1668bosstoxicitybertbaseuncased_style_logs:v0\n"
     ]
    },
    {
     "name": "stderr",
     "output_type": "stream",
     "text": [
      "\u001b[34m\u001b[1mwandb\u001b[0m:   1 of 1 files downloaded.  \n",
      " 52%|█████▏    | 78/150 [01:46<01:53,  1.58s/it]"
     ]
    },
    {
     "name": "stdout",
     "output_type": "stream",
     "text": [
      "Downloading BOSS_Toxicity_Toxigen_BERT_Paraphrase --- healthyml/In-Context Domain Transfer Improves Out-of-Domain Robustness/run-lixlm6qh-toxigen_stabilityaiStableBeluga7b_random_0_Kyle1668bosstoxicitybertbaseuncased_style_logs:v0\n"
     ]
    },
    {
     "name": "stderr",
     "output_type": "stream",
     "text": [
      "\u001b[34m\u001b[1mwandb\u001b[0m:   1 of 1 files downloaded.  \n",
      " 53%|█████▎    | 79/150 [01:48<01:56,  1.64s/it]"
     ]
    },
    {
     "name": "stdout",
     "output_type": "stream",
     "text": [
      "Downloading BOSS_Toxicity_Toxigen_BERT_ICR --- healthyml/In-Context Domain Transfer Improves Out-of-Domain Robustness/run-lixlm6qh-toxigen_stabilityaiStableBeluga7b_random_16_Kyle1668bosstoxicitybertbaseuncased_style_logs:v0\n"
     ]
    },
    {
     "name": "stderr",
     "output_type": "stream",
     "text": [
      "\u001b[34m\u001b[1mwandb\u001b[0m:   1 of 1 files downloaded.  \n",
      " 53%|█████▎    | 80/150 [01:49<01:56,  1.66s/it]"
     ]
    },
    {
     "name": "stdout",
     "output_type": "stream",
     "text": [
      "Downloading BOSS_Toxicity_Toxigen_T5_Insert --- healthyml/In-Context Domain Transfer Improves Out-of-Domain Robustness/run-lixlm6qh-toxigen_aug_insert_random_16_Kyle1668bosstoxicityt5large_style_logs:v0\n"
     ]
    },
    {
     "name": "stderr",
     "output_type": "stream",
     "text": [
      "\u001b[34m\u001b[1mwandb\u001b[0m:   1 of 1 files downloaded.  \n",
      " 54%|█████▍    | 81/150 [01:51<02:00,  1.75s/it]"
     ]
    },
    {
     "name": "stdout",
     "output_type": "stream",
     "text": [
      "Downloading BOSS_Toxicity_Toxigen_T5_Substitute --- healthyml/In-Context Domain Transfer Improves Out-of-Domain Robustness/run-lixlm6qh-toxigen_aug_substitute_random_16_Kyle1668bosstoxicityt5large_style_logs:v0\n"
     ]
    },
    {
     "name": "stderr",
     "output_type": "stream",
     "text": [
      "\u001b[34m\u001b[1mwandb\u001b[0m:   1 of 1 files downloaded.  \n",
      " 55%|█████▍    | 82/150 [01:53<01:55,  1.71s/it]"
     ]
    },
    {
     "name": "stdout",
     "output_type": "stream",
     "text": [
      "Downloading BOSS_Toxicity_Toxigen_T5_Translate --- healthyml/In-Context Domain Transfer Improves Out-of-Domain Robustness/run-lixlm6qh-toxigen_aug_backtranslate_random_16_Kyle1668bosstoxicityt5large_style_logs:v0\n"
     ]
    },
    {
     "name": "stderr",
     "output_type": "stream",
     "text": [
      "\u001b[34m\u001b[1mwandb\u001b[0m:   1 of 1 files downloaded.  \n",
      " 55%|█████▌    | 83/150 [01:55<01:52,  1.68s/it]"
     ]
    },
    {
     "name": "stdout",
     "output_type": "stream",
     "text": [
      "Downloading BOSS_Toxicity_Toxigen_T5_Paraphrase --- healthyml/In-Context Domain Transfer Improves Out-of-Domain Robustness/run-lixlm6qh-toxigen_stabilityaiStableBeluga7b_random_0_Kyle1668bosstoxicityt5large_style_logs:v0\n"
     ]
    },
    {
     "name": "stderr",
     "output_type": "stream",
     "text": [
      "\u001b[34m\u001b[1mwandb\u001b[0m:   1 of 1 files downloaded.  \n",
      " 56%|█████▌    | 84/150 [01:56<01:49,  1.65s/it]"
     ]
    },
    {
     "name": "stdout",
     "output_type": "stream",
     "text": [
      "Downloading BOSS_Toxicity_Toxigen_T5_ICR --- healthyml/In-Context Domain Transfer Improves Out-of-Domain Robustness/run-lixlm6qh-toxigen_stabilityaiStableBeluga7b_random_16_Kyle1668bosstoxicityt5large_style_logs:v0\n"
     ]
    },
    {
     "name": "stderr",
     "output_type": "stream",
     "text": [
      "\u001b[34m\u001b[1mwandb\u001b[0m:   1 of 1 files downloaded.  \n",
      " 57%|█████▋    | 85/150 [01:58<01:48,  1.66s/it]"
     ]
    },
    {
     "name": "stdout",
     "output_type": "stream",
     "text": [
      "Downloading BOSS_Toxicity_Toxigen_Falcon_Insert --- healthyml/In-Context Domain Transfer Improves Out-of-Domain Robustness/run-lixlm6qh-toxigen_aug_insert_random_16_tiiuaefalcon7binstruct_style_logs:v0\n"
     ]
    },
    {
     "name": "stderr",
     "output_type": "stream",
     "text": [
      "\u001b[34m\u001b[1mwandb\u001b[0m:   1 of 1 files downloaded.  \n",
      " 57%|█████▋    | 86/150 [01:59<01:46,  1.66s/it]"
     ]
    },
    {
     "name": "stdout",
     "output_type": "stream",
     "text": [
      "Downloading BOSS_Toxicity_Toxigen_Falcon_Substitute --- healthyml/In-Context Domain Transfer Improves Out-of-Domain Robustness/run-lixlm6qh-toxigen_aug_substitute_random_16_tiiuaefalcon7binstruct_style_logs:v0\n"
     ]
    },
    {
     "name": "stderr",
     "output_type": "stream",
     "text": [
      "\u001b[34m\u001b[1mwandb\u001b[0m:   1 of 1 files downloaded.  \n",
      " 58%|█████▊    | 87/150 [02:01<01:45,  1.67s/it]"
     ]
    },
    {
     "name": "stdout",
     "output_type": "stream",
     "text": [
      "Downloading BOSS_Toxicity_Toxigen_Falcon_Translate --- healthyml/In-Context Domain Transfer Improves Out-of-Domain Robustness/run-lixlm6qh-toxigen_aug_backtranslate_random_16_tiiuaefalcon7binstruct_style_logs:v0\n"
     ]
    },
    {
     "name": "stderr",
     "output_type": "stream",
     "text": [
      "\u001b[34m\u001b[1mwandb\u001b[0m:   1 of 1 files downloaded.  \n",
      " 59%|█████▊    | 88/150 [02:03<01:42,  1.65s/it]"
     ]
    },
    {
     "name": "stdout",
     "output_type": "stream",
     "text": [
      "Downloading BOSS_Toxicity_Toxigen_Falcon_Paraphrase --- healthyml/In-Context Domain Transfer Improves Out-of-Domain Robustness/run-lixlm6qh-toxigen_stabilityaiStableBeluga7b_random_0_tiiuaefalcon7binstruct_style_logs:v0\n"
     ]
    },
    {
     "name": "stderr",
     "output_type": "stream",
     "text": [
      "\u001b[34m\u001b[1mwandb\u001b[0m:   1 of 1 files downloaded.  \n",
      " 59%|█████▉    | 89/150 [02:04<01:34,  1.54s/it]"
     ]
    },
    {
     "name": "stdout",
     "output_type": "stream",
     "text": [
      "Downloading BOSS_Toxicity_Toxigen_Falcon_ICR --- healthyml/In-Context Domain Transfer Improves Out-of-Domain Robustness/run-lixlm6qh-toxigen_stabilityaiStableBeluga7b_random_16_tiiuaefalcon7binstruct_style_logs:v0\n"
     ]
    },
    {
     "name": "stderr",
     "output_type": "stream",
     "text": [
      "\u001b[34m\u001b[1mwandb\u001b[0m:   1 of 1 files downloaded.  \n",
      " 60%|██████    | 90/150 [02:06<01:34,  1.57s/it]"
     ]
    },
    {
     "name": "stdout",
     "output_type": "stream",
     "text": [
      "Downloading BOSS_Toxicity_ImplicitHate_BERT_Insert --- healthyml/In-Context Domain Transfer Improves Out-of-Domain Robustness/run-lixlm6qh-implicit_hate_aug_insert_random_16_Kyle1668bosstoxicitybertbaseuncased_style_logs:v0\n"
     ]
    },
    {
     "name": "stderr",
     "output_type": "stream",
     "text": [
      "\u001b[34m\u001b[1mwandb\u001b[0m: Downloading large artifact run-lixlm6qh-implicit_hate_aug_insert_random_16_Kyle1668bosstoxicitybertbaseuncased_style_logs:v0, 565.97MB. 1 files... \n",
      "\u001b[34m\u001b[1mwandb\u001b[0m:   1 of 1 files downloaded.  \n",
      "Done. 0:0:5.1\n",
      " 61%|██████    | 91/150 [02:12<02:47,  2.83s/it]"
     ]
    },
    {
     "name": "stdout",
     "output_type": "stream",
     "text": [
      "Downloading BOSS_Toxicity_ImplicitHate_BERT_Substitute --- healthyml/In-Context Domain Transfer Improves Out-of-Domain Robustness/run-lixlm6qh-implicit_hate_aug_substitute_random_16_Kyle1668bosstoxicitybertbaseuncased_style_logs:v0\n"
     ]
    },
    {
     "name": "stderr",
     "output_type": "stream",
     "text": [
      "\u001b[34m\u001b[1mwandb\u001b[0m: Downloading large artifact run-lixlm6qh-implicit_hate_aug_substitute_random_16_Kyle1668bosstoxicitybertbaseuncased_style_logs:v0, 559.96MB. 1 files... \n",
      "\u001b[34m\u001b[1mwandb\u001b[0m:   1 of 1 files downloaded.  \n",
      "Done. 0:0:6.8\n",
      " 61%|██████▏   | 92/150 [02:19<04:06,  4.25s/it]"
     ]
    },
    {
     "name": "stdout",
     "output_type": "stream",
     "text": [
      "Downloading BOSS_Toxicity_ImplicitHate_BERT_Translate --- healthyml/In-Context Domain Transfer Improves Out-of-Domain Robustness/run-lixlm6qh-implicit_hate_aug_backtranslate_random_16_Kyle1668bosstoxicitybertbaseuncased_style_logs:v0\n"
     ]
    },
    {
     "name": "stderr",
     "output_type": "stream",
     "text": [
      "\u001b[34m\u001b[1mwandb\u001b[0m: Downloading large artifact run-lixlm6qh-implicit_hate_aug_backtranslate_random_16_Kyle1668bosstoxicitybertbaseuncased_style_logs:v0, 559.52MB. 1 files... \n",
      "\u001b[34m\u001b[1mwandb\u001b[0m:   1 of 1 files downloaded.  \n",
      "Done. 0:0:6.6\n",
      " 62%|██████▏   | 93/150 [02:26<04:54,  5.17s/it]"
     ]
    },
    {
     "name": "stdout",
     "output_type": "stream",
     "text": [
      "Downloading BOSS_Toxicity_ImplicitHate_BERT_Paraphrase --- healthyml/In-Context Domain Transfer Improves Out-of-Domain Robustness/run-lixlm6qh-implicit_hate_stabilityaiStableBeluga7b_random_0_Kyle1668bosstoxicitybertbaseuncased_style_logs:v0\n"
     ]
    },
    {
     "name": "stderr",
     "output_type": "stream",
     "text": [
      "\u001b[34m\u001b[1mwandb\u001b[0m: Downloading large artifact run-lixlm6qh-implicit_hate_stabilityaiStableBeluga7b_random_0_Kyle1668bosstoxicitybertbaseuncased_style_logs:v0, 566.63MB. 1 files... \n",
      "\u001b[34m\u001b[1mwandb\u001b[0m:   1 of 1 files downloaded.  \n",
      "Done. 0:0:4.8\n",
      " 63%|██████▎   | 94/150 [02:32<04:56,  5.29s/it]"
     ]
    },
    {
     "name": "stdout",
     "output_type": "stream",
     "text": [
      "Downloading BOSS_Toxicity_ImplicitHate_BERT_ICR --- healthyml/In-Context Domain Transfer Improves Out-of-Domain Robustness/run-lixlm6qh-implicit_hate_stabilityaiStableBeluga7b_random_16_Kyle1668bosstoxicitybertbaseuncased_style_logs:v0\n"
     ]
    },
    {
     "name": "stderr",
     "output_type": "stream",
     "text": [
      "\u001b[34m\u001b[1mwandb\u001b[0m: Downloading large artifact run-lixlm6qh-implicit_hate_stabilityaiStableBeluga7b_random_16_Kyle1668bosstoxicitybertbaseuncased_style_logs:v0, 611.76MB. 1 files... \n",
      "\u001b[34m\u001b[1mwandb\u001b[0m:   1 of 1 files downloaded.  \n",
      "Done. 0:0:5.8\n",
      " 63%|██████▎   | 95/150 [02:39<05:10,  5.65s/it]"
     ]
    },
    {
     "name": "stdout",
     "output_type": "stream",
     "text": [
      "Downloading BOSS_Toxicity_ImplicitHate_T5_Insert --- healthyml/In-Context Domain Transfer Improves Out-of-Domain Robustness/run-lixlm6qh-implicit_hate_aug_insert_random_16_Kyle1668bosstoxicityt5large_style_logs:v0\n"
     ]
    },
    {
     "name": "stderr",
     "output_type": "stream",
     "text": [
      "\u001b[34m\u001b[1mwandb\u001b[0m: Downloading large artifact run-lixlm6qh-implicit_hate_aug_insert_random_16_Kyle1668bosstoxicityt5large_style_logs:v0, 664.73MB. 1 files... \n",
      "\u001b[34m\u001b[1mwandb\u001b[0m:   1 of 1 files downloaded.  \n",
      "Done. 0:0:8.0\n",
      " 64%|██████▍   | 96/150 [02:47<05:54,  6.57s/it]"
     ]
    },
    {
     "name": "stdout",
     "output_type": "stream",
     "text": [
      "Downloading BOSS_Toxicity_ImplicitHate_T5_Substitute --- healthyml/In-Context Domain Transfer Improves Out-of-Domain Robustness/run-lixlm6qh-implicit_hate_aug_substitute_random_16_Kyle1668bosstoxicityt5large_style_logs:v0\n"
     ]
    },
    {
     "name": "stderr",
     "output_type": "stream",
     "text": [
      "\u001b[34m\u001b[1mwandb\u001b[0m: Downloading large artifact run-lixlm6qh-implicit_hate_aug_substitute_random_16_Kyle1668bosstoxicityt5large_style_logs:v0, 658.75MB. 1 files... \n",
      "\u001b[34m\u001b[1mwandb\u001b[0m:   1 of 1 files downloaded.  \n",
      "Done. 0:0:6.0\n",
      " 65%|██████▍   | 97/150 [02:54<05:49,  6.59s/it]"
     ]
    },
    {
     "name": "stdout",
     "output_type": "stream",
     "text": [
      "Downloading BOSS_Toxicity_ImplicitHate_T5_Translate --- healthyml/In-Context Domain Transfer Improves Out-of-Domain Robustness/run-lixlm6qh-implicit_hate_aug_backtranslate_random_16_Kyle1668bosstoxicityt5large_style_logs:v0\n"
     ]
    },
    {
     "name": "stderr",
     "output_type": "stream",
     "text": [
      "\u001b[34m\u001b[1mwandb\u001b[0m: Downloading large artifact run-lixlm6qh-implicit_hate_aug_backtranslate_random_16_Kyle1668bosstoxicityt5large_style_logs:v0, 658.30MB. 1 files... \n",
      "\u001b[34m\u001b[1mwandb\u001b[0m:   1 of 1 files downloaded.  \n",
      "Done. 0:0:4.8\n",
      " 65%|██████▌   | 98/150 [02:59<05:24,  6.24s/it]"
     ]
    },
    {
     "name": "stdout",
     "output_type": "stream",
     "text": [
      "Downloading BOSS_Toxicity_ImplicitHate_T5_Paraphrase --- healthyml/In-Context Domain Transfer Improves Out-of-Domain Robustness/run-lixlm6qh-implicit_hate_stabilityaiStableBeluga7b_random_0_Kyle1668bosstoxicityt5large_style_logs:v0\n"
     ]
    },
    {
     "name": "stderr",
     "output_type": "stream",
     "text": [
      "\u001b[34m\u001b[1mwandb\u001b[0m: Downloading large artifact run-lixlm6qh-implicit_hate_stabilityaiStableBeluga7b_random_0_Kyle1668bosstoxicityt5large_style_logs:v0, 556.70MB. 1 files... \n",
      "\u001b[34m\u001b[1mwandb\u001b[0m:   1 of 1 files downloaded.  \n",
      "Done. 0:0:4.8\n",
      " 66%|██████▌   | 99/150 [03:05<05:08,  6.04s/it]"
     ]
    },
    {
     "name": "stdout",
     "output_type": "stream",
     "text": [
      "Downloading BOSS_Toxicity_ImplicitHate_T5_ICR --- healthyml/In-Context Domain Transfer Improves Out-of-Domain Robustness/run-lixlm6qh-implicit_hate_stabilityaiStableBeluga7b_random_16_Kyle1668bosstoxicityt5large_style_logs:v0\n"
     ]
    },
    {
     "name": "stderr",
     "output_type": "stream",
     "text": [
      "\u001b[34m\u001b[1mwandb\u001b[0m: Downloading large artifact run-lixlm6qh-implicit_hate_stabilityaiStableBeluga7b_random_16_Kyle1668bosstoxicityt5large_style_logs:v0, 601.85MB. 1 files... \n",
      "\u001b[34m\u001b[1mwandb\u001b[0m:   1 of 1 files downloaded.  \n",
      "Done. 0:0:8.9\n",
      " 67%|██████▋   | 100/150 [03:14<05:55,  7.10s/it]"
     ]
    },
    {
     "name": "stdout",
     "output_type": "stream",
     "text": [
      "Downloading BOSS_Toxicity_ImplicitHate_Falcon_Insert --- healthyml/In-Context Domain Transfer Improves Out-of-Domain Robustness/run-lixlm6qh-implicit_hate_aug_insert_random_16_tiiuaefalcon7binstruct_style_logs:v0\n"
     ]
    },
    {
     "name": "stderr",
     "output_type": "stream",
     "text": [
      "\u001b[34m\u001b[1mwandb\u001b[0m: Downloading large artifact run-lixlm6qh-implicit_hate_aug_insert_random_16_tiiuaefalcon7binstruct_style_logs:v0, 664.77MB. 1 files... \n",
      "\u001b[34m\u001b[1mwandb\u001b[0m:   1 of 1 files downloaded.  \n",
      "Done. 0:0:5.8\n",
      " 67%|██████▋   | 101/150 [03:21<05:39,  6.93s/it]"
     ]
    },
    {
     "name": "stdout",
     "output_type": "stream",
     "text": [
      "Downloading BOSS_Toxicity_ImplicitHate_Falcon_Substitute --- healthyml/In-Context Domain Transfer Improves Out-of-Domain Robustness/run-lixlm6qh-implicit_hate_aug_substitute_random_16_tiiuaefalcon7binstruct_style_logs:v0\n"
     ]
    },
    {
     "name": "stderr",
     "output_type": "stream",
     "text": [
      "\u001b[34m\u001b[1mwandb\u001b[0m: Downloading large artifact run-lixlm6qh-implicit_hate_aug_substitute_random_16_tiiuaefalcon7binstruct_style_logs:v0, 633.79MB. 1 files... \n",
      "\u001b[34m\u001b[1mwandb\u001b[0m:   1 of 1 files downloaded.  \n",
      "Done. 0:0:7.0\n",
      " 68%|██████▊   | 102/150 [03:29<05:42,  7.14s/it]"
     ]
    },
    {
     "name": "stdout",
     "output_type": "stream",
     "text": [
      "Downloading BOSS_Toxicity_ImplicitHate_Falcon_Translate --- healthyml/In-Context Domain Transfer Improves Out-of-Domain Robustness/run-lixlm6qh-implicit_hate_aug_backtranslate_random_16_tiiuaefalcon7binstruct_style_logs:v0\n"
     ]
    },
    {
     "name": "stderr",
     "output_type": "stream",
     "text": [
      "\u001b[34m\u001b[1mwandb\u001b[0m: Downloading large artifact run-lixlm6qh-implicit_hate_aug_backtranslate_random_16_tiiuaefalcon7binstruct_style_logs:v0, 658.28MB. 1 files... \n",
      "\u001b[34m\u001b[1mwandb\u001b[0m:   1 of 1 files downloaded.  \n",
      "Done. 0:0:4.2\n",
      " 69%|██████▊   | 103/150 [03:34<05:03,  6.47s/it]"
     ]
    },
    {
     "name": "stdout",
     "output_type": "stream",
     "text": [
      "Downloading BOSS_Toxicity_AdvCivil_BERT_Insert --- healthyml/In-Context Domain Transfer Improves Out-of-Domain Robustness/run-lixlm6qh-adv_civil_aug_insert_random_16_Kyle1668bosstoxicitybertbaseuncased_style_logs:v0\n"
     ]
    },
    {
     "name": "stderr",
     "output_type": "stream",
     "text": [
      "\u001b[34m\u001b[1mwandb\u001b[0m:   1 of 1 files downloaded.  \n",
      " 71%|███████   | 106/150 [03:35<02:17,  3.13s/it]"
     ]
    },
    {
     "name": "stdout",
     "output_type": "stream",
     "text": [
      "Downloading BOSS_Toxicity_AdvCivil_BERT_Substitute --- healthyml/In-Context Domain Transfer Improves Out-of-Domain Robustness/run-lixlm6qh-adv_civil_aug_substitute_random_16_Kyle1668bosstoxicitybertbaseuncased_style_logs:v0\n"
     ]
    },
    {
     "name": "stderr",
     "output_type": "stream",
     "text": [
      "\u001b[34m\u001b[1mwandb\u001b[0m:   1 of 1 files downloaded.  \n",
      " 71%|███████▏  | 107/150 [03:38<02:08,  2.99s/it]"
     ]
    },
    {
     "name": "stdout",
     "output_type": "stream",
     "text": [
      "Downloading BOSS_Toxicity_AdvCivil_BERT_Translate --- healthyml/In-Context Domain Transfer Improves Out-of-Domain Robustness/run-lixlm6qh-adv_civil_aug_backtranslate_random_16_Kyle1668bosstoxicitybertbaseuncased_style_logs:v0\n"
     ]
    },
    {
     "name": "stderr",
     "output_type": "stream",
     "text": [
      "\u001b[34m\u001b[1mwandb\u001b[0m:   1 of 1 files downloaded.  \n",
      " 72%|███████▏  | 108/150 [03:39<01:49,  2.62s/it]"
     ]
    },
    {
     "name": "stdout",
     "output_type": "stream",
     "text": [
      "Downloading BOSS_Toxicity_AdvCivil_BERT_Paraphrase --- healthyml/In-Context Domain Transfer Improves Out-of-Domain Robustness/run-lixlm6qh-adv_civil_stabilityaiStableBeluga7b_random_0_Kyle1668bosstoxicitybertbaseuncased_style_logs:v0\n"
     ]
    },
    {
     "name": "stderr",
     "output_type": "stream",
     "text": [
      "\u001b[34m\u001b[1mwandb\u001b[0m:   1 of 1 files downloaded.  \n",
      " 73%|███████▎  | 109/150 [03:41<01:36,  2.36s/it]"
     ]
    },
    {
     "name": "stdout",
     "output_type": "stream",
     "text": [
      "Downloading BOSS_Toxicity_AdvCivil_BERT_ICR --- healthyml/In-Context Domain Transfer Improves Out-of-Domain Robustness/run-lixlm6qh-adv_civil_stabilityaiStableBeluga7b_random_16_Kyle1668bosstoxicitybertbaseuncased_style_logs:v0\n"
     ]
    },
    {
     "name": "stderr",
     "output_type": "stream",
     "text": [
      "\u001b[34m\u001b[1mwandb\u001b[0m:   1 of 1 files downloaded.  \n",
      " 73%|███████▎  | 110/150 [03:42<01:24,  2.11s/it]"
     ]
    },
    {
     "name": "stdout",
     "output_type": "stream",
     "text": [
      "Downloading BOSS_Toxicity_AdvCivil_T5_Insert --- healthyml/In-Context Domain Transfer Improves Out-of-Domain Robustness/run-lixlm6qh-adv_civil_aug_insert_random_16_Kyle1668bosstoxicityt5large_style_logs:v0\n"
     ]
    },
    {
     "name": "stderr",
     "output_type": "stream",
     "text": [
      "\u001b[34m\u001b[1mwandb\u001b[0m:   1 of 1 files downloaded.  \n",
      " 74%|███████▍  | 111/150 [03:44<01:16,  1.97s/it]"
     ]
    },
    {
     "name": "stdout",
     "output_type": "stream",
     "text": [
      "Downloading BOSS_Toxicity_AdvCivil_T5_Substitute --- healthyml/In-Context Domain Transfer Improves Out-of-Domain Robustness/run-lixlm6qh-adv_civil_aug_substitute_random_16_Kyle1668bosstoxicityt5large_style_logs:v0\n"
     ]
    },
    {
     "name": "stderr",
     "output_type": "stream",
     "text": [
      "\u001b[34m\u001b[1mwandb\u001b[0m:   1 of 1 files downloaded.  \n",
      " 75%|███████▍  | 112/150 [03:45<01:12,  1.90s/it]"
     ]
    },
    {
     "name": "stdout",
     "output_type": "stream",
     "text": [
      "Downloading BOSS_Toxicity_AdvCivil_T5_Translate --- healthyml/In-Context Domain Transfer Improves Out-of-Domain Robustness/run-lixlm6qh-adv_civil_aug_backtranslate_random_16_Kyle1668bosstoxicityt5large_style_logs:v0\n"
     ]
    },
    {
     "name": "stderr",
     "output_type": "stream",
     "text": [
      "\u001b[34m\u001b[1mwandb\u001b[0m:   1 of 1 files downloaded.  \n",
      " 75%|███████▌  | 113/150 [03:47<01:10,  1.90s/it]"
     ]
    },
    {
     "name": "stdout",
     "output_type": "stream",
     "text": [
      "Downloading BOSS_Toxicity_AdvCivil_T5_Paraphrase --- healthyml/In-Context Domain Transfer Improves Out-of-Domain Robustness/run-lixlm6qh-adv_civil_stabilityaiStableBeluga7b_random_0_Kyle1668bosstoxicityt5large_style_logs:v0\n"
     ]
    },
    {
     "name": "stderr",
     "output_type": "stream",
     "text": [
      "\u001b[34m\u001b[1mwandb\u001b[0m:   1 of 1 files downloaded.  \n",
      " 76%|███████▌  | 114/150 [03:48<01:01,  1.71s/it]"
     ]
    },
    {
     "name": "stdout",
     "output_type": "stream",
     "text": [
      "Downloading BOSS_Toxicity_AdvCivil_T5_ICR --- healthyml/In-Context Domain Transfer Improves Out-of-Domain Robustness/run-lixlm6qh-adv_civil_stabilityaiStableBeluga7b_random_16_Kyle1668bosstoxicityt5large_style_logs:v0\n"
     ]
    },
    {
     "name": "stderr",
     "output_type": "stream",
     "text": [
      "\u001b[34m\u001b[1mwandb\u001b[0m:   1 of 1 files downloaded.  \n",
      " 77%|███████▋  | 115/150 [03:50<00:56,  1.60s/it]"
     ]
    },
    {
     "name": "stdout",
     "output_type": "stream",
     "text": [
      "Downloading BOSS_Toxicity_AdvCivil_Falcon_Insert --- healthyml/In-Context Domain Transfer Improves Out-of-Domain Robustness/run-lixlm6qh-adv_civil_aug_insert_random_16_tiiuaefalcon7binstruct_style_logs:v0\n"
     ]
    },
    {
     "name": "stderr",
     "output_type": "stream",
     "text": [
      "\u001b[34m\u001b[1mwandb\u001b[0m:   1 of 1 files downloaded.  \n",
      " 77%|███████▋  | 116/150 [03:53<01:06,  1.94s/it]"
     ]
    },
    {
     "name": "stdout",
     "output_type": "stream",
     "text": [
      "Downloading BOSS_Toxicity_AdvCivil_Falcon_Substitute --- healthyml/In-Context Domain Transfer Improves Out-of-Domain Robustness/run-lixlm6qh-adv_civil_aug_substitute_random_16_tiiuaefalcon7binstruct_style_logs:v0\n"
     ]
    },
    {
     "name": "stderr",
     "output_type": "stream",
     "text": [
      "\u001b[34m\u001b[1mwandb\u001b[0m:   1 of 1 files downloaded.  \n",
      " 78%|███████▊  | 117/150 [03:54<01:04,  1.95s/it]"
     ]
    },
    {
     "name": "stdout",
     "output_type": "stream",
     "text": [
      "Downloading BOSS_Toxicity_AdvCivil_Falcon_Translate --- healthyml/In-Context Domain Transfer Improves Out-of-Domain Robustness/run-lixlm6qh-adv_civil_aug_backtranslate_random_16_tiiuaefalcon7binstruct_style_logs:v0\n"
     ]
    },
    {
     "name": "stderr",
     "output_type": "stream",
     "text": [
      "\u001b[34m\u001b[1mwandb\u001b[0m:   1 of 1 files downloaded.  \n",
      " 79%|███████▊  | 118/150 [03:56<00:58,  1.81s/it]"
     ]
    },
    {
     "name": "stdout",
     "output_type": "stream",
     "text": [
      "Downloading BOSS_Toxicity_AdvCivil_Falcon_Paraphrase --- healthyml/In-Context Domain Transfer Improves Out-of-Domain Robustness/run-lixlm6qh-adv_civil_stabilityaiStableBeluga7b_random_0_tiiuaefalcon7binstruct_style_logs:v0\n"
     ]
    },
    {
     "name": "stderr",
     "output_type": "stream",
     "text": [
      "\u001b[34m\u001b[1mwandb\u001b[0m:   1 of 1 files downloaded.  \n",
      " 79%|███████▉  | 119/150 [03:57<00:52,  1.69s/it]"
     ]
    },
    {
     "name": "stdout",
     "output_type": "stream",
     "text": [
      "Downloading BOSS_Toxicity_AdvCivil_Falcon_ICR --- healthyml/In-Context Domain Transfer Improves Out-of-Domain Robustness/run-lixlm6qh-adv_civil_stabilityaiStableBeluga7b_random_16_tiiuaefalcon7binstruct_style_logs:v0\n"
     ]
    },
    {
     "name": "stderr",
     "output_type": "stream",
     "text": [
      "\u001b[34m\u001b[1mwandb\u001b[0m:   1 of 1 files downloaded.  \n",
      " 80%|████████  | 120/150 [03:59<00:51,  1.71s/it]"
     ]
    },
    {
     "name": "stdout",
     "output_type": "stream",
     "text": [
      "Downloading AgNewsTweets_ID_BERT_Insert --- healthyml/In-Context Domain Transfer Improves Out-of-Domain Robustness/run-i2vkae2s-validation_aug_insert_random_16_Kyle1668agnewsbertbaseuncased_style_logs:v0\n"
     ]
    },
    {
     "name": "stderr",
     "output_type": "stream",
     "text": [
      "\u001b[34m\u001b[1mwandb\u001b[0m: Downloading large artifact run-i2vkae2s-validation_aug_insert_random_16_Kyle1668agnewsbertbaseuncased_style_logs:v0, 199.23MB. 1 files... \n",
      "\u001b[34m\u001b[1mwandb\u001b[0m:   1 of 1 files downloaded.  \n",
      "Done. 0:0:0.5\n",
      " 81%|████████  | 121/150 [04:00<00:45,  1.56s/it]"
     ]
    },
    {
     "name": "stdout",
     "output_type": "stream",
     "text": [
      "Downloading AgNewsTweets_ID_BERT_Substitute --- healthyml/In-Context Domain Transfer Improves Out-of-Domain Robustness/run-i2vkae2s-validation_aug_substitute_random_16_Kyle1668agnewsbertbaseuncased_style_logs:v0\n"
     ]
    },
    {
     "name": "stderr",
     "output_type": "stream",
     "text": [
      "\u001b[34m\u001b[1mwandb\u001b[0m: Downloading large artifact run-i2vkae2s-validation_aug_substitute_random_16_Kyle1668agnewsbertbaseuncased_style_logs:v0, 195.74MB. 1 files... \n",
      "\u001b[34m\u001b[1mwandb\u001b[0m:   1 of 1 files downloaded.  \n",
      "Done. 0:0:0.5\n",
      " 81%|████████▏ | 122/150 [04:01<00:40,  1.43s/it]"
     ]
    },
    {
     "name": "stdout",
     "output_type": "stream",
     "text": [
      "Downloading AgNewsTweets_ID_BERT_Translate --- healthyml/In-Context Domain Transfer Improves Out-of-Domain Robustness/run-i2vkae2s-validation_aug_backtranslate_random_16_Kyle1668agnewsbertbaseuncased_style_logs:v0\n"
     ]
    },
    {
     "name": "stderr",
     "output_type": "stream",
     "text": [
      "\u001b[34m\u001b[1mwandb\u001b[0m: Downloading large artifact run-i2vkae2s-validation_aug_backtranslate_random_16_Kyle1668agnewsbertbaseuncased_style_logs:v0, 194.34MB. 1 files... \n",
      "\u001b[34m\u001b[1mwandb\u001b[0m:   1 of 1 files downloaded.  \n",
      "Done. 0:0:0.5\n",
      " 82%|████████▏ | 123/150 [04:03<00:36,  1.34s/it]"
     ]
    },
    {
     "name": "stdout",
     "output_type": "stream",
     "text": [
      "Downloading AgNewsTweets_ID_BERT_Paraphrase --- healthyml/In-Context Domain Transfer Improves Out-of-Domain Robustness/run-i2vkae2s-validation_stabilityaiStableBeluga7b_random_0_Kyle1668agnewsbertbaseuncased_style_logs:v0\n"
     ]
    },
    {
     "name": "stderr",
     "output_type": "stream",
     "text": [
      "\u001b[34m\u001b[1mwandb\u001b[0m: Downloading large artifact run-i2vkae2s-validation_stabilityaiStableBeluga7b_random_0_Kyle1668agnewsbertbaseuncased_style_logs:v0, 196.23MB. 1 files... \n",
      "\u001b[34m\u001b[1mwandb\u001b[0m:   1 of 1 files downloaded.  \n",
      "Done. 0:0:0.5\n",
      " 83%|████████▎ | 124/150 [04:04<00:33,  1.30s/it]"
     ]
    },
    {
     "name": "stdout",
     "output_type": "stream",
     "text": [
      "Downloading AgNewsTweets_ID_BERT_ICR --- healthyml/In-Context Domain Transfer Improves Out-of-Domain Robustness/run-i2vkae2s-validation_stabilityaiStableBeluga7b_random_16_Kyle1668agnewsbertbaseuncased_style_logs:v0\n"
     ]
    },
    {
     "name": "stderr",
     "output_type": "stream",
     "text": [
      "\u001b[34m\u001b[1mwandb\u001b[0m: Downloading large artifact run-i2vkae2s-validation_stabilityaiStableBeluga7b_random_16_Kyle1668agnewsbertbaseuncased_style_logs:v0, 211.15MB. 1 files... \n",
      "\u001b[34m\u001b[1mwandb\u001b[0m:   1 of 1 files downloaded.  \n",
      "Done. 0:0:0.5\n",
      " 83%|████████▎ | 125/150 [04:05<00:31,  1.26s/it]"
     ]
    },
    {
     "name": "stdout",
     "output_type": "stream",
     "text": [
      "Downloading AgNewsTweets_ID_T5_Insert --- healthyml/In-Context Domain Transfer Improves Out-of-Domain Robustness/run-i2vkae2s-validation_aug_insert_random_16_Kyle1668agnewst5large_style_logs:v0\n"
     ]
    },
    {
     "name": "stderr",
     "output_type": "stream",
     "text": [
      "\u001b[34m\u001b[1mwandb\u001b[0m: Downloading large artifact run-i2vkae2s-validation_aug_insert_random_16_Kyle1668agnewst5large_style_logs:v0, 230.34MB. 1 files... \n",
      "\u001b[34m\u001b[1mwandb\u001b[0m:   1 of 1 files downloaded.  \n",
      "Done. 0:0:0.5\n",
      " 84%|████████▍ | 126/150 [04:06<00:30,  1.27s/it]"
     ]
    },
    {
     "name": "stdout",
     "output_type": "stream",
     "text": [
      "Downloading AgNewsTweets_ID_T5_Substitute --- healthyml/In-Context Domain Transfer Improves Out-of-Domain Robustness/run-i2vkae2s-validation_aug_substitute_random_16_Kyle1668agnewst5large_style_logs:v0\n"
     ]
    },
    {
     "name": "stderr",
     "output_type": "stream",
     "text": [
      "\u001b[34m\u001b[1mwandb\u001b[0m: Downloading large artifact run-i2vkae2s-validation_aug_substitute_random_16_Kyle1668agnewst5large_style_logs:v0, 226.85MB. 1 files... \n",
      "\u001b[34m\u001b[1mwandb\u001b[0m:   1 of 1 files downloaded.  \n",
      "Done. 0:0:0.5\n",
      " 85%|████████▍ | 127/150 [04:08<00:29,  1.26s/it]"
     ]
    },
    {
     "name": "stdout",
     "output_type": "stream",
     "text": [
      "Downloading AgNewsTweets_ID_T5_Translate --- healthyml/In-Context Domain Transfer Improves Out-of-Domain Robustness/run-i2vkae2s-validation_aug_backtranslate_random_16_Kyle1668agnewst5large_style_logs:v0\n"
     ]
    },
    {
     "name": "stderr",
     "output_type": "stream",
     "text": [
      "\u001b[34m\u001b[1mwandb\u001b[0m: Downloading large artifact run-i2vkae2s-validation_aug_backtranslate_random_16_Kyle1668agnewst5large_style_logs:v0, 225.46MB. 1 files... \n",
      "\u001b[34m\u001b[1mwandb\u001b[0m:   1 of 1 files downloaded.  \n",
      "Done. 0:0:0.5\n",
      " 85%|████████▌ | 128/150 [04:09<00:27,  1.25s/it]"
     ]
    },
    {
     "name": "stdout",
     "output_type": "stream",
     "text": [
      "Downloading AgNewsTweets_ID_T5_Paraphrase --- healthyml/In-Context Domain Transfer Improves Out-of-Domain Robustness/run-i2vkae2s-validation_stabilityaiStableBeluga7b_random_0_Kyle1668agnewst5large_style_logs:v0\n"
     ]
    },
    {
     "name": "stderr",
     "output_type": "stream",
     "text": [
      "\u001b[34m\u001b[1mwandb\u001b[0m: Downloading large artifact run-i2vkae2s-validation_stabilityaiStableBeluga7b_random_0_Kyle1668agnewst5large_style_logs:v0, 227.35MB. 1 files... \n",
      "\u001b[34m\u001b[1mwandb\u001b[0m:   1 of 1 files downloaded.  \n",
      "Done. 0:0:0.5\n",
      " 86%|████████▌ | 129/150 [04:10<00:26,  1.25s/it]"
     ]
    },
    {
     "name": "stdout",
     "output_type": "stream",
     "text": [
      "Downloading AgNewsTweets_ID_T5_ICR --- healthyml/In-Context Domain Transfer Improves Out-of-Domain Robustness/run-i2vkae2s-validation_stabilityaiStableBeluga7b_random_16_Kyle1668agnewst5large_style_logs:v0\n"
     ]
    },
    {
     "name": "stderr",
     "output_type": "stream",
     "text": [
      "\u001b[34m\u001b[1mwandb\u001b[0m: Downloading large artifact run-i2vkae2s-validation_stabilityaiStableBeluga7b_random_16_Kyle1668agnewst5large_style_logs:v0, 242.28MB. 1 files... \n",
      "\u001b[34m\u001b[1mwandb\u001b[0m:   1 of 1 files downloaded.  \n",
      "Done. 0:0:0.6\n",
      " 87%|████████▋ | 130/150 [04:11<00:25,  1.27s/it]"
     ]
    },
    {
     "name": "stdout",
     "output_type": "stream",
     "text": [
      "Downloading AgNewsTweets_ID_Falcon_Insert --- healthyml/In-Context Domain Transfer Improves Out-of-Domain Robustness/run-i2vkae2s-validation_aug_insert_random_16_tiiuaefalcon7binstruct_style_logs:v0\n"
     ]
    },
    {
     "name": "stderr",
     "output_type": "stream",
     "text": [
      "\u001b[34m\u001b[1mwandb\u001b[0m: Downloading large artifact run-i2vkae2s-validation_aug_insert_random_16_tiiuaefalcon7binstruct_style_logs:v0, 230.31MB. 1 files... \n",
      "\u001b[34m\u001b[1mwandb\u001b[0m:   1 of 1 files downloaded.  \n",
      "Done. 0:0:0.5\n",
      " 87%|████████▋ | 131/150 [04:13<00:23,  1.25s/it]"
     ]
    },
    {
     "name": "stdout",
     "output_type": "stream",
     "text": [
      "Downloading AgNewsTweets_ID_Falcon_Substitute --- healthyml/In-Context Domain Transfer Improves Out-of-Domain Robustness/run-i2vkae2s-validation_aug_substitute_random_16_tiiuaefalcon7binstruct_style_logs:v0\n"
     ]
    },
    {
     "name": "stderr",
     "output_type": "stream",
     "text": [
      "\u001b[34m\u001b[1mwandb\u001b[0m: Downloading large artifact run-i2vkae2s-validation_aug_substitute_random_16_tiiuaefalcon7binstruct_style_logs:v0, 226.82MB. 1 files... \n",
      "\u001b[34m\u001b[1mwandb\u001b[0m:   1 of 1 files downloaded.  \n",
      "Done. 0:0:0.6\n",
      " 88%|████████▊ | 132/150 [04:14<00:24,  1.34s/it]"
     ]
    },
    {
     "name": "stdout",
     "output_type": "stream",
     "text": [
      "Downloading AgNewsTweets_ID_Falcon_Translate --- healthyml/In-Context Domain Transfer Improves Out-of-Domain Robustness/run-i2vkae2s-validation_aug_backtranslate_random_16_tiiuaefalcon7binstruct_style_logs:v0\n"
     ]
    },
    {
     "name": "stderr",
     "output_type": "stream",
     "text": [
      "\u001b[34m\u001b[1mwandb\u001b[0m: Downloading large artifact run-i2vkae2s-validation_aug_backtranslate_random_16_tiiuaefalcon7binstruct_style_logs:v0, 225.44MB. 1 files... \n",
      "\u001b[34m\u001b[1mwandb\u001b[0m:   1 of 1 files downloaded.  \n",
      "Done. 0:0:0.5\n",
      " 89%|████████▊ | 133/150 [04:15<00:22,  1.34s/it]"
     ]
    },
    {
     "name": "stdout",
     "output_type": "stream",
     "text": [
      "Downloading AgNewsTweets_ID_Falcon_Paraphrase --- healthyml/In-Context Domain Transfer Improves Out-of-Domain Robustness/run-i2vkae2s-validation_stabilityaiStableBeluga7b_random_0_tiiuaefalcon7binstruct_style_logs:v0\n"
     ]
    },
    {
     "name": "stderr",
     "output_type": "stream",
     "text": [
      "\u001b[34m\u001b[1mwandb\u001b[0m: Downloading large artifact run-i2vkae2s-validation_stabilityaiStableBeluga7b_random_0_tiiuaefalcon7binstruct_style_logs:v0, 227.34MB. 1 files... \n",
      "\u001b[34m\u001b[1mwandb\u001b[0m:   1 of 1 files downloaded.  \n",
      "Done. 0:0:0.6\n",
      " 89%|████████▉ | 134/150 [04:17<00:21,  1.35s/it]"
     ]
    },
    {
     "name": "stdout",
     "output_type": "stream",
     "text": [
      "Downloading AgNewsTweets_ID_Falcon_ICR --- healthyml/In-Context Domain Transfer Improves Out-of-Domain Robustness/run-i2vkae2s-validation_stabilityaiStableBeluga7b_random_16_tiiuaefalcon7binstruct_style_logs:v0\n"
     ]
    },
    {
     "name": "stderr",
     "output_type": "stream",
     "text": [
      "\u001b[34m\u001b[1mwandb\u001b[0m: Downloading large artifact run-i2vkae2s-validation_stabilityaiStableBeluga7b_random_16_tiiuaefalcon7binstruct_style_logs:v0, 242.26MB. 1 files... \n",
      "\u001b[34m\u001b[1mwandb\u001b[0m:   1 of 1 files downloaded.  \n",
      "Done. 0:0:0.6\n",
      " 90%|█████████ | 135/150 [04:18<00:20,  1.35s/it]"
     ]
    },
    {
     "name": "stdout",
     "output_type": "stream",
     "text": [
      "Downloading AgNewsTweets_Tweets_BERT_Insert --- healthyml/In-Context Domain Transfer Improves Out-of-Domain Robustness/run-xdipkawo-test_aug_insert_random_16_Kyle1668agnewsbertbaseuncased_style_logs:v0\n"
     ]
    },
    {
     "name": "stderr",
     "output_type": "stream",
     "text": [
      "\u001b[34m\u001b[1mwandb\u001b[0m: Downloading large artifact run-xdipkawo-test_aug_insert_random_16_Kyle1668agnewsbertbaseuncased_style_logs:v0, 235.02MB. 1 files... \n",
      "\u001b[34m\u001b[1mwandb\u001b[0m:   1 of 1 files downloaded.  \n",
      "Done. 0:0:2.9\n",
      " 91%|█████████ | 136/150 [04:22<00:28,  2.01s/it]"
     ]
    },
    {
     "name": "stdout",
     "output_type": "stream",
     "text": [
      "Downloading AgNewsTweets_Tweets_BERT_Substitute --- healthyml/In-Context Domain Transfer Improves Out-of-Domain Robustness/run-xdipkawo-test_aug_substitute_random_16_Kyle1668agnewsbertbaseuncased_style_logs:v0\n"
     ]
    },
    {
     "name": "stderr",
     "output_type": "stream",
     "text": [
      "\u001b[34m\u001b[1mwandb\u001b[0m: Downloading large artifact run-xdipkawo-test_aug_substitute_random_16_Kyle1668agnewsbertbaseuncased_style_logs:v0, 231.24MB. 1 files... \n",
      "\u001b[34m\u001b[1mwandb\u001b[0m:   1 of 1 files downloaded.  \n",
      "Done. 0:0:2.5\n",
      " 91%|█████████▏| 137/150 [04:25<00:30,  2.37s/it]"
     ]
    },
    {
     "name": "stdout",
     "output_type": "stream",
     "text": [
      "Downloading AgNewsTweets_Tweets_BERT_Translate --- healthyml/In-Context Domain Transfer Improves Out-of-Domain Robustness/run-xdipkawo-test_aug_backtranslate_random_16_Kyle1668agnewsbertbaseuncased_style_logs:v0\n"
     ]
    },
    {
     "name": "stderr",
     "output_type": "stream",
     "text": [
      "\u001b[34m\u001b[1mwandb\u001b[0m: Downloading large artifact run-xdipkawo-test_aug_backtranslate_random_16_Kyle1668agnewsbertbaseuncased_style_logs:v0, 230.75MB. 1 files... \n",
      "\u001b[34m\u001b[1mwandb\u001b[0m:   1 of 1 files downloaded.  \n",
      "Done. 0:0:2.8\n",
      " 92%|█████████▏| 138/150 [04:28<00:32,  2.69s/it]"
     ]
    },
    {
     "name": "stdout",
     "output_type": "stream",
     "text": [
      "Downloading AgNewsTweets_Tweets_BERT_Paraphrase --- healthyml/In-Context Domain Transfer Improves Out-of-Domain Robustness/run-xdipkawo-test_stabilityaiStableBeluga7b_random_0_Kyle1668agnewsbertbaseuncased_style_logs:v0\n"
     ]
    },
    {
     "name": "stderr",
     "output_type": "stream",
     "text": [
      "\u001b[34m\u001b[1mwandb\u001b[0m: Downloading large artifact run-xdipkawo-test_stabilityaiStableBeluga7b_random_0_Kyle1668agnewsbertbaseuncased_style_logs:v0, 234.41MB. 1 files... \n",
      "\u001b[34m\u001b[1mwandb\u001b[0m:   1 of 1 files downloaded.  \n",
      "Done. 0:0:2.7\n",
      " 93%|█████████▎| 139/150 [04:32<00:32,  2.94s/it]"
     ]
    },
    {
     "name": "stdout",
     "output_type": "stream",
     "text": [
      "Downloading AgNewsTweets_Tweets_BERT_ICR --- healthyml/In-Context Domain Transfer Improves Out-of-Domain Robustness/run-xdipkawo-test_stabilityaiStableBeluga7b_random_16_Kyle1668agnewsbertbaseuncased_style_logs:v0\n"
     ]
    },
    {
     "name": "stderr",
     "output_type": "stream",
     "text": [
      "\u001b[34m\u001b[1mwandb\u001b[0m: Downloading large artifact run-xdipkawo-test_stabilityaiStableBeluga7b_random_16_Kyle1668agnewsbertbaseuncased_style_logs:v0, 250.52MB. 1 files... \n",
      "\u001b[34m\u001b[1mwandb\u001b[0m:   1 of 1 files downloaded.  \n",
      "Done. 0:0:2.5\n",
      " 93%|█████████▎| 140/150 [04:35<00:30,  3.02s/it]"
     ]
    },
    {
     "name": "stdout",
     "output_type": "stream",
     "text": [
      "Downloading AgNewsTweets_Tweets_T5_Insert --- healthyml/In-Context Domain Transfer Improves Out-of-Domain Robustness/run-xdipkawo-test_aug_insert_random_16_Kyle1668agnewst5large_style_logs:v0\n"
     ]
    },
    {
     "name": "stderr",
     "output_type": "stream",
     "text": [
      "\u001b[34m\u001b[1mwandb\u001b[0m: Downloading large artifact run-xdipkawo-test_aug_insert_random_16_Kyle1668agnewst5large_style_logs:v0, 228.30MB. 1 files... \n",
      "\u001b[34m\u001b[1mwandb\u001b[0m:   1 of 1 files downloaded.  \n",
      "Done. 0:0:3.0\n",
      " 94%|█████████▍| 141/150 [04:39<00:28,  3.22s/it]"
     ]
    },
    {
     "name": "stdout",
     "output_type": "stream",
     "text": [
      "Downloading AgNewsTweets_Tweets_T5_Substitute --- healthyml/In-Context Domain Transfer Improves Out-of-Domain Robustness/run-xdipkawo-test_aug_substitute_random_16_Kyle1668agnewst5large_style_logs:v0\n"
     ]
    },
    {
     "name": "stderr",
     "output_type": "stream",
     "text": [
      "\u001b[34m\u001b[1mwandb\u001b[0m: Downloading large artifact run-xdipkawo-test_aug_substitute_random_16_Kyle1668agnewst5large_style_logs:v0, 224.52MB. 1 files... \n",
      "\u001b[34m\u001b[1mwandb\u001b[0m:   1 of 1 files downloaded.  \n",
      "Done. 0:0:3.1\n",
      " 95%|█████████▍| 142/150 [04:43<00:27,  3.42s/it]"
     ]
    },
    {
     "name": "stdout",
     "output_type": "stream",
     "text": [
      "Downloading AgNewsTweets_Tweets_T5_Translate --- healthyml/In-Context Domain Transfer Improves Out-of-Domain Robustness/run-xdipkawo-test_aug_backtranslate_random_16_Kyle1668agnewst5large_style_logs:v0\n"
     ]
    },
    {
     "name": "stderr",
     "output_type": "stream",
     "text": [
      "\u001b[34m\u001b[1mwandb\u001b[0m: Downloading large artifact run-xdipkawo-test_aug_backtranslate_random_16_Kyle1668agnewst5large_style_logs:v0, 224.03MB. 1 files... \n",
      "\u001b[34m\u001b[1mwandb\u001b[0m:   1 of 1 files downloaded.  \n",
      "Done. 0:0:3.3\n",
      " 95%|█████████▌| 143/150 [04:47<00:25,  3.61s/it]"
     ]
    },
    {
     "name": "stdout",
     "output_type": "stream",
     "text": [
      "Downloading AgNewsTweets_Tweets_T5_Paraphrase --- healthyml/In-Context Domain Transfer Improves Out-of-Domain Robustness/run-xdipkawo-test_stabilityaiStableBeluga7b_random_0_Kyle1668agnewst5large_style_logs:v0\n"
     ]
    },
    {
     "name": "stderr",
     "output_type": "stream",
     "text": [
      "\u001b[34m\u001b[1mwandb\u001b[0m: Downloading large artifact run-xdipkawo-test_stabilityaiStableBeluga7b_random_0_Kyle1668agnewst5large_style_logs:v0, 227.69MB. 1 files... \n",
      "\u001b[34m\u001b[1mwandb\u001b[0m:   1 of 1 files downloaded.  \n",
      "Done. 0:0:2.4\n",
      " 96%|█████████▌| 144/150 [04:50<00:21,  3.51s/it]"
     ]
    },
    {
     "name": "stdout",
     "output_type": "stream",
     "text": [
      "Downloading AgNewsTweets_Tweets_T5_ICR --- healthyml/In-Context Domain Transfer Improves Out-of-Domain Robustness/run-xdipkawo-test_stabilityaiStableBeluga7b_random_16_Kyle1668agnewst5large_style_logs:v0\n"
     ]
    },
    {
     "name": "stderr",
     "output_type": "stream",
     "text": [
      "\u001b[34m\u001b[1mwandb\u001b[0m: Downloading large artifact run-xdipkawo-test_stabilityaiStableBeluga7b_random_16_Kyle1668agnewst5large_style_logs:v0, 243.80MB. 1 files... \n",
      "\u001b[34m\u001b[1mwandb\u001b[0m:   1 of 1 files downloaded.  \n",
      "Done. 0:0:4.3\n",
      " 97%|█████████▋| 145/150 [04:55<00:19,  3.97s/it]"
     ]
    },
    {
     "name": "stdout",
     "output_type": "stream",
     "text": [
      "Downloading AgNewsTweets_Tweets_Falcon_Insert --- healthyml/In-Context Domain Transfer Improves Out-of-Domain Robustness/run-xdipkawo-test_aug_insert_random_16_tiiuaefalcon7binstruct_style_logs:v0\n"
     ]
    },
    {
     "name": "stderr",
     "output_type": "stream",
     "text": [
      "\u001b[34m\u001b[1mwandb\u001b[0m: Downloading large artifact run-xdipkawo-test_aug_insert_random_16_tiiuaefalcon7binstruct_style_logs:v0, 228.25MB. 1 files... \n",
      "\u001b[34m\u001b[1mwandb\u001b[0m:   1 of 1 files downloaded.  \n",
      "Done. 0:0:2.9\n",
      " 97%|█████████▋| 146/150 [04:59<00:15,  3.85s/it]"
     ]
    },
    {
     "name": "stdout",
     "output_type": "stream",
     "text": [
      "Downloading AgNewsTweets_Tweets_Falcon_Substitute --- healthyml/In-Context Domain Transfer Improves Out-of-Domain Robustness/run-xdipkawo-test_aug_substitute_random_16_tiiuaefalcon7binstruct_style_logs:v0\n"
     ]
    },
    {
     "name": "stderr",
     "output_type": "stream",
     "text": [
      "\u001b[34m\u001b[1mwandb\u001b[0m: Downloading large artifact run-xdipkawo-test_aug_substitute_random_16_tiiuaefalcon7binstruct_style_logs:v0, 224.47MB. 1 files... \n",
      "\u001b[34m\u001b[1mwandb\u001b[0m:   1 of 1 files downloaded.  \n",
      "Done. 0:0:3.0\n",
      " 98%|█████████▊| 147/150 [05:02<00:11,  3.81s/it]"
     ]
    },
    {
     "name": "stdout",
     "output_type": "stream",
     "text": [
      "Downloading AgNewsTweets_Tweets_Falcon_Translate --- healthyml/In-Context Domain Transfer Improves Out-of-Domain Robustness/run-xdipkawo-test_aug_backtranslate_random_16_tiiuaefalcon7binstruct_style_logs:v0\n"
     ]
    },
    {
     "name": "stderr",
     "output_type": "stream",
     "text": [
      "\u001b[34m\u001b[1mwandb\u001b[0m: Downloading large artifact run-xdipkawo-test_aug_backtranslate_random_16_tiiuaefalcon7binstruct_style_logs:v0, 224.00MB. 1 files... \n",
      "\u001b[34m\u001b[1mwandb\u001b[0m:   1 of 1 files downloaded.  \n",
      "Done. 0:0:2.6\n",
      " 99%|█████████▊| 148/150 [05:06<00:07,  3.69s/it]"
     ]
    },
    {
     "name": "stdout",
     "output_type": "stream",
     "text": [
      "Downloading AgNewsTweets_Tweets_Falcon_Paraphrase --- healthyml/In-Context Domain Transfer Improves Out-of-Domain Robustness/run-xdipkawo-test_stabilityaiStableBeluga7b_random_0_tiiuaefalcon7binstruct_style_logs:v0\n"
     ]
    },
    {
     "name": "stderr",
     "output_type": "stream",
     "text": [
      "\u001b[34m\u001b[1mwandb\u001b[0m: Downloading large artifact run-xdipkawo-test_stabilityaiStableBeluga7b_random_0_tiiuaefalcon7binstruct_style_logs:v0, 227.67MB. 1 files... \n",
      "\u001b[34m\u001b[1mwandb\u001b[0m:   1 of 1 files downloaded.  \n",
      "Done. 0:0:2.9\n",
      "100%|██████████| 150/150 [05:09<00:00,  2.07s/it]"
     ]
    },
    {
     "name": "stdout",
     "output_type": "stream",
     "text": [
      "\n",
      "Missing tables: ['BOSS_Sentiment_ID_BERT_Substitute', 'BOSS_Sentiment_ID_BERT_Translate', 'BOSS_Sentiment_ID_BERT_Paraphrase', 'BOSS_Sentiment_ID_T5_Paraphrase', 'BOSS_Sentiment_ID_T5_ICR', 'BOSS_Sentiment_ID_Falcon_Paraphrase', 'BOSS_Sentiment_ID_Falcon_ICR', 'BOSS_Toxicity_ID_BERT_Insert', 'BOSS_Toxicity_ID_BERT_Substitute', 'BOSS_Toxicity_ID_BERT_Translate', 'BOSS_Toxicity_ID_BERT_Paraphrase', 'BOSS_Toxicity_ID_T5_Insert', 'BOSS_Toxicity_ID_T5_Substitute', 'BOSS_Toxicity_ID_T5_Translate', 'BOSS_Toxicity_ID_T5_Paraphrase', 'BOSS_Toxicity_ID_T5_ICR', 'BOSS_Toxicity_ID_Falcon_Substitute', 'BOSS_Toxicity_ID_Falcon_Translate', 'BOSS_Toxicity_ID_Falcon_Paraphrase', 'BOSS_Toxicity_ID_Falcon_ICR', 'BOSS_Toxicity_ImplicitHate_Falcon_Paraphrase', 'BOSS_Toxicity_ImplicitHate_Falcon_ICR', 'AgNewsTweets_Tweets_Falcon_ICR']\n",
      "{\n",
      "    \"BOSS_Sentiment_ID_BERT_Insert\": \"data/BOSS_Sentiment_ID_BERT_Insert/validation_aug_insert_random_16_Kyle1668/boss-sentiment-bert-base-uncased_style_logs.table.json\",\n",
      "    \"BOSS_Sentiment_ID_BERT_ICR\": \"data/BOSS_Sentiment_ID_BERT_ICR/validation_stabilityai/StableBeluga-7b_random_16_Kyle1668/boss-sentiment-bert-base-uncased_style_logs.table.json\",\n",
      "    \"BOSS_Sentiment_ID_T5_Insert\": \"data/BOSS_Sentiment_ID_T5_Insert/validation_aug_insert_random_16_Kyle1668/boss-sentiment-t5-large_style_logs.table.json\",\n",
      "    \"BOSS_Sentiment_ID_T5_Substitute\": \"data/BOSS_Sentiment_ID_T5_Substitute/validation_aug_substitute_random_16_Kyle1668/boss-sentiment-t5-large_style_logs.table.json\",\n",
      "    \"BOSS_Sentiment_ID_T5_Translate\": \"data/BOSS_Sentiment_ID_T5_Translate/validation_aug_back-translate_random_16_Kyle1668/boss-sentiment-t5-large_style_logs.table.json\",\n",
      "    \"BOSS_Sentiment_ID_Falcon_Insert\": \"data/BOSS_Sentiment_ID_Falcon_Insert/validation_aug_insert_random_16_tiiuae/falcon-7b-instruct_style_logs.table.json\",\n",
      "    \"BOSS_Sentiment_ID_Falcon_Substitute\": \"data/BOSS_Sentiment_ID_Falcon_Substitute/validation_aug_substitute_random_16_tiiuae/falcon-7b-instruct_style_logs.table.json\",\n",
      "    \"BOSS_Sentiment_ID_Falcon_Translate\": \"data/BOSS_Sentiment_ID_Falcon_Translate/validation_aug_back-translate_random_16_tiiuae/falcon-7b-instruct_style_logs.table.json\",\n",
      "    \"BOSS_Sentiment_SST5_BERT_Insert\": \"data/BOSS_Sentiment_SST5_BERT_Insert/sst5_aug_insert_random_16_Kyle1668/boss-sentiment-bert-base-uncased_style_logs.table.json\",\n",
      "    \"BOSS_Sentiment_SST5_BERT_Substitute\": \"data/BOSS_Sentiment_SST5_BERT_Substitute/sst5_aug_substitute_random_16_Kyle1668/boss-sentiment-bert-base-uncased_style_logs.table.json\",\n",
      "    \"BOSS_Sentiment_SST5_BERT_Translate\": \"data/BOSS_Sentiment_SST5_BERT_Translate/sst5_aug_back-translate_random_16_Kyle1668/boss-sentiment-bert-base-uncased_style_logs.table.json\",\n",
      "    \"BOSS_Sentiment_SST5_BERT_Paraphrase\": \"data/BOSS_Sentiment_SST5_BERT_Paraphrase/sst5_stabilityai/StableBeluga-7b_random_0_Kyle1668/boss-sentiment-bert-base-uncased_style_logs.table.json\",\n",
      "    \"BOSS_Sentiment_SST5_BERT_ICR\": \"data/BOSS_Sentiment_SST5_BERT_ICR/sst5_stabilityai/StableBeluga-7b_random_16_Kyle1668/boss-sentiment-bert-base-uncased_style_logs.table.json\",\n",
      "    \"BOSS_Sentiment_SST5_T5_Insert\": \"data/BOSS_Sentiment_SST5_T5_Insert/sst5_aug_insert_random_16_Kyle1668/boss-sentiment-t5-large_style_logs.table.json\",\n",
      "    \"BOSS_Sentiment_SST5_T5_Substitute\": \"data/BOSS_Sentiment_SST5_T5_Substitute/sst5_aug_substitute_random_16_Kyle1668/boss-sentiment-t5-large_style_logs.table.json\",\n",
      "    \"BOSS_Sentiment_SST5_T5_Translate\": \"data/BOSS_Sentiment_SST5_T5_Translate/sst5_aug_back-translate_random_16_Kyle1668/boss-sentiment-t5-large_style_logs.table.json\",\n",
      "    \"BOSS_Sentiment_SST5_T5_Paraphrase\": \"data/BOSS_Sentiment_SST5_T5_Paraphrase/sst5_stabilityai/StableBeluga-7b_random_0_Kyle1668/boss-sentiment-t5-large_style_logs.table.json\",\n",
      "    \"BOSS_Sentiment_SST5_T5_ICR\": \"data/BOSS_Sentiment_SST5_T5_ICR/sst5_stabilityai/StableBeluga-7b_random_16_Kyle1668/boss-sentiment-t5-large_style_logs.table.json\",\n",
      "    \"BOSS_Sentiment_SST5_Falcon_Insert\": \"data/BOSS_Sentiment_SST5_Falcon_Insert/sst5_aug_insert_random_16_tiiuae/falcon-7b-instruct_style_logs.table.json\",\n",
      "    \"BOSS_Sentiment_SST5_Falcon_Substitute\": \"data/BOSS_Sentiment_SST5_Falcon_Substitute/sst5_aug_substitute_random_16_tiiuae/falcon-7b-instruct_style_logs.table.json\",\n",
      "    \"BOSS_Sentiment_SST5_Falcon_Translate\": \"data/BOSS_Sentiment_SST5_Falcon_Translate/sst5_aug_back-translate_random_16_tiiuae/falcon-7b-instruct_style_logs.table.json\",\n",
      "    \"BOSS_Sentiment_SST5_Falcon_Paraphrase\": \"data/BOSS_Sentiment_SST5_Falcon_Paraphrase/sst5_stabilityai/StableBeluga-7b_random_0_tiiuae/falcon-7b-instruct_style_logs.table.json\",\n",
      "    \"BOSS_Sentiment_SST5_Falcon_ICR\": \"data/BOSS_Sentiment_SST5_Falcon_ICR/sst5_stabilityai/StableBeluga-7b_random_16_tiiuae/falcon-7b-instruct_style_logs.table.json\",\n",
      "    \"BOSS_Sentiment_SemEval_BERT_Insert\": \"data/BOSS_Sentiment_SemEval_BERT_Insert/semval_aug_insert_random_16_Kyle1668/boss-sentiment-bert-base-uncased_style_logs.table.json\",\n",
      "    \"BOSS_Sentiment_SemEval_BERT_Substitute\": \"data/BOSS_Sentiment_SemEval_BERT_Substitute/semval_aug_substitute_random_16_Kyle1668/boss-sentiment-bert-base-uncased_style_logs.table.json\",\n",
      "    \"BOSS_Sentiment_SemEval_BERT_Translate\": \"data/BOSS_Sentiment_SemEval_BERT_Translate/semval_aug_back-translate_random_16_Kyle1668/boss-sentiment-bert-base-uncased_style_logs.table.json\",\n",
      "    \"BOSS_Sentiment_SemEval_BERT_Paraphrase\": \"data/BOSS_Sentiment_SemEval_BERT_Paraphrase/semval_stabilityai/StableBeluga-7b_random_0_Kyle1668/boss-sentiment-bert-base-uncased_style_logs.table.json\",\n",
      "    \"BOSS_Sentiment_SemEval_BERT_ICR\": \"data/BOSS_Sentiment_SemEval_BERT_ICR/semval_stabilityai/StableBeluga-7b_random_16_Kyle1668/boss-sentiment-bert-base-uncased_style_logs.table.json\",\n",
      "    \"BOSS_Sentiment_SemEval_T5_Insert\": \"data/BOSS_Sentiment_SemEval_T5_Insert/semval_aug_insert_random_16_Kyle1668/boss-sentiment-t5-large_style_logs.table.json\",\n",
      "    \"BOSS_Sentiment_SemEval_T5_Substitute\": \"data/BOSS_Sentiment_SemEval_T5_Substitute/semval_aug_substitute_random_16_Kyle1668/boss-sentiment-t5-large_style_logs.table.json\",\n",
      "    \"BOSS_Sentiment_SemEval_T5_Translate\": \"data/BOSS_Sentiment_SemEval_T5_Translate/semval_aug_back-translate_random_16_Kyle1668/boss-sentiment-t5-large_style_logs.table.json\",\n",
      "    \"BOSS_Sentiment_SemEval_T5_Paraphrase\": \"data/BOSS_Sentiment_SemEval_T5_Paraphrase/semval_stabilityai/StableBeluga-7b_random_0_Kyle1668/boss-sentiment-t5-large_style_logs.table.json\",\n",
      "    \"BOSS_Sentiment_SemEval_T5_ICR\": \"data/BOSS_Sentiment_SemEval_T5_ICR/semval_stabilityai/StableBeluga-7b_random_16_Kyle1668/boss-sentiment-t5-large_style_logs.table.json\",\n",
      "    \"BOSS_Sentiment_SemEval_Falcon_Insert\": \"data/BOSS_Sentiment_SemEval_Falcon_Insert/semval_aug_insert_random_16_tiiuae/falcon-7b-instruct_style_logs.table.json\",\n",
      "    \"BOSS_Sentiment_SemEval_Falcon_Substitute\": \"data/BOSS_Sentiment_SemEval_Falcon_Substitute/semval_aug_substitute_random_16_tiiuae/falcon-7b-instruct_style_logs.table.json\",\n",
      "    \"BOSS_Sentiment_SemEval_Falcon_Translate\": \"data/BOSS_Sentiment_SemEval_Falcon_Translate/semval_aug_back-translate_random_16_tiiuae/falcon-7b-instruct_style_logs.table.json\",\n",
      "    \"BOSS_Sentiment_SemEval_Falcon_Paraphrase\": \"data/BOSS_Sentiment_SemEval_Falcon_Paraphrase/semval_stabilityai/StableBeluga-7b_random_0_tiiuae/falcon-7b-instruct_style_logs.table.json\",\n",
      "    \"BOSS_Sentiment_SemEval_Falcon_ICR\": \"data/BOSS_Sentiment_SemEval_Falcon_ICR/semval_stabilityai/StableBeluga-7b_random_16_tiiuae/falcon-7b-instruct_style_logs.table.json\",\n",
      "    \"BOSS_Sentiment_Dynasent_BERT_Insert\": \"data/BOSS_Sentiment_Dynasent_BERT_Insert/dynasent_aug_insert_random_16_Kyle1668/boss-sentiment-bert-base-uncased_style_logs.table.json\",\n",
      "    \"BOSS_Sentiment_Dynasent_BERT_Substitute\": \"data/BOSS_Sentiment_Dynasent_BERT_Substitute/dynasent_aug_substitute_random_16_Kyle1668/boss-sentiment-bert-base-uncased_style_logs.table.json\",\n",
      "    \"BOSS_Sentiment_Dynasent_BERT_Translate\": \"data/BOSS_Sentiment_Dynasent_BERT_Translate/dynasent_aug_back-translate_random_16_Kyle1668/boss-sentiment-bert-base-uncased_style_logs.table.json\",\n",
      "    \"BOSS_Sentiment_Dynasent_BERT_Paraphrase\": \"data/BOSS_Sentiment_Dynasent_BERT_Paraphrase/dynasent_stabilityai/StableBeluga-7b_random_0_Kyle1668/boss-sentiment-bert-base-uncased_style_logs.table.json\",\n",
      "    \"BOSS_Sentiment_Dynasent_BERT_ICR\": \"data/BOSS_Sentiment_Dynasent_BERT_ICR/dynasent_stabilityai/StableBeluga-7b_random_16_Kyle1668/boss-sentiment-bert-base-uncased_style_logs.table.json\",\n",
      "    \"BOSS_Sentiment_Dynasent_T5_Insert\": \"data/BOSS_Sentiment_Dynasent_T5_Insert/dynasent_aug_insert_random_16_Kyle1668/boss-sentiment-t5-large_style_logs.table.json\",\n",
      "    \"BOSS_Sentiment_Dynasent_T5_Substitute\": \"data/BOSS_Sentiment_Dynasent_T5_Substitute/dynasent_aug_substitute_random_16_Kyle1668/boss-sentiment-t5-large_style_logs.table.json\",\n",
      "    \"BOSS_Sentiment_Dynasent_T5_Translate\": \"data/BOSS_Sentiment_Dynasent_T5_Translate/dynasent_aug_back-translate_random_16_Kyle1668/boss-sentiment-t5-large_style_logs.table.json\",\n",
      "    \"BOSS_Sentiment_Dynasent_T5_Paraphrase\": \"data/BOSS_Sentiment_Dynasent_T5_Paraphrase/dynasent_stabilityai/StableBeluga-7b_random_0_Kyle1668/boss-sentiment-t5-large_style_logs.table.json\",\n",
      "    \"BOSS_Sentiment_Dynasent_T5_ICR\": \"data/BOSS_Sentiment_Dynasent_T5_ICR/dynasent_stabilityai/StableBeluga-7b_random_16_Kyle1668/boss-sentiment-t5-large_style_logs.table.json\",\n",
      "    \"BOSS_Sentiment_Dynasent_Falcon_Insert\": \"data/BOSS_Sentiment_Dynasent_Falcon_Insert/dynasent_aug_insert_random_16_tiiuae/falcon-7b-instruct_style_logs.table.json\",\n",
      "    \"BOSS_Sentiment_Dynasent_Falcon_Substitute\": \"data/BOSS_Sentiment_Dynasent_Falcon_Substitute/dynasent_aug_substitute_random_16_tiiuae/falcon-7b-instruct_style_logs.table.json\",\n",
      "    \"BOSS_Sentiment_Dynasent_Falcon_Translate\": \"data/BOSS_Sentiment_Dynasent_Falcon_Translate/dynasent_aug_back-translate_random_16_tiiuae/falcon-7b-instruct_style_logs.table.json\",\n",
      "    \"BOSS_Sentiment_Dynasent_Falcon_Paraphrase\": \"data/BOSS_Sentiment_Dynasent_Falcon_Paraphrase/dynasent_stabilityai/StableBeluga-7b_random_0_tiiuae/falcon-7b-instruct_style_logs.table.json\",\n",
      "    \"BOSS_Sentiment_Dynasent_Falcon_ICR\": \"data/BOSS_Sentiment_Dynasent_Falcon_ICR/dynasent_stabilityai/StableBeluga-7b_random_16_tiiuae/falcon-7b-instruct_style_logs.table.json\",\n",
      "    \"BOSS_Toxicity_ID_BERT_ICR\": \"data/BOSS_Toxicity_ID_BERT_ICR/validation_stabilityai/StableBeluga-7b_random_16_Kyle1668/boss-toxicity-bert-base-uncased_style_logs.table.json\",\n",
      "    \"BOSS_Toxicity_ID_Falcon_Insert\": \"data/BOSS_Toxicity_ID_Falcon_Insert/validation_aug_insert_random_16_tiiuae/falcon-7b-instruct_style_logs.table.json\",\n",
      "    \"BOSS_Toxicity_Toxigen_BERT_Insert\": \"data/BOSS_Toxicity_Toxigen_BERT_Insert/toxigen_aug_insert_random_16_Kyle1668/boss-toxicity-bert-base-uncased_style_logs.table.json\",\n",
      "    \"BOSS_Toxicity_Toxigen_BERT_Substitute\": \"data/BOSS_Toxicity_Toxigen_BERT_Substitute/toxigen_aug_substitute_random_16_Kyle1668/boss-toxicity-bert-base-uncased_style_logs.table.json\",\n",
      "    \"BOSS_Toxicity_Toxigen_BERT_Translate\": \"data/BOSS_Toxicity_Toxigen_BERT_Translate/toxigen_aug_back-translate_random_16_Kyle1668/boss-toxicity-bert-base-uncased_style_logs.table.json\",\n",
      "    \"BOSS_Toxicity_Toxigen_BERT_Paraphrase\": \"data/BOSS_Toxicity_Toxigen_BERT_Paraphrase/toxigen_stabilityai/StableBeluga-7b_random_0_Kyle1668/boss-toxicity-bert-base-uncased_style_logs.table.json\",\n",
      "    \"BOSS_Toxicity_Toxigen_BERT_ICR\": \"data/BOSS_Toxicity_Toxigen_BERT_ICR/toxigen_stabilityai/StableBeluga-7b_random_16_Kyle1668/boss-toxicity-bert-base-uncased_style_logs.table.json\",\n",
      "    \"BOSS_Toxicity_Toxigen_T5_Insert\": \"data/BOSS_Toxicity_Toxigen_T5_Insert/toxigen_aug_insert_random_16_Kyle1668/boss-toxicity-t5-large_style_logs.table.json\",\n",
      "    \"BOSS_Toxicity_Toxigen_T5_Substitute\": \"data/BOSS_Toxicity_Toxigen_T5_Substitute/toxigen_aug_substitute_random_16_Kyle1668/boss-toxicity-t5-large_style_logs.table.json\",\n",
      "    \"BOSS_Toxicity_Toxigen_T5_Translate\": \"data/BOSS_Toxicity_Toxigen_T5_Translate/toxigen_aug_back-translate_random_16_Kyle1668/boss-toxicity-t5-large_style_logs.table.json\",\n",
      "    \"BOSS_Toxicity_Toxigen_T5_Paraphrase\": \"data/BOSS_Toxicity_Toxigen_T5_Paraphrase/toxigen_stabilityai/StableBeluga-7b_random_0_Kyle1668/boss-toxicity-t5-large_style_logs.table.json\",\n",
      "    \"BOSS_Toxicity_Toxigen_T5_ICR\": \"data/BOSS_Toxicity_Toxigen_T5_ICR/toxigen_stabilityai/StableBeluga-7b_random_16_Kyle1668/boss-toxicity-t5-large_style_logs.table.json\",\n",
      "    \"BOSS_Toxicity_Toxigen_Falcon_Insert\": \"data/BOSS_Toxicity_Toxigen_Falcon_Insert/toxigen_aug_insert_random_16_tiiuae/falcon-7b-instruct_style_logs.table.json\",\n",
      "    \"BOSS_Toxicity_Toxigen_Falcon_Substitute\": \"data/BOSS_Toxicity_Toxigen_Falcon_Substitute/toxigen_aug_substitute_random_16_tiiuae/falcon-7b-instruct_style_logs.table.json\",\n",
      "    \"BOSS_Toxicity_Toxigen_Falcon_Translate\": \"data/BOSS_Toxicity_Toxigen_Falcon_Translate/toxigen_aug_back-translate_random_16_tiiuae/falcon-7b-instruct_style_logs.table.json\",\n",
      "    \"BOSS_Toxicity_Toxigen_Falcon_Paraphrase\": \"data/BOSS_Toxicity_Toxigen_Falcon_Paraphrase/toxigen_stabilityai/StableBeluga-7b_random_0_tiiuae/falcon-7b-instruct_style_logs.table.json\",\n",
      "    \"BOSS_Toxicity_Toxigen_Falcon_ICR\": \"data/BOSS_Toxicity_Toxigen_Falcon_ICR/toxigen_stabilityai/StableBeluga-7b_random_16_tiiuae/falcon-7b-instruct_style_logs.table.json\",\n",
      "    \"BOSS_Toxicity_ImplicitHate_BERT_Insert\": \"data/BOSS_Toxicity_ImplicitHate_BERT_Insert/implicit_hate_aug_insert_random_16_Kyle1668/boss-toxicity-bert-base-uncased_style_logs.table.json\",\n",
      "    \"BOSS_Toxicity_ImplicitHate_BERT_Substitute\": \"data/BOSS_Toxicity_ImplicitHate_BERT_Substitute/implicit_hate_aug_substitute_random_16_Kyle1668/boss-toxicity-bert-base-uncased_style_logs.table.json\",\n",
      "    \"BOSS_Toxicity_ImplicitHate_BERT_Translate\": \"data/BOSS_Toxicity_ImplicitHate_BERT_Translate/implicit_hate_aug_back-translate_random_16_Kyle1668/boss-toxicity-bert-base-uncased_style_logs.table.json\",\n",
      "    \"BOSS_Toxicity_ImplicitHate_BERT_Paraphrase\": \"data/BOSS_Toxicity_ImplicitHate_BERT_Paraphrase/implicit_hate_stabilityai/StableBeluga-7b_random_0_Kyle1668/boss-toxicity-bert-base-uncased_style_logs.table.json\",\n",
      "    \"BOSS_Toxicity_ImplicitHate_BERT_ICR\": \"data/BOSS_Toxicity_ImplicitHate_BERT_ICR/implicit_hate_stabilityai/StableBeluga-7b_random_16_Kyle1668/boss-toxicity-bert-base-uncased_style_logs.table.json\",\n",
      "    \"BOSS_Toxicity_ImplicitHate_T5_Insert\": \"data/BOSS_Toxicity_ImplicitHate_T5_Insert/implicit_hate_aug_insert_random_16_Kyle1668/boss-toxicity-t5-large_style_logs.table.json\",\n",
      "    \"BOSS_Toxicity_ImplicitHate_T5_Substitute\": \"data/BOSS_Toxicity_ImplicitHate_T5_Substitute/implicit_hate_aug_substitute_random_16_Kyle1668/boss-toxicity-t5-large_style_logs.table.json\",\n",
      "    \"BOSS_Toxicity_ImplicitHate_T5_Translate\": \"data/BOSS_Toxicity_ImplicitHate_T5_Translate/implicit_hate_aug_back-translate_random_16_Kyle1668/boss-toxicity-t5-large_style_logs.table.json\",\n",
      "    \"BOSS_Toxicity_ImplicitHate_T5_Paraphrase\": \"data/BOSS_Toxicity_ImplicitHate_T5_Paraphrase/implicit_hate_stabilityai/StableBeluga-7b_random_0_Kyle1668/boss-toxicity-t5-large_style_logs.table.json\",\n",
      "    \"BOSS_Toxicity_ImplicitHate_T5_ICR\": \"data/BOSS_Toxicity_ImplicitHate_T5_ICR/implicit_hate_stabilityai/StableBeluga-7b_random_16_Kyle1668/boss-toxicity-t5-large_style_logs.table.json\",\n",
      "    \"BOSS_Toxicity_ImplicitHate_Falcon_Insert\": \"data/BOSS_Toxicity_ImplicitHate_Falcon_Insert/implicit_hate_aug_insert_random_16_tiiuae/falcon-7b-instruct_style_logs.table.json\",\n",
      "    \"BOSS_Toxicity_ImplicitHate_Falcon_Substitute\": \"data/BOSS_Toxicity_ImplicitHate_Falcon_Substitute/implicit_hate_aug_substitute_random_16_tiiuae/falcon-7b-instruct_style_logs.table.json\",\n",
      "    \"BOSS_Toxicity_ImplicitHate_Falcon_Translate\": \"data/BOSS_Toxicity_ImplicitHate_Falcon_Translate/implicit_hate_aug_back-translate_random_16_tiiuae/falcon-7b-instruct_style_logs.table.json\",\n",
      "    \"BOSS_Toxicity_AdvCivil_BERT_Insert\": \"data/BOSS_Toxicity_AdvCivil_BERT_Insert/adv_civil_aug_insert_random_16_Kyle1668/boss-toxicity-bert-base-uncased_style_logs.table.json\",\n",
      "    \"BOSS_Toxicity_AdvCivil_BERT_Substitute\": \"data/BOSS_Toxicity_AdvCivil_BERT_Substitute/adv_civil_aug_substitute_random_16_Kyle1668/boss-toxicity-bert-base-uncased_style_logs.table.json\",\n",
      "    \"BOSS_Toxicity_AdvCivil_BERT_Translate\": \"data/BOSS_Toxicity_AdvCivil_BERT_Translate/adv_civil_aug_back-translate_random_16_Kyle1668/boss-toxicity-bert-base-uncased_style_logs.table.json\",\n",
      "    \"BOSS_Toxicity_AdvCivil_BERT_Paraphrase\": \"data/BOSS_Toxicity_AdvCivil_BERT_Paraphrase/adv_civil_stabilityai/StableBeluga-7b_random_0_Kyle1668/boss-toxicity-bert-base-uncased_style_logs.table.json\",\n",
      "    \"BOSS_Toxicity_AdvCivil_BERT_ICR\": \"data/BOSS_Toxicity_AdvCivil_BERT_ICR/adv_civil_stabilityai/StableBeluga-7b_random_16_Kyle1668/boss-toxicity-bert-base-uncased_style_logs.table.json\",\n",
      "    \"BOSS_Toxicity_AdvCivil_T5_Insert\": \"data/BOSS_Toxicity_AdvCivil_T5_Insert/adv_civil_aug_insert_random_16_Kyle1668/boss-toxicity-t5-large_style_logs.table.json\",\n",
      "    \"BOSS_Toxicity_AdvCivil_T5_Substitute\": \"data/BOSS_Toxicity_AdvCivil_T5_Substitute/adv_civil_aug_substitute_random_16_Kyle1668/boss-toxicity-t5-large_style_logs.table.json\",\n",
      "    \"BOSS_Toxicity_AdvCivil_T5_Translate\": \"data/BOSS_Toxicity_AdvCivil_T5_Translate/adv_civil_aug_back-translate_random_16_Kyle1668/boss-toxicity-t5-large_style_logs.table.json\",\n",
      "    \"BOSS_Toxicity_AdvCivil_T5_Paraphrase\": \"data/BOSS_Toxicity_AdvCivil_T5_Paraphrase/adv_civil_stabilityai/StableBeluga-7b_random_0_Kyle1668/boss-toxicity-t5-large_style_logs.table.json\",\n",
      "    \"BOSS_Toxicity_AdvCivil_T5_ICR\": \"data/BOSS_Toxicity_AdvCivil_T5_ICR/adv_civil_stabilityai/StableBeluga-7b_random_16_Kyle1668/boss-toxicity-t5-large_style_logs.table.json\",\n",
      "    \"BOSS_Toxicity_AdvCivil_Falcon_Insert\": \"data/BOSS_Toxicity_AdvCivil_Falcon_Insert/adv_civil_aug_insert_random_16_tiiuae/falcon-7b-instruct_style_logs.table.json\",\n",
      "    \"BOSS_Toxicity_AdvCivil_Falcon_Substitute\": \"data/BOSS_Toxicity_AdvCivil_Falcon_Substitute/adv_civil_aug_substitute_random_16_tiiuae/falcon-7b-instruct_style_logs.table.json\",\n",
      "    \"BOSS_Toxicity_AdvCivil_Falcon_Translate\": \"data/BOSS_Toxicity_AdvCivil_Falcon_Translate/adv_civil_aug_back-translate_random_16_tiiuae/falcon-7b-instruct_style_logs.table.json\",\n",
      "    \"BOSS_Toxicity_AdvCivil_Falcon_Paraphrase\": \"data/BOSS_Toxicity_AdvCivil_Falcon_Paraphrase/adv_civil_stabilityai/StableBeluga-7b_random_0_tiiuae/falcon-7b-instruct_style_logs.table.json\",\n",
      "    \"BOSS_Toxicity_AdvCivil_Falcon_ICR\": \"data/BOSS_Toxicity_AdvCivil_Falcon_ICR/adv_civil_stabilityai/StableBeluga-7b_random_16_tiiuae/falcon-7b-instruct_style_logs.table.json\",\n",
      "    \"AgNewsTweets_ID_BERT_Insert\": \"data/AgNewsTweets_ID_BERT_Insert/validation_aug_insert_random_16_Kyle1668/ag-news-bert-base-uncased_style_logs.table.json\",\n",
      "    \"AgNewsTweets_ID_BERT_Substitute\": \"data/AgNewsTweets_ID_BERT_Substitute/validation_aug_substitute_random_16_Kyle1668/ag-news-bert-base-uncased_style_logs.table.json\",\n",
      "    \"AgNewsTweets_ID_BERT_Translate\": \"data/AgNewsTweets_ID_BERT_Translate/validation_aug_back-translate_random_16_Kyle1668/ag-news-bert-base-uncased_style_logs.table.json\",\n",
      "    \"AgNewsTweets_ID_BERT_Paraphrase\": \"data/AgNewsTweets_ID_BERT_Paraphrase/validation_stabilityai/StableBeluga-7b_random_0_Kyle1668/ag-news-bert-base-uncased_style_logs.table.json\",\n",
      "    \"AgNewsTweets_ID_BERT_ICR\": \"data/AgNewsTweets_ID_BERT_ICR/validation_stabilityai/StableBeluga-7b_random_16_Kyle1668/ag-news-bert-base-uncased_style_logs.table.json\",\n",
      "    \"AgNewsTweets_ID_T5_Insert\": \"data/AgNewsTweets_ID_T5_Insert/validation_aug_insert_random_16_Kyle1668/ag-news-t5-large_style_logs.table.json\",\n",
      "    \"AgNewsTweets_ID_T5_Substitute\": \"data/AgNewsTweets_ID_T5_Substitute/validation_aug_substitute_random_16_Kyle1668/ag-news-t5-large_style_logs.table.json\",\n",
      "    \"AgNewsTweets_ID_T5_Translate\": \"data/AgNewsTweets_ID_T5_Translate/validation_aug_back-translate_random_16_Kyle1668/ag-news-t5-large_style_logs.table.json\",\n",
      "    \"AgNewsTweets_ID_T5_Paraphrase\": \"data/AgNewsTweets_ID_T5_Paraphrase/validation_stabilityai/StableBeluga-7b_random_0_Kyle1668/ag-news-t5-large_style_logs.table.json\",\n",
      "    \"AgNewsTweets_ID_T5_ICR\": \"data/AgNewsTweets_ID_T5_ICR/validation_stabilityai/StableBeluga-7b_random_16_Kyle1668/ag-news-t5-large_style_logs.table.json\",\n",
      "    \"AgNewsTweets_ID_Falcon_Insert\": \"data/AgNewsTweets_ID_Falcon_Insert/validation_aug_insert_random_16_tiiuae/falcon-7b-instruct_style_logs.table.json\",\n",
      "    \"AgNewsTweets_ID_Falcon_Substitute\": \"data/AgNewsTweets_ID_Falcon_Substitute/validation_aug_substitute_random_16_tiiuae/falcon-7b-instruct_style_logs.table.json\",\n",
      "    \"AgNewsTweets_ID_Falcon_Translate\": \"data/AgNewsTweets_ID_Falcon_Translate/validation_aug_back-translate_random_16_tiiuae/falcon-7b-instruct_style_logs.table.json\",\n",
      "    \"AgNewsTweets_ID_Falcon_Paraphrase\": \"data/AgNewsTweets_ID_Falcon_Paraphrase/validation_stabilityai/StableBeluga-7b_random_0_tiiuae/falcon-7b-instruct_style_logs.table.json\",\n",
      "    \"AgNewsTweets_ID_Falcon_ICR\": \"data/AgNewsTweets_ID_Falcon_ICR/validation_stabilityai/StableBeluga-7b_random_16_tiiuae/falcon-7b-instruct_style_logs.table.json\",\n",
      "    \"AgNewsTweets_Tweets_BERT_Insert\": \"data/AgNewsTweets_Tweets_BERT_Insert/test_aug_insert_random_16_Kyle1668/ag-news-bert-base-uncased_style_logs.table.json\",\n",
      "    \"AgNewsTweets_Tweets_BERT_Substitute\": \"data/AgNewsTweets_Tweets_BERT_Substitute/test_aug_substitute_random_16_Kyle1668/ag-news-bert-base-uncased_style_logs.table.json\",\n",
      "    \"AgNewsTweets_Tweets_BERT_Translate\": \"data/AgNewsTweets_Tweets_BERT_Translate/test_aug_back-translate_random_16_Kyle1668/ag-news-bert-base-uncased_style_logs.table.json\",\n",
      "    \"AgNewsTweets_Tweets_BERT_Paraphrase\": \"data/AgNewsTweets_Tweets_BERT_Paraphrase/test_stabilityai/StableBeluga-7b_random_0_Kyle1668/ag-news-bert-base-uncased_style_logs.table.json\",\n",
      "    \"AgNewsTweets_Tweets_BERT_ICR\": \"data/AgNewsTweets_Tweets_BERT_ICR/test_stabilityai/StableBeluga-7b_random_16_Kyle1668/ag-news-bert-base-uncased_style_logs.table.json\",\n",
      "    \"AgNewsTweets_Tweets_T5_Insert\": \"data/AgNewsTweets_Tweets_T5_Insert/test_aug_insert_random_16_Kyle1668/ag-news-t5-large_style_logs.table.json\",\n",
      "    \"AgNewsTweets_Tweets_T5_Substitute\": \"data/AgNewsTweets_Tweets_T5_Substitute/test_aug_substitute_random_16_Kyle1668/ag-news-t5-large_style_logs.table.json\",\n",
      "    \"AgNewsTweets_Tweets_T5_Translate\": \"data/AgNewsTweets_Tweets_T5_Translate/test_aug_back-translate_random_16_Kyle1668/ag-news-t5-large_style_logs.table.json\",\n",
      "    \"AgNewsTweets_Tweets_T5_Paraphrase\": \"data/AgNewsTweets_Tweets_T5_Paraphrase/test_stabilityai/StableBeluga-7b_random_0_Kyle1668/ag-news-t5-large_style_logs.table.json\",\n",
      "    \"AgNewsTweets_Tweets_T5_ICR\": \"data/AgNewsTweets_Tweets_T5_ICR/test_stabilityai/StableBeluga-7b_random_16_Kyle1668/ag-news-t5-large_style_logs.table.json\",\n",
      "    \"AgNewsTweets_Tweets_Falcon_Insert\": \"data/AgNewsTweets_Tweets_Falcon_Insert/test_aug_insert_random_16_tiiuae/falcon-7b-instruct_style_logs.table.json\",\n",
      "    \"AgNewsTweets_Tweets_Falcon_Substitute\": \"data/AgNewsTweets_Tweets_Falcon_Substitute/test_aug_substitute_random_16_tiiuae/falcon-7b-instruct_style_logs.table.json\",\n",
      "    \"AgNewsTweets_Tweets_Falcon_Translate\": \"data/AgNewsTweets_Tweets_Falcon_Translate/test_aug_back-translate_random_16_tiiuae/falcon-7b-instruct_style_logs.table.json\",\n",
      "    \"AgNewsTweets_Tweets_Falcon_Paraphrase\": \"data/AgNewsTweets_Tweets_Falcon_Paraphrase/test_stabilityai/StableBeluga-7b_random_0_tiiuae/falcon-7b-instruct_style_logs.table.json\"\n",
      "}\n"
     ]
    },
    {
     "name": "stderr",
     "output_type": "stream",
     "text": [
      "\n"
     ]
    }
   ],
   "source": [
    "# for each table path, run.use_artifact and download the artifact.\n",
    "local_paths = {}\n",
    "missing_tables = []\n",
    "for table_name, table_path in tqdm(list(table_paths.items())[:]):\n",
    "    if table_path == \"\":\n",
    "        missing_tables.append(table_name)\n",
    "        continue\n",
    "\n",
    "    download_path = f\"{project_name}/{table_path}\"\n",
    "    print(f\"Downloading {table_name} --- {download_path}\")\n",
    "    artifact = run.use_artifact(download_path, type=\"run_table\")\n",
    "    artifact_dir = artifact.download(root=f\"data/{table_name}\")\n",
    "    file_name = os.listdir(artifact_dir)[0]\n",
    "    local_paths[table_name] = get_local_logs_path(f\"data/{table_name}\")\n",
    "\n",
    "print(f\"\\nMissing tables: {missing_tables}\")\n",
    "print(json.dumps(local_paths, indent=4))"
   ]
  },
  {
   "cell_type": "code",
   "execution_count": 6,
   "metadata": {},
   "outputs": [],
   "source": [
    "column_renaming = {\n",
    "    \"entropy\": \"tta_prediction_entropy\",\n",
    "    \"mean probs\": \"tta_mean_class_probs\",\n",
    "    \"all probs\": \"tta_all_class_probs\",\n",
    "    \"all entropies\": \"tta_all_class_entropy\",\n",
    "    \"latency\": \"tta_inference_latency\",\n",
    "    \"input\": \"augmentations\",\n",
    "    \"original_input\": \"original_text\",\n",
    "    \"judgment\": \"tta_predicted_class\",\n",
    "    \"original judgment\": \"original_predicted_class\",\n",
    "    \"original entropy\": \"original_prediction_entropy\",\n",
    "    \"entropy decrease\": \"prediction_entropy_decrease\",\n",
    "    \"entropy decreased\": \"prediction_entropy_decreased\",\n",
    "}\n",
    "columns_to_drop = [\"style prompt\", \"mean exemplar distance\", \"prompt\"]\n",
    "columns_order = [\"outcome\", \"original_text\", \"augmentations\", \"original_predicted_class\", \"tta_predicted_class\", \"label\", \"tta_inference_latency\", \"original_prediction_entropy\", \"tta_prediction_entropy\", \"prediction_entropy_decreased\", \"prediction_entropy_decrease\", \"tta_mean_class_probs\", \"tta_all_class_probs\", \"tta_all_class_entropy\", ]"
   ]
  },
  {
   "cell_type": "code",
   "execution_count": 7,
   "metadata": {},
   "outputs": [
    {
     "name": "stdout",
     "output_type": "stream",
     "text": [
      "['too not much of anything this well - well acted but dangerously slow thriller feels somehow like simply a terrible preamble to a bigger, much more too complicated horror story, one reality that never materializes.', 'one too too much apprehension of this well - being acted but dangerously still slow thriller feels like only a preamble to a seemingly bigger, yet more more complicated story, and one that never materializes.', 'too much of this a well - well acted but dangerously slow thriller film feels like a big preamble opening to a somehow bigger, more complicated dream story, the one concept that almost never materializes.', 'too am much of this this well - acted but dangerously slow paced thriller feels somehow like a prime preamble to creating a bigger, more painfully complicated story, but one one that never ever materializes.']\n",
      "4\n"
     ]
    }
   ],
   "source": [
    "def parse_augmentations(augmentations):\n",
    "    if augmentations is None or len(augmentations) == 0:\n",
    "        return []\n",
    "\n",
    "    return [aug.replace(\"<aug>\", \"\").replace(\"</aug>\", \"\") for aug in augmentations[:4]]\n",
    "\n",
    "formatted_augs = parse_augmentations([ \"<aug>too not much of anything this well - well acted but dangerously slow thriller feels somehow like simply a terrible preamble to a bigger, much more too complicated horror story, one reality that never materializes.</aug>\", \"<aug>one too too much apprehension of this well - being acted but dangerously still slow thriller feels like only a preamble to a seemingly bigger, yet more more complicated story, and one that never materializes.</aug>\", \"<aug>too much of this a well - well acted but dangerously slow thriller film feels like a big preamble opening to a somehow bigger, more complicated dream story, the one concept that almost never materializes.</aug>\", \"<aug>too am much of this this well - acted but dangerously slow paced thriller feels somehow like a prime preamble to creating a bigger, more painfully complicated story, but one one that never ever materializes.</aug>\", \"<aug>Too much of this well-acted but dangerously slow thriller feels like a preamble to a bigger , more complicated story , one that never materializes .</aug>\", \"<aug>Too much of this well-acted but dangerously slow thriller feels like a preamble to a bigger , more complicated story , one that never materializes .</aug>\" ])\n",
    "\n",
    "print(formatted_augs)\n",
    "print(len(formatted_augs))"
   ]
  },
  {
   "cell_type": "code",
   "execution_count": 9,
   "metadata": {},
   "outputs": [
    {
     "name": "stderr",
     "output_type": "stream",
     "text": [
      "  0%|          | 0/127 [00:00<?, ?it/s]"
     ]
    },
    {
     "name": "stderr",
     "output_type": "stream",
     "text": [
      "100%|██████████| 127/127 [02:30<00:00,  1.19s/it]\n"
     ]
    },
    {
     "data": {
      "text/plain": [
       "DatasetDict({\n",
       "    BOSS_Sentiment_ID_BERT_Insert: Dataset({\n",
       "        features: ['outcome', 'original_text', 'augmentations', 'original_predicted_class', 'tta_predicted_class', 'label', 'tta_inference_latency', 'original_prediction_entropy', 'tta_prediction_entropy', 'prediction_entropy_decreased', 'prediction_entropy_decrease', 'tta_mean_class_probs', 'tta_all_class_probs', 'tta_all_class_entropy'],\n",
       "        num_rows: 38904\n",
       "    })\n",
       "    BOSS_Sentiment_ID_BERT_ICR: Dataset({\n",
       "        features: ['outcome', 'original_text', 'augmentations', 'original_predicted_class', 'tta_predicted_class', 'label', 'tta_inference_latency', 'original_prediction_entropy', 'tta_prediction_entropy', 'prediction_entropy_decreased', 'prediction_entropy_decrease', 'tta_mean_class_probs', 'tta_all_class_probs', 'tta_all_class_entropy'],\n",
       "        num_rows: 38904\n",
       "    })\n",
       "    BOSS_Sentiment_ID_T5_Insert: Dataset({\n",
       "        features: ['outcome', 'original_text', 'augmentations', 'original_predicted_class', 'tta_predicted_class', 'label', 'tta_inference_latency', 'original_prediction_entropy', 'tta_prediction_entropy', 'prediction_entropy_decreased', 'prediction_entropy_decrease', 'tta_mean_class_probs', 'tta_all_class_probs', 'tta_all_class_entropy'],\n",
       "        num_rows: 38904\n",
       "    })\n",
       "    BOSS_Sentiment_ID_T5_Substitute: Dataset({\n",
       "        features: ['outcome', 'original_text', 'augmentations', 'original_predicted_class', 'tta_predicted_class', 'label', 'tta_inference_latency', 'original_prediction_entropy', 'tta_prediction_entropy', 'prediction_entropy_decreased', 'prediction_entropy_decrease', 'tta_mean_class_probs', 'tta_all_class_probs', 'tta_all_class_entropy'],\n",
       "        num_rows: 38904\n",
       "    })\n",
       "    BOSS_Sentiment_ID_T5_Translate: Dataset({\n",
       "        features: ['outcome', 'original_text', 'augmentations', 'original_predicted_class', 'tta_predicted_class', 'label', 'tta_inference_latency', 'original_prediction_entropy', 'tta_prediction_entropy', 'prediction_entropy_decreased', 'prediction_entropy_decrease', 'tta_mean_class_probs', 'tta_all_class_probs', 'tta_all_class_entropy'],\n",
       "        num_rows: 38904\n",
       "    })\n",
       "    BOSS_Sentiment_ID_Falcon_Insert: Dataset({\n",
       "        features: ['outcome', 'original_text', 'augmentations', 'original_predicted_class', 'tta_predicted_class', 'label', 'tta_inference_latency', 'original_prediction_entropy', 'tta_prediction_entropy', 'prediction_entropy_decreased', 'prediction_entropy_decrease', 'tta_mean_class_probs', 'tta_all_class_probs', 'tta_all_class_entropy'],\n",
       "        num_rows: 38904\n",
       "    })\n",
       "    BOSS_Sentiment_ID_Falcon_Substitute: Dataset({\n",
       "        features: ['outcome', 'original_text', 'augmentations', 'original_predicted_class', 'tta_predicted_class', 'label', 'tta_inference_latency', 'original_prediction_entropy', 'tta_prediction_entropy', 'prediction_entropy_decreased', 'prediction_entropy_decrease', 'tta_mean_class_probs', 'tta_all_class_probs', 'tta_all_class_entropy'],\n",
       "        num_rows: 38904\n",
       "    })\n",
       "    BOSS_Sentiment_ID_Falcon_Translate: Dataset({\n",
       "        features: ['outcome', 'original_text', 'augmentations', 'original_predicted_class', 'tta_predicted_class', 'label', 'tta_inference_latency', 'original_prediction_entropy', 'tta_prediction_entropy', 'prediction_entropy_decreased', 'prediction_entropy_decrease', 'tta_mean_class_probs', 'tta_all_class_probs', 'tta_all_class_entropy'],\n",
       "        num_rows: 38904\n",
       "    })\n",
       "    BOSS_Sentiment_SST5_BERT_Insert: Dataset({\n",
       "        features: ['outcome', 'original_text', 'augmentations', 'original_predicted_class', 'tta_predicted_class', 'label', 'tta_inference_latency', 'original_prediction_entropy', 'tta_prediction_entropy', 'prediction_entropy_decreased', 'prediction_entropy_decrease', 'tta_mean_class_probs', 'tta_all_class_probs', 'tta_all_class_entropy'],\n",
       "        num_rows: 1072\n",
       "    })\n",
       "    BOSS_Sentiment_SST5_BERT_Substitute: Dataset({\n",
       "        features: ['outcome', 'original_text', 'augmentations', 'original_predicted_class', 'tta_predicted_class', 'label', 'tta_inference_latency', 'original_prediction_entropy', 'tta_prediction_entropy', 'prediction_entropy_decreased', 'prediction_entropy_decrease', 'tta_mean_class_probs', 'tta_all_class_probs', 'tta_all_class_entropy'],\n",
       "        num_rows: 1072\n",
       "    })\n",
       "    BOSS_Sentiment_SST5_BERT_Translate: Dataset({\n",
       "        features: ['outcome', 'original_text', 'augmentations', 'original_predicted_class', 'tta_predicted_class', 'label', 'tta_inference_latency', 'original_prediction_entropy', 'tta_prediction_entropy', 'prediction_entropy_decreased', 'prediction_entropy_decrease', 'tta_mean_class_probs', 'tta_all_class_probs', 'tta_all_class_entropy'],\n",
       "        num_rows: 1072\n",
       "    })\n",
       "    BOSS_Sentiment_SST5_BERT_Paraphrase: Dataset({\n",
       "        features: ['outcome', 'original_text', 'augmentations', 'original_predicted_class', 'tta_predicted_class', 'label', 'tta_inference_latency', 'original_prediction_entropy', 'tta_prediction_entropy', 'prediction_entropy_decreased', 'prediction_entropy_decrease', 'tta_mean_class_probs', 'tta_all_class_probs', 'tta_all_class_entropy'],\n",
       "        num_rows: 1072\n",
       "    })\n",
       "    BOSS_Sentiment_SST5_BERT_ICR: Dataset({\n",
       "        features: ['outcome', 'original_text', 'augmentations', 'original_predicted_class', 'tta_predicted_class', 'label', 'tta_inference_latency', 'original_prediction_entropy', 'tta_prediction_entropy', 'prediction_entropy_decreased', 'prediction_entropy_decrease', 'tta_mean_class_probs', 'tta_all_class_probs', 'tta_all_class_entropy'],\n",
       "        num_rows: 1072\n",
       "    })\n",
       "    BOSS_Sentiment_SST5_T5_Insert: Dataset({\n",
       "        features: ['outcome', 'original_text', 'augmentations', 'original_predicted_class', 'tta_predicted_class', 'label', 'tta_inference_latency', 'original_prediction_entropy', 'tta_prediction_entropy', 'prediction_entropy_decreased', 'prediction_entropy_decrease', 'tta_mean_class_probs', 'tta_all_class_probs', 'tta_all_class_entropy'],\n",
       "        num_rows: 1072\n",
       "    })\n",
       "    BOSS_Sentiment_SST5_T5_Substitute: Dataset({\n",
       "        features: ['outcome', 'original_text', 'augmentations', 'original_predicted_class', 'tta_predicted_class', 'label', 'tta_inference_latency', 'original_prediction_entropy', 'tta_prediction_entropy', 'prediction_entropy_decreased', 'prediction_entropy_decrease', 'tta_mean_class_probs', 'tta_all_class_probs', 'tta_all_class_entropy'],\n",
       "        num_rows: 1072\n",
       "    })\n",
       "    BOSS_Sentiment_SST5_T5_Translate: Dataset({\n",
       "        features: ['outcome', 'original_text', 'augmentations', 'original_predicted_class', 'tta_predicted_class', 'label', 'tta_inference_latency', 'original_prediction_entropy', 'tta_prediction_entropy', 'prediction_entropy_decreased', 'prediction_entropy_decrease', 'tta_mean_class_probs', 'tta_all_class_probs', 'tta_all_class_entropy'],\n",
       "        num_rows: 1072\n",
       "    })\n",
       "    BOSS_Sentiment_SST5_T5_Paraphrase: Dataset({\n",
       "        features: ['outcome', 'original_text', 'augmentations', 'original_predicted_class', 'tta_predicted_class', 'label', 'tta_inference_latency', 'original_prediction_entropy', 'tta_prediction_entropy', 'prediction_entropy_decreased', 'prediction_entropy_decrease', 'tta_mean_class_probs', 'tta_all_class_probs', 'tta_all_class_entropy'],\n",
       "        num_rows: 1072\n",
       "    })\n",
       "    BOSS_Sentiment_SST5_T5_ICR: Dataset({\n",
       "        features: ['outcome', 'original_text', 'augmentations', 'original_predicted_class', 'tta_predicted_class', 'label', 'tta_inference_latency', 'original_prediction_entropy', 'tta_prediction_entropy', 'prediction_entropy_decreased', 'prediction_entropy_decrease', 'tta_mean_class_probs', 'tta_all_class_probs', 'tta_all_class_entropy'],\n",
       "        num_rows: 1072\n",
       "    })\n",
       "    BOSS_Sentiment_SST5_Falcon_Insert: Dataset({\n",
       "        features: ['outcome', 'original_text', 'augmentations', 'original_predicted_class', 'tta_predicted_class', 'label', 'tta_inference_latency', 'original_prediction_entropy', 'tta_prediction_entropy', 'prediction_entropy_decreased', 'prediction_entropy_decrease', 'tta_mean_class_probs', 'tta_all_class_probs', 'tta_all_class_entropy'],\n",
       "        num_rows: 1072\n",
       "    })\n",
       "    BOSS_Sentiment_SST5_Falcon_Substitute: Dataset({\n",
       "        features: ['outcome', 'original_text', 'augmentations', 'original_predicted_class', 'tta_predicted_class', 'label', 'tta_inference_latency', 'original_prediction_entropy', 'tta_prediction_entropy', 'prediction_entropy_decreased', 'prediction_entropy_decrease', 'tta_mean_class_probs', 'tta_all_class_probs', 'tta_all_class_entropy'],\n",
       "        num_rows: 1072\n",
       "    })\n",
       "    BOSS_Sentiment_SST5_Falcon_Translate: Dataset({\n",
       "        features: ['outcome', 'original_text', 'augmentations', 'original_predicted_class', 'tta_predicted_class', 'label', 'tta_inference_latency', 'original_prediction_entropy', 'tta_prediction_entropy', 'prediction_entropy_decreased', 'prediction_entropy_decrease', 'tta_mean_class_probs', 'tta_all_class_probs', 'tta_all_class_entropy'],\n",
       "        num_rows: 1072\n",
       "    })\n",
       "    BOSS_Sentiment_SST5_Falcon_Paraphrase: Dataset({\n",
       "        features: ['outcome', 'original_text', 'augmentations', 'original_predicted_class', 'tta_predicted_class', 'label', 'tta_inference_latency', 'original_prediction_entropy', 'tta_prediction_entropy', 'prediction_entropy_decreased', 'prediction_entropy_decrease', 'tta_mean_class_probs', 'tta_all_class_probs', 'tta_all_class_entropy'],\n",
       "        num_rows: 1072\n",
       "    })\n",
       "    BOSS_Sentiment_SST5_Falcon_ICR: Dataset({\n",
       "        features: ['outcome', 'original_text', 'augmentations', 'original_predicted_class', 'tta_predicted_class', 'label', 'tta_inference_latency', 'original_prediction_entropy', 'tta_prediction_entropy', 'prediction_entropy_decreased', 'prediction_entropy_decrease', 'tta_mean_class_probs', 'tta_all_class_probs', 'tta_all_class_entropy'],\n",
       "        num_rows: 1072\n",
       "    })\n",
       "    BOSS_Sentiment_SemEval_BERT_Insert: Dataset({\n",
       "        features: ['outcome', 'original_text', 'augmentations', 'original_predicted_class', 'tta_predicted_class', 'label', 'tta_inference_latency', 'original_prediction_entropy', 'tta_prediction_entropy', 'prediction_entropy_decreased', 'prediction_entropy_decrease', 'tta_mean_class_probs', 'tta_all_class_probs', 'tta_all_class_entropy'],\n",
       "        num_rows: 20624\n",
       "    })\n",
       "    BOSS_Sentiment_SemEval_BERT_Substitute: Dataset({\n",
       "        features: ['outcome', 'original_text', 'augmentations', 'original_predicted_class', 'tta_predicted_class', 'label', 'tta_inference_latency', 'original_prediction_entropy', 'tta_prediction_entropy', 'prediction_entropy_decreased', 'prediction_entropy_decrease', 'tta_mean_class_probs', 'tta_all_class_probs', 'tta_all_class_entropy'],\n",
       "        num_rows: 20624\n",
       "    })\n",
       "    BOSS_Sentiment_SemEval_BERT_Translate: Dataset({\n",
       "        features: ['outcome', 'original_text', 'augmentations', 'original_predicted_class', 'tta_predicted_class', 'label', 'tta_inference_latency', 'original_prediction_entropy', 'tta_prediction_entropy', 'prediction_entropy_decreased', 'prediction_entropy_decrease', 'tta_mean_class_probs', 'tta_all_class_probs', 'tta_all_class_entropy'],\n",
       "        num_rows: 20624\n",
       "    })\n",
       "    BOSS_Sentiment_SemEval_BERT_Paraphrase: Dataset({\n",
       "        features: ['outcome', 'original_text', 'augmentations', 'original_predicted_class', 'tta_predicted_class', 'label', 'tta_inference_latency', 'original_prediction_entropy', 'tta_prediction_entropy', 'prediction_entropy_decreased', 'prediction_entropy_decrease', 'tta_mean_class_probs', 'tta_all_class_probs', 'tta_all_class_entropy'],\n",
       "        num_rows: 20624\n",
       "    })\n",
       "    BOSS_Sentiment_SemEval_BERT_ICR: Dataset({\n",
       "        features: ['outcome', 'original_text', 'augmentations', 'original_predicted_class', 'tta_predicted_class', 'label', 'tta_inference_latency', 'original_prediction_entropy', 'tta_prediction_entropy', 'prediction_entropy_decreased', 'prediction_entropy_decrease', 'tta_mean_class_probs', 'tta_all_class_probs', 'tta_all_class_entropy'],\n",
       "        num_rows: 20624\n",
       "    })\n",
       "    BOSS_Sentiment_SemEval_T5_Insert: Dataset({\n",
       "        features: ['outcome', 'original_text', 'augmentations', 'original_predicted_class', 'tta_predicted_class', 'label', 'tta_inference_latency', 'original_prediction_entropy', 'tta_prediction_entropy', 'prediction_entropy_decreased', 'prediction_entropy_decrease', 'tta_mean_class_probs', 'tta_all_class_probs', 'tta_all_class_entropy'],\n",
       "        num_rows: 20624\n",
       "    })\n",
       "    BOSS_Sentiment_SemEval_T5_Substitute: Dataset({\n",
       "        features: ['outcome', 'original_text', 'augmentations', 'original_predicted_class', 'tta_predicted_class', 'label', 'tta_inference_latency', 'original_prediction_entropy', 'tta_prediction_entropy', 'prediction_entropy_decreased', 'prediction_entropy_decrease', 'tta_mean_class_probs', 'tta_all_class_probs', 'tta_all_class_entropy'],\n",
       "        num_rows: 20624\n",
       "    })\n",
       "    BOSS_Sentiment_SemEval_T5_Translate: Dataset({\n",
       "        features: ['outcome', 'original_text', 'augmentations', 'original_predicted_class', 'tta_predicted_class', 'label', 'tta_inference_latency', 'original_prediction_entropy', 'tta_prediction_entropy', 'prediction_entropy_decreased', 'prediction_entropy_decrease', 'tta_mean_class_probs', 'tta_all_class_probs', 'tta_all_class_entropy'],\n",
       "        num_rows: 20624\n",
       "    })\n",
       "    BOSS_Sentiment_SemEval_T5_Paraphrase: Dataset({\n",
       "        features: ['outcome', 'original_text', 'augmentations', 'original_predicted_class', 'tta_predicted_class', 'label', 'tta_inference_latency', 'original_prediction_entropy', 'tta_prediction_entropy', 'prediction_entropy_decreased', 'prediction_entropy_decrease', 'tta_mean_class_probs', 'tta_all_class_probs', 'tta_all_class_entropy'],\n",
       "        num_rows: 20624\n",
       "    })\n",
       "    BOSS_Sentiment_SemEval_T5_ICR: Dataset({\n",
       "        features: ['outcome', 'original_text', 'augmentations', 'original_predicted_class', 'tta_predicted_class', 'label', 'tta_inference_latency', 'original_prediction_entropy', 'tta_prediction_entropy', 'prediction_entropy_decreased', 'prediction_entropy_decrease', 'tta_mean_class_probs', 'tta_all_class_probs', 'tta_all_class_entropy'],\n",
       "        num_rows: 20624\n",
       "    })\n",
       "    BOSS_Sentiment_SemEval_Falcon_Insert: Dataset({\n",
       "        features: ['outcome', 'original_text', 'augmentations', 'original_predicted_class', 'tta_predicted_class', 'label', 'tta_inference_latency', 'original_prediction_entropy', 'tta_prediction_entropy', 'prediction_entropy_decreased', 'prediction_entropy_decrease', 'tta_mean_class_probs', 'tta_all_class_probs', 'tta_all_class_entropy'],\n",
       "        num_rows: 20624\n",
       "    })\n",
       "    BOSS_Sentiment_SemEval_Falcon_Substitute: Dataset({\n",
       "        features: ['outcome', 'original_text', 'augmentations', 'original_predicted_class', 'tta_predicted_class', 'label', 'tta_inference_latency', 'original_prediction_entropy', 'tta_prediction_entropy', 'prediction_entropy_decreased', 'prediction_entropy_decrease', 'tta_mean_class_probs', 'tta_all_class_probs', 'tta_all_class_entropy'],\n",
       "        num_rows: 20624\n",
       "    })\n",
       "    BOSS_Sentiment_SemEval_Falcon_Translate: Dataset({\n",
       "        features: ['outcome', 'original_text', 'augmentations', 'original_predicted_class', 'tta_predicted_class', 'label', 'tta_inference_latency', 'original_prediction_entropy', 'tta_prediction_entropy', 'prediction_entropy_decreased', 'prediction_entropy_decrease', 'tta_mean_class_probs', 'tta_all_class_probs', 'tta_all_class_entropy'],\n",
       "        num_rows: 20624\n",
       "    })\n",
       "    BOSS_Sentiment_SemEval_Falcon_Paraphrase: Dataset({\n",
       "        features: ['outcome', 'original_text', 'augmentations', 'original_predicted_class', 'tta_predicted_class', 'label', 'tta_inference_latency', 'original_prediction_entropy', 'tta_prediction_entropy', 'prediction_entropy_decreased', 'prediction_entropy_decrease', 'tta_mean_class_probs', 'tta_all_class_probs', 'tta_all_class_entropy'],\n",
       "        num_rows: 20624\n",
       "    })\n",
       "    BOSS_Sentiment_SemEval_Falcon_ICR: Dataset({\n",
       "        features: ['outcome', 'original_text', 'augmentations', 'original_predicted_class', 'tta_predicted_class', 'label', 'tta_inference_latency', 'original_prediction_entropy', 'tta_prediction_entropy', 'prediction_entropy_decreased', 'prediction_entropy_decrease', 'tta_mean_class_probs', 'tta_all_class_probs', 'tta_all_class_entropy'],\n",
       "        num_rows: 20624\n",
       "    })\n",
       "    BOSS_Sentiment_Dynasent_BERT_Insert: Dataset({\n",
       "        features: ['outcome', 'original_text', 'augmentations', 'original_predicted_class', 'tta_predicted_class', 'label', 'tta_inference_latency', 'original_prediction_entropy', 'tta_prediction_entropy', 'prediction_entropy_decreased', 'prediction_entropy_decrease', 'tta_mean_class_probs', 'tta_all_class_probs', 'tta_all_class_entropy'],\n",
       "        num_rows: 4320\n",
       "    })\n",
       "    BOSS_Sentiment_Dynasent_BERT_Substitute: Dataset({\n",
       "        features: ['outcome', 'original_text', 'augmentations', 'original_predicted_class', 'tta_predicted_class', 'label', 'tta_inference_latency', 'original_prediction_entropy', 'tta_prediction_entropy', 'prediction_entropy_decreased', 'prediction_entropy_decrease', 'tta_mean_class_probs', 'tta_all_class_probs', 'tta_all_class_entropy'],\n",
       "        num_rows: 4320\n",
       "    })\n",
       "    BOSS_Sentiment_Dynasent_BERT_Translate: Dataset({\n",
       "        features: ['outcome', 'original_text', 'augmentations', 'original_predicted_class', 'tta_predicted_class', 'label', 'tta_inference_latency', 'original_prediction_entropy', 'tta_prediction_entropy', 'prediction_entropy_decreased', 'prediction_entropy_decrease', 'tta_mean_class_probs', 'tta_all_class_probs', 'tta_all_class_entropy'],\n",
       "        num_rows: 4320\n",
       "    })\n",
       "    BOSS_Sentiment_Dynasent_BERT_Paraphrase: Dataset({\n",
       "        features: ['outcome', 'original_text', 'augmentations', 'original_predicted_class', 'tta_predicted_class', 'label', 'tta_inference_latency', 'original_prediction_entropy', 'tta_prediction_entropy', 'prediction_entropy_decreased', 'prediction_entropy_decrease', 'tta_mean_class_probs', 'tta_all_class_probs', 'tta_all_class_entropy'],\n",
       "        num_rows: 4320\n",
       "    })\n",
       "    BOSS_Sentiment_Dynasent_BERT_ICR: Dataset({\n",
       "        features: ['outcome', 'original_text', 'augmentations', 'original_predicted_class', 'tta_predicted_class', 'label', 'tta_inference_latency', 'original_prediction_entropy', 'tta_prediction_entropy', 'prediction_entropy_decreased', 'prediction_entropy_decrease', 'tta_mean_class_probs', 'tta_all_class_probs', 'tta_all_class_entropy'],\n",
       "        num_rows: 4320\n",
       "    })\n",
       "    BOSS_Sentiment_Dynasent_T5_Insert: Dataset({\n",
       "        features: ['outcome', 'original_text', 'augmentations', 'original_predicted_class', 'tta_predicted_class', 'label', 'tta_inference_latency', 'original_prediction_entropy', 'tta_prediction_entropy', 'prediction_entropy_decreased', 'prediction_entropy_decrease', 'tta_mean_class_probs', 'tta_all_class_probs', 'tta_all_class_entropy'],\n",
       "        num_rows: 4320\n",
       "    })\n",
       "    BOSS_Sentiment_Dynasent_T5_Substitute: Dataset({\n",
       "        features: ['outcome', 'original_text', 'augmentations', 'original_predicted_class', 'tta_predicted_class', 'label', 'tta_inference_latency', 'original_prediction_entropy', 'tta_prediction_entropy', 'prediction_entropy_decreased', 'prediction_entropy_decrease', 'tta_mean_class_probs', 'tta_all_class_probs', 'tta_all_class_entropy'],\n",
       "        num_rows: 4320\n",
       "    })\n",
       "    BOSS_Sentiment_Dynasent_T5_Translate: Dataset({\n",
       "        features: ['outcome', 'original_text', 'augmentations', 'original_predicted_class', 'tta_predicted_class', 'label', 'tta_inference_latency', 'original_prediction_entropy', 'tta_prediction_entropy', 'prediction_entropy_decreased', 'prediction_entropy_decrease', 'tta_mean_class_probs', 'tta_all_class_probs', 'tta_all_class_entropy'],\n",
       "        num_rows: 4320\n",
       "    })\n",
       "    BOSS_Sentiment_Dynasent_T5_Paraphrase: Dataset({\n",
       "        features: ['outcome', 'original_text', 'augmentations', 'original_predicted_class', 'tta_predicted_class', 'label', 'tta_inference_latency', 'original_prediction_entropy', 'tta_prediction_entropy', 'prediction_entropy_decreased', 'prediction_entropy_decrease', 'tta_mean_class_probs', 'tta_all_class_probs', 'tta_all_class_entropy'],\n",
       "        num_rows: 4320\n",
       "    })\n",
       "    BOSS_Sentiment_Dynasent_T5_ICR: Dataset({\n",
       "        features: ['outcome', 'original_text', 'augmentations', 'original_predicted_class', 'tta_predicted_class', 'label', 'tta_inference_latency', 'original_prediction_entropy', 'tta_prediction_entropy', 'prediction_entropy_decreased', 'prediction_entropy_decrease', 'tta_mean_class_probs', 'tta_all_class_probs', 'tta_all_class_entropy'],\n",
       "        num_rows: 4320\n",
       "    })\n",
       "    BOSS_Sentiment_Dynasent_Falcon_Insert: Dataset({\n",
       "        features: ['outcome', 'original_text', 'augmentations', 'original_predicted_class', 'tta_predicted_class', 'label', 'tta_inference_latency', 'original_prediction_entropy', 'tta_prediction_entropy', 'prediction_entropy_decreased', 'prediction_entropy_decrease', 'tta_mean_class_probs', 'tta_all_class_probs', 'tta_all_class_entropy'],\n",
       "        num_rows: 4320\n",
       "    })\n",
       "    BOSS_Sentiment_Dynasent_Falcon_Substitute: Dataset({\n",
       "        features: ['outcome', 'original_text', 'augmentations', 'original_predicted_class', 'tta_predicted_class', 'label', 'tta_inference_latency', 'original_prediction_entropy', 'tta_prediction_entropy', 'prediction_entropy_decreased', 'prediction_entropy_decrease', 'tta_mean_class_probs', 'tta_all_class_probs', 'tta_all_class_entropy'],\n",
       "        num_rows: 4320\n",
       "    })\n",
       "    BOSS_Sentiment_Dynasent_Falcon_Translate: Dataset({\n",
       "        features: ['outcome', 'original_text', 'augmentations', 'original_predicted_class', 'tta_predicted_class', 'label', 'tta_inference_latency', 'original_prediction_entropy', 'tta_prediction_entropy', 'prediction_entropy_decreased', 'prediction_entropy_decrease', 'tta_mean_class_probs', 'tta_all_class_probs', 'tta_all_class_entropy'],\n",
       "        num_rows: 4320\n",
       "    })\n",
       "    BOSS_Sentiment_Dynasent_Falcon_Paraphrase: Dataset({\n",
       "        features: ['outcome', 'original_text', 'augmentations', 'original_predicted_class', 'tta_predicted_class', 'label', 'tta_inference_latency', 'original_prediction_entropy', 'tta_prediction_entropy', 'prediction_entropy_decreased', 'prediction_entropy_decrease', 'tta_mean_class_probs', 'tta_all_class_probs', 'tta_all_class_entropy'],\n",
       "        num_rows: 4320\n",
       "    })\n",
       "    BOSS_Sentiment_Dynasent_Falcon_ICR: Dataset({\n",
       "        features: ['outcome', 'original_text', 'augmentations', 'original_predicted_class', 'tta_predicted_class', 'label', 'tta_inference_latency', 'original_prediction_entropy', 'tta_prediction_entropy', 'prediction_entropy_decreased', 'prediction_entropy_decrease', 'tta_mean_class_probs', 'tta_all_class_probs', 'tta_all_class_entropy'],\n",
       "        num_rows: 4320\n",
       "    })\n",
       "    BOSS_Toxicity_ID_BERT_ICR: Dataset({\n",
       "        features: ['outcome', 'original_text', 'augmentations', 'original_predicted_class', 'tta_predicted_class', 'label', 'tta_inference_latency', 'original_prediction_entropy', 'tta_prediction_entropy', 'prediction_entropy_decreased', 'prediction_entropy_decrease', 'tta_mean_class_probs', 'tta_all_class_probs', 'tta_all_class_entropy'],\n",
       "        num_rows: 97320\n",
       "    })\n",
       "    BOSS_Toxicity_ID_Falcon_Insert: Dataset({\n",
       "        features: ['outcome', 'original_text', 'augmentations', 'original_predicted_class', 'tta_predicted_class', 'label', 'tta_inference_latency', 'original_prediction_entropy', 'tta_prediction_entropy', 'prediction_entropy_decreased', 'prediction_entropy_decrease', 'tta_mean_class_probs', 'tta_all_class_probs', 'tta_all_class_entropy'],\n",
       "        num_rows: 97320\n",
       "    })\n",
       "    BOSS_Toxicity_Toxigen_BERT_Insert: Dataset({\n",
       "        features: ['outcome', 'original_text', 'augmentations', 'original_predicted_class', 'tta_predicted_class', 'label', 'tta_inference_latency', 'original_prediction_entropy', 'tta_prediction_entropy', 'prediction_entropy_decreased', 'prediction_entropy_decrease', 'tta_mean_class_probs', 'tta_all_class_probs', 'tta_all_class_entropy'],\n",
       "        num_rows: 944\n",
       "    })\n",
       "    BOSS_Toxicity_Toxigen_BERT_Substitute: Dataset({\n",
       "        features: ['outcome', 'original_text', 'augmentations', 'original_predicted_class', 'tta_predicted_class', 'label', 'tta_inference_latency', 'original_prediction_entropy', 'tta_prediction_entropy', 'prediction_entropy_decreased', 'prediction_entropy_decrease', 'tta_mean_class_probs', 'tta_all_class_probs', 'tta_all_class_entropy'],\n",
       "        num_rows: 944\n",
       "    })\n",
       "    BOSS_Toxicity_Toxigen_BERT_Translate: Dataset({\n",
       "        features: ['outcome', 'original_text', 'augmentations', 'original_predicted_class', 'tta_predicted_class', 'label', 'tta_inference_latency', 'original_prediction_entropy', 'tta_prediction_entropy', 'prediction_entropy_decreased', 'prediction_entropy_decrease', 'tta_mean_class_probs', 'tta_all_class_probs', 'tta_all_class_entropy'],\n",
       "        num_rows: 944\n",
       "    })\n",
       "    BOSS_Toxicity_Toxigen_BERT_Paraphrase: Dataset({\n",
       "        features: ['outcome', 'original_text', 'augmentations', 'original_predicted_class', 'tta_predicted_class', 'label', 'tta_inference_latency', 'original_prediction_entropy', 'tta_prediction_entropy', 'prediction_entropy_decreased', 'prediction_entropy_decrease', 'tta_mean_class_probs', 'tta_all_class_probs', 'tta_all_class_entropy'],\n",
       "        num_rows: 944\n",
       "    })\n",
       "    BOSS_Toxicity_Toxigen_BERT_ICR: Dataset({\n",
       "        features: ['outcome', 'original_text', 'augmentations', 'original_predicted_class', 'tta_predicted_class', 'label', 'tta_inference_latency', 'original_prediction_entropy', 'tta_prediction_entropy', 'prediction_entropy_decreased', 'prediction_entropy_decrease', 'tta_mean_class_probs', 'tta_all_class_probs', 'tta_all_class_entropy'],\n",
       "        num_rows: 944\n",
       "    })\n",
       "    BOSS_Toxicity_Toxigen_T5_Insert: Dataset({\n",
       "        features: ['outcome', 'original_text', 'augmentations', 'original_predicted_class', 'tta_predicted_class', 'label', 'tta_inference_latency', 'original_prediction_entropy', 'tta_prediction_entropy', 'prediction_entropy_decreased', 'prediction_entropy_decrease', 'tta_mean_class_probs', 'tta_all_class_probs', 'tta_all_class_entropy'],\n",
       "        num_rows: 944\n",
       "    })\n",
       "    BOSS_Toxicity_Toxigen_T5_Substitute: Dataset({\n",
       "        features: ['outcome', 'original_text', 'augmentations', 'original_predicted_class', 'tta_predicted_class', 'label', 'tta_inference_latency', 'original_prediction_entropy', 'tta_prediction_entropy', 'prediction_entropy_decreased', 'prediction_entropy_decrease', 'tta_mean_class_probs', 'tta_all_class_probs', 'tta_all_class_entropy'],\n",
       "        num_rows: 944\n",
       "    })\n",
       "    BOSS_Toxicity_Toxigen_T5_Translate: Dataset({\n",
       "        features: ['outcome', 'original_text', 'augmentations', 'original_predicted_class', 'tta_predicted_class', 'label', 'tta_inference_latency', 'original_prediction_entropy', 'tta_prediction_entropy', 'prediction_entropy_decreased', 'prediction_entropy_decrease', 'tta_mean_class_probs', 'tta_all_class_probs', 'tta_all_class_entropy'],\n",
       "        num_rows: 944\n",
       "    })\n",
       "    BOSS_Toxicity_Toxigen_T5_Paraphrase: Dataset({\n",
       "        features: ['outcome', 'original_text', 'augmentations', 'original_predicted_class', 'tta_predicted_class', 'label', 'tta_inference_latency', 'original_prediction_entropy', 'tta_prediction_entropy', 'prediction_entropy_decreased', 'prediction_entropy_decrease', 'tta_mean_class_probs', 'tta_all_class_probs', 'tta_all_class_entropy'],\n",
       "        num_rows: 944\n",
       "    })\n",
       "    BOSS_Toxicity_Toxigen_T5_ICR: Dataset({\n",
       "        features: ['outcome', 'original_text', 'augmentations', 'original_predicted_class', 'tta_predicted_class', 'label', 'tta_inference_latency', 'original_prediction_entropy', 'tta_prediction_entropy', 'prediction_entropy_decreased', 'prediction_entropy_decrease', 'tta_mean_class_probs', 'tta_all_class_probs', 'tta_all_class_entropy'],\n",
       "        num_rows: 944\n",
       "    })\n",
       "    BOSS_Toxicity_Toxigen_Falcon_Insert: Dataset({\n",
       "        features: ['outcome', 'original_text', 'augmentations', 'original_predicted_class', 'tta_predicted_class', 'label', 'tta_inference_latency', 'original_prediction_entropy', 'tta_prediction_entropy', 'prediction_entropy_decreased', 'prediction_entropy_decrease', 'tta_mean_class_probs', 'tta_all_class_probs', 'tta_all_class_entropy'],\n",
       "        num_rows: 944\n",
       "    })\n",
       "    BOSS_Toxicity_Toxigen_Falcon_Substitute: Dataset({\n",
       "        features: ['outcome', 'original_text', 'augmentations', 'original_predicted_class', 'tta_predicted_class', 'label', 'tta_inference_latency', 'original_prediction_entropy', 'tta_prediction_entropy', 'prediction_entropy_decreased', 'prediction_entropy_decrease', 'tta_mean_class_probs', 'tta_all_class_probs', 'tta_all_class_entropy'],\n",
       "        num_rows: 944\n",
       "    })\n",
       "    BOSS_Toxicity_Toxigen_Falcon_Translate: Dataset({\n",
       "        features: ['outcome', 'original_text', 'augmentations', 'original_predicted_class', 'tta_predicted_class', 'label', 'tta_inference_latency', 'original_prediction_entropy', 'tta_prediction_entropy', 'prediction_entropy_decreased', 'prediction_entropy_decrease', 'tta_mean_class_probs', 'tta_all_class_probs', 'tta_all_class_entropy'],\n",
       "        num_rows: 944\n",
       "    })\n",
       "    BOSS_Toxicity_Toxigen_Falcon_Paraphrase: Dataset({\n",
       "        features: ['outcome', 'original_text', 'augmentations', 'original_predicted_class', 'tta_predicted_class', 'label', 'tta_inference_latency', 'original_prediction_entropy', 'tta_prediction_entropy', 'prediction_entropy_decreased', 'prediction_entropy_decrease', 'tta_mean_class_probs', 'tta_all_class_probs', 'tta_all_class_entropy'],\n",
       "        num_rows: 944\n",
       "    })\n",
       "    BOSS_Toxicity_Toxigen_Falcon_ICR: Dataset({\n",
       "        features: ['outcome', 'original_text', 'augmentations', 'original_predicted_class', 'tta_predicted_class', 'label', 'tta_inference_latency', 'original_prediction_entropy', 'tta_prediction_entropy', 'prediction_entropy_decreased', 'prediction_entropy_decrease', 'tta_mean_class_probs', 'tta_all_class_probs', 'tta_all_class_entropy'],\n",
       "        num_rows: 944\n",
       "    })\n",
       "    BOSS_Toxicity_ImplicitHate_BERT_Insert: Dataset({\n",
       "        features: ['outcome', 'original_text', 'augmentations', 'original_predicted_class', 'tta_predicted_class', 'label', 'tta_inference_latency', 'original_prediction_entropy', 'tta_prediction_entropy', 'prediction_entropy_decreased', 'prediction_entropy_decrease', 'tta_mean_class_probs', 'tta_all_class_probs', 'tta_all_class_entropy'],\n",
       "        num_rows: 21480\n",
       "    })\n",
       "    BOSS_Toxicity_ImplicitHate_BERT_Substitute: Dataset({\n",
       "        features: ['outcome', 'original_text', 'augmentations', 'original_predicted_class', 'tta_predicted_class', 'label', 'tta_inference_latency', 'original_prediction_entropy', 'tta_prediction_entropy', 'prediction_entropy_decreased', 'prediction_entropy_decrease', 'tta_mean_class_probs', 'tta_all_class_probs', 'tta_all_class_entropy'],\n",
       "        num_rows: 21480\n",
       "    })\n",
       "    BOSS_Toxicity_ImplicitHate_BERT_Translate: Dataset({\n",
       "        features: ['outcome', 'original_text', 'augmentations', 'original_predicted_class', 'tta_predicted_class', 'label', 'tta_inference_latency', 'original_prediction_entropy', 'tta_prediction_entropy', 'prediction_entropy_decreased', 'prediction_entropy_decrease', 'tta_mean_class_probs', 'tta_all_class_probs', 'tta_all_class_entropy'],\n",
       "        num_rows: 21480\n",
       "    })\n",
       "    BOSS_Toxicity_ImplicitHate_BERT_Paraphrase: Dataset({\n",
       "        features: ['outcome', 'original_text', 'augmentations', 'original_predicted_class', 'tta_predicted_class', 'label', 'tta_inference_latency', 'original_prediction_entropy', 'tta_prediction_entropy', 'prediction_entropy_decreased', 'prediction_entropy_decrease', 'tta_mean_class_probs', 'tta_all_class_probs', 'tta_all_class_entropy'],\n",
       "        num_rows: 21480\n",
       "    })\n",
       "    BOSS_Toxicity_ImplicitHate_BERT_ICR: Dataset({\n",
       "        features: ['outcome', 'original_text', 'augmentations', 'original_predicted_class', 'tta_predicted_class', 'label', 'tta_inference_latency', 'original_prediction_entropy', 'tta_prediction_entropy', 'prediction_entropy_decreased', 'prediction_entropy_decrease', 'tta_mean_class_probs', 'tta_all_class_probs', 'tta_all_class_entropy'],\n",
       "        num_rows: 21480\n",
       "    })\n",
       "    BOSS_Toxicity_ImplicitHate_T5_Insert: Dataset({\n",
       "        features: ['outcome', 'original_text', 'augmentations', 'original_predicted_class', 'tta_predicted_class', 'label', 'tta_inference_latency', 'original_prediction_entropy', 'tta_prediction_entropy', 'prediction_entropy_decreased', 'prediction_entropy_decrease', 'tta_mean_class_probs', 'tta_all_class_probs', 'tta_all_class_entropy'],\n",
       "        num_rows: 21480\n",
       "    })\n",
       "    BOSS_Toxicity_ImplicitHate_T5_Substitute: Dataset({\n",
       "        features: ['outcome', 'original_text', 'augmentations', 'original_predicted_class', 'tta_predicted_class', 'label', 'tta_inference_latency', 'original_prediction_entropy', 'tta_prediction_entropy', 'prediction_entropy_decreased', 'prediction_entropy_decrease', 'tta_mean_class_probs', 'tta_all_class_probs', 'tta_all_class_entropy'],\n",
       "        num_rows: 21480\n",
       "    })\n",
       "    BOSS_Toxicity_ImplicitHate_T5_Translate: Dataset({\n",
       "        features: ['outcome', 'original_text', 'augmentations', 'original_predicted_class', 'tta_predicted_class', 'label', 'tta_inference_latency', 'original_prediction_entropy', 'tta_prediction_entropy', 'prediction_entropy_decreased', 'prediction_entropy_decrease', 'tta_mean_class_probs', 'tta_all_class_probs', 'tta_all_class_entropy'],\n",
       "        num_rows: 21480\n",
       "    })\n",
       "    BOSS_Toxicity_ImplicitHate_T5_Paraphrase: Dataset({\n",
       "        features: ['outcome', 'original_text', 'augmentations', 'original_predicted_class', 'tta_predicted_class', 'label', 'tta_inference_latency', 'original_prediction_entropy', 'tta_prediction_entropy', 'prediction_entropy_decreased', 'prediction_entropy_decrease', 'tta_mean_class_probs', 'tta_all_class_probs', 'tta_all_class_entropy'],\n",
       "        num_rows: 21480\n",
       "    })\n",
       "    BOSS_Toxicity_ImplicitHate_T5_ICR: Dataset({\n",
       "        features: ['outcome', 'original_text', 'augmentations', 'original_predicted_class', 'tta_predicted_class', 'label', 'tta_inference_latency', 'original_prediction_entropy', 'tta_prediction_entropy', 'prediction_entropy_decreased', 'prediction_entropy_decrease', 'tta_mean_class_probs', 'tta_all_class_probs', 'tta_all_class_entropy'],\n",
       "        num_rows: 21480\n",
       "    })\n",
       "    BOSS_Toxicity_ImplicitHate_Falcon_Insert: Dataset({\n",
       "        features: ['outcome', 'original_text', 'augmentations', 'original_predicted_class', 'tta_predicted_class', 'label', 'tta_inference_latency', 'original_prediction_entropy', 'tta_prediction_entropy', 'prediction_entropy_decreased', 'prediction_entropy_decrease', 'tta_mean_class_probs', 'tta_all_class_probs', 'tta_all_class_entropy'],\n",
       "        num_rows: 21480\n",
       "    })\n",
       "    BOSS_Toxicity_ImplicitHate_Falcon_Substitute: Dataset({\n",
       "        features: ['outcome', 'original_text', 'augmentations', 'original_predicted_class', 'tta_predicted_class', 'label', 'tta_inference_latency', 'original_prediction_entropy', 'tta_prediction_entropy', 'prediction_entropy_decreased', 'prediction_entropy_decrease', 'tta_mean_class_probs', 'tta_all_class_probs', 'tta_all_class_entropy'],\n",
       "        num_rows: 21480\n",
       "    })\n",
       "    BOSS_Toxicity_ImplicitHate_Falcon_Translate: Dataset({\n",
       "        features: ['outcome', 'original_text', 'augmentations', 'original_predicted_class', 'tta_predicted_class', 'label', 'tta_inference_latency', 'original_prediction_entropy', 'tta_prediction_entropy', 'prediction_entropy_decreased', 'prediction_entropy_decrease', 'tta_mean_class_probs', 'tta_all_class_probs', 'tta_all_class_entropy'],\n",
       "        num_rows: 21480\n",
       "    })\n",
       "    BOSS_Toxicity_AdvCivil_BERT_Insert: Dataset({\n",
       "        features: ['outcome', 'original_text', 'augmentations', 'original_predicted_class', 'tta_predicted_class', 'label', 'tta_inference_latency', 'original_prediction_entropy', 'tta_prediction_entropy', 'prediction_entropy_decreased', 'prediction_entropy_decrease', 'tta_mean_class_probs', 'tta_all_class_probs', 'tta_all_class_entropy'],\n",
       "        num_rows: 824\n",
       "    })\n",
       "    BOSS_Toxicity_AdvCivil_BERT_Substitute: Dataset({\n",
       "        features: ['outcome', 'original_text', 'augmentations', 'original_predicted_class', 'tta_predicted_class', 'label', 'tta_inference_latency', 'original_prediction_entropy', 'tta_prediction_entropy', 'prediction_entropy_decreased', 'prediction_entropy_decrease', 'tta_mean_class_probs', 'tta_all_class_probs', 'tta_all_class_entropy'],\n",
       "        num_rows: 824\n",
       "    })\n",
       "    BOSS_Toxicity_AdvCivil_BERT_Translate: Dataset({\n",
       "        features: ['outcome', 'original_text', 'augmentations', 'original_predicted_class', 'tta_predicted_class', 'label', 'tta_inference_latency', 'original_prediction_entropy', 'tta_prediction_entropy', 'prediction_entropy_decreased', 'prediction_entropy_decrease', 'tta_mean_class_probs', 'tta_all_class_probs', 'tta_all_class_entropy'],\n",
       "        num_rows: 824\n",
       "    })\n",
       "    BOSS_Toxicity_AdvCivil_BERT_Paraphrase: Dataset({\n",
       "        features: ['outcome', 'original_text', 'augmentations', 'original_predicted_class', 'tta_predicted_class', 'label', 'tta_inference_latency', 'original_prediction_entropy', 'tta_prediction_entropy', 'prediction_entropy_decreased', 'prediction_entropy_decrease', 'tta_mean_class_probs', 'tta_all_class_probs', 'tta_all_class_entropy'],\n",
       "        num_rows: 824\n",
       "    })\n",
       "    BOSS_Toxicity_AdvCivil_BERT_ICR: Dataset({\n",
       "        features: ['outcome', 'original_text', 'augmentations', 'original_predicted_class', 'tta_predicted_class', 'label', 'tta_inference_latency', 'original_prediction_entropy', 'tta_prediction_entropy', 'prediction_entropy_decreased', 'prediction_entropy_decrease', 'tta_mean_class_probs', 'tta_all_class_probs', 'tta_all_class_entropy'],\n",
       "        num_rows: 824\n",
       "    })\n",
       "    BOSS_Toxicity_AdvCivil_T5_Insert: Dataset({\n",
       "        features: ['outcome', 'original_text', 'augmentations', 'original_predicted_class', 'tta_predicted_class', 'label', 'tta_inference_latency', 'original_prediction_entropy', 'tta_prediction_entropy', 'prediction_entropy_decreased', 'prediction_entropy_decrease', 'tta_mean_class_probs', 'tta_all_class_probs', 'tta_all_class_entropy'],\n",
       "        num_rows: 824\n",
       "    })\n",
       "    BOSS_Toxicity_AdvCivil_T5_Substitute: Dataset({\n",
       "        features: ['outcome', 'original_text', 'augmentations', 'original_predicted_class', 'tta_predicted_class', 'label', 'tta_inference_latency', 'original_prediction_entropy', 'tta_prediction_entropy', 'prediction_entropy_decreased', 'prediction_entropy_decrease', 'tta_mean_class_probs', 'tta_all_class_probs', 'tta_all_class_entropy'],\n",
       "        num_rows: 824\n",
       "    })\n",
       "    BOSS_Toxicity_AdvCivil_T5_Translate: Dataset({\n",
       "        features: ['outcome', 'original_text', 'augmentations', 'original_predicted_class', 'tta_predicted_class', 'label', 'tta_inference_latency', 'original_prediction_entropy', 'tta_prediction_entropy', 'prediction_entropy_decreased', 'prediction_entropy_decrease', 'tta_mean_class_probs', 'tta_all_class_probs', 'tta_all_class_entropy'],\n",
       "        num_rows: 824\n",
       "    })\n",
       "    BOSS_Toxicity_AdvCivil_T5_Paraphrase: Dataset({\n",
       "        features: ['outcome', 'original_text', 'augmentations', 'original_predicted_class', 'tta_predicted_class', 'label', 'tta_inference_latency', 'original_prediction_entropy', 'tta_prediction_entropy', 'prediction_entropy_decreased', 'prediction_entropy_decrease', 'tta_mean_class_probs', 'tta_all_class_probs', 'tta_all_class_entropy'],\n",
       "        num_rows: 824\n",
       "    })\n",
       "    BOSS_Toxicity_AdvCivil_T5_ICR: Dataset({\n",
       "        features: ['outcome', 'original_text', 'augmentations', 'original_predicted_class', 'tta_predicted_class', 'label', 'tta_inference_latency', 'original_prediction_entropy', 'tta_prediction_entropy', 'prediction_entropy_decreased', 'prediction_entropy_decrease', 'tta_mean_class_probs', 'tta_all_class_probs', 'tta_all_class_entropy'],\n",
       "        num_rows: 824\n",
       "    })\n",
       "    BOSS_Toxicity_AdvCivil_Falcon_Insert: Dataset({\n",
       "        features: ['outcome', 'original_text', 'augmentations', 'original_predicted_class', 'tta_predicted_class', 'label', 'tta_inference_latency', 'original_prediction_entropy', 'tta_prediction_entropy', 'prediction_entropy_decreased', 'prediction_entropy_decrease', 'tta_mean_class_probs', 'tta_all_class_probs', 'tta_all_class_entropy'],\n",
       "        num_rows: 824\n",
       "    })\n",
       "    BOSS_Toxicity_AdvCivil_Falcon_Substitute: Dataset({\n",
       "        features: ['outcome', 'original_text', 'augmentations', 'original_predicted_class', 'tta_predicted_class', 'label', 'tta_inference_latency', 'original_prediction_entropy', 'tta_prediction_entropy', 'prediction_entropy_decreased', 'prediction_entropy_decrease', 'tta_mean_class_probs', 'tta_all_class_probs', 'tta_all_class_entropy'],\n",
       "        num_rows: 824\n",
       "    })\n",
       "    BOSS_Toxicity_AdvCivil_Falcon_Translate: Dataset({\n",
       "        features: ['outcome', 'original_text', 'augmentations', 'original_predicted_class', 'tta_predicted_class', 'label', 'tta_inference_latency', 'original_prediction_entropy', 'tta_prediction_entropy', 'prediction_entropy_decreased', 'prediction_entropy_decrease', 'tta_mean_class_probs', 'tta_all_class_probs', 'tta_all_class_entropy'],\n",
       "        num_rows: 824\n",
       "    })\n",
       "    BOSS_Toxicity_AdvCivil_Falcon_Paraphrase: Dataset({\n",
       "        features: ['outcome', 'original_text', 'augmentations', 'original_predicted_class', 'tta_predicted_class', 'label', 'tta_inference_latency', 'original_prediction_entropy', 'tta_prediction_entropy', 'prediction_entropy_decreased', 'prediction_entropy_decrease', 'tta_mean_class_probs', 'tta_all_class_probs', 'tta_all_class_entropy'],\n",
       "        num_rows: 824\n",
       "    })\n",
       "    BOSS_Toxicity_AdvCivil_Falcon_ICR: Dataset({\n",
       "        features: ['outcome', 'original_text', 'augmentations', 'original_predicted_class', 'tta_predicted_class', 'label', 'tta_inference_latency', 'original_prediction_entropy', 'tta_prediction_entropy', 'prediction_entropy_decreased', 'prediction_entropy_decrease', 'tta_mean_class_probs', 'tta_all_class_probs', 'tta_all_class_entropy'],\n",
       "        num_rows: 824\n",
       "    })\n",
       "    AgNewsTweets_ID_BERT_Insert: Dataset({\n",
       "        features: ['outcome', 'original_text', 'augmentations', 'original_predicted_class', 'tta_predicted_class', 'label', 'tta_inference_latency', 'original_prediction_entropy', 'tta_prediction_entropy', 'prediction_entropy_decreased', 'prediction_entropy_decrease', 'tta_mean_class_probs', 'tta_all_class_probs', 'tta_all_class_entropy'],\n",
       "        num_rows: 7600\n",
       "    })\n",
       "    AgNewsTweets_ID_BERT_Substitute: Dataset({\n",
       "        features: ['outcome', 'original_text', 'augmentations', 'original_predicted_class', 'tta_predicted_class', 'label', 'tta_inference_latency', 'original_prediction_entropy', 'tta_prediction_entropy', 'prediction_entropy_decreased', 'prediction_entropy_decrease', 'tta_mean_class_probs', 'tta_all_class_probs', 'tta_all_class_entropy'],\n",
       "        num_rows: 7600\n",
       "    })\n",
       "    AgNewsTweets_ID_BERT_Translate: Dataset({\n",
       "        features: ['outcome', 'original_text', 'augmentations', 'original_predicted_class', 'tta_predicted_class', 'label', 'tta_inference_latency', 'original_prediction_entropy', 'tta_prediction_entropy', 'prediction_entropy_decreased', 'prediction_entropy_decrease', 'tta_mean_class_probs', 'tta_all_class_probs', 'tta_all_class_entropy'],\n",
       "        num_rows: 7600\n",
       "    })\n",
       "    AgNewsTweets_ID_BERT_Paraphrase: Dataset({\n",
       "        features: ['outcome', 'original_text', 'augmentations', 'original_predicted_class', 'tta_predicted_class', 'label', 'tta_inference_latency', 'original_prediction_entropy', 'tta_prediction_entropy', 'prediction_entropy_decreased', 'prediction_entropy_decrease', 'tta_mean_class_probs', 'tta_all_class_probs', 'tta_all_class_entropy'],\n",
       "        num_rows: 7600\n",
       "    })\n",
       "    AgNewsTweets_ID_BERT_ICR: Dataset({\n",
       "        features: ['outcome', 'original_text', 'augmentations', 'original_predicted_class', 'tta_predicted_class', 'label', 'tta_inference_latency', 'original_prediction_entropy', 'tta_prediction_entropy', 'prediction_entropy_decreased', 'prediction_entropy_decrease', 'tta_mean_class_probs', 'tta_all_class_probs', 'tta_all_class_entropy'],\n",
       "        num_rows: 7600\n",
       "    })\n",
       "    AgNewsTweets_ID_T5_Insert: Dataset({\n",
       "        features: ['outcome', 'original_text', 'augmentations', 'original_predicted_class', 'tta_predicted_class', 'label', 'tta_inference_latency', 'original_prediction_entropy', 'tta_prediction_entropy', 'prediction_entropy_decreased', 'prediction_entropy_decrease', 'tta_mean_class_probs', 'tta_all_class_probs', 'tta_all_class_entropy'],\n",
       "        num_rows: 7600\n",
       "    })\n",
       "    AgNewsTweets_ID_T5_Substitute: Dataset({\n",
       "        features: ['outcome', 'original_text', 'augmentations', 'original_predicted_class', 'tta_predicted_class', 'label', 'tta_inference_latency', 'original_prediction_entropy', 'tta_prediction_entropy', 'prediction_entropy_decreased', 'prediction_entropy_decrease', 'tta_mean_class_probs', 'tta_all_class_probs', 'tta_all_class_entropy'],\n",
       "        num_rows: 7600\n",
       "    })\n",
       "    AgNewsTweets_ID_T5_Translate: Dataset({\n",
       "        features: ['outcome', 'original_text', 'augmentations', 'original_predicted_class', 'tta_predicted_class', 'label', 'tta_inference_latency', 'original_prediction_entropy', 'tta_prediction_entropy', 'prediction_entropy_decreased', 'prediction_entropy_decrease', 'tta_mean_class_probs', 'tta_all_class_probs', 'tta_all_class_entropy'],\n",
       "        num_rows: 7600\n",
       "    })\n",
       "    AgNewsTweets_ID_T5_Paraphrase: Dataset({\n",
       "        features: ['outcome', 'original_text', 'augmentations', 'original_predicted_class', 'tta_predicted_class', 'label', 'tta_inference_latency', 'original_prediction_entropy', 'tta_prediction_entropy', 'prediction_entropy_decreased', 'prediction_entropy_decrease', 'tta_mean_class_probs', 'tta_all_class_probs', 'tta_all_class_entropy'],\n",
       "        num_rows: 7600\n",
       "    })\n",
       "    AgNewsTweets_ID_T5_ICR: Dataset({\n",
       "        features: ['outcome', 'original_text', 'augmentations', 'original_predicted_class', 'tta_predicted_class', 'label', 'tta_inference_latency', 'original_prediction_entropy', 'tta_prediction_entropy', 'prediction_entropy_decreased', 'prediction_entropy_decrease', 'tta_mean_class_probs', 'tta_all_class_probs', 'tta_all_class_entropy'],\n",
       "        num_rows: 7600\n",
       "    })\n",
       "    AgNewsTweets_ID_Falcon_Insert: Dataset({\n",
       "        features: ['outcome', 'original_text', 'augmentations', 'original_predicted_class', 'tta_predicted_class', 'label', 'tta_inference_latency', 'original_prediction_entropy', 'tta_prediction_entropy', 'prediction_entropy_decreased', 'prediction_entropy_decrease', 'tta_mean_class_probs', 'tta_all_class_probs', 'tta_all_class_entropy'],\n",
       "        num_rows: 7600\n",
       "    })\n",
       "    AgNewsTweets_ID_Falcon_Substitute: Dataset({\n",
       "        features: ['outcome', 'original_text', 'augmentations', 'original_predicted_class', 'tta_predicted_class', 'label', 'tta_inference_latency', 'original_prediction_entropy', 'tta_prediction_entropy', 'prediction_entropy_decreased', 'prediction_entropy_decrease', 'tta_mean_class_probs', 'tta_all_class_probs', 'tta_all_class_entropy'],\n",
       "        num_rows: 7600\n",
       "    })\n",
       "    AgNewsTweets_ID_Falcon_Translate: Dataset({\n",
       "        features: ['outcome', 'original_text', 'augmentations', 'original_predicted_class', 'tta_predicted_class', 'label', 'tta_inference_latency', 'original_prediction_entropy', 'tta_prediction_entropy', 'prediction_entropy_decreased', 'prediction_entropy_decrease', 'tta_mean_class_probs', 'tta_all_class_probs', 'tta_all_class_entropy'],\n",
       "        num_rows: 7600\n",
       "    })\n",
       "    AgNewsTweets_ID_Falcon_Paraphrase: Dataset({\n",
       "        features: ['outcome', 'original_text', 'augmentations', 'original_predicted_class', 'tta_predicted_class', 'label', 'tta_inference_latency', 'original_prediction_entropy', 'tta_prediction_entropy', 'prediction_entropy_decreased', 'prediction_entropy_decrease', 'tta_mean_class_probs', 'tta_all_class_probs', 'tta_all_class_entropy'],\n",
       "        num_rows: 7600\n",
       "    })\n",
       "    AgNewsTweets_ID_Falcon_ICR: Dataset({\n",
       "        features: ['outcome', 'original_text', 'augmentations', 'original_predicted_class', 'tta_predicted_class', 'label', 'tta_inference_latency', 'original_prediction_entropy', 'tta_prediction_entropy', 'prediction_entropy_decreased', 'prediction_entropy_decrease', 'tta_mean_class_probs', 'tta_all_class_probs', 'tta_all_class_entropy'],\n",
       "        num_rows: 7600\n",
       "    })\n",
       "    AgNewsTweets_Tweets_BERT_Insert: Dataset({\n",
       "        features: ['outcome', 'original_text', 'augmentations', 'original_predicted_class', 'tta_predicted_class', 'label', 'tta_inference_latency', 'original_prediction_entropy', 'tta_prediction_entropy', 'prediction_entropy_decreased', 'prediction_entropy_decrease', 'tta_mean_class_probs', 'tta_all_class_probs', 'tta_all_class_entropy'],\n",
       "        num_rows: 7600\n",
       "    })\n",
       "    AgNewsTweets_Tweets_BERT_Substitute: Dataset({\n",
       "        features: ['outcome', 'original_text', 'augmentations', 'original_predicted_class', 'tta_predicted_class', 'label', 'tta_inference_latency', 'original_prediction_entropy', 'tta_prediction_entropy', 'prediction_entropy_decreased', 'prediction_entropy_decrease', 'tta_mean_class_probs', 'tta_all_class_probs', 'tta_all_class_entropy'],\n",
       "        num_rows: 7600\n",
       "    })\n",
       "    AgNewsTweets_Tweets_BERT_Translate: Dataset({\n",
       "        features: ['outcome', 'original_text', 'augmentations', 'original_predicted_class', 'tta_predicted_class', 'label', 'tta_inference_latency', 'original_prediction_entropy', 'tta_prediction_entropy', 'prediction_entropy_decreased', 'prediction_entropy_decrease', 'tta_mean_class_probs', 'tta_all_class_probs', 'tta_all_class_entropy'],\n",
       "        num_rows: 7600\n",
       "    })\n",
       "    AgNewsTweets_Tweets_BERT_Paraphrase: Dataset({\n",
       "        features: ['outcome', 'original_text', 'augmentations', 'original_predicted_class', 'tta_predicted_class', 'label', 'tta_inference_latency', 'original_prediction_entropy', 'tta_prediction_entropy', 'prediction_entropy_decreased', 'prediction_entropy_decrease', 'tta_mean_class_probs', 'tta_all_class_probs', 'tta_all_class_entropy'],\n",
       "        num_rows: 7600\n",
       "    })\n",
       "    AgNewsTweets_Tweets_BERT_ICR: Dataset({\n",
       "        features: ['outcome', 'original_text', 'augmentations', 'original_predicted_class', 'tta_predicted_class', 'label', 'tta_inference_latency', 'original_prediction_entropy', 'tta_prediction_entropy', 'prediction_entropy_decreased', 'prediction_entropy_decrease', 'tta_mean_class_probs', 'tta_all_class_probs', 'tta_all_class_entropy'],\n",
       "        num_rows: 7600\n",
       "    })\n",
       "    AgNewsTweets_Tweets_T5_Insert: Dataset({\n",
       "        features: ['outcome', 'original_text', 'augmentations', 'original_predicted_class', 'tta_predicted_class', 'label', 'tta_inference_latency', 'original_prediction_entropy', 'tta_prediction_entropy', 'prediction_entropy_decreased', 'prediction_entropy_decrease', 'tta_mean_class_probs', 'tta_all_class_probs', 'tta_all_class_entropy'],\n",
       "        num_rows: 7600\n",
       "    })\n",
       "    AgNewsTweets_Tweets_T5_Substitute: Dataset({\n",
       "        features: ['outcome', 'original_text', 'augmentations', 'original_predicted_class', 'tta_predicted_class', 'label', 'tta_inference_latency', 'original_prediction_entropy', 'tta_prediction_entropy', 'prediction_entropy_decreased', 'prediction_entropy_decrease', 'tta_mean_class_probs', 'tta_all_class_probs', 'tta_all_class_entropy'],\n",
       "        num_rows: 7600\n",
       "    })\n",
       "    AgNewsTweets_Tweets_T5_Translate: Dataset({\n",
       "        features: ['outcome', 'original_text', 'augmentations', 'original_predicted_class', 'tta_predicted_class', 'label', 'tta_inference_latency', 'original_prediction_entropy', 'tta_prediction_entropy', 'prediction_entropy_decreased', 'prediction_entropy_decrease', 'tta_mean_class_probs', 'tta_all_class_probs', 'tta_all_class_entropy'],\n",
       "        num_rows: 7600\n",
       "    })\n",
       "    AgNewsTweets_Tweets_T5_Paraphrase: Dataset({\n",
       "        features: ['outcome', 'original_text', 'augmentations', 'original_predicted_class', 'tta_predicted_class', 'label', 'tta_inference_latency', 'original_prediction_entropy', 'tta_prediction_entropy', 'prediction_entropy_decreased', 'prediction_entropy_decrease', 'tta_mean_class_probs', 'tta_all_class_probs', 'tta_all_class_entropy'],\n",
       "        num_rows: 7600\n",
       "    })\n",
       "    AgNewsTweets_Tweets_T5_ICR: Dataset({\n",
       "        features: ['outcome', 'original_text', 'augmentations', 'original_predicted_class', 'tta_predicted_class', 'label', 'tta_inference_latency', 'original_prediction_entropy', 'tta_prediction_entropy', 'prediction_entropy_decreased', 'prediction_entropy_decrease', 'tta_mean_class_probs', 'tta_all_class_probs', 'tta_all_class_entropy'],\n",
       "        num_rows: 7600\n",
       "    })\n",
       "    AgNewsTweets_Tweets_Falcon_Insert: Dataset({\n",
       "        features: ['outcome', 'original_text', 'augmentations', 'original_predicted_class', 'tta_predicted_class', 'label', 'tta_inference_latency', 'original_prediction_entropy', 'tta_prediction_entropy', 'prediction_entropy_decreased', 'prediction_entropy_decrease', 'tta_mean_class_probs', 'tta_all_class_probs', 'tta_all_class_entropy'],\n",
       "        num_rows: 7600\n",
       "    })\n",
       "    AgNewsTweets_Tweets_Falcon_Substitute: Dataset({\n",
       "        features: ['outcome', 'original_text', 'augmentations', 'original_predicted_class', 'tta_predicted_class', 'label', 'tta_inference_latency', 'original_prediction_entropy', 'tta_prediction_entropy', 'prediction_entropy_decreased', 'prediction_entropy_decrease', 'tta_mean_class_probs', 'tta_all_class_probs', 'tta_all_class_entropy'],\n",
       "        num_rows: 7600\n",
       "    })\n",
       "    AgNewsTweets_Tweets_Falcon_Translate: Dataset({\n",
       "        features: ['outcome', 'original_text', 'augmentations', 'original_predicted_class', 'tta_predicted_class', 'label', 'tta_inference_latency', 'original_prediction_entropy', 'tta_prediction_entropy', 'prediction_entropy_decreased', 'prediction_entropy_decrease', 'tta_mean_class_probs', 'tta_all_class_probs', 'tta_all_class_entropy'],\n",
       "        num_rows: 7600\n",
       "    })\n",
       "    AgNewsTweets_Tweets_Falcon_Paraphrase: Dataset({\n",
       "        features: ['outcome', 'original_text', 'augmentations', 'original_predicted_class', 'tta_predicted_class', 'label', 'tta_inference_latency', 'original_prediction_entropy', 'tta_prediction_entropy', 'prediction_entropy_decreased', 'prediction_entropy_decrease', 'tta_mean_class_probs', 'tta_all_class_probs', 'tta_all_class_entropy'],\n",
       "        num_rows: 7600\n",
       "    })\n",
       "})"
      ]
     },
     "execution_count": 9,
     "metadata": {},
     "output_type": "execute_result"
    }
   ],
   "source": [
    "combined_datset = DatasetDict()\n",
    "for split in tqdm(local_paths):\n",
    "    # print(f\"Processing {split}\")\n",
    "    path = local_paths[split]\n",
    "    json_logs = json.load(open(path))\n",
    "    frame = pd.DataFrame(data=json_logs[\"data\"], columns=json_logs[\"columns\"])\n",
    "    frame = frame.rename(columns=column_renaming)\n",
    "    frame = frame.drop(columns=columns_to_drop)\n",
    "    frame[\"augmentations\"] = frame[\"augmentations\"].apply(parse_augmentations)\n",
    "\n",
    "    if \"BERT\" not in split:\n",
    "        for col in columns_order:\n",
    "            if col not in frame.columns:\n",
    "                if col == \"original_prediction_entropy\" or col == \"tta_prediction_entropy\" or col == \"prediction_entropy_decrease\":\n",
    "                    frame[col] = float(\"nan\")\n",
    "                elif col == \"prediction_entropy_decreased\":\n",
    "                    frame[col] = False\n",
    "                elif col == \"tta_all_class_probs\":\n",
    "                    frame[col] = frame.apply(lambda x: [[float(0.0)]], axis=1)\n",
    "                elif \"probs\" in col:\n",
    "                    frame[col] = frame.apply(lambda x: [float(0.0)], axis=1)\n",
    "                elif col == \"tta_all_class_entropy\":\n",
    "                    frame[col] = frame.apply(lambda x: [float(0.0)], axis=1)\n",
    "\n",
    "\n",
    "    frame = frame[columns_order]\n",
    "    combined_datset[split] = Dataset.from_pandas(frame)\n",
    "\n",
    "combined_datset"
   ]
  },
  {
   "cell_type": "code",
   "execution_count": 10,
   "metadata": {},
   "outputs": [
    {
     "name": "stderr",
     "output_type": "stream",
     "text": [
      "Creating parquet from Arrow format: 100%|██████████| 39/39 [00:00<00:00, 98.25ba/s]\n",
      "Pushing dataset shards to the dataset hub: 100%|██████████| 1/1 [00:02<00:00,  2.55s/it]\n",
      "Creating parquet from Arrow format: 100%|██████████| 39/39 [00:00<00:00, 107.22ba/s]\n",
      "Pushing dataset shards to the dataset hub: 100%|██████████| 1/1 [00:01<00:00,  1.80s/it]\n",
      "Creating parquet from Arrow format: 100%|██████████| 39/39 [00:00<00:00, 139.69ba/s]\n",
      "Pushing dataset shards to the dataset hub: 100%|██████████| 1/1 [00:01<00:00,  1.59s/it]\n",
      "Creating parquet from Arrow format: 100%|██████████| 39/39 [00:00<00:00, 137.60ba/s]\n",
      "Pushing dataset shards to the dataset hub: 100%|██████████| 1/1 [00:01<00:00,  1.86s/it]\n",
      "Creating parquet from Arrow format: 100%|██████████| 39/39 [00:00<00:00, 180.04ba/s]\n",
      "Pushing dataset shards to the dataset hub: 100%|██████████| 1/1 [00:01<00:00,  1.47s/it]\n",
      "Creating parquet from Arrow format: 100%|██████████| 39/39 [00:00<00:00, 136.80ba/s]\n",
      "Pushing dataset shards to the dataset hub: 100%|██████████| 1/1 [00:02<00:00,  2.07s/it]\n",
      "Creating parquet from Arrow format: 100%|██████████| 39/39 [00:00<00:00, 127.75ba/s]\n",
      "Pushing dataset shards to the dataset hub: 100%|██████████| 1/1 [00:02<00:00,  2.87s/it]\n",
      "Creating parquet from Arrow format: 100%|██████████| 39/39 [00:00<00:00, 160.38ba/s]\n",
      "Pushing dataset shards to the dataset hub: 100%|██████████| 1/1 [00:01<00:00,  1.87s/it]\n",
      "Creating parquet from Arrow format: 100%|██████████| 2/2 [00:00<00:00, 171.96ba/s]\n",
      "Pushing dataset shards to the dataset hub: 100%|██████████| 1/1 [00:00<00:00,  1.93it/s]\n",
      "Creating parquet from Arrow format: 100%|██████████| 2/2 [00:00<00:00, 196.80ba/s]\n",
      "Pushing dataset shards to the dataset hub: 100%|██████████| 1/1 [00:00<00:00,  2.02it/s]\n",
      "Creating parquet from Arrow format: 100%|██████████| 2/2 [00:00<00:00, 211.86ba/s]\n",
      "Pushing dataset shards to the dataset hub: 100%|██████████| 1/1 [00:00<00:00,  1.88it/s]\n",
      "Creating parquet from Arrow format: 100%|██████████| 2/2 [00:00<00:00, 183.59ba/s]\n",
      "Pushing dataset shards to the dataset hub: 100%|██████████| 1/1 [00:00<00:00,  1.84it/s]\n",
      "Creating parquet from Arrow format: 100%|██████████| 2/2 [00:00<00:00, 208.21ba/s]\n",
      "Pushing dataset shards to the dataset hub: 100%|██████████| 1/1 [00:00<00:00,  1.18it/s]\n",
      "Creating parquet from Arrow format: 100%|██████████| 2/2 [00:00<00:00, 196.57ba/s]\n",
      "Pushing dataset shards to the dataset hub: 100%|██████████| 1/1 [00:00<00:00,  1.68it/s]\n",
      "Creating parquet from Arrow format: 100%|██████████| 2/2 [00:00<00:00, 297.95ba/s]\n",
      "Pushing dataset shards to the dataset hub: 100%|██████████| 1/1 [00:00<00:00,  1.79it/s]\n",
      "Creating parquet from Arrow format: 100%|██████████| 2/2 [00:00<00:00, 317.53ba/s]\n",
      "Pushing dataset shards to the dataset hub: 100%|██████████| 1/1 [00:00<00:00,  1.83it/s]\n",
      "Creating parquet from Arrow format: 100%|██████████| 2/2 [00:00<00:00, 313.94ba/s]\n",
      "Pushing dataset shards to the dataset hub: 100%|██████████| 1/1 [00:00<00:00,  1.50it/s]\n",
      "Creating parquet from Arrow format: 100%|██████████| 2/2 [00:00<00:00, 283.29ba/s]\n",
      "Pushing dataset shards to the dataset hub: 100%|██████████| 1/1 [00:01<00:00,  1.10s/it]\n",
      "Creating parquet from Arrow format: 100%|██████████| 2/2 [00:00<00:00, 259.64ba/s]\n",
      "Pushing dataset shards to the dataset hub: 100%|██████████| 1/1 [00:00<00:00,  1.28it/s]\n",
      "Creating parquet from Arrow format: 100%|██████████| 2/2 [00:00<00:00, 267.19ba/s]\n",
      "Pushing dataset shards to the dataset hub: 100%|██████████| 1/1 [00:00<00:00,  1.43it/s]\n",
      "Creating parquet from Arrow format: 100%|██████████| 2/2 [00:00<00:00, 306.31ba/s]\n",
      "Pushing dataset shards to the dataset hub: 100%|██████████| 1/1 [00:00<00:00,  1.78it/s]\n",
      "Creating parquet from Arrow format: 100%|██████████| 2/2 [00:00<00:00, 333.62ba/s]\n",
      "Pushing dataset shards to the dataset hub: 100%|██████████| 1/1 [00:01<00:00,  1.14s/it]\n",
      "Creating parquet from Arrow format: 100%|██████████| 2/2 [00:00<00:00, 311.38ba/s]\n",
      "Pushing dataset shards to the dataset hub: 100%|██████████| 1/1 [00:00<00:00,  1.40it/s]\n",
      "Creating parquet from Arrow format: 100%|██████████| 21/21 [00:00<00:00, 111.27ba/s]\n",
      "Pushing dataset shards to the dataset hub: 100%|██████████| 1/1 [00:01<00:00,  1.24s/it]\n",
      "Creating parquet from Arrow format: 100%|██████████| 21/21 [00:00<00:00, 106.22ba/s]\n",
      "Pushing dataset shards to the dataset hub: 100%|██████████| 1/1 [00:01<00:00,  1.11s/it]\n",
      "Creating parquet from Arrow format: 100%|██████████| 21/21 [00:00<00:00, 117.77ba/s]\n",
      "Pushing dataset shards to the dataset hub: 100%|██████████| 1/1 [00:00<00:00,  1.12it/s]\n",
      "Creating parquet from Arrow format: 100%|██████████| 21/21 [00:00<00:00, 131.24ba/s]\n",
      "Pushing dataset shards to the dataset hub: 100%|██████████| 1/1 [00:01<00:00,  1.06s/it]\n",
      "Creating parquet from Arrow format: 100%|██████████| 21/21 [00:00<00:00, 134.27ba/s]\n",
      "Pushing dataset shards to the dataset hub: 100%|██████████| 1/1 [00:01<00:00,  1.18s/it]\n",
      "Creating parquet from Arrow format: 100%|██████████| 21/21 [00:00<00:00, 188.81ba/s]\n",
      "Pushing dataset shards to the dataset hub: 100%|██████████| 1/1 [00:01<00:00,  1.58s/it]\n",
      "Creating parquet from Arrow format: 100%|██████████| 21/21 [00:00<00:00, 211.56ba/s]\n"
     ]
    }
   ],
   "source": [
    "combined_datset.push_to_hub(\"LLM-TTA-Augmentation-Logs\")"
   ]
  }
 ],
 "metadata": {
  "kernelspec": {
   "display_name": "eval-aug",
   "language": "python",
   "name": "python3"
  },
  "language_info": {
   "codemirror_mode": {
    "name": "ipython",
    "version": 3
   },
   "file_extension": ".py",
   "mimetype": "text/x-python",
   "name": "python",
   "nbconvert_exporter": "python",
   "pygments_lexer": "ipython3",
   "version": "3.10.13"
  }
 },
 "nbformat": 4,
 "nbformat_minor": 2
}
