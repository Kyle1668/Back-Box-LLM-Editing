{
 "cells": [
  {
   "cell_type": "code",
   "execution_count": 2,
   "metadata": {},
   "outputs": [
    {
     "name": "stderr",
     "output_type": "stream",
     "text": [
      "/home/kyobrien/conda/envs/eval-aug/lib/python3.10/site-packages/tqdm/auto.py:21: TqdmWarning: IProgress not found. Please update jupyter and ipywidgets. See https://ipywidgets.readthedocs.io/en/stable/user_install.html\n",
      "  from .autonotebook import tqdm as notebook_tqdm\n"
     ]
    }
   ],
   "source": [
    "from datasets import Dataset, DatasetDict\n",
    "from tqdm import tqdm\n",
    "import pandas as pd\n",
    "import json\n",
    "import wandb\n",
    "import os"
   ]
  },
  {
   "cell_type": "code",
   "execution_count": 3,
   "metadata": {},
   "outputs": [
    {
     "name": "stdout",
     "output_type": "stream",
     "text": [
      "{\n",
      "    \"BOSS_Sentiment_ID_BERT_Insert\": \"\",\n",
      "    \"BOSS_Sentiment_ID_BERT_Substitute\": \"\",\n",
      "    \"BOSS_Sentiment_ID_BERT_Translate\": \"\",\n",
      "    \"BOSS_Sentiment_ID_BERT_Paraphrase\": \"\",\n",
      "    \"BOSS_Sentiment_ID_BERT_ICR\": \"run-yanx1dus-validation_stabilityaiStableBeluga7b_random_16_Kyle1668bosssentimentbertbaseuncased_style_logs:v0\",\n",
      "    \"BOSS_Sentiment_ID_T5_Insert\": \"\",\n",
      "    \"BOSS_Sentiment_ID_T5_Substitute\": \"\",\n",
      "    \"BOSS_Sentiment_ID_T5_Translate\": \"\",\n",
      "    \"BOSS_Sentiment_ID_T5_Paraphrase\": \"\",\n",
      "    \"BOSS_Sentiment_ID_T5_ICR\": \"\",\n",
      "    \"BOSS_Sentiment_ID_Falcon_Insert\": \"\",\n",
      "    \"BOSS_Sentiment_ID_Falcon_Substitute\": \"\",\n",
      "    \"BOSS_Sentiment_ID_Falcon_Translate\": \"\",\n",
      "    \"BOSS_Sentiment_ID_Falcon_Paraphrase\": \"\",\n",
      "    \"BOSS_Sentiment_ID_Falcon_ICR\": \"\",\n",
      "    \"BOSS_Sentiment_SST-5_BERT_Insert\": \"run-hhtbcw8x-sst5_aug_insert_random_16_Kyle1668bosssentimentbertbaseuncased_style_logs:v0\",\n",
      "    \"BOSS_Sentiment_SST-5_BERT_Substitute\": \"run-hhtbcw8x-sst5_aug_substitute_random_16_Kyle1668bosssentimentbertbaseuncased_style_logs:v0\",\n",
      "    \"BOSS_Sentiment_SST-5_BERT_Translate\": \"run-hhtbcw8x-sst5_aug_backtranslate_random_16_Kyle1668bosssentimentbertbaseuncased_style_logs:v0\",\n",
      "    \"BOSS_Sentiment_SST-5_BERT_Paraphrase\": \"run-hhtbcw8x-sst5_stabilityaiStableBeluga7b_random_0_Kyle1668bosssentimentbertbaseuncased_style_logs:v0\",\n",
      "    \"BOSS_Sentiment_SST-5_BERT_ICR\": \"run-hhtbcw8x-sst5_stabilityaiStableBeluga7b_random_16_Kyle1668bosssentimentbertbaseuncased_style_logs:v0\",\n",
      "    \"BOSS_Sentiment_SST-5_T5_Insert\": \"run-hhtbcw8x-sst5_aug_insert_random_16_Kyle1668bosssentimentt5large_style_logs:v0\",\n",
      "    \"BOSS_Sentiment_SST-5_T5_Substitute\": \"run-hhtbcw8x-sst5_aug_substitute_random_16_Kyle1668bosssentimentt5large_style_logs:v0\",\n",
      "    \"BOSS_Sentiment_SST-5_T5_Translate\": \"run-hhtbcw8x-sst5_aug_backtranslate_random_16_Kyle1668bosssentimentt5large_style_logs:v0\",\n",
      "    \"BOSS_Sentiment_SST-5_T5_Paraphrase\": \"run-hhtbcw8x-sst5_stabilityaiStableBeluga7b_random_0_Kyle1668bosssentimentt5large_style_logs:v0\",\n",
      "    \"BOSS_Sentiment_SST-5_T5_ICR\": \"run-hhtbcw8x-sst5_stabilityaiStableBeluga7b_random_16_Kyle1668bosssentimentt5large_style_logs:v0\",\n",
      "    \"BOSS_Sentiment_SST-5_Falcon_Insert\": \"\",\n",
      "    \"BOSS_Sentiment_SST-5_Falcon_Substitute\": \"\",\n",
      "    \"BOSS_Sentiment_SST-5_Falcon_Translate\": \"\",\n",
      "    \"BOSS_Sentiment_SST-5_Falcon_Paraphrase\": \"\",\n",
      "    \"BOSS_Sentiment_SST-5_Falcon_ICR\": \"\",\n",
      "    \"BOSS_Sentiment_SemEval_BERT_Insert\": \"run-hhtbcw8x-semval_aug_insert_random_16_Kyle1668bosssentimentbertbaseuncased_style_logs:v0\",\n",
      "    \"BOSS_Sentiment_SemEval_BERT_Substitute\": \"run-hhtbcw8x-semval_aug_substitute_random_16_Kyle1668bosssentimentbertbaseuncased_style_logs:v0\",\n",
      "    \"BOSS_Sentiment_SemEval_BERT_Translate\": \"run-hhtbcw8x-semval_aug_backtranslate_random_16_Kyle1668bosssentimentbertbaseuncased_style_logs:v0\",\n",
      "    \"BOSS_Sentiment_SemEval_BERT_Paraphrase\": \"run-hhtbcw8x-semval_stabilityaiStableBeluga7b_random_0_Kyle1668bosssentimentbertbaseuncased_style_logs:v0\",\n",
      "    \"BOSS_Sentiment_SemEval_BERT_ICR\": \"run-hhtbcw8x-semval_stabilityaiStableBeluga7b_random_16_Kyle1668bosssentimentbertbaseuncased_style_logs:v0\",\n",
      "    \"BOSS_Sentiment_SemEval_T5_Insert\": \"run-hhtbcw8x-semval_aug_insert_random_16_Kyle1668bosssentimentt5large_style_logs:v0\",\n",
      "    \"BOSS_Sentiment_SemEval_T5_Substitute\": \"run-hhtbcw8x-semval_aug_substitute_random_16_Kyle1668bosssentimentt5large_style_logs:v0\",\n",
      "    \"BOSS_Sentiment_SemEval_T5_Translate\": \"run-hhtbcw8x-semval_aug_backtranslate_random_16_Kyle1668bosssentimentt5large_style_logs:v0\",\n",
      "    \"BOSS_Sentiment_SemEval_T5_Paraphrase\": \"run-hhtbcw8x-semval_stabilityaiStableBeluga7b_random_0_Kyle1668bosssentimentt5large_style_logs:v0\",\n",
      "    \"BOSS_Sentiment_SemEval_T5_ICR\": \"run-hhtbcw8x-semval_stabilityaiStableBeluga7b_random_16_Kyle1668bosssentimentt5large_style_logs:v0\",\n",
      "    \"BOSS_Sentiment_SemEval_Falcon_Insert\": \"\",\n",
      "    \"BOSS_Sentiment_SemEval_Falcon_Substitute\": \"\",\n",
      "    \"BOSS_Sentiment_SemEval_Falcon_Translate\": \"\",\n",
      "    \"BOSS_Sentiment_SemEval_Falcon_Paraphrase\": \"\",\n",
      "    \"BOSS_Sentiment_SemEval_Falcon_ICR\": \"\",\n",
      "    \"BOSS_Sentiment_Dynasent_BERT_Insert\": \"run-hhtbcw8x-dynasent_aug_insert_random_16_Kyle1668bosssentimentbertbaseuncased_style_logs:v0\",\n",
      "    \"BOSS_Sentiment_Dynasent_BERT_Substitute\": \"run-hhtbcw8x-dynasent_aug_substitute_random_16_Kyle1668bosssentimentbertbaseuncased_style_logs:v0\",\n",
      "    \"BOSS_Sentiment_Dynasent_BERT_Translate\": \"run-hhtbcw8x-dynasent_aug_backtranslate_random_16_Kyle1668bosssentimentbertbaseuncased_style_logs:v0\",\n",
      "    \"BOSS_Sentiment_Dynasent_BERT_Paraphrase\": \"run-hhtbcw8x-dynasent_stabilityaiStableBeluga7b_random_0_Kyle1668bosssentimentbertbaseuncased_style_logs:v0\",\n",
      "    \"BOSS_Sentiment_Dynasent_BERT_ICR\": \"run-hhtbcw8x-dynasent_stabilityaiStableBeluga7b_random_16_Kyle1668bosssentimentbertbaseuncased_style_logs:v0\",\n",
      "    \"BOSS_Sentiment_Dynasent_T5_Insert\": \"run-hhtbcw8x-dynasent_aug_insert_random_16_Kyle1668bosssentimentt5large_style_logs:v0\",\n",
      "    \"BOSS_Sentiment_Dynasent_T5_Substitute\": \"run-hhtbcw8x-dynasent_aug_substitute_random_16_Kyle1668bosssentimentt5large_style_logs:v0\",\n",
      "    \"BOSS_Sentiment_Dynasent_T5_Translate\": \"run-hhtbcw8x-dynasent_aug_backtranslate_random_16_Kyle1668bosssentimentt5large_style_logs:v0\",\n",
      "    \"BOSS_Sentiment_Dynasent_T5_Paraphrase\": \"run-hhtbcw8x-dynasent_stabilityaiStableBeluga7b_random_0_Kyle1668bosssentimentt5large_style_logs:v0\",\n",
      "    \"BOSS_Sentiment_Dynasent_T5_ICR\": \"run-hhtbcw8x-dynasent_stabilityaiStableBeluga7b_random_16_Kyle1668bosssentimentt5large_style_logs:v0\",\n",
      "    \"BOSS_Sentiment_Dynasent_Falcon_Insert\": \"\",\n",
      "    \"BOSS_Sentiment_Dynasent_Falcon_Substitute\": \"\",\n",
      "    \"BOSS_Sentiment_Dynasent_Falcon_Translate\": \"\",\n",
      "    \"BOSS_Sentiment_Dynasent_Falcon_Paraphrase\": \"\",\n",
      "    \"BOSS_Sentiment_Dynasent_Falcon_ICR\": \"\",\n",
      "    \"BOSS_Toxicity_ID_BERT_Insert\": \"\",\n",
      "    \"BOSS_Toxicity_ID_BERT_Substitute\": \"\",\n",
      "    \"BOSS_Toxicity_ID_BERT_Translate\": \"\",\n",
      "    \"BOSS_Toxicity_ID_BERT_Paraphrase\": \"\",\n",
      "    \"BOSS_Toxicity_ID_BERT_ICR\": \"\",\n",
      "    \"BOSS_Toxicity_ID_T5_Insert\": \"\",\n",
      "    \"BOSS_Toxicity_ID_T5_Substitute\": \"\",\n",
      "    \"BOSS_Toxicity_ID_T5_Translate\": \"\",\n",
      "    \"BOSS_Toxicity_ID_T5_Paraphrase\": \"\",\n",
      "    \"BOSS_Toxicity_ID_T5_ICR\": \"\",\n",
      "    \"BOSS_Toxicity_ID_Falcon_Insert\": \"\",\n",
      "    \"BOSS_Toxicity_ID_Falcon_Substitute\": \"\",\n",
      "    \"BOSS_Toxicity_ID_Falcon_Translate\": \"\",\n",
      "    \"BOSS_Toxicity_ID_Falcon_Paraphrase\": \"\",\n",
      "    \"BOSS_Toxicity_ID_Falcon_ICR\": \"\",\n",
      "    \"BOSS_Toxicity_Toxigen_BERT_Insert\": \"\",\n",
      "    \"BOSS_Toxicity_Toxigen_BERT_Substitute\": \"\",\n",
      "    \"BOSS_Toxicity_Toxigen_BERT_Translate\": \"\",\n",
      "    \"BOSS_Toxicity_Toxigen_BERT_Paraphrase\": \"\",\n",
      "    \"BOSS_Toxicity_Toxigen_BERT_ICR\": \"\",\n",
      "    \"BOSS_Toxicity_Toxigen_T5_Insert\": \"\",\n",
      "    \"BOSS_Toxicity_Toxigen_T5_Substitute\": \"\",\n",
      "    \"BOSS_Toxicity_Toxigen_T5_Translate\": \"\",\n",
      "    \"BOSS_Toxicity_Toxigen_T5_Paraphrase\": \"\",\n",
      "    \"BOSS_Toxicity_Toxigen_T5_ICR\": \"\",\n",
      "    \"BOSS_Toxicity_Toxigen_Falcon_Insert\": \"\",\n",
      "    \"BOSS_Toxicity_Toxigen_Falcon_Substitute\": \"\",\n",
      "    \"BOSS_Toxicity_Toxigen_Falcon_Translate\": \"\",\n",
      "    \"BOSS_Toxicity_Toxigen_Falcon_Paraphrase\": \"\",\n",
      "    \"BOSS_Toxicity_Toxigen_Falcon_ICR\": \"\",\n",
      "    \"BOSS_Toxicity_ImplicitHate_BERT_Insert\": \"\",\n",
      "    \"BOSS_Toxicity_ImplicitHate_BERT_Substitute\": \"\",\n",
      "    \"BOSS_Toxicity_ImplicitHate_BERT_Translate\": \"\",\n",
      "    \"BOSS_Toxicity_ImplicitHate_BERT_Paraphrase\": \"\",\n",
      "    \"BOSS_Toxicity_ImplicitHate_BERT_ICR\": \"\",\n",
      "    \"BOSS_Toxicity_ImplicitHate_T5_Insert\": \"\",\n",
      "    \"BOSS_Toxicity_ImplicitHate_T5_Substitute\": \"\",\n",
      "    \"BOSS_Toxicity_ImplicitHate_T5_Translate\": \"\",\n",
      "    \"BOSS_Toxicity_ImplicitHate_T5_Paraphrase\": \"\",\n",
      "    \"BOSS_Toxicity_ImplicitHate_T5_ICR\": \"\",\n",
      "    \"BOSS_Toxicity_ImplicitHate_Falcon_Insert\": \"\",\n",
      "    \"BOSS_Toxicity_ImplicitHate_Falcon_Substitute\": \"\",\n",
      "    \"BOSS_Toxicity_ImplicitHate_Falcon_Translate\": \"\",\n",
      "    \"BOSS_Toxicity_ImplicitHate_Falcon_Paraphrase\": \"\",\n",
      "    \"BOSS_Toxicity_ImplicitHate_Falcon_ICR\": \"\",\n",
      "    \"BOSS_Toxicity_AdvCivil_BERT_Insert\": \"\",\n",
      "    \"BOSS_Toxicity_AdvCivil_BERT_Substitute\": \"\",\n",
      "    \"BOSS_Toxicity_AdvCivil_BERT_Translate\": \"\",\n",
      "    \"BOSS_Toxicity_AdvCivil_BERT_Paraphrase\": \"\",\n",
      "    \"BOSS_Toxicity_AdvCivil_BERT_ICR\": \"\",\n",
      "    \"BOSS_Toxicity_AdvCivil_T5_Insert\": \"\",\n",
      "    \"BOSS_Toxicity_AdvCivil_T5_Substitute\": \"\",\n",
      "    \"BOSS_Toxicity_AdvCivil_T5_Translate\": \"\",\n",
      "    \"BOSS_Toxicity_AdvCivil_T5_Paraphrase\": \"\",\n",
      "    \"BOSS_Toxicity_AdvCivil_T5_ICR\": \"\",\n",
      "    \"BOSS_Toxicity_AdvCivil_Falcon_Insert\": \"\",\n",
      "    \"BOSS_Toxicity_AdvCivil_Falcon_Substitute\": \"\",\n",
      "    \"BOSS_Toxicity_AdvCivil_Falcon_Translate\": \"\",\n",
      "    \"BOSS_Toxicity_AdvCivil_Falcon_Paraphrase\": \"\",\n",
      "    \"BOSS_Toxicity_AdvCivil_Falcon_ICR\": \"\",\n",
      "    \"AgNewsTweets_ID_BERT_Insert\": \"\",\n",
      "    \"AgNewsTweets_ID_BERT_Substitute\": \"\",\n",
      "    \"AgNewsTweets_ID_BERT_Translate\": \"\",\n",
      "    \"AgNewsTweets_ID_BERT_Paraphrase\": \"\",\n",
      "    \"AgNewsTweets_ID_BERT_ICR\": \"\",\n",
      "    \"AgNewsTweets_ID_T5_Insert\": \"\",\n",
      "    \"AgNewsTweets_ID_T5_Substitute\": \"\",\n",
      "    \"AgNewsTweets_ID_T5_Translate\": \"\",\n",
      "    \"AgNewsTweets_ID_T5_Paraphrase\": \"\",\n",
      "    \"AgNewsTweets_ID_T5_ICR\": \"\",\n",
      "    \"AgNewsTweets_ID_Falcon_Insert\": \"\",\n",
      "    \"AgNewsTweets_ID_Falcon_Substitute\": \"\",\n",
      "    \"AgNewsTweets_ID_Falcon_Translate\": \"\",\n",
      "    \"AgNewsTweets_ID_Falcon_Paraphrase\": \"\",\n",
      "    \"AgNewsTweets_ID_Falcon_ICR\": \"\",\n",
      "    \"AgNewsTweets_Tweets_BERT_Insert\": \"\",\n",
      "    \"AgNewsTweets_Tweets_BERT_Substitute\": \"\",\n",
      "    \"AgNewsTweets_Tweets_BERT_Translate\": \"\",\n",
      "    \"AgNewsTweets_Tweets_BERT_Paraphrase\": \"\",\n",
      "    \"AgNewsTweets_Tweets_BERT_ICR\": \"\",\n",
      "    \"AgNewsTweets_Tweets_T5_Insert\": \"\",\n",
      "    \"AgNewsTweets_Tweets_T5_Substitute\": \"\",\n",
      "    \"AgNewsTweets_Tweets_T5_Translate\": \"\",\n",
      "    \"AgNewsTweets_Tweets_T5_Paraphrase\": \"\",\n",
      "    \"AgNewsTweets_Tweets_T5_ICR\": \"\",\n",
      "    \"AgNewsTweets_Tweets_Falcon_Insert\": \"\",\n",
      "    \"AgNewsTweets_Tweets_Falcon_Substitute\": \"\",\n",
      "    \"AgNewsTweets_Tweets_Falcon_Translate\": \"\",\n",
      "    \"AgNewsTweets_Tweets_Falcon_Paraphrase\": \"\",\n",
      "    \"AgNewsTweets_Tweets_Falcon_ICR\": \"\"\n",
      "}\n"
     ]
    }
   ],
   "source": [
    "project_name = \"healthyml/In-Context Domain Transfer Improves Out-of-Domain Robustness\"\n",
    "table_paths = {\n",
    "    # BOSS Sentiment\n",
    "    # ID\n",
    "    # BERT\n",
    "    \"BOSS_Sentiment_ID_BERT_Insert\": f\"\",\n",
    "    \"BOSS_Sentiment_ID_BERT_Substitute\": f\"\",\n",
    "    \"BOSS_Sentiment_ID_BERT_Translate\": f\"\",\n",
    "    \"BOSS_Sentiment_ID_BERT_Paraphrase\": f\"\",\n",
    "    \"BOSS_Sentiment_ID_BERT_ICR\": \"run-yanx1dus-validation_stabilityaiStableBeluga7b_random_16_Kyle1668bosssentimentbertbaseuncased_style_logs:v0\",\n",
    "\n",
    "    # T5\n",
    "    \"BOSS_Sentiment_ID_T5_Insert\": f\"\",\n",
    "    \"BOSS_Sentiment_ID_T5_Substitute\": f\"\",\n",
    "    \"BOSS_Sentiment_ID_T5_Translate\": f\"\",\n",
    "    \"BOSS_Sentiment_ID_T5_Paraphrase\": f\"\",\n",
    "    \"BOSS_Sentiment_ID_T5_ICR\": f\"\",\n",
    "\n",
    "    # Falcon\n",
    "    \"BOSS_Sentiment_ID_Falcon_Insert\": f\"\",\n",
    "    \"BOSS_Sentiment_ID_Falcon_Substitute\": f\"\",\n",
    "    \"BOSS_Sentiment_ID_Falcon_Translate\": f\"\",\n",
    "    \"BOSS_Sentiment_ID_Falcon_Paraphrase\": f\"\",\n",
    "    \"BOSS_Sentiment_ID_Falcon_ICR\": f\"\",\n",
    "\n",
    "    # SST-5\n",
    "    # BERT\n",
    "    \"BOSS_Sentiment_SST-5_BERT_Insert\": f\"run-hhtbcw8x-sst5_aug_insert_random_16_Kyle1668bosssentimentbertbaseuncased_style_logs:v0\",\n",
    "    \"BOSS_Sentiment_SST-5_BERT_Substitute\": f\"run-hhtbcw8x-sst5_aug_substitute_random_16_Kyle1668bosssentimentbertbaseuncased_style_logs:v0\",\n",
    "    \"BOSS_Sentiment_SST-5_BERT_Translate\": f\"run-hhtbcw8x-sst5_aug_backtranslate_random_16_Kyle1668bosssentimentbertbaseuncased_style_logs:v0\",\n",
    "    \"BOSS_Sentiment_SST-5_BERT_Paraphrase\": f\"run-hhtbcw8x-sst5_stabilityaiStableBeluga7b_random_0_Kyle1668bosssentimentbertbaseuncased_style_logs:v0\",\n",
    "    \"BOSS_Sentiment_SST-5_BERT_ICR\": f\"run-hhtbcw8x-sst5_stabilityaiStableBeluga7b_random_16_Kyle1668bosssentimentbertbaseuncased_style_logs:v0\",\n",
    "\n",
    "    # T5\n",
    "    \"BOSS_Sentiment_SST-5_T5_Insert\": f\"run-hhtbcw8x-sst5_aug_insert_random_16_Kyle1668bosssentimentt5large_style_logs:v0\",\n",
    "    \"BOSS_Sentiment_SST-5_T5_Substitute\": f\"run-hhtbcw8x-sst5_aug_substitute_random_16_Kyle1668bosssentimentt5large_style_logs:v0\",\n",
    "    \"BOSS_Sentiment_SST-5_T5_Translate\": f\"run-hhtbcw8x-sst5_aug_backtranslate_random_16_Kyle1668bosssentimentt5large_style_logs:v0\",\n",
    "    \"BOSS_Sentiment_SST-5_T5_Paraphrase\": f\"run-hhtbcw8x-sst5_stabilityaiStableBeluga7b_random_0_Kyle1668bosssentimentt5large_style_logs:v0\",\n",
    "    \"BOSS_Sentiment_SST-5_T5_ICR\": f\"run-hhtbcw8x-sst5_stabilityaiStableBeluga7b_random_16_Kyle1668bosssentimentt5large_style_logs:v0\",\n",
    "\n",
    "    # Falcon\n",
    "    \"BOSS_Sentiment_SST-5_Falcon_Insert\": f\"\",\n",
    "    \"BOSS_Sentiment_SST-5_Falcon_Substitute\": f\"\",\n",
    "    \"BOSS_Sentiment_SST-5_Falcon_Translate\": f\"\",\n",
    "    \"BOSS_Sentiment_SST-5_Falcon_Paraphrase\": f\"\",\n",
    "    \"BOSS_Sentiment_SST-5_Falcon_ICR\": f\"\",\n",
    "\n",
    "    # SemEval\n",
    "    # BERT\n",
    "    \"BOSS_Sentiment_SemEval_BERT_Insert\": f\"run-hhtbcw8x-semval_aug_insert_random_16_Kyle1668bosssentimentbertbaseuncased_style_logs:v0\",\n",
    "    \"BOSS_Sentiment_SemEval_BERT_Substitute\": f\"run-hhtbcw8x-semval_aug_substitute_random_16_Kyle1668bosssentimentbertbaseuncased_style_logs:v0\",\n",
    "    \"BOSS_Sentiment_SemEval_BERT_Translate\": f\"run-hhtbcw8x-semval_aug_backtranslate_random_16_Kyle1668bosssentimentbertbaseuncased_style_logs:v0\",\n",
    "    \"BOSS_Sentiment_SemEval_BERT_Paraphrase\": f\"run-hhtbcw8x-semval_stabilityaiStableBeluga7b_random_0_Kyle1668bosssentimentbertbaseuncased_style_logs:v0\",\n",
    "    \"BOSS_Sentiment_SemEval_BERT_ICR\": f\"run-hhtbcw8x-semval_stabilityaiStableBeluga7b_random_16_Kyle1668bosssentimentbertbaseuncased_style_logs:v0\",\n",
    "\n",
    "    # T5\n",
    "    \"BOSS_Sentiment_SemEval_T5_Insert\": f\"run-hhtbcw8x-semval_aug_insert_random_16_Kyle1668bosssentimentt5large_style_logs:v0\",\n",
    "    \"BOSS_Sentiment_SemEval_T5_Substitute\": f\"run-hhtbcw8x-semval_aug_substitute_random_16_Kyle1668bosssentimentt5large_style_logs:v0\",\n",
    "    \"BOSS_Sentiment_SemEval_T5_Translate\": f\"run-hhtbcw8x-semval_aug_backtranslate_random_16_Kyle1668bosssentimentt5large_style_logs:v0\",\n",
    "    \"BOSS_Sentiment_SemEval_T5_Paraphrase\": f\"run-hhtbcw8x-semval_stabilityaiStableBeluga7b_random_0_Kyle1668bosssentimentt5large_style_logs:v0\",\n",
    "    \"BOSS_Sentiment_SemEval_T5_ICR\": f\"run-hhtbcw8x-semval_stabilityaiStableBeluga7b_random_16_Kyle1668bosssentimentt5large_style_logs:v0\",\n",
    "\n",
    "    # Falcon\n",
    "    \"BOSS_Sentiment_SemEval_Falcon_Insert\": f\"\",\n",
    "    \"BOSS_Sentiment_SemEval_Falcon_Substitute\": f\"\",\n",
    "    \"BOSS_Sentiment_SemEval_Falcon_Translate\": f\"\",\n",
    "    \"BOSS_Sentiment_SemEval_Falcon_Paraphrase\": f\"\",\n",
    "    \"BOSS_Sentiment_SemEval_Falcon_ICR\": f\"\",\n",
    "\n",
    "    # Dynasent\n",
    "    # BERT\n",
    "    \"BOSS_Sentiment_Dynasent_BERT_Insert\": f\"run-hhtbcw8x-dynasent_aug_insert_random_16_Kyle1668bosssentimentbertbaseuncased_style_logs:v0\",\n",
    "    \"BOSS_Sentiment_Dynasent_BERT_Substitute\": f\"run-hhtbcw8x-dynasent_aug_substitute_random_16_Kyle1668bosssentimentbertbaseuncased_style_logs:v0\",\n",
    "    \"BOSS_Sentiment_Dynasent_BERT_Translate\": f\"run-hhtbcw8x-dynasent_aug_backtranslate_random_16_Kyle1668bosssentimentbertbaseuncased_style_logs:v0\",\n",
    "    \"BOSS_Sentiment_Dynasent_BERT_Paraphrase\": f\"run-hhtbcw8x-dynasent_stabilityaiStableBeluga7b_random_0_Kyle1668bosssentimentbertbaseuncased_style_logs:v0\",\n",
    "    \"BOSS_Sentiment_Dynasent_BERT_ICR\": f\"run-hhtbcw8x-dynasent_stabilityaiStableBeluga7b_random_16_Kyle1668bosssentimentbertbaseuncased_style_logs:v0\",\n",
    "\n",
    "    # T5\n",
    "    \"BOSS_Sentiment_Dynasent_T5_Insert\": f\"run-hhtbcw8x-dynasent_aug_insert_random_16_Kyle1668bosssentimentt5large_style_logs:v0\",\n",
    "    \"BOSS_Sentiment_Dynasent_T5_Substitute\": f\"run-hhtbcw8x-dynasent_aug_substitute_random_16_Kyle1668bosssentimentt5large_style_logs:v0\",\n",
    "    \"BOSS_Sentiment_Dynasent_T5_Translate\": f\"run-hhtbcw8x-dynasent_aug_backtranslate_random_16_Kyle1668bosssentimentt5large_style_logs:v0\",\n",
    "    \"BOSS_Sentiment_Dynasent_T5_Paraphrase\": f\"run-hhtbcw8x-dynasent_stabilityaiStableBeluga7b_random_0_Kyle1668bosssentimentt5large_style_logs:v0\",\n",
    "    \"BOSS_Sentiment_Dynasent_T5_ICR\": f\"run-hhtbcw8x-dynasent_stabilityaiStableBeluga7b_random_16_Kyle1668bosssentimentt5large_style_logs:v0\",\n",
    "\n",
    "    # Falcon\n",
    "    \"BOSS_Sentiment_Dynasent_Falcon_Insert\": f\"\",\n",
    "    \"BOSS_Sentiment_Dynasent_Falcon_Substitute\": f\"\",\n",
    "    \"BOSS_Sentiment_Dynasent_Falcon_Translate\": f\"\",\n",
    "    \"BOSS_Sentiment_Dynasent_Falcon_Paraphrase\": f\"\",\n",
    "    \"BOSS_Sentiment_Dynasent_Falcon_ICR\": f\"\",\n",
    "\n",
    "    # BOSS Toxicity\n",
    "    # ID\n",
    "    # BERT\n",
    "    \"BOSS_Toxicity_ID_BERT_Insert\": f\"\",\n",
    "    \"BOSS_Toxicity_ID_BERT_Substitute\": f\"\",\n",
    "    \"BOSS_Toxicity_ID_BERT_Translate\": f\"\",\n",
    "    \"BOSS_Toxicity_ID_BERT_Paraphrase\": f\"\",\n",
    "    \"BOSS_Toxicity_ID_BERT_ICR\": f\"\",\n",
    "\n",
    "    # T5\n",
    "    \"BOSS_Toxicity_ID_T5_Insert\": f\"\",\n",
    "    \"BOSS_Toxicity_ID_T5_Substitute\": f\"\",\n",
    "    \"BOSS_Toxicity_ID_T5_Translate\": f\"\",\n",
    "    \"BOSS_Toxicity_ID_T5_Paraphrase\": f\"\",\n",
    "    \"BOSS_Toxicity_ID_T5_ICR\": f\"\",\n",
    "\n",
    "    # Falcon\n",
    "    \"BOSS_Toxicity_ID_Falcon_Insert\": f\"\",\n",
    "    \"BOSS_Toxicity_ID_Falcon_Substitute\": f\"\",\n",
    "    \"BOSS_Toxicity_ID_Falcon_Translate\": f\"\",\n",
    "    \"BOSS_Toxicity_ID_Falcon_Paraphrase\": f\"\",\n",
    "    \"BOSS_Toxicity_ID_Falcon_ICR\": f\"\",\n",
    "\n",
    "    # Toxigen\n",
    "    # BERT\n",
    "    \"BOSS_Toxicity_Toxigen_BERT_Insert\": f\"\",\n",
    "    \"BOSS_Toxicity_Toxigen_BERT_Substitute\": f\"\",\n",
    "    \"BOSS_Toxicity_Toxigen_BERT_Translate\": f\"\",\n",
    "    \"BOSS_Toxicity_Toxigen_BERT_Paraphrase\": f\"\",\n",
    "    \"BOSS_Toxicity_Toxigen_BERT_ICR\": f\"\",\n",
    "\n",
    "    # T5\n",
    "    \"BOSS_Toxicity_Toxigen_T5_Insert\": f\"\",\n",
    "    \"BOSS_Toxicity_Toxigen_T5_Substitute\": f\"\",\n",
    "    \"BOSS_Toxicity_Toxigen_T5_Translate\": f\"\",\n",
    "    \"BOSS_Toxicity_Toxigen_T5_Paraphrase\": f\"\",\n",
    "    \"BOSS_Toxicity_Toxigen_T5_ICR\": f\"\",\n",
    "\n",
    "    # Falcon\n",
    "    \"BOSS_Toxicity_Toxigen_Falcon_Insert\": f\"\",\n",
    "    \"BOSS_Toxicity_Toxigen_Falcon_Substitute\": f\"\",\n",
    "    \"BOSS_Toxicity_Toxigen_Falcon_Translate\": f\"\",\n",
    "    \"BOSS_Toxicity_Toxigen_Falcon_Paraphrase\": f\"\",\n",
    "    \"BOSS_Toxicity_Toxigen_Falcon_ICR\": f\"\",\n",
    "\n",
    "    # ImplicitHate\n",
    "    # BERT\n",
    "    \"BOSS_Toxicity_ImplicitHate_BERT_Insert\": f\"\",\n",
    "    \"BOSS_Toxicity_ImplicitHate_BERT_Substitute\": f\"\",\n",
    "    \"BOSS_Toxicity_ImplicitHate_BERT_Translate\": f\"\",\n",
    "    \"BOSS_Toxicity_ImplicitHate_BERT_Paraphrase\": f\"\",\n",
    "    \"BOSS_Toxicity_ImplicitHate_BERT_ICR\": f\"\",\n",
    "\n",
    "    # T5\n",
    "    \"BOSS_Toxicity_ImplicitHate_T5_Insert\": f\"\",\n",
    "    \"BOSS_Toxicity_ImplicitHate_T5_Substitute\": f\"\",\n",
    "    \"BOSS_Toxicity_ImplicitHate_T5_Translate\": f\"\",\n",
    "    \"BOSS_Toxicity_ImplicitHate_T5_Paraphrase\": f\"\",\n",
    "    \"BOSS_Toxicity_ImplicitHate_T5_ICR\": f\"\",\n",
    "\n",
    "    # Falcon\n",
    "    \"BOSS_Toxicity_ImplicitHate_Falcon_Insert\": f\"\",\n",
    "    \"BOSS_Toxicity_ImplicitHate_Falcon_Substitute\": f\"\",\n",
    "    \"BOSS_Toxicity_ImplicitHate_Falcon_Translate\": f\"\",\n",
    "    \"BOSS_Toxicity_ImplicitHate_Falcon_Paraphrase\": f\"\",\n",
    "    \"BOSS_Toxicity_ImplicitHate_Falcon_ICR\": f\"\",\n",
    "\n",
    "    # AdvCivil\n",
    "    # BERT\n",
    "    \"BOSS_Toxicity_AdvCivil_BERT_Insert\": f\"\",\n",
    "    \"BOSS_Toxicity_AdvCivil_BERT_Substitute\": f\"\",\n",
    "    \"BOSS_Toxicity_AdvCivil_BERT_Translate\": f\"\",\n",
    "    \"BOSS_Toxicity_AdvCivil_BERT_Paraphrase\": f\"\",\n",
    "    \"BOSS_Toxicity_AdvCivil_BERT_ICR\": f\"\",\n",
    "\n",
    "    # T5\n",
    "    \"BOSS_Toxicity_AdvCivil_T5_Insert\": f\"\",\n",
    "    \"BOSS_Toxicity_AdvCivil_T5_Substitute\": f\"\",\n",
    "    \"BOSS_Toxicity_AdvCivil_T5_Translate\": f\"\",\n",
    "    \"BOSS_Toxicity_AdvCivil_T5_Paraphrase\": f\"\",\n",
    "    \"BOSS_Toxicity_AdvCivil_T5_ICR\": f\"\",\n",
    "\n",
    "    # Falcon\n",
    "    \"BOSS_Toxicity_AdvCivil_Falcon_Insert\": f\"\",\n",
    "    \"BOSS_Toxicity_AdvCivil_Falcon_Substitute\": f\"\",\n",
    "    \"BOSS_Toxicity_AdvCivil_Falcon_Translate\": f\"\",\n",
    "    \"BOSS_Toxicity_AdvCivil_Falcon_Paraphrase\": f\"\",\n",
    "    \"BOSS_Toxicity_AdvCivil_Falcon_ICR\": f\"\",\n",
    "\n",
    "    # AG News Tweets\n",
    "    # ID\n",
    "    # BERT\n",
    "    \"AgNewsTweets_ID_BERT_Insert\": f\"\",\n",
    "    \"AgNewsTweets_ID_BERT_Substitute\": f\"\",\n",
    "    \"AgNewsTweets_ID_BERT_Translate\": f\"\",\n",
    "    \"AgNewsTweets_ID_BERT_Paraphrase\": f\"\",\n",
    "    \"AgNewsTweets_ID_BERT_ICR\": f\"\",\n",
    "\n",
    "    # T5\n",
    "    \"AgNewsTweets_ID_T5_Insert\": f\"\",\n",
    "    \"AgNewsTweets_ID_T5_Substitute\": f\"\",\n",
    "    \"AgNewsTweets_ID_T5_Translate\": f\"\",\n",
    "    \"AgNewsTweets_ID_T5_Paraphrase\": f\"\",\n",
    "    \"AgNewsTweets_ID_T5_ICR\": f\"\",\n",
    "\n",
    "    # Falcon\n",
    "    \"AgNewsTweets_ID_Falcon_Insert\": f\"\",\n",
    "    \"AgNewsTweets_ID_Falcon_Substitute\": f\"\",\n",
    "    \"AgNewsTweets_ID_Falcon_Translate\": f\"\",\n",
    "    \"AgNewsTweets_ID_Falcon_Paraphrase\": f\"\",\n",
    "    \"AgNewsTweets_ID_Falcon_ICR\": f\"\",\n",
    "\n",
    "    # Tweets\n",
    "    # BERT\n",
    "    \"AgNewsTweets_Tweets_BERT_Insert\": f\"\",\n",
    "    \"AgNewsTweets_Tweets_BERT_Substitute\": f\"\",\n",
    "    \"AgNewsTweets_Tweets_BERT_Translate\": f\"\",\n",
    "    \"AgNewsTweets_Tweets_BERT_Paraphrase\": f\"\",\n",
    "    \"AgNewsTweets_Tweets_BERT_ICR\": f\"\",\n",
    "\n",
    "    # T5\n",
    "    \"AgNewsTweets_Tweets_T5_Insert\": f\"\",\n",
    "    \"AgNewsTweets_Tweets_T5_Substitute\": f\"\",\n",
    "    \"AgNewsTweets_Tweets_T5_Translate\": f\"\",\n",
    "    \"AgNewsTweets_Tweets_T5_Paraphrase\": f\"\",\n",
    "    \"AgNewsTweets_Tweets_T5_ICR\": f\"\",\n",
    "\n",
    "    # Falcon\n",
    "    \"AgNewsTweets_Tweets_Falcon_Insert\": f\"\",\n",
    "    \"AgNewsTweets_Tweets_Falcon_Substitute\": f\"\",\n",
    "    \"AgNewsTweets_Tweets_Falcon_Translate\": f\"\",\n",
    "    \"AgNewsTweets_Tweets_Falcon_Paraphrase\": f\"\",\n",
    "    \"AgNewsTweets_Tweets_Falcon_ICR\": f\"\",\n",
    "}\n",
    "\n",
    "print(json.dumps(table_paths, indent=4))"
   ]
  },
  {
   "cell_type": "code",
   "execution_count": 4,
   "metadata": {},
   "outputs": [
    {
     "name": "stderr",
     "output_type": "stream",
     "text": [
      "Failed to detect the name of this notebook, you can set it manually with the WANDB_NOTEBOOK_NAME environment variable to enable code saving.\n",
      "\u001b[34m\u001b[1mwandb\u001b[0m: Currently logged in as: \u001b[33mkyledevinobrien1\u001b[0m (\u001b[33mhealthyml\u001b[0m). Use \u001b[1m`wandb login --relogin`\u001b[0m to force relogin\n"
     ]
    },
    {
     "data": {
      "text/html": [
       "Tracking run with wandb version 0.16.0"
      ],
      "text/plain": [
       "<IPython.core.display.HTML object>"
      ]
     },
     "metadata": {},
     "output_type": "display_data"
    },
    {
     "data": {
      "text/html": [
       "Run data is saved locally in <code>/home/kyobrien/repos/In-Context-Domain-Transfer-Improves-Out-of-Domain-Robustness/notebooks/wandb/run-20231110_223837-iwcyrbaq</code>"
      ],
      "text/plain": [
       "<IPython.core.display.HTML object>"
      ]
     },
     "metadata": {},
     "output_type": "display_data"
    },
    {
     "data": {
      "text/html": [
       "Syncing run <strong><a href='https://wandb.ai/healthyml/In-Context-Domain-Transfer-Improves-Out-of-Domain-Robustness-notebooks/runs/iwcyrbaq' target=\"_blank\">upbeat-puddle-2</a></strong> to <a href='https://wandb.ai/healthyml/In-Context-Domain-Transfer-Improves-Out-of-Domain-Robustness-notebooks' target=\"_blank\">Weights & Biases</a> (<a href='https://wandb.me/run' target=\"_blank\">docs</a>)<br/>"
      ],
      "text/plain": [
       "<IPython.core.display.HTML object>"
      ]
     },
     "metadata": {},
     "output_type": "display_data"
    },
    {
     "data": {
      "text/html": [
       " View project at <a href='https://wandb.ai/healthyml/In-Context-Domain-Transfer-Improves-Out-of-Domain-Robustness-notebooks' target=\"_blank\">https://wandb.ai/healthyml/In-Context-Domain-Transfer-Improves-Out-of-Domain-Robustness-notebooks</a>"
      ],
      "text/plain": [
       "<IPython.core.display.HTML object>"
      ]
     },
     "metadata": {},
     "output_type": "display_data"
    },
    {
     "data": {
      "text/html": [
       " View run at <a href='https://wandb.ai/healthyml/In-Context-Domain-Transfer-Improves-Out-of-Domain-Robustness-notebooks/runs/iwcyrbaq' target=\"_blank\">https://wandb.ai/healthyml/In-Context-Domain-Transfer-Improves-Out-of-Domain-Robustness-notebooks/runs/iwcyrbaq</a>"
      ],
      "text/plain": [
       "<IPython.core.display.HTML object>"
      ]
     },
     "metadata": {},
     "output_type": "display_data"
    }
   ],
   "source": [
    "run = wandb.init()"
   ]
  },
  {
   "cell_type": "code",
   "execution_count": 11,
   "metadata": {},
   "outputs": [
    {
     "name": "stderr",
     "output_type": "stream",
     "text": [
      "  0%|          | 0/150 [00:00<?, ?it/s]"
     ]
    },
    {
     "name": "stdout",
     "output_type": "stream",
     "text": [
      "Downloading BOSS_Sentiment_ID_BERT_ICR --- healthyml/In-Context Domain Transfer Improves Out-of-Domain Robustness/run-yanx1dus-validation_stabilityaiStableBeluga7b_random_16_Kyle1668bosssentimentbertbaseuncased_style_logs:v0\n"
     ]
    },
    {
     "name": "stderr",
     "output_type": "stream",
     "text": [
      "\u001b[34m\u001b[1mwandb\u001b[0m: Downloading large artifact run-yanx1dus-validation_stabilityaiStableBeluga7b_random_16_Kyle1668bosssentimentbertbaseuncased_style_logs:v0, 180.63MB. 1 files... \n",
      "\u001b[34m\u001b[1mwandb\u001b[0m:   1 of 1 files downloaded.  \n",
      "Done. 0:0:0.3\n",
      "  3%|▎         | 5/150 [00:00<00:27,  5.24it/s]"
     ]
    },
    {
     "name": "stdout",
     "output_type": "stream",
     "text": [
      "Downloading BOSS_Sentiment_SST-5_BERT_Insert --- healthyml/In-Context Domain Transfer Improves Out-of-Domain Robustness/run-hhtbcw8x-sst5_aug_insert_random_16_Kyle1668bosssentimentbertbaseuncased_style_logs:v0\n"
     ]
    },
    {
     "name": "stderr",
     "output_type": "stream",
     "text": [
      "\u001b[34m\u001b[1mwandb\u001b[0m:   1 of 1 files downloaded.  \n",
      " 11%|█         | 16/150 [00:01<00:14,  8.97it/s]"
     ]
    },
    {
     "name": "stdout",
     "output_type": "stream",
     "text": [
      "Downloading BOSS_Sentiment_SST-5_BERT_Substitute --- healthyml/In-Context Domain Transfer Improves Out-of-Domain Robustness/run-hhtbcw8x-sst5_aug_substitute_random_16_Kyle1668bosssentimentbertbaseuncased_style_logs:v0\n"
     ]
    },
    {
     "name": "stderr",
     "output_type": "stream",
     "text": [
      "\u001b[34m\u001b[1mwandb\u001b[0m:   1 of 1 files downloaded.  \n",
      " 11%|█▏        | 17/150 [00:02<00:23,  5.66it/s]"
     ]
    },
    {
     "name": "stdout",
     "output_type": "stream",
     "text": [
      "Downloading BOSS_Sentiment_SST-5_BERT_Translate --- healthyml/In-Context Domain Transfer Improves Out-of-Domain Robustness/run-hhtbcw8x-sst5_aug_backtranslate_random_16_Kyle1668bosssentimentbertbaseuncased_style_logs:v0\n"
     ]
    },
    {
     "name": "stderr",
     "output_type": "stream",
     "text": [
      "\u001b[34m\u001b[1mwandb\u001b[0m:   1 of 1 files downloaded.  \n",
      " 12%|█▏        | 18/150 [00:03<00:32,  4.02it/s]"
     ]
    },
    {
     "name": "stdout",
     "output_type": "stream",
     "text": [
      "Downloading BOSS_Sentiment_SST-5_BERT_Paraphrase --- healthyml/In-Context Domain Transfer Improves Out-of-Domain Robustness/run-hhtbcw8x-sst5_stabilityaiStableBeluga7b_random_0_Kyle1668bosssentimentbertbaseuncased_style_logs:v0\n"
     ]
    },
    {
     "name": "stderr",
     "output_type": "stream",
     "text": [
      "\u001b[34m\u001b[1mwandb\u001b[0m:   1 of 1 files downloaded.  \n",
      " 13%|█▎        | 19/150 [00:04<00:44,  2.92it/s]"
     ]
    },
    {
     "name": "stdout",
     "output_type": "stream",
     "text": [
      "Downloading BOSS_Sentiment_SST-5_BERT_ICR --- healthyml/In-Context Domain Transfer Improves Out-of-Domain Robustness/run-hhtbcw8x-sst5_stabilityaiStableBeluga7b_random_16_Kyle1668bosssentimentbertbaseuncased_style_logs:v0\n"
     ]
    },
    {
     "name": "stderr",
     "output_type": "stream",
     "text": [
      "\u001b[34m\u001b[1mwandb\u001b[0m:   1 of 1 files downloaded.  \n",
      " 13%|█▎        | 20/150 [00:05<00:58,  2.22it/s]"
     ]
    },
    {
     "name": "stdout",
     "output_type": "stream",
     "text": [
      "Downloading BOSS_Sentiment_SST-5_T5_Insert --- healthyml/In-Context Domain Transfer Improves Out-of-Domain Robustness/run-hhtbcw8x-sst5_aug_insert_random_16_Kyle1668bosssentimentt5large_style_logs:v0\n"
     ]
    },
    {
     "name": "stderr",
     "output_type": "stream",
     "text": [
      "\u001b[34m\u001b[1mwandb\u001b[0m:   1 of 1 files downloaded.  \n",
      " 14%|█▍        | 21/150 [00:06<01:09,  1.85it/s]"
     ]
    },
    {
     "name": "stdout",
     "output_type": "stream",
     "text": [
      "Downloading BOSS_Sentiment_SST-5_T5_Substitute --- healthyml/In-Context Domain Transfer Improves Out-of-Domain Robustness/run-hhtbcw8x-sst5_aug_substitute_random_16_Kyle1668bosssentimentt5large_style_logs:v0\n"
     ]
    },
    {
     "name": "stderr",
     "output_type": "stream",
     "text": [
      "\u001b[34m\u001b[1mwandb\u001b[0m:   1 of 1 files downloaded.  \n",
      " 15%|█▍        | 22/150 [00:07<01:16,  1.67it/s]"
     ]
    },
    {
     "name": "stdout",
     "output_type": "stream",
     "text": [
      "Downloading BOSS_Sentiment_SST-5_T5_Translate --- healthyml/In-Context Domain Transfer Improves Out-of-Domain Robustness/run-hhtbcw8x-sst5_aug_backtranslate_random_16_Kyle1668bosssentimentt5large_style_logs:v0\n"
     ]
    },
    {
     "name": "stderr",
     "output_type": "stream",
     "text": [
      "\u001b[34m\u001b[1mwandb\u001b[0m:   1 of 1 files downloaded.  \n",
      " 15%|█▌        | 23/150 [00:07<01:21,  1.55it/s]"
     ]
    },
    {
     "name": "stdout",
     "output_type": "stream",
     "text": [
      "Downloading BOSS_Sentiment_SST-5_T5_Paraphrase --- healthyml/In-Context Domain Transfer Improves Out-of-Domain Robustness/run-hhtbcw8x-sst5_stabilityaiStableBeluga7b_random_0_Kyle1668bosssentimentt5large_style_logs:v0\n"
     ]
    },
    {
     "name": "stderr",
     "output_type": "stream",
     "text": [
      "\u001b[34m\u001b[1mwandb\u001b[0m:   1 of 1 files downloaded.  \n",
      " 16%|█▌        | 24/150 [00:09<01:33,  1.35it/s]"
     ]
    },
    {
     "name": "stdout",
     "output_type": "stream",
     "text": [
      "Downloading BOSS_Sentiment_SST-5_T5_ICR --- healthyml/In-Context Domain Transfer Improves Out-of-Domain Robustness/run-hhtbcw8x-sst5_stabilityaiStableBeluga7b_random_16_Kyle1668bosssentimentt5large_style_logs:v0\n"
     ]
    },
    {
     "name": "stderr",
     "output_type": "stream",
     "text": [
      "\u001b[34m\u001b[1mwandb\u001b[0m:   1 of 1 files downloaded.  \n",
      " 17%|█▋        | 25/150 [00:09<01:36,  1.30it/s]"
     ]
    },
    {
     "name": "stdout",
     "output_type": "stream",
     "text": [
      "Downloading BOSS_Sentiment_SemEval_BERT_Insert --- healthyml/In-Context Domain Transfer Improves Out-of-Domain Robustness/run-hhtbcw8x-semval_aug_insert_random_16_Kyle1668bosssentimentbertbaseuncased_style_logs:v0\n"
     ]
    },
    {
     "name": "stderr",
     "output_type": "stream",
     "text": [
      "\u001b[34m\u001b[1mwandb\u001b[0m: Downloading large artifact run-hhtbcw8x-semval_aug_insert_random_16_Kyle1668bosssentimentbertbaseuncased_style_logs:v0, 482.38MB. 1 files... \n",
      "\u001b[34m\u001b[1mwandb\u001b[0m:   1 of 1 files downloaded.  \n",
      "Done. 0:0:2.4\n",
      " 21%|██        | 31/150 [00:12<01:10,  1.68it/s]"
     ]
    },
    {
     "name": "stdout",
     "output_type": "stream",
     "text": [
      "Downloading BOSS_Sentiment_SemEval_BERT_Substitute --- healthyml/In-Context Domain Transfer Improves Out-of-Domain Robustness/run-hhtbcw8x-semval_aug_substitute_random_16_Kyle1668bosssentimentbertbaseuncased_style_logs:v0\n"
     ]
    },
    {
     "name": "stderr",
     "output_type": "stream",
     "text": [
      "\u001b[34m\u001b[1mwandb\u001b[0m: Downloading large artifact run-hhtbcw8x-semval_aug_substitute_random_16_Kyle1668bosssentimentbertbaseuncased_style_logs:v0, 474.79MB. 1 files... \n",
      "\u001b[34m\u001b[1mwandb\u001b[0m:   1 of 1 files downloaded.  \n",
      "Done. 0:0:0.6\n",
      " 21%|██▏       | 32/150 [00:14<01:22,  1.43it/s]"
     ]
    },
    {
     "name": "stdout",
     "output_type": "stream",
     "text": [
      "Downloading BOSS_Sentiment_SemEval_BERT_Translate --- healthyml/In-Context Domain Transfer Improves Out-of-Domain Robustness/run-hhtbcw8x-semval_aug_backtranslate_random_16_Kyle1668bosssentimentbertbaseuncased_style_logs:v0\n"
     ]
    },
    {
     "name": "stderr",
     "output_type": "stream",
     "text": [
      "\u001b[34m\u001b[1mwandb\u001b[0m: Downloading large artifact run-hhtbcw8x-semval_aug_backtranslate_random_16_Kyle1668bosssentimentbertbaseuncased_style_logs:v0, 474.07MB. 1 files... \n",
      "\u001b[34m\u001b[1mwandb\u001b[0m:   1 of 1 files downloaded.  \n",
      "Done. 0:0:0.5\n",
      " 22%|██▏       | 33/150 [00:15<01:31,  1.28it/s]"
     ]
    },
    {
     "name": "stdout",
     "output_type": "stream",
     "text": [
      "Downloading BOSS_Sentiment_SemEval_BERT_Paraphrase --- healthyml/In-Context Domain Transfer Improves Out-of-Domain Robustness/run-hhtbcw8x-semval_stabilityaiStableBeluga7b_random_0_Kyle1668bosssentimentbertbaseuncased_style_logs:v0\n"
     ]
    },
    {
     "name": "stderr",
     "output_type": "stream",
     "text": [
      "\u001b[34m\u001b[1mwandb\u001b[0m: Downloading large artifact run-hhtbcw8x-semval_stabilityaiStableBeluga7b_random_0_Kyle1668bosssentimentbertbaseuncased_style_logs:v0, 480.60MB. 1 files... \n",
      "\u001b[34m\u001b[1mwandb\u001b[0m:   1 of 1 files downloaded.  \n",
      "Done. 0:0:0.5\n",
      " 23%|██▎       | 34/150 [00:16<01:40,  1.16it/s]"
     ]
    },
    {
     "name": "stdout",
     "output_type": "stream",
     "text": [
      "Downloading BOSS_Sentiment_SemEval_BERT_ICR --- healthyml/In-Context Domain Transfer Improves Out-of-Domain Robustness/run-hhtbcw8x-semval_stabilityaiStableBeluga7b_random_16_Kyle1668bosssentimentbertbaseuncased_style_logs:v0\n"
     ]
    },
    {
     "name": "stderr",
     "output_type": "stream",
     "text": [
      "\u001b[34m\u001b[1mwandb\u001b[0m: Downloading large artifact run-hhtbcw8x-semval_stabilityaiStableBeluga7b_random_16_Kyle1668bosssentimentbertbaseuncased_style_logs:v0, 514.21MB. 1 files... \n",
      "\u001b[34m\u001b[1mwandb\u001b[0m:   1 of 1 files downloaded.  \n",
      "Done. 0:0:0.5\n",
      " 23%|██▎       | 35/150 [00:17<01:49,  1.05it/s]"
     ]
    },
    {
     "name": "stdout",
     "output_type": "stream",
     "text": [
      "Downloading BOSS_Sentiment_SemEval_T5_Insert --- healthyml/In-Context Domain Transfer Improves Out-of-Domain Robustness/run-hhtbcw8x-semval_aug_insert_random_16_Kyle1668bosssentimentt5large_style_logs:v0\n"
     ]
    },
    {
     "name": "stderr",
     "output_type": "stream",
     "text": [
      "\u001b[34m\u001b[1mwandb\u001b[0m: Downloading large artifact run-hhtbcw8x-semval_aug_insert_random_16_Kyle1668bosssentimentt5large_style_logs:v0, 469.16MB. 1 files... \n",
      "\u001b[34m\u001b[1mwandb\u001b[0m:   1 of 1 files downloaded.  \n",
      "Done. 0:0:0.5\n",
      " 24%|██▍       | 36/150 [00:19<01:54,  1.01s/it]"
     ]
    },
    {
     "name": "stdout",
     "output_type": "stream",
     "text": [
      "Downloading BOSS_Sentiment_SemEval_T5_Substitute --- healthyml/In-Context Domain Transfer Improves Out-of-Domain Robustness/run-hhtbcw8x-semval_aug_substitute_random_16_Kyle1668bosssentimentt5large_style_logs:v0\n"
     ]
    },
    {
     "name": "stderr",
     "output_type": "stream",
     "text": [
      "\u001b[34m\u001b[1mwandb\u001b[0m: Downloading large artifact run-hhtbcw8x-semval_aug_substitute_random_16_Kyle1668bosssentimentt5large_style_logs:v0, 461.58MB. 1 files... \n",
      "\u001b[34m\u001b[1mwandb\u001b[0m:   1 of 1 files downloaded.  \n",
      "Done. 0:0:0.5\n",
      " 25%|██▍       | 37/150 [00:20<01:58,  1.05s/it]"
     ]
    },
    {
     "name": "stdout",
     "output_type": "stream",
     "text": [
      "Downloading BOSS_Sentiment_SemEval_T5_Translate --- healthyml/In-Context Domain Transfer Improves Out-of-Domain Robustness/run-hhtbcw8x-semval_aug_backtranslate_random_16_Kyle1668bosssentimentt5large_style_logs:v0\n"
     ]
    },
    {
     "name": "stderr",
     "output_type": "stream",
     "text": [
      "\u001b[34m\u001b[1mwandb\u001b[0m: Downloading large artifact run-hhtbcw8x-semval_aug_backtranslate_random_16_Kyle1668bosssentimentt5large_style_logs:v0, 460.86MB. 1 files... \n",
      "\u001b[34m\u001b[1mwandb\u001b[0m:   1 of 1 files downloaded.  \n",
      "Done. 0:0:0.5\n",
      " 25%|██▌       | 38/150 [00:21<02:00,  1.08s/it]"
     ]
    },
    {
     "name": "stdout",
     "output_type": "stream",
     "text": [
      "Downloading BOSS_Sentiment_SemEval_T5_Paraphrase --- healthyml/In-Context Domain Transfer Improves Out-of-Domain Robustness/run-hhtbcw8x-semval_stabilityaiStableBeluga7b_random_0_Kyle1668bosssentimentt5large_style_logs:v0\n"
     ]
    }
   ],
   "source": [
    "# for each table path, run.use_artifact and download the artifact.\n",
    "local_paths = {}\n",
    "missing_tables = []\n",
    "for table_name, table_path in tqdm(table_paths.items()):\n",
    "    if table_path == \"\":\n",
    "        missing_tables.append(table_name)\n",
    "        continue\n",
    "\n",
    "    download_path = f\"{project_name}/{table_path}\"\n",
    "    print(f\"Downloading {table_name} --- {download_path}\")\n",
    "    artifact = run.use_artifact(download_path, type=\"run_table\")\n",
    "    artifact_dir = artifact.download(root=f\"data/{table_name}\")\n",
    "    file_name = os.listdir(artifact_dir)[0]\n",
    "    local_paths[table_name] = f\"{artifact_dir}/{file_name}\"\n",
    "\n",
    "print(f\"\\nMissing tables: {missing_tables}\")\n",
    "print(json.dumps(local_paths, indent=4))"
   ]
  },
  {
   "cell_type": "code",
   "execution_count": 6,
   "metadata": {},
   "outputs": [],
   "source": [
    "# column_renaming = {\n",
    "#     \"entropy\": \"tta_prediction_entropy\",\n",
    "#     \"mean probs\": \"tta_mean_class_probs\",\n",
    "#     \"all probs\": \"tta_all_class_probs\",\n",
    "#     \"all entropies\": \"tta_all_class_entropy\",\n",
    "#     \"latency\": \"tta_inference_latency\",\n",
    "#     \"input\": \"augmentations\",\n",
    "#     \"original_input\": \"original_text\",\n",
    "#     \"judgment\": \"tta_predicted_class\",\n",
    "#     \"original judgment\": \"original_predicted_class\",\n",
    "#     \"original entropy\": \"original_prediction_entropy\",\n",
    "#     \"entropy decrease\": \"prediction_entropy_decrease\",\n",
    "#     \"entropy decreased\": \"prediction_entropy_decreased\",\n",
    "# }\n",
    "# columns_to_drop = [\"style prompt\", \"mean exemplar distance\", \"prompt\"]\n",
    "# columns_order = [\"outcome\", \"original_text\", \"augmentations\", \"original_predicted_class\", \"tta_predicted_class\", \"label\", \"tta_inference_latency\", \"original_prediction_entropy\", \"tta_prediction_entropy\", \"prediction_entropy_decreased\", \"prediction_entropy_decrease\", \"tta_mean_class_probs\", \"tta_all_class_probs\", \"tta_all_class_entropy\", ]"
   ]
  },
  {
   "cell_type": "code",
   "execution_count": 7,
   "metadata": {},
   "outputs": [],
   "source": [
    "# test_dict = DatasetDict()\n",
    "# path = \"/home/kyobrien/repos/In-Context-Domain-Transfer-Improves-Out-of-Domain-Robustness/datasets/analysis/export_logs/artifacts/run-yanx1dus-validation_stabilityaiStableBeluga7b_random_16_Kyle1668bosssentimentbertbaseuncased_style_logs:v0/validation_stabilityai/StableBeluga-7b_random_16_Kyle1668/boss-sentiment-bert-base-uncased_style_logs.table.json\"\n",
    "# json_logs = json.load(open(path))\n",
    "# frame = pd.DataFrame(columns=json_logs[\"columns\"], data=json_logs[\"data\"])\n",
    "# frame.drop(columns=columns_to_drop, inplace=True)\n",
    "# frame.rename(columns=column_renaming, inplace=True)\n",
    "# frame = frame[columns_order]\n",
    "# frame[\"augmentations\"] = frame[\"augmentations\"].apply(lambda aug_batch: [aug.replace(\"<aug>\", \"\").replace(\"</aug>\", \"\") for aug in aug_batch[:4]] if len(aug_batch) > 0 else None)\n",
    "# frame\n",
    "\n",
    "# test_dict[\"BOSS_Sentiment_ID_BERT_ICR\"] = Dataset.from_pandas(frame)\n",
    "# test_dict.push_to_hub(\"LLM-TTA-Augmentation-Logs\")\n",
    "# test_dict"
   ]
  },
  {
   "cell_type": "code",
   "execution_count": 8,
   "metadata": {},
   "outputs": [
    {
     "ename": "KeyError",
     "evalue": "'columns'",
     "output_type": "error",
     "traceback": [
      "\u001b[0;31m---------------------------------------------------------------------------\u001b[0m",
      "\u001b[0;31mKeyError\u001b[0m                                  Traceback (most recent call last)",
      "\u001b[1;32m/home/kyobrien/repos/In-Context-Domain-Transfer-Improves-Out-of-Domain-Robustness/notebooks/export_run_analysis.ipynb Cell 7\u001b[0m line \u001b[0;36m7\n\u001b[1;32m      <a href='vscode-notebook-cell://ssh-remote%2B7b22686f73744e616d65223a22417a757265227d/home/kyobrien/repos/In-Context-Domain-Transfer-Improves-Out-of-Domain-Robustness/notebooks/export_run_analysis.ipynb#W6sdnNjb2RlLXJlbW90ZQ%3D%3D?line=4'>5</a>\u001b[0m local_path \u001b[39m=\u001b[39m \u001b[39m\"\u001b[39m\u001b[39m/home/kyobrien/repos/In-Context-Domain-Transfer-Improves-Out-of-Domain-Robustness/datasets/analysis/export_logs/export_run_analysis.ipynb\u001b[39m\u001b[39m\"\u001b[39m\n\u001b[1;32m      <a href='vscode-notebook-cell://ssh-remote%2B7b22686f73744e616d65223a22417a757265227d/home/kyobrien/repos/In-Context-Domain-Transfer-Improves-Out-of-Domain-Robustness/notebooks/export_run_analysis.ipynb#W6sdnNjb2RlLXJlbW90ZQ%3D%3D?line=5'>6</a>\u001b[0m json_file \u001b[39m=\u001b[39m json\u001b[39m.\u001b[39mload(\u001b[39mopen\u001b[39m(local_path))\n\u001b[0;32m----> <a href='vscode-notebook-cell://ssh-remote%2B7b22686f73744e616d65223a22417a757265227d/home/kyobrien/repos/In-Context-Domain-Transfer-Improves-Out-of-Domain-Robustness/notebooks/export_run_analysis.ipynb#W6sdnNjb2RlLXJlbW90ZQ%3D%3D?line=6'>7</a>\u001b[0m frame \u001b[39m=\u001b[39m pd\u001b[39m.\u001b[39mDataFrame(columns\u001b[39m=\u001b[39mjson_file[\u001b[39m\"\u001b[39;49m\u001b[39mcolumns\u001b[39;49m\u001b[39m\"\u001b[39;49m], data\u001b[39m=\u001b[39mjson_file[\u001b[39m\"\u001b[39m\u001b[39mdata\u001b[39m\u001b[39m\"\u001b[39m])\n\u001b[1;32m      <a href='vscode-notebook-cell://ssh-remote%2B7b22686f73744e616d65223a22417a757265227d/home/kyobrien/repos/In-Context-Domain-Transfer-Improves-Out-of-Domain-Robustness/notebooks/export_run_analysis.ipynb#W6sdnNjb2RlLXJlbW90ZQ%3D%3D?line=7'>8</a>\u001b[0m dataset \u001b[39m=\u001b[39m Dataset\u001b[39m.\u001b[39mfrom_pandas(frame)\n\u001b[1;32m      <a href='vscode-notebook-cell://ssh-remote%2B7b22686f73744e616d65223a22417a757265227d/home/kyobrien/repos/In-Context-Domain-Transfer-Improves-Out-of-Domain-Robustness/notebooks/export_run_analysis.ipynb#W6sdnNjb2RlLXJlbW90ZQ%3D%3D?line=8'>9</a>\u001b[0m combined_datset[split_name] \u001b[39m=\u001b[39m dataset\n",
      "\u001b[0;31mKeyError\u001b[0m: 'columns'"
     ]
    }
   ],
   "source": [
    "# create DatsetDict\n",
    "\n",
    "combined_datset = DatasetDict()\n",
    "for split_name in local_paths:\n",
    "    local_path = \"/home/kyobrien/repos/In-Context-Domain-Transfer-Improves-Out-of-Domain-Robustness/datasets/analysis/export_logs/export_run_analysis.ipynb\"\n",
    "    json_file = json.load(open(local_path))\n",
    "    frame = pd.DataFrame(columns=json_file[\"columns\"], data=json_file[\"data\"])\n",
    "    dataset = Dataset.from_pandas(frame)\n",
    "    combined_datset[split_name] = dataset\n",
    "    break\n",
    "\n",
    "combined_datset\n"
   ]
  },
  {
   "cell_type": "code",
   "execution_count": null,
   "metadata": {},
   "outputs": [],
   "source": []
  }
 ],
 "metadata": {
  "kernelspec": {
   "display_name": "eval-aug",
   "language": "python",
   "name": "python3"
  },
  "language_info": {
   "codemirror_mode": {
    "name": "ipython",
    "version": 3
   },
   "file_extension": ".py",
   "mimetype": "text/x-python",
   "name": "python",
   "nbconvert_exporter": "python",
   "pygments_lexer": "ipython3",
   "version": "3.10.13"
  }
 },
 "nbformat": 4,
 "nbformat_minor": 2
}
