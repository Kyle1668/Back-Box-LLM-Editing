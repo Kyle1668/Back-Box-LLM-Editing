{
 "cells": [
  {
   "cell_type": "code",
   "execution_count": 15,
   "metadata": {},
   "outputs": [],
   "source": [
    "from datasets import Dataset, DatasetDict\n",
    "from tqdm import tqdm\n",
    "import pandas as pd\n",
    "import json\n",
    "import wandb\n",
    "import os"
   ]
  },
  {
   "cell_type": "code",
   "execution_count": 16,
   "metadata": {},
   "outputs": [
    {
     "name": "stdout",
     "output_type": "stream",
     "text": [
      "{\n",
      "    \"BOSS_Sentiment_ID_BERT_Insert\": \"run-vj8tss18-validation_aug_insert_random_16_Kyle1668bosssentimentbertbaseuncased_style_logs:v0\",\n",
      "    \"BOSS_Sentiment_ID_BERT_Substitute\": \"\",\n",
      "    \"BOSS_Sentiment_ID_BERT_Translate\": \"\",\n",
      "    \"BOSS_Sentiment_ID_BERT_Paraphrase\": \"\",\n",
      "    \"BOSS_Sentiment_ID_BERT_ICR\": \"run-yanx1dus-validation_stabilityaiStableBeluga7b_random_16_Kyle1668bosssentimentbertbaseuncased_style_logs:v0\",\n",
      "    \"BOSS_Sentiment_Ablate_Data_ID_BERT1500_Insert\": \"\",\n",
      "    \"BOSS_Sentiment_Ablate_Data_ID_BERT1500_Substitute\": \"\",\n",
      "    \"BOSS_Sentiment_Ablate_Data_ID_BERT1500_Translate\": \"\",\n",
      "    \"BOSS_Sentiment_Ablate_Data_ID_BERT1500_Paraphrase\": \"\",\n",
      "    \"BOSS_Sentiment_Ablate_Data_ID_BERT1500_ICR\": \"\",\n",
      "    \"BOSS_Sentiment_Ablate_Data_ID_BERT3000_Insert\": \"\",\n",
      "    \"BOSS_Sentiment_Ablate_Data_ID_BERT3000_Substitute\": \"\",\n",
      "    \"BOSS_Sentiment_Ablate_Data_ID_BERT3000_Translate\": \"\",\n",
      "    \"BOSS_Sentiment_Ablate_Data_ID_BERT3000_Paraphrase\": \"\",\n",
      "    \"BOSS_Sentiment_Ablate_Data_ID_BERT3000_ICR\": \"\",\n",
      "    \"BOSS_Sentiment_Ablate_Data_ID_BERT6000_Insert\": \"\",\n",
      "    \"BOSS_Sentiment_Ablate_Data_ID_BERT6000_Substitute\": \"\",\n",
      "    \"BOSS_Sentiment_Ablate_Data_ID_BERT6000_Translate\": \"\",\n",
      "    \"BOSS_Sentiment_Ablate_Data_ID_BERT6000_Paraphrase\": \"\",\n",
      "    \"BOSS_Sentiment_Ablate_Data_ID_BERT6000_ICR\": \"\",\n",
      "    \"BOSS_Sentiment_Ablate_Data_ID_BERT120000_Insert\": \"\",\n",
      "    \"BOSS_Sentiment_Ablate_Data_ID_BERT120000_Substitute\": \"\",\n",
      "    \"BOSS_Sentiment_Ablate_Data_ID_BERT120000_Translate\": \"\",\n",
      "    \"BOSS_Sentiment_Ablate_Data_ID_BERT120000_Paraphrase\": \"\",\n",
      "    \"BOSS_Sentiment_Ablate_Data_ID_BERT120000_ICR\": \"\",\n",
      "    \"BOSS_Sentiment_Ablate_Data_ID_BERT24000_Insert\": \"\",\n",
      "    \"BOSS_Sentiment_Ablate_Data_ID_BERT24000_Substitute\": \"\",\n",
      "    \"BOSS_Sentiment_Ablate_Data_ID_BERT24000_Translate\": \"\",\n",
      "    \"BOSS_Sentiment_Ablate_Data_ID_BERT24000_Paraphrase\": \"\",\n",
      "    \"BOSS_Sentiment_Ablate_Data_ID_BERT24000_ICR\": \"\",\n",
      "    \"BOSS_Sentiment_ID_T5_Insert\": \"run-vj8tss18-validation_aug_insert_random_16_Kyle1668bosssentimentt5large_style_logs:v0\",\n",
      "    \"BOSS_Sentiment_ID_T5_Substitute\": \"run-vj8tss18-validation_aug_substitute_random_16_Kyle1668bosssentimentt5large_style_logs:v0\",\n",
      "    \"BOSS_Sentiment_ID_T5_Translate\": \"run-vj8tss18-validation_aug_backtranslate_random_16_Kyle1668bosssentimentt5large_style_logs:v0\",\n",
      "    \"BOSS_Sentiment_ID_T5_Paraphrase\": \"\",\n",
      "    \"BOSS_Sentiment_ID_T5_ICR\": \"\",\n",
      "    \"BOSS_Sentiment_ID_Falcon_Insert\": \"run-j11olfw3-validation_aug_insert_random_16_tiiuaefalcon7binstruct_style_logs:v0\",\n",
      "    \"BOSS_Sentiment_ID_Falcon_Substitute\": \"run-j11olfw3-validation_aug_substitute_random_16_tiiuaefalcon7binstruct_style_logs:v0\",\n",
      "    \"BOSS_Sentiment_ID_Falcon_Translate\": \"run-j11olfw3-validation_aug_backtranslate_random_16_tiiuaefalcon7binstruct_style_logs:v0\",\n",
      "    \"BOSS_Sentiment_ID_Falcon_Paraphrase\": \"\",\n",
      "    \"BOSS_Sentiment_ID_Falcon_ICR\": \"\",\n",
      "    \"BOSS_Sentiment_SST5_BERT_Insert\": \"run-ibb61kcx-sst5_aug_insert_random_16_Kyle1668bosssentimentbertbaseuncased_style_logs:v0\",\n",
      "    \"BOSS_Sentiment_SST5_BERT_Substitute\": \"run-ibb61kcx-sst5_aug_substitute_random_16_Kyle1668bosssentimentbertbaseuncased_style_logs:v0\",\n",
      "    \"BOSS_Sentiment_SST5_BERT_Translate\": \"run-ibb61kcx-sst5_aug_backtranslate_random_16_Kyle1668bosssentimentbertbaseuncased_style_logs:v0\",\n",
      "    \"BOSS_Sentiment_SST5_BERT_Paraphrase\": \"run-ibb61kcx-sst5_stabilityaiStableBeluga7b_random_0_Kyle1668bosssentimentbertbaseuncased_style_logs:v0\",\n",
      "    \"BOSS_Sentiment_SST5_BERT_ICR\": \"run-ibb61kcx-sst5_stabilityaiStableBeluga7b_random_16_Kyle1668bosssentimentbertbaseuncased_style_logs:v0\",\n",
      "    \"BOSS_Sentiment_Ablate_Data_SST5_BERT1500_Insert\": \"run-gdqehris-sst5_aug_insert_random_16_Kyle1668bosssentiment1500bertbaseuncased_style_logs:v0\",\n",
      "    \"BOSS_Sentiment_Ablate_Data_SST5_BERT1500_Substitute\": \"run-gdqehris-sst5_aug_substitute_random_16_Kyle1668bosssentiment1500bertbaseuncased_style_logs:v0\",\n",
      "    \"BOSS_Sentiment_Ablate_Data_SST5_BERT1500_Translate\": \"run-gdqehris-sst5_aug_backtranslate_random_16_Kyle1668bosssentiment1500bertbaseuncased_style_logs:v0\",\n",
      "    \"BOSS_Sentiment_Ablate_Data_SST5_BERT1500_Paraphrase\": \"run-gdqehris-sst5_stabilityaiStableBeluga7b_random_0_Kyle1668bosssentiment1500bertbaseuncased_style_logs:v0\",\n",
      "    \"BOSS_Sentiment_Ablate_Data_SST5_BERT1500_ICR\": \"run-gdqehris-sst5_stabilityaiStableBeluga7b_random_16_Kyle1668bosssentiment1500bertbaseuncased_style_logs:v0\",\n",
      "    \"BOSS_Sentiment_Ablate_Data_SST5_BERT3000_Insert\": \"run-gfb8nevp-sst5_aug_insert_random_16_Kyle1668bosssentiment3000bertbaseuncased_style_logs:v0\",\n",
      "    \"BOSS_Sentiment_Ablate_Data_SST5_BERT3000_Substitute\": \"run-gfb8nevp-sst5_aug_substitute_random_16_Kyle1668bosssentiment3000bertbaseuncased_style_logs:v0\",\n",
      "    \"BOSS_Sentiment_Ablate_Data_SST5_BERT3000_Translate\": \"run-gfb8nevp-sst5_aug_backtranslate_random_16_Kyle1668bosssentiment3000bertbaseuncased_style_logs:v0\",\n",
      "    \"BOSS_Sentiment_Ablate_Data_SST5_BERT3000_Paraphrase\": \"run-gfb8nevp-sst5_stabilityaiStableBeluga7b_random_0_Kyle1668bosssentiment3000bertbaseuncased_style_logs:v0\",\n",
      "    \"BOSS_Sentiment_Ablate_Data_SST5_BERT3000_ICR\": \"run-gfb8nevp-sst5_stabilityaiStableBeluga7b_random_16_Kyle1668bosssentiment3000bertbaseuncased_style_logs:v0\",\n",
      "    \"BOSS_Sentiment_Ablate_Data_SST5_BERT6000_Insert\": \"run-hg6u172t-sst5_aug_insert_random_16_Kyle1668bosssentiment6000bertbaseuncased_style_logs:v0\",\n",
      "    \"BOSS_Sentiment_Ablate_Data_SST5_BERT6000_Substitute\": \"run-hg6u172t-sst5_aug_substitute_random_16_Kyle1668bosssentiment6000bertbaseuncased_style_logs:v0\",\n",
      "    \"BOSS_Sentiment_Ablate_Data_SST5_BERT6000_Translate\": \"run-hg6u172t-sst5_aug_backtranslate_random_16_Kyle1668bosssentiment6000bertbaseuncased_style_logs:v0\",\n",
      "    \"BOSS_Sentiment_Ablate_Data_SST5_BERT6000_Paraphrase\": \"run-hg6u172t-sst5_stabilityaiStableBeluga7b_random_0_Kyle1668bosssentiment6000bertbaseuncased_style_logs:v0\",\n",
      "    \"BOSS_Sentiment_Ablate_Data_SST5_BERT6000_ICR\": \"run-hg6u172t-sst5_stabilityaiStableBeluga7b_random_16_Kyle1668bosssentiment6000bertbaseuncased_style_logs:v0\",\n",
      "    \"BOSS_Sentiment_Ablate_Data_SST5_BERT120000_Insert\": \"run-pv6dxpzt-sst5_aug_insert_random_16_Kyle1668bosssentiment12000bertbaseuncased_style_logs:v0\",\n",
      "    \"BOSS_Sentiment_Ablate_Data_SST5_BERT120000_Substitute\": \"run-pv6dxpzt-sst5_aug_substitute_random_16_Kyle1668bosssentiment12000bertbaseuncased_style_logs:v0\",\n",
      "    \"BOSS_Sentiment_Ablate_Data_SST5_BERT120000_Translate\": \"run-pv6dxpzt-sst5_aug_backtranslate_random_16_Kyle1668bosssentiment12000bertbaseuncased_style_logs:v0\",\n",
      "    \"BOSS_Sentiment_Ablate_Data_SST5_BERT120000_Paraphrase\": \"run-pv6dxpzt-sst5_stabilityaiStableBeluga7b_random_0_Kyle1668bosssentiment12000bertbaseuncased_style_logs:v0\",\n",
      "    \"BOSS_Sentiment_Ablate_Data_SST5_BERT120000_ICR\": \"run-pv6dxpzt-sst5_stabilityaiStableBeluga7b_random_16_Kyle1668bosssentiment12000bertbaseuncased_style_logs:v0\",\n",
      "    \"BOSS_Sentiment_Ablate_Data_SST5_BERT24000_Insert\": \"run-ujjjnolk-sst5_aug_insert_random_16_Kyle1668bosssentiment24000bertbaseuncased_style_logs:v0\",\n",
      "    \"BOSS_Sentiment_Ablate_Data_SST5_BERT24000_Substitute\": \"run-ujjjnolk-sst5_aug_substitute_random_16_Kyle1668bosssentiment24000bertbaseuncased_style_logs:v0\",\n",
      "    \"BOSS_Sentiment_Ablate_Data_SST5_BERT24000_Translate\": \"run-ujjjnolk-sst5_aug_backtranslate_random_16_Kyle1668bosssentiment24000bertbaseuncased_style_logs:v0\",\n",
      "    \"BOSS_Sentiment_Ablate_Data_SST5_BERT24000_Paraphrase\": \"run-ujjjnolk-sst5_stabilityaiStableBeluga7b_random_0_Kyle1668bosssentiment24000bertbaseuncased_style_logs:v0\",\n",
      "    \"BOSS_Sentiment_Ablate_Data_SST5_BERT24000_ICR\": \"run-ujjjnolk-sst5_stabilityaiStableBeluga7b_random_16_Kyle1668bosssentiment24000bertbaseuncased_style_logs:v0\",\n",
      "    \"BOSS_Sentiment_SST5_T5_Insert\": \"run-hhtbcw8x-sst5_aug_insert_random_16_Kyle1668bosssentimentt5large_style_logs:v0\",\n",
      "    \"BOSS_Sentiment_SST5_T5_Substitute\": \"run-hhtbcw8x-sst5_aug_substitute_random_16_Kyle1668bosssentimentt5large_style_logs:v0\",\n",
      "    \"BOSS_Sentiment_SST5_T5_Translate\": \"run-hhtbcw8x-sst5_aug_backtranslate_random_16_Kyle1668bosssentimentt5large_style_logs:v0\",\n",
      "    \"BOSS_Sentiment_SST5_T5_Paraphrase\": \"run-hhtbcw8x-sst5_stabilityaiStableBeluga7b_random_0_Kyle1668bosssentimentt5large_style_logs:v0\",\n",
      "    \"BOSS_Sentiment_SST5_T5_ICR\": \"run-hhtbcw8x-sst5_stabilityaiStableBeluga7b_random_16_Kyle1668bosssentimentt5large_style_logs:v0\",\n",
      "    \"BOSS_Sentiment_SST5_Falcon_Insert\": \"run-hhtbcw8x-sst5_aug_insert_random_16_tiiuaefalcon7binstruct_style_logs:v0\",\n",
      "    \"BOSS_Sentiment_SST5_Falcon_Substitute\": \"run-hhtbcw8x-sst5_aug_substitute_random_16_tiiuaefalcon7binstruct_style_logs:v0\",\n",
      "    \"BOSS_Sentiment_SST5_Falcon_Translate\": \"run-hhtbcw8x-sst5_aug_backtranslate_random_16_tiiuaefalcon7binstruct_style_logs:v0\",\n",
      "    \"BOSS_Sentiment_SST5_Falcon_Paraphrase\": \"run-hhtbcw8x-sst5_stabilityaiStableBeluga7b_random_0_tiiuaefalcon7binstruct_style_logs:v0\",\n",
      "    \"BOSS_Sentiment_SST5_Falcon_ICR\": \"run-hhtbcw8x-sst5_stabilityaiStableBeluga7b_random_16_tiiuaefalcon7binstruct_style_logs:v0\",\n",
      "    \"BOSS_Sentiment_SemEval_BERT_Insert\": \"run-ibb61kcx-semval_aug_insert_random_16_Kyle1668bosssentimentbertbaseuncased_style_logs:v0\",\n",
      "    \"BOSS_Sentiment_SemEval_BERT_Substitute\": \"run-ibb61kcx-semval_aug_substitute_random_16_Kyle1668bosssentimentbertbaseuncased_style_logs:v0\",\n",
      "    \"BOSS_Sentiment_SemEval_BERT_Translate\": \"run-ibb61kcx-semval_aug_backtranslate_random_16_Kyle1668bosssentimentbertbaseuncased_style_logs:v0\",\n",
      "    \"BOSS_Sentiment_SemEval_BERT_Paraphrase\": \"run-ibb61kcx-semval_stabilityaiStableBeluga7b_random_0_Kyle1668bosssentimentbertbaseuncased_style_logs:v0\",\n",
      "    \"BOSS_Sentiment_SemEval_BERT_ICR\": \"run-ibb61kcx-semval_stabilityaiStableBeluga7b_random_16_Kyle1668bosssentimentbertbaseuncased_style_logs:v0\",\n",
      "    \"BOSS_Sentiment_Ablate_Data_SemEval_BERT1500_Insert\": \"run-gdqehris-semval_aug_insert_random_16_Kyle1668bosssentiment1500bertbaseuncased_style_logs:v0\",\n",
      "    \"BOSS_Sentiment_Ablate_Data_SemEval_BERT1500_Substitute\": \"run-gdqehris-semval_aug_substitute_random_16_Kyle1668bosssentiment1500bertbaseuncased_style_logs:v0\",\n",
      "    \"BOSS_Sentiment_Ablate_Data_SemEval_BERT1500_Translate\": \"run-gdqehris-semval_aug_backtranslate_random_16_Kyle1668bosssentiment1500bertbaseuncased_style_logs:v0\",\n",
      "    \"BOSS_Sentiment_Ablate_Data_SemEval_BERT1500_Paraphrase\": \"run-gdqehris-semval_stabilityaiStableBeluga7b_random_0_Kyle1668bosssentiment1500bertbaseuncased_style_logs:v0\",\n",
      "    \"BOSS_Sentiment_Ablate_Data_SemEval_BERT1500_ICR\": \"run-gdqehris-semval_stabilityaiStableBeluga7b_random_16_Kyle1668bosssentiment1500bertbaseuncased_style_logs:v0\",\n",
      "    \"BOSS_Sentiment_Ablate_Data_SemEval_BERT3000_Insert\": \"run-gfb8nevp-semval_aug_insert_random_16_Kyle1668bosssentiment3000bertbaseuncased_style_logs:v0\",\n",
      "    \"BOSS_Sentiment_Ablate_Data_SemEval_BERT3000_Substitute\": \"run-gfb8nevp-semval_aug_substitute_random_16_Kyle1668bosssentiment3000bertbaseuncased_style_logs:v0\",\n",
      "    \"BOSS_Sentiment_Ablate_Data_SemEval_BERT3000_Translate\": \"run-gfb8nevp-semval_aug_backtranslate_random_16_Kyle1668bosssentiment3000bertbaseuncased_style_logs:v0\",\n",
      "    \"BOSS_Sentiment_Ablate_Data_SemEval_BERT3000_Paraphrase\": \"run-gfb8nevp-semval_stabilityaiStableBeluga7b_random_0_Kyle1668bosssentiment3000bertbaseuncased_style_logs:v0\",\n",
      "    \"BOSS_Sentiment_Ablate_Data_SemEval_BERT3000_ICR\": \"run-gfb8nevp-semval_stabilityaiStableBeluga7b_random_16_Kyle1668bosssentiment3000bertbaseuncased_style_logs:v0\",\n",
      "    \"BOSS_Sentiment_Ablate_Data_SemEval_BERT6000_Insert\": \"run-hg6u172t-semval_aug_insert_random_16_Kyle1668bosssentiment6000bertbaseuncased_style_logs:v0\",\n",
      "    \"BOSS_Sentiment_Ablate_Data_SemEval_BERT6000_Substitute\": \"run-hg6u172t-semval_aug_substitute_random_16_Kyle1668bosssentiment6000bertbaseuncased_style_logs:v0\",\n",
      "    \"BOSS_Sentiment_Ablate_Data_SemEval_BERT6000_Translate\": \"run-hg6u172t-semval_aug_backtranslate_random_16_Kyle1668bosssentiment6000bertbaseuncased_style_logs:v0\",\n",
      "    \"BOSS_Sentiment_Ablate_Data_SemEval_BERT6000_Paraphrase\": \"run-hg6u172t-semval_stabilityaiStableBeluga7b_random_0_Kyle1668bosssentiment6000bertbaseuncased_style_logs:v0\",\n",
      "    \"BOSS_Sentiment_Ablate_Data_SemEval_BERT6000_ICR\": \"run-hg6u172t-semval_stabilityaiStableBeluga7b_random_16_Kyle1668bosssentiment6000bertbaseuncased_style_logs:v0\",\n",
      "    \"BOSS_Sentiment_Ablate_Data_SemEval_BERT120000_Insert\": \"run-pv6dxpzt-semval_aug_insert_random_16_Kyle1668bosssentiment12000bertbaseuncased_style_logs:v0\",\n",
      "    \"BOSS_Sentiment_Ablate_Data_SemEval_BERT120000_Substitute\": \"run-pv6dxpzt-semval_aug_substitute_random_16_Kyle1668bosssentiment12000bertbaseuncased_style_logs:v0\",\n",
      "    \"BOSS_Sentiment_Ablate_Data_SemEval_BERT120000_Translate\": \"run-pv6dxpzt-semval_aug_backtranslate_random_16_Kyle1668bosssentiment12000bertbaseuncased_style_logs:v0\",\n",
      "    \"BOSS_Sentiment_Ablate_Data_SemEval_BERT120000_Paraphrase\": \"run-pv6dxpzt-semval_stabilityaiStableBeluga7b_random_0_Kyle1668bosssentiment12000bertbaseuncased_style_logs:v0\",\n",
      "    \"BOSS_Sentiment_Ablate_Data_SemEval_BERT120000_ICR\": \"run-pv6dxpzt-semval_stabilityaiStableBeluga7b_random_16_Kyle1668bosssentiment12000bertbaseuncased_style_logs:v0\",\n",
      "    \"BOSS_Sentiment_Ablate_Data_SemEval_BERT24000_Insert\": \"run-ujjjnolk-semval_aug_insert_random_16_Kyle1668bosssentiment24000bertbaseuncased_style_logs:v0\",\n",
      "    \"BOSS_Sentiment_Ablate_Data_SemEval_BERT24000_Substitute\": \"run-ujjjnolk-semval_aug_substitute_random_16_Kyle1668bosssentiment24000bertbaseuncased_style_logs:v0\",\n",
      "    \"BOSS_Sentiment_Ablate_Data_SemEval_BERT24000_Translate\": \"run-ujjjnolk-semval_aug_backtranslate_random_16_Kyle1668bosssentiment24000bertbaseuncased_style_logs:v0\",\n",
      "    \"BOSS_Sentiment_Ablate_Data_SemEval_BERT24000_Paraphrase\": \"run-ujjjnolk-semval_stabilityaiStableBeluga7b_random_0_Kyle1668bosssentiment24000bertbaseuncased_style_logs:v0\",\n",
      "    \"BOSS_Sentiment_Ablate_Data_SemEval_BERT24000_ICR\": \"run-ujjjnolk-semval_stabilityaiStableBeluga7b_random_16_Kyle1668bosssentiment24000bertbaseuncased_style_logs:v0\",\n",
      "    \"BOSS_Sentiment_SemEval_T5_Insert\": \"run-hhtbcw8x-semval_aug_insert_random_16_Kyle1668bosssentimentt5large_style_logs:v0\",\n",
      "    \"BOSS_Sentiment_SemEval_T5_Substitute\": \"run-hhtbcw8x-semval_aug_substitute_random_16_Kyle1668bosssentimentt5large_style_logs:v0\",\n",
      "    \"BOSS_Sentiment_SemEval_T5_Translate\": \"run-hhtbcw8x-semval_aug_backtranslate_random_16_Kyle1668bosssentimentt5large_style_logs:v0\",\n",
      "    \"BOSS_Sentiment_SemEval_T5_Paraphrase\": \"run-hhtbcw8x-semval_stabilityaiStableBeluga7b_random_0_Kyle1668bosssentimentt5large_style_logs:v0\",\n",
      "    \"BOSS_Sentiment_SemEval_T5_ICR\": \"run-hhtbcw8x-semval_stabilityaiStableBeluga7b_random_16_Kyle1668bosssentimentt5large_style_logs:v0\",\n",
      "    \"BOSS_Sentiment_SemEval_Falcon_Insert\": \"run-hhtbcw8x-semval_aug_insert_random_16_tiiuaefalcon7binstruct_style_logs:v0\",\n",
      "    \"BOSS_Sentiment_SemEval_Falcon_Substitute\": \"run-hhtbcw8x-semval_aug_substitute_random_16_tiiuaefalcon7binstruct_style_logs:v0\",\n",
      "    \"BOSS_Sentiment_SemEval_Falcon_Translate\": \"run-hhtbcw8x-semval_aug_backtranslate_random_16_tiiuaefalcon7binstruct_style_logs:v0\",\n",
      "    \"BOSS_Sentiment_SemEval_Falcon_Paraphrase\": \"run-hhtbcw8x-semval_stabilityaiStableBeluga7b_random_0_tiiuaefalcon7binstruct_style_logs:v0\",\n",
      "    \"BOSS_Sentiment_SemEval_Falcon_ICR\": \"run-hhtbcw8x-semval_stabilityaiStableBeluga7b_random_16_tiiuaefalcon7binstruct_style_logs:v0\",\n",
      "    \"BOSS_Sentiment_Dynasent_BERT_Insert\": \"run-ibb61kcx-dynasent_aug_insert_random_16_Kyle1668bosssentimentbertbaseuncased_style_logs:v0\",\n",
      "    \"BOSS_Sentiment_Dynasent_BERT_Substitute\": \"run-ibb61kcx-dynasent_aug_substitute_random_16_Kyle1668bosssentimentbertbaseuncased_style_logs:v0\",\n",
      "    \"BOSS_Sentiment_Dynasent_BERT_Translate\": \"run-ibb61kcx-dynasent_aug_backtranslate_random_16_Kyle1668bosssentimentbertbaseuncased_style_logs:v0\",\n",
      "    \"BOSS_Sentiment_Dynasent_BERT_Paraphrase\": \"run-ibb61kcx-dynasent_stabilityaiStableBeluga7b_random_0_Kyle1668bosssentimentbertbaseuncased_style_logs:v0\",\n",
      "    \"BOSS_Sentiment_Dynasent_BERT_ICR\": \"run-ibb61kcx-dynasent_stabilityaiStableBeluga7b_random_16_Kyle1668bosssentimentbertbaseuncased_style_logs:v0\",\n",
      "    \"BOSS_Sentiment_Ablate_Data_Dynasent_BERT1500_Insert\": \"run-gdqehris-dynasent_aug_insert_random_16_Kyle1668bosssentiment1500bertbaseuncased_style_logs:v0\",\n",
      "    \"BOSS_Sentiment_Ablate_Data_Dynasent_BERT1500_Substitute\": \"run-gdqehris-dynasent_aug_substitute_random_16_Kyle1668bosssentiment1500bertbaseuncased_style_logs:v0\",\n",
      "    \"BOSS_Sentiment_Ablate_Data_Dynasent_BERT1500_Translate\": \"run-gdqehris-dynasent_aug_backtranslate_random_16_Kyle1668bosssentiment1500bertbaseuncased_style_logs:v0\",\n",
      "    \"BOSS_Sentiment_Ablate_Data_Dynasent_BERT1500_Paraphrase\": \"run-gdqehris-dynasent_stabilityaiStableBeluga7b_random_0_Kyle1668bosssentiment1500bertbaseuncased_style_logs:v0\",\n",
      "    \"BOSS_Sentiment_Ablate_Data_Dynasent_BERT1500_ICR\": \"run-gdqehris-dynasent_stabilityaiStableBeluga7b_random_16_Kyle1668bosssentiment1500bertbaseuncased_style_logs:v0\",\n",
      "    \"BOSS_Sentiment_Ablate_Data_Dynasent_BERT3000_Insert\": \"run-gfb8nevp-dynasent_aug_insert_random_16_Kyle1668bosssentiment3000bertbaseuncased_style_logs:v0\",\n",
      "    \"BOSS_Sentiment_Ablate_Data_Dynasent_BERT3000_Substitute\": \"run-gfb8nevp-dynasent_aug_substitute_random_16_Kyle1668bosssentiment3000bertbaseuncased_style_logs:v0\",\n",
      "    \"BOSS_Sentiment_Ablate_Data_Dynasent_BERT3000_Translate\": \"run-gfb8nevp-dynasent_aug_backtranslate_random_16_Kyle1668bosssentiment3000bertbaseuncased_style_logs:v0\",\n",
      "    \"BOSS_Sentiment_Ablate_Data_Dynasent_BERT3000_Paraphrase\": \"run-gfb8nevp-dynasent_stabilityaiStableBeluga7b_random_0_Kyle1668bosssentiment3000bertbaseuncased_style_logs:v0\",\n",
      "    \"BOSS_Sentiment_Ablate_Data_Dynasent_BERT3000_ICR\": \"run-gfb8nevp-dynasent_stabilityaiStableBeluga7b_random_16_Kyle1668bosssentiment3000bertbaseuncased_style_logs:v0\",\n",
      "    \"BOSS_Sentiment_Ablate_Data_Dynasent_BERT6000_Insert\": \"run-hg6u172t-dynasent_aug_insert_random_16_Kyle1668bosssentiment6000bertbaseuncased_style_logs:v0\",\n",
      "    \"BOSS_Sentiment_Ablate_Data_Dynasent_BERT6000_Substitute\": \"run-hg6u172t-dynasent_aug_substitute_random_16_Kyle1668bosssentiment6000bertbaseuncased_style_logs:v0\",\n",
      "    \"BOSS_Sentiment_Ablate_Data_Dynasent_BERT6000_Translate\": \"run-hg6u172t-dynasent_aug_backtranslate_random_16_Kyle1668bosssentiment6000bertbaseuncased_style_logs:v0\",\n",
      "    \"BOSS_Sentiment_Ablate_Data_Dynasent_BERT6000_Paraphrase\": \"run-hg6u172t-dynasent_stabilityaiStableBeluga7b_random_0_Kyle1668bosssentiment6000bertbaseuncased_style_logs:v0\",\n",
      "    \"BOSS_Sentiment_Ablate_Data_Dynasent_BERT6000_ICR\": \"run-hg6u172t-dynasent_stabilityaiStableBeluga7b_random_16_Kyle1668bosssentiment6000bertbaseuncased_style_logs:v0\",\n",
      "    \"BOSS_Sentiment_Ablate_Data_Dynasent_BERT120000_Insert\": \"run-pv6dxpzt-dynasent_aug_insert_random_16_Kyle1668bosssentiment12000bertbaseuncased_style_logs:v0\",\n",
      "    \"BOSS_Sentiment_Ablate_Data_Dynasent_BERT120000_Substitute\": \"run-pv6dxpzt-dynasent_aug_substitute_random_16_Kyle1668bosssentiment12000bertbaseuncased_style_logs:v0\",\n",
      "    \"BOSS_Sentiment_Ablate_Data_Dynasent_BERT120000_Translate\": \"run-pv6dxpzt-dynasent_aug_backtranslate_random_16_Kyle1668bosssentiment12000bertbaseuncased_style_logs:v0\",\n",
      "    \"BOSS_Sentiment_Ablate_Data_Dynasent_BERT120000_Paraphrase\": \"run-pv6dxpzt-dynasent_stabilityaiStableBeluga7b_random_0_Kyle1668bosssentiment12000bertbaseuncased_style_logs:v0\",\n",
      "    \"BOSS_Sentiment_Ablate_Data_Dynasent_BERT120000_ICR\": \"run-pv6dxpzt-dynasent_stabilityaiStableBeluga7b_random_16_Kyle1668bosssentiment12000bertbaseuncased_style_logs:v0\",\n",
      "    \"BOSS_Sentiment_Ablate_Data_Dynasent_BERT24000_Insert\": \"run-ujjjnolk-dynasent_aug_insert_random_16_Kyle1668bosssentiment24000bertbaseuncased_style_logs:v0\",\n",
      "    \"BOSS_Sentiment_Ablate_Data_Dynasent_BERT24000_Substitute\": \"run-ujjjnolk-dynasent_aug_substitute_random_16_Kyle1668bosssentiment24000bertbaseuncased_style_logs:v0\",\n",
      "    \"BOSS_Sentiment_Ablate_Data_Dynasent_BERT24000_Translate\": \"run-ujjjnolk-dynasent_aug_backtranslate_random_16_Kyle1668bosssentiment24000bertbaseuncased_style_logs:v0\",\n",
      "    \"BOSS_Sentiment_Ablate_Data_Dynasent_BERT24000_Paraphrase\": \"run-ujjjnolk-dynasent_stabilityaiStableBeluga7b_random_0_Kyle1668bosssentiment24000bertbaseuncased_style_logs:v0\",\n",
      "    \"BOSS_Sentiment_Ablate_Data_Dynasent_BERT24000_ICR\": \"run-ujjjnolk-dynasent_stabilityaiStableBeluga7b_random_16_Kyle1668bosssentiment24000bertbaseuncased_style_logs:v0\",\n",
      "    \"BOSS_Sentiment_Dynasent_T5_Insert\": \"run-hhtbcw8x-dynasent_aug_insert_random_16_Kyle1668bosssentimentt5large_style_logs:v0\",\n",
      "    \"BOSS_Sentiment_Dynasent_T5_Substitute\": \"run-hhtbcw8x-dynasent_aug_substitute_random_16_Kyle1668bosssentimentt5large_style_logs:v0\",\n",
      "    \"BOSS_Sentiment_Dynasent_T5_Translate\": \"run-hhtbcw8x-dynasent_aug_backtranslate_random_16_Kyle1668bosssentimentt5large_style_logs:v0\",\n",
      "    \"BOSS_Sentiment_Dynasent_T5_Paraphrase\": \"run-hhtbcw8x-dynasent_stabilityaiStableBeluga7b_random_0_Kyle1668bosssentimentt5large_style_logs:v0\",\n",
      "    \"BOSS_Sentiment_Dynasent_T5_ICR\": \"run-hhtbcw8x-dynasent_stabilityaiStableBeluga7b_random_16_Kyle1668bosssentimentt5large_style_logs:v0\",\n",
      "    \"BOSS_Sentiment_Dynasent_Falcon_Insert\": \"run-hhtbcw8x-dynasent_aug_insert_random_16_tiiuaefalcon7binstruct_style_logs:v0\",\n",
      "    \"BOSS_Sentiment_Dynasent_Falcon_Substitute\": \"run-hhtbcw8x-dynasent_aug_substitute_random_16_tiiuaefalcon7binstruct_style_logs:v0\",\n",
      "    \"BOSS_Sentiment_Dynasent_Falcon_Translate\": \"run-hhtbcw8x-dynasent_aug_backtranslate_random_16_tiiuaefalcon7binstruct_style_logs:v0\",\n",
      "    \"BOSS_Sentiment_Dynasent_Falcon_Paraphrase\": \"run-hhtbcw8x-dynasent_stabilityaiStableBeluga7b_random_0_tiiuaefalcon7binstruct_style_logs:v0\",\n",
      "    \"BOSS_Sentiment_Dynasent_Falcon_ICR\": \"run-hhtbcw8x-dynasent_stabilityaiStableBeluga7b_random_16_tiiuaefalcon7binstruct_style_logs:v0\",\n",
      "    \"BOSS_Toxicity_ID_BERT_Insert\": \"\",\n",
      "    \"BOSS_Toxicity_ID_BERT_Substitute\": \"\",\n",
      "    \"BOSS_Toxicity_ID_BERT_Translate\": \"\",\n",
      "    \"BOSS_Toxicity_ID_BERT_Paraphrase\": \"\",\n",
      "    \"BOSS_Toxicity_ID_BERT_ICR\": \"run-dvdcuuij-validation_stabilityaiStableBeluga7b_random_16_Kyle1668bosstoxicitybertbaseuncased_style_logs:v0\",\n",
      "    \"BOSS_Toxicity_Ablate_Data_ID_BERT3000_Insert\": \"\",\n",
      "    \"BOSS_Toxicity_Ablate_Data_ID_BERT3000_Substitute\": \"\",\n",
      "    \"BOSS_Toxicity_Ablate_Data_ID_BERT3000_Translate\": \"\",\n",
      "    \"BOSS_Toxicity_Ablate_Data_ID_BERT3000_Paraphrase\": \"\",\n",
      "    \"BOSS_Toxicity_Ablate_Data_ID_BERT3000_ICR\": \"\",\n",
      "    \"BOSS_Toxicity_Ablate_Data_ID_BERT6000_Insert\": \"\",\n",
      "    \"BOSS_Toxicity_Ablate_Data_ID_BERT6000_Substitute\": \"\",\n",
      "    \"BOSS_Toxicity_Ablate_Data_ID_BERT6000_Translate\": \"\",\n",
      "    \"BOSS_Toxicity_Ablate_Data_ID_BERT6000_Paraphrase\": \"\",\n",
      "    \"BOSS_Toxicity_Ablate_Data_ID_BERT6000_ICR\": \"\",\n",
      "    \"BOSS_Toxicity_Ablate_Data_ID_BERT12000_Insert\": \"\",\n",
      "    \"BOSS_Toxicity_Ablate_Data_ID_BERT12000_Substitute\": \"\",\n",
      "    \"BOSS_Toxicity_Ablate_Data_ID_BERT12000_Translate\": \"\",\n",
      "    \"BOSS_Toxicity_Ablate_Data_ID_BERT12000_Paraphrase\": \"\",\n",
      "    \"BOSS_Toxicity_Ablate_Data_ID_BERT12000_ICR\": \"\",\n",
      "    \"BOSS_Toxicity_Ablate_Data_ID_BERT24000_Insert\": \"\",\n",
      "    \"BOSS_Toxicity_Ablate_Data_ID_BERT24000_Substitute\": \"\",\n",
      "    \"BOSS_Toxicity_Ablate_Data_ID_BERT24000_Translate\": \"\",\n",
      "    \"BOSS_Toxicity_Ablate_Data_ID_BERT24000_Paraphrase\": \"\",\n",
      "    \"BOSS_Toxicity_Ablate_Data_ID_BERT24000_ICR\": \"\",\n",
      "    \"BOSS_Toxicity_Ablate_Data_ID_BERT48000_Insert\": \"\",\n",
      "    \"BOSS_Toxicity_Ablate_Data_ID_BERT48000_Substitute\": \"\",\n",
      "    \"BOSS_Toxicity_Ablate_Data_ID_BERT48000_Translate\": \"\",\n",
      "    \"BOSS_Toxicity_Ablate_Data_ID_BERT48000_Paraphrase\": \"\",\n",
      "    \"BOSS_Toxicity_Ablate_Data_ID_BERT48000_ICR\": \"\",\n",
      "    \"BOSS_Toxicity_ID_T5_Insert\": \"\",\n",
      "    \"BOSS_Toxicity_ID_T5_Substitute\": \"\",\n",
      "    \"BOSS_Toxicity_ID_T5_Translate\": \"\",\n",
      "    \"BOSS_Toxicity_ID_T5_Paraphrase\": \"\",\n",
      "    \"BOSS_Toxicity_ID_T5_ICR\": \"\",\n",
      "    \"BOSS_Toxicity_ID_Falcon_Insert\": \"run-bo8gbtun-validation_aug_insert_random_16_tiiuaefalcon7binstruct_style_logs:v0\",\n",
      "    \"BOSS_Toxicity_ID_Falcon_Substitute\": \"\",\n",
      "    \"BOSS_Toxicity_ID_Falcon_Translate\": \"\",\n",
      "    \"BOSS_Toxicity_ID_Falcon_Paraphrase\": \"\",\n",
      "    \"BOSS_Toxicity_ID_Falcon_ICR\": \"\",\n",
      "    \"BOSS_Toxicity_Toxigen_BERT_Insert\": \"run-56jek2cf-toxigen_aug_insert_random_16_Kyle1668bosstoxicitybertbaseuncased_style_logs:v0\",\n",
      "    \"BOSS_Toxicity_Toxigen_BERT_Substitute\": \"run-56jek2cf-toxigen_aug_substitute_random_16_Kyle1668bosstoxicitybertbaseuncased_style_logs:v0\",\n",
      "    \"BOSS_Toxicity_Toxigen_BERT_Translate\": \"run-56jek2cf-toxigen_aug_backtranslate_random_16_Kyle1668bosstoxicitybertbaseuncased_style_logs:v0\",\n",
      "    \"BOSS_Toxicity_Toxigen_BERT_Paraphrase\": \"run-56jek2cf-toxigen_stabilityaiStableBeluga7b_random_0_Kyle1668bosstoxicitybertbaseuncased_style_logs:v0\",\n",
      "    \"BOSS_Toxicity_Toxigen_BERT_ICR\": \"run-56jek2cf-toxigen_stabilityaiStableBeluga7b_random_16_Kyle1668bosstoxicitybertbaseuncased_style_logs:v0\",\n",
      "    \"BOSS_Toxicity_Ablate_Data_Toxigen_BERT3000_Insert\": \"run-2ecsgmy9-toxigen_aug_insert_random_16_Kyle1668bosstoxicity6000bertbaseuncased_style_logs:v0\",\n",
      "    \"BOSS_Toxicity_Ablate_Data_Toxigen_BERT3000_Substitute\": \"run-2ecsgmy9-toxigen_aug_substitute_random_16_Kyle1668bosstoxicity6000bertbaseuncased_style_logs:v0\",\n",
      "    \"BOSS_Toxicity_Ablate_Data_Toxigen_BERT3000_Translate\": \"run-2ecsgmy9-toxigen_aug_backtranslate_random_16_Kyle1668bosstoxicity6000bertbaseuncased_style_logs:v0\",\n",
      "    \"BOSS_Toxicity_Ablate_Data_Toxigen_BERT3000_Paraphrase\": \"run-2ecsgmy9-toxigen_stabilityaiStableBeluga7b_random_0_Kyle1668bosstoxicity6000bertbaseuncased_style_logs:v0\",\n",
      "    \"BOSS_Toxicity_Ablate_Data_Toxigen_BERT3000_ICR\": \"run-2ecsgmy9-toxigen_stabilityaiStableBeluga7b_random_16_Kyle1668bosstoxicity6000bertbaseuncased_style_logs:v0\",\n",
      "    \"BOSS_Toxicity_Ablate_Data_Toxigen_BERT6000_Insert\": \"run-ms2943fk-toxigen_aug_insert_random_16_Kyle1668bosstoxicity3000bertbaseuncased_style_logs:v0\",\n",
      "    \"BOSS_Toxicity_Ablate_Data_Toxigen_BERT6000_Substitute\": \"run-ms2943fk-toxigen_aug_substitute_random_16_Kyle1668bosstoxicity3000bertbaseuncased_style_logs:v0\",\n",
      "    \"BOSS_Toxicity_Ablate_Data_Toxigen_BERT6000_Translate\": \"run-ms2943fk-toxigen_aug_backtranslate_random_16_Kyle1668bosstoxicity3000bertbaseuncased_style_logs:v0\",\n",
      "    \"BOSS_Toxicity_Ablate_Data_Toxigen_BERT6000_Paraphrase\": \"run-ms2943fk-toxigen_stabilityaiStableBeluga7b_random_0_Kyle1668bosstoxicity3000bertbaseuncased_style_logs:v0\",\n",
      "    \"BOSS_Toxicity_Ablate_Data_Toxigen_BERT6000_ICR\": \"run-ms2943fk-toxigen_stabilityaiStableBeluga7b_random_16_Kyle1668bosstoxicity3000bertbaseuncased_style_logs:v0\",\n",
      "    \"BOSS_Toxicity_Ablate_Data_Toxigen_BERT12000_Insert\": \"run-7hgtyr98-toxigen_aug_insert_random_16_Kyle1668bosstoxicity12000bertbaseuncased_style_logs:v0\",\n",
      "    \"BOSS_Toxicity_Ablate_Data_Toxigen_BERT12000_Substitute\": \"run-7hgtyr98-toxigen_aug_substitute_random_16_Kyle1668bosstoxicity12000bertbaseuncased_style_logs:v0\",\n",
      "    \"BOSS_Toxicity_Ablate_Data_Toxigen_BERT12000_Translate\": \"run-7hgtyr98-toxigen_aug_backtranslate_random_16_Kyle1668bosstoxicity12000bertbaseuncased_style_logs:v0\",\n",
      "    \"BOSS_Toxicity_Ablate_Data_Toxigen_BERT12000_Paraphrase\": \"run-7hgtyr98-toxigen_stabilityaiStableBeluga7b_random_0_Kyle1668bosstoxicity12000bertbaseuncased_style_logs:v0\",\n",
      "    \"BOSS_Toxicity_Ablate_Data_Toxigen_BERT12000_ICR\": \"run-7hgtyr98-toxigen_stabilityaiStableBeluga7b_random_16_Kyle1668bosstoxicity12000bertbaseuncased_style_logs:v0\",\n",
      "    \"BOSS_Toxicity_Ablate_Data_Toxigen_BERT24000_Insert\": \"run-wl2a38kf-toxigen_aug_insert_random_16_Kyle1668bosstoxicity24000bertbaseuncased_style_logs:v0\",\n",
      "    \"BOSS_Toxicity_Ablate_Data_Toxigen_BERT24000_Substitute\": \"run-wl2a38kf-toxigen_aug_substitute_random_16_Kyle1668bosstoxicity24000bertbaseuncased_style_logs:v0\",\n",
      "    \"BOSS_Toxicity_Ablate_Data_Toxigen_BERT24000_Translate\": \"run-wl2a38kf-toxigen_aug_backtranslate_random_16_Kyle1668bosstoxicity24000bertbaseuncased_style_logs:v0\",\n",
      "    \"BOSS_Toxicity_Ablate_Data_Toxigen_BERT24000_Paraphrase\": \"run-wl2a38kf-toxigen_stabilityaiStableBeluga7b_random_0_Kyle1668bosstoxicity24000bertbaseuncased_style_logs:v0\",\n",
      "    \"BOSS_Toxicity_Ablate_Data_Toxigen_BERT24000_ICR\": \"run-wl2a38kf-toxigen_stabilityaiStableBeluga7b_random_16_Kyle1668bosstoxicity24000bertbaseuncased_style_logs:v0\",\n",
      "    \"BOSS_Toxicity_Ablate_Data_Toxigen_BERT48000_Insert\": \"run-iaorx9o7-toxigen_aug_insert_random_16_Kyle1668bosstoxicity48000bertbaseuncased_style_logs:v0\",\n",
      "    \"BOSS_Toxicity_Ablate_Data_Toxigen_BERT48000_Substitute\": \"run-iaorx9o7-toxigen_aug_substitute_random_16_Kyle1668bosstoxicity48000bertbaseuncased_style_logs:v0\",\n",
      "    \"BOSS_Toxicity_Ablate_Data_Toxigen_BERT48000_Translate\": \"run-iaorx9o7-toxigen_aug_backtranslate_random_16_Kyle1668bosstoxicity48000bertbaseuncased_style_logs:v0\",\n",
      "    \"BOSS_Toxicity_Ablate_Data_Toxigen_BERT48000_Paraphrase\": \"run-iaorx9o7-toxigen_stabilityaiStableBeluga7b_random_0_Kyle1668bosstoxicity48000bertbaseuncased_style_logs:v0\",\n",
      "    \"BOSS_Toxicity_Ablate_Data_Toxigen_BERT48000_ICR\": \"run-iaorx9o7-toxigen_stabilityaiStableBeluga7b_random_16_Kyle1668bosstoxicity48000bertbaseuncased_style_logs:v0\",\n",
      "    \"BOSS_Toxicity_Toxigen_T5_Insert\": \"run-lixlm6qh-toxigen_aug_insert_random_16_Kyle1668bosstoxicityt5large_style_logs:v0\",\n",
      "    \"BOSS_Toxicity_Toxigen_T5_Substitute\": \"run-lixlm6qh-toxigen_aug_substitute_random_16_Kyle1668bosstoxicityt5large_style_logs:v0\",\n",
      "    \"BOSS_Toxicity_Toxigen_T5_Translate\": \"run-lixlm6qh-toxigen_aug_backtranslate_random_16_Kyle1668bosstoxicityt5large_style_logs:v0\",\n",
      "    \"BOSS_Toxicity_Toxigen_T5_Paraphrase\": \"run-lixlm6qh-toxigen_stabilityaiStableBeluga7b_random_0_Kyle1668bosstoxicityt5large_style_logs:v0\",\n",
      "    \"BOSS_Toxicity_Toxigen_T5_ICR\": \"run-lixlm6qh-toxigen_stabilityaiStableBeluga7b_random_16_Kyle1668bosstoxicityt5large_style_logs:v0\",\n",
      "    \"BOSS_Toxicity_Toxigen_Falcon_Insert\": \"run-lixlm6qh-toxigen_aug_insert_random_16_tiiuaefalcon7binstruct_style_logs:v0\",\n",
      "    \"BOSS_Toxicity_Toxigen_Falcon_Substitute\": \"run-lixlm6qh-toxigen_aug_substitute_random_16_tiiuaefalcon7binstruct_style_logs:v0\",\n",
      "    \"BOSS_Toxicity_Toxigen_Falcon_Translate\": \"run-lixlm6qh-toxigen_aug_backtranslate_random_16_tiiuaefalcon7binstruct_style_logs:v0\",\n",
      "    \"BOSS_Toxicity_Toxigen_Falcon_Paraphrase\": \"run-lixlm6qh-toxigen_stabilityaiStableBeluga7b_random_0_tiiuaefalcon7binstruct_style_logs:v0\",\n",
      "    \"BOSS_Toxicity_Toxigen_Falcon_ICR\": \"run-lixlm6qh-toxigen_stabilityaiStableBeluga7b_random_16_tiiuaefalcon7binstruct_style_logs:v0\",\n",
      "    \"BOSS_Toxicity_ImplicitHate_BERT_Insert\": \"run-56jek2cf-implicit_hate_aug_insert_random_16_Kyle1668bosstoxicitybertbaseuncased_style_logs:v0\",\n",
      "    \"BOSS_Toxicity_ImplicitHate_BERT_Substitute\": \"run-56jek2cf-implicit_hate_aug_substitute_random_16_Kyle1668bosstoxicitybertbaseuncased_style_logs:v0\",\n",
      "    \"BOSS_Toxicity_ImplicitHate_BERT_Translate\": \"run-56jek2cf-implicit_hate_aug_backtranslate_random_16_Kyle1668bosstoxicitybertbaseuncased_style_logs:v0\",\n",
      "    \"BOSS_Toxicity_ImplicitHate_BERT_Paraphrase\": \"run-56jek2cf-implicit_hate_stabilityaiStableBeluga7b_random_0_Kyle1668bosstoxicitybertbaseuncased_style_logs:v0\",\n",
      "    \"BOSS_Toxicity_ImplicitHate_BERT_ICR\": \"run-56jek2cf-implicit_hate_stabilityaiStableBeluga7b_random_16_Kyle1668bosstoxicitybertbaseuncased_style_logs:v0\",\n",
      "    \"BOSS_Toxicity_Ablate_Data_ImplicitHate_BERT3000_Insert\": \"run-ms2943fk-implicit_hate_aug_insert_random_16_Kyle1668bosstoxicity3000bertbaseuncased_style_logs:v0\",\n",
      "    \"BOSS_Toxicity_Ablate_Data_ImplicitHate_BERT3000_Substitute\": \"run-ms2943fk-implicit_hate_aug_substitute_random_16_Kyle1668bosstoxicity3000bertbaseuncased_style_logs:v0\",\n",
      "    \"BOSS_Toxicity_Ablate_Data_ImplicitHate_BERT3000_Translate\": \"run-ms2943fk-implicit_hate_aug_backtranslate_random_16_Kyle1668bosstoxicity3000bertbaseuncased_style_logs:v0\",\n",
      "    \"BOSS_Toxicity_Ablate_Data_ImplicitHate_BERT3000_Paraphrase\": \"run-ms2943fk-implicit_hate_stabilityaiStableBeluga7b_random_0_Kyle1668bosstoxicity3000bertbaseuncased_style_logs:v0\",\n",
      "    \"BOSS_Toxicity_Ablate_Data_ImplicitHate_BERT3000_ICR\": \"run-ms2943fk-implicit_hate_stabilityaiStableBeluga7b_random_16_Kyle1668bosstoxicity3000bertbaseuncased_style_logs:v0\",\n",
      "    \"BOSS_Toxicity_Ablate_Data_ImplicitHate_BERT6000_Insert\": \"run-2ecsgmy9-implicit_hate_aug_insert_random_16_Kyle1668bosstoxicity6000bertbaseuncased_style_logs:v0\",\n",
      "    \"BOSS_Toxicity_Ablate_Data_ImplicitHate_BERT6000_Substitute\": \"run-2ecsgmy9-implicit_hate_aug_substitute_random_16_Kyle1668bosstoxicity6000bertbaseuncased_style_logs:v0\",\n",
      "    \"BOSS_Toxicity_Ablate_Data_ImplicitHate_BERT6000_Translate\": \"run-2ecsgmy9-implicit_hate_aug_backtranslate_random_16_Kyle1668bosstoxicity6000bertbaseuncased_style_logs:v0\",\n",
      "    \"BOSS_Toxicity_Ablate_Data_ImplicitHate_BERT6000_Paraphrase\": \"run-2ecsgmy9-implicit_hate_stabilityaiStableBeluga7b_random_0_Kyle1668bosstoxicity6000bertbaseuncased_style_logs:v0\",\n",
      "    \"BOSS_Toxicity_Ablate_Data_ImplicitHate_BERT6000_ICR\": \"run-2ecsgmy9-implicit_hate_stabilityaiStableBeluga7b_random_16_Kyle1668bosstoxicity6000bertbaseuncased_style_logs:v0\",\n",
      "    \"BOSS_Toxicity_Ablate_Data_ImplicitHate_BERT12000_Insert\": \"run-7hgtyr98-implicit_hate_aug_insert_random_16_Kyle1668bosstoxicity12000bertbaseuncased_style_logs:v0\",\n",
      "    \"BOSS_Toxicity_Ablate_Data_ImplicitHate_BERT12000_Substitute\": \"run-7hgtyr98-implicit_hate_aug_substitute_random_16_Kyle1668bosstoxicity12000bertbaseuncased_style_logs:v0\",\n",
      "    \"BOSS_Toxicity_Ablate_Data_ImplicitHate_BERT12000_Translate\": \"run-7hgtyr98-implicit_hate_aug_backtranslate_random_16_Kyle1668bosstoxicity12000bertbaseuncased_style_logs:v0\",\n",
      "    \"BOSS_Toxicity_Ablate_Data_ImplicitHate_BERT12000_Paraphrase\": \"run-7hgtyr98-implicit_hate_stabilityaiStableBeluga7b_random_0_Kyle1668bosstoxicity12000bertbaseuncased_style_logs:v0\",\n",
      "    \"BOSS_Toxicity_Ablate_Data_ImplicitHate_BERT12000_ICR\": \"run-7hgtyr98-implicit_hate_stabilityaiStableBeluga7b_random_16_Kyle1668bosstoxicity12000bertbaseuncased_style_logs:v0\",\n",
      "    \"BOSS_Toxicity_Ablate_Data_ImplicitHate_BERT24000_Insert\": \"run-wl2a38kf-implicit_hate_aug_insert_random_16_Kyle1668bosstoxicity24000bertbaseuncased_style_logs:v0\",\n",
      "    \"BOSS_Toxicity_Ablate_Data_ImplicitHate_BERT24000_Substitute\": \"run-wl2a38kf-implicit_hate_aug_substitute_random_16_Kyle1668bosstoxicity24000bertbaseuncased_style_logs:v0\",\n",
      "    \"BOSS_Toxicity_Ablate_Data_ImplicitHate_BERT24000_Translate\": \"run-wl2a38kf-implicit_hate_aug_backtranslate_random_16_Kyle1668bosstoxicity24000bertbaseuncased_style_logs:v0\",\n",
      "    \"BOSS_Toxicity_Ablate_Data_ImplicitHate_BERT24000_Paraphrase\": \"run-wl2a38kf-implicit_hate_stabilityaiStableBeluga7b_random_0_Kyle1668bosstoxicity24000bertbaseuncased_style_logs:v0\",\n",
      "    \"BOSS_Toxicity_Ablate_Data_ImplicitHate_BERT24000_ICR\": \"run-wl2a38kf-implicit_hate_stabilityaiStableBeluga7b_random_16_Kyle1668bosstoxicity24000bertbaseuncased_style_logs:v0\",\n",
      "    \"BOSS_Toxicity_Ablate_Data_ImplicitHate_BERT48000_Insert\": \"run-iaorx9o7-implicit_hate_aug_insert_random_16_Kyle1668bosstoxicity48000bertbaseuncased_style_logs:v0\",\n",
      "    \"BOSS_Toxicity_Ablate_Data_ImplicitHate_BERT48000_Substitute\": \"run-iaorx9o7-implicit_hate_aug_substitute_random_16_Kyle1668bosstoxicity48000bertbaseuncased_style_logs:v0\",\n",
      "    \"BOSS_Toxicity_Ablate_Data_ImplicitHate_BERT48000_Translate\": \"run-iaorx9o7-implicit_hate_aug_backtranslate_random_16_Kyle1668bosstoxicity48000bertbaseuncased_style_logs:v0\",\n",
      "    \"BOSS_Toxicity_Ablate_Data_ImplicitHate_BERT48000_Paraphrase\": \"run-iaorx9o7-implicit_hate_stabilityaiStableBeluga7b_random_0_Kyle1668bosstoxicity48000bertbaseuncased_style_logs:v0\",\n",
      "    \"BOSS_Toxicity_Ablate_Data_ImplicitHate_BERT48000_ICR\": \"run-iaorx9o7-implicit_hate_stabilityaiStableBeluga7b_random_16_Kyle1668bosstoxicity48000bertbaseuncased_style_logs:v0\",\n",
      "    \"BOSS_Toxicity_ImplicitHate_T5_Insert\": \"run-lixlm6qh-implicit_hate_aug_insert_random_16_Kyle1668bosstoxicityt5large_style_logs:v0\",\n",
      "    \"BOSS_Toxicity_ImplicitHate_T5_Substitute\": \"run-lixlm6qh-implicit_hate_aug_substitute_random_16_Kyle1668bosstoxicityt5large_style_logs:v0\",\n",
      "    \"BOSS_Toxicity_ImplicitHate_T5_Translate\": \"run-lixlm6qh-implicit_hate_aug_backtranslate_random_16_Kyle1668bosstoxicityt5large_style_logs:v0\",\n",
      "    \"BOSS_Toxicity_ImplicitHate_T5_Paraphrase\": \"run-lixlm6qh-implicit_hate_stabilityaiStableBeluga7b_random_0_Kyle1668bosstoxicityt5large_style_logs:v0\",\n",
      "    \"BOSS_Toxicity_ImplicitHate_T5_ICR\": \"run-lixlm6qh-implicit_hate_stabilityaiStableBeluga7b_random_16_Kyle1668bosstoxicityt5large_style_logs:v0\",\n",
      "    \"BOSS_Toxicity_ImplicitHate_Falcon_Insert\": \"run-lixlm6qh-implicit_hate_aug_insert_random_16_tiiuaefalcon7binstruct_style_logs:v0\",\n",
      "    \"BOSS_Toxicity_ImplicitHate_Falcon_Substitute\": \"run-lixlm6qh-implicit_hate_aug_substitute_random_16_tiiuaefalcon7binstruct_style_logs:v0\",\n",
      "    \"BOSS_Toxicity_ImplicitHate_Falcon_Translate\": \"run-lixlm6qh-implicit_hate_aug_backtranslate_random_16_tiiuaefalcon7binstruct_style_logs:v0\",\n",
      "    \"BOSS_Toxicity_ImplicitHate_Falcon_Paraphrase\": \"\",\n",
      "    \"BOSS_Toxicity_ImplicitHate_Falcon_ICR\": \"\",\n",
      "    \"BOSS_Toxicity_AdvCivil_BERT_Insert\": \"run-56jek2cf-adv_civil_aug_insert_random_16_Kyle1668bosstoxicitybertbaseuncased_style_logs:v0\",\n",
      "    \"BOSS_Toxicity_AdvCivil_BERT_Substitute\": \"run-56jek2cf-adv_civil_aug_substitute_random_16_Kyle1668bosstoxicitybertbaseuncased_style_logs:v0\",\n",
      "    \"BOSS_Toxicity_AdvCivil_BERT_Translate\": \"run-56jek2cf-adv_civil_aug_backtranslate_random_16_Kyle1668bosstoxicitybertbaseuncased_style_logs:v0\",\n",
      "    \"BOSS_Toxicity_AdvCivil_BERT_Paraphrase\": \"run-56jek2cf-adv_civil_stabilityaiStableBeluga7b_random_0_Kyle1668bosstoxicitybertbaseuncased_style_logs:v0\",\n",
      "    \"BOSS_Toxicity_AdvCivil_BERT_ICR\": \"run-56jek2cf-adv_civil_stabilityaiStableBeluga7b_random_16_Kyle1668bosstoxicitybertbaseuncased_style_logs:v0\",\n",
      "    \"BOSS_Toxicity_Ablate_Data_AdvCivil_BERT3000_Insert\": \"run-ms2943fk-adv_civil_aug_insert_random_16_Kyle1668bosstoxicity3000bertbaseuncased_style_logs:v0\",\n",
      "    \"BOSS_Toxicity_Ablate_Data_AdvCivil_BERT3000_Substitute\": \"run-ms2943fk-adv_civil_aug_substitute_random_16_Kyle1668bosstoxicity3000bertbaseuncased_style_logs:v0\",\n",
      "    \"BOSS_Toxicity_Ablate_Data_AdvCivil_BERT3000_Translate\": \"run-ms2943fk-adv_civil_aug_backtranslate_random_16_Kyle1668bosstoxicity3000bertbaseuncased_style_logs:v0\",\n",
      "    \"BOSS_Toxicity_Ablate_Data_AdvCivil_BERT3000_Paraphrase\": \"run-ms2943fk-adv_civil_stabilityaiStableBeluga7b_random_0_Kyle1668bosstoxicity3000bertbaseuncased_style_logs:v0\",\n",
      "    \"BOSS_Toxicity_Ablate_Data_AdvCivil_BERT3000_ICR\": \"run-ms2943fk-adv_civil_stabilityaiStableBeluga7b_random_16_Kyle1668bosstoxicity3000bertbaseuncased_style_logs:v0\",\n",
      "    \"BOSS_Toxicity_Ablate_Data_AdvCivil_BERT6000_Insert\": \"run-2ecsgmy9-adv_civil_aug_insert_random_16_Kyle1668bosstoxicity6000bertbaseuncased_style_logs:v0\",\n",
      "    \"BOSS_Toxicity_Ablate_Data_AdvCivil_BERT6000_Substitute\": \"run-2ecsgmy9-adv_civil_aug_substitute_random_16_Kyle1668bosstoxicity6000bertbaseuncased_style_logs:v0\",\n",
      "    \"BOSS_Toxicity_Ablate_Data_AdvCivil_BERT6000_Translate\": \"run-2ecsgmy9-adv_civil_aug_backtranslate_random_16_Kyle1668bosstoxicity6000bertbaseuncased_style_logs:v0\",\n",
      "    \"BOSS_Toxicity_Ablate_Data_AdvCivil_BERT6000_Paraphrase\": \"run-2ecsgmy9-adv_civil_stabilityaiStableBeluga7b_random_0_Kyle1668bosstoxicity6000bertbaseuncased_style_logs:v0\",\n",
      "    \"BOSS_Toxicity_Ablate_Data_AdvCivil_BERT6000_ICR\": \"run-2ecsgmy9-adv_civil_stabilityaiStableBeluga7b_random_16_Kyle1668bosstoxicity6000bertbaseuncased_style_logs:v0\",\n",
      "    \"BOSS_Toxicity_Ablate_Data_AdvCivil_BERT12000_Insert\": \"run-7hgtyr98-adv_civil_aug_insert_random_16_Kyle1668bosstoxicity12000bertbaseuncased_style_logs:v0\",\n",
      "    \"BOSS_Toxicity_Ablate_Data_AdvCivil_BERT12000_Substitute\": \"run-7hgtyr98-adv_civil_aug_substitute_random_16_Kyle1668bosstoxicity12000bertbaseuncased_style_logs:v0\",\n",
      "    \"BOSS_Toxicity_Ablate_Data_AdvCivil_BERT12000_Translate\": \"run-7hgtyr98-adv_civil_aug_backtranslate_random_16_Kyle1668bosstoxicity12000bertbaseuncased_style_logs:v0\",\n",
      "    \"BOSS_Toxicity_Ablate_Data_AdvCivil_BERT12000_Paraphrase\": \"run-7hgtyr98-adv_civil_stabilityaiStableBeluga7b_random_0_Kyle1668bosstoxicity12000bertbaseuncased_style_logs:v0\",\n",
      "    \"BOSS_Toxicity_Ablate_Data_AdvCivil_BERT12000_ICR\": \"run-7hgtyr98-adv_civil_stabilityaiStableBeluga7b_random_16_Kyle1668bosstoxicity12000bertbaseuncased_style_logs:v0\",\n",
      "    \"BOSS_Toxicity_Ablate_Data_AdvCivil_BERT24000_Insert\": \"run-wl2a38kf-adv_civil_aug_insert_random_16_Kyle1668bosstoxicity24000bertbaseuncased_style_logs:v0\",\n",
      "    \"BOSS_Toxicity_Ablate_Data_AdvCivil_BERT24000_Substitute\": \"run-wl2a38kf-adv_civil_aug_substitute_random_16_Kyle1668bosstoxicity24000bertbaseuncased_style_logs:v0\",\n",
      "    \"BOSS_Toxicity_Ablate_Data_AdvCivil_BERT24000_Translate\": \"run-wl2a38kf-adv_civil_aug_backtranslate_random_16_Kyle1668bosstoxicity24000bertbaseuncased_style_logs:v0\",\n",
      "    \"BOSS_Toxicity_Ablate_Data_AdvCivil_BERT24000_Paraphrase\": \"run-wl2a38kf-adv_civil_stabilityaiStableBeluga7b_random_0_Kyle1668bosstoxicity24000bertbaseuncased_style_logs:v0\",\n",
      "    \"BOSS_Toxicity_Ablate_Data_AdvCivil_BERT24000_ICR\": \"run-wl2a38kf-adv_civil_stabilityaiStableBeluga7b_random_16_Kyle1668bosstoxicity24000bertbaseuncased_style_logs:v0\",\n",
      "    \"BOSS_Toxicity_Ablate_Data_AdvCivil_BERT48000_Insert\": \"run-iaorx9o7-adv_civil_aug_insert_random_16_Kyle1668bosstoxicity48000bertbaseuncased_style_logs:v0\",\n",
      "    \"BOSS_Toxicity_Ablate_Data_AdvCivil_BERT48000_Substitute\": \"run-iaorx9o7-adv_civil_aug_substitute_random_16_Kyle1668bosstoxicity48000bertbaseuncased_style_logs:v0\",\n",
      "    \"BOSS_Toxicity_Ablate_Data_AdvCivil_BERT48000_Translate\": \"run-iaorx9o7-adv_civil_aug_backtranslate_random_16_Kyle1668bosstoxicity48000bertbaseuncased_style_logs:v0\",\n",
      "    \"BOSS_Toxicity_Ablate_Data_AdvCivil_BERT48000_Paraphrase\": \"run-iaorx9o7-adv_civil_stabilityaiStableBeluga7b_random_0_Kyle1668bosstoxicity48000bertbaseuncased_style_logs:v0\",\n",
      "    \"BOSS_Toxicity_Ablate_Data_AdvCivil_BERT48000_ICR\": \"run-iaorx9o7-adv_civil_stabilityaiStableBeluga7b_random_16_Kyle1668bosstoxicity48000bertbaseuncased_style_logs:v0\",\n",
      "    \"BOSS_Toxicity_AdvCivil_T5_Insert\": \"run-lixlm6qh-adv_civil_aug_insert_random_16_Kyle1668bosstoxicityt5large_style_logs:v0\",\n",
      "    \"BOSS_Toxicity_AdvCivil_T5_Substitute\": \"run-lixlm6qh-adv_civil_aug_substitute_random_16_Kyle1668bosstoxicityt5large_style_logs:v0\",\n",
      "    \"BOSS_Toxicity_AdvCivil_T5_Translate\": \"run-lixlm6qh-adv_civil_aug_backtranslate_random_16_Kyle1668bosstoxicityt5large_style_logs:v0\",\n",
      "    \"BOSS_Toxicity_AdvCivil_T5_Paraphrase\": \"run-lixlm6qh-adv_civil_stabilityaiStableBeluga7b_random_0_Kyle1668bosstoxicityt5large_style_logs:v0\",\n",
      "    \"BOSS_Toxicity_AdvCivil_T5_ICR\": \"run-lixlm6qh-adv_civil_stabilityaiStableBeluga7b_random_16_Kyle1668bosstoxicityt5large_style_logs:v0\",\n",
      "    \"BOSS_Toxicity_AdvCivil_Falcon_Insert\": \"run-lixlm6qh-adv_civil_aug_insert_random_16_tiiuaefalcon7binstruct_style_logs:v0\",\n",
      "    \"BOSS_Toxicity_AdvCivil_Falcon_Substitute\": \"run-lixlm6qh-adv_civil_aug_substitute_random_16_tiiuaefalcon7binstruct_style_logs:v0\",\n",
      "    \"BOSS_Toxicity_AdvCivil_Falcon_Translate\": \"run-lixlm6qh-adv_civil_aug_backtranslate_random_16_tiiuaefalcon7binstruct_style_logs:v0\",\n",
      "    \"BOSS_Toxicity_AdvCivil_Falcon_Paraphrase\": \"run-lixlm6qh-adv_civil_stabilityaiStableBeluga7b_random_0_tiiuaefalcon7binstruct_style_logs:v0\",\n",
      "    \"BOSS_Toxicity_AdvCivil_Falcon_ICR\": \"run-lixlm6qh-adv_civil_stabilityaiStableBeluga7b_random_16_tiiuaefalcon7binstruct_style_logs:v0\",\n",
      "    \"AgNewsTweets_ID_BERT_Insert\": \"run-i2vkae2s-validation_aug_insert_random_16_Kyle1668agnewsbertbaseuncased_style_logs:v0\",\n",
      "    \"AgNewsTweets_ID_BERT_Substitute\": \"run-i2vkae2s-validation_aug_substitute_random_16_Kyle1668agnewsbertbaseuncased_style_logs:v0\",\n",
      "    \"AgNewsTweets_ID_BERT_Translate\": \"run-i2vkae2s-validation_aug_backtranslate_random_16_Kyle1668agnewsbertbaseuncased_style_logs:v0\",\n",
      "    \"AgNewsTweets_ID_BERT_Paraphrase\": \"run-i2vkae2s-validation_stabilityaiStableBeluga7b_random_0_Kyle1668agnewsbertbaseuncased_style_logs:v0\",\n",
      "    \"AgNewsTweets_ID_BERT_ICR\": \"run-i2vkae2s-validation_stabilityaiStableBeluga7b_random_16_Kyle1668agnewsbertbaseuncased_style_logs:v0\",\n",
      "    \"AgNewsTweets_Ablate_Data_Tweets_BERT4800_Insert\": \"run-s51a9946-test_aug_insert_random_16_Kyle1668agnews4800bertbaseuncased_style_logs:v0\",\n",
      "    \"AgNewsTweets_Ablate_Data_Tweets_BERT4800_Substitute\": \"run-s51a9946-test_aug_substitute_random_16_Kyle1668agnews4800bertbaseuncased_style_logs:v0\",\n",
      "    \"AgNewsTweets_Ablate_Data_Tweets_BERT4800_Translate\": \"run-s51a9946-test_aug_backtranslate_random_16_Kyle1668agnews4800bertbaseuncased_style_logs:v0\",\n",
      "    \"AgNewsTweets_Ablate_Data_Tweets_BERT4800_Paraphrase\": \"run-s51a9946-test_stabilityaiStableBeluga7b_random_0_Kyle1668agnews4800bertbaseuncased_style_logs:v0\",\n",
      "    \"AgNewsTweets_Ablate_Data_Tweets_BERT4800_ICR\": \"run-s51a9946-test_stabilityaiStableBeluga7b_random_16_Kyle1668agnews4800bertbaseuncased_style_logs:v0\",\n",
      "    \"AgNewsTweets_Ablate_Data_Tweets_BERT9600_Insert\": \"run-ymlu6tfz-test_aug_insert_random_16_Kyle1668agnews9600bertbaseuncased_style_logs:v0\",\n",
      "    \"AgNewsTweets_Ablate_Data_Tweets_BERT9600_Substitute\": \"run-ymlu6tfz-test_aug_substitute_random_16_Kyle1668agnews9600bertbaseuncased_style_logs:v0\",\n",
      "    \"AgNewsTweets_Ablate_Data_Tweets_BERT9600_Translate\": \"run-ymlu6tfz-test_aug_backtranslate_random_16_Kyle1668agnews9600bertbaseuncased_style_logs:v0\",\n",
      "    \"AgNewsTweets_Ablate_Data_Tweets_BERT9600_Paraphrase\": \"run-ymlu6tfz-test_stabilityaiStableBeluga7b_random_0_Kyle1668agnews9600bertbaseuncased_style_logs:v0\",\n",
      "    \"AgNewsTweets_Ablate_Data_Tweets_BERT9600_ICR\": \"run-ymlu6tfz-test_stabilityaiStableBeluga7b_random_0_Kyle1668agnews9600bertbaseuncased_style_logs:v0\",\n",
      "    \"AgNewsTweets_Ablate_Data_Tweets_BERT19200_Insert\": \"run-arskmac6-test_aug_insert_random_16_Kyle1668agnews19200bertbaseuncased_style_logs:v0\",\n",
      "    \"AgNewsTweets_Ablate_Data_Tweets_BERT19200_Substitute\": \"run-arskmac6-test_aug_substitute_random_16_Kyle1668agnews19200bertbaseuncased_style_logs:v0\",\n",
      "    \"AgNewsTweets_Ablate_Data_Tweets_BERT19200_Translate\": \"run-arskmac6-test_aug_backtranslate_random_16_Kyle1668agnews19200bertbaseuncased_style_logs:v0\",\n",
      "    \"AgNewsTweets_Ablate_Data_Tweets_BERT19200_Paraphrase\": \"run-arskmac6-test_stabilityaiStableBeluga7b_random_0_Kyle1668agnews19200bertbaseuncased_style_logs:v0\",\n",
      "    \"AgNewsTweets_Ablate_Data_Tweets_BERT19200_ICR\": \"run-arskmac6-test_stabilityaiStableBeluga7b_random_16_Kyle1668agnews19200bertbaseuncased_style_logs:v0\",\n",
      "    \"AgNewsTweets_Ablate_Data_Tweets_BERT38400_Insert\": \"run-6qktrbp8-test_aug_insert_random_16_Kyle1668agnews38400bertbaseuncased_style_logs:v0\",\n",
      "    \"AgNewsTweets_Ablate_Data_Tweets_BERT38400_Substitute\": \"run-6qktrbp8-test_aug_substitute_random_16_Kyle1668agnews38400bertbaseuncased_style_logs:v0\",\n",
      "    \"AgNewsTweets_Ablate_Data_Tweets_BERT38400_Translate\": \"run-6qktrbp8-test_aug_backtranslate_random_16_Kyle1668agnews38400bertbaseuncased_style_logs:v0\",\n",
      "    \"AgNewsTweets_Ablate_Data_Tweets_BERT38400_Paraphrase\": \"run-6qktrbp8-test_stabilityaiStableBeluga7b_random_0_Kyle1668agnews38400bertbaseuncased_style_logs:v0\",\n",
      "    \"AgNewsTweets_Ablate_Data_Tweets_BERT38400_ICR\": \"run-6qktrbp8-test_stabilityaiStableBeluga7b_random_16_Kyle1668agnews38400bertbaseuncased_style_logs:v0\",\n",
      "    \"AgNewsTweets_Ablate_Data_Tweets_BERT76800_Insert\": \"run-seqenj7d-test_aug_insert_random_16_Kyle1668agnews76800bertbaseuncased_style_logs:v0\",\n",
      "    \"AgNewsTweets_Ablate_Data_Tweets_BERT76800_Substitute\": \"run-seqenj7d-test_aug_substitute_random_16_Kyle1668agnews76800bertbaseuncased_style_logs:v0\",\n",
      "    \"AgNewsTweets_Ablate_Data_Tweets_BERT76800_Translate\": \"run-seqenj7d-test_aug_backtranslate_random_16_Kyle1668agnews76800bertbaseuncased_style_logs:v0\",\n",
      "    \"AgNewsTweets_Ablate_Data_Tweets_BERT76800_Paraphrase\": \"run-seqenj7d-test_stabilityaiStableBeluga7b_random_0_Kyle1668agnews76800bertbaseuncased_style_logs:v0\",\n",
      "    \"AgNewsTweets_Ablate_Data_Tweets_BERT76800_ICR\": \"run-seqenj7d-test_stabilityaiStableBeluga7b_random_16_Kyle1668agnews76800bertbaseuncased_style_logs:v0\",\n",
      "    \"AgNewsTweets_ID_T5_Insert\": \"run-i2vkae2s-validation_aug_insert_random_16_Kyle1668agnewst5large_style_logs:v0\",\n",
      "    \"AgNewsTweets_ID_T5_Substitute\": \"run-i2vkae2s-validation_aug_substitute_random_16_Kyle1668agnewst5large_style_logs:v0\",\n",
      "    \"AgNewsTweets_ID_T5_Translate\": \"run-i2vkae2s-validation_aug_backtranslate_random_16_Kyle1668agnewst5large_style_logs:v0\",\n",
      "    \"AgNewsTweets_ID_T5_Paraphrase\": \"run-i2vkae2s-validation_stabilityaiStableBeluga7b_random_0_Kyle1668agnewst5large_style_logs:v0\",\n",
      "    \"AgNewsTweets_ID_T5_ICR\": \"run-i2vkae2s-validation_stabilityaiStableBeluga7b_random_16_Kyle1668agnewst5large_style_logs:v0\",\n",
      "    \"AgNewsTweets_ID_Falcon_Insert\": \"run-i2vkae2s-validation_aug_insert_random_16_tiiuaefalcon7binstruct_style_logs:v0\",\n",
      "    \"AgNewsTweets_ID_Falcon_Substitute\": \"run-i2vkae2s-validation_aug_substitute_random_16_tiiuaefalcon7binstruct_style_logs:v0\",\n",
      "    \"AgNewsTweets_ID_Falcon_Translate\": \"run-i2vkae2s-validation_aug_backtranslate_random_16_tiiuaefalcon7binstruct_style_logs:v0\",\n",
      "    \"AgNewsTweets_ID_Falcon_Paraphrase\": \"run-i2vkae2s-validation_stabilityaiStableBeluga7b_random_0_tiiuaefalcon7binstruct_style_logs:v0\",\n",
      "    \"AgNewsTweets_ID_Falcon_ICR\": \"run-i2vkae2s-validation_stabilityaiStableBeluga7b_random_16_tiiuaefalcon7binstruct_style_logs:v0\",\n",
      "    \"AgNewsTweets_Tweets_BERT_Insert\": \"run-itucov43-test_aug_insert_random_16_Kyle1668agnewsbertbaseuncased_style_logs:v0\",\n",
      "    \"AgNewsTweets_Tweets_BERT_Substitute\": \"run-itucov43-test_aug_substitute_random_16_Kyle1668agnewsbertbaseuncased_style_logs:v0\",\n",
      "    \"AgNewsTweets_Tweets_BERT_Translate\": \"run-itucov43-test_aug_backtranslate_random_16_Kyle1668agnewsbertbaseuncased_style_logs:v0\",\n",
      "    \"AgNewsTweets_Tweets_BERT_Paraphrase\": \"run-itucov43-test_stabilityaiStableBeluga7b_random_0_Kyle1668agnewsbertbaseuncased_style_logs:v0\",\n",
      "    \"AgNewsTweets_Tweets_BERT_ICR\": \"run-itucov43-test_stabilityaiStableBeluga7b_random_16_Kyle1668agnewsbertbaseuncased_style_logs:v0\",\n",
      "    \"AgNewsTweets_Tweets_T5_Insert\": \"run-xdipkawo-test_aug_insert_random_16_Kyle1668agnewst5large_style_logs:v0\",\n",
      "    \"AgNewsTweets_Tweets_T5_Substitute\": \"run-xdipkawo-test_aug_substitute_random_16_Kyle1668agnewst5large_style_logs:v0\",\n",
      "    \"AgNewsTweets_Tweets_T5_Translate\": \"run-xdipkawo-test_aug_backtranslate_random_16_Kyle1668agnewst5large_style_logs:v0\",\n",
      "    \"AgNewsTweets_Tweets_T5_Paraphrase\": \"run-xdipkawo-test_stabilityaiStableBeluga7b_random_0_Kyle1668agnewst5large_style_logs:v0\",\n",
      "    \"AgNewsTweets_Tweets_T5_ICR\": \"run-xdipkawo-test_stabilityaiStableBeluga7b_random_16_Kyle1668agnewst5large_style_logs:v0\",\n",
      "    \"AgNewsTweets_Tweets_Falcon_Insert\": \"run-xdipkawo-test_aug_insert_random_16_tiiuaefalcon7binstruct_style_logs:v0\",\n",
      "    \"AgNewsTweets_Tweets_Falcon_Substitute\": \"run-xdipkawo-test_aug_substitute_random_16_tiiuaefalcon7binstruct_style_logs:v0\",\n",
      "    \"AgNewsTweets_Tweets_Falcon_Translate\": \"run-xdipkawo-test_aug_backtranslate_random_16_tiiuaefalcon7binstruct_style_logs:v0\",\n",
      "    \"AgNewsTweets_Tweets_Falcon_Paraphrase\": \"run-xdipkawo-test_stabilityaiStableBeluga7b_random_0_tiiuaefalcon7binstruct_style_logs:v0\",\n",
      "    \"AgNewsTweets_Tweets_Falcon_ICR\": \"\"\n",
      "}\n"
     ]
    }
   ],
   "source": [
    "project_name = \"healthyml/In-Context Domain Transfer Improves Out-of-Domain Robustness\"\n",
    "table_paths = {\n",
    "    # BOSS Sentiment\n",
    "    # ID\n",
    "    # BERT\n",
    "    \"BOSS_Sentiment_ID_BERT_Insert\": \"run-vj8tss18-validation_aug_insert_random_16_Kyle1668bosssentimentbertbaseuncased_style_logs:v0\",\n",
    "    \"BOSS_Sentiment_ID_BERT_Substitute\": \"\",\n",
    "    \"BOSS_Sentiment_ID_BERT_Translate\": \"\",\n",
    "    \"BOSS_Sentiment_ID_BERT_Paraphrase\": \"\",\n",
    "    \"BOSS_Sentiment_ID_BERT_ICR\": \"run-yanx1dus-validation_stabilityaiStableBeluga7b_random_16_Kyle1668bosssentimentbertbaseuncased_style_logs:v0\",\n",
    "\n",
    "    # 1500, 3000, 6000, 12000, 24000\n",
    "    \"BOSS_Sentiment_Ablate_Data_ID_BERT1500_Insert\": \"\",\n",
    "    \"BOSS_Sentiment_Ablate_Data_ID_BERT1500_Substitute\": \"\",\n",
    "    \"BOSS_Sentiment_Ablate_Data_ID_BERT1500_Translate\": \"\",\n",
    "    \"BOSS_Sentiment_Ablate_Data_ID_BERT1500_Paraphrase\": \"\",\n",
    "    \"BOSS_Sentiment_Ablate_Data_ID_BERT1500_ICR\": \"\",\n",
    "\n",
    "    \"BOSS_Sentiment_Ablate_Data_ID_BERT3000_Insert\": \"\",\n",
    "    \"BOSS_Sentiment_Ablate_Data_ID_BERT3000_Substitute\": \"\",\n",
    "    \"BOSS_Sentiment_Ablate_Data_ID_BERT3000_Translate\": \"\",\n",
    "    \"BOSS_Sentiment_Ablate_Data_ID_BERT3000_Paraphrase\": \"\",\n",
    "    \"BOSS_Sentiment_Ablate_Data_ID_BERT3000_ICR\": \"\",\n",
    "\n",
    "    \"BOSS_Sentiment_Ablate_Data_ID_BERT6000_Insert\": \"\",\n",
    "    \"BOSS_Sentiment_Ablate_Data_ID_BERT6000_Substitute\": \"\",\n",
    "    \"BOSS_Sentiment_Ablate_Data_ID_BERT6000_Translate\": \"\",\n",
    "    \"BOSS_Sentiment_Ablate_Data_ID_BERT6000_Paraphrase\": \"\",\n",
    "    \"BOSS_Sentiment_Ablate_Data_ID_BERT6000_ICR\": \"\",\n",
    "\n",
    "    \"BOSS_Sentiment_Ablate_Data_ID_BERT120000_Insert\": \"\",\n",
    "    \"BOSS_Sentiment_Ablate_Data_ID_BERT120000_Substitute\": \"\",\n",
    "    \"BOSS_Sentiment_Ablate_Data_ID_BERT120000_Translate\": \"\",\n",
    "    \"BOSS_Sentiment_Ablate_Data_ID_BERT120000_Paraphrase\": \"\",\n",
    "    \"BOSS_Sentiment_Ablate_Data_ID_BERT120000_ICR\": \"\",\n",
    "\n",
    "    \"BOSS_Sentiment_Ablate_Data_ID_BERT24000_Insert\": \"\",\n",
    "    \"BOSS_Sentiment_Ablate_Data_ID_BERT24000_Substitute\": \"\",\n",
    "    \"BOSS_Sentiment_Ablate_Data_ID_BERT24000_Translate\": \"\",\n",
    "    \"BOSS_Sentiment_Ablate_Data_ID_BERT24000_Paraphrase\": \"\",\n",
    "    \"BOSS_Sentiment_Ablate_Data_ID_BERT24000_ICR\": \"\",\n",
    "\n",
    "    # T5\n",
    "    \"BOSS_Sentiment_ID_T5_Insert\": \"run-vj8tss18-validation_aug_insert_random_16_Kyle1668bosssentimentt5large_style_logs:v0\",\n",
    "    \"BOSS_Sentiment_ID_T5_Substitute\": \"run-vj8tss18-validation_aug_substitute_random_16_Kyle1668bosssentimentt5large_style_logs:v0\",\n",
    "    \"BOSS_Sentiment_ID_T5_Translate\": \"run-vj8tss18-validation_aug_backtranslate_random_16_Kyle1668bosssentimentt5large_style_logs:v0\",\n",
    "    \"BOSS_Sentiment_ID_T5_Paraphrase\": \"\",\n",
    "    \"BOSS_Sentiment_ID_T5_ICR\": \"\",\n",
    "\n",
    "    # Falcon\n",
    "    \"BOSS_Sentiment_ID_Falcon_Insert\": \"run-j11olfw3-validation_aug_insert_random_16_tiiuaefalcon7binstruct_style_logs:v0\",\n",
    "    \"BOSS_Sentiment_ID_Falcon_Substitute\": \"run-j11olfw3-validation_aug_substitute_random_16_tiiuaefalcon7binstruct_style_logs:v0\",\n",
    "    \"BOSS_Sentiment_ID_Falcon_Translate\": \"run-j11olfw3-validation_aug_backtranslate_random_16_tiiuaefalcon7binstruct_style_logs:v0\",\n",
    "    \"BOSS_Sentiment_ID_Falcon_Paraphrase\": \"\",\n",
    "    \"BOSS_Sentiment_ID_Falcon_ICR\": \"\",\n",
    "\n",
    "    # SST5\n",
    "    # BERT\n",
    "    \"BOSS_Sentiment_SST5_BERT_Insert\": \"run-ibb61kcx-sst5_aug_insert_random_16_Kyle1668bosssentimentbertbaseuncased_style_logs:v0\",\n",
    "    \"BOSS_Sentiment_SST5_BERT_Substitute\": \"run-ibb61kcx-sst5_aug_substitute_random_16_Kyle1668bosssentimentbertbaseuncased_style_logs:v0\",\n",
    "    \"BOSS_Sentiment_SST5_BERT_Translate\": \"run-ibb61kcx-sst5_aug_backtranslate_random_16_Kyle1668bosssentimentbertbaseuncased_style_logs:v0\",\n",
    "    \"BOSS_Sentiment_SST5_BERT_Paraphrase\": \"run-ibb61kcx-sst5_stabilityaiStableBeluga7b_random_0_Kyle1668bosssentimentbertbaseuncased_style_logs:v0\",\n",
    "    \"BOSS_Sentiment_SST5_BERT_ICR\": \"run-ibb61kcx-sst5_stabilityaiStableBeluga7b_random_16_Kyle1668bosssentimentbertbaseuncased_style_logs:v0\",\n",
    "\n",
    "    \"BOSS_Sentiment_Ablate_Data_SST5_BERT1500_Insert\": \"run-gdqehris-sst5_aug_insert_random_16_Kyle1668bosssentiment1500bertbaseuncased_style_logs:v0\",\n",
    "    \"BOSS_Sentiment_Ablate_Data_SST5_BERT1500_Substitute\": \"run-gdqehris-sst5_aug_substitute_random_16_Kyle1668bosssentiment1500bertbaseuncased_style_logs:v0\",\n",
    "    \"BOSS_Sentiment_Ablate_Data_SST5_BERT1500_Translate\": \"run-gdqehris-sst5_aug_backtranslate_random_16_Kyle1668bosssentiment1500bertbaseuncased_style_logs:v0\",\n",
    "    \"BOSS_Sentiment_Ablate_Data_SST5_BERT1500_Paraphrase\": \"run-gdqehris-sst5_stabilityaiStableBeluga7b_random_0_Kyle1668bosssentiment1500bertbaseuncased_style_logs:v0\",\n",
    "    \"BOSS_Sentiment_Ablate_Data_SST5_BERT1500_ICR\": \"run-gdqehris-sst5_stabilityaiStableBeluga7b_random_16_Kyle1668bosssentiment1500bertbaseuncased_style_logs:v0\",\n",
    "\n",
    "    \"BOSS_Sentiment_Ablate_Data_SST5_BERT3000_Insert\": \"run-gfb8nevp-sst5_aug_insert_random_16_Kyle1668bosssentiment3000bertbaseuncased_style_logs:v0\",\n",
    "    \"BOSS_Sentiment_Ablate_Data_SST5_BERT3000_Substitute\": \"run-gfb8nevp-sst5_aug_substitute_random_16_Kyle1668bosssentiment3000bertbaseuncased_style_logs:v0\",\n",
    "    \"BOSS_Sentiment_Ablate_Data_SST5_BERT3000_Translate\": \"run-gfb8nevp-sst5_aug_backtranslate_random_16_Kyle1668bosssentiment3000bertbaseuncased_style_logs:v0\",\n",
    "    \"BOSS_Sentiment_Ablate_Data_SST5_BERT3000_Paraphrase\": \"run-gfb8nevp-sst5_stabilityaiStableBeluga7b_random_0_Kyle1668bosssentiment3000bertbaseuncased_style_logs:v0\",\n",
    "    \"BOSS_Sentiment_Ablate_Data_SST5_BERT3000_ICR\": \"run-gfb8nevp-sst5_stabilityaiStableBeluga7b_random_16_Kyle1668bosssentiment3000bertbaseuncased_style_logs:v0\",\n",
    "\n",
    "    \"BOSS_Sentiment_Ablate_Data_SST5_BERT6000_Insert\": \"run-hg6u172t-sst5_aug_insert_random_16_Kyle1668bosssentiment6000bertbaseuncased_style_logs:v0\",\n",
    "    \"BOSS_Sentiment_Ablate_Data_SST5_BERT6000_Substitute\": \"run-hg6u172t-sst5_aug_substitute_random_16_Kyle1668bosssentiment6000bertbaseuncased_style_logs:v0\",\n",
    "    \"BOSS_Sentiment_Ablate_Data_SST5_BERT6000_Translate\": \"run-hg6u172t-sst5_aug_backtranslate_random_16_Kyle1668bosssentiment6000bertbaseuncased_style_logs:v0\",\n",
    "    \"BOSS_Sentiment_Ablate_Data_SST5_BERT6000_Paraphrase\": \"run-hg6u172t-sst5_stabilityaiStableBeluga7b_random_0_Kyle1668bosssentiment6000bertbaseuncased_style_logs:v0\",\n",
    "    \"BOSS_Sentiment_Ablate_Data_SST5_BERT6000_ICR\": \"run-hg6u172t-sst5_stabilityaiStableBeluga7b_random_16_Kyle1668bosssentiment6000bertbaseuncased_style_logs:v0\",\n",
    "\n",
    "    \"BOSS_Sentiment_Ablate_Data_SST5_BERT120000_Insert\": \"run-pv6dxpzt-sst5_aug_insert_random_16_Kyle1668bosssentiment12000bertbaseuncased_style_logs:v0\",\n",
    "    \"BOSS_Sentiment_Ablate_Data_SST5_BERT120000_Substitute\": \"run-pv6dxpzt-sst5_aug_substitute_random_16_Kyle1668bosssentiment12000bertbaseuncased_style_logs:v0\",\n",
    "    \"BOSS_Sentiment_Ablate_Data_SST5_BERT120000_Translate\": \"run-pv6dxpzt-sst5_aug_backtranslate_random_16_Kyle1668bosssentiment12000bertbaseuncased_style_logs:v0\",\n",
    "    \"BOSS_Sentiment_Ablate_Data_SST5_BERT120000_Paraphrase\": \"run-pv6dxpzt-sst5_stabilityaiStableBeluga7b_random_0_Kyle1668bosssentiment12000bertbaseuncased_style_logs:v0\",\n",
    "    \"BOSS_Sentiment_Ablate_Data_SST5_BERT120000_ICR\": \"run-pv6dxpzt-sst5_stabilityaiStableBeluga7b_random_16_Kyle1668bosssentiment12000bertbaseuncased_style_logs:v0\",\n",
    "\n",
    "    \"BOSS_Sentiment_Ablate_Data_SST5_BERT24000_Insert\": \"run-ujjjnolk-sst5_aug_insert_random_16_Kyle1668bosssentiment24000bertbaseuncased_style_logs:v0\",\n",
    "    \"BOSS_Sentiment_Ablate_Data_SST5_BERT24000_Substitute\": \"run-ujjjnolk-sst5_aug_substitute_random_16_Kyle1668bosssentiment24000bertbaseuncased_style_logs:v0\",\n",
    "    \"BOSS_Sentiment_Ablate_Data_SST5_BERT24000_Translate\": \"run-ujjjnolk-sst5_aug_backtranslate_random_16_Kyle1668bosssentiment24000bertbaseuncased_style_logs:v0\",\n",
    "    \"BOSS_Sentiment_Ablate_Data_SST5_BERT24000_Paraphrase\": \"run-ujjjnolk-sst5_stabilityaiStableBeluga7b_random_0_Kyle1668bosssentiment24000bertbaseuncased_style_logs:v0\",\n",
    "    \"BOSS_Sentiment_Ablate_Data_SST5_BERT24000_ICR\": \"run-ujjjnolk-sst5_stabilityaiStableBeluga7b_random_16_Kyle1668bosssentiment24000bertbaseuncased_style_logs:v0\",\n",
    "\n",
    "    # T5\n",
    "    \"BOSS_Sentiment_SST5_T5_Insert\": \"run-hhtbcw8x-sst5_aug_insert_random_16_Kyle1668bosssentimentt5large_style_logs:v0\",\n",
    "    \"BOSS_Sentiment_SST5_T5_Substitute\": \"run-hhtbcw8x-sst5_aug_substitute_random_16_Kyle1668bosssentimentt5large_style_logs:v0\",\n",
    "    \"BOSS_Sentiment_SST5_T5_Translate\": \"run-hhtbcw8x-sst5_aug_backtranslate_random_16_Kyle1668bosssentimentt5large_style_logs:v0\",\n",
    "    \"BOSS_Sentiment_SST5_T5_Paraphrase\": \"run-hhtbcw8x-sst5_stabilityaiStableBeluga7b_random_0_Kyle1668bosssentimentt5large_style_logs:v0\",\n",
    "    \"BOSS_Sentiment_SST5_T5_ICR\": \"run-hhtbcw8x-sst5_stabilityaiStableBeluga7b_random_16_Kyle1668bosssentimentt5large_style_logs:v0\",\n",
    "\n",
    "    # Falcon\n",
    "    \"BOSS_Sentiment_SST5_Falcon_Insert\": \"run-hhtbcw8x-sst5_aug_insert_random_16_tiiuaefalcon7binstruct_style_logs:v0\",\n",
    "    \"BOSS_Sentiment_SST5_Falcon_Substitute\": \"run-hhtbcw8x-sst5_aug_substitute_random_16_tiiuaefalcon7binstruct_style_logs:v0\",\n",
    "    \"BOSS_Sentiment_SST5_Falcon_Translate\": \"run-hhtbcw8x-sst5_aug_backtranslate_random_16_tiiuaefalcon7binstruct_style_logs:v0\",\n",
    "    \"BOSS_Sentiment_SST5_Falcon_Paraphrase\": \"run-hhtbcw8x-sst5_stabilityaiStableBeluga7b_random_0_tiiuaefalcon7binstruct_style_logs:v0\",\n",
    "    \"BOSS_Sentiment_SST5_Falcon_ICR\": \"run-hhtbcw8x-sst5_stabilityaiStableBeluga7b_random_16_tiiuaefalcon7binstruct_style_logs:v0\",\n",
    "\n",
    "    # SemEval\n",
    "    # BERT\n",
    "    \"BOSS_Sentiment_SemEval_BERT_Insert\": \"run-ibb61kcx-semval_aug_insert_random_16_Kyle1668bosssentimentbertbaseuncased_style_logs:v0\",\n",
    "    \"BOSS_Sentiment_SemEval_BERT_Substitute\": \"run-ibb61kcx-semval_aug_substitute_random_16_Kyle1668bosssentimentbertbaseuncased_style_logs:v0\",\n",
    "    \"BOSS_Sentiment_SemEval_BERT_Translate\": \"run-ibb61kcx-semval_aug_backtranslate_random_16_Kyle1668bosssentimentbertbaseuncased_style_logs:v0\",\n",
    "    \"BOSS_Sentiment_SemEval_BERT_Paraphrase\": \"run-ibb61kcx-semval_stabilityaiStableBeluga7b_random_0_Kyle1668bosssentimentbertbaseuncased_style_logs:v0\",\n",
    "    \"BOSS_Sentiment_SemEval_BERT_ICR\": \"run-ibb61kcx-semval_stabilityaiStableBeluga7b_random_16_Kyle1668bosssentimentbertbaseuncased_style_logs:v0\",\n",
    "\n",
    "    \"BOSS_Sentiment_Ablate_Data_SemEval_BERT1500_Insert\": \"run-gdqehris-semval_aug_insert_random_16_Kyle1668bosssentiment1500bertbaseuncased_style_logs:v0\",\n",
    "    \"BOSS_Sentiment_Ablate_Data_SemEval_BERT1500_Substitute\": \"run-gdqehris-semval_aug_substitute_random_16_Kyle1668bosssentiment1500bertbaseuncased_style_logs:v0\",\n",
    "    \"BOSS_Sentiment_Ablate_Data_SemEval_BERT1500_Translate\": \"run-gdqehris-semval_aug_backtranslate_random_16_Kyle1668bosssentiment1500bertbaseuncased_style_logs:v0\",\n",
    "    \"BOSS_Sentiment_Ablate_Data_SemEval_BERT1500_Paraphrase\": \"run-gdqehris-semval_stabilityaiStableBeluga7b_random_0_Kyle1668bosssentiment1500bertbaseuncased_style_logs:v0\",\n",
    "    \"BOSS_Sentiment_Ablate_Data_SemEval_BERT1500_ICR\": \"run-gdqehris-semval_stabilityaiStableBeluga7b_random_16_Kyle1668bosssentiment1500bertbaseuncased_style_logs:v0\",\n",
    "\n",
    "    \"BOSS_Sentiment_Ablate_Data_SemEval_BERT3000_Insert\": \"run-gfb8nevp-semval_aug_insert_random_16_Kyle1668bosssentiment3000bertbaseuncased_style_logs:v0\",\n",
    "    \"BOSS_Sentiment_Ablate_Data_SemEval_BERT3000_Substitute\": \"run-gfb8nevp-semval_aug_substitute_random_16_Kyle1668bosssentiment3000bertbaseuncased_style_logs:v0\",\n",
    "    \"BOSS_Sentiment_Ablate_Data_SemEval_BERT3000_Translate\": \"run-gfb8nevp-semval_aug_backtranslate_random_16_Kyle1668bosssentiment3000bertbaseuncased_style_logs:v0\",\n",
    "    \"BOSS_Sentiment_Ablate_Data_SemEval_BERT3000_Paraphrase\": \"run-gfb8nevp-semval_stabilityaiStableBeluga7b_random_0_Kyle1668bosssentiment3000bertbaseuncased_style_logs:v0\",\n",
    "    \"BOSS_Sentiment_Ablate_Data_SemEval_BERT3000_ICR\": \"run-gfb8nevp-semval_stabilityaiStableBeluga7b_random_16_Kyle1668bosssentiment3000bertbaseuncased_style_logs:v0\",\n",
    "\n",
    "    \"BOSS_Sentiment_Ablate_Data_SemEval_BERT6000_Insert\": \"run-hg6u172t-semval_aug_insert_random_16_Kyle1668bosssentiment6000bertbaseuncased_style_logs:v0\",\n",
    "    \"BOSS_Sentiment_Ablate_Data_SemEval_BERT6000_Substitute\": \"run-hg6u172t-semval_aug_substitute_random_16_Kyle1668bosssentiment6000bertbaseuncased_style_logs:v0\",\n",
    "    \"BOSS_Sentiment_Ablate_Data_SemEval_BERT6000_Translate\": \"run-hg6u172t-semval_aug_backtranslate_random_16_Kyle1668bosssentiment6000bertbaseuncased_style_logs:v0\",\n",
    "    \"BOSS_Sentiment_Ablate_Data_SemEval_BERT6000_Paraphrase\": \"run-hg6u172t-semval_stabilityaiStableBeluga7b_random_0_Kyle1668bosssentiment6000bertbaseuncased_style_logs:v0\",\n",
    "    \"BOSS_Sentiment_Ablate_Data_SemEval_BERT6000_ICR\": \"run-hg6u172t-semval_stabilityaiStableBeluga7b_random_16_Kyle1668bosssentiment6000bertbaseuncased_style_logs:v0\",\n",
    "\n",
    "    \"BOSS_Sentiment_Ablate_Data_SemEval_BERT120000_Insert\": \"run-pv6dxpzt-semval_aug_insert_random_16_Kyle1668bosssentiment12000bertbaseuncased_style_logs:v0\",\n",
    "    \"BOSS_Sentiment_Ablate_Data_SemEval_BERT120000_Substitute\": \"run-pv6dxpzt-semval_aug_substitute_random_16_Kyle1668bosssentiment12000bertbaseuncased_style_logs:v0\",\n",
    "    \"BOSS_Sentiment_Ablate_Data_SemEval_BERT120000_Translate\": \"run-pv6dxpzt-semval_aug_backtranslate_random_16_Kyle1668bosssentiment12000bertbaseuncased_style_logs:v0\",\n",
    "    \"BOSS_Sentiment_Ablate_Data_SemEval_BERT120000_Paraphrase\": \"run-pv6dxpzt-semval_stabilityaiStableBeluga7b_random_0_Kyle1668bosssentiment12000bertbaseuncased_style_logs:v0\",\n",
    "    \"BOSS_Sentiment_Ablate_Data_SemEval_BERT120000_ICR\": \"run-pv6dxpzt-semval_stabilityaiStableBeluga7b_random_16_Kyle1668bosssentiment12000bertbaseuncased_style_logs:v0\",\n",
    "\n",
    "    \"BOSS_Sentiment_Ablate_Data_SemEval_BERT24000_Insert\": \"run-ujjjnolk-semval_aug_insert_random_16_Kyle1668bosssentiment24000bertbaseuncased_style_logs:v0\",\n",
    "    \"BOSS_Sentiment_Ablate_Data_SemEval_BERT24000_Substitute\": \"run-ujjjnolk-semval_aug_substitute_random_16_Kyle1668bosssentiment24000bertbaseuncased_style_logs:v0\",\n",
    "    \"BOSS_Sentiment_Ablate_Data_SemEval_BERT24000_Translate\": \"run-ujjjnolk-semval_aug_backtranslate_random_16_Kyle1668bosssentiment24000bertbaseuncased_style_logs:v0\",\n",
    "    \"BOSS_Sentiment_Ablate_Data_SemEval_BERT24000_Paraphrase\": \"run-ujjjnolk-semval_stabilityaiStableBeluga7b_random_0_Kyle1668bosssentiment24000bertbaseuncased_style_logs:v0\",\n",
    "    \"BOSS_Sentiment_Ablate_Data_SemEval_BERT24000_ICR\": \"run-ujjjnolk-semval_stabilityaiStableBeluga7b_random_16_Kyle1668bosssentiment24000bertbaseuncased_style_logs:v0\",\n",
    "\n",
    "    # T5\n",
    "    \"BOSS_Sentiment_SemEval_T5_Insert\": \"run-hhtbcw8x-semval_aug_insert_random_16_Kyle1668bosssentimentt5large_style_logs:v0\",\n",
    "    \"BOSS_Sentiment_SemEval_T5_Substitute\": \"run-hhtbcw8x-semval_aug_substitute_random_16_Kyle1668bosssentimentt5large_style_logs:v0\",\n",
    "    \"BOSS_Sentiment_SemEval_T5_Translate\": \"run-hhtbcw8x-semval_aug_backtranslate_random_16_Kyle1668bosssentimentt5large_style_logs:v0\",\n",
    "    \"BOSS_Sentiment_SemEval_T5_Paraphrase\": \"run-hhtbcw8x-semval_stabilityaiStableBeluga7b_random_0_Kyle1668bosssentimentt5large_style_logs:v0\",\n",
    "    \"BOSS_Sentiment_SemEval_T5_ICR\": \"run-hhtbcw8x-semval_stabilityaiStableBeluga7b_random_16_Kyle1668bosssentimentt5large_style_logs:v0\",\n",
    "\n",
    "    # Falcon\n",
    "    \"BOSS_Sentiment_SemEval_Falcon_Insert\": \"run-hhtbcw8x-semval_aug_insert_random_16_tiiuaefalcon7binstruct_style_logs:v0\",\n",
    "    \"BOSS_Sentiment_SemEval_Falcon_Substitute\": \"run-hhtbcw8x-semval_aug_substitute_random_16_tiiuaefalcon7binstruct_style_logs:v0\",\n",
    "    \"BOSS_Sentiment_SemEval_Falcon_Translate\": \"run-hhtbcw8x-semval_aug_backtranslate_random_16_tiiuaefalcon7binstruct_style_logs:v0\",\n",
    "    \"BOSS_Sentiment_SemEval_Falcon_Paraphrase\": \"run-hhtbcw8x-semval_stabilityaiStableBeluga7b_random_0_tiiuaefalcon7binstruct_style_logs:v0\",\n",
    "    \"BOSS_Sentiment_SemEval_Falcon_ICR\": \"run-hhtbcw8x-semval_stabilityaiStableBeluga7b_random_16_tiiuaefalcon7binstruct_style_logs:v0\",\n",
    "\n",
    "    # Dynasent\n",
    "    # BERT\n",
    "    \"BOSS_Sentiment_Dynasent_BERT_Insert\": \"run-ibb61kcx-dynasent_aug_insert_random_16_Kyle1668bosssentimentbertbaseuncased_style_logs:v0\",\n",
    "    \"BOSS_Sentiment_Dynasent_BERT_Substitute\": \"run-ibb61kcx-dynasent_aug_substitute_random_16_Kyle1668bosssentimentbertbaseuncased_style_logs:v0\",\n",
    "    \"BOSS_Sentiment_Dynasent_BERT_Translate\": \"run-ibb61kcx-dynasent_aug_backtranslate_random_16_Kyle1668bosssentimentbertbaseuncased_style_logs:v0\",\n",
    "    \"BOSS_Sentiment_Dynasent_BERT_Paraphrase\": \"run-ibb61kcx-dynasent_stabilityaiStableBeluga7b_random_0_Kyle1668bosssentimentbertbaseuncased_style_logs:v0\",\n",
    "    \"BOSS_Sentiment_Dynasent_BERT_ICR\": \"run-ibb61kcx-dynasent_stabilityaiStableBeluga7b_random_16_Kyle1668bosssentimentbertbaseuncased_style_logs:v0\",\n",
    "\n",
    "    \"BOSS_Sentiment_Ablate_Data_Dynasent_BERT1500_Insert\": \"run-gdqehris-dynasent_aug_insert_random_16_Kyle1668bosssentiment1500bertbaseuncased_style_logs:v0\",\n",
    "    \"BOSS_Sentiment_Ablate_Data_Dynasent_BERT1500_Substitute\": \"run-gdqehris-dynasent_aug_substitute_random_16_Kyle1668bosssentiment1500bertbaseuncased_style_logs:v0\",\n",
    "    \"BOSS_Sentiment_Ablate_Data_Dynasent_BERT1500_Translate\": \"run-gdqehris-dynasent_aug_backtranslate_random_16_Kyle1668bosssentiment1500bertbaseuncased_style_logs:v0\",\n",
    "    \"BOSS_Sentiment_Ablate_Data_Dynasent_BERT1500_Paraphrase\": \"run-gdqehris-dynasent_stabilityaiStableBeluga7b_random_0_Kyle1668bosssentiment1500bertbaseuncased_style_logs:v0\",\n",
    "    \"BOSS_Sentiment_Ablate_Data_Dynasent_BERT1500_ICR\": \"run-gdqehris-dynasent_stabilityaiStableBeluga7b_random_16_Kyle1668bosssentiment1500bertbaseuncased_style_logs:v0\",\n",
    "\n",
    "    \"BOSS_Sentiment_Ablate_Data_Dynasent_BERT3000_Insert\": \"run-gfb8nevp-dynasent_aug_insert_random_16_Kyle1668bosssentiment3000bertbaseuncased_style_logs:v0\",\n",
    "    \"BOSS_Sentiment_Ablate_Data_Dynasent_BERT3000_Substitute\": \"run-gfb8nevp-dynasent_aug_substitute_random_16_Kyle1668bosssentiment3000bertbaseuncased_style_logs:v0\",\n",
    "    \"BOSS_Sentiment_Ablate_Data_Dynasent_BERT3000_Translate\": \"run-gfb8nevp-dynasent_aug_backtranslate_random_16_Kyle1668bosssentiment3000bertbaseuncased_style_logs:v0\",\n",
    "    \"BOSS_Sentiment_Ablate_Data_Dynasent_BERT3000_Paraphrase\": \"run-gfb8nevp-dynasent_stabilityaiStableBeluga7b_random_0_Kyle1668bosssentiment3000bertbaseuncased_style_logs:v0\",\n",
    "    \"BOSS_Sentiment_Ablate_Data_Dynasent_BERT3000_ICR\": \"run-gfb8nevp-dynasent_stabilityaiStableBeluga7b_random_16_Kyle1668bosssentiment3000bertbaseuncased_style_logs:v0\",\n",
    "\n",
    "    \"BOSS_Sentiment_Ablate_Data_Dynasent_BERT6000_Insert\": \"run-hg6u172t-dynasent_aug_insert_random_16_Kyle1668bosssentiment6000bertbaseuncased_style_logs:v0\",\n",
    "    \"BOSS_Sentiment_Ablate_Data_Dynasent_BERT6000_Substitute\": \"run-hg6u172t-dynasent_aug_substitute_random_16_Kyle1668bosssentiment6000bertbaseuncased_style_logs:v0\",\n",
    "    \"BOSS_Sentiment_Ablate_Data_Dynasent_BERT6000_Translate\": \"run-hg6u172t-dynasent_aug_backtranslate_random_16_Kyle1668bosssentiment6000bertbaseuncased_style_logs:v0\",\n",
    "    \"BOSS_Sentiment_Ablate_Data_Dynasent_BERT6000_Paraphrase\": \"run-hg6u172t-dynasent_stabilityaiStableBeluga7b_random_0_Kyle1668bosssentiment6000bertbaseuncased_style_logs:v0\",\n",
    "    \"BOSS_Sentiment_Ablate_Data_Dynasent_BERT6000_ICR\": \"run-hg6u172t-dynasent_stabilityaiStableBeluga7b_random_16_Kyle1668bosssentiment6000bertbaseuncased_style_logs:v0\",\n",
    "\n",
    "    \"BOSS_Sentiment_Ablate_Data_Dynasent_BERT120000_Insert\": \"run-pv6dxpzt-dynasent_aug_insert_random_16_Kyle1668bosssentiment12000bertbaseuncased_style_logs:v0\",\n",
    "    \"BOSS_Sentiment_Ablate_Data_Dynasent_BERT120000_Substitute\": \"run-pv6dxpzt-dynasent_aug_substitute_random_16_Kyle1668bosssentiment12000bertbaseuncased_style_logs:v0\",\n",
    "    \"BOSS_Sentiment_Ablate_Data_Dynasent_BERT120000_Translate\": \"run-pv6dxpzt-dynasent_aug_backtranslate_random_16_Kyle1668bosssentiment12000bertbaseuncased_style_logs:v0\",\n",
    "    \"BOSS_Sentiment_Ablate_Data_Dynasent_BERT120000_Paraphrase\": \"run-pv6dxpzt-dynasent_stabilityaiStableBeluga7b_random_0_Kyle1668bosssentiment12000bertbaseuncased_style_logs:v0\",\n",
    "    \"BOSS_Sentiment_Ablate_Data_Dynasent_BERT120000_ICR\": \"run-pv6dxpzt-dynasent_stabilityaiStableBeluga7b_random_16_Kyle1668bosssentiment12000bertbaseuncased_style_logs:v0\",\n",
    "\n",
    "    \"BOSS_Sentiment_Ablate_Data_Dynasent_BERT24000_Insert\": \"run-ujjjnolk-dynasent_aug_insert_random_16_Kyle1668bosssentiment24000bertbaseuncased_style_logs:v0\",\n",
    "    \"BOSS_Sentiment_Ablate_Data_Dynasent_BERT24000_Substitute\": \"run-ujjjnolk-dynasent_aug_substitute_random_16_Kyle1668bosssentiment24000bertbaseuncased_style_logs:v0\",\n",
    "    \"BOSS_Sentiment_Ablate_Data_Dynasent_BERT24000_Translate\": \"run-ujjjnolk-dynasent_aug_backtranslate_random_16_Kyle1668bosssentiment24000bertbaseuncased_style_logs:v0\",\n",
    "    \"BOSS_Sentiment_Ablate_Data_Dynasent_BERT24000_Paraphrase\": \"run-ujjjnolk-dynasent_stabilityaiStableBeluga7b_random_0_Kyle1668bosssentiment24000bertbaseuncased_style_logs:v0\",\n",
    "    \"BOSS_Sentiment_Ablate_Data_Dynasent_BERT24000_ICR\": \"run-ujjjnolk-dynasent_stabilityaiStableBeluga7b_random_16_Kyle1668bosssentiment24000bertbaseuncased_style_logs:v0\",\n",
    "\n",
    "    # T5\n",
    "    \"BOSS_Sentiment_Dynasent_T5_Insert\": \"run-hhtbcw8x-dynasent_aug_insert_random_16_Kyle1668bosssentimentt5large_style_logs:v0\",\n",
    "    \"BOSS_Sentiment_Dynasent_T5_Substitute\": \"run-hhtbcw8x-dynasent_aug_substitute_random_16_Kyle1668bosssentimentt5large_style_logs:v0\",\n",
    "    \"BOSS_Sentiment_Dynasent_T5_Translate\": \"run-hhtbcw8x-dynasent_aug_backtranslate_random_16_Kyle1668bosssentimentt5large_style_logs:v0\",\n",
    "    \"BOSS_Sentiment_Dynasent_T5_Paraphrase\": \"run-hhtbcw8x-dynasent_stabilityaiStableBeluga7b_random_0_Kyle1668bosssentimentt5large_style_logs:v0\",\n",
    "    \"BOSS_Sentiment_Dynasent_T5_ICR\": \"run-hhtbcw8x-dynasent_stabilityaiStableBeluga7b_random_16_Kyle1668bosssentimentt5large_style_logs:v0\",\n",
    "\n",
    "    # Falcon\n",
    "    \"BOSS_Sentiment_Dynasent_Falcon_Insert\": \"run-hhtbcw8x-dynasent_aug_insert_random_16_tiiuaefalcon7binstruct_style_logs:v0\",\n",
    "    \"BOSS_Sentiment_Dynasent_Falcon_Substitute\": \"run-hhtbcw8x-dynasent_aug_substitute_random_16_tiiuaefalcon7binstruct_style_logs:v0\",\n",
    "    \"BOSS_Sentiment_Dynasent_Falcon_Translate\": \"run-hhtbcw8x-dynasent_aug_backtranslate_random_16_tiiuaefalcon7binstruct_style_logs:v0\",\n",
    "    \"BOSS_Sentiment_Dynasent_Falcon_Paraphrase\": \"run-hhtbcw8x-dynasent_stabilityaiStableBeluga7b_random_0_tiiuaefalcon7binstruct_style_logs:v0\",\n",
    "    \"BOSS_Sentiment_Dynasent_Falcon_ICR\": \"run-hhtbcw8x-dynasent_stabilityaiStableBeluga7b_random_16_tiiuaefalcon7binstruct_style_logs:v0\",\n",
    "\n",
    "    # BOSS Toxicity\n",
    "    # ID\n",
    "    # BERT\n",
    "    \"BOSS_Toxicity_ID_BERT_Insert\": \"\",\n",
    "    \"BOSS_Toxicity_ID_BERT_Substitute\": \"\",\n",
    "    \"BOSS_Toxicity_ID_BERT_Translate\": \"\",\n",
    "    \"BOSS_Toxicity_ID_BERT_Paraphrase\": \"\",\n",
    "    \"BOSS_Toxicity_ID_BERT_ICR\": \"run-dvdcuuij-validation_stabilityaiStableBeluga7b_random_16_Kyle1668bosstoxicitybertbaseuncased_style_logs:v0\",\n",
    "\n",
    "    \"BOSS_Toxicity_Ablate_Data_ID_BERT3000_Insert\": \"\",\n",
    "    \"BOSS_Toxicity_Ablate_Data_ID_BERT3000_Substitute\": \"\",\n",
    "    \"BOSS_Toxicity_Ablate_Data_ID_BERT3000_Translate\": \"\",\n",
    "    \"BOSS_Toxicity_Ablate_Data_ID_BERT3000_Paraphrase\": \"\",\n",
    "    \"BOSS_Toxicity_Ablate_Data_ID_BERT3000_ICR\": \"\",\n",
    "\n",
    "    \"BOSS_Toxicity_Ablate_Data_ID_BERT6000_Insert\": \"\",\n",
    "    \"BOSS_Toxicity_Ablate_Data_ID_BERT6000_Substitute\": \"\",\n",
    "    \"BOSS_Toxicity_Ablate_Data_ID_BERT6000_Translate\": \"\",\n",
    "    \"BOSS_Toxicity_Ablate_Data_ID_BERT6000_Paraphrase\": \"\",\n",
    "    \"BOSS_Toxicity_Ablate_Data_ID_BERT6000_ICR\": \"\",\n",
    "\n",
    "    \"BOSS_Toxicity_Ablate_Data_ID_BERT12000_Insert\": \"\",\n",
    "    \"BOSS_Toxicity_Ablate_Data_ID_BERT12000_Substitute\": \"\",\n",
    "    \"BOSS_Toxicity_Ablate_Data_ID_BERT12000_Translate\": \"\",\n",
    "    \"BOSS_Toxicity_Ablate_Data_ID_BERT12000_Paraphrase\": \"\",\n",
    "    \"BOSS_Toxicity_Ablate_Data_ID_BERT12000_ICR\": \"\",\n",
    "\n",
    "    \"BOSS_Toxicity_Ablate_Data_ID_BERT24000_Insert\": \"\",\n",
    "    \"BOSS_Toxicity_Ablate_Data_ID_BERT24000_Substitute\": \"\",\n",
    "    \"BOSS_Toxicity_Ablate_Data_ID_BERT24000_Translate\": \"\",\n",
    "    \"BOSS_Toxicity_Ablate_Data_ID_BERT24000_Paraphrase\": \"\",\n",
    "    \"BOSS_Toxicity_Ablate_Data_ID_BERT24000_ICR\": \"\",\n",
    "\n",
    "    \"BOSS_Toxicity_Ablate_Data_ID_BERT48000_Insert\": \"\",\n",
    "    \"BOSS_Toxicity_Ablate_Data_ID_BERT48000_Substitute\": \"\",\n",
    "    \"BOSS_Toxicity_Ablate_Data_ID_BERT48000_Translate\": \"\",\n",
    "    \"BOSS_Toxicity_Ablate_Data_ID_BERT48000_Paraphrase\": \"\",\n",
    "    \"BOSS_Toxicity_Ablate_Data_ID_BERT48000_ICR\": \"\",\n",
    "\n",
    "    # T5\n",
    "    \"BOSS_Toxicity_ID_T5_Insert\": \"\",\n",
    "    \"BOSS_Toxicity_ID_T5_Substitute\": \"\",\n",
    "    \"BOSS_Toxicity_ID_T5_Translate\": \"\",\n",
    "    \"BOSS_Toxicity_ID_T5_Paraphrase\": \"\",\n",
    "    \"BOSS_Toxicity_ID_T5_ICR\": \"\",\n",
    "\n",
    "    # Falcon\n",
    "    \"BOSS_Toxicity_ID_Falcon_Insert\": \"run-bo8gbtun-validation_aug_insert_random_16_tiiuaefalcon7binstruct_style_logs:v0\",\n",
    "    \"BOSS_Toxicity_ID_Falcon_Substitute\": \"\",\n",
    "    \"BOSS_Toxicity_ID_Falcon_Translate\": \"\",\n",
    "    \"BOSS_Toxicity_ID_Falcon_Paraphrase\": \"\",\n",
    "    \"BOSS_Toxicity_ID_Falcon_ICR\": \"\",\n",
    "\n",
    "    # Toxigen\n",
    "    # BERT\n",
    "    \"BOSS_Toxicity_Toxigen_BERT_Insert\": \"run-56jek2cf-toxigen_aug_insert_random_16_Kyle1668bosstoxicitybertbaseuncased_style_logs:v0\",\n",
    "    \"BOSS_Toxicity_Toxigen_BERT_Substitute\": \"run-56jek2cf-toxigen_aug_substitute_random_16_Kyle1668bosstoxicitybertbaseuncased_style_logs:v0\",\n",
    "    \"BOSS_Toxicity_Toxigen_BERT_Translate\": \"run-56jek2cf-toxigen_aug_backtranslate_random_16_Kyle1668bosstoxicitybertbaseuncased_style_logs:v0\",\n",
    "    \"BOSS_Toxicity_Toxigen_BERT_Paraphrase\": \"run-56jek2cf-toxigen_stabilityaiStableBeluga7b_random_0_Kyle1668bosstoxicitybertbaseuncased_style_logs:v0\",\n",
    "    \"BOSS_Toxicity_Toxigen_BERT_ICR\": \"run-56jek2cf-toxigen_stabilityaiStableBeluga7b_random_16_Kyle1668bosstoxicitybertbaseuncased_style_logs:v0\",\n",
    "\n",
    "    \"BOSS_Toxicity_Ablate_Data_Toxigen_BERT3000_Insert\": \"run-2ecsgmy9-toxigen_aug_insert_random_16_Kyle1668bosstoxicity6000bertbaseuncased_style_logs:v0\",\n",
    "    \"BOSS_Toxicity_Ablate_Data_Toxigen_BERT3000_Substitute\": \"run-2ecsgmy9-toxigen_aug_substitute_random_16_Kyle1668bosstoxicity6000bertbaseuncased_style_logs:v0\",\n",
    "    \"BOSS_Toxicity_Ablate_Data_Toxigen_BERT3000_Translate\": \"run-2ecsgmy9-toxigen_aug_backtranslate_random_16_Kyle1668bosstoxicity6000bertbaseuncased_style_logs:v0\",\n",
    "    \"BOSS_Toxicity_Ablate_Data_Toxigen_BERT3000_Paraphrase\": \"run-2ecsgmy9-toxigen_stabilityaiStableBeluga7b_random_0_Kyle1668bosstoxicity6000bertbaseuncased_style_logs:v0\",\n",
    "    \"BOSS_Toxicity_Ablate_Data_Toxigen_BERT3000_ICR\": \"run-2ecsgmy9-toxigen_stabilityaiStableBeluga7b_random_16_Kyle1668bosstoxicity6000bertbaseuncased_style_logs:v0\",\n",
    "\n",
    "    \"BOSS_Toxicity_Ablate_Data_Toxigen_BERT6000_Insert\": \"run-ms2943fk-toxigen_aug_insert_random_16_Kyle1668bosstoxicity3000bertbaseuncased_style_logs:v0\",\n",
    "    \"BOSS_Toxicity_Ablate_Data_Toxigen_BERT6000_Substitute\": \"run-ms2943fk-toxigen_aug_substitute_random_16_Kyle1668bosstoxicity3000bertbaseuncased_style_logs:v0\",\n",
    "    \"BOSS_Toxicity_Ablate_Data_Toxigen_BERT6000_Translate\": \"run-ms2943fk-toxigen_aug_backtranslate_random_16_Kyle1668bosstoxicity3000bertbaseuncased_style_logs:v0\",\n",
    "    \"BOSS_Toxicity_Ablate_Data_Toxigen_BERT6000_Paraphrase\": \"run-ms2943fk-toxigen_stabilityaiStableBeluga7b_random_0_Kyle1668bosstoxicity3000bertbaseuncased_style_logs:v0\",\n",
    "    \"BOSS_Toxicity_Ablate_Data_Toxigen_BERT6000_ICR\": \"run-ms2943fk-toxigen_stabilityaiStableBeluga7b_random_16_Kyle1668bosstoxicity3000bertbaseuncased_style_logs:v0\",\n",
    "\n",
    "    \"BOSS_Toxicity_Ablate_Data_Toxigen_BERT12000_Insert\": \"run-7hgtyr98-toxigen_aug_insert_random_16_Kyle1668bosstoxicity12000bertbaseuncased_style_logs:v0\",\n",
    "    \"BOSS_Toxicity_Ablate_Data_Toxigen_BERT12000_Substitute\": \"run-7hgtyr98-toxigen_aug_substitute_random_16_Kyle1668bosstoxicity12000bertbaseuncased_style_logs:v0\",\n",
    "    \"BOSS_Toxicity_Ablate_Data_Toxigen_BERT12000_Translate\": \"run-7hgtyr98-toxigen_aug_backtranslate_random_16_Kyle1668bosstoxicity12000bertbaseuncased_style_logs:v0\",\n",
    "    \"BOSS_Toxicity_Ablate_Data_Toxigen_BERT12000_Paraphrase\": \"run-7hgtyr98-toxigen_stabilityaiStableBeluga7b_random_0_Kyle1668bosstoxicity12000bertbaseuncased_style_logs:v0\",\n",
    "    \"BOSS_Toxicity_Ablate_Data_Toxigen_BERT12000_ICR\": \"run-7hgtyr98-toxigen_stabilityaiStableBeluga7b_random_16_Kyle1668bosstoxicity12000bertbaseuncased_style_logs:v0\",\n",
    "\n",
    "    \"BOSS_Toxicity_Ablate_Data_Toxigen_BERT24000_Insert\": \"run-wl2a38kf-toxigen_aug_insert_random_16_Kyle1668bosstoxicity24000bertbaseuncased_style_logs:v0\",\n",
    "    \"BOSS_Toxicity_Ablate_Data_Toxigen_BERT24000_Substitute\": \"run-wl2a38kf-toxigen_aug_substitute_random_16_Kyle1668bosstoxicity24000bertbaseuncased_style_logs:v0\",\n",
    "    \"BOSS_Toxicity_Ablate_Data_Toxigen_BERT24000_Translate\": \"run-wl2a38kf-toxigen_aug_backtranslate_random_16_Kyle1668bosstoxicity24000bertbaseuncased_style_logs:v0\",\n",
    "    \"BOSS_Toxicity_Ablate_Data_Toxigen_BERT24000_Paraphrase\": \"run-wl2a38kf-toxigen_stabilityaiStableBeluga7b_random_0_Kyle1668bosstoxicity24000bertbaseuncased_style_logs:v0\",\n",
    "    \"BOSS_Toxicity_Ablate_Data_Toxigen_BERT24000_ICR\": \"run-wl2a38kf-toxigen_stabilityaiStableBeluga7b_random_16_Kyle1668bosstoxicity24000bertbaseuncased_style_logs:v0\",\n",
    "\n",
    "    \"BOSS_Toxicity_Ablate_Data_Toxigen_BERT48000_Insert\": \"run-iaorx9o7-toxigen_aug_insert_random_16_Kyle1668bosstoxicity48000bertbaseuncased_style_logs:v0\",\n",
    "    \"BOSS_Toxicity_Ablate_Data_Toxigen_BERT48000_Substitute\": \"run-iaorx9o7-toxigen_aug_substitute_random_16_Kyle1668bosstoxicity48000bertbaseuncased_style_logs:v0\",\n",
    "    \"BOSS_Toxicity_Ablate_Data_Toxigen_BERT48000_Translate\": \"run-iaorx9o7-toxigen_aug_backtranslate_random_16_Kyle1668bosstoxicity48000bertbaseuncased_style_logs:v0\",\n",
    "    \"BOSS_Toxicity_Ablate_Data_Toxigen_BERT48000_Paraphrase\": \"run-iaorx9o7-toxigen_stabilityaiStableBeluga7b_random_0_Kyle1668bosstoxicity48000bertbaseuncased_style_logs:v0\",\n",
    "    \"BOSS_Toxicity_Ablate_Data_Toxigen_BERT48000_ICR\": \"run-iaorx9o7-toxigen_stabilityaiStableBeluga7b_random_16_Kyle1668bosstoxicity48000bertbaseuncased_style_logs:v0\",\n",
    "\n",
    "    # T5\n",
    "    \"BOSS_Toxicity_Toxigen_T5_Insert\": \"run-lixlm6qh-toxigen_aug_insert_random_16_Kyle1668bosstoxicityt5large_style_logs:v0\",\n",
    "    \"BOSS_Toxicity_Toxigen_T5_Substitute\": \"run-lixlm6qh-toxigen_aug_substitute_random_16_Kyle1668bosstoxicityt5large_style_logs:v0\",\n",
    "    \"BOSS_Toxicity_Toxigen_T5_Translate\": \"run-lixlm6qh-toxigen_aug_backtranslate_random_16_Kyle1668bosstoxicityt5large_style_logs:v0\",\n",
    "    \"BOSS_Toxicity_Toxigen_T5_Paraphrase\": \"run-lixlm6qh-toxigen_stabilityaiStableBeluga7b_random_0_Kyle1668bosstoxicityt5large_style_logs:v0\",\n",
    "    \"BOSS_Toxicity_Toxigen_T5_ICR\": \"run-lixlm6qh-toxigen_stabilityaiStableBeluga7b_random_16_Kyle1668bosstoxicityt5large_style_logs:v0\",\n",
    "\n",
    "    # Falcon\n",
    "    \"BOSS_Toxicity_Toxigen_Falcon_Insert\": \"run-lixlm6qh-toxigen_aug_insert_random_16_tiiuaefalcon7binstruct_style_logs:v0\",\n",
    "    \"BOSS_Toxicity_Toxigen_Falcon_Substitute\": \"run-lixlm6qh-toxigen_aug_substitute_random_16_tiiuaefalcon7binstruct_style_logs:v0\",\n",
    "    \"BOSS_Toxicity_Toxigen_Falcon_Translate\": \"run-lixlm6qh-toxigen_aug_backtranslate_random_16_tiiuaefalcon7binstruct_style_logs:v0\",\n",
    "    \"BOSS_Toxicity_Toxigen_Falcon_Paraphrase\": \"run-lixlm6qh-toxigen_stabilityaiStableBeluga7b_random_0_tiiuaefalcon7binstruct_style_logs:v0\",\n",
    "    \"BOSS_Toxicity_Toxigen_Falcon_ICR\": \"run-lixlm6qh-toxigen_stabilityaiStableBeluga7b_random_16_tiiuaefalcon7binstruct_style_logs:v0\",\n",
    "\n",
    "    # ImplicitHate\n",
    "    # BERT\n",
    "    \"BOSS_Toxicity_ImplicitHate_BERT_Insert\": \"run-56jek2cf-implicit_hate_aug_insert_random_16_Kyle1668bosstoxicitybertbaseuncased_style_logs:v0\",\n",
    "    \"BOSS_Toxicity_ImplicitHate_BERT_Substitute\": \"run-56jek2cf-implicit_hate_aug_substitute_random_16_Kyle1668bosstoxicitybertbaseuncased_style_logs:v0\",\n",
    "    \"BOSS_Toxicity_ImplicitHate_BERT_Translate\": \"run-56jek2cf-implicit_hate_aug_backtranslate_random_16_Kyle1668bosstoxicitybertbaseuncased_style_logs:v0\",\n",
    "    \"BOSS_Toxicity_ImplicitHate_BERT_Paraphrase\": \"run-56jek2cf-implicit_hate_stabilityaiStableBeluga7b_random_0_Kyle1668bosstoxicitybertbaseuncased_style_logs:v0\",\n",
    "    \"BOSS_Toxicity_ImplicitHate_BERT_ICR\": \"run-56jek2cf-implicit_hate_stabilityaiStableBeluga7b_random_16_Kyle1668bosstoxicitybertbaseuncased_style_logs:v0\",\n",
    "\n",
    "    \"BOSS_Toxicity_Ablate_Data_ImplicitHate_BERT3000_Insert\": \"run-ms2943fk-implicit_hate_aug_insert_random_16_Kyle1668bosstoxicity3000bertbaseuncased_style_logs:v0\",\n",
    "    \"BOSS_Toxicity_Ablate_Data_ImplicitHate_BERT3000_Substitute\": \"run-ms2943fk-implicit_hate_aug_substitute_random_16_Kyle1668bosstoxicity3000bertbaseuncased_style_logs:v0\",\n",
    "    \"BOSS_Toxicity_Ablate_Data_ImplicitHate_BERT3000_Translate\": \"run-ms2943fk-implicit_hate_aug_backtranslate_random_16_Kyle1668bosstoxicity3000bertbaseuncased_style_logs:v0\",\n",
    "    \"BOSS_Toxicity_Ablate_Data_ImplicitHate_BERT3000_Paraphrase\": \"run-ms2943fk-implicit_hate_stabilityaiStableBeluga7b_random_0_Kyle1668bosstoxicity3000bertbaseuncased_style_logs:v0\",\n",
    "    \"BOSS_Toxicity_Ablate_Data_ImplicitHate_BERT3000_ICR\": \"run-ms2943fk-implicit_hate_stabilityaiStableBeluga7b_random_16_Kyle1668bosstoxicity3000bertbaseuncased_style_logs:v0\",\n",
    "\n",
    "    \"BOSS_Toxicity_Ablate_Data_ImplicitHate_BERT6000_Insert\": \"run-2ecsgmy9-implicit_hate_aug_insert_random_16_Kyle1668bosstoxicity6000bertbaseuncased_style_logs:v0\",\n",
    "    \"BOSS_Toxicity_Ablate_Data_ImplicitHate_BERT6000_Substitute\": \"run-2ecsgmy9-implicit_hate_aug_substitute_random_16_Kyle1668bosstoxicity6000bertbaseuncased_style_logs:v0\",\n",
    "    \"BOSS_Toxicity_Ablate_Data_ImplicitHate_BERT6000_Translate\": \"run-2ecsgmy9-implicit_hate_aug_backtranslate_random_16_Kyle1668bosstoxicity6000bertbaseuncased_style_logs:v0\",\n",
    "    \"BOSS_Toxicity_Ablate_Data_ImplicitHate_BERT6000_Paraphrase\": \"run-2ecsgmy9-implicit_hate_stabilityaiStableBeluga7b_random_0_Kyle1668bosstoxicity6000bertbaseuncased_style_logs:v0\",\n",
    "    \"BOSS_Toxicity_Ablate_Data_ImplicitHate_BERT6000_ICR\": \"run-2ecsgmy9-implicit_hate_stabilityaiStableBeluga7b_random_16_Kyle1668bosstoxicity6000bertbaseuncased_style_logs:v0\",\n",
    "\n",
    "    \"BOSS_Toxicity_Ablate_Data_ImplicitHate_BERT12000_Insert\": \"run-7hgtyr98-implicit_hate_aug_insert_random_16_Kyle1668bosstoxicity12000bertbaseuncased_style_logs:v0\",\n",
    "    \"BOSS_Toxicity_Ablate_Data_ImplicitHate_BERT12000_Substitute\": \"run-7hgtyr98-implicit_hate_aug_substitute_random_16_Kyle1668bosstoxicity12000bertbaseuncased_style_logs:v0\",\n",
    "    \"BOSS_Toxicity_Ablate_Data_ImplicitHate_BERT12000_Translate\": \"run-7hgtyr98-implicit_hate_aug_backtranslate_random_16_Kyle1668bosstoxicity12000bertbaseuncased_style_logs:v0\",\n",
    "    \"BOSS_Toxicity_Ablate_Data_ImplicitHate_BERT12000_Paraphrase\": \"run-7hgtyr98-implicit_hate_stabilityaiStableBeluga7b_random_0_Kyle1668bosstoxicity12000bertbaseuncased_style_logs:v0\",\n",
    "    \"BOSS_Toxicity_Ablate_Data_ImplicitHate_BERT12000_ICR\": \"run-7hgtyr98-implicit_hate_stabilityaiStableBeluga7b_random_16_Kyle1668bosstoxicity12000bertbaseuncased_style_logs:v0\",\n",
    "\n",
    "    \"BOSS_Toxicity_Ablate_Data_ImplicitHate_BERT24000_Insert\": \"run-wl2a38kf-implicit_hate_aug_insert_random_16_Kyle1668bosstoxicity24000bertbaseuncased_style_logs:v0\",\n",
    "    \"BOSS_Toxicity_Ablate_Data_ImplicitHate_BERT24000_Substitute\": \"run-wl2a38kf-implicit_hate_aug_substitute_random_16_Kyle1668bosstoxicity24000bertbaseuncased_style_logs:v0\",\n",
    "    \"BOSS_Toxicity_Ablate_Data_ImplicitHate_BERT24000_Translate\": \"run-wl2a38kf-implicit_hate_aug_backtranslate_random_16_Kyle1668bosstoxicity24000bertbaseuncased_style_logs:v0\",\n",
    "    \"BOSS_Toxicity_Ablate_Data_ImplicitHate_BERT24000_Paraphrase\": \"run-wl2a38kf-implicit_hate_stabilityaiStableBeluga7b_random_0_Kyle1668bosstoxicity24000bertbaseuncased_style_logs:v0\",\n",
    "    \"BOSS_Toxicity_Ablate_Data_ImplicitHate_BERT24000_ICR\": \"run-wl2a38kf-implicit_hate_stabilityaiStableBeluga7b_random_16_Kyle1668bosstoxicity24000bertbaseuncased_style_logs:v0\",\n",
    "\n",
    "    \"BOSS_Toxicity_Ablate_Data_ImplicitHate_BERT48000_Insert\": \"run-iaorx9o7-implicit_hate_aug_insert_random_16_Kyle1668bosstoxicity48000bertbaseuncased_style_logs:v0\",\n",
    "    \"BOSS_Toxicity_Ablate_Data_ImplicitHate_BERT48000_Substitute\": \"run-iaorx9o7-implicit_hate_aug_substitute_random_16_Kyle1668bosstoxicity48000bertbaseuncased_style_logs:v0\",\n",
    "    \"BOSS_Toxicity_Ablate_Data_ImplicitHate_BERT48000_Translate\": \"run-iaorx9o7-implicit_hate_aug_backtranslate_random_16_Kyle1668bosstoxicity48000bertbaseuncased_style_logs:v0\",\n",
    "    \"BOSS_Toxicity_Ablate_Data_ImplicitHate_BERT48000_Paraphrase\": \"run-iaorx9o7-implicit_hate_stabilityaiStableBeluga7b_random_0_Kyle1668bosstoxicity48000bertbaseuncased_style_logs:v0\",\n",
    "    \"BOSS_Toxicity_Ablate_Data_ImplicitHate_BERT48000_ICR\": \"run-iaorx9o7-implicit_hate_stabilityaiStableBeluga7b_random_16_Kyle1668bosstoxicity48000bertbaseuncased_style_logs:v0\",\n",
    "\n",
    "    # T5\n",
    "    \"BOSS_Toxicity_ImplicitHate_T5_Insert\": \"run-lixlm6qh-implicit_hate_aug_insert_random_16_Kyle1668bosstoxicityt5large_style_logs:v0\",\n",
    "    \"BOSS_Toxicity_ImplicitHate_T5_Substitute\": \"run-lixlm6qh-implicit_hate_aug_substitute_random_16_Kyle1668bosstoxicityt5large_style_logs:v0\",\n",
    "    \"BOSS_Toxicity_ImplicitHate_T5_Translate\": \"run-lixlm6qh-implicit_hate_aug_backtranslate_random_16_Kyle1668bosstoxicityt5large_style_logs:v0\",\n",
    "    \"BOSS_Toxicity_ImplicitHate_T5_Paraphrase\": \"run-lixlm6qh-implicit_hate_stabilityaiStableBeluga7b_random_0_Kyle1668bosstoxicityt5large_style_logs:v0\",\n",
    "    \"BOSS_Toxicity_ImplicitHate_T5_ICR\": \"run-lixlm6qh-implicit_hate_stabilityaiStableBeluga7b_random_16_Kyle1668bosstoxicityt5large_style_logs:v0\",\n",
    "\n",
    "    # Falcon\n",
    "    \"BOSS_Toxicity_ImplicitHate_Falcon_Insert\": \"run-lixlm6qh-implicit_hate_aug_insert_random_16_tiiuaefalcon7binstruct_style_logs:v0\",\n",
    "    \"BOSS_Toxicity_ImplicitHate_Falcon_Substitute\": \"run-lixlm6qh-implicit_hate_aug_substitute_random_16_tiiuaefalcon7binstruct_style_logs:v0\",\n",
    "    \"BOSS_Toxicity_ImplicitHate_Falcon_Translate\": \"run-lixlm6qh-implicit_hate_aug_backtranslate_random_16_tiiuaefalcon7binstruct_style_logs:v0\",\n",
    "    \"BOSS_Toxicity_ImplicitHate_Falcon_Paraphrase\": \"\",\n",
    "    \"BOSS_Toxicity_ImplicitHate_Falcon_ICR\": \"\",\n",
    "\n",
    "    # AdvCivil\n",
    "    # BERT\n",
    "    \"BOSS_Toxicity_AdvCivil_BERT_Insert\": \"run-56jek2cf-adv_civil_aug_insert_random_16_Kyle1668bosstoxicitybertbaseuncased_style_logs:v0\",\n",
    "    \"BOSS_Toxicity_AdvCivil_BERT_Substitute\": \"run-56jek2cf-adv_civil_aug_substitute_random_16_Kyle1668bosstoxicitybertbaseuncased_style_logs:v0\",\n",
    "    \"BOSS_Toxicity_AdvCivil_BERT_Translate\": \"run-56jek2cf-adv_civil_aug_backtranslate_random_16_Kyle1668bosstoxicitybertbaseuncased_style_logs:v0\",\n",
    "    \"BOSS_Toxicity_AdvCivil_BERT_Paraphrase\": \"run-56jek2cf-adv_civil_stabilityaiStableBeluga7b_random_0_Kyle1668bosstoxicitybertbaseuncased_style_logs:v0\",\n",
    "    \"BOSS_Toxicity_AdvCivil_BERT_ICR\": \"run-56jek2cf-adv_civil_stabilityaiStableBeluga7b_random_16_Kyle1668bosstoxicitybertbaseuncased_style_logs:v0\",\n",
    "\n",
    "    \"BOSS_Toxicity_Ablate_Data_AdvCivil_BERT3000_Insert\": \"run-ms2943fk-adv_civil_aug_insert_random_16_Kyle1668bosstoxicity3000bertbaseuncased_style_logs:v0\",\n",
    "    \"BOSS_Toxicity_Ablate_Data_AdvCivil_BERT3000_Substitute\": \"run-ms2943fk-adv_civil_aug_substitute_random_16_Kyle1668bosstoxicity3000bertbaseuncased_style_logs:v0\",\n",
    "    \"BOSS_Toxicity_Ablate_Data_AdvCivil_BERT3000_Translate\": \"run-ms2943fk-adv_civil_aug_backtranslate_random_16_Kyle1668bosstoxicity3000bertbaseuncased_style_logs:v0\",\n",
    "    \"BOSS_Toxicity_Ablate_Data_AdvCivil_BERT3000_Paraphrase\": \"run-ms2943fk-adv_civil_stabilityaiStableBeluga7b_random_0_Kyle1668bosstoxicity3000bertbaseuncased_style_logs:v0\",\n",
    "    \"BOSS_Toxicity_Ablate_Data_AdvCivil_BERT3000_ICR\": \"run-ms2943fk-adv_civil_stabilityaiStableBeluga7b_random_16_Kyle1668bosstoxicity3000bertbaseuncased_style_logs:v0\",\n",
    "\n",
    "    \"BOSS_Toxicity_Ablate_Data_AdvCivil_BERT6000_Insert\": \"run-2ecsgmy9-adv_civil_aug_insert_random_16_Kyle1668bosstoxicity6000bertbaseuncased_style_logs:v0\",\n",
    "    \"BOSS_Toxicity_Ablate_Data_AdvCivil_BERT6000_Substitute\": \"run-2ecsgmy9-adv_civil_aug_substitute_random_16_Kyle1668bosstoxicity6000bertbaseuncased_style_logs:v0\",\n",
    "    \"BOSS_Toxicity_Ablate_Data_AdvCivil_BERT6000_Translate\": \"run-2ecsgmy9-adv_civil_aug_backtranslate_random_16_Kyle1668bosstoxicity6000bertbaseuncased_style_logs:v0\",\n",
    "    \"BOSS_Toxicity_Ablate_Data_AdvCivil_BERT6000_Paraphrase\": \"run-2ecsgmy9-adv_civil_stabilityaiStableBeluga7b_random_0_Kyle1668bosstoxicity6000bertbaseuncased_style_logs:v0\",\n",
    "    \"BOSS_Toxicity_Ablate_Data_AdvCivil_BERT6000_ICR\": \"run-2ecsgmy9-adv_civil_stabilityaiStableBeluga7b_random_16_Kyle1668bosstoxicity6000bertbaseuncased_style_logs:v0\",\n",
    "\n",
    "    \"BOSS_Toxicity_Ablate_Data_AdvCivil_BERT12000_Insert\": \"run-7hgtyr98-adv_civil_aug_insert_random_16_Kyle1668bosstoxicity12000bertbaseuncased_style_logs:v0\",\n",
    "    \"BOSS_Toxicity_Ablate_Data_AdvCivil_BERT12000_Substitute\": \"run-7hgtyr98-adv_civil_aug_substitute_random_16_Kyle1668bosstoxicity12000bertbaseuncased_style_logs:v0\",\n",
    "    \"BOSS_Toxicity_Ablate_Data_AdvCivil_BERT12000_Translate\": \"run-7hgtyr98-adv_civil_aug_backtranslate_random_16_Kyle1668bosstoxicity12000bertbaseuncased_style_logs:v0\",\n",
    "    \"BOSS_Toxicity_Ablate_Data_AdvCivil_BERT12000_Paraphrase\": \"run-7hgtyr98-adv_civil_stabilityaiStableBeluga7b_random_0_Kyle1668bosstoxicity12000bertbaseuncased_style_logs:v0\",\n",
    "    \"BOSS_Toxicity_Ablate_Data_AdvCivil_BERT12000_ICR\": \"run-7hgtyr98-adv_civil_stabilityaiStableBeluga7b_random_16_Kyle1668bosstoxicity12000bertbaseuncased_style_logs:v0\",\n",
    "\n",
    "    \"BOSS_Toxicity_Ablate_Data_AdvCivil_BERT24000_Insert\": \"run-wl2a38kf-adv_civil_aug_insert_random_16_Kyle1668bosstoxicity24000bertbaseuncased_style_logs:v0\",\n",
    "    \"BOSS_Toxicity_Ablate_Data_AdvCivil_BERT24000_Substitute\": \"run-wl2a38kf-adv_civil_aug_substitute_random_16_Kyle1668bosstoxicity24000bertbaseuncased_style_logs:v0\",\n",
    "    \"BOSS_Toxicity_Ablate_Data_AdvCivil_BERT24000_Translate\": \"run-wl2a38kf-adv_civil_aug_backtranslate_random_16_Kyle1668bosstoxicity24000bertbaseuncased_style_logs:v0\",\n",
    "    \"BOSS_Toxicity_Ablate_Data_AdvCivil_BERT24000_Paraphrase\": \"run-wl2a38kf-adv_civil_stabilityaiStableBeluga7b_random_0_Kyle1668bosstoxicity24000bertbaseuncased_style_logs:v0\",\n",
    "    \"BOSS_Toxicity_Ablate_Data_AdvCivil_BERT24000_ICR\": \"run-wl2a38kf-adv_civil_stabilityaiStableBeluga7b_random_16_Kyle1668bosstoxicity24000bertbaseuncased_style_logs:v0\",\n",
    "\n",
    "    \"BOSS_Toxicity_Ablate_Data_AdvCivil_BERT48000_Insert\": \"run-iaorx9o7-adv_civil_aug_insert_random_16_Kyle1668bosstoxicity48000bertbaseuncased_style_logs:v0\",\n",
    "    \"BOSS_Toxicity_Ablate_Data_AdvCivil_BERT48000_Substitute\": \"run-iaorx9o7-adv_civil_aug_substitute_random_16_Kyle1668bosstoxicity48000bertbaseuncased_style_logs:v0\",\n",
    "    \"BOSS_Toxicity_Ablate_Data_AdvCivil_BERT48000_Translate\": \"run-iaorx9o7-adv_civil_aug_backtranslate_random_16_Kyle1668bosstoxicity48000bertbaseuncased_style_logs:v0\",\n",
    "    \"BOSS_Toxicity_Ablate_Data_AdvCivil_BERT48000_Paraphrase\": \"run-iaorx9o7-adv_civil_stabilityaiStableBeluga7b_random_0_Kyle1668bosstoxicity48000bertbaseuncased_style_logs:v0\",\n",
    "    \"BOSS_Toxicity_Ablate_Data_AdvCivil_BERT48000_ICR\": \"run-iaorx9o7-adv_civil_stabilityaiStableBeluga7b_random_16_Kyle1668bosstoxicity48000bertbaseuncased_style_logs:v0\",\n",
    "\n",
    "    # T5\n",
    "    \"BOSS_Toxicity_AdvCivil_T5_Insert\": \"run-lixlm6qh-adv_civil_aug_insert_random_16_Kyle1668bosstoxicityt5large_style_logs:v0\",\n",
    "    \"BOSS_Toxicity_AdvCivil_T5_Substitute\": \"run-lixlm6qh-adv_civil_aug_substitute_random_16_Kyle1668bosstoxicityt5large_style_logs:v0\",\n",
    "    \"BOSS_Toxicity_AdvCivil_T5_Translate\": \"run-lixlm6qh-adv_civil_aug_backtranslate_random_16_Kyle1668bosstoxicityt5large_style_logs:v0\",\n",
    "    \"BOSS_Toxicity_AdvCivil_T5_Paraphrase\": \"run-lixlm6qh-adv_civil_stabilityaiStableBeluga7b_random_0_Kyle1668bosstoxicityt5large_style_logs:v0\",\n",
    "    \"BOSS_Toxicity_AdvCivil_T5_ICR\": \"run-lixlm6qh-adv_civil_stabilityaiStableBeluga7b_random_16_Kyle1668bosstoxicityt5large_style_logs:v0\",\n",
    "\n",
    "    # Falcon\n",
    "    \"BOSS_Toxicity_AdvCivil_Falcon_Insert\": \"run-lixlm6qh-adv_civil_aug_insert_random_16_tiiuaefalcon7binstruct_style_logs:v0\",\n",
    "    \"BOSS_Toxicity_AdvCivil_Falcon_Substitute\": \"run-lixlm6qh-adv_civil_aug_substitute_random_16_tiiuaefalcon7binstruct_style_logs:v0\",\n",
    "    \"BOSS_Toxicity_AdvCivil_Falcon_Translate\": \"run-lixlm6qh-adv_civil_aug_backtranslate_random_16_tiiuaefalcon7binstruct_style_logs:v0\",\n",
    "    \"BOSS_Toxicity_AdvCivil_Falcon_Paraphrase\": \"run-lixlm6qh-adv_civil_stabilityaiStableBeluga7b_random_0_tiiuaefalcon7binstruct_style_logs:v0\",\n",
    "    \"BOSS_Toxicity_AdvCivil_Falcon_ICR\": \"run-lixlm6qh-adv_civil_stabilityaiStableBeluga7b_random_16_tiiuaefalcon7binstruct_style_logs:v0\",\n",
    "\n",
    "    # AG News Tweets\n",
    "    # ID\n",
    "    # BERT\n",
    "    \"AgNewsTweets_ID_BERT_Insert\": \"run-i2vkae2s-validation_aug_insert_random_16_Kyle1668agnewsbertbaseuncased_style_logs:v0\",\n",
    "    \"AgNewsTweets_ID_BERT_Substitute\": \"run-i2vkae2s-validation_aug_substitute_random_16_Kyle1668agnewsbertbaseuncased_style_logs:v0\",\n",
    "    \"AgNewsTweets_ID_BERT_Translate\": \"run-i2vkae2s-validation_aug_backtranslate_random_16_Kyle1668agnewsbertbaseuncased_style_logs:v0\",\n",
    "    \"AgNewsTweets_ID_BERT_Paraphrase\": \"run-i2vkae2s-validation_stabilityaiStableBeluga7b_random_0_Kyle1668agnewsbertbaseuncased_style_logs:v0\",\n",
    "    \"AgNewsTweets_ID_BERT_ICR\": \"run-i2vkae2s-validation_stabilityaiStableBeluga7b_random_16_Kyle1668agnewsbertbaseuncased_style_logs:v0\",\n",
    "\n",
    "    \"AgNewsTweets_Ablate_Data_Tweets_BERT4800_Insert\": \"\",\n",
    "    \"AgNewsTweets_Ablate_Data_Tweets_BERT4800_Substitute\": \"\",\n",
    "    \"AgNewsTweets_Ablate_Data_Tweets_BERT4800_Translate\": \"\",\n",
    "    \"AgNewsTweets_Ablate_Data_Tweets_BERT4800_Paraphrase\": \"\",\n",
    "    \"AgNewsTweets_Ablate_Data_Tweets_BERT4800_ICR\": \"\",\n",
    "\n",
    "    \"AgNewsTweets_Ablate_Data_Tweets_BERT9600_Insert\": \"\",\n",
    "    \"AgNewsTweets_Ablate_Data_Tweets_BERT9600_Substitute\": \"\",\n",
    "    \"AgNewsTweets_Ablate_Data_Tweets_BERT9600_Translate\": \"\",\n",
    "    \"AgNewsTweets_Ablate_Data_Tweets_BERT9600_Paraphrase\": \"\",\n",
    "    \"AgNewsTweets_Ablate_Data_Tweets_BERT9600_ICR\": \"\",\n",
    "\n",
    "    \"AgNewsTweets_Ablate_Data_Tweets_BERT19200_Insert\": \"\",\n",
    "    \"AgNewsTweets_Ablate_Data_Tweets_BERT19200_Substitute\": \"\",\n",
    "    \"AgNewsTweets_Ablate_Data_Tweets_BERT19200_Translate\": \"\",\n",
    "    \"AgNewsTweets_Ablate_Data_Tweets_BERT19200_Paraphrase\": \"\",\n",
    "    \"AgNewsTweets_Ablate_Data_Tweets_BERT19200_ICR\": \"\",\n",
    "\n",
    "    \"AgNewsTweets_Ablate_Data_Tweets_BERT38400_Insert\": \"\",\n",
    "    \"AgNewsTweets_Ablate_Data_Tweets_BERT38400_Substitute\": \"\",\n",
    "    \"AgNewsTweets_Ablate_Data_Tweets_BERT38400_Translate\": \"\",\n",
    "    \"AgNewsTweets_Ablate_Data_Tweets_BERT38400_Paraphrase\": \"\",\n",
    "    \"AgNewsTweets_Ablate_Data_Tweets_BERT38400_ICR\": \"\",\n",
    "\n",
    "    \"AgNewsTweets_Ablate_Data_Tweets_BERT76800_Insert\": \"\",\n",
    "    \"AgNewsTweets_Ablate_Data_Tweets_BERT76800_Substitute\": \"\",\n",
    "    \"AgNewsTweets_Ablate_Data_Tweets_BERT76800_Translate\": \"\",\n",
    "    \"AgNewsTweets_Ablate_Data_Tweets_BERT76800_Paraphrase\": \"\",\n",
    "    \"AgNewsTweets_Ablate_Data_Tweets_BERT76800_ICR\": \"\",\n",
    "\n",
    "    # T5\n",
    "    \"AgNewsTweets_ID_T5_Insert\": \"run-i2vkae2s-validation_aug_insert_random_16_Kyle1668agnewst5large_style_logs:v0\",\n",
    "    \"AgNewsTweets_ID_T5_Substitute\": \"run-i2vkae2s-validation_aug_substitute_random_16_Kyle1668agnewst5large_style_logs:v0\",\n",
    "    \"AgNewsTweets_ID_T5_Translate\": \"run-i2vkae2s-validation_aug_backtranslate_random_16_Kyle1668agnewst5large_style_logs:v0\",\n",
    "    \"AgNewsTweets_ID_T5_Paraphrase\": \"run-i2vkae2s-validation_stabilityaiStableBeluga7b_random_0_Kyle1668agnewst5large_style_logs:v0\",\n",
    "    \"AgNewsTweets_ID_T5_ICR\": \"run-i2vkae2s-validation_stabilityaiStableBeluga7b_random_16_Kyle1668agnewst5large_style_logs:v0\",\n",
    "\n",
    "    # Falcon\n",
    "    \"AgNewsTweets_ID_Falcon_Insert\": \"run-i2vkae2s-validation_aug_insert_random_16_tiiuaefalcon7binstruct_style_logs:v0\",\n",
    "    \"AgNewsTweets_ID_Falcon_Substitute\": \"run-i2vkae2s-validation_aug_substitute_random_16_tiiuaefalcon7binstruct_style_logs:v0\",\n",
    "    \"AgNewsTweets_ID_Falcon_Translate\": \"run-i2vkae2s-validation_aug_backtranslate_random_16_tiiuaefalcon7binstruct_style_logs:v0\",\n",
    "    \"AgNewsTweets_ID_Falcon_Paraphrase\": \"run-i2vkae2s-validation_stabilityaiStableBeluga7b_random_0_tiiuaefalcon7binstruct_style_logs:v0\",\n",
    "    \"AgNewsTweets_ID_Falcon_ICR\": \"run-i2vkae2s-validation_stabilityaiStableBeluga7b_random_16_tiiuaefalcon7binstruct_style_logs:v0\",\n",
    "\n",
    "    # Tweets\n",
    "    # BERT\n",
    "    \"AgNewsTweets_Tweets_BERT_Insert\": \"run-itucov43-test_aug_insert_random_16_Kyle1668agnewsbertbaseuncased_style_logs:v0\",\n",
    "    \"AgNewsTweets_Tweets_BERT_Substitute\": \"run-itucov43-test_aug_substitute_random_16_Kyle1668agnewsbertbaseuncased_style_logs:v0\",\n",
    "    \"AgNewsTweets_Tweets_BERT_Translate\": \"run-itucov43-test_aug_backtranslate_random_16_Kyle1668agnewsbertbaseuncased_style_logs:v0\",\n",
    "    \"AgNewsTweets_Tweets_BERT_Paraphrase\": \"run-itucov43-test_stabilityaiStableBeluga7b_random_0_Kyle1668agnewsbertbaseuncased_style_logs:v0\",\n",
    "    \"AgNewsTweets_Tweets_BERT_ICR\": \"run-itucov43-test_stabilityaiStableBeluga7b_random_16_Kyle1668agnewsbertbaseuncased_style_logs:v0\",\n",
    "\n",
    "    \"AgNewsTweets_Ablate_Data_Tweets_BERT76800_Insert\": \"run-seqenj7d-test_aug_insert_random_16_Kyle1668agnews76800bertbaseuncased_style_logs:v0\",\n",
    "    \"AgNewsTweets_Ablate_Data_Tweets_BERT76800_Substitute\": \"run-seqenj7d-test_aug_substitute_random_16_Kyle1668agnews76800bertbaseuncased_style_logs:v0\",\n",
    "    \"AgNewsTweets_Ablate_Data_Tweets_BERT76800_Translate\": \"run-seqenj7d-test_aug_backtranslate_random_16_Kyle1668agnews76800bertbaseuncased_style_logs:v0\",\n",
    "    \"AgNewsTweets_Ablate_Data_Tweets_BERT76800_Paraphrase\": \"run-seqenj7d-test_stabilityaiStableBeluga7b_random_0_Kyle1668agnews76800bertbaseuncased_style_logs:v0\",\n",
    "    \"AgNewsTweets_Ablate_Data_Tweets_BERT76800_ICR\": \"run-seqenj7d-test_stabilityaiStableBeluga7b_random_16_Kyle1668agnews76800bertbaseuncased_style_logs:v0\",\n",
    "\n",
    "    \"AgNewsTweets_Ablate_Data_Tweets_BERT9600_Insert\": \"run-ymlu6tfz-test_aug_insert_random_16_Kyle1668agnews9600bertbaseuncased_style_logs:v0\",\n",
    "    \"AgNewsTweets_Ablate_Data_Tweets_BERT9600_Substitute\": \"run-ymlu6tfz-test_aug_substitute_random_16_Kyle1668agnews9600bertbaseuncased_style_logs:v0\",\n",
    "    \"AgNewsTweets_Ablate_Data_Tweets_BERT9600_Translate\": \"run-ymlu6tfz-test_aug_backtranslate_random_16_Kyle1668agnews9600bertbaseuncased_style_logs:v0\",\n",
    "    \"AgNewsTweets_Ablate_Data_Tweets_BERT9600_Paraphrase\": \"run-ymlu6tfz-test_stabilityaiStableBeluga7b_random_0_Kyle1668agnews9600bertbaseuncased_style_logs:v0\",\n",
    "    \"AgNewsTweets_Ablate_Data_Tweets_BERT9600_ICR\": \"run-ymlu6tfz-test_stabilityaiStableBeluga7b_random_0_Kyle1668agnews9600bertbaseuncased_style_logs:v0\",\n",
    "\n",
    "    \"AgNewsTweets_Ablate_Data_Tweets_BERT19200_Insert\": \"run-arskmac6-test_aug_insert_random_16_Kyle1668agnews19200bertbaseuncased_style_logs:v0\",\n",
    "    \"AgNewsTweets_Ablate_Data_Tweets_BERT19200_Substitute\": \"run-arskmac6-test_aug_substitute_random_16_Kyle1668agnews19200bertbaseuncased_style_logs:v0\",\n",
    "    \"AgNewsTweets_Ablate_Data_Tweets_BERT19200_Translate\": \"run-arskmac6-test_aug_backtranslate_random_16_Kyle1668agnews19200bertbaseuncased_style_logs:v0\",\n",
    "    \"AgNewsTweets_Ablate_Data_Tweets_BERT19200_Paraphrase\": \"run-arskmac6-test_stabilityaiStableBeluga7b_random_0_Kyle1668agnews19200bertbaseuncased_style_logs:v0\",\n",
    "    \"AgNewsTweets_Ablate_Data_Tweets_BERT19200_ICR\": \"run-arskmac6-test_stabilityaiStableBeluga7b_random_16_Kyle1668agnews19200bertbaseuncased_style_logs:v0\",\n",
    "\n",
    "    \"AgNewsTweets_Ablate_Data_Tweets_BERT38400_Insert\": \"run-6qktrbp8-test_aug_insert_random_16_Kyle1668agnews38400bertbaseuncased_style_logs:v0\",\n",
    "    \"AgNewsTweets_Ablate_Data_Tweets_BERT38400_Substitute\": \"run-6qktrbp8-test_aug_substitute_random_16_Kyle1668agnews38400bertbaseuncased_style_logs:v0\",\n",
    "    \"AgNewsTweets_Ablate_Data_Tweets_BERT38400_Translate\": \"run-6qktrbp8-test_aug_backtranslate_random_16_Kyle1668agnews38400bertbaseuncased_style_logs:v0\",\n",
    "    \"AgNewsTweets_Ablate_Data_Tweets_BERT38400_Paraphrase\": \"run-6qktrbp8-test_stabilityaiStableBeluga7b_random_0_Kyle1668agnews38400bertbaseuncased_style_logs:v0\",\n",
    "    \"AgNewsTweets_Ablate_Data_Tweets_BERT38400_ICR\": \"run-6qktrbp8-test_stabilityaiStableBeluga7b_random_16_Kyle1668agnews38400bertbaseuncased_style_logs:v0\",\n",
    "\n",
    "    \"AgNewsTweets_Ablate_Data_Tweets_BERT4800_Insert\": \"run-s51a9946-test_aug_insert_random_16_Kyle1668agnews4800bertbaseuncased_style_logs:v0\",\n",
    "    \"AgNewsTweets_Ablate_Data_Tweets_BERT4800_Substitute\": \"run-s51a9946-test_aug_substitute_random_16_Kyle1668agnews4800bertbaseuncased_style_logs:v0\",\n",
    "    \"AgNewsTweets_Ablate_Data_Tweets_BERT4800_Translate\": \"run-s51a9946-test_aug_backtranslate_random_16_Kyle1668agnews4800bertbaseuncased_style_logs:v0\",\n",
    "    \"AgNewsTweets_Ablate_Data_Tweets_BERT4800_Paraphrase\": \"run-s51a9946-test_stabilityaiStableBeluga7b_random_0_Kyle1668agnews4800bertbaseuncased_style_logs:v0\",\n",
    "    \"AgNewsTweets_Ablate_Data_Tweets_BERT4800_ICR\": \"run-s51a9946-test_stabilityaiStableBeluga7b_random_16_Kyle1668agnews4800bertbaseuncased_style_logs:v0\",\n",
    "\n",
    "    # T5\n",
    "    \"AgNewsTweets_Tweets_T5_Insert\": \"run-xdipkawo-test_aug_insert_random_16_Kyle1668agnewst5large_style_logs:v0\",\n",
    "    \"AgNewsTweets_Tweets_T5_Substitute\": \"run-xdipkawo-test_aug_substitute_random_16_Kyle1668agnewst5large_style_logs:v0\",\n",
    "    \"AgNewsTweets_Tweets_T5_Translate\": \"run-xdipkawo-test_aug_backtranslate_random_16_Kyle1668agnewst5large_style_logs:v0\",\n",
    "    \"AgNewsTweets_Tweets_T5_Paraphrase\": \"run-xdipkawo-test_stabilityaiStableBeluga7b_random_0_Kyle1668agnewst5large_style_logs:v0\",\n",
    "    \"AgNewsTweets_Tweets_T5_ICR\": \"run-xdipkawo-test_stabilityaiStableBeluga7b_random_16_Kyle1668agnewst5large_style_logs:v0\",\n",
    "\n",
    "    # Falcon\n",
    "    \"AgNewsTweets_Tweets_Falcon_Insert\": \"run-xdipkawo-test_aug_insert_random_16_tiiuaefalcon7binstruct_style_logs:v0\",\n",
    "    \"AgNewsTweets_Tweets_Falcon_Substitute\": \"run-xdipkawo-test_aug_substitute_random_16_tiiuaefalcon7binstruct_style_logs:v0\",\n",
    "    \"AgNewsTweets_Tweets_Falcon_Translate\": \"run-xdipkawo-test_aug_backtranslate_random_16_tiiuaefalcon7binstruct_style_logs:v0\",\n",
    "    \"AgNewsTweets_Tweets_Falcon_Paraphrase\": \"run-xdipkawo-test_stabilityaiStableBeluga7b_random_0_tiiuaefalcon7binstruct_style_logs:v0\",\n",
    "    \"AgNewsTweets_Tweets_Falcon_ICR\": \"\",\n",
    "}\n",
    "\n",
    "print(json.dumps(table_paths, indent=4))"
   ]
  },
  {
   "cell_type": "code",
   "execution_count": 17,
   "metadata": {},
   "outputs": [
    {
     "data": {
      "text/html": [
       "Finishing last run (ID:8skxlg59) before initializing another..."
      ],
      "text/plain": [
       "<IPython.core.display.HTML object>"
      ]
     },
     "metadata": {},
     "output_type": "display_data"
    },
    {
     "name": "stderr",
     "output_type": "stream",
     "text": [
      "wandb: WARNING Source type is set to 'repo' but some required information is missing from the environment. A job will not be created from this run. See https://docs.wandb.ai/guides/launch/create-job\n"
     ]
    },
    {
     "data": {
      "text/html": [
       " View run <strong style=\"color:#cdcd00\">efficient-oath-10</strong> at: <a href='https://wandb.ai/healthyml/In-Context-Domain-Transfer-Improves-Out-of-Domain-Robustness-notebooks/runs/8skxlg59' target=\"_blank\">https://wandb.ai/healthyml/In-Context-Domain-Transfer-Improves-Out-of-Domain-Robustness-notebooks/runs/8skxlg59</a><br/>Synced 6 W&B file(s), 0 media file(s), 0 artifact file(s) and 0 other file(s)"
      ],
      "text/plain": [
       "<IPython.core.display.HTML object>"
      ]
     },
     "metadata": {},
     "output_type": "display_data"
    },
    {
     "data": {
      "text/html": [
       "Find logs at: <code>./wandb/run-20231112_191658-8skxlg59/logs</code>"
      ],
      "text/plain": [
       "<IPython.core.display.HTML object>"
      ]
     },
     "metadata": {},
     "output_type": "display_data"
    },
    {
     "data": {
      "text/html": [
       "Successfully finished last run (ID:8skxlg59). Initializing new run:<br/>"
      ],
      "text/plain": [
       "<IPython.core.display.HTML object>"
      ]
     },
     "metadata": {},
     "output_type": "display_data"
    },
    {
     "data": {
      "text/html": [
       "Tracking run with wandb version 0.16.0"
      ],
      "text/plain": [
       "<IPython.core.display.HTML object>"
      ]
     },
     "metadata": {},
     "output_type": "display_data"
    },
    {
     "data": {
      "text/html": [
       "Run data is saved locally in <code>/home/kyobrien/repos/In-Context-Domain-Transfer-Improves-Out-of-Domain-Robustness/notebooks/wandb/run-20231112_193943-gomkkf3j</code>"
      ],
      "text/plain": [
       "<IPython.core.display.HTML object>"
      ]
     },
     "metadata": {},
     "output_type": "display_data"
    },
    {
     "data": {
      "text/html": [
       "Syncing run <strong><a href='https://wandb.ai/healthyml/In-Context-Domain-Transfer-Improves-Out-of-Domain-Robustness-notebooks/runs/gomkkf3j' target=\"_blank\">crimson-bee-11</a></strong> to <a href='https://wandb.ai/healthyml/In-Context-Domain-Transfer-Improves-Out-of-Domain-Robustness-notebooks' target=\"_blank\">Weights & Biases</a> (<a href='https://wandb.me/run' target=\"_blank\">docs</a>)<br/>"
      ],
      "text/plain": [
       "<IPython.core.display.HTML object>"
      ]
     },
     "metadata": {},
     "output_type": "display_data"
    },
    {
     "data": {
      "text/html": [
       " View project at <a href='https://wandb.ai/healthyml/In-Context-Domain-Transfer-Improves-Out-of-Domain-Robustness-notebooks' target=\"_blank\">https://wandb.ai/healthyml/In-Context-Domain-Transfer-Improves-Out-of-Domain-Robustness-notebooks</a>"
      ],
      "text/plain": [
       "<IPython.core.display.HTML object>"
      ]
     },
     "metadata": {},
     "output_type": "display_data"
    },
    {
     "data": {
      "text/html": [
       " View run at <a href='https://wandb.ai/healthyml/In-Context-Domain-Transfer-Improves-Out-of-Domain-Robustness-notebooks/runs/gomkkf3j' target=\"_blank\">https://wandb.ai/healthyml/In-Context-Domain-Transfer-Improves-Out-of-Domain-Robustness-notebooks/runs/gomkkf3j</a>"
      ],
      "text/plain": [
       "<IPython.core.display.HTML object>"
      ]
     },
     "metadata": {},
     "output_type": "display_data"
    }
   ],
   "source": [
    "run = wandb.init()"
   ]
  },
  {
   "cell_type": "code",
   "execution_count": 18,
   "metadata": {},
   "outputs": [
    {
     "name": "stdout",
     "output_type": "stream",
     "text": [
      "data/BOSS_Sentiment_Dynasent_BERT_Insert/dynasent_aug_insert_random_16_Kyle1668/boss-sentiment-bert-base-uncased_style_logs.table.json\n"
     ]
    }
   ],
   "source": [
    "def get_local_logs_path(directory):\n",
    "    try:\n",
    "        for contents in os.listdir(directory):\n",
    "            if contents.endswith(\"style_logs.table.json\"):\n",
    "                return os.path.join(directory, contents)\n",
    "\n",
    "            if os.path.isdir(os.path.join(directory, contents)):\n",
    "                return get_local_logs_path(os.path.join(directory, contents))\n",
    "    except:\n",
    "        # print(\"No style logs found in {}\".format(directory))\n",
    "        return None\n",
    "\n",
    "print(get_local_logs_path(\"data/BOSS_Sentiment_Dynasent_BERT_Insert\"))"
   ]
  },
  {
   "cell_type": "code",
   "execution_count": 19,
   "metadata": {},
   "outputs": [
    {
     "name": "stderr",
     "output_type": "stream",
     "text": [
      "  0%|          | 0/375 [00:00<?, ?it/s]"
     ]
    },
    {
     "name": "stdout",
     "output_type": "stream",
     "text": [
      "Downloading BOSS_Sentiment_Ablate_Data_Dynasent_BERT120000_Substitute --- healthyml/In-Context Domain Transfer Improves Out-of-Domain Robustness/run-pv6dxpzt-dynasent_aug_substitute_random_16_Kyle1668bosssentiment12000bertbaseuncased_style_logs:v0\n"
     ]
    },
    {
     "name": "stderr",
     "output_type": "stream",
     "text": [
      "\u001b[34m\u001b[1mwandb\u001b[0m:   1 of 1 files downloaded.  \n",
      " 38%|███▊      | 142/375 [00:01<00:02, 110.02it/s]"
     ]
    },
    {
     "name": "stdout",
     "output_type": "stream",
     "text": [
      "Downloading BOSS_Sentiment_Ablate_Data_Dynasent_BERT120000_Translate --- healthyml/In-Context Domain Transfer Improves Out-of-Domain Robustness/run-pv6dxpzt-dynasent_aug_backtranslate_random_16_Kyle1668bosssentiment12000bertbaseuncased_style_logs:v0\n"
     ]
    },
    {
     "name": "stderr",
     "output_type": "stream",
     "text": [
      "\u001b[34m\u001b[1mwandb\u001b[0m:   1 of 1 files downloaded.  \n"
     ]
    },
    {
     "name": "stdout",
     "output_type": "stream",
     "text": [
      "Downloading BOSS_Sentiment_Ablate_Data_Dynasent_BERT120000_Paraphrase --- healthyml/In-Context Domain Transfer Improves Out-of-Domain Robustness/run-pv6dxpzt-dynasent_stabilityaiStableBeluga7b_random_0_Kyle1668bosssentiment12000bertbaseuncased_style_logs:v0\n"
     ]
    },
    {
     "name": "stderr",
     "output_type": "stream",
     "text": [
      "\u001b[34m\u001b[1mwandb\u001b[0m:   1 of 1 files downloaded.  \n"
     ]
    },
    {
     "name": "stdout",
     "output_type": "stream",
     "text": [
      "Downloading BOSS_Sentiment_Ablate_Data_Dynasent_BERT120000_ICR --- healthyml/In-Context Domain Transfer Improves Out-of-Domain Robustness/run-pv6dxpzt-dynasent_stabilityaiStableBeluga7b_random_16_Kyle1668bosssentiment12000bertbaseuncased_style_logs:v0\n"
     ]
    },
    {
     "name": "stderr",
     "output_type": "stream",
     "text": [
      "\u001b[34m\u001b[1mwandb\u001b[0m:   1 of 1 files downloaded.  \n"
     ]
    },
    {
     "name": "stdout",
     "output_type": "stream",
     "text": [
      "Downloading BOSS_Sentiment_Ablate_Data_Dynasent_BERT24000_Insert --- healthyml/In-Context Domain Transfer Improves Out-of-Domain Robustness/run-ujjjnolk-dynasent_aug_insert_random_16_Kyle1668bosssentiment24000bertbaseuncased_style_logs:v0\n"
     ]
    },
    {
     "name": "stderr",
     "output_type": "stream",
     "text": [
      "\u001b[34m\u001b[1mwandb\u001b[0m:   1 of 1 files downloaded.  \n"
     ]
    },
    {
     "name": "stdout",
     "output_type": "stream",
     "text": [
      "Downloading BOSS_Sentiment_Ablate_Data_Dynasent_BERT24000_Substitute --- healthyml/In-Context Domain Transfer Improves Out-of-Domain Robustness/run-ujjjnolk-dynasent_aug_substitute_random_16_Kyle1668bosssentiment24000bertbaseuncased_style_logs:v0\n"
     ]
    },
    {
     "name": "stderr",
     "output_type": "stream",
     "text": [
      "\u001b[34m\u001b[1mwandb\u001b[0m:   1 of 1 files downloaded.  \n"
     ]
    },
    {
     "name": "stdout",
     "output_type": "stream",
     "text": [
      "Downloading BOSS_Sentiment_Ablate_Data_Dynasent_BERT24000_Translate --- healthyml/In-Context Domain Transfer Improves Out-of-Domain Robustness/run-ujjjnolk-dynasent_aug_backtranslate_random_16_Kyle1668bosssentiment24000bertbaseuncased_style_logs:v0\n"
     ]
    },
    {
     "name": "stderr",
     "output_type": "stream",
     "text": [
      "\u001b[34m\u001b[1mwandb\u001b[0m:   1 of 1 files downloaded.  \n"
     ]
    },
    {
     "name": "stdout",
     "output_type": "stream",
     "text": [
      "Downloading BOSS_Sentiment_Ablate_Data_Dynasent_BERT24000_Paraphrase --- healthyml/In-Context Domain Transfer Improves Out-of-Domain Robustness/run-ujjjnolk-dynasent_stabilityaiStableBeluga7b_random_0_Kyle1668bosssentiment24000bertbaseuncased_style_logs:v0\n"
     ]
    },
    {
     "name": "stderr",
     "output_type": "stream",
     "text": [
      "\u001b[34m\u001b[1mwandb\u001b[0m:   1 of 1 files downloaded.  \n"
     ]
    },
    {
     "name": "stdout",
     "output_type": "stream",
     "text": [
      "Downloading BOSS_Sentiment_Ablate_Data_Dynasent_BERT24000_ICR --- healthyml/In-Context Domain Transfer Improves Out-of-Domain Robustness/run-ujjjnolk-dynasent_stabilityaiStableBeluga7b_random_16_Kyle1668bosssentiment24000bertbaseuncased_style_logs:v0\n"
     ]
    },
    {
     "name": "stderr",
     "output_type": "stream",
     "text": [
      "\u001b[34m\u001b[1mwandb\u001b[0m:   1 of 1 files downloaded.  \n"
     ]
    },
    {
     "name": "stdout",
     "output_type": "stream",
     "text": [
      "Downloading BOSS_Sentiment_Dynasent_T5_Insert --- healthyml/In-Context Domain Transfer Improves Out-of-Domain Robustness/run-hhtbcw8x-dynasent_aug_insert_random_16_Kyle1668bosssentimentt5large_style_logs:v0\n"
     ]
    },
    {
     "name": "stderr",
     "output_type": "stream",
     "text": [
      " 38%|███▊      | 142/375 [00:14<00:02, 110.02it/s]\u001b[34m\u001b[1mwandb\u001b[0m: Downloading large artifact run-hhtbcw8x-dynasent_aug_insert_random_16_Kyle1668bosssentimentt5large_style_logs:v0, 95.00MB. 1 files... \n",
      "\u001b[34m\u001b[1mwandb\u001b[0m:   1 of 1 files downloaded.  \n",
      "Done. 0:0:1.4\n",
      " 40%|████      | 151/375 [00:15<00:31,  7.01it/s] "
     ]
    },
    {
     "name": "stdout",
     "output_type": "stream",
     "text": [
      "Downloading BOSS_Sentiment_Dynasent_T5_Substitute --- healthyml/In-Context Domain Transfer Improves Out-of-Domain Robustness/run-hhtbcw8x-dynasent_aug_substitute_random_16_Kyle1668bosssentimentt5large_style_logs:v0\n"
     ]
    },
    {
     "name": "stderr",
     "output_type": "stream",
     "text": [
      "\u001b[34m\u001b[1mwandb\u001b[0m: Downloading large artifact run-hhtbcw8x-dynasent_aug_substitute_random_16_Kyle1668bosssentimentt5large_style_logs:v0, 94.06MB. 1 files... \n",
      "\u001b[34m\u001b[1mwandb\u001b[0m:   1 of 1 files downloaded.  \n",
      "Done. 0:0:1.3\n",
      " 41%|████      | 152/375 [00:17<00:36,  6.04it/s]"
     ]
    },
    {
     "name": "stdout",
     "output_type": "stream",
     "text": [
      "Downloading BOSS_Sentiment_Dynasent_T5_Translate --- healthyml/In-Context Domain Transfer Improves Out-of-Domain Robustness/run-hhtbcw8x-dynasent_aug_backtranslate_random_16_Kyle1668bosssentimentt5large_style_logs:v0\n"
     ]
    },
    {
     "name": "stderr",
     "output_type": "stream",
     "text": [
      "\u001b[34m\u001b[1mwandb\u001b[0m: Downloading large artifact run-hhtbcw8x-dynasent_aug_backtranslate_random_16_Kyle1668bosssentimentt5large_style_logs:v0, 93.90MB. 1 files... \n",
      "\u001b[34m\u001b[1mwandb\u001b[0m:   1 of 1 files downloaded.  \n",
      "Done. 0:0:1.2\n"
     ]
    },
    {
     "name": "stdout",
     "output_type": "stream",
     "text": [
      "Downloading BOSS_Sentiment_Dynasent_T5_Paraphrase --- healthyml/In-Context Domain Transfer Improves Out-of-Domain Robustness/run-hhtbcw8x-dynasent_stabilityaiStableBeluga7b_random_0_Kyle1668bosssentimentt5large_style_logs:v0\n"
     ]
    },
    {
     "name": "stderr",
     "output_type": "stream",
     "text": [
      "\u001b[34m\u001b[1mwandb\u001b[0m: Downloading large artifact run-hhtbcw8x-dynasent_stabilityaiStableBeluga7b_random_0_Kyle1668bosssentimentt5large_style_logs:v0, 95.38MB. 1 files... \n",
      "\u001b[34m\u001b[1mwandb\u001b[0m:   1 of 1 files downloaded.  \n",
      "Done. 0:0:1.4\n"
     ]
    },
    {
     "name": "stdout",
     "output_type": "stream",
     "text": [
      "Downloading BOSS_Sentiment_Dynasent_T5_ICR --- healthyml/In-Context Domain Transfer Improves Out-of-Domain Robustness/run-hhtbcw8x-dynasent_stabilityaiStableBeluga7b_random_16_Kyle1668bosssentimentt5large_style_logs:v0\n"
     ]
    },
    {
     "name": "stderr",
     "output_type": "stream",
     "text": [
      "\u001b[34m\u001b[1mwandb\u001b[0m: Downloading large artifact run-hhtbcw8x-dynasent_stabilityaiStableBeluga7b_random_16_Kyle1668bosssentimentt5large_style_logs:v0, 102.10MB. 1 files... \n",
      "\u001b[34m\u001b[1mwandb\u001b[0m:   1 of 1 files downloaded.  \n",
      "Done. 0:0:1.4\n"
     ]
    },
    {
     "name": "stdout",
     "output_type": "stream",
     "text": [
      "Downloading BOSS_Sentiment_Dynasent_Falcon_Insert --- healthyml/In-Context Domain Transfer Improves Out-of-Domain Robustness/run-hhtbcw8x-dynasent_aug_insert_random_16_tiiuaefalcon7binstruct_style_logs:v0\n"
     ]
    },
    {
     "name": "stderr",
     "output_type": "stream",
     "text": [
      "\u001b[34m\u001b[1mwandb\u001b[0m: Downloading large artifact run-hhtbcw8x-dynasent_aug_insert_random_16_tiiuaefalcon7binstruct_style_logs:v0, 95.00MB. 1 files... \n",
      "\u001b[34m\u001b[1mwandb\u001b[0m:   1 of 1 files downloaded.  \n",
      "Done. 0:0:1.3\n"
     ]
    },
    {
     "name": "stdout",
     "output_type": "stream",
     "text": [
      "Downloading BOSS_Sentiment_Dynasent_Falcon_Substitute --- healthyml/In-Context Domain Transfer Improves Out-of-Domain Robustness/run-hhtbcw8x-dynasent_aug_substitute_random_16_tiiuaefalcon7binstruct_style_logs:v0\n"
     ]
    },
    {
     "name": "stderr",
     "output_type": "stream",
     "text": [
      "\u001b[34m\u001b[1mwandb\u001b[0m: Downloading large artifact run-hhtbcw8x-dynasent_aug_substitute_random_16_tiiuaefalcon7binstruct_style_logs:v0, 94.05MB. 1 files... \n",
      "\u001b[34m\u001b[1mwandb\u001b[0m:   1 of 1 files downloaded.  \n",
      "Done. 0:0:1.3\n",
      " 42%|████▏     | 157/375 [00:29<01:18,  2.79it/s]"
     ]
    },
    {
     "name": "stdout",
     "output_type": "stream",
     "text": [
      "Downloading BOSS_Sentiment_Dynasent_Falcon_Translate --- healthyml/In-Context Domain Transfer Improves Out-of-Domain Robustness/run-hhtbcw8x-dynasent_aug_backtranslate_random_16_tiiuaefalcon7binstruct_style_logs:v0\n"
     ]
    },
    {
     "name": "stderr",
     "output_type": "stream",
     "text": [
      "\u001b[34m\u001b[1mwandb\u001b[0m: Downloading large artifact run-hhtbcw8x-dynasent_aug_backtranslate_random_16_tiiuaefalcon7binstruct_style_logs:v0, 93.90MB. 1 files... \n",
      "\u001b[34m\u001b[1mwandb\u001b[0m:   1 of 1 files downloaded.  \n",
      "Done. 0:0:1.3\n",
      " 42%|████▏     | 158/375 [00:31<01:25,  2.53it/s]"
     ]
    },
    {
     "name": "stdout",
     "output_type": "stream",
     "text": [
      "Downloading BOSS_Sentiment_Dynasent_Falcon_Paraphrase --- healthyml/In-Context Domain Transfer Improves Out-of-Domain Robustness/run-hhtbcw8x-dynasent_stabilityaiStableBeluga7b_random_0_tiiuaefalcon7binstruct_style_logs:v0\n"
     ]
    },
    {
     "name": "stderr",
     "output_type": "stream",
     "text": [
      "\u001b[34m\u001b[1mwandb\u001b[0m: Downloading large artifact run-hhtbcw8x-dynasent_stabilityaiStableBeluga7b_random_0_tiiuaefalcon7binstruct_style_logs:v0, 95.38MB. 1 files... \n",
      "\u001b[34m\u001b[1mwandb\u001b[0m:   1 of 1 files downloaded.  \n",
      "Done. 0:0:2.4\n"
     ]
    },
    {
     "name": "stdout",
     "output_type": "stream",
     "text": [
      "Downloading BOSS_Sentiment_Dynasent_Falcon_ICR --- healthyml/In-Context Domain Transfer Improves Out-of-Domain Robustness/run-hhtbcw8x-dynasent_stabilityaiStableBeluga7b_random_16_tiiuaefalcon7binstruct_style_logs:v0\n"
     ]
    },
    {
     "name": "stderr",
     "output_type": "stream",
     "text": [
      "\u001b[34m\u001b[1mwandb\u001b[0m: Downloading large artifact run-hhtbcw8x-dynasent_stabilityaiStableBeluga7b_random_16_tiiuaefalcon7binstruct_style_logs:v0, 102.10MB. 1 files... \n",
      "\u001b[34m\u001b[1mwandb\u001b[0m:   1 of 1 files downloaded.  \n",
      "Done. 0:0:1.4\n",
      " 43%|████▎     | 161/375 [00:37<01:51,  1.92it/s]"
     ]
    },
    {
     "name": "stdout",
     "output_type": "stream",
     "text": [
      "Downloading BOSS_Toxicity_ID_BERT_ICR --- healthyml/In-Context Domain Transfer Improves Out-of-Domain Robustness/run-dvdcuuij-validation_stabilityaiStableBeluga7b_random_16_Kyle1668bosstoxicitybertbaseuncased_style_logs:v0\n"
     ]
    },
    {
     "name": "stderr",
     "output_type": "stream",
     "text": [
      "\u001b[34m\u001b[1mwandb\u001b[0m: Downloading large artifact run-dvdcuuij-validation_stabilityaiStableBeluga7b_random_16_Kyle1668bosstoxicitybertbaseuncased_style_logs:v0, 492.11MB. 1 files... \n",
      "\u001b[34m\u001b[1mwandb\u001b[0m:   1 of 1 files downloaded.  \n",
      "Done. 0:0:6.8\n",
      " 44%|████▍     | 165/375 [00:44<02:33,  1.37it/s]"
     ]
    },
    {
     "name": "stdout",
     "output_type": "stream",
     "text": [
      "Downloading BOSS_Toxicity_ID_Falcon_Insert --- healthyml/In-Context Domain Transfer Improves Out-of-Domain Robustness/run-bo8gbtun-validation_aug_insert_random_16_tiiuaefalcon7binstruct_style_logs:v0\n"
     ]
    },
    {
     "name": "stderr",
     "output_type": "stream",
     "text": [
      "\u001b[34m\u001b[1mwandb\u001b[0m: Downloading large artifact run-bo8gbtun-validation_aug_insert_random_16_tiiuaefalcon7binstruct_style_logs:v0, 3294.07MB. 1 files... \n",
      " 44%|████▍     | 165/375 [01:04<02:33,  1.37it/s]\u001b[34m\u001b[1mwandb\u001b[0m:   1 of 1 files downloaded.  \n",
      "Done. 0:1:0.5\n",
      " 52%|█████▏    | 196/375 [01:45<04:29,  1.50s/it]"
     ]
    },
    {
     "name": "stdout",
     "output_type": "stream",
     "text": [
      "Downloading BOSS_Toxicity_Toxigen_BERT_Insert --- healthyml/In-Context Domain Transfer Improves Out-of-Domain Robustness/run-56jek2cf-toxigen_aug_insert_random_16_Kyle1668bosstoxicitybertbaseuncased_style_logs:v0\n"
     ]
    },
    {
     "name": "stderr",
     "output_type": "stream",
     "text": [
      "\u001b[34m\u001b[1mwandb\u001b[0m:   1 of 1 files downloaded.  \n",
      " 54%|█████▎    | 201/375 [01:46<03:52,  1.33s/it]"
     ]
    },
    {
     "name": "stdout",
     "output_type": "stream",
     "text": [
      "Downloading BOSS_Toxicity_Toxigen_BERT_Substitute --- healthyml/In-Context Domain Transfer Improves Out-of-Domain Robustness/run-56jek2cf-toxigen_aug_substitute_random_16_Kyle1668bosstoxicitybertbaseuncased_style_logs:v0\n"
     ]
    },
    {
     "name": "stderr",
     "output_type": "stream",
     "text": [
      "\u001b[34m\u001b[1mwandb\u001b[0m:   1 of 1 files downloaded.  \n",
      " 54%|█████▍    | 202/375 [01:47<03:47,  1.31s/it]"
     ]
    },
    {
     "name": "stdout",
     "output_type": "stream",
     "text": [
      "Downloading BOSS_Toxicity_Toxigen_BERT_Translate --- healthyml/In-Context Domain Transfer Improves Out-of-Domain Robustness/run-56jek2cf-toxigen_aug_backtranslate_random_16_Kyle1668bosstoxicitybertbaseuncased_style_logs:v0\n"
     ]
    },
    {
     "name": "stderr",
     "output_type": "stream",
     "text": [
      "\u001b[34m\u001b[1mwandb\u001b[0m:   1 of 1 files downloaded.  \n",
      " 54%|█████▍    | 203/375 [01:48<03:42,  1.29s/it]"
     ]
    },
    {
     "name": "stdout",
     "output_type": "stream",
     "text": [
      "Downloading BOSS_Toxicity_Toxigen_BERT_Paraphrase --- healthyml/In-Context Domain Transfer Improves Out-of-Domain Robustness/run-56jek2cf-toxigen_stabilityaiStableBeluga7b_random_0_Kyle1668bosstoxicitybertbaseuncased_style_logs:v0\n"
     ]
    },
    {
     "name": "stderr",
     "output_type": "stream",
     "text": [
      "\u001b[34m\u001b[1mwandb\u001b[0m:   1 of 1 files downloaded.  \n",
      " 54%|█████▍    | 204/375 [01:49<03:35,  1.26s/it]"
     ]
    },
    {
     "name": "stdout",
     "output_type": "stream",
     "text": [
      "Downloading BOSS_Toxicity_Toxigen_BERT_ICR --- healthyml/In-Context Domain Transfer Improves Out-of-Domain Robustness/run-56jek2cf-toxigen_stabilityaiStableBeluga7b_random_16_Kyle1668bosstoxicitybertbaseuncased_style_logs:v0\n"
     ]
    },
    {
     "name": "stderr",
     "output_type": "stream",
     "text": [
      "\u001b[34m\u001b[1mwandb\u001b[0m:   1 of 1 files downloaded.  \n",
      " 55%|█████▍    | 205/375 [01:49<03:27,  1.22s/it]"
     ]
    },
    {
     "name": "stdout",
     "output_type": "stream",
     "text": [
      "Downloading BOSS_Toxicity_Ablate_Data_Toxigen_BERT3000_Insert --- healthyml/In-Context Domain Transfer Improves Out-of-Domain Robustness/run-2ecsgmy9-toxigen_aug_insert_random_16_Kyle1668bosstoxicity6000bertbaseuncased_style_logs:v0\n"
     ]
    },
    {
     "name": "stderr",
     "output_type": "stream",
     "text": [
      "\u001b[34m\u001b[1mwandb\u001b[0m:   1 of 1 files downloaded.  \n",
      " 55%|█████▍    | 206/375 [01:50<03:18,  1.18s/it]"
     ]
    },
    {
     "name": "stdout",
     "output_type": "stream",
     "text": [
      "Downloading BOSS_Toxicity_Ablate_Data_Toxigen_BERT3000_Substitute --- healthyml/In-Context Domain Transfer Improves Out-of-Domain Robustness/run-2ecsgmy9-toxigen_aug_substitute_random_16_Kyle1668bosstoxicity6000bertbaseuncased_style_logs:v0\n"
     ]
    },
    {
     "name": "stderr",
     "output_type": "stream",
     "text": [
      "\u001b[34m\u001b[1mwandb\u001b[0m:   1 of 1 files downloaded.  \n",
      " 55%|█████▌    | 207/375 [01:51<03:13,  1.15s/it]"
     ]
    },
    {
     "name": "stdout",
     "output_type": "stream",
     "text": [
      "Downloading BOSS_Toxicity_Ablate_Data_Toxigen_BERT3000_Translate --- healthyml/In-Context Domain Transfer Improves Out-of-Domain Robustness/run-2ecsgmy9-toxigen_aug_backtranslate_random_16_Kyle1668bosstoxicity6000bertbaseuncased_style_logs:v0\n"
     ]
    },
    {
     "name": "stderr",
     "output_type": "stream",
     "text": [
      "\u001b[34m\u001b[1mwandb\u001b[0m:   1 of 1 files downloaded.  \n",
      " 55%|█████▌    | 208/375 [01:52<03:03,  1.10s/it]"
     ]
    },
    {
     "name": "stdout",
     "output_type": "stream",
     "text": [
      "Downloading BOSS_Toxicity_Ablate_Data_Toxigen_BERT3000_Paraphrase --- healthyml/In-Context Domain Transfer Improves Out-of-Domain Robustness/run-2ecsgmy9-toxigen_stabilityaiStableBeluga7b_random_0_Kyle1668bosstoxicity6000bertbaseuncased_style_logs:v0\n"
     ]
    },
    {
     "name": "stderr",
     "output_type": "stream",
     "text": [
      "\u001b[34m\u001b[1mwandb\u001b[0m:   1 of 1 files downloaded.  \n",
      " 56%|█████▌    | 209/375 [01:53<02:53,  1.04s/it]"
     ]
    },
    {
     "name": "stdout",
     "output_type": "stream",
     "text": [
      "Downloading BOSS_Toxicity_Ablate_Data_Toxigen_BERT3000_ICR --- healthyml/In-Context Domain Transfer Improves Out-of-Domain Robustness/run-2ecsgmy9-toxigen_stabilityaiStableBeluga7b_random_16_Kyle1668bosstoxicity6000bertbaseuncased_style_logs:v0\n"
     ]
    },
    {
     "name": "stderr",
     "output_type": "stream",
     "text": [
      "\u001b[34m\u001b[1mwandb\u001b[0m:   1 of 1 files downloaded.  \n",
      " 56%|█████▌    | 210/375 [01:54<02:42,  1.02it/s]"
     ]
    },
    {
     "name": "stdout",
     "output_type": "stream",
     "text": [
      "Downloading BOSS_Toxicity_Ablate_Data_Toxigen_BERT6000_Insert --- healthyml/In-Context Domain Transfer Improves Out-of-Domain Robustness/run-ms2943fk-toxigen_aug_insert_random_16_Kyle1668bosstoxicity3000bertbaseuncased_style_logs:v0\n"
     ]
    },
    {
     "name": "stderr",
     "output_type": "stream",
     "text": [
      "\u001b[34m\u001b[1mwandb\u001b[0m:   1 of 1 files downloaded.  \n",
      " 56%|█████▋    | 211/375 [01:54<02:32,  1.08it/s]"
     ]
    },
    {
     "name": "stdout",
     "output_type": "stream",
     "text": [
      "Downloading BOSS_Toxicity_Ablate_Data_Toxigen_BERT6000_Substitute --- healthyml/In-Context Domain Transfer Improves Out-of-Domain Robustness/run-ms2943fk-toxigen_aug_substitute_random_16_Kyle1668bosstoxicity3000bertbaseuncased_style_logs:v0\n"
     ]
    },
    {
     "name": "stderr",
     "output_type": "stream",
     "text": [
      "\u001b[34m\u001b[1mwandb\u001b[0m:   1 of 1 files downloaded.  \n",
      " 57%|█████▋    | 212/375 [01:56<02:57,  1.09s/it]"
     ]
    },
    {
     "name": "stdout",
     "output_type": "stream",
     "text": [
      "Downloading BOSS_Toxicity_Ablate_Data_Toxigen_BERT6000_Translate --- healthyml/In-Context Domain Transfer Improves Out-of-Domain Robustness/run-ms2943fk-toxigen_aug_backtranslate_random_16_Kyle1668bosstoxicity3000bertbaseuncased_style_logs:v0\n"
     ]
    },
    {
     "name": "stderr",
     "output_type": "stream",
     "text": [
      "\u001b[34m\u001b[1mwandb\u001b[0m:   1 of 1 files downloaded.  \n",
      " 57%|█████▋    | 213/375 [01:57<02:52,  1.07s/it]"
     ]
    },
    {
     "name": "stdout",
     "output_type": "stream",
     "text": [
      "Downloading BOSS_Toxicity_Ablate_Data_Toxigen_BERT6000_Paraphrase --- healthyml/In-Context Domain Transfer Improves Out-of-Domain Robustness/run-ms2943fk-toxigen_stabilityaiStableBeluga7b_random_0_Kyle1668bosstoxicity3000bertbaseuncased_style_logs:v0\n"
     ]
    },
    {
     "name": "stderr",
     "output_type": "stream",
     "text": [
      "\u001b[34m\u001b[1mwandb\u001b[0m:   1 of 1 files downloaded.  \n",
      " 57%|█████▋    | 214/375 [01:58<02:36,  1.03it/s]"
     ]
    },
    {
     "name": "stdout",
     "output_type": "stream",
     "text": [
      "Downloading BOSS_Toxicity_Ablate_Data_Toxigen_BERT6000_ICR --- healthyml/In-Context Domain Transfer Improves Out-of-Domain Robustness/run-ms2943fk-toxigen_stabilityaiStableBeluga7b_random_16_Kyle1668bosstoxicity3000bertbaseuncased_style_logs:v0\n"
     ]
    },
    {
     "name": "stderr",
     "output_type": "stream",
     "text": [
      "\u001b[34m\u001b[1mwandb\u001b[0m:   1 of 1 files downloaded.  \n",
      " 57%|█████▋    | 215/375 [01:58<02:27,  1.08it/s]"
     ]
    },
    {
     "name": "stdout",
     "output_type": "stream",
     "text": [
      "Downloading BOSS_Toxicity_Ablate_Data_Toxigen_BERT12000_Insert --- healthyml/In-Context Domain Transfer Improves Out-of-Domain Robustness/run-7hgtyr98-toxigen_aug_insert_random_16_Kyle1668bosstoxicity12000bertbaseuncased_style_logs:v0\n"
     ]
    },
    {
     "name": "stderr",
     "output_type": "stream",
     "text": [
      "\u001b[34m\u001b[1mwandb\u001b[0m:   1 of 1 files downloaded.  \n",
      " 58%|█████▊    | 216/375 [01:59<02:33,  1.04it/s]"
     ]
    },
    {
     "name": "stdout",
     "output_type": "stream",
     "text": [
      "Downloading BOSS_Toxicity_Ablate_Data_Toxigen_BERT12000_Substitute --- healthyml/In-Context Domain Transfer Improves Out-of-Domain Robustness/run-7hgtyr98-toxigen_aug_substitute_random_16_Kyle1668bosstoxicity12000bertbaseuncased_style_logs:v0\n"
     ]
    },
    {
     "name": "stderr",
     "output_type": "stream",
     "text": [
      "\u001b[34m\u001b[1mwandb\u001b[0m:   1 of 1 files downloaded.  \n",
      " 58%|█████▊    | 217/375 [02:00<02:36,  1.01it/s]"
     ]
    },
    {
     "name": "stdout",
     "output_type": "stream",
     "text": [
      "Downloading BOSS_Toxicity_Ablate_Data_Toxigen_BERT12000_Translate --- healthyml/In-Context Domain Transfer Improves Out-of-Domain Robustness/run-7hgtyr98-toxigen_aug_backtranslate_random_16_Kyle1668bosstoxicity12000bertbaseuncased_style_logs:v0\n"
     ]
    },
    {
     "name": "stderr",
     "output_type": "stream",
     "text": [
      "\u001b[34m\u001b[1mwandb\u001b[0m:   1 of 1 files downloaded.  \n",
      " 58%|█████▊    | 218/375 [02:01<02:29,  1.05it/s]"
     ]
    },
    {
     "name": "stdout",
     "output_type": "stream",
     "text": [
      "Downloading BOSS_Toxicity_Ablate_Data_Toxigen_BERT12000_Paraphrase --- healthyml/In-Context Domain Transfer Improves Out-of-Domain Robustness/run-7hgtyr98-toxigen_stabilityaiStableBeluga7b_random_0_Kyle1668bosstoxicity12000bertbaseuncased_style_logs:v0\n"
     ]
    },
    {
     "name": "stderr",
     "output_type": "stream",
     "text": [
      "\u001b[34m\u001b[1mwandb\u001b[0m:   1 of 1 files downloaded.  \n",
      " 58%|█████▊    | 219/375 [02:02<02:32,  1.02it/s]"
     ]
    },
    {
     "name": "stdout",
     "output_type": "stream",
     "text": [
      "Downloading BOSS_Toxicity_Ablate_Data_Toxigen_BERT12000_ICR --- healthyml/In-Context Domain Transfer Improves Out-of-Domain Robustness/run-7hgtyr98-toxigen_stabilityaiStableBeluga7b_random_16_Kyle1668bosstoxicity12000bertbaseuncased_style_logs:v0\n"
     ]
    },
    {
     "name": "stderr",
     "output_type": "stream",
     "text": [
      "\u001b[34m\u001b[1mwandb\u001b[0m:   1 of 1 files downloaded.  \n",
      " 59%|█████▊    | 220/375 [02:04<02:50,  1.10s/it]"
     ]
    },
    {
     "name": "stdout",
     "output_type": "stream",
     "text": [
      "Downloading BOSS_Toxicity_Ablate_Data_Toxigen_BERT24000_Insert --- healthyml/In-Context Domain Transfer Improves Out-of-Domain Robustness/run-wl2a38kf-toxigen_aug_insert_random_16_Kyle1668bosstoxicity24000bertbaseuncased_style_logs:v0\n"
     ]
    },
    {
     "name": "stderr",
     "output_type": "stream",
     "text": [
      "\u001b[34m\u001b[1mwandb\u001b[0m:   1 of 1 files downloaded.  \n",
      " 59%|█████▉    | 221/375 [02:05<02:37,  1.02s/it]"
     ]
    },
    {
     "name": "stdout",
     "output_type": "stream",
     "text": [
      "Downloading BOSS_Toxicity_Ablate_Data_Toxigen_BERT24000_Substitute --- healthyml/In-Context Domain Transfer Improves Out-of-Domain Robustness/run-wl2a38kf-toxigen_aug_substitute_random_16_Kyle1668bosstoxicity24000bertbaseuncased_style_logs:v0\n"
     ]
    },
    {
     "name": "stderr",
     "output_type": "stream",
     "text": [
      "\u001b[34m\u001b[1mwandb\u001b[0m:   1 of 1 files downloaded.  \n",
      " 59%|█████▉    | 222/375 [02:05<02:26,  1.05it/s]"
     ]
    },
    {
     "name": "stdout",
     "output_type": "stream",
     "text": [
      "Downloading BOSS_Toxicity_Ablate_Data_Toxigen_BERT24000_Translate --- healthyml/In-Context Domain Transfer Improves Out-of-Domain Robustness/run-wl2a38kf-toxigen_aug_backtranslate_random_16_Kyle1668bosstoxicity24000bertbaseuncased_style_logs:v0\n"
     ]
    },
    {
     "name": "stderr",
     "output_type": "stream",
     "text": [
      "\u001b[34m\u001b[1mwandb\u001b[0m:   1 of 1 files downloaded.  \n",
      " 59%|█████▉    | 223/375 [02:06<02:13,  1.14it/s]"
     ]
    },
    {
     "name": "stdout",
     "output_type": "stream",
     "text": [
      "Downloading BOSS_Toxicity_Ablate_Data_Toxigen_BERT24000_Paraphrase --- healthyml/In-Context Domain Transfer Improves Out-of-Domain Robustness/run-wl2a38kf-toxigen_stabilityaiStableBeluga7b_random_0_Kyle1668bosstoxicity24000bertbaseuncased_style_logs:v0\n"
     ]
    },
    {
     "name": "stderr",
     "output_type": "stream",
     "text": [
      "\u001b[34m\u001b[1mwandb\u001b[0m:   1 of 1 files downloaded.  \n",
      " 60%|█████▉    | 224/375 [02:07<02:22,  1.06it/s]"
     ]
    },
    {
     "name": "stdout",
     "output_type": "stream",
     "text": [
      "Downloading BOSS_Toxicity_Ablate_Data_Toxigen_BERT24000_ICR --- healthyml/In-Context Domain Transfer Improves Out-of-Domain Robustness/run-wl2a38kf-toxigen_stabilityaiStableBeluga7b_random_16_Kyle1668bosstoxicity24000bertbaseuncased_style_logs:v0\n"
     ]
    },
    {
     "name": "stderr",
     "output_type": "stream",
     "text": [
      "\u001b[34m\u001b[1mwandb\u001b[0m:   1 of 1 files downloaded.  \n",
      " 60%|██████    | 225/375 [02:08<02:15,  1.11it/s]"
     ]
    },
    {
     "name": "stdout",
     "output_type": "stream",
     "text": [
      "Downloading BOSS_Toxicity_Ablate_Data_Toxigen_BERT48000_Insert --- healthyml/In-Context Domain Transfer Improves Out-of-Domain Robustness/run-iaorx9o7-toxigen_aug_insert_random_16_Kyle1668bosstoxicity48000bertbaseuncased_style_logs:v0\n"
     ]
    },
    {
     "name": "stderr",
     "output_type": "stream",
     "text": [
      "\u001b[34m\u001b[1mwandb\u001b[0m:   1 of 1 files downloaded.  \n",
      " 60%|██████    | 226/375 [02:09<02:09,  1.15it/s]"
     ]
    },
    {
     "name": "stdout",
     "output_type": "stream",
     "text": [
      "Downloading BOSS_Toxicity_Ablate_Data_Toxigen_BERT48000_Substitute --- healthyml/In-Context Domain Transfer Improves Out-of-Domain Robustness/run-iaorx9o7-toxigen_aug_substitute_random_16_Kyle1668bosstoxicity48000bertbaseuncased_style_logs:v0\n"
     ]
    },
    {
     "name": "stderr",
     "output_type": "stream",
     "text": [
      "\u001b[34m\u001b[1mwandb\u001b[0m:   1 of 1 files downloaded.  \n",
      " 61%|██████    | 227/375 [02:10<02:05,  1.18it/s]"
     ]
    },
    {
     "name": "stdout",
     "output_type": "stream",
     "text": [
      "Downloading BOSS_Toxicity_Ablate_Data_Toxigen_BERT48000_Translate --- healthyml/In-Context Domain Transfer Improves Out-of-Domain Robustness/run-iaorx9o7-toxigen_aug_backtranslate_random_16_Kyle1668bosstoxicity48000bertbaseuncased_style_logs:v0\n"
     ]
    },
    {
     "name": "stderr",
     "output_type": "stream",
     "text": [
      "\u001b[34m\u001b[1mwandb\u001b[0m:   1 of 1 files downloaded.  \n",
      " 61%|██████    | 228/375 [02:10<02:00,  1.22it/s]"
     ]
    },
    {
     "name": "stdout",
     "output_type": "stream",
     "text": [
      "Downloading BOSS_Toxicity_Ablate_Data_Toxigen_BERT48000_Paraphrase --- healthyml/In-Context Domain Transfer Improves Out-of-Domain Robustness/run-iaorx9o7-toxigen_stabilityaiStableBeluga7b_random_0_Kyle1668bosstoxicity48000bertbaseuncased_style_logs:v0\n"
     ]
    },
    {
     "name": "stderr",
     "output_type": "stream",
     "text": [
      "\u001b[34m\u001b[1mwandb\u001b[0m:   1 of 1 files downloaded.  \n",
      " 61%|██████    | 229/375 [02:11<02:00,  1.21it/s]"
     ]
    },
    {
     "name": "stdout",
     "output_type": "stream",
     "text": [
      "Downloading BOSS_Toxicity_Ablate_Data_Toxigen_BERT48000_ICR --- healthyml/In-Context Domain Transfer Improves Out-of-Domain Robustness/run-iaorx9o7-toxigen_stabilityaiStableBeluga7b_random_16_Kyle1668bosstoxicity48000bertbaseuncased_style_logs:v0\n"
     ]
    },
    {
     "name": "stderr",
     "output_type": "stream",
     "text": [
      "\u001b[34m\u001b[1mwandb\u001b[0m:   1 of 1 files downloaded.  \n",
      " 61%|██████▏   | 230/375 [02:12<01:57,  1.23it/s]"
     ]
    },
    {
     "name": "stdout",
     "output_type": "stream",
     "text": [
      "Downloading BOSS_Toxicity_Toxigen_T5_Insert --- healthyml/In-Context Domain Transfer Improves Out-of-Domain Robustness/run-lixlm6qh-toxigen_aug_insert_random_16_Kyle1668bosstoxicityt5large_style_logs:v0\n"
     ]
    },
    {
     "name": "stderr",
     "output_type": "stream",
     "text": [
      "\u001b[34m\u001b[1mwandb\u001b[0m:   1 of 1 files downloaded.  \n",
      " 62%|██████▏   | 231/375 [02:13<02:21,  1.02it/s]"
     ]
    },
    {
     "name": "stdout",
     "output_type": "stream",
     "text": [
      "Downloading BOSS_Toxicity_Toxigen_T5_Substitute --- healthyml/In-Context Domain Transfer Improves Out-of-Domain Robustness/run-lixlm6qh-toxigen_aug_substitute_random_16_Kyle1668bosstoxicityt5large_style_logs:v0\n"
     ]
    },
    {
     "name": "stderr",
     "output_type": "stream",
     "text": [
      "\u001b[34m\u001b[1mwandb\u001b[0m:   1 of 1 files downloaded.  \n",
      " 62%|██████▏   | 232/375 [02:15<02:29,  1.04s/it]"
     ]
    },
    {
     "name": "stdout",
     "output_type": "stream",
     "text": [
      "Downloading BOSS_Toxicity_Toxigen_T5_Translate --- healthyml/In-Context Domain Transfer Improves Out-of-Domain Robustness/run-lixlm6qh-toxigen_aug_backtranslate_random_16_Kyle1668bosstoxicityt5large_style_logs:v0\n"
     ]
    },
    {
     "name": "stderr",
     "output_type": "stream",
     "text": [
      "\u001b[34m\u001b[1mwandb\u001b[0m:   1 of 1 files downloaded.  \n",
      " 62%|██████▏   | 233/375 [02:16<02:51,  1.20s/it]"
     ]
    },
    {
     "name": "stdout",
     "output_type": "stream",
     "text": [
      "Downloading BOSS_Toxicity_Toxigen_T5_Paraphrase --- healthyml/In-Context Domain Transfer Improves Out-of-Domain Robustness/run-lixlm6qh-toxigen_stabilityaiStableBeluga7b_random_0_Kyle1668bosstoxicityt5large_style_logs:v0\n"
     ]
    },
    {
     "name": "stderr",
     "output_type": "stream",
     "text": [
      "\u001b[34m\u001b[1mwandb\u001b[0m:   1 of 1 files downloaded.  \n",
      " 62%|██████▏   | 234/375 [02:17<02:38,  1.12s/it]"
     ]
    },
    {
     "name": "stdout",
     "output_type": "stream",
     "text": [
      "Downloading BOSS_Toxicity_Toxigen_T5_ICR --- healthyml/In-Context Domain Transfer Improves Out-of-Domain Robustness/run-lixlm6qh-toxigen_stabilityaiStableBeluga7b_random_16_Kyle1668bosstoxicityt5large_style_logs:v0\n"
     ]
    },
    {
     "name": "stderr",
     "output_type": "stream",
     "text": [
      "\u001b[34m\u001b[1mwandb\u001b[0m:   1 of 1 files downloaded.  \n",
      " 63%|██████▎   | 235/375 [02:18<02:40,  1.15s/it]"
     ]
    },
    {
     "name": "stdout",
     "output_type": "stream",
     "text": [
      "Downloading BOSS_Toxicity_Toxigen_Falcon_Insert --- healthyml/In-Context Domain Transfer Improves Out-of-Domain Robustness/run-lixlm6qh-toxigen_aug_insert_random_16_tiiuaefalcon7binstruct_style_logs:v0\n"
     ]
    },
    {
     "name": "stderr",
     "output_type": "stream",
     "text": [
      "\u001b[34m\u001b[1mwandb\u001b[0m:   1 of 1 files downloaded.  \n",
      " 63%|██████▎   | 236/375 [02:19<02:41,  1.16s/it]"
     ]
    },
    {
     "name": "stdout",
     "output_type": "stream",
     "text": [
      "Downloading BOSS_Toxicity_Toxigen_Falcon_Substitute --- healthyml/In-Context Domain Transfer Improves Out-of-Domain Robustness/run-lixlm6qh-toxigen_aug_substitute_random_16_tiiuaefalcon7binstruct_style_logs:v0\n"
     ]
    },
    {
     "name": "stderr",
     "output_type": "stream",
     "text": [
      "\u001b[34m\u001b[1mwandb\u001b[0m:   1 of 1 files downloaded.  \n",
      " 63%|██████▎   | 237/375 [02:21<02:39,  1.16s/it]"
     ]
    },
    {
     "name": "stdout",
     "output_type": "stream",
     "text": [
      "Downloading BOSS_Toxicity_Toxigen_Falcon_Translate --- healthyml/In-Context Domain Transfer Improves Out-of-Domain Robustness/run-lixlm6qh-toxigen_aug_backtranslate_random_16_tiiuaefalcon7binstruct_style_logs:v0\n"
     ]
    },
    {
     "name": "stderr",
     "output_type": "stream",
     "text": [
      "\u001b[34m\u001b[1mwandb\u001b[0m:   1 of 1 files downloaded.  \n",
      " 63%|██████▎   | 238/375 [02:22<02:37,  1.15s/it]"
     ]
    },
    {
     "name": "stdout",
     "output_type": "stream",
     "text": [
      "Downloading BOSS_Toxicity_Toxigen_Falcon_Paraphrase --- healthyml/In-Context Domain Transfer Improves Out-of-Domain Robustness/run-lixlm6qh-toxigen_stabilityaiStableBeluga7b_random_0_tiiuaefalcon7binstruct_style_logs:v0\n"
     ]
    },
    {
     "name": "stderr",
     "output_type": "stream",
     "text": [
      "\u001b[34m\u001b[1mwandb\u001b[0m:   1 of 1 files downloaded.  \n",
      " 64%|██████▎   | 239/375 [02:23<02:22,  1.05s/it]"
     ]
    },
    {
     "name": "stdout",
     "output_type": "stream",
     "text": [
      "Downloading BOSS_Toxicity_Toxigen_Falcon_ICR --- healthyml/In-Context Domain Transfer Improves Out-of-Domain Robustness/run-lixlm6qh-toxigen_stabilityaiStableBeluga7b_random_16_tiiuaefalcon7binstruct_style_logs:v0\n"
     ]
    },
    {
     "name": "stderr",
     "output_type": "stream",
     "text": [
      "\u001b[34m\u001b[1mwandb\u001b[0m:   1 of 1 files downloaded.  \n",
      " 64%|██████▍   | 240/375 [02:28<05:06,  2.27s/it]"
     ]
    },
    {
     "name": "stdout",
     "output_type": "stream",
     "text": [
      "Downloading BOSS_Toxicity_ImplicitHate_BERT_Insert --- healthyml/In-Context Domain Transfer Improves Out-of-Domain Robustness/run-56jek2cf-implicit_hate_aug_insert_random_16_Kyle1668bosstoxicitybertbaseuncased_style_logs:v0\n"
     ]
    },
    {
     "name": "stderr",
     "output_type": "stream",
     "text": [
      "\u001b[34m\u001b[1mwandb\u001b[0m:   1 of 1 files downloaded.  \n",
      " 64%|██████▍   | 241/375 [02:29<04:26,  1.99s/it]"
     ]
    },
    {
     "name": "stdout",
     "output_type": "stream",
     "text": [
      "Downloading BOSS_Toxicity_ImplicitHate_BERT_Substitute --- healthyml/In-Context Domain Transfer Improves Out-of-Domain Robustness/run-56jek2cf-implicit_hate_aug_substitute_random_16_Kyle1668bosstoxicitybertbaseuncased_style_logs:v0\n"
     ]
    },
    {
     "name": "stderr",
     "output_type": "stream",
     "text": [
      "\u001b[34m\u001b[1mwandb\u001b[0m:   1 of 1 files downloaded.  \n",
      " 65%|██████▍   | 242/375 [02:30<03:39,  1.65s/it]"
     ]
    },
    {
     "name": "stdout",
     "output_type": "stream",
     "text": [
      "Downloading BOSS_Toxicity_ImplicitHate_BERT_Translate --- healthyml/In-Context Domain Transfer Improves Out-of-Domain Robustness/run-56jek2cf-implicit_hate_aug_backtranslate_random_16_Kyle1668bosstoxicitybertbaseuncased_style_logs:v0\n"
     ]
    },
    {
     "name": "stderr",
     "output_type": "stream",
     "text": [
      "\u001b[34m\u001b[1mwandb\u001b[0m:   1 of 1 files downloaded.  \n",
      " 65%|██████▍   | 243/375 [02:31<03:11,  1.45s/it]"
     ]
    },
    {
     "name": "stdout",
     "output_type": "stream",
     "text": [
      "Downloading BOSS_Toxicity_ImplicitHate_BERT_Paraphrase --- healthyml/In-Context Domain Transfer Improves Out-of-Domain Robustness/run-56jek2cf-implicit_hate_stabilityaiStableBeluga7b_random_0_Kyle1668bosstoxicitybertbaseuncased_style_logs:v0\n"
     ]
    },
    {
     "name": "stderr",
     "output_type": "stream",
     "text": [
      "\u001b[34m\u001b[1mwandb\u001b[0m:   1 of 1 files downloaded.  \n",
      " 65%|██████▌   | 244/375 [02:32<02:42,  1.24s/it]"
     ]
    },
    {
     "name": "stdout",
     "output_type": "stream",
     "text": [
      "Downloading BOSS_Toxicity_ImplicitHate_BERT_ICR --- healthyml/In-Context Domain Transfer Improves Out-of-Domain Robustness/run-56jek2cf-implicit_hate_stabilityaiStableBeluga7b_random_16_Kyle1668bosstoxicitybertbaseuncased_style_logs:v0\n"
     ]
    },
    {
     "name": "stderr",
     "output_type": "stream",
     "text": [
      "\u001b[34m\u001b[1mwandb\u001b[0m: Downloading large artifact run-56jek2cf-implicit_hate_stabilityaiStableBeluga7b_random_16_Kyle1668bosstoxicitybertbaseuncased_style_logs:v0, 87.44MB. 1 files... \n",
      "\u001b[34m\u001b[1mwandb\u001b[0m:   1 of 1 files downloaded.  \n",
      "Done. 0:0:0.2\n",
      " 65%|██████▌   | 245/375 [02:32<02:27,  1.13s/it]"
     ]
    },
    {
     "name": "stdout",
     "output_type": "stream",
     "text": [
      "Downloading BOSS_Toxicity_Ablate_Data_ImplicitHate_BERT3000_Insert --- healthyml/In-Context Domain Transfer Improves Out-of-Domain Robustness/run-ms2943fk-implicit_hate_aug_insert_random_16_Kyle1668bosstoxicity3000bertbaseuncased_style_logs:v0\n"
     ]
    },
    {
     "name": "stderr",
     "output_type": "stream",
     "text": [
      "\u001b[34m\u001b[1mwandb\u001b[0m:   1 of 1 files downloaded.  \n",
      " 66%|██████▌   | 246/375 [02:33<02:14,  1.04s/it]"
     ]
    },
    {
     "name": "stdout",
     "output_type": "stream",
     "text": [
      "Downloading BOSS_Toxicity_Ablate_Data_ImplicitHate_BERT3000_Substitute --- healthyml/In-Context Domain Transfer Improves Out-of-Domain Robustness/run-ms2943fk-implicit_hate_aug_substitute_random_16_Kyle1668bosstoxicity3000bertbaseuncased_style_logs:v0\n"
     ]
    },
    {
     "name": "stderr",
     "output_type": "stream",
     "text": [
      "\u001b[34m\u001b[1mwandb\u001b[0m:   1 of 1 files downloaded.  \n",
      " 66%|██████▌   | 247/375 [02:34<02:17,  1.07s/it]"
     ]
    },
    {
     "name": "stdout",
     "output_type": "stream",
     "text": [
      "Downloading BOSS_Toxicity_Ablate_Data_ImplicitHate_BERT3000_Translate --- healthyml/In-Context Domain Transfer Improves Out-of-Domain Robustness/run-ms2943fk-implicit_hate_aug_backtranslate_random_16_Kyle1668bosstoxicity3000bertbaseuncased_style_logs:v0\n"
     ]
    },
    {
     "name": "stderr",
     "output_type": "stream",
     "text": [
      "\u001b[34m\u001b[1mwandb\u001b[0m:   1 of 1 files downloaded.  \n",
      " 66%|██████▌   | 248/375 [02:35<02:05,  1.01it/s]"
     ]
    },
    {
     "name": "stdout",
     "output_type": "stream",
     "text": [
      "Downloading BOSS_Toxicity_Ablate_Data_ImplicitHate_BERT3000_Paraphrase --- healthyml/In-Context Domain Transfer Improves Out-of-Domain Robustness/run-ms2943fk-implicit_hate_stabilityaiStableBeluga7b_random_0_Kyle1668bosstoxicity3000bertbaseuncased_style_logs:v0\n"
     ]
    },
    {
     "name": "stderr",
     "output_type": "stream",
     "text": [
      "\u001b[34m\u001b[1mwandb\u001b[0m:   1 of 1 files downloaded.  \n",
      " 66%|██████▋   | 249/375 [02:36<01:56,  1.08it/s]"
     ]
    },
    {
     "name": "stdout",
     "output_type": "stream",
     "text": [
      "Downloading BOSS_Toxicity_Ablate_Data_ImplicitHate_BERT3000_ICR --- healthyml/In-Context Domain Transfer Improves Out-of-Domain Robustness/run-ms2943fk-implicit_hate_stabilityaiStableBeluga7b_random_16_Kyle1668bosstoxicity3000bertbaseuncased_style_logs:v0\n"
     ]
    },
    {
     "name": "stderr",
     "output_type": "stream",
     "text": [
      "\u001b[34m\u001b[1mwandb\u001b[0m: Downloading large artifact run-ms2943fk-implicit_hate_stabilityaiStableBeluga7b_random_16_Kyle1668bosstoxicity3000bertbaseuncased_style_logs:v0, 82.01MB. 1 files... \n",
      "\u001b[34m\u001b[1mwandb\u001b[0m:   1 of 1 files downloaded.  \n",
      "Done. 0:0:0.2\n",
      " 67%|██████▋   | 250/375 [02:37<02:00,  1.04it/s]"
     ]
    },
    {
     "name": "stdout",
     "output_type": "stream",
     "text": [
      "Downloading BOSS_Toxicity_Ablate_Data_ImplicitHate_BERT6000_Insert --- healthyml/In-Context Domain Transfer Improves Out-of-Domain Robustness/run-2ecsgmy9-implicit_hate_aug_insert_random_16_Kyle1668bosstoxicity6000bertbaseuncased_style_logs:v0\n"
     ]
    },
    {
     "name": "stderr",
     "output_type": "stream",
     "text": [
      "\u001b[34m\u001b[1mwandb\u001b[0m:   1 of 1 files downloaded.  \n",
      " 67%|██████▋   | 251/375 [02:38<01:51,  1.12it/s]"
     ]
    },
    {
     "name": "stdout",
     "output_type": "stream",
     "text": [
      "Downloading BOSS_Toxicity_Ablate_Data_ImplicitHate_BERT6000_Substitute --- healthyml/In-Context Domain Transfer Improves Out-of-Domain Robustness/run-2ecsgmy9-implicit_hate_aug_substitute_random_16_Kyle1668bosstoxicity6000bertbaseuncased_style_logs:v0\n"
     ]
    },
    {
     "name": "stderr",
     "output_type": "stream",
     "text": [
      "\u001b[34m\u001b[1mwandb\u001b[0m:   1 of 1 files downloaded.  \n",
      " 67%|██████▋   | 252/375 [02:39<01:49,  1.13it/s]"
     ]
    },
    {
     "name": "stdout",
     "output_type": "stream",
     "text": [
      "Downloading BOSS_Toxicity_Ablate_Data_ImplicitHate_BERT6000_Translate --- healthyml/In-Context Domain Transfer Improves Out-of-Domain Robustness/run-2ecsgmy9-implicit_hate_aug_backtranslate_random_16_Kyle1668bosstoxicity6000bertbaseuncased_style_logs:v0\n"
     ]
    },
    {
     "name": "stderr",
     "output_type": "stream",
     "text": [
      "\u001b[34m\u001b[1mwandb\u001b[0m:   1 of 1 files downloaded.  \n",
      " 67%|██████▋   | 253/375 [02:39<01:44,  1.17it/s]"
     ]
    },
    {
     "name": "stdout",
     "output_type": "stream",
     "text": [
      "Downloading BOSS_Toxicity_Ablate_Data_ImplicitHate_BERT6000_Paraphrase --- healthyml/In-Context Domain Transfer Improves Out-of-Domain Robustness/run-2ecsgmy9-implicit_hate_stabilityaiStableBeluga7b_random_0_Kyle1668bosstoxicity6000bertbaseuncased_style_logs:v0\n"
     ]
    },
    {
     "name": "stderr",
     "output_type": "stream",
     "text": [
      "\u001b[34m\u001b[1mwandb\u001b[0m:   1 of 1 files downloaded.  \n",
      " 68%|██████▊   | 254/375 [02:41<02:18,  1.15s/it]"
     ]
    },
    {
     "name": "stdout",
     "output_type": "stream",
     "text": [
      "Downloading BOSS_Toxicity_Ablate_Data_ImplicitHate_BERT6000_ICR --- healthyml/In-Context Domain Transfer Improves Out-of-Domain Robustness/run-2ecsgmy9-implicit_hate_stabilityaiStableBeluga7b_random_16_Kyle1668bosstoxicity6000bertbaseuncased_style_logs:v0\n"
     ]
    },
    {
     "name": "stderr",
     "output_type": "stream",
     "text": [
      "\u001b[34m\u001b[1mwandb\u001b[0m: Downloading large artifact run-2ecsgmy9-implicit_hate_stabilityaiStableBeluga7b_random_16_Kyle1668bosstoxicity6000bertbaseuncased_style_logs:v0, 86.79MB. 1 files... \n",
      "\u001b[34m\u001b[1mwandb\u001b[0m:   1 of 1 files downloaded.  \n",
      "Done. 0:0:0.3\n",
      " 68%|██████▊   | 255/375 [02:42<02:09,  1.08s/it]"
     ]
    },
    {
     "name": "stdout",
     "output_type": "stream",
     "text": [
      "Downloading BOSS_Toxicity_Ablate_Data_ImplicitHate_BERT12000_Insert --- healthyml/In-Context Domain Transfer Improves Out-of-Domain Robustness/run-7hgtyr98-implicit_hate_aug_insert_random_16_Kyle1668bosstoxicity12000bertbaseuncased_style_logs:v0\n"
     ]
    },
    {
     "name": "stderr",
     "output_type": "stream",
     "text": [
      "\u001b[34m\u001b[1mwandb\u001b[0m:   1 of 1 files downloaded.  \n",
      " 68%|██████▊   | 256/375 [02:43<01:58,  1.00it/s]"
     ]
    },
    {
     "name": "stdout",
     "output_type": "stream",
     "text": [
      "Downloading BOSS_Toxicity_Ablate_Data_ImplicitHate_BERT12000_Substitute --- healthyml/In-Context Domain Transfer Improves Out-of-Domain Robustness/run-7hgtyr98-implicit_hate_aug_substitute_random_16_Kyle1668bosstoxicity12000bertbaseuncased_style_logs:v0\n"
     ]
    },
    {
     "name": "stderr",
     "output_type": "stream",
     "text": [
      "\u001b[34m\u001b[1mwandb\u001b[0m:   1 of 1 files downloaded.  \n",
      " 69%|██████▊   | 257/375 [02:44<01:55,  1.02it/s]"
     ]
    },
    {
     "name": "stdout",
     "output_type": "stream",
     "text": [
      "Downloading BOSS_Toxicity_Ablate_Data_ImplicitHate_BERT12000_Translate --- healthyml/In-Context Domain Transfer Improves Out-of-Domain Robustness/run-7hgtyr98-implicit_hate_aug_backtranslate_random_16_Kyle1668bosstoxicity12000bertbaseuncased_style_logs:v0\n"
     ]
    },
    {
     "name": "stderr",
     "output_type": "stream",
     "text": [
      "\u001b[34m\u001b[1mwandb\u001b[0m:   1 of 1 files downloaded.  \n",
      " 69%|██████▉   | 258/375 [02:45<01:49,  1.07it/s]"
     ]
    },
    {
     "name": "stdout",
     "output_type": "stream",
     "text": [
      "Downloading BOSS_Toxicity_Ablate_Data_ImplicitHate_BERT12000_Paraphrase --- healthyml/In-Context Domain Transfer Improves Out-of-Domain Robustness/run-7hgtyr98-implicit_hate_stabilityaiStableBeluga7b_random_0_Kyle1668bosstoxicity12000bertbaseuncased_style_logs:v0\n"
     ]
    },
    {
     "name": "stderr",
     "output_type": "stream",
     "text": [
      "\u001b[34m\u001b[1mwandb\u001b[0m:   1 of 1 files downloaded.  \n",
      " 69%|██████▉   | 259/375 [02:46<01:45,  1.09it/s]"
     ]
    },
    {
     "name": "stdout",
     "output_type": "stream",
     "text": [
      "Downloading BOSS_Toxicity_Ablate_Data_ImplicitHate_BERT12000_ICR --- healthyml/In-Context Domain Transfer Improves Out-of-Domain Robustness/run-7hgtyr98-implicit_hate_stabilityaiStableBeluga7b_random_16_Kyle1668bosstoxicity12000bertbaseuncased_style_logs:v0\n"
     ]
    },
    {
     "name": "stderr",
     "output_type": "stream",
     "text": [
      "\u001b[34m\u001b[1mwandb\u001b[0m: Downloading large artifact run-7hgtyr98-implicit_hate_stabilityaiStableBeluga7b_random_16_Kyle1668bosstoxicity12000bertbaseuncased_style_logs:v0, 86.52MB. 1 files... \n",
      "\u001b[34m\u001b[1mwandb\u001b[0m:   1 of 1 files downloaded.  \n",
      "Done. 0:0:0.3\n",
      " 69%|██████▉   | 260/375 [02:47<01:58,  1.03s/it]"
     ]
    },
    {
     "name": "stdout",
     "output_type": "stream",
     "text": [
      "Downloading BOSS_Toxicity_Ablate_Data_ImplicitHate_BERT24000_Insert --- healthyml/In-Context Domain Transfer Improves Out-of-Domain Robustness/run-wl2a38kf-implicit_hate_aug_insert_random_16_Kyle1668bosstoxicity24000bertbaseuncased_style_logs:v0\n"
     ]
    },
    {
     "name": "stderr",
     "output_type": "stream",
     "text": [
      "\u001b[34m\u001b[1mwandb\u001b[0m:   1 of 1 files downloaded.  \n",
      " 70%|██████▉   | 261/375 [02:48<01:47,  1.06it/s]"
     ]
    },
    {
     "name": "stdout",
     "output_type": "stream",
     "text": [
      "Downloading BOSS_Toxicity_Ablate_Data_ImplicitHate_BERT24000_Substitute --- healthyml/In-Context Domain Transfer Improves Out-of-Domain Robustness/run-wl2a38kf-implicit_hate_aug_substitute_random_16_Kyle1668bosstoxicity24000bertbaseuncased_style_logs:v0\n"
     ]
    },
    {
     "name": "stderr",
     "output_type": "stream",
     "text": [
      "\u001b[34m\u001b[1mwandb\u001b[0m:   1 of 1 files downloaded.  \n",
      " 70%|██████▉   | 262/375 [02:49<01:44,  1.08it/s]"
     ]
    },
    {
     "name": "stdout",
     "output_type": "stream",
     "text": [
      "Downloading BOSS_Toxicity_Ablate_Data_ImplicitHate_BERT24000_Translate --- healthyml/In-Context Domain Transfer Improves Out-of-Domain Robustness/run-wl2a38kf-implicit_hate_aug_backtranslate_random_16_Kyle1668bosstoxicity24000bertbaseuncased_style_logs:v0\n"
     ]
    },
    {
     "name": "stderr",
     "output_type": "stream",
     "text": [
      "\u001b[34m\u001b[1mwandb\u001b[0m:   1 of 1 files downloaded.  \n",
      " 70%|███████   | 263/375 [02:49<01:42,  1.09it/s]"
     ]
    },
    {
     "name": "stdout",
     "output_type": "stream",
     "text": [
      "Downloading BOSS_Toxicity_Ablate_Data_ImplicitHate_BERT24000_Paraphrase --- healthyml/In-Context Domain Transfer Improves Out-of-Domain Robustness/run-wl2a38kf-implicit_hate_stabilityaiStableBeluga7b_random_0_Kyle1668bosstoxicity24000bertbaseuncased_style_logs:v0\n"
     ]
    },
    {
     "name": "stderr",
     "output_type": "stream",
     "text": [
      "\u001b[34m\u001b[1mwandb\u001b[0m:   1 of 1 files downloaded.  \n",
      " 70%|███████   | 264/375 [02:50<01:37,  1.13it/s]"
     ]
    },
    {
     "name": "stdout",
     "output_type": "stream",
     "text": [
      "Downloading BOSS_Toxicity_Ablate_Data_ImplicitHate_BERT24000_ICR --- healthyml/In-Context Domain Transfer Improves Out-of-Domain Robustness/run-wl2a38kf-implicit_hate_stabilityaiStableBeluga7b_random_16_Kyle1668bosstoxicity24000bertbaseuncased_style_logs:v0\n"
     ]
    },
    {
     "name": "stderr",
     "output_type": "stream",
     "text": [
      "\u001b[34m\u001b[1mwandb\u001b[0m: Downloading large artifact run-wl2a38kf-implicit_hate_stabilityaiStableBeluga7b_random_16_Kyle1668bosstoxicity24000bertbaseuncased_style_logs:v0, 87.23MB. 1 files... \n",
      "\u001b[34m\u001b[1mwandb\u001b[0m:   1 of 1 files downloaded.  \n",
      "Done. 0:0:0.2\n",
      " 71%|███████   | 265/375 [02:51<01:35,  1.15it/s]"
     ]
    },
    {
     "name": "stdout",
     "output_type": "stream",
     "text": [
      "Downloading BOSS_Toxicity_Ablate_Data_ImplicitHate_BERT48000_Insert --- healthyml/In-Context Domain Transfer Improves Out-of-Domain Robustness/run-iaorx9o7-implicit_hate_aug_insert_random_16_Kyle1668bosstoxicity48000bertbaseuncased_style_logs:v0\n"
     ]
    },
    {
     "name": "stderr",
     "output_type": "stream",
     "text": [
      "\u001b[34m\u001b[1mwandb\u001b[0m:   1 of 1 files downloaded.  \n",
      " 71%|███████   | 266/375 [02:52<01:34,  1.15it/s]"
     ]
    },
    {
     "name": "stdout",
     "output_type": "stream",
     "text": [
      "Downloading BOSS_Toxicity_Ablate_Data_ImplicitHate_BERT48000_Substitute --- healthyml/In-Context Domain Transfer Improves Out-of-Domain Robustness/run-iaorx9o7-implicit_hate_aug_substitute_random_16_Kyle1668bosstoxicity48000bertbaseuncased_style_logs:v0\n"
     ]
    },
    {
     "name": "stderr",
     "output_type": "stream",
     "text": [
      "\u001b[34m\u001b[1mwandb\u001b[0m:   1 of 1 files downloaded.  \n",
      " 71%|███████   | 267/375 [02:53<01:30,  1.19it/s]"
     ]
    },
    {
     "name": "stdout",
     "output_type": "stream",
     "text": [
      "Downloading BOSS_Toxicity_Ablate_Data_ImplicitHate_BERT48000_Translate --- healthyml/In-Context Domain Transfer Improves Out-of-Domain Robustness/run-iaorx9o7-implicit_hate_aug_backtranslate_random_16_Kyle1668bosstoxicity48000bertbaseuncased_style_logs:v0\n"
     ]
    },
    {
     "name": "stderr",
     "output_type": "stream",
     "text": [
      "\u001b[34m\u001b[1mwandb\u001b[0m:   1 of 1 files downloaded.  \n",
      " 71%|███████▏  | 268/375 [02:54<01:30,  1.18it/s]"
     ]
    },
    {
     "name": "stdout",
     "output_type": "stream",
     "text": [
      "Downloading BOSS_Toxicity_Ablate_Data_ImplicitHate_BERT48000_Paraphrase --- healthyml/In-Context Domain Transfer Improves Out-of-Domain Robustness/run-iaorx9o7-implicit_hate_stabilityaiStableBeluga7b_random_0_Kyle1668bosstoxicity48000bertbaseuncased_style_logs:v0\n"
     ]
    },
    {
     "name": "stderr",
     "output_type": "stream",
     "text": [
      "\u001b[34m\u001b[1mwandb\u001b[0m:   1 of 1 files downloaded.  \n",
      " 72%|███████▏  | 269/375 [02:55<01:30,  1.17it/s]"
     ]
    },
    {
     "name": "stdout",
     "output_type": "stream",
     "text": [
      "Downloading BOSS_Toxicity_Ablate_Data_ImplicitHate_BERT48000_ICR --- healthyml/In-Context Domain Transfer Improves Out-of-Domain Robustness/run-iaorx9o7-implicit_hate_stabilityaiStableBeluga7b_random_16_Kyle1668bosstoxicity48000bertbaseuncased_style_logs:v0\n"
     ]
    },
    {
     "name": "stderr",
     "output_type": "stream",
     "text": [
      "\u001b[34m\u001b[1mwandb\u001b[0m: Downloading large artifact run-iaorx9o7-implicit_hate_stabilityaiStableBeluga7b_random_16_Kyle1668bosstoxicity48000bertbaseuncased_style_logs:v0, 86.60MB. 1 files... \n",
      "\u001b[34m\u001b[1mwandb\u001b[0m:   1 of 1 files downloaded.  \n",
      "Done. 0:0:0.2\n",
      " 72%|███████▏  | 270/375 [02:55<01:29,  1.17it/s]"
     ]
    },
    {
     "name": "stdout",
     "output_type": "stream",
     "text": [
      "Downloading BOSS_Toxicity_ImplicitHate_T5_Insert --- healthyml/In-Context Domain Transfer Improves Out-of-Domain Robustness/run-lixlm6qh-implicit_hate_aug_insert_random_16_Kyle1668bosstoxicityt5large_style_logs:v0\n"
     ]
    },
    {
     "name": "stderr",
     "output_type": "stream",
     "text": [
      "\u001b[34m\u001b[1mwandb\u001b[0m: Downloading large artifact run-lixlm6qh-implicit_hate_aug_insert_random_16_Kyle1668bosstoxicityt5large_style_logs:v0, 664.73MB. 1 files... \n",
      "\u001b[34m\u001b[1mwandb\u001b[0m:   1 of 1 files downloaded.  \n",
      "Done. 0:0:8.5\n",
      " 72%|███████▏  | 271/375 [03:04<05:46,  3.33s/it]"
     ]
    },
    {
     "name": "stdout",
     "output_type": "stream",
     "text": [
      "Downloading BOSS_Toxicity_ImplicitHate_T5_Substitute --- healthyml/In-Context Domain Transfer Improves Out-of-Domain Robustness/run-lixlm6qh-implicit_hate_aug_substitute_random_16_Kyle1668bosstoxicityt5large_style_logs:v0\n"
     ]
    },
    {
     "name": "stderr",
     "output_type": "stream",
     "text": [
      "\u001b[34m\u001b[1mwandb\u001b[0m: Downloading large artifact run-lixlm6qh-implicit_hate_aug_substitute_random_16_Kyle1668bosstoxicityt5large_style_logs:v0, 658.75MB. 1 files... \n",
      "\u001b[34m\u001b[1mwandb\u001b[0m:   1 of 1 files downloaded.  \n",
      "Done. 0:0:9.3\n",
      " 73%|███████▎  | 272/375 [03:14<09:07,  5.31s/it]"
     ]
    },
    {
     "name": "stdout",
     "output_type": "stream",
     "text": [
      "Downloading BOSS_Toxicity_ImplicitHate_T5_Translate --- healthyml/In-Context Domain Transfer Improves Out-of-Domain Robustness/run-lixlm6qh-implicit_hate_aug_backtranslate_random_16_Kyle1668bosstoxicityt5large_style_logs:v0\n"
     ]
    },
    {
     "name": "stderr",
     "output_type": "stream",
     "text": [
      "\u001b[34m\u001b[1mwandb\u001b[0m: Downloading large artifact run-lixlm6qh-implicit_hate_aug_backtranslate_random_16_Kyle1668bosstoxicityt5large_style_logs:v0, 658.30MB. 1 files... \n",
      "\u001b[34m\u001b[1mwandb\u001b[0m:   1 of 1 files downloaded.  \n",
      "Done. 0:0:9.7\n",
      " 73%|███████▎  | 273/375 [03:25<11:37,  6.84s/it]"
     ]
    },
    {
     "name": "stdout",
     "output_type": "stream",
     "text": [
      "Downloading BOSS_Toxicity_ImplicitHate_T5_Paraphrase --- healthyml/In-Context Domain Transfer Improves Out-of-Domain Robustness/run-lixlm6qh-implicit_hate_stabilityaiStableBeluga7b_random_0_Kyle1668bosstoxicityt5large_style_logs:v0\n"
     ]
    },
    {
     "name": "stderr",
     "output_type": "stream",
     "text": [
      "\u001b[34m\u001b[1mwandb\u001b[0m: Downloading large artifact run-lixlm6qh-implicit_hate_stabilityaiStableBeluga7b_random_0_Kyle1668bosstoxicityt5large_style_logs:v0, 556.70MB. 1 files... \n",
      "\u001b[34m\u001b[1mwandb\u001b[0m:   1 of 1 files downloaded.  \n",
      "Done. 0:0:11.4\n",
      " 73%|███████▎  | 274/375 [03:37<14:08,  8.40s/it]"
     ]
    },
    {
     "name": "stdout",
     "output_type": "stream",
     "text": [
      "Downloading BOSS_Toxicity_ImplicitHate_T5_ICR --- healthyml/In-Context Domain Transfer Improves Out-of-Domain Robustness/run-lixlm6qh-implicit_hate_stabilityaiStableBeluga7b_random_16_Kyle1668bosstoxicityt5large_style_logs:v0\n"
     ]
    },
    {
     "name": "stderr",
     "output_type": "stream",
     "text": [
      "\u001b[34m\u001b[1mwandb\u001b[0m: Downloading large artifact run-lixlm6qh-implicit_hate_stabilityaiStableBeluga7b_random_16_Kyle1668bosstoxicityt5large_style_logs:v0, 601.85MB. 1 files... \n",
      "\u001b[34m\u001b[1mwandb\u001b[0m:   1 of 1 files downloaded.  \n",
      "Done. 0:0:10.4\n",
      " 73%|███████▎  | 275/375 [03:48<15:18,  9.19s/it]"
     ]
    },
    {
     "name": "stdout",
     "output_type": "stream",
     "text": [
      "Downloading BOSS_Toxicity_ImplicitHate_Falcon_Insert --- healthyml/In-Context Domain Transfer Improves Out-of-Domain Robustness/run-lixlm6qh-implicit_hate_aug_insert_random_16_tiiuaefalcon7binstruct_style_logs:v0\n"
     ]
    },
    {
     "name": "stderr",
     "output_type": "stream",
     "text": [
      "\u001b[34m\u001b[1mwandb\u001b[0m: Downloading large artifact run-lixlm6qh-implicit_hate_aug_insert_random_16_tiiuaefalcon7binstruct_style_logs:v0, 664.77MB. 1 files... \n",
      "\u001b[34m\u001b[1mwandb\u001b[0m:   1 of 1 files downloaded.  \n",
      "Done. 0:0:13.5\n",
      " 74%|███████▎  | 276/375 [04:02<17:37, 10.68s/it]"
     ]
    },
    {
     "name": "stdout",
     "output_type": "stream",
     "text": [
      "Downloading BOSS_Toxicity_ImplicitHate_Falcon_Substitute --- healthyml/In-Context Domain Transfer Improves Out-of-Domain Robustness/run-lixlm6qh-implicit_hate_aug_substitute_random_16_tiiuaefalcon7binstruct_style_logs:v0\n"
     ]
    },
    {
     "name": "stderr",
     "output_type": "stream",
     "text": [
      "\u001b[34m\u001b[1mwandb\u001b[0m: Downloading large artifact run-lixlm6qh-implicit_hate_aug_substitute_random_16_tiiuaefalcon7binstruct_style_logs:v0, 633.79MB. 1 files... \n",
      "\u001b[34m\u001b[1mwandb\u001b[0m:   1 of 1 files downloaded.  \n",
      "Done. 0:0:7.9\n",
      " 74%|███████▍  | 277/375 [04:11<16:25, 10.05s/it]"
     ]
    },
    {
     "name": "stdout",
     "output_type": "stream",
     "text": [
      "Downloading BOSS_Toxicity_ImplicitHate_Falcon_Translate --- healthyml/In-Context Domain Transfer Improves Out-of-Domain Robustness/run-lixlm6qh-implicit_hate_aug_backtranslate_random_16_tiiuaefalcon7binstruct_style_logs:v0\n"
     ]
    },
    {
     "name": "stderr",
     "output_type": "stream",
     "text": [
      "\u001b[34m\u001b[1mwandb\u001b[0m: Downloading large artifact run-lixlm6qh-implicit_hate_aug_backtranslate_random_16_tiiuaefalcon7binstruct_style_logs:v0, 658.28MB. 1 files... \n",
      "\u001b[34m\u001b[1mwandb\u001b[0m:   1 of 1 files downloaded.  \n",
      "Done. 0:0:11.5\n",
      " 74%|███████▍  | 278/375 [04:23<17:15, 10.67s/it]"
     ]
    },
    {
     "name": "stdout",
     "output_type": "stream",
     "text": [
      "Downloading BOSS_Toxicity_AdvCivil_BERT_Insert --- healthyml/In-Context Domain Transfer Improves Out-of-Domain Robustness/run-56jek2cf-adv_civil_aug_insert_random_16_Kyle1668bosstoxicitybertbaseuncased_style_logs:v0\n"
     ]
    },
    {
     "name": "stderr",
     "output_type": "stream",
     "text": [
      "\u001b[34m\u001b[1mwandb\u001b[0m:   1 of 1 files downloaded.  \n",
      " 75%|███████▍  | 281/375 [04:24<07:35,  4.85s/it]"
     ]
    },
    {
     "name": "stdout",
     "output_type": "stream",
     "text": [
      "Downloading BOSS_Toxicity_AdvCivil_BERT_Substitute --- healthyml/In-Context Domain Transfer Improves Out-of-Domain Robustness/run-56jek2cf-adv_civil_aug_substitute_random_16_Kyle1668bosstoxicitybertbaseuncased_style_logs:v0\n"
     ]
    },
    {
     "name": "stderr",
     "output_type": "stream",
     "text": [
      "\u001b[34m\u001b[1mwandb\u001b[0m:   1 of 1 files downloaded.  \n",
      " 75%|███████▌  | 282/375 [04:26<06:41,  4.32s/it]"
     ]
    },
    {
     "name": "stdout",
     "output_type": "stream",
     "text": [
      "Downloading BOSS_Toxicity_AdvCivil_BERT_Translate --- healthyml/In-Context Domain Transfer Improves Out-of-Domain Robustness/run-56jek2cf-adv_civil_aug_backtranslate_random_16_Kyle1668bosstoxicitybertbaseuncased_style_logs:v0\n"
     ]
    },
    {
     "name": "stderr",
     "output_type": "stream",
     "text": [
      "\u001b[34m\u001b[1mwandb\u001b[0m:   1 of 1 files downloaded.  \n",
      " 75%|███████▌  | 283/375 [04:27<05:21,  3.49s/it]"
     ]
    },
    {
     "name": "stdout",
     "output_type": "stream",
     "text": [
      "Downloading BOSS_Toxicity_AdvCivil_BERT_Paraphrase --- healthyml/In-Context Domain Transfer Improves Out-of-Domain Robustness/run-56jek2cf-adv_civil_stabilityaiStableBeluga7b_random_0_Kyle1668bosstoxicitybertbaseuncased_style_logs:v0\n"
     ]
    },
    {
     "name": "stderr",
     "output_type": "stream",
     "text": [
      "\u001b[34m\u001b[1mwandb\u001b[0m:   1 of 1 files downloaded.  \n",
      " 76%|███████▌  | 284/375 [04:28<04:17,  2.82s/it]"
     ]
    },
    {
     "name": "stdout",
     "output_type": "stream",
     "text": [
      "Downloading BOSS_Toxicity_AdvCivil_BERT_ICR --- healthyml/In-Context Domain Transfer Improves Out-of-Domain Robustness/run-56jek2cf-adv_civil_stabilityaiStableBeluga7b_random_16_Kyle1668bosstoxicitybertbaseuncased_style_logs:v0\n"
     ]
    },
    {
     "name": "stderr",
     "output_type": "stream",
     "text": [
      "\u001b[34m\u001b[1mwandb\u001b[0m:   1 of 1 files downloaded.  \n",
      " 76%|███████▌  | 285/375 [04:28<03:27,  2.30s/it]"
     ]
    },
    {
     "name": "stdout",
     "output_type": "stream",
     "text": [
      "Downloading BOSS_Toxicity_Ablate_Data_AdvCivil_BERT3000_Insert --- healthyml/In-Context Domain Transfer Improves Out-of-Domain Robustness/run-ms2943fk-adv_civil_aug_insert_random_16_Kyle1668bosstoxicity3000bertbaseuncased_style_logs:v0\n"
     ]
    },
    {
     "name": "stderr",
     "output_type": "stream",
     "text": [
      "\u001b[34m\u001b[1mwandb\u001b[0m:   1 of 1 files downloaded.  \n",
      " 76%|███████▋  | 286/375 [04:29<02:48,  1.89s/it]"
     ]
    },
    {
     "name": "stdout",
     "output_type": "stream",
     "text": [
      "Downloading BOSS_Toxicity_Ablate_Data_AdvCivil_BERT3000_Substitute --- healthyml/In-Context Domain Transfer Improves Out-of-Domain Robustness/run-ms2943fk-adv_civil_aug_substitute_random_16_Kyle1668bosstoxicity3000bertbaseuncased_style_logs:v0\n"
     ]
    },
    {
     "name": "stderr",
     "output_type": "stream",
     "text": [
      "\u001b[34m\u001b[1mwandb\u001b[0m:   1 of 1 files downloaded.  \n",
      " 77%|███████▋  | 287/375 [04:30<02:18,  1.57s/it]"
     ]
    },
    {
     "name": "stdout",
     "output_type": "stream",
     "text": [
      "Downloading BOSS_Toxicity_Ablate_Data_AdvCivil_BERT3000_Translate --- healthyml/In-Context Domain Transfer Improves Out-of-Domain Robustness/run-ms2943fk-adv_civil_aug_backtranslate_random_16_Kyle1668bosstoxicity3000bertbaseuncased_style_logs:v0\n"
     ]
    },
    {
     "name": "stderr",
     "output_type": "stream",
     "text": [
      "\u001b[34m\u001b[1mwandb\u001b[0m:   1 of 1 files downloaded.  \n",
      " 77%|███████▋  | 288/375 [04:31<01:58,  1.37s/it]"
     ]
    },
    {
     "name": "stdout",
     "output_type": "stream",
     "text": [
      "Downloading BOSS_Toxicity_Ablate_Data_AdvCivil_BERT3000_Paraphrase --- healthyml/In-Context Domain Transfer Improves Out-of-Domain Robustness/run-ms2943fk-adv_civil_stabilityaiStableBeluga7b_random_0_Kyle1668bosstoxicity3000bertbaseuncased_style_logs:v0\n"
     ]
    },
    {
     "name": "stderr",
     "output_type": "stream",
     "text": [
      "\u001b[34m\u001b[1mwandb\u001b[0m:   1 of 1 files downloaded.  \n",
      " 77%|███████▋  | 289/375 [04:32<01:41,  1.18s/it]"
     ]
    },
    {
     "name": "stdout",
     "output_type": "stream",
     "text": [
      "Downloading BOSS_Toxicity_Ablate_Data_AdvCivil_BERT3000_ICR --- healthyml/In-Context Domain Transfer Improves Out-of-Domain Robustness/run-ms2943fk-adv_civil_stabilityaiStableBeluga7b_random_16_Kyle1668bosstoxicity3000bertbaseuncased_style_logs:v0\n"
     ]
    },
    {
     "name": "stderr",
     "output_type": "stream",
     "text": [
      "\u001b[34m\u001b[1mwandb\u001b[0m:   1 of 1 files downloaded.  \n",
      " 77%|███████▋  | 290/375 [04:33<01:38,  1.16s/it]"
     ]
    },
    {
     "name": "stdout",
     "output_type": "stream",
     "text": [
      "Downloading BOSS_Toxicity_Ablate_Data_AdvCivil_BERT6000_Insert --- healthyml/In-Context Domain Transfer Improves Out-of-Domain Robustness/run-2ecsgmy9-adv_civil_aug_insert_random_16_Kyle1668bosstoxicity6000bertbaseuncased_style_logs:v0\n"
     ]
    },
    {
     "name": "stderr",
     "output_type": "stream",
     "text": [
      "\u001b[34m\u001b[1mwandb\u001b[0m:   1 of 1 files downloaded.  \n",
      " 78%|███████▊  | 291/375 [04:33<01:27,  1.05s/it]"
     ]
    },
    {
     "name": "stdout",
     "output_type": "stream",
     "text": [
      "Downloading BOSS_Toxicity_Ablate_Data_AdvCivil_BERT6000_Substitute --- healthyml/In-Context Domain Transfer Improves Out-of-Domain Robustness/run-2ecsgmy9-adv_civil_aug_substitute_random_16_Kyle1668bosstoxicity6000bertbaseuncased_style_logs:v0\n"
     ]
    },
    {
     "name": "stderr",
     "output_type": "stream",
     "text": [
      "\u001b[34m\u001b[1mwandb\u001b[0m:   1 of 1 files downloaded.  \n",
      " 78%|███████▊  | 292/375 [04:35<01:32,  1.12s/it]"
     ]
    },
    {
     "name": "stdout",
     "output_type": "stream",
     "text": [
      "Downloading BOSS_Toxicity_Ablate_Data_AdvCivil_BERT6000_Translate --- healthyml/In-Context Domain Transfer Improves Out-of-Domain Robustness/run-2ecsgmy9-adv_civil_aug_backtranslate_random_16_Kyle1668bosstoxicity6000bertbaseuncased_style_logs:v0\n"
     ]
    },
    {
     "name": "stderr",
     "output_type": "stream",
     "text": [
      "\u001b[34m\u001b[1mwandb\u001b[0m:   1 of 1 files downloaded.  \n",
      " 78%|███████▊  | 293/375 [04:36<01:29,  1.09s/it]"
     ]
    },
    {
     "name": "stdout",
     "output_type": "stream",
     "text": [
      "Downloading BOSS_Toxicity_Ablate_Data_AdvCivil_BERT6000_Paraphrase --- healthyml/In-Context Domain Transfer Improves Out-of-Domain Robustness/run-2ecsgmy9-adv_civil_stabilityaiStableBeluga7b_random_0_Kyle1668bosstoxicity6000bertbaseuncased_style_logs:v0\n"
     ]
    },
    {
     "name": "stderr",
     "output_type": "stream",
     "text": [
      "\u001b[34m\u001b[1mwandb\u001b[0m:   1 of 1 files downloaded.  \n",
      " 78%|███████▊  | 294/375 [04:37<01:21,  1.01s/it]"
     ]
    },
    {
     "name": "stdout",
     "output_type": "stream",
     "text": [
      "Downloading BOSS_Toxicity_Ablate_Data_AdvCivil_BERT6000_ICR --- healthyml/In-Context Domain Transfer Improves Out-of-Domain Robustness/run-2ecsgmy9-adv_civil_stabilityaiStableBeluga7b_random_16_Kyle1668bosstoxicity6000bertbaseuncased_style_logs:v0\n"
     ]
    },
    {
     "name": "stderr",
     "output_type": "stream",
     "text": [
      "\u001b[34m\u001b[1mwandb\u001b[0m:   1 of 1 files downloaded.  \n",
      " 79%|███████▊  | 295/375 [04:37<01:15,  1.06it/s]"
     ]
    },
    {
     "name": "stdout",
     "output_type": "stream",
     "text": [
      "Downloading BOSS_Toxicity_Ablate_Data_AdvCivil_BERT12000_Insert --- healthyml/In-Context Domain Transfer Improves Out-of-Domain Robustness/run-7hgtyr98-adv_civil_aug_insert_random_16_Kyle1668bosstoxicity12000bertbaseuncased_style_logs:v0\n"
     ]
    },
    {
     "name": "stderr",
     "output_type": "stream",
     "text": [
      "\u001b[34m\u001b[1mwandb\u001b[0m:   1 of 1 files downloaded.  \n",
      " 79%|███████▉  | 296/375 [04:38<01:10,  1.11it/s]"
     ]
    },
    {
     "name": "stdout",
     "output_type": "stream",
     "text": [
      "Downloading BOSS_Toxicity_Ablate_Data_AdvCivil_BERT12000_Substitute --- healthyml/In-Context Domain Transfer Improves Out-of-Domain Robustness/run-7hgtyr98-adv_civil_aug_substitute_random_16_Kyle1668bosstoxicity12000bertbaseuncased_style_logs:v0\n"
     ]
    },
    {
     "name": "stderr",
     "output_type": "stream",
     "text": [
      "\u001b[34m\u001b[1mwandb\u001b[0m:   1 of 1 files downloaded.  \n",
      " 79%|███████▉  | 297/375 [04:39<01:11,  1.10it/s]"
     ]
    },
    {
     "name": "stdout",
     "output_type": "stream",
     "text": [
      "Downloading BOSS_Toxicity_Ablate_Data_AdvCivil_BERT12000_Translate --- healthyml/In-Context Domain Transfer Improves Out-of-Domain Robustness/run-7hgtyr98-adv_civil_aug_backtranslate_random_16_Kyle1668bosstoxicity12000bertbaseuncased_style_logs:v0\n"
     ]
    },
    {
     "name": "stderr",
     "output_type": "stream",
     "text": [
      "\u001b[34m\u001b[1mwandb\u001b[0m:   1 of 1 files downloaded.  \n",
      " 79%|███████▉  | 298/375 [04:40<01:07,  1.14it/s]"
     ]
    },
    {
     "name": "stdout",
     "output_type": "stream",
     "text": [
      "Downloading BOSS_Toxicity_Ablate_Data_AdvCivil_BERT12000_Paraphrase --- healthyml/In-Context Domain Transfer Improves Out-of-Domain Robustness/run-7hgtyr98-adv_civil_stabilityaiStableBeluga7b_random_0_Kyle1668bosstoxicity12000bertbaseuncased_style_logs:v0\n"
     ]
    },
    {
     "name": "stderr",
     "output_type": "stream",
     "text": [
      "\u001b[34m\u001b[1mwandb\u001b[0m:   1 of 1 files downloaded.  \n",
      " 80%|███████▉  | 299/375 [04:41<01:04,  1.18it/s]"
     ]
    },
    {
     "name": "stdout",
     "output_type": "stream",
     "text": [
      "Downloading BOSS_Toxicity_Ablate_Data_AdvCivil_BERT12000_ICR --- healthyml/In-Context Domain Transfer Improves Out-of-Domain Robustness/run-7hgtyr98-adv_civil_stabilityaiStableBeluga7b_random_16_Kyle1668bosstoxicity12000bertbaseuncased_style_logs:v0\n"
     ]
    },
    {
     "name": "stderr",
     "output_type": "stream",
     "text": [
      "\u001b[34m\u001b[1mwandb\u001b[0m:   1 of 1 files downloaded.  \n",
      " 80%|████████  | 300/375 [04:41<01:02,  1.20it/s]"
     ]
    },
    {
     "name": "stdout",
     "output_type": "stream",
     "text": [
      "Downloading BOSS_Toxicity_Ablate_Data_AdvCivil_BERT24000_Insert --- healthyml/In-Context Domain Transfer Improves Out-of-Domain Robustness/run-wl2a38kf-adv_civil_aug_insert_random_16_Kyle1668bosstoxicity24000bertbaseuncased_style_logs:v0\n"
     ]
    },
    {
     "name": "stderr",
     "output_type": "stream",
     "text": [
      "\u001b[34m\u001b[1mwandb\u001b[0m:   1 of 1 files downloaded.  \n",
      " 80%|████████  | 301/375 [04:42<00:59,  1.25it/s]"
     ]
    },
    {
     "name": "stdout",
     "output_type": "stream",
     "text": [
      "Downloading BOSS_Toxicity_Ablate_Data_AdvCivil_BERT24000_Substitute --- healthyml/In-Context Domain Transfer Improves Out-of-Domain Robustness/run-wl2a38kf-adv_civil_aug_substitute_random_16_Kyle1668bosstoxicity24000bertbaseuncased_style_logs:v0\n"
     ]
    },
    {
     "name": "stderr",
     "output_type": "stream",
     "text": [
      "\u001b[34m\u001b[1mwandb\u001b[0m:   1 of 1 files downloaded.  \n",
      " 81%|████████  | 302/375 [04:43<01:03,  1.15it/s]"
     ]
    },
    {
     "name": "stdout",
     "output_type": "stream",
     "text": [
      "Downloading BOSS_Toxicity_Ablate_Data_AdvCivil_BERT24000_Translate --- healthyml/In-Context Domain Transfer Improves Out-of-Domain Robustness/run-wl2a38kf-adv_civil_aug_backtranslate_random_16_Kyle1668bosstoxicity24000bertbaseuncased_style_logs:v0\n"
     ]
    },
    {
     "name": "stderr",
     "output_type": "stream",
     "text": [
      "\u001b[34m\u001b[1mwandb\u001b[0m:   1 of 1 files downloaded.  \n",
      " 81%|████████  | 303/375 [04:44<01:00,  1.18it/s]"
     ]
    },
    {
     "name": "stdout",
     "output_type": "stream",
     "text": [
      "Downloading BOSS_Toxicity_Ablate_Data_AdvCivil_BERT24000_Paraphrase --- healthyml/In-Context Domain Transfer Improves Out-of-Domain Robustness/run-wl2a38kf-adv_civil_stabilityaiStableBeluga7b_random_0_Kyle1668bosstoxicity24000bertbaseuncased_style_logs:v0\n"
     ]
    },
    {
     "name": "stderr",
     "output_type": "stream",
     "text": [
      "\u001b[34m\u001b[1mwandb\u001b[0m:   1 of 1 files downloaded.  \n",
      " 81%|████████  | 304/375 [04:45<00:58,  1.21it/s]"
     ]
    },
    {
     "name": "stdout",
     "output_type": "stream",
     "text": [
      "Downloading BOSS_Toxicity_Ablate_Data_AdvCivil_BERT24000_ICR --- healthyml/In-Context Domain Transfer Improves Out-of-Domain Robustness/run-wl2a38kf-adv_civil_stabilityaiStableBeluga7b_random_16_Kyle1668bosstoxicity24000bertbaseuncased_style_logs:v0\n"
     ]
    },
    {
     "name": "stderr",
     "output_type": "stream",
     "text": [
      "\u001b[34m\u001b[1mwandb\u001b[0m:   1 of 1 files downloaded.  \n",
      " 81%|████████▏ | 305/375 [04:46<00:57,  1.22it/s]"
     ]
    },
    {
     "name": "stdout",
     "output_type": "stream",
     "text": [
      "Downloading BOSS_Toxicity_Ablate_Data_AdvCivil_BERT48000_Insert --- healthyml/In-Context Domain Transfer Improves Out-of-Domain Robustness/run-iaorx9o7-adv_civil_aug_insert_random_16_Kyle1668bosstoxicity48000bertbaseuncased_style_logs:v0\n"
     ]
    },
    {
     "name": "stderr",
     "output_type": "stream",
     "text": [
      "\u001b[34m\u001b[1mwandb\u001b[0m:   1 of 1 files downloaded.  \n",
      " 82%|████████▏ | 306/375 [04:47<00:59,  1.16it/s]"
     ]
    },
    {
     "name": "stdout",
     "output_type": "stream",
     "text": [
      "Downloading BOSS_Toxicity_Ablate_Data_AdvCivil_BERT48000_Substitute --- healthyml/In-Context Domain Transfer Improves Out-of-Domain Robustness/run-iaorx9o7-adv_civil_aug_substitute_random_16_Kyle1668bosstoxicity48000bertbaseuncased_style_logs:v0\n"
     ]
    },
    {
     "name": "stderr",
     "output_type": "stream",
     "text": [
      "\u001b[34m\u001b[1mwandb\u001b[0m:   1 of 1 files downloaded.  \n",
      " 82%|████████▏ | 307/375 [04:47<00:59,  1.15it/s]"
     ]
    },
    {
     "name": "stdout",
     "output_type": "stream",
     "text": [
      "Downloading BOSS_Toxicity_Ablate_Data_AdvCivil_BERT48000_Translate --- healthyml/In-Context Domain Transfer Improves Out-of-Domain Robustness/run-iaorx9o7-adv_civil_aug_backtranslate_random_16_Kyle1668bosstoxicity48000bertbaseuncased_style_logs:v0\n"
     ]
    },
    {
     "name": "stderr",
     "output_type": "stream",
     "text": [
      "\u001b[34m\u001b[1mwandb\u001b[0m:   1 of 1 files downloaded.  \n",
      " 82%|████████▏ | 308/375 [04:48<00:54,  1.22it/s]"
     ]
    },
    {
     "name": "stdout",
     "output_type": "stream",
     "text": [
      "Downloading BOSS_Toxicity_Ablate_Data_AdvCivil_BERT48000_Paraphrase --- healthyml/In-Context Domain Transfer Improves Out-of-Domain Robustness/run-iaorx9o7-adv_civil_stabilityaiStableBeluga7b_random_0_Kyle1668bosstoxicity48000bertbaseuncased_style_logs:v0\n"
     ]
    },
    {
     "name": "stderr",
     "output_type": "stream",
     "text": [
      "\u001b[34m\u001b[1mwandb\u001b[0m:   1 of 1 files downloaded.  \n",
      " 82%|████████▏ | 309/375 [04:49<00:52,  1.25it/s]"
     ]
    },
    {
     "name": "stdout",
     "output_type": "stream",
     "text": [
      "Downloading BOSS_Toxicity_Ablate_Data_AdvCivil_BERT48000_ICR --- healthyml/In-Context Domain Transfer Improves Out-of-Domain Robustness/run-iaorx9o7-adv_civil_stabilityaiStableBeluga7b_random_16_Kyle1668bosstoxicity48000bertbaseuncased_style_logs:v0\n"
     ]
    },
    {
     "name": "stderr",
     "output_type": "stream",
     "text": [
      "\u001b[34m\u001b[1mwandb\u001b[0m:   1 of 1 files downloaded.  \n",
      " 83%|████████▎ | 310/375 [04:50<00:51,  1.26it/s]"
     ]
    },
    {
     "name": "stdout",
     "output_type": "stream",
     "text": [
      "Downloading BOSS_Toxicity_AdvCivil_T5_Insert --- healthyml/In-Context Domain Transfer Improves Out-of-Domain Robustness/run-lixlm6qh-adv_civil_aug_insert_random_16_Kyle1668bosstoxicityt5large_style_logs:v0\n"
     ]
    },
    {
     "name": "stderr",
     "output_type": "stream",
     "text": [
      "\u001b[34m\u001b[1mwandb\u001b[0m:   1 of 1 files downloaded.  \n",
      " 83%|████████▎ | 311/375 [04:51<00:56,  1.13it/s]"
     ]
    },
    {
     "name": "stdout",
     "output_type": "stream",
     "text": [
      "Downloading BOSS_Toxicity_AdvCivil_T5_Substitute --- healthyml/In-Context Domain Transfer Improves Out-of-Domain Robustness/run-lixlm6qh-adv_civil_aug_substitute_random_16_Kyle1668bosstoxicityt5large_style_logs:v0\n"
     ]
    },
    {
     "name": "stderr",
     "output_type": "stream",
     "text": [
      "\u001b[34m\u001b[1mwandb\u001b[0m:   1 of 1 files downloaded.  \n",
      " 83%|████████▎ | 312/375 [04:52<01:01,  1.03it/s]"
     ]
    },
    {
     "name": "stdout",
     "output_type": "stream",
     "text": [
      "Downloading BOSS_Toxicity_AdvCivil_T5_Translate --- healthyml/In-Context Domain Transfer Improves Out-of-Domain Robustness/run-lixlm6qh-adv_civil_aug_backtranslate_random_16_Kyle1668bosstoxicityt5large_style_logs:v0\n"
     ]
    },
    {
     "name": "stderr",
     "output_type": "stream",
     "text": [
      "\u001b[34m\u001b[1mwandb\u001b[0m:   1 of 1 files downloaded.  \n",
      " 83%|████████▎ | 313/375 [04:53<01:03,  1.03s/it]"
     ]
    },
    {
     "name": "stdout",
     "output_type": "stream",
     "text": [
      "Downloading BOSS_Toxicity_AdvCivil_T5_Paraphrase --- healthyml/In-Context Domain Transfer Improves Out-of-Domain Robustness/run-lixlm6qh-adv_civil_stabilityaiStableBeluga7b_random_0_Kyle1668bosstoxicityt5large_style_logs:v0\n"
     ]
    },
    {
     "name": "stderr",
     "output_type": "stream",
     "text": [
      "\u001b[34m\u001b[1mwandb\u001b[0m:   1 of 1 files downloaded.  \n",
      " 84%|████████▎ | 314/375 [04:54<00:59,  1.03it/s]"
     ]
    },
    {
     "name": "stdout",
     "output_type": "stream",
     "text": [
      "Downloading BOSS_Toxicity_AdvCivil_T5_ICR --- healthyml/In-Context Domain Transfer Improves Out-of-Domain Robustness/run-lixlm6qh-adv_civil_stabilityaiStableBeluga7b_random_16_Kyle1668bosstoxicityt5large_style_logs:v0\n"
     ]
    },
    {
     "name": "stderr",
     "output_type": "stream",
     "text": [
      "\u001b[34m\u001b[1mwandb\u001b[0m:   1 of 1 files downloaded.  \n",
      " 84%|████████▍ | 315/375 [04:55<01:01,  1.03s/it]"
     ]
    },
    {
     "name": "stdout",
     "output_type": "stream",
     "text": [
      "Downloading BOSS_Toxicity_AdvCivil_Falcon_Insert --- healthyml/In-Context Domain Transfer Improves Out-of-Domain Robustness/run-lixlm6qh-adv_civil_aug_insert_random_16_tiiuaefalcon7binstruct_style_logs:v0\n"
     ]
    },
    {
     "name": "stderr",
     "output_type": "stream",
     "text": [
      "\u001b[34m\u001b[1mwandb\u001b[0m:   1 of 1 files downloaded.  \n",
      " 84%|████████▍ | 316/375 [04:56<01:01,  1.04s/it]"
     ]
    },
    {
     "name": "stdout",
     "output_type": "stream",
     "text": [
      "Downloading BOSS_Toxicity_AdvCivil_Falcon_Substitute --- healthyml/In-Context Domain Transfer Improves Out-of-Domain Robustness/run-lixlm6qh-adv_civil_aug_substitute_random_16_tiiuaefalcon7binstruct_style_logs:v0\n"
     ]
    },
    {
     "name": "stderr",
     "output_type": "stream",
     "text": [
      "\u001b[34m\u001b[1mwandb\u001b[0m:   1 of 1 files downloaded.  \n",
      " 85%|████████▍ | 317/375 [04:57<01:03,  1.10s/it]"
     ]
    },
    {
     "name": "stdout",
     "output_type": "stream",
     "text": [
      "Downloading BOSS_Toxicity_AdvCivil_Falcon_Translate --- healthyml/In-Context Domain Transfer Improves Out-of-Domain Robustness/run-lixlm6qh-adv_civil_aug_backtranslate_random_16_tiiuaefalcon7binstruct_style_logs:v0\n"
     ]
    },
    {
     "name": "stderr",
     "output_type": "stream",
     "text": [
      "\u001b[34m\u001b[1mwandb\u001b[0m:   1 of 1 files downloaded.  \n",
      " 85%|████████▍ | 318/375 [04:59<01:07,  1.18s/it]"
     ]
    },
    {
     "name": "stdout",
     "output_type": "stream",
     "text": [
      "Downloading BOSS_Toxicity_AdvCivil_Falcon_Paraphrase --- healthyml/In-Context Domain Transfer Improves Out-of-Domain Robustness/run-lixlm6qh-adv_civil_stabilityaiStableBeluga7b_random_0_tiiuaefalcon7binstruct_style_logs:v0\n"
     ]
    },
    {
     "name": "stderr",
     "output_type": "stream",
     "text": [
      "\u001b[34m\u001b[1mwandb\u001b[0m:   1 of 1 files downloaded.  \n",
      " 85%|████████▌ | 319/375 [05:00<00:58,  1.05s/it]"
     ]
    },
    {
     "name": "stdout",
     "output_type": "stream",
     "text": [
      "Downloading BOSS_Toxicity_AdvCivil_Falcon_ICR --- healthyml/In-Context Domain Transfer Improves Out-of-Domain Robustness/run-lixlm6qh-adv_civil_stabilityaiStableBeluga7b_random_16_tiiuaefalcon7binstruct_style_logs:v0\n"
     ]
    },
    {
     "name": "stderr",
     "output_type": "stream",
     "text": [
      "\u001b[34m\u001b[1mwandb\u001b[0m:   1 of 1 files downloaded.  \n",
      " 85%|████████▌ | 320/375 [05:01<00:59,  1.08s/it]"
     ]
    },
    {
     "name": "stdout",
     "output_type": "stream",
     "text": [
      "Downloading AgNewsTweets_ID_BERT_Insert --- healthyml/In-Context Domain Transfer Improves Out-of-Domain Robustness/run-i2vkae2s-validation_aug_insert_random_16_Kyle1668agnewsbertbaseuncased_style_logs:v0\n"
     ]
    },
    {
     "name": "stderr",
     "output_type": "stream",
     "text": [
      "\u001b[34m\u001b[1mwandb\u001b[0m: Downloading large artifact run-i2vkae2s-validation_aug_insert_random_16_Kyle1668agnewsbertbaseuncased_style_logs:v0, 199.23MB. 1 files... \n",
      "\u001b[34m\u001b[1mwandb\u001b[0m:   1 of 1 files downloaded.  \n",
      "Done. 0:0:2.7\n",
      " 86%|████████▌ | 321/375 [05:04<01:33,  1.74s/it]"
     ]
    },
    {
     "name": "stdout",
     "output_type": "stream",
     "text": [
      "Downloading AgNewsTweets_ID_BERT_Substitute --- healthyml/In-Context Domain Transfer Improves Out-of-Domain Robustness/run-i2vkae2s-validation_aug_substitute_random_16_Kyle1668agnewsbertbaseuncased_style_logs:v0\n"
     ]
    },
    {
     "name": "stderr",
     "output_type": "stream",
     "text": [
      "\u001b[34m\u001b[1mwandb\u001b[0m: Downloading large artifact run-i2vkae2s-validation_aug_substitute_random_16_Kyle1668agnewsbertbaseuncased_style_logs:v0, 195.74MB. 1 files... \n",
      "\u001b[34m\u001b[1mwandb\u001b[0m:   1 of 1 files downloaded.  \n",
      "Done. 0:0:2.6\n",
      " 86%|████████▌ | 322/375 [05:07<01:58,  2.23s/it]"
     ]
    },
    {
     "name": "stdout",
     "output_type": "stream",
     "text": [
      "Downloading AgNewsTweets_ID_BERT_Translate --- healthyml/In-Context Domain Transfer Improves Out-of-Domain Robustness/run-i2vkae2s-validation_aug_backtranslate_random_16_Kyle1668agnewsbertbaseuncased_style_logs:v0\n"
     ]
    },
    {
     "name": "stderr",
     "output_type": "stream",
     "text": [
      "\u001b[34m\u001b[1mwandb\u001b[0m: Downloading large artifact run-i2vkae2s-validation_aug_backtranslate_random_16_Kyle1668agnewsbertbaseuncased_style_logs:v0, 194.34MB. 1 files... \n",
      "\u001b[34m\u001b[1mwandb\u001b[0m:   1 of 1 files downloaded.  \n",
      "Done. 0:0:2.6\n",
      " 86%|████████▌ | 323/375 [05:11<02:13,  2.57s/it]"
     ]
    },
    {
     "name": "stdout",
     "output_type": "stream",
     "text": [
      "Downloading AgNewsTweets_ID_BERT_Paraphrase --- healthyml/In-Context Domain Transfer Improves Out-of-Domain Robustness/run-i2vkae2s-validation_stabilityaiStableBeluga7b_random_0_Kyle1668agnewsbertbaseuncased_style_logs:v0\n"
     ]
    },
    {
     "name": "stderr",
     "output_type": "stream",
     "text": [
      "\u001b[34m\u001b[1mwandb\u001b[0m: Downloading large artifact run-i2vkae2s-validation_stabilityaiStableBeluga7b_random_0_Kyle1668agnewsbertbaseuncased_style_logs:v0, 196.23MB. 1 files... \n",
      "\u001b[34m\u001b[1mwandb\u001b[0m:   1 of 1 files downloaded.  \n",
      "Done. 0:0:2.8\n",
      " 86%|████████▋ | 324/375 [05:14<02:29,  2.92s/it]"
     ]
    },
    {
     "name": "stdout",
     "output_type": "stream",
     "text": [
      "Downloading AgNewsTweets_ID_BERT_ICR --- healthyml/In-Context Domain Transfer Improves Out-of-Domain Robustness/run-i2vkae2s-validation_stabilityaiStableBeluga7b_random_16_Kyle1668agnewsbertbaseuncased_style_logs:v0\n"
     ]
    },
    {
     "name": "stderr",
     "output_type": "stream",
     "text": [
      "\u001b[34m\u001b[1mwandb\u001b[0m: Downloading large artifact run-i2vkae2s-validation_stabilityaiStableBeluga7b_random_16_Kyle1668agnewsbertbaseuncased_style_logs:v0, 211.15MB. 1 files... \n",
      "\u001b[34m\u001b[1mwandb\u001b[0m:   1 of 1 files downloaded.  \n",
      "Done. 0:0:2.8\n",
      " 87%|████████▋ | 325/375 [05:18<02:41,  3.24s/it]"
     ]
    },
    {
     "name": "stdout",
     "output_type": "stream",
     "text": [
      "Downloading AgNewsTweets_Ablate_Data_Tweets_BERT4800_Insert --- healthyml/In-Context Domain Transfer Improves Out-of-Domain Robustness/run-s51a9946-test_aug_insert_random_16_Kyle1668agnews4800bertbaseuncased_style_logs:v0\n"
     ]
    },
    {
     "name": "stderr",
     "output_type": "stream",
     "text": [
      "\u001b[34m\u001b[1mwandb\u001b[0m:   1 of 1 files downloaded.  \n",
      " 87%|████████▋ | 326/375 [05:20<02:12,  2.70s/it]"
     ]
    },
    {
     "name": "stdout",
     "output_type": "stream",
     "text": [
      "Downloading AgNewsTweets_Ablate_Data_Tweets_BERT4800_Substitute --- healthyml/In-Context Domain Transfer Improves Out-of-Domain Robustness/run-s51a9946-test_aug_substitute_random_16_Kyle1668agnews4800bertbaseuncased_style_logs:v0\n"
     ]
    },
    {
     "name": "stderr",
     "output_type": "stream",
     "text": [
      "\u001b[34m\u001b[1mwandb\u001b[0m:   1 of 1 files downloaded.  \n",
      " 87%|████████▋ | 327/375 [05:21<01:52,  2.34s/it]"
     ]
    },
    {
     "name": "stdout",
     "output_type": "stream",
     "text": [
      "Downloading AgNewsTweets_Ablate_Data_Tweets_BERT4800_Translate --- healthyml/In-Context Domain Transfer Improves Out-of-Domain Robustness/run-s51a9946-test_aug_backtranslate_random_16_Kyle1668agnews4800bertbaseuncased_style_logs:v0\n"
     ]
    },
    {
     "name": "stderr",
     "output_type": "stream",
     "text": [
      "\u001b[34m\u001b[1mwandb\u001b[0m:   1 of 1 files downloaded.  \n",
      " 87%|████████▋ | 328/375 [05:23<01:36,  2.04s/it]"
     ]
    },
    {
     "name": "stdout",
     "output_type": "stream",
     "text": [
      "Downloading AgNewsTweets_Ablate_Data_Tweets_BERT4800_Paraphrase --- healthyml/In-Context Domain Transfer Improves Out-of-Domain Robustness/run-s51a9946-test_stabilityaiStableBeluga7b_random_0_Kyle1668agnews4800bertbaseuncased_style_logs:v0\n"
     ]
    },
    {
     "name": "stderr",
     "output_type": "stream",
     "text": [
      "\u001b[34m\u001b[1mwandb\u001b[0m:   1 of 1 files downloaded.  \n",
      " 88%|████████▊ | 329/375 [05:24<01:21,  1.78s/it]"
     ]
    },
    {
     "name": "stdout",
     "output_type": "stream",
     "text": [
      "Downloading AgNewsTweets_Ablate_Data_Tweets_BERT4800_ICR --- healthyml/In-Context Domain Transfer Improves Out-of-Domain Robustness/run-s51a9946-test_stabilityaiStableBeluga7b_random_16_Kyle1668agnews4800bertbaseuncased_style_logs:v0\n"
     ]
    },
    {
     "name": "stderr",
     "output_type": "stream",
     "text": [
      "\u001b[34m\u001b[1mwandb\u001b[0m:   1 of 1 files downloaded.  \n",
      " 88%|████████▊ | 330/375 [05:27<01:34,  2.11s/it]"
     ]
    },
    {
     "name": "stdout",
     "output_type": "stream",
     "text": [
      "Downloading AgNewsTweets_Ablate_Data_Tweets_BERT9600_Insert --- healthyml/In-Context Domain Transfer Improves Out-of-Domain Robustness/run-ymlu6tfz-test_aug_insert_random_16_Kyle1668agnews9600bertbaseuncased_style_logs:v0\n"
     ]
    },
    {
     "name": "stderr",
     "output_type": "stream",
     "text": [
      "\u001b[34m\u001b[1mwandb\u001b[0m:   1 of 1 files downloaded.  \n",
      " 88%|████████▊ | 331/375 [05:28<01:20,  1.83s/it]"
     ]
    },
    {
     "name": "stdout",
     "output_type": "stream",
     "text": [
      "Downloading AgNewsTweets_Ablate_Data_Tweets_BERT9600_Substitute --- healthyml/In-Context Domain Transfer Improves Out-of-Domain Robustness/run-ymlu6tfz-test_aug_substitute_random_16_Kyle1668agnews9600bertbaseuncased_style_logs:v0\n"
     ]
    },
    {
     "name": "stderr",
     "output_type": "stream",
     "text": [
      "\u001b[34m\u001b[1mwandb\u001b[0m:   1 of 1 files downloaded.  \n",
      " 89%|████████▊ | 332/375 [05:29<01:08,  1.60s/it]"
     ]
    },
    {
     "name": "stdout",
     "output_type": "stream",
     "text": [
      "Downloading AgNewsTweets_Ablate_Data_Tweets_BERT9600_Translate --- healthyml/In-Context Domain Transfer Improves Out-of-Domain Robustness/run-ymlu6tfz-test_aug_backtranslate_random_16_Kyle1668agnews9600bertbaseuncased_style_logs:v0\n"
     ]
    },
    {
     "name": "stderr",
     "output_type": "stream",
     "text": [
      "\u001b[34m\u001b[1mwandb\u001b[0m:   1 of 1 files downloaded.  \n",
      " 89%|████████▉ | 333/375 [05:30<01:01,  1.47s/it]"
     ]
    },
    {
     "name": "stdout",
     "output_type": "stream",
     "text": [
      "Downloading AgNewsTweets_Ablate_Data_Tweets_BERT9600_Paraphrase --- healthyml/In-Context Domain Transfer Improves Out-of-Domain Robustness/run-ymlu6tfz-test_stabilityaiStableBeluga7b_random_0_Kyle1668agnews9600bertbaseuncased_style_logs:v0\n"
     ]
    },
    {
     "name": "stderr",
     "output_type": "stream",
     "text": [
      "\u001b[34m\u001b[1mwandb\u001b[0m:   1 of 1 files downloaded.  \n",
      " 89%|████████▉ | 334/375 [05:31<00:57,  1.40s/it]"
     ]
    },
    {
     "name": "stdout",
     "output_type": "stream",
     "text": [
      "Downloading AgNewsTweets_Ablate_Data_Tweets_BERT9600_ICR --- healthyml/In-Context Domain Transfer Improves Out-of-Domain Robustness/run-ymlu6tfz-test_stabilityaiStableBeluga7b_random_0_Kyle1668agnews9600bertbaseuncased_style_logs:v0\n"
     ]
    },
    {
     "name": "stderr",
     "output_type": "stream",
     "text": [
      "\u001b[34m\u001b[1mwandb\u001b[0m:   1 of 1 files downloaded.  \n",
      " 89%|████████▉ | 335/375 [05:32<00:47,  1.19s/it]"
     ]
    },
    {
     "name": "stdout",
     "output_type": "stream",
     "text": [
      "Downloading AgNewsTweets_Ablate_Data_Tweets_BERT19200_Insert --- healthyml/In-Context Domain Transfer Improves Out-of-Domain Robustness/run-arskmac6-test_aug_insert_random_16_Kyle1668agnews19200bertbaseuncased_style_logs:v0\n"
     ]
    },
    {
     "name": "stderr",
     "output_type": "stream",
     "text": [
      "\u001b[34m\u001b[1mwandb\u001b[0m:   1 of 1 files downloaded.  \n",
      " 90%|████████▉ | 336/375 [05:44<02:57,  4.54s/it]"
     ]
    },
    {
     "name": "stdout",
     "output_type": "stream",
     "text": [
      "Downloading AgNewsTweets_Ablate_Data_Tweets_BERT19200_Substitute --- healthyml/In-Context Domain Transfer Improves Out-of-Domain Robustness/run-arskmac6-test_aug_substitute_random_16_Kyle1668agnews19200bertbaseuncased_style_logs:v0\n"
     ]
    },
    {
     "name": "stderr",
     "output_type": "stream",
     "text": [
      "\u001b[34m\u001b[1mwandb\u001b[0m:   1 of 1 files downloaded.  \n",
      " 90%|████████▉ | 337/375 [05:46<02:19,  3.66s/it]"
     ]
    },
    {
     "name": "stdout",
     "output_type": "stream",
     "text": [
      "Downloading AgNewsTweets_Ablate_Data_Tweets_BERT19200_Translate --- healthyml/In-Context Domain Transfer Improves Out-of-Domain Robustness/run-arskmac6-test_aug_backtranslate_random_16_Kyle1668agnews19200bertbaseuncased_style_logs:v0\n"
     ]
    },
    {
     "name": "stderr",
     "output_type": "stream",
     "text": [
      "\u001b[34m\u001b[1mwandb\u001b[0m:   1 of 1 files downloaded.  \n",
      " 90%|█████████ | 338/375 [05:47<01:47,  2.89s/it]"
     ]
    },
    {
     "name": "stdout",
     "output_type": "stream",
     "text": [
      "Downloading AgNewsTweets_Ablate_Data_Tweets_BERT19200_Paraphrase --- healthyml/In-Context Domain Transfer Improves Out-of-Domain Robustness/run-arskmac6-test_stabilityaiStableBeluga7b_random_0_Kyle1668agnews19200bertbaseuncased_style_logs:v0\n"
     ]
    },
    {
     "name": "stderr",
     "output_type": "stream",
     "text": [
      "\u001b[34m\u001b[1mwandb\u001b[0m:   1 of 1 files downloaded.  \n",
      " 90%|█████████ | 339/375 [05:48<01:25,  2.38s/it]"
     ]
    },
    {
     "name": "stdout",
     "output_type": "stream",
     "text": [
      "Downloading AgNewsTweets_Ablate_Data_Tweets_BERT19200_ICR --- healthyml/In-Context Domain Transfer Improves Out-of-Domain Robustness/run-arskmac6-test_stabilityaiStableBeluga7b_random_16_Kyle1668agnews19200bertbaseuncased_style_logs:v0\n"
     ]
    },
    {
     "name": "stderr",
     "output_type": "stream",
     "text": [
      "\u001b[34m\u001b[1mwandb\u001b[0m:   1 of 1 files downloaded.  \n",
      " 91%|█████████ | 340/375 [05:50<01:12,  2.06s/it]"
     ]
    },
    {
     "name": "stdout",
     "output_type": "stream",
     "text": [
      "Downloading AgNewsTweets_Ablate_Data_Tweets_BERT38400_Insert --- healthyml/In-Context Domain Transfer Improves Out-of-Domain Robustness/run-6qktrbp8-test_aug_insert_random_16_Kyle1668agnews38400bertbaseuncased_style_logs:v0\n"
     ]
    },
    {
     "name": "stderr",
     "output_type": "stream",
     "text": [
      "\u001b[34m\u001b[1mwandb\u001b[0m:   1 of 1 files downloaded.  \n",
      " 91%|█████████ | 341/375 [05:51<01:04,  1.90s/it]"
     ]
    },
    {
     "name": "stdout",
     "output_type": "stream",
     "text": [
      "Downloading AgNewsTweets_Ablate_Data_Tweets_BERT38400_Substitute --- healthyml/In-Context Domain Transfer Improves Out-of-Domain Robustness/run-6qktrbp8-test_aug_substitute_random_16_Kyle1668agnews38400bertbaseuncased_style_logs:v0\n"
     ]
    },
    {
     "name": "stderr",
     "output_type": "stream",
     "text": [
      "\u001b[34m\u001b[1mwandb\u001b[0m:   1 of 1 files downloaded.  \n",
      " 91%|█████████ | 342/375 [05:52<00:54,  1.66s/it]"
     ]
    },
    {
     "name": "stdout",
     "output_type": "stream",
     "text": [
      "Downloading AgNewsTweets_Ablate_Data_Tweets_BERT38400_Translate --- healthyml/In-Context Domain Transfer Improves Out-of-Domain Robustness/run-6qktrbp8-test_aug_backtranslate_random_16_Kyle1668agnews38400bertbaseuncased_style_logs:v0\n"
     ]
    },
    {
     "name": "stderr",
     "output_type": "stream",
     "text": [
      "\u001b[34m\u001b[1mwandb\u001b[0m:   1 of 1 files downloaded.  \n",
      " 91%|█████████▏| 343/375 [05:53<00:47,  1.49s/it]"
     ]
    },
    {
     "name": "stdout",
     "output_type": "stream",
     "text": [
      "Downloading AgNewsTweets_Ablate_Data_Tweets_BERT38400_Paraphrase --- healthyml/In-Context Domain Transfer Improves Out-of-Domain Robustness/run-6qktrbp8-test_stabilityaiStableBeluga7b_random_0_Kyle1668agnews38400bertbaseuncased_style_logs:v0\n"
     ]
    },
    {
     "name": "stderr",
     "output_type": "stream",
     "text": [
      "\u001b[34m\u001b[1mwandb\u001b[0m:   1 of 1 files downloaded.  \n",
      " 92%|█████████▏| 344/375 [05:55<00:43,  1.41s/it]"
     ]
    },
    {
     "name": "stdout",
     "output_type": "stream",
     "text": [
      "Downloading AgNewsTweets_Ablate_Data_Tweets_BERT38400_ICR --- healthyml/In-Context Domain Transfer Improves Out-of-Domain Robustness/run-6qktrbp8-test_stabilityaiStableBeluga7b_random_16_Kyle1668agnews38400bertbaseuncased_style_logs:v0\n"
     ]
    },
    {
     "name": "stderr",
     "output_type": "stream",
     "text": [
      "\u001b[34m\u001b[1mwandb\u001b[0m:   1 of 1 files downloaded.  \n",
      " 92%|█████████▏| 345/375 [05:56<00:45,  1.52s/it]"
     ]
    },
    {
     "name": "stdout",
     "output_type": "stream",
     "text": [
      "Downloading AgNewsTweets_Ablate_Data_Tweets_BERT76800_Insert --- healthyml/In-Context Domain Transfer Improves Out-of-Domain Robustness/run-seqenj7d-test_aug_insert_random_16_Kyle1668agnews76800bertbaseuncased_style_logs:v0\n"
     ]
    },
    {
     "name": "stderr",
     "output_type": "stream",
     "text": [
      "\u001b[34m\u001b[1mwandb\u001b[0m:   1 of 1 files downloaded.  \n",
      " 92%|█████████▏| 346/375 [05:58<00:41,  1.44s/it]"
     ]
    },
    {
     "name": "stdout",
     "output_type": "stream",
     "text": [
      "Downloading AgNewsTweets_Ablate_Data_Tweets_BERT76800_Substitute --- healthyml/In-Context Domain Transfer Improves Out-of-Domain Robustness/run-seqenj7d-test_aug_substitute_random_16_Kyle1668agnews76800bertbaseuncased_style_logs:v0\n"
     ]
    },
    {
     "name": "stderr",
     "output_type": "stream",
     "text": [
      "\u001b[34m\u001b[1mwandb\u001b[0m:   1 of 1 files downloaded.  \n",
      " 93%|█████████▎| 347/375 [05:59<00:37,  1.33s/it]"
     ]
    },
    {
     "name": "stdout",
     "output_type": "stream",
     "text": [
      "Downloading AgNewsTweets_Ablate_Data_Tweets_BERT76800_Translate --- healthyml/In-Context Domain Transfer Improves Out-of-Domain Robustness/run-seqenj7d-test_aug_backtranslate_random_16_Kyle1668agnews76800bertbaseuncased_style_logs:v0\n"
     ]
    },
    {
     "name": "stderr",
     "output_type": "stream",
     "text": [
      "\u001b[34m\u001b[1mwandb\u001b[0m:   1 of 1 files downloaded.  \n",
      " 93%|█████████▎| 348/375 [06:00<00:34,  1.29s/it]"
     ]
    },
    {
     "name": "stdout",
     "output_type": "stream",
     "text": [
      "Downloading AgNewsTweets_Ablate_Data_Tweets_BERT76800_Paraphrase --- healthyml/In-Context Domain Transfer Improves Out-of-Domain Robustness/run-seqenj7d-test_stabilityaiStableBeluga7b_random_0_Kyle1668agnews76800bertbaseuncased_style_logs:v0\n"
     ]
    },
    {
     "name": "stderr",
     "output_type": "stream",
     "text": [
      "\u001b[34m\u001b[1mwandb\u001b[0m:   1 of 1 files downloaded.  \n",
      " 93%|█████████▎| 349/375 [06:01<00:32,  1.25s/it]"
     ]
    },
    {
     "name": "stdout",
     "output_type": "stream",
     "text": [
      "Downloading AgNewsTweets_Ablate_Data_Tweets_BERT76800_ICR --- healthyml/In-Context Domain Transfer Improves Out-of-Domain Robustness/run-seqenj7d-test_stabilityaiStableBeluga7b_random_16_Kyle1668agnews76800bertbaseuncased_style_logs:v0\n"
     ]
    },
    {
     "name": "stderr",
     "output_type": "stream",
     "text": [
      "\u001b[34m\u001b[1mwandb\u001b[0m:   1 of 1 files downloaded.  \n",
      " 93%|█████████▎| 350/375 [06:02<00:31,  1.27s/it]"
     ]
    },
    {
     "name": "stdout",
     "output_type": "stream",
     "text": [
      "Downloading AgNewsTweets_ID_T5_Insert --- healthyml/In-Context Domain Transfer Improves Out-of-Domain Robustness/run-i2vkae2s-validation_aug_insert_random_16_Kyle1668agnewst5large_style_logs:v0\n"
     ]
    },
    {
     "name": "stderr",
     "output_type": "stream",
     "text": [
      "\u001b[34m\u001b[1mwandb\u001b[0m: Downloading large artifact run-i2vkae2s-validation_aug_insert_random_16_Kyle1668agnewst5large_style_logs:v0, 230.34MB. 1 files... \n",
      "\u001b[34m\u001b[1mwandb\u001b[0m:   1 of 1 files downloaded.  \n",
      "Done. 0:0:3.0\n",
      " 94%|█████████▎| 351/375 [06:06<00:47,  1.99s/it]"
     ]
    },
    {
     "name": "stdout",
     "output_type": "stream",
     "text": [
      "Downloading AgNewsTweets_ID_T5_Substitute --- healthyml/In-Context Domain Transfer Improves Out-of-Domain Robustness/run-i2vkae2s-validation_aug_substitute_random_16_Kyle1668agnewst5large_style_logs:v0\n"
     ]
    },
    {
     "name": "stderr",
     "output_type": "stream",
     "text": [
      "\u001b[34m\u001b[1mwandb\u001b[0m: Downloading large artifact run-i2vkae2s-validation_aug_substitute_random_16_Kyle1668agnewst5large_style_logs:v0, 226.85MB. 1 files... \n",
      "\u001b[34m\u001b[1mwandb\u001b[0m:   1 of 1 files downloaded.  \n",
      "Done. 0:0:2.9\n",
      " 94%|█████████▍| 352/375 [06:10<00:56,  2.47s/it]"
     ]
    },
    {
     "name": "stdout",
     "output_type": "stream",
     "text": [
      "Downloading AgNewsTweets_ID_T5_Translate --- healthyml/In-Context Domain Transfer Improves Out-of-Domain Robustness/run-i2vkae2s-validation_aug_backtranslate_random_16_Kyle1668agnewst5large_style_logs:v0\n"
     ]
    },
    {
     "name": "stderr",
     "output_type": "stream",
     "text": [
      "\u001b[34m\u001b[1mwandb\u001b[0m: Downloading large artifact run-i2vkae2s-validation_aug_backtranslate_random_16_Kyle1668agnewst5large_style_logs:v0, 225.46MB. 1 files... \n",
      "\u001b[34m\u001b[1mwandb\u001b[0m:   1 of 1 files downloaded.  \n",
      "Done. 0:0:2.8\n",
      " 94%|█████████▍| 353/375 [06:14<01:03,  2.90s/it]"
     ]
    },
    {
     "name": "stdout",
     "output_type": "stream",
     "text": [
      "Downloading AgNewsTweets_ID_T5_Paraphrase --- healthyml/In-Context Domain Transfer Improves Out-of-Domain Robustness/run-i2vkae2s-validation_stabilityaiStableBeluga7b_random_0_Kyle1668agnewst5large_style_logs:v0\n"
     ]
    },
    {
     "name": "stderr",
     "output_type": "stream",
     "text": [
      "\u001b[34m\u001b[1mwandb\u001b[0m: Downloading large artifact run-i2vkae2s-validation_stabilityaiStableBeluga7b_random_0_Kyle1668agnewst5large_style_logs:v0, 227.35MB. 1 files... \n",
      "\u001b[34m\u001b[1mwandb\u001b[0m:   1 of 1 files downloaded.  \n",
      "Done. 0:0:3.1\n",
      " 94%|█████████▍| 354/375 [06:17<01:06,  3.18s/it]"
     ]
    },
    {
     "name": "stdout",
     "output_type": "stream",
     "text": [
      "Downloading AgNewsTweets_ID_T5_ICR --- healthyml/In-Context Domain Transfer Improves Out-of-Domain Robustness/run-i2vkae2s-validation_stabilityaiStableBeluga7b_random_16_Kyle1668agnewst5large_style_logs:v0\n"
     ]
    },
    {
     "name": "stderr",
     "output_type": "stream",
     "text": [
      "\u001b[34m\u001b[1mwandb\u001b[0m: Downloading large artifact run-i2vkae2s-validation_stabilityaiStableBeluga7b_random_16_Kyle1668agnewst5large_style_logs:v0, 242.28MB. 1 files... \n",
      "\u001b[34m\u001b[1mwandb\u001b[0m:   1 of 1 files downloaded.  \n",
      "Done. 0:0:3.4\n",
      " 95%|█████████▍| 355/375 [06:21<01:08,  3.45s/it]"
     ]
    },
    {
     "name": "stdout",
     "output_type": "stream",
     "text": [
      "Downloading AgNewsTweets_ID_Falcon_Insert --- healthyml/In-Context Domain Transfer Improves Out-of-Domain Robustness/run-i2vkae2s-validation_aug_insert_random_16_tiiuaefalcon7binstruct_style_logs:v0\n"
     ]
    },
    {
     "name": "stderr",
     "output_type": "stream",
     "text": [
      "\u001b[34m\u001b[1mwandb\u001b[0m: Downloading large artifact run-i2vkae2s-validation_aug_insert_random_16_tiiuaefalcon7binstruct_style_logs:v0, 230.31MB. 1 files... \n",
      "\u001b[34m\u001b[1mwandb\u001b[0m:   1 of 1 files downloaded.  \n",
      "Done. 0:0:3.0\n",
      " 95%|█████████▍| 356/375 [06:25<01:06,  3.52s/it]"
     ]
    },
    {
     "name": "stdout",
     "output_type": "stream",
     "text": [
      "Downloading AgNewsTweets_ID_Falcon_Substitute --- healthyml/In-Context Domain Transfer Improves Out-of-Domain Robustness/run-i2vkae2s-validation_aug_substitute_random_16_tiiuaefalcon7binstruct_style_logs:v0\n"
     ]
    },
    {
     "name": "stderr",
     "output_type": "stream",
     "text": [
      "\u001b[34m\u001b[1mwandb\u001b[0m: Downloading large artifact run-i2vkae2s-validation_aug_substitute_random_16_tiiuaefalcon7binstruct_style_logs:v0, 226.82MB. 1 files... \n",
      "\u001b[34m\u001b[1mwandb\u001b[0m:   1 of 1 files downloaded.  \n",
      "Done. 0:0:3.0\n",
      " 95%|█████████▌| 357/375 [06:29<01:04,  3.57s/it]"
     ]
    },
    {
     "name": "stdout",
     "output_type": "stream",
     "text": [
      "Downloading AgNewsTweets_ID_Falcon_Translate --- healthyml/In-Context Domain Transfer Improves Out-of-Domain Robustness/run-i2vkae2s-validation_aug_backtranslate_random_16_tiiuaefalcon7binstruct_style_logs:v0\n"
     ]
    },
    {
     "name": "stderr",
     "output_type": "stream",
     "text": [
      "\u001b[34m\u001b[1mwandb\u001b[0m: Downloading large artifact run-i2vkae2s-validation_aug_backtranslate_random_16_tiiuaefalcon7binstruct_style_logs:v0, 225.44MB. 1 files... \n",
      "\u001b[34m\u001b[1mwandb\u001b[0m:   1 of 1 files downloaded.  \n",
      "Done. 0:0:3.0\n",
      " 95%|█████████▌| 358/375 [06:33<01:01,  3.61s/it]"
     ]
    },
    {
     "name": "stdout",
     "output_type": "stream",
     "text": [
      "Downloading AgNewsTweets_ID_Falcon_Paraphrase --- healthyml/In-Context Domain Transfer Improves Out-of-Domain Robustness/run-i2vkae2s-validation_stabilityaiStableBeluga7b_random_0_tiiuaefalcon7binstruct_style_logs:v0\n"
     ]
    },
    {
     "name": "stderr",
     "output_type": "stream",
     "text": [
      "\u001b[34m\u001b[1mwandb\u001b[0m: Downloading large artifact run-i2vkae2s-validation_stabilityaiStableBeluga7b_random_0_tiiuaefalcon7binstruct_style_logs:v0, 227.34MB. 1 files... \n",
      "\u001b[34m\u001b[1mwandb\u001b[0m:   1 of 1 files downloaded.  \n",
      "Done. 0:0:3.0\n",
      " 96%|█████████▌| 359/375 [06:36<00:58,  3.64s/it]"
     ]
    },
    {
     "name": "stdout",
     "output_type": "stream",
     "text": [
      "Downloading AgNewsTweets_ID_Falcon_ICR --- healthyml/In-Context Domain Transfer Improves Out-of-Domain Robustness/run-i2vkae2s-validation_stabilityaiStableBeluga7b_random_16_tiiuaefalcon7binstruct_style_logs:v0\n"
     ]
    },
    {
     "name": "stderr",
     "output_type": "stream",
     "text": [
      "\u001b[34m\u001b[1mwandb\u001b[0m: Downloading large artifact run-i2vkae2s-validation_stabilityaiStableBeluga7b_random_16_tiiuaefalcon7binstruct_style_logs:v0, 242.26MB. 1 files... \n",
      "\u001b[34m\u001b[1mwandb\u001b[0m:   1 of 1 files downloaded.  \n",
      "Done. 0:0:4.1\n",
      " 96%|█████████▌| 360/375 [06:41<00:59,  3.98s/it]"
     ]
    },
    {
     "name": "stdout",
     "output_type": "stream",
     "text": [
      "Downloading AgNewsTweets_Tweets_BERT_Insert --- healthyml/In-Context Domain Transfer Improves Out-of-Domain Robustness/run-itucov43-test_aug_insert_random_16_Kyle1668agnewsbertbaseuncased_style_logs:v0\n"
     ]
    },
    {
     "name": "stderr",
     "output_type": "stream",
     "text": [
      "\u001b[34m\u001b[1mwandb\u001b[0m:   1 of 1 files downloaded.  \n",
      " 96%|█████████▋| 361/375 [06:42<00:42,  3.04s/it]"
     ]
    },
    {
     "name": "stdout",
     "output_type": "stream",
     "text": [
      "Downloading AgNewsTweets_Tweets_BERT_Substitute --- healthyml/In-Context Domain Transfer Improves Out-of-Domain Robustness/run-itucov43-test_aug_substitute_random_16_Kyle1668agnewsbertbaseuncased_style_logs:v0\n"
     ]
    },
    {
     "name": "stderr",
     "output_type": "stream",
     "text": [
      "\u001b[34m\u001b[1mwandb\u001b[0m:   1 of 1 files downloaded.  \n",
      " 97%|█████████▋| 362/375 [06:43<00:30,  2.37s/it]"
     ]
    },
    {
     "name": "stdout",
     "output_type": "stream",
     "text": [
      "Downloading AgNewsTweets_Tweets_BERT_Translate --- healthyml/In-Context Domain Transfer Improves Out-of-Domain Robustness/run-itucov43-test_aug_backtranslate_random_16_Kyle1668agnewsbertbaseuncased_style_logs:v0\n"
     ]
    },
    {
     "name": "stderr",
     "output_type": "stream",
     "text": [
      "\u001b[34m\u001b[1mwandb\u001b[0m:   1 of 1 files downloaded.  \n",
      " 97%|█████████▋| 363/375 [06:44<00:26,  2.19s/it]"
     ]
    },
    {
     "name": "stdout",
     "output_type": "stream",
     "text": [
      "Downloading AgNewsTweets_Tweets_BERT_Paraphrase --- healthyml/In-Context Domain Transfer Improves Out-of-Domain Robustness/run-itucov43-test_stabilityaiStableBeluga7b_random_0_Kyle1668agnewsbertbaseuncased_style_logs:v0\n"
     ]
    },
    {
     "name": "stderr",
     "output_type": "stream",
     "text": [
      "\u001b[34m\u001b[1mwandb\u001b[0m:   1 of 1 files downloaded.  \n",
      " 97%|█████████▋| 364/375 [06:45<00:20,  1.84s/it]"
     ]
    },
    {
     "name": "stdout",
     "output_type": "stream",
     "text": [
      "Downloading AgNewsTweets_Tweets_BERT_ICR --- healthyml/In-Context Domain Transfer Improves Out-of-Domain Robustness/run-itucov43-test_stabilityaiStableBeluga7b_random_16_Kyle1668agnewsbertbaseuncased_style_logs:v0\n"
     ]
    },
    {
     "name": "stderr",
     "output_type": "stream",
     "text": [
      "\u001b[34m\u001b[1mwandb\u001b[0m:   1 of 1 files downloaded.  \n",
      " 97%|█████████▋| 365/375 [06:46<00:15,  1.51s/it]"
     ]
    },
    {
     "name": "stdout",
     "output_type": "stream",
     "text": [
      "Downloading AgNewsTweets_Tweets_T5_Insert --- healthyml/In-Context Domain Transfer Improves Out-of-Domain Robustness/run-xdipkawo-test_aug_insert_random_16_Kyle1668agnewst5large_style_logs:v0\n"
     ]
    },
    {
     "name": "stderr",
     "output_type": "stream",
     "text": [
      "\u001b[34m\u001b[1mwandb\u001b[0m: Downloading large artifact run-xdipkawo-test_aug_insert_random_16_Kyle1668agnewst5large_style_logs:v0, 228.30MB. 1 files... \n",
      "\u001b[34m\u001b[1mwandb\u001b[0m:   1 of 1 files downloaded.  \n",
      "Done. 0:0:4.7\n",
      " 98%|█████████▊| 366/375 [06:52<00:24,  2.76s/it]"
     ]
    },
    {
     "name": "stdout",
     "output_type": "stream",
     "text": [
      "Downloading AgNewsTweets_Tweets_T5_Substitute --- healthyml/In-Context Domain Transfer Improves Out-of-Domain Robustness/run-xdipkawo-test_aug_substitute_random_16_Kyle1668agnewst5large_style_logs:v0\n"
     ]
    },
    {
     "name": "stderr",
     "output_type": "stream",
     "text": [
      "\u001b[34m\u001b[1mwandb\u001b[0m: Downloading large artifact run-xdipkawo-test_aug_substitute_random_16_Kyle1668agnewst5large_style_logs:v0, 224.52MB. 1 files... \n",
      "\u001b[34m\u001b[1mwandb\u001b[0m:   1 of 1 files downloaded.  \n",
      "Done. 0:0:3.8\n",
      " 98%|█████████▊| 367/375 [06:56<00:26,  3.26s/it]"
     ]
    },
    {
     "name": "stdout",
     "output_type": "stream",
     "text": [
      "Downloading AgNewsTweets_Tweets_T5_Translate --- healthyml/In-Context Domain Transfer Improves Out-of-Domain Robustness/run-xdipkawo-test_aug_backtranslate_random_16_Kyle1668agnewst5large_style_logs:v0\n"
     ]
    },
    {
     "name": "stderr",
     "output_type": "stream",
     "text": [
      "\u001b[34m\u001b[1mwandb\u001b[0m: Downloading large artifact run-xdipkawo-test_aug_backtranslate_random_16_Kyle1668agnewst5large_style_logs:v0, 224.03MB. 1 files... \n",
      "\u001b[34m\u001b[1mwandb\u001b[0m:   1 of 1 files downloaded.  \n",
      "Done. 0:0:4.8\n",
      " 98%|█████████▊| 368/375 [07:02<00:27,  3.92s/it]"
     ]
    },
    {
     "name": "stdout",
     "output_type": "stream",
     "text": [
      "Downloading AgNewsTweets_Tweets_T5_Paraphrase --- healthyml/In-Context Domain Transfer Improves Out-of-Domain Robustness/run-xdipkawo-test_stabilityaiStableBeluga7b_random_0_Kyle1668agnewst5large_style_logs:v0\n"
     ]
    },
    {
     "name": "stderr",
     "output_type": "stream",
     "text": [
      "\u001b[34m\u001b[1mwandb\u001b[0m: Downloading large artifact run-xdipkawo-test_stabilityaiStableBeluga7b_random_0_Kyle1668agnewst5large_style_logs:v0, 227.69MB. 1 files... \n",
      "\u001b[34m\u001b[1mwandb\u001b[0m:   1 of 1 files downloaded.  \n",
      "Done. 0:0:3.6\n",
      " 98%|█████████▊| 369/375 [07:06<00:24,  4.05s/it]"
     ]
    },
    {
     "name": "stdout",
     "output_type": "stream",
     "text": [
      "Downloading AgNewsTweets_Tweets_T5_ICR --- healthyml/In-Context Domain Transfer Improves Out-of-Domain Robustness/run-xdipkawo-test_stabilityaiStableBeluga7b_random_16_Kyle1668agnewst5large_style_logs:v0\n"
     ]
    },
    {
     "name": "stderr",
     "output_type": "stream",
     "text": [
      "\u001b[34m\u001b[1mwandb\u001b[0m: Downloading large artifact run-xdipkawo-test_stabilityaiStableBeluga7b_random_16_Kyle1668agnewst5large_style_logs:v0, 243.80MB. 1 files... \n",
      "\u001b[34m\u001b[1mwandb\u001b[0m:   1 of 1 files downloaded.  \n",
      "Done. 0:0:3.8\n",
      " 99%|█████████▊| 370/375 [07:11<00:20,  4.18s/it]"
     ]
    },
    {
     "name": "stdout",
     "output_type": "stream",
     "text": [
      "Downloading AgNewsTweets_Tweets_Falcon_Insert --- healthyml/In-Context Domain Transfer Improves Out-of-Domain Robustness/run-xdipkawo-test_aug_insert_random_16_tiiuaefalcon7binstruct_style_logs:v0\n"
     ]
    },
    {
     "name": "stderr",
     "output_type": "stream",
     "text": [
      "\u001b[34m\u001b[1mwandb\u001b[0m: Downloading large artifact run-xdipkawo-test_aug_insert_random_16_tiiuaefalcon7binstruct_style_logs:v0, 228.25MB. 1 files... \n",
      "\u001b[34m\u001b[1mwandb\u001b[0m:   1 of 1 files downloaded.  \n",
      "Done. 0:0:3.7\n",
      " 99%|█████████▉| 371/375 [07:15<00:17,  4.29s/it]"
     ]
    },
    {
     "name": "stdout",
     "output_type": "stream",
     "text": [
      "Downloading AgNewsTweets_Tweets_Falcon_Substitute --- healthyml/In-Context Domain Transfer Improves Out-of-Domain Robustness/run-xdipkawo-test_aug_substitute_random_16_tiiuaefalcon7binstruct_style_logs:v0\n"
     ]
    },
    {
     "name": "stderr",
     "output_type": "stream",
     "text": [
      "\u001b[34m\u001b[1mwandb\u001b[0m: Downloading large artifact run-xdipkawo-test_aug_substitute_random_16_tiiuaefalcon7binstruct_style_logs:v0, 224.47MB. 1 files... \n",
      "\u001b[34m\u001b[1mwandb\u001b[0m:   1 of 1 files downloaded.  \n",
      "Done. 0:0:3.2\n",
      " 99%|█████████▉| 372/375 [07:19<00:12,  4.15s/it]"
     ]
    },
    {
     "name": "stdout",
     "output_type": "stream",
     "text": [
      "Downloading AgNewsTweets_Tweets_Falcon_Translate --- healthyml/In-Context Domain Transfer Improves Out-of-Domain Robustness/run-xdipkawo-test_aug_backtranslate_random_16_tiiuaefalcon7binstruct_style_logs:v0\n"
     ]
    },
    {
     "name": "stderr",
     "output_type": "stream",
     "text": [
      "\u001b[34m\u001b[1mwandb\u001b[0m: Downloading large artifact run-xdipkawo-test_aug_backtranslate_random_16_tiiuaefalcon7binstruct_style_logs:v0, 224.00MB. 1 files... \n",
      "\u001b[34m\u001b[1mwandb\u001b[0m:   1 of 1 files downloaded.  \n",
      "Done. 0:0:2.9\n",
      " 99%|█████████▉| 373/375 [07:23<00:07,  3.98s/it]"
     ]
    },
    {
     "name": "stdout",
     "output_type": "stream",
     "text": [
      "Downloading AgNewsTweets_Tweets_Falcon_Paraphrase --- healthyml/In-Context Domain Transfer Improves Out-of-Domain Robustness/run-xdipkawo-test_stabilityaiStableBeluga7b_random_0_tiiuaefalcon7binstruct_style_logs:v0\n"
     ]
    },
    {
     "name": "stderr",
     "output_type": "stream",
     "text": [
      "\u001b[34m\u001b[1mwandb\u001b[0m: Downloading large artifact run-xdipkawo-test_stabilityaiStableBeluga7b_random_0_tiiuaefalcon7binstruct_style_logs:v0, 227.67MB. 1 files... \n",
      "\u001b[34m\u001b[1mwandb\u001b[0m:   1 of 1 files downloaded.  \n",
      "Done. 0:0:3.6\n",
      "100%|██████████| 375/375 [07:27<00:00,  1.19s/it]"
     ]
    },
    {
     "name": "stdout",
     "output_type": "stream",
     "text": [
      "\n",
      "Missing tables: ['BOSS_Sentiment_ID_BERT_Substitute', 'BOSS_Sentiment_ID_BERT_Translate', 'BOSS_Sentiment_ID_BERT_Paraphrase', 'BOSS_Sentiment_Ablate_Data_ID_BERT1500_Insert', 'BOSS_Sentiment_Ablate_Data_ID_BERT1500_Substitute', 'BOSS_Sentiment_Ablate_Data_ID_BERT1500_Translate', 'BOSS_Sentiment_Ablate_Data_ID_BERT1500_Paraphrase', 'BOSS_Sentiment_Ablate_Data_ID_BERT1500_ICR', 'BOSS_Sentiment_Ablate_Data_ID_BERT3000_Insert', 'BOSS_Sentiment_Ablate_Data_ID_BERT3000_Substitute', 'BOSS_Sentiment_Ablate_Data_ID_BERT3000_Translate', 'BOSS_Sentiment_Ablate_Data_ID_BERT3000_Paraphrase', 'BOSS_Sentiment_Ablate_Data_ID_BERT3000_ICR', 'BOSS_Sentiment_Ablate_Data_ID_BERT6000_Insert', 'BOSS_Sentiment_Ablate_Data_ID_BERT6000_Substitute', 'BOSS_Sentiment_Ablate_Data_ID_BERT6000_Translate', 'BOSS_Sentiment_Ablate_Data_ID_BERT6000_Paraphrase', 'BOSS_Sentiment_Ablate_Data_ID_BERT6000_ICR', 'BOSS_Sentiment_Ablate_Data_ID_BERT120000_Insert', 'BOSS_Sentiment_Ablate_Data_ID_BERT120000_Substitute', 'BOSS_Sentiment_Ablate_Data_ID_BERT120000_Translate', 'BOSS_Sentiment_Ablate_Data_ID_BERT120000_Paraphrase', 'BOSS_Sentiment_Ablate_Data_ID_BERT120000_ICR', 'BOSS_Sentiment_Ablate_Data_ID_BERT24000_Insert', 'BOSS_Sentiment_Ablate_Data_ID_BERT24000_Substitute', 'BOSS_Sentiment_Ablate_Data_ID_BERT24000_Translate', 'BOSS_Sentiment_Ablate_Data_ID_BERT24000_Paraphrase', 'BOSS_Sentiment_Ablate_Data_ID_BERT24000_ICR', 'BOSS_Sentiment_ID_T5_Paraphrase', 'BOSS_Sentiment_ID_T5_ICR', 'BOSS_Sentiment_ID_Falcon_Paraphrase', 'BOSS_Sentiment_ID_Falcon_ICR', 'BOSS_Toxicity_ID_BERT_Insert', 'BOSS_Toxicity_ID_BERT_Substitute', 'BOSS_Toxicity_ID_BERT_Translate', 'BOSS_Toxicity_ID_BERT_Paraphrase', 'BOSS_Toxicity_Ablate_Data_ID_BERT3000_Insert', 'BOSS_Toxicity_Ablate_Data_ID_BERT3000_Substitute', 'BOSS_Toxicity_Ablate_Data_ID_BERT3000_Translate', 'BOSS_Toxicity_Ablate_Data_ID_BERT3000_Paraphrase', 'BOSS_Toxicity_Ablate_Data_ID_BERT3000_ICR', 'BOSS_Toxicity_Ablate_Data_ID_BERT6000_Insert', 'BOSS_Toxicity_Ablate_Data_ID_BERT6000_Substitute', 'BOSS_Toxicity_Ablate_Data_ID_BERT6000_Translate', 'BOSS_Toxicity_Ablate_Data_ID_BERT6000_Paraphrase', 'BOSS_Toxicity_Ablate_Data_ID_BERT6000_ICR', 'BOSS_Toxicity_Ablate_Data_ID_BERT12000_Insert', 'BOSS_Toxicity_Ablate_Data_ID_BERT12000_Substitute', 'BOSS_Toxicity_Ablate_Data_ID_BERT12000_Translate', 'BOSS_Toxicity_Ablate_Data_ID_BERT12000_Paraphrase', 'BOSS_Toxicity_Ablate_Data_ID_BERT12000_ICR', 'BOSS_Toxicity_Ablate_Data_ID_BERT24000_Insert', 'BOSS_Toxicity_Ablate_Data_ID_BERT24000_Substitute', 'BOSS_Toxicity_Ablate_Data_ID_BERT24000_Translate', 'BOSS_Toxicity_Ablate_Data_ID_BERT24000_Paraphrase', 'BOSS_Toxicity_Ablate_Data_ID_BERT24000_ICR', 'BOSS_Toxicity_Ablate_Data_ID_BERT48000_Insert', 'BOSS_Toxicity_Ablate_Data_ID_BERT48000_Substitute', 'BOSS_Toxicity_Ablate_Data_ID_BERT48000_Translate', 'BOSS_Toxicity_Ablate_Data_ID_BERT48000_Paraphrase', 'BOSS_Toxicity_Ablate_Data_ID_BERT48000_ICR', 'BOSS_Toxicity_ID_T5_Insert', 'BOSS_Toxicity_ID_T5_Substitute', 'BOSS_Toxicity_ID_T5_Translate', 'BOSS_Toxicity_ID_T5_Paraphrase', 'BOSS_Toxicity_ID_T5_ICR', 'BOSS_Toxicity_ID_Falcon_Substitute', 'BOSS_Toxicity_ID_Falcon_Translate', 'BOSS_Toxicity_ID_Falcon_Paraphrase', 'BOSS_Toxicity_ID_Falcon_ICR', 'BOSS_Toxicity_ImplicitHate_Falcon_Paraphrase', 'BOSS_Toxicity_ImplicitHate_Falcon_ICR', 'AgNewsTweets_Tweets_Falcon_ICR']\n",
      "{\n",
      "    \"BOSS_Sentiment_Ablate_Data_Dynasent_BERT120000_Substitute\": \"data/BOSS_Sentiment_Ablate_Data_Dynasent_BERT120000_Substitute/dynasent_aug_substitute_random_16_Kyle1668/boss-sentiment-12000-bert-base-uncased_style_logs.table.json\",\n",
      "    \"BOSS_Sentiment_Ablate_Data_Dynasent_BERT120000_Translate\": \"data/BOSS_Sentiment_Ablate_Data_Dynasent_BERT120000_Translate/dynasent_aug_back-translate_random_16_Kyle1668/boss-sentiment-12000-bert-base-uncased_style_logs.table.json\",\n",
      "    \"BOSS_Sentiment_Ablate_Data_Dynasent_BERT120000_Paraphrase\": \"data/BOSS_Sentiment_Ablate_Data_Dynasent_BERT120000_Paraphrase/dynasent_stabilityai/StableBeluga-7b_random_0_Kyle1668/boss-sentiment-12000-bert-base-uncased_style_logs.table.json\",\n",
      "    \"BOSS_Sentiment_Ablate_Data_Dynasent_BERT120000_ICR\": \"data/BOSS_Sentiment_Ablate_Data_Dynasent_BERT120000_ICR/dynasent_stabilityai/StableBeluga-7b_random_16_Kyle1668/boss-sentiment-12000-bert-base-uncased_style_logs.table.json\",\n",
      "    \"BOSS_Sentiment_Ablate_Data_Dynasent_BERT24000_Insert\": \"data/BOSS_Sentiment_Ablate_Data_Dynasent_BERT24000_Insert/dynasent_aug_insert_random_16_Kyle1668/boss-sentiment-24000-bert-base-uncased_style_logs.table.json\",\n",
      "    \"BOSS_Sentiment_Ablate_Data_Dynasent_BERT24000_Substitute\": \"data/BOSS_Sentiment_Ablate_Data_Dynasent_BERT24000_Substitute/dynasent_aug_substitute_random_16_Kyle1668/boss-sentiment-24000-bert-base-uncased_style_logs.table.json\",\n",
      "    \"BOSS_Sentiment_Ablate_Data_Dynasent_BERT24000_Translate\": \"data/BOSS_Sentiment_Ablate_Data_Dynasent_BERT24000_Translate/dynasent_aug_back-translate_random_16_Kyle1668/boss-sentiment-24000-bert-base-uncased_style_logs.table.json\",\n",
      "    \"BOSS_Sentiment_Ablate_Data_Dynasent_BERT24000_Paraphrase\": \"data/BOSS_Sentiment_Ablate_Data_Dynasent_BERT24000_Paraphrase/dynasent_stabilityai/StableBeluga-7b_random_0_Kyle1668/boss-sentiment-24000-bert-base-uncased_style_logs.table.json\",\n",
      "    \"BOSS_Sentiment_Ablate_Data_Dynasent_BERT24000_ICR\": \"data/BOSS_Sentiment_Ablate_Data_Dynasent_BERT24000_ICR/dynasent_stabilityai/StableBeluga-7b_random_16_Kyle1668/boss-sentiment-24000-bert-base-uncased_style_logs.table.json\",\n",
      "    \"BOSS_Sentiment_Dynasent_T5_Insert\": \"data/BOSS_Sentiment_Dynasent_T5_Insert/dynasent_aug_insert_random_16_Kyle1668/boss-sentiment-t5-large_style_logs.table.json\",\n",
      "    \"BOSS_Sentiment_Dynasent_T5_Substitute\": \"data/BOSS_Sentiment_Dynasent_T5_Substitute/dynasent_aug_substitute_random_16_Kyle1668/boss-sentiment-t5-large_style_logs.table.json\",\n",
      "    \"BOSS_Sentiment_Dynasent_T5_Translate\": \"data/BOSS_Sentiment_Dynasent_T5_Translate/dynasent_aug_back-translate_random_16_Kyle1668/boss-sentiment-t5-large_style_logs.table.json\",\n",
      "    \"BOSS_Sentiment_Dynasent_T5_Paraphrase\": \"data/BOSS_Sentiment_Dynasent_T5_Paraphrase/dynasent_stabilityai/StableBeluga-7b_random_0_Kyle1668/boss-sentiment-t5-large_style_logs.table.json\",\n",
      "    \"BOSS_Sentiment_Dynasent_T5_ICR\": \"data/BOSS_Sentiment_Dynasent_T5_ICR/dynasent_stabilityai/StableBeluga-7b_random_16_Kyle1668/boss-sentiment-t5-large_style_logs.table.json\",\n",
      "    \"BOSS_Sentiment_Dynasent_Falcon_Insert\": \"data/BOSS_Sentiment_Dynasent_Falcon_Insert/dynasent_aug_insert_random_16_tiiuae/falcon-7b-instruct_style_logs.table.json\",\n",
      "    \"BOSS_Sentiment_Dynasent_Falcon_Substitute\": \"data/BOSS_Sentiment_Dynasent_Falcon_Substitute/dynasent_aug_substitute_random_16_tiiuae/falcon-7b-instruct_style_logs.table.json\",\n",
      "    \"BOSS_Sentiment_Dynasent_Falcon_Translate\": \"data/BOSS_Sentiment_Dynasent_Falcon_Translate/dynasent_aug_back-translate_random_16_tiiuae/falcon-7b-instruct_style_logs.table.json\",\n",
      "    \"BOSS_Sentiment_Dynasent_Falcon_Paraphrase\": \"data/BOSS_Sentiment_Dynasent_Falcon_Paraphrase/dynasent_stabilityai/StableBeluga-7b_random_0_tiiuae/falcon-7b-instruct_style_logs.table.json\",\n",
      "    \"BOSS_Sentiment_Dynasent_Falcon_ICR\": \"data/BOSS_Sentiment_Dynasent_Falcon_ICR/dynasent_stabilityai/StableBeluga-7b_random_16_tiiuae/falcon-7b-instruct_style_logs.table.json\",\n",
      "    \"BOSS_Toxicity_ID_BERT_ICR\": \"data/BOSS_Toxicity_ID_BERT_ICR/validation_stabilityai/StableBeluga-7b_random_16_Kyle1668/boss-toxicity-bert-base-uncased_style_logs.table.json\",\n",
      "    \"BOSS_Toxicity_ID_Falcon_Insert\": \"data/BOSS_Toxicity_ID_Falcon_Insert/validation_aug_insert_random_16_tiiuae/falcon-7b-instruct_style_logs.table.json\",\n",
      "    \"BOSS_Toxicity_Toxigen_BERT_Insert\": \"data/BOSS_Toxicity_Toxigen_BERT_Insert/toxigen_aug_insert_random_16_Kyle1668/boss-toxicity-bert-base-uncased_style_logs.table.json\",\n",
      "    \"BOSS_Toxicity_Toxigen_BERT_Substitute\": \"data/BOSS_Toxicity_Toxigen_BERT_Substitute/toxigen_aug_substitute_random_16_Kyle1668/boss-toxicity-bert-base-uncased_style_logs.table.json\",\n",
      "    \"BOSS_Toxicity_Toxigen_BERT_Translate\": \"data/BOSS_Toxicity_Toxigen_BERT_Translate/toxigen_aug_back-translate_random_16_Kyle1668/boss-toxicity-bert-base-uncased_style_logs.table.json\",\n",
      "    \"BOSS_Toxicity_Toxigen_BERT_Paraphrase\": \"data/BOSS_Toxicity_Toxigen_BERT_Paraphrase/toxigen_stabilityai/StableBeluga-7b_random_0_Kyle1668/boss-toxicity-bert-base-uncased_style_logs.table.json\",\n",
      "    \"BOSS_Toxicity_Toxigen_BERT_ICR\": \"data/BOSS_Toxicity_Toxigen_BERT_ICR/toxigen_stabilityai/StableBeluga-7b_random_16_Kyle1668/boss-toxicity-bert-base-uncased_style_logs.table.json\",\n",
      "    \"BOSS_Toxicity_Ablate_Data_Toxigen_BERT3000_Insert\": \"data/BOSS_Toxicity_Ablate_Data_Toxigen_BERT3000_Insert/toxigen_aug_insert_random_16_Kyle1668/boss-toxicity-6000-bert-base-uncased_style_logs.table.json\",\n",
      "    \"BOSS_Toxicity_Ablate_Data_Toxigen_BERT3000_Substitute\": \"data/BOSS_Toxicity_Ablate_Data_Toxigen_BERT3000_Substitute/toxigen_aug_substitute_random_16_Kyle1668/boss-toxicity-6000-bert-base-uncased_style_logs.table.json\",\n",
      "    \"BOSS_Toxicity_Ablate_Data_Toxigen_BERT3000_Translate\": \"data/BOSS_Toxicity_Ablate_Data_Toxigen_BERT3000_Translate/toxigen_aug_back-translate_random_16_Kyle1668/boss-toxicity-6000-bert-base-uncased_style_logs.table.json\",\n",
      "    \"BOSS_Toxicity_Ablate_Data_Toxigen_BERT3000_Paraphrase\": \"data/BOSS_Toxicity_Ablate_Data_Toxigen_BERT3000_Paraphrase/toxigen_stabilityai/StableBeluga-7b_random_0_Kyle1668/boss-toxicity-6000-bert-base-uncased_style_logs.table.json\",\n",
      "    \"BOSS_Toxicity_Ablate_Data_Toxigen_BERT3000_ICR\": \"data/BOSS_Toxicity_Ablate_Data_Toxigen_BERT3000_ICR/toxigen_stabilityai/StableBeluga-7b_random_16_Kyle1668/boss-toxicity-6000-bert-base-uncased_style_logs.table.json\",\n",
      "    \"BOSS_Toxicity_Ablate_Data_Toxigen_BERT6000_Insert\": \"data/BOSS_Toxicity_Ablate_Data_Toxigen_BERT6000_Insert/toxigen_aug_insert_random_16_Kyle1668/boss-toxicity-3000-bert-base-uncased_style_logs.table.json\",\n",
      "    \"BOSS_Toxicity_Ablate_Data_Toxigen_BERT6000_Substitute\": \"data/BOSS_Toxicity_Ablate_Data_Toxigen_BERT6000_Substitute/toxigen_aug_substitute_random_16_Kyle1668/boss-toxicity-3000-bert-base-uncased_style_logs.table.json\",\n",
      "    \"BOSS_Toxicity_Ablate_Data_Toxigen_BERT6000_Translate\": \"data/BOSS_Toxicity_Ablate_Data_Toxigen_BERT6000_Translate/toxigen_aug_back-translate_random_16_Kyle1668/boss-toxicity-3000-bert-base-uncased_style_logs.table.json\",\n",
      "    \"BOSS_Toxicity_Ablate_Data_Toxigen_BERT6000_Paraphrase\": \"data/BOSS_Toxicity_Ablate_Data_Toxigen_BERT6000_Paraphrase/toxigen_stabilityai/StableBeluga-7b_random_0_Kyle1668/boss-toxicity-3000-bert-base-uncased_style_logs.table.json\",\n",
      "    \"BOSS_Toxicity_Ablate_Data_Toxigen_BERT6000_ICR\": \"data/BOSS_Toxicity_Ablate_Data_Toxigen_BERT6000_ICR/toxigen_stabilityai/StableBeluga-7b_random_16_Kyle1668/boss-toxicity-3000-bert-base-uncased_style_logs.table.json\",\n",
      "    \"BOSS_Toxicity_Ablate_Data_Toxigen_BERT12000_Insert\": \"data/BOSS_Toxicity_Ablate_Data_Toxigen_BERT12000_Insert/toxigen_aug_insert_random_16_Kyle1668/boss-toxicity-12000-bert-base-uncased_style_logs.table.json\",\n",
      "    \"BOSS_Toxicity_Ablate_Data_Toxigen_BERT12000_Substitute\": \"data/BOSS_Toxicity_Ablate_Data_Toxigen_BERT12000_Substitute/toxigen_aug_substitute_random_16_Kyle1668/boss-toxicity-12000-bert-base-uncased_style_logs.table.json\",\n",
      "    \"BOSS_Toxicity_Ablate_Data_Toxigen_BERT12000_Translate\": \"data/BOSS_Toxicity_Ablate_Data_Toxigen_BERT12000_Translate/toxigen_aug_back-translate_random_16_Kyle1668/boss-toxicity-12000-bert-base-uncased_style_logs.table.json\",\n",
      "    \"BOSS_Toxicity_Ablate_Data_Toxigen_BERT12000_Paraphrase\": \"data/BOSS_Toxicity_Ablate_Data_Toxigen_BERT12000_Paraphrase/toxigen_stabilityai/StableBeluga-7b_random_0_Kyle1668/boss-toxicity-12000-bert-base-uncased_style_logs.table.json\",\n",
      "    \"BOSS_Toxicity_Ablate_Data_Toxigen_BERT12000_ICR\": \"data/BOSS_Toxicity_Ablate_Data_Toxigen_BERT12000_ICR/toxigen_stabilityai/StableBeluga-7b_random_16_Kyle1668/boss-toxicity-12000-bert-base-uncased_style_logs.table.json\",\n",
      "    \"BOSS_Toxicity_Ablate_Data_Toxigen_BERT24000_Insert\": \"data/BOSS_Toxicity_Ablate_Data_Toxigen_BERT24000_Insert/toxigen_aug_insert_random_16_Kyle1668/boss-toxicity-24000-bert-base-uncased_style_logs.table.json\",\n",
      "    \"BOSS_Toxicity_Ablate_Data_Toxigen_BERT24000_Substitute\": \"data/BOSS_Toxicity_Ablate_Data_Toxigen_BERT24000_Substitute/toxigen_aug_substitute_random_16_Kyle1668/boss-toxicity-24000-bert-base-uncased_style_logs.table.json\",\n",
      "    \"BOSS_Toxicity_Ablate_Data_Toxigen_BERT24000_Translate\": \"data/BOSS_Toxicity_Ablate_Data_Toxigen_BERT24000_Translate/toxigen_aug_back-translate_random_16_Kyle1668/boss-toxicity-24000-bert-base-uncased_style_logs.table.json\",\n",
      "    \"BOSS_Toxicity_Ablate_Data_Toxigen_BERT24000_Paraphrase\": \"data/BOSS_Toxicity_Ablate_Data_Toxigen_BERT24000_Paraphrase/toxigen_stabilityai/StableBeluga-7b_random_0_Kyle1668/boss-toxicity-24000-bert-base-uncased_style_logs.table.json\",\n",
      "    \"BOSS_Toxicity_Ablate_Data_Toxigen_BERT24000_ICR\": \"data/BOSS_Toxicity_Ablate_Data_Toxigen_BERT24000_ICR/toxigen_stabilityai/StableBeluga-7b_random_16_Kyle1668/boss-toxicity-24000-bert-base-uncased_style_logs.table.json\",\n",
      "    \"BOSS_Toxicity_Ablate_Data_Toxigen_BERT48000_Insert\": \"data/BOSS_Toxicity_Ablate_Data_Toxigen_BERT48000_Insert/toxigen_aug_insert_random_16_Kyle1668/boss-toxicity-48000-bert-base-uncased_style_logs.table.json\",\n",
      "    \"BOSS_Toxicity_Ablate_Data_Toxigen_BERT48000_Substitute\": \"data/BOSS_Toxicity_Ablate_Data_Toxigen_BERT48000_Substitute/toxigen_aug_substitute_random_16_Kyle1668/boss-toxicity-48000-bert-base-uncased_style_logs.table.json\",\n",
      "    \"BOSS_Toxicity_Ablate_Data_Toxigen_BERT48000_Translate\": \"data/BOSS_Toxicity_Ablate_Data_Toxigen_BERT48000_Translate/toxigen_aug_back-translate_random_16_Kyle1668/boss-toxicity-48000-bert-base-uncased_style_logs.table.json\",\n",
      "    \"BOSS_Toxicity_Ablate_Data_Toxigen_BERT48000_Paraphrase\": \"data/BOSS_Toxicity_Ablate_Data_Toxigen_BERT48000_Paraphrase/toxigen_stabilityai/StableBeluga-7b_random_0_Kyle1668/boss-toxicity-48000-bert-base-uncased_style_logs.table.json\",\n",
      "    \"BOSS_Toxicity_Ablate_Data_Toxigen_BERT48000_ICR\": \"data/BOSS_Toxicity_Ablate_Data_Toxigen_BERT48000_ICR/toxigen_stabilityai/StableBeluga-7b_random_16_Kyle1668/boss-toxicity-48000-bert-base-uncased_style_logs.table.json\",\n",
      "    \"BOSS_Toxicity_Toxigen_T5_Insert\": \"data/BOSS_Toxicity_Toxigen_T5_Insert/toxigen_aug_insert_random_16_Kyle1668/boss-toxicity-t5-large_style_logs.table.json\",\n",
      "    \"BOSS_Toxicity_Toxigen_T5_Substitute\": \"data/BOSS_Toxicity_Toxigen_T5_Substitute/toxigen_aug_substitute_random_16_Kyle1668/boss-toxicity-t5-large_style_logs.table.json\",\n",
      "    \"BOSS_Toxicity_Toxigen_T5_Translate\": \"data/BOSS_Toxicity_Toxigen_T5_Translate/toxigen_aug_back-translate_random_16_Kyle1668/boss-toxicity-t5-large_style_logs.table.json\",\n",
      "    \"BOSS_Toxicity_Toxigen_T5_Paraphrase\": \"data/BOSS_Toxicity_Toxigen_T5_Paraphrase/toxigen_stabilityai/StableBeluga-7b_random_0_Kyle1668/boss-toxicity-t5-large_style_logs.table.json\",\n",
      "    \"BOSS_Toxicity_Toxigen_T5_ICR\": \"data/BOSS_Toxicity_Toxigen_T5_ICR/toxigen_stabilityai/StableBeluga-7b_random_16_Kyle1668/boss-toxicity-t5-large_style_logs.table.json\",\n",
      "    \"BOSS_Toxicity_Toxigen_Falcon_Insert\": \"data/BOSS_Toxicity_Toxigen_Falcon_Insert/toxigen_aug_insert_random_16_tiiuae/falcon-7b-instruct_style_logs.table.json\",\n",
      "    \"BOSS_Toxicity_Toxigen_Falcon_Substitute\": \"data/BOSS_Toxicity_Toxigen_Falcon_Substitute/toxigen_aug_substitute_random_16_tiiuae/falcon-7b-instruct_style_logs.table.json\",\n",
      "    \"BOSS_Toxicity_Toxigen_Falcon_Translate\": \"data/BOSS_Toxicity_Toxigen_Falcon_Translate/toxigen_aug_back-translate_random_16_tiiuae/falcon-7b-instruct_style_logs.table.json\",\n",
      "    \"BOSS_Toxicity_Toxigen_Falcon_Paraphrase\": \"data/BOSS_Toxicity_Toxigen_Falcon_Paraphrase/toxigen_stabilityai/StableBeluga-7b_random_0_tiiuae/falcon-7b-instruct_style_logs.table.json\",\n",
      "    \"BOSS_Toxicity_Toxigen_Falcon_ICR\": \"data/BOSS_Toxicity_Toxigen_Falcon_ICR/toxigen_stabilityai/StableBeluga-7b_random_16_tiiuae/falcon-7b-instruct_style_logs.table.json\",\n",
      "    \"BOSS_Toxicity_ImplicitHate_BERT_Insert\": \"data/BOSS_Toxicity_ImplicitHate_BERT_Insert/implicit_hate_aug_insert_random_16_Kyle1668/boss-toxicity-bert-base-uncased_style_logs.table.json\",\n",
      "    \"BOSS_Toxicity_ImplicitHate_BERT_Substitute\": \"data/BOSS_Toxicity_ImplicitHate_BERT_Substitute/implicit_hate_aug_substitute_random_16_Kyle1668/boss-toxicity-bert-base-uncased_style_logs.table.json\",\n",
      "    \"BOSS_Toxicity_ImplicitHate_BERT_Translate\": \"data/BOSS_Toxicity_ImplicitHate_BERT_Translate/implicit_hate_aug_back-translate_random_16_Kyle1668/boss-toxicity-bert-base-uncased_style_logs.table.json\",\n",
      "    \"BOSS_Toxicity_ImplicitHate_BERT_Paraphrase\": \"data/BOSS_Toxicity_ImplicitHate_BERT_Paraphrase/implicit_hate_stabilityai/StableBeluga-7b_random_0_Kyle1668/boss-toxicity-bert-base-uncased_style_logs.table.json\",\n",
      "    \"BOSS_Toxicity_ImplicitHate_BERT_ICR\": \"data/BOSS_Toxicity_ImplicitHate_BERT_ICR/implicit_hate_stabilityai/StableBeluga-7b_random_16_Kyle1668/boss-toxicity-bert-base-uncased_style_logs.table.json\",\n",
      "    \"BOSS_Toxicity_Ablate_Data_ImplicitHate_BERT3000_Insert\": \"data/BOSS_Toxicity_Ablate_Data_ImplicitHate_BERT3000_Insert/implicit_hate_aug_insert_random_16_Kyle1668/boss-toxicity-3000-bert-base-uncased_style_logs.table.json\",\n",
      "    \"BOSS_Toxicity_Ablate_Data_ImplicitHate_BERT3000_Substitute\": \"data/BOSS_Toxicity_Ablate_Data_ImplicitHate_BERT3000_Substitute/implicit_hate_aug_substitute_random_16_Kyle1668/boss-toxicity-3000-bert-base-uncased_style_logs.table.json\",\n",
      "    \"BOSS_Toxicity_Ablate_Data_ImplicitHate_BERT3000_Translate\": \"data/BOSS_Toxicity_Ablate_Data_ImplicitHate_BERT3000_Translate/implicit_hate_aug_back-translate_random_16_Kyle1668/boss-toxicity-3000-bert-base-uncased_style_logs.table.json\",\n",
      "    \"BOSS_Toxicity_Ablate_Data_ImplicitHate_BERT3000_Paraphrase\": \"data/BOSS_Toxicity_Ablate_Data_ImplicitHate_BERT3000_Paraphrase/implicit_hate_stabilityai/StableBeluga-7b_random_0_Kyle1668/boss-toxicity-3000-bert-base-uncased_style_logs.table.json\",\n",
      "    \"BOSS_Toxicity_Ablate_Data_ImplicitHate_BERT3000_ICR\": \"data/BOSS_Toxicity_Ablate_Data_ImplicitHate_BERT3000_ICR/implicit_hate_stabilityai/StableBeluga-7b_random_16_Kyle1668/boss-toxicity-3000-bert-base-uncased_style_logs.table.json\",\n",
      "    \"BOSS_Toxicity_Ablate_Data_ImplicitHate_BERT6000_Insert\": \"data/BOSS_Toxicity_Ablate_Data_ImplicitHate_BERT6000_Insert/implicit_hate_aug_insert_random_16_Kyle1668/boss-toxicity-6000-bert-base-uncased_style_logs.table.json\",\n",
      "    \"BOSS_Toxicity_Ablate_Data_ImplicitHate_BERT6000_Substitute\": \"data/BOSS_Toxicity_Ablate_Data_ImplicitHate_BERT6000_Substitute/implicit_hate_aug_substitute_random_16_Kyle1668/boss-toxicity-6000-bert-base-uncased_style_logs.table.json\",\n",
      "    \"BOSS_Toxicity_Ablate_Data_ImplicitHate_BERT6000_Translate\": \"data/BOSS_Toxicity_Ablate_Data_ImplicitHate_BERT6000_Translate/implicit_hate_aug_back-translate_random_16_Kyle1668/boss-toxicity-6000-bert-base-uncased_style_logs.table.json\",\n",
      "    \"BOSS_Toxicity_Ablate_Data_ImplicitHate_BERT6000_Paraphrase\": \"data/BOSS_Toxicity_Ablate_Data_ImplicitHate_BERT6000_Paraphrase/implicit_hate_stabilityai/StableBeluga-7b_random_0_Kyle1668/boss-toxicity-6000-bert-base-uncased_style_logs.table.json\",\n",
      "    \"BOSS_Toxicity_Ablate_Data_ImplicitHate_BERT6000_ICR\": \"data/BOSS_Toxicity_Ablate_Data_ImplicitHate_BERT6000_ICR/implicit_hate_stabilityai/StableBeluga-7b_random_16_Kyle1668/boss-toxicity-6000-bert-base-uncased_style_logs.table.json\",\n",
      "    \"BOSS_Toxicity_Ablate_Data_ImplicitHate_BERT12000_Insert\": \"data/BOSS_Toxicity_Ablate_Data_ImplicitHate_BERT12000_Insert/implicit_hate_aug_insert_random_16_Kyle1668/boss-toxicity-12000-bert-base-uncased_style_logs.table.json\",\n",
      "    \"BOSS_Toxicity_Ablate_Data_ImplicitHate_BERT12000_Substitute\": \"data/BOSS_Toxicity_Ablate_Data_ImplicitHate_BERT12000_Substitute/implicit_hate_aug_substitute_random_16_Kyle1668/boss-toxicity-12000-bert-base-uncased_style_logs.table.json\",\n",
      "    \"BOSS_Toxicity_Ablate_Data_ImplicitHate_BERT12000_Translate\": \"data/BOSS_Toxicity_Ablate_Data_ImplicitHate_BERT12000_Translate/implicit_hate_aug_back-translate_random_16_Kyle1668/boss-toxicity-12000-bert-base-uncased_style_logs.table.json\",\n",
      "    \"BOSS_Toxicity_Ablate_Data_ImplicitHate_BERT12000_Paraphrase\": \"data/BOSS_Toxicity_Ablate_Data_ImplicitHate_BERT12000_Paraphrase/implicit_hate_stabilityai/StableBeluga-7b_random_0_Kyle1668/boss-toxicity-12000-bert-base-uncased_style_logs.table.json\",\n",
      "    \"BOSS_Toxicity_Ablate_Data_ImplicitHate_BERT12000_ICR\": \"data/BOSS_Toxicity_Ablate_Data_ImplicitHate_BERT12000_ICR/implicit_hate_stabilityai/StableBeluga-7b_random_16_Kyle1668/boss-toxicity-12000-bert-base-uncased_style_logs.table.json\",\n",
      "    \"BOSS_Toxicity_Ablate_Data_ImplicitHate_BERT24000_Insert\": \"data/BOSS_Toxicity_Ablate_Data_ImplicitHate_BERT24000_Insert/implicit_hate_aug_insert_random_16_Kyle1668/boss-toxicity-24000-bert-base-uncased_style_logs.table.json\",\n",
      "    \"BOSS_Toxicity_Ablate_Data_ImplicitHate_BERT24000_Substitute\": \"data/BOSS_Toxicity_Ablate_Data_ImplicitHate_BERT24000_Substitute/implicit_hate_aug_substitute_random_16_Kyle1668/boss-toxicity-24000-bert-base-uncased_style_logs.table.json\",\n",
      "    \"BOSS_Toxicity_Ablate_Data_ImplicitHate_BERT24000_Translate\": \"data/BOSS_Toxicity_Ablate_Data_ImplicitHate_BERT24000_Translate/implicit_hate_aug_back-translate_random_16_Kyle1668/boss-toxicity-24000-bert-base-uncased_style_logs.table.json\",\n",
      "    \"BOSS_Toxicity_Ablate_Data_ImplicitHate_BERT24000_Paraphrase\": \"data/BOSS_Toxicity_Ablate_Data_ImplicitHate_BERT24000_Paraphrase/implicit_hate_stabilityai/StableBeluga-7b_random_0_Kyle1668/boss-toxicity-24000-bert-base-uncased_style_logs.table.json\",\n",
      "    \"BOSS_Toxicity_Ablate_Data_ImplicitHate_BERT24000_ICR\": \"data/BOSS_Toxicity_Ablate_Data_ImplicitHate_BERT24000_ICR/implicit_hate_stabilityai/StableBeluga-7b_random_16_Kyle1668/boss-toxicity-24000-bert-base-uncased_style_logs.table.json\",\n",
      "    \"BOSS_Toxicity_Ablate_Data_ImplicitHate_BERT48000_Insert\": \"data/BOSS_Toxicity_Ablate_Data_ImplicitHate_BERT48000_Insert/implicit_hate_aug_insert_random_16_Kyle1668/boss-toxicity-48000-bert-base-uncased_style_logs.table.json\",\n",
      "    \"BOSS_Toxicity_Ablate_Data_ImplicitHate_BERT48000_Substitute\": \"data/BOSS_Toxicity_Ablate_Data_ImplicitHate_BERT48000_Substitute/implicit_hate_aug_substitute_random_16_Kyle1668/boss-toxicity-48000-bert-base-uncased_style_logs.table.json\",\n",
      "    \"BOSS_Toxicity_Ablate_Data_ImplicitHate_BERT48000_Translate\": \"data/BOSS_Toxicity_Ablate_Data_ImplicitHate_BERT48000_Translate/implicit_hate_aug_back-translate_random_16_Kyle1668/boss-toxicity-48000-bert-base-uncased_style_logs.table.json\",\n",
      "    \"BOSS_Toxicity_Ablate_Data_ImplicitHate_BERT48000_Paraphrase\": \"data/BOSS_Toxicity_Ablate_Data_ImplicitHate_BERT48000_Paraphrase/implicit_hate_stabilityai/StableBeluga-7b_random_0_Kyle1668/boss-toxicity-48000-bert-base-uncased_style_logs.table.json\",\n",
      "    \"BOSS_Toxicity_Ablate_Data_ImplicitHate_BERT48000_ICR\": \"data/BOSS_Toxicity_Ablate_Data_ImplicitHate_BERT48000_ICR/implicit_hate_stabilityai/StableBeluga-7b_random_16_Kyle1668/boss-toxicity-48000-bert-base-uncased_style_logs.table.json\",\n",
      "    \"BOSS_Toxicity_ImplicitHate_T5_Insert\": \"data/BOSS_Toxicity_ImplicitHate_T5_Insert/implicit_hate_aug_insert_random_16_Kyle1668/boss-toxicity-t5-large_style_logs.table.json\",\n",
      "    \"BOSS_Toxicity_ImplicitHate_T5_Substitute\": \"data/BOSS_Toxicity_ImplicitHate_T5_Substitute/implicit_hate_aug_substitute_random_16_Kyle1668/boss-toxicity-t5-large_style_logs.table.json\",\n",
      "    \"BOSS_Toxicity_ImplicitHate_T5_Translate\": \"data/BOSS_Toxicity_ImplicitHate_T5_Translate/implicit_hate_aug_back-translate_random_16_Kyle1668/boss-toxicity-t5-large_style_logs.table.json\",\n",
      "    \"BOSS_Toxicity_ImplicitHate_T5_Paraphrase\": \"data/BOSS_Toxicity_ImplicitHate_T5_Paraphrase/implicit_hate_stabilityai/StableBeluga-7b_random_0_Kyle1668/boss-toxicity-t5-large_style_logs.table.json\",\n",
      "    \"BOSS_Toxicity_ImplicitHate_T5_ICR\": \"data/BOSS_Toxicity_ImplicitHate_T5_ICR/implicit_hate_stabilityai/StableBeluga-7b_random_16_Kyle1668/boss-toxicity-t5-large_style_logs.table.json\",\n",
      "    \"BOSS_Toxicity_ImplicitHate_Falcon_Insert\": \"data/BOSS_Toxicity_ImplicitHate_Falcon_Insert/implicit_hate_aug_insert_random_16_tiiuae/falcon-7b-instruct_style_logs.table.json\",\n",
      "    \"BOSS_Toxicity_ImplicitHate_Falcon_Substitute\": \"data/BOSS_Toxicity_ImplicitHate_Falcon_Substitute/implicit_hate_aug_substitute_random_16_tiiuae/falcon-7b-instruct_style_logs.table.json\",\n",
      "    \"BOSS_Toxicity_ImplicitHate_Falcon_Translate\": \"data/BOSS_Toxicity_ImplicitHate_Falcon_Translate/implicit_hate_aug_back-translate_random_16_tiiuae/falcon-7b-instruct_style_logs.table.json\",\n",
      "    \"BOSS_Toxicity_AdvCivil_BERT_Insert\": \"data/BOSS_Toxicity_AdvCivil_BERT_Insert/adv_civil_aug_insert_random_16_Kyle1668/boss-toxicity-bert-base-uncased_style_logs.table.json\",\n",
      "    \"BOSS_Toxicity_AdvCivil_BERT_Substitute\": \"data/BOSS_Toxicity_AdvCivil_BERT_Substitute/adv_civil_aug_substitute_random_16_Kyle1668/boss-toxicity-bert-base-uncased_style_logs.table.json\",\n",
      "    \"BOSS_Toxicity_AdvCivil_BERT_Translate\": \"data/BOSS_Toxicity_AdvCivil_BERT_Translate/adv_civil_aug_back-translate_random_16_Kyle1668/boss-toxicity-bert-base-uncased_style_logs.table.json\",\n",
      "    \"BOSS_Toxicity_AdvCivil_BERT_Paraphrase\": \"data/BOSS_Toxicity_AdvCivil_BERT_Paraphrase/adv_civil_stabilityai/StableBeluga-7b_random_0_Kyle1668/boss-toxicity-bert-base-uncased_style_logs.table.json\",\n",
      "    \"BOSS_Toxicity_AdvCivil_BERT_ICR\": \"data/BOSS_Toxicity_AdvCivil_BERT_ICR/adv_civil_stabilityai/StableBeluga-7b_random_16_Kyle1668/boss-toxicity-bert-base-uncased_style_logs.table.json\",\n",
      "    \"BOSS_Toxicity_Ablate_Data_AdvCivil_BERT3000_Insert\": \"data/BOSS_Toxicity_Ablate_Data_AdvCivil_BERT3000_Insert/adv_civil_aug_insert_random_16_Kyle1668/boss-toxicity-3000-bert-base-uncased_style_logs.table.json\",\n",
      "    \"BOSS_Toxicity_Ablate_Data_AdvCivil_BERT3000_Substitute\": \"data/BOSS_Toxicity_Ablate_Data_AdvCivil_BERT3000_Substitute/adv_civil_aug_substitute_random_16_Kyle1668/boss-toxicity-3000-bert-base-uncased_style_logs.table.json\",\n",
      "    \"BOSS_Toxicity_Ablate_Data_AdvCivil_BERT3000_Translate\": \"data/BOSS_Toxicity_Ablate_Data_AdvCivil_BERT3000_Translate/adv_civil_aug_back-translate_random_16_Kyle1668/boss-toxicity-3000-bert-base-uncased_style_logs.table.json\",\n",
      "    \"BOSS_Toxicity_Ablate_Data_AdvCivil_BERT3000_Paraphrase\": \"data/BOSS_Toxicity_Ablate_Data_AdvCivil_BERT3000_Paraphrase/adv_civil_stabilityai/StableBeluga-7b_random_0_Kyle1668/boss-toxicity-3000-bert-base-uncased_style_logs.table.json\",\n",
      "    \"BOSS_Toxicity_Ablate_Data_AdvCivil_BERT3000_ICR\": \"data/BOSS_Toxicity_Ablate_Data_AdvCivil_BERT3000_ICR/adv_civil_stabilityai/StableBeluga-7b_random_16_Kyle1668/boss-toxicity-3000-bert-base-uncased_style_logs.table.json\",\n",
      "    \"BOSS_Toxicity_Ablate_Data_AdvCivil_BERT6000_Insert\": \"data/BOSS_Toxicity_Ablate_Data_AdvCivil_BERT6000_Insert/adv_civil_aug_insert_random_16_Kyle1668/boss-toxicity-6000-bert-base-uncased_style_logs.table.json\",\n",
      "    \"BOSS_Toxicity_Ablate_Data_AdvCivil_BERT6000_Substitute\": \"data/BOSS_Toxicity_Ablate_Data_AdvCivil_BERT6000_Substitute/adv_civil_aug_substitute_random_16_Kyle1668/boss-toxicity-6000-bert-base-uncased_style_logs.table.json\",\n",
      "    \"BOSS_Toxicity_Ablate_Data_AdvCivil_BERT6000_Translate\": \"data/BOSS_Toxicity_Ablate_Data_AdvCivil_BERT6000_Translate/adv_civil_aug_back-translate_random_16_Kyle1668/boss-toxicity-6000-bert-base-uncased_style_logs.table.json\",\n",
      "    \"BOSS_Toxicity_Ablate_Data_AdvCivil_BERT6000_Paraphrase\": \"data/BOSS_Toxicity_Ablate_Data_AdvCivil_BERT6000_Paraphrase/adv_civil_stabilityai/StableBeluga-7b_random_0_Kyle1668/boss-toxicity-6000-bert-base-uncased_style_logs.table.json\",\n",
      "    \"BOSS_Toxicity_Ablate_Data_AdvCivil_BERT6000_ICR\": \"data/BOSS_Toxicity_Ablate_Data_AdvCivil_BERT6000_ICR/adv_civil_stabilityai/StableBeluga-7b_random_16_Kyle1668/boss-toxicity-6000-bert-base-uncased_style_logs.table.json\",\n",
      "    \"BOSS_Toxicity_Ablate_Data_AdvCivil_BERT12000_Insert\": \"data/BOSS_Toxicity_Ablate_Data_AdvCivil_BERT12000_Insert/adv_civil_aug_insert_random_16_Kyle1668/boss-toxicity-12000-bert-base-uncased_style_logs.table.json\",\n",
      "    \"BOSS_Toxicity_Ablate_Data_AdvCivil_BERT12000_Substitute\": \"data/BOSS_Toxicity_Ablate_Data_AdvCivil_BERT12000_Substitute/adv_civil_aug_substitute_random_16_Kyle1668/boss-toxicity-12000-bert-base-uncased_style_logs.table.json\",\n",
      "    \"BOSS_Toxicity_Ablate_Data_AdvCivil_BERT12000_Translate\": \"data/BOSS_Toxicity_Ablate_Data_AdvCivil_BERT12000_Translate/adv_civil_aug_back-translate_random_16_Kyle1668/boss-toxicity-12000-bert-base-uncased_style_logs.table.json\",\n",
      "    \"BOSS_Toxicity_Ablate_Data_AdvCivil_BERT12000_Paraphrase\": \"data/BOSS_Toxicity_Ablate_Data_AdvCivil_BERT12000_Paraphrase/adv_civil_stabilityai/StableBeluga-7b_random_0_Kyle1668/boss-toxicity-12000-bert-base-uncased_style_logs.table.json\",\n",
      "    \"BOSS_Toxicity_Ablate_Data_AdvCivil_BERT12000_ICR\": \"data/BOSS_Toxicity_Ablate_Data_AdvCivil_BERT12000_ICR/adv_civil_stabilityai/StableBeluga-7b_random_16_Kyle1668/boss-toxicity-12000-bert-base-uncased_style_logs.table.json\",\n",
      "    \"BOSS_Toxicity_Ablate_Data_AdvCivil_BERT24000_Insert\": \"data/BOSS_Toxicity_Ablate_Data_AdvCivil_BERT24000_Insert/adv_civil_aug_insert_random_16_Kyle1668/boss-toxicity-24000-bert-base-uncased_style_logs.table.json\",\n",
      "    \"BOSS_Toxicity_Ablate_Data_AdvCivil_BERT24000_Substitute\": \"data/BOSS_Toxicity_Ablate_Data_AdvCivil_BERT24000_Substitute/adv_civil_aug_substitute_random_16_Kyle1668/boss-toxicity-24000-bert-base-uncased_style_logs.table.json\",\n",
      "    \"BOSS_Toxicity_Ablate_Data_AdvCivil_BERT24000_Translate\": \"data/BOSS_Toxicity_Ablate_Data_AdvCivil_BERT24000_Translate/adv_civil_aug_back-translate_random_16_Kyle1668/boss-toxicity-24000-bert-base-uncased_style_logs.table.json\",\n",
      "    \"BOSS_Toxicity_Ablate_Data_AdvCivil_BERT24000_Paraphrase\": \"data/BOSS_Toxicity_Ablate_Data_AdvCivil_BERT24000_Paraphrase/adv_civil_stabilityai/StableBeluga-7b_random_0_Kyle1668/boss-toxicity-24000-bert-base-uncased_style_logs.table.json\",\n",
      "    \"BOSS_Toxicity_Ablate_Data_AdvCivil_BERT24000_ICR\": \"data/BOSS_Toxicity_Ablate_Data_AdvCivil_BERT24000_ICR/adv_civil_stabilityai/StableBeluga-7b_random_16_Kyle1668/boss-toxicity-24000-bert-base-uncased_style_logs.table.json\",\n",
      "    \"BOSS_Toxicity_Ablate_Data_AdvCivil_BERT48000_Insert\": \"data/BOSS_Toxicity_Ablate_Data_AdvCivil_BERT48000_Insert/adv_civil_aug_insert_random_16_Kyle1668/boss-toxicity-48000-bert-base-uncased_style_logs.table.json\",\n",
      "    \"BOSS_Toxicity_Ablate_Data_AdvCivil_BERT48000_Substitute\": \"data/BOSS_Toxicity_Ablate_Data_AdvCivil_BERT48000_Substitute/adv_civil_aug_substitute_random_16_Kyle1668/boss-toxicity-48000-bert-base-uncased_style_logs.table.json\",\n",
      "    \"BOSS_Toxicity_Ablate_Data_AdvCivil_BERT48000_Translate\": \"data/BOSS_Toxicity_Ablate_Data_AdvCivil_BERT48000_Translate/adv_civil_aug_back-translate_random_16_Kyle1668/boss-toxicity-48000-bert-base-uncased_style_logs.table.json\",\n",
      "    \"BOSS_Toxicity_Ablate_Data_AdvCivil_BERT48000_Paraphrase\": \"data/BOSS_Toxicity_Ablate_Data_AdvCivil_BERT48000_Paraphrase/adv_civil_stabilityai/StableBeluga-7b_random_0_Kyle1668/boss-toxicity-48000-bert-base-uncased_style_logs.table.json\",\n",
      "    \"BOSS_Toxicity_Ablate_Data_AdvCivil_BERT48000_ICR\": \"data/BOSS_Toxicity_Ablate_Data_AdvCivil_BERT48000_ICR/adv_civil_stabilityai/StableBeluga-7b_random_16_Kyle1668/boss-toxicity-48000-bert-base-uncased_style_logs.table.json\",\n",
      "    \"BOSS_Toxicity_AdvCivil_T5_Insert\": \"data/BOSS_Toxicity_AdvCivil_T5_Insert/adv_civil_aug_insert_random_16_Kyle1668/boss-toxicity-t5-large_style_logs.table.json\",\n",
      "    \"BOSS_Toxicity_AdvCivil_T5_Substitute\": \"data/BOSS_Toxicity_AdvCivil_T5_Substitute/adv_civil_aug_substitute_random_16_Kyle1668/boss-toxicity-t5-large_style_logs.table.json\",\n",
      "    \"BOSS_Toxicity_AdvCivil_T5_Translate\": \"data/BOSS_Toxicity_AdvCivil_T5_Translate/adv_civil_aug_back-translate_random_16_Kyle1668/boss-toxicity-t5-large_style_logs.table.json\",\n",
      "    \"BOSS_Toxicity_AdvCivil_T5_Paraphrase\": \"data/BOSS_Toxicity_AdvCivil_T5_Paraphrase/adv_civil_stabilityai/StableBeluga-7b_random_0_Kyle1668/boss-toxicity-t5-large_style_logs.table.json\",\n",
      "    \"BOSS_Toxicity_AdvCivil_T5_ICR\": \"data/BOSS_Toxicity_AdvCivil_T5_ICR/adv_civil_stabilityai/StableBeluga-7b_random_16_Kyle1668/boss-toxicity-t5-large_style_logs.table.json\",\n",
      "    \"BOSS_Toxicity_AdvCivil_Falcon_Insert\": \"data/BOSS_Toxicity_AdvCivil_Falcon_Insert/adv_civil_aug_insert_random_16_tiiuae/falcon-7b-instruct_style_logs.table.json\",\n",
      "    \"BOSS_Toxicity_AdvCivil_Falcon_Substitute\": \"data/BOSS_Toxicity_AdvCivil_Falcon_Substitute/adv_civil_aug_substitute_random_16_tiiuae/falcon-7b-instruct_style_logs.table.json\",\n",
      "    \"BOSS_Toxicity_AdvCivil_Falcon_Translate\": \"data/BOSS_Toxicity_AdvCivil_Falcon_Translate/adv_civil_aug_back-translate_random_16_tiiuae/falcon-7b-instruct_style_logs.table.json\",\n",
      "    \"BOSS_Toxicity_AdvCivil_Falcon_Paraphrase\": \"data/BOSS_Toxicity_AdvCivil_Falcon_Paraphrase/adv_civil_stabilityai/StableBeluga-7b_random_0_tiiuae/falcon-7b-instruct_style_logs.table.json\",\n",
      "    \"BOSS_Toxicity_AdvCivil_Falcon_ICR\": \"data/BOSS_Toxicity_AdvCivil_Falcon_ICR/adv_civil_stabilityai/StableBeluga-7b_random_16_tiiuae/falcon-7b-instruct_style_logs.table.json\",\n",
      "    \"AgNewsTweets_ID_BERT_Insert\": \"data/AgNewsTweets_ID_BERT_Insert/validation_aug_insert_random_16_Kyle1668/ag-news-bert-base-uncased_style_logs.table.json\",\n",
      "    \"AgNewsTweets_ID_BERT_Substitute\": \"data/AgNewsTweets_ID_BERT_Substitute/validation_aug_substitute_random_16_Kyle1668/ag-news-bert-base-uncased_style_logs.table.json\",\n",
      "    \"AgNewsTweets_ID_BERT_Translate\": \"data/AgNewsTweets_ID_BERT_Translate/validation_aug_back-translate_random_16_Kyle1668/ag-news-bert-base-uncased_style_logs.table.json\",\n",
      "    \"AgNewsTweets_ID_BERT_Paraphrase\": \"data/AgNewsTweets_ID_BERT_Paraphrase/validation_stabilityai/StableBeluga-7b_random_0_Kyle1668/ag-news-bert-base-uncased_style_logs.table.json\",\n",
      "    \"AgNewsTweets_ID_BERT_ICR\": \"data/AgNewsTweets_ID_BERT_ICR/validation_stabilityai/StableBeluga-7b_random_16_Kyle1668/ag-news-bert-base-uncased_style_logs.table.json\",\n",
      "    \"AgNewsTweets_Ablate_Data_Tweets_BERT4800_Insert\": \"data/AgNewsTweets_Ablate_Data_Tweets_BERT4800_Insert/test_aug_insert_random_16_Kyle1668/ag-news-4800-bert-base-uncased_style_logs.table.json\",\n",
      "    \"AgNewsTweets_Ablate_Data_Tweets_BERT4800_Substitute\": \"data/AgNewsTweets_Ablate_Data_Tweets_BERT4800_Substitute/test_aug_substitute_random_16_Kyle1668/ag-news-4800-bert-base-uncased_style_logs.table.json\",\n",
      "    \"AgNewsTweets_Ablate_Data_Tweets_BERT4800_Translate\": \"data/AgNewsTweets_Ablate_Data_Tweets_BERT4800_Translate/test_aug_back-translate_random_16_Kyle1668/ag-news-4800-bert-base-uncased_style_logs.table.json\",\n",
      "    \"AgNewsTweets_Ablate_Data_Tweets_BERT4800_Paraphrase\": \"data/AgNewsTweets_Ablate_Data_Tweets_BERT4800_Paraphrase/test_stabilityai/StableBeluga-7b_random_0_Kyle1668/ag-news-4800-bert-base-uncased_style_logs.table.json\",\n",
      "    \"AgNewsTweets_Ablate_Data_Tweets_BERT4800_ICR\": \"data/AgNewsTweets_Ablate_Data_Tweets_BERT4800_ICR/test_stabilityai/StableBeluga-7b_random_16_Kyle1668/ag-news-4800-bert-base-uncased_style_logs.table.json\",\n",
      "    \"AgNewsTweets_Ablate_Data_Tweets_BERT9600_Insert\": \"data/AgNewsTweets_Ablate_Data_Tweets_BERT9600_Insert/test_aug_insert_random_16_Kyle1668/ag-news-9600-bert-base-uncased_style_logs.table.json\",\n",
      "    \"AgNewsTweets_Ablate_Data_Tweets_BERT9600_Substitute\": \"data/AgNewsTweets_Ablate_Data_Tweets_BERT9600_Substitute/test_aug_substitute_random_16_Kyle1668/ag-news-9600-bert-base-uncased_style_logs.table.json\",\n",
      "    \"AgNewsTweets_Ablate_Data_Tweets_BERT9600_Translate\": \"data/AgNewsTweets_Ablate_Data_Tweets_BERT9600_Translate/test_aug_back-translate_random_16_Kyle1668/ag-news-9600-bert-base-uncased_style_logs.table.json\",\n",
      "    \"AgNewsTweets_Ablate_Data_Tweets_BERT9600_Paraphrase\": \"data/AgNewsTweets_Ablate_Data_Tweets_BERT9600_Paraphrase/test_stabilityai/StableBeluga-7b_random_0_Kyle1668/ag-news-9600-bert-base-uncased_style_logs.table.json\",\n",
      "    \"AgNewsTweets_Ablate_Data_Tweets_BERT9600_ICR\": \"data/AgNewsTweets_Ablate_Data_Tweets_BERT9600_ICR/test_stabilityai/StableBeluga-7b_random_0_Kyle1668/ag-news-9600-bert-base-uncased_style_logs.table.json\",\n",
      "    \"AgNewsTweets_Ablate_Data_Tweets_BERT19200_Insert\": \"data/AgNewsTweets_Ablate_Data_Tweets_BERT19200_Insert/test_aug_insert_random_16_Kyle1668/ag-news-19200-bert-base-uncased_style_logs.table.json\",\n",
      "    \"AgNewsTweets_Ablate_Data_Tweets_BERT19200_Substitute\": \"data/AgNewsTweets_Ablate_Data_Tweets_BERT19200_Substitute/test_aug_substitute_random_16_Kyle1668/ag-news-19200-bert-base-uncased_style_logs.table.json\",\n",
      "    \"AgNewsTweets_Ablate_Data_Tweets_BERT19200_Translate\": \"data/AgNewsTweets_Ablate_Data_Tweets_BERT19200_Translate/test_aug_back-translate_random_16_Kyle1668/ag-news-19200-bert-base-uncased_style_logs.table.json\",\n",
      "    \"AgNewsTweets_Ablate_Data_Tweets_BERT19200_Paraphrase\": \"data/AgNewsTweets_Ablate_Data_Tweets_BERT19200_Paraphrase/test_stabilityai/StableBeluga-7b_random_0_Kyle1668/ag-news-19200-bert-base-uncased_style_logs.table.json\",\n",
      "    \"AgNewsTweets_Ablate_Data_Tweets_BERT19200_ICR\": \"data/AgNewsTweets_Ablate_Data_Tweets_BERT19200_ICR/test_stabilityai/StableBeluga-7b_random_16_Kyle1668/ag-news-19200-bert-base-uncased_style_logs.table.json\",\n",
      "    \"AgNewsTweets_Ablate_Data_Tweets_BERT38400_Insert\": \"data/AgNewsTweets_Ablate_Data_Tweets_BERT38400_Insert/test_aug_insert_random_16_Kyle1668/ag-news-38400-bert-base-uncased_style_logs.table.json\",\n",
      "    \"AgNewsTweets_Ablate_Data_Tweets_BERT38400_Substitute\": \"data/AgNewsTweets_Ablate_Data_Tweets_BERT38400_Substitute/test_aug_substitute_random_16_Kyle1668/ag-news-38400-bert-base-uncased_style_logs.table.json\",\n",
      "    \"AgNewsTweets_Ablate_Data_Tweets_BERT38400_Translate\": \"data/AgNewsTweets_Ablate_Data_Tweets_BERT38400_Translate/test_aug_back-translate_random_16_Kyle1668/ag-news-38400-bert-base-uncased_style_logs.table.json\",\n",
      "    \"AgNewsTweets_Ablate_Data_Tweets_BERT38400_Paraphrase\": \"data/AgNewsTweets_Ablate_Data_Tweets_BERT38400_Paraphrase/test_stabilityai/StableBeluga-7b_random_0_Kyle1668/ag-news-38400-bert-base-uncased_style_logs.table.json\",\n",
      "    \"AgNewsTweets_Ablate_Data_Tweets_BERT38400_ICR\": \"data/AgNewsTweets_Ablate_Data_Tweets_BERT38400_ICR/test_stabilityai/StableBeluga-7b_random_16_Kyle1668/ag-news-38400-bert-base-uncased_style_logs.table.json\",\n",
      "    \"AgNewsTweets_Ablate_Data_Tweets_BERT76800_Insert\": \"data/AgNewsTweets_Ablate_Data_Tweets_BERT76800_Insert/test_aug_insert_random_16_Kyle1668/ag-news-76800-bert-base-uncased_style_logs.table.json\",\n",
      "    \"AgNewsTweets_Ablate_Data_Tweets_BERT76800_Substitute\": \"data/AgNewsTweets_Ablate_Data_Tweets_BERT76800_Substitute/test_aug_substitute_random_16_Kyle1668/ag-news-76800-bert-base-uncased_style_logs.table.json\",\n",
      "    \"AgNewsTweets_Ablate_Data_Tweets_BERT76800_Translate\": \"data/AgNewsTweets_Ablate_Data_Tweets_BERT76800_Translate/test_aug_back-translate_random_16_Kyle1668/ag-news-76800-bert-base-uncased_style_logs.table.json\",\n",
      "    \"AgNewsTweets_Ablate_Data_Tweets_BERT76800_Paraphrase\": \"data/AgNewsTweets_Ablate_Data_Tweets_BERT76800_Paraphrase/test_stabilityai/StableBeluga-7b_random_0_Kyle1668/ag-news-76800-bert-base-uncased_style_logs.table.json\",\n",
      "    \"AgNewsTweets_Ablate_Data_Tweets_BERT76800_ICR\": \"data/AgNewsTweets_Ablate_Data_Tweets_BERT76800_ICR/test_stabilityai/StableBeluga-7b_random_16_Kyle1668/ag-news-76800-bert-base-uncased_style_logs.table.json\",\n",
      "    \"AgNewsTweets_ID_T5_Insert\": \"data/AgNewsTweets_ID_T5_Insert/validation_aug_insert_random_16_Kyle1668/ag-news-t5-large_style_logs.table.json\",\n",
      "    \"AgNewsTweets_ID_T5_Substitute\": \"data/AgNewsTweets_ID_T5_Substitute/validation_aug_substitute_random_16_Kyle1668/ag-news-t5-large_style_logs.table.json\",\n",
      "    \"AgNewsTweets_ID_T5_Translate\": \"data/AgNewsTweets_ID_T5_Translate/validation_aug_back-translate_random_16_Kyle1668/ag-news-t5-large_style_logs.table.json\",\n",
      "    \"AgNewsTweets_ID_T5_Paraphrase\": \"data/AgNewsTweets_ID_T5_Paraphrase/validation_stabilityai/StableBeluga-7b_random_0_Kyle1668/ag-news-t5-large_style_logs.table.json\",\n",
      "    \"AgNewsTweets_ID_T5_ICR\": \"data/AgNewsTweets_ID_T5_ICR/validation_stabilityai/StableBeluga-7b_random_16_Kyle1668/ag-news-t5-large_style_logs.table.json\",\n",
      "    \"AgNewsTweets_ID_Falcon_Insert\": \"data/AgNewsTweets_ID_Falcon_Insert/validation_aug_insert_random_16_tiiuae/falcon-7b-instruct_style_logs.table.json\",\n",
      "    \"AgNewsTweets_ID_Falcon_Substitute\": \"data/AgNewsTweets_ID_Falcon_Substitute/validation_aug_substitute_random_16_tiiuae/falcon-7b-instruct_style_logs.table.json\",\n",
      "    \"AgNewsTweets_ID_Falcon_Translate\": \"data/AgNewsTweets_ID_Falcon_Translate/validation_aug_back-translate_random_16_tiiuae/falcon-7b-instruct_style_logs.table.json\",\n",
      "    \"AgNewsTweets_ID_Falcon_Paraphrase\": \"data/AgNewsTweets_ID_Falcon_Paraphrase/validation_stabilityai/StableBeluga-7b_random_0_tiiuae/falcon-7b-instruct_style_logs.table.json\",\n",
      "    \"AgNewsTweets_ID_Falcon_ICR\": \"data/AgNewsTweets_ID_Falcon_ICR/validation_stabilityai/StableBeluga-7b_random_16_tiiuae/falcon-7b-instruct_style_logs.table.json\",\n",
      "    \"AgNewsTweets_Tweets_BERT_Insert\": \"data/AgNewsTweets_Tweets_BERT_Insert/test_aug_insert_random_16_Kyle1668/ag-news-bert-base-uncased_style_logs.table.json\",\n",
      "    \"AgNewsTweets_Tweets_BERT_Substitute\": \"data/AgNewsTweets_Tweets_BERT_Substitute/test_aug_substitute_random_16_Kyle1668/ag-news-bert-base-uncased_style_logs.table.json\",\n",
      "    \"AgNewsTweets_Tweets_BERT_Translate\": \"data/AgNewsTweets_Tweets_BERT_Translate/test_aug_back-translate_random_16_Kyle1668/ag-news-bert-base-uncased_style_logs.table.json\",\n",
      "    \"AgNewsTweets_Tweets_BERT_Paraphrase\": \"data/AgNewsTweets_Tweets_BERT_Paraphrase/test_stabilityai/StableBeluga-7b_random_0_Kyle1668/ag-news-bert-base-uncased_style_logs.table.json\",\n",
      "    \"AgNewsTweets_Tweets_BERT_ICR\": \"data/AgNewsTweets_Tweets_BERT_ICR/test_stabilityai/StableBeluga-7b_random_16_Kyle1668/ag-news-bert-base-uncased_style_logs.table.json\",\n",
      "    \"AgNewsTweets_Tweets_T5_Insert\": \"data/AgNewsTweets_Tweets_T5_Insert/test_aug_insert_random_16_Kyle1668/ag-news-t5-large_style_logs.table.json\",\n",
      "    \"AgNewsTweets_Tweets_T5_Substitute\": \"data/AgNewsTweets_Tweets_T5_Substitute/test_aug_substitute_random_16_Kyle1668/ag-news-t5-large_style_logs.table.json\",\n",
      "    \"AgNewsTweets_Tweets_T5_Translate\": \"data/AgNewsTweets_Tweets_T5_Translate/test_aug_back-translate_random_16_Kyle1668/ag-news-t5-large_style_logs.table.json\",\n",
      "    \"AgNewsTweets_Tweets_T5_Paraphrase\": \"data/AgNewsTweets_Tweets_T5_Paraphrase/test_stabilityai/StableBeluga-7b_random_0_Kyle1668/ag-news-t5-large_style_logs.table.json\",\n",
      "    \"AgNewsTweets_Tweets_T5_ICR\": \"data/AgNewsTweets_Tweets_T5_ICR/test_stabilityai/StableBeluga-7b_random_16_Kyle1668/ag-news-t5-large_style_logs.table.json\",\n",
      "    \"AgNewsTweets_Tweets_Falcon_Insert\": \"data/AgNewsTweets_Tweets_Falcon_Insert/test_aug_insert_random_16_tiiuae/falcon-7b-instruct_style_logs.table.json\",\n",
      "    \"AgNewsTweets_Tweets_Falcon_Substitute\": \"data/AgNewsTweets_Tweets_Falcon_Substitute/test_aug_substitute_random_16_tiiuae/falcon-7b-instruct_style_logs.table.json\",\n",
      "    \"AgNewsTweets_Tweets_Falcon_Translate\": \"data/AgNewsTweets_Tweets_Falcon_Translate/test_aug_back-translate_random_16_tiiuae/falcon-7b-instruct_style_logs.table.json\",\n",
      "    \"AgNewsTweets_Tweets_Falcon_Paraphrase\": \"data/AgNewsTweets_Tweets_Falcon_Paraphrase/test_stabilityai/StableBeluga-7b_random_0_tiiuae/falcon-7b-instruct_style_logs.table.json\"\n",
      "}\n"
     ]
    },
    {
     "name": "stderr",
     "output_type": "stream",
     "text": [
      "\n"
     ]
    }
   ],
   "source": [
    "# for each table path, run.use_artifact and download the artifact.\n",
    "local_paths = {}\n",
    "missing_tables = []\n",
    "for table_name, table_path in tqdm(list(table_paths.items())[:]):\n",
    "    try:\n",
    "        if table_path == \"\":\n",
    "            missing_tables.append(table_name)\n",
    "            continue\n",
    "\n",
    "        if get_local_logs_path(f\"data/{table_name}\") is not None:\n",
    "            continue\n",
    "\n",
    "        download_path = f\"{project_name}/{table_path}\"\n",
    "        print(f\"Downloading {table_name} --- {download_path}\")\n",
    "        artifact = run.use_artifact(download_path, type=\"run_table\")\n",
    "        artifact_dir = artifact.download(root=f\"data/{table_name}\")\n",
    "        file_name = os.listdir(artifact_dir)[0]\n",
    "        local_paths[table_name] = get_local_logs_path(f\"data/{table_name}\")\n",
    "    except Exception as e:\n",
    "        print(e)\n",
    "        print(table_name)\n",
    "        raise e\n",
    "        # missing_tables.append(table_name)\n",
    "\n",
    "print(f\"\\nMissing tables: {missing_tables}\")\n",
    "print(json.dumps(local_paths, indent=4))"
   ]
  },
  {
   "cell_type": "code",
   "execution_count": 20,
   "metadata": {},
   "outputs": [],
   "source": [
    "column_renaming = {\n",
    "    \"entropy\": \"tta_prediction_entropy\",\n",
    "    \"mean probs\": \"tta_mean_class_probs\",\n",
    "    \"all probs\": \"tta_all_class_probs\",\n",
    "    \"all entropies\": \"tta_all_class_entropy\",\n",
    "    \"latency\": \"tta_inference_latency\",\n",
    "    \"input\": \"augmentations\",\n",
    "    \"original_input\": \"original_text\",\n",
    "    \"judgment\": \"tta_predicted_class\",\n",
    "    \"original judgment\": \"original_predicted_class\",\n",
    "    \"original entropy\": \"original_prediction_entropy\",\n",
    "    \"entropy decrease\": \"prediction_entropy_decrease\",\n",
    "    \"entropy decreased\": \"prediction_entropy_decreased\",\n",
    "}\n",
    "columns_to_drop = [\"style prompt\", \"mean exemplar distance\", \"prompt\"]\n",
    "columns_order = [\"outcome\", \"original_text\", \"augmentations\", \"original_predicted_class\", \"tta_predicted_class\", \"label\", \"tta_inference_latency\", \"original_prediction_entropy\", \"tta_prediction_entropy\", \"prediction_entropy_decreased\", \"prediction_entropy_decrease\", \"tta_mean_class_probs\", \"tta_all_class_probs\", \"tta_all_class_entropy\", ]"
   ]
  },
  {
   "cell_type": "code",
   "execution_count": 21,
   "metadata": {},
   "outputs": [
    {
     "name": "stdout",
     "output_type": "stream",
     "text": [
      "['too not much of anything this well - well acted but dangerously slow thriller feels somehow like simply a terrible preamble to a bigger, much more too complicated horror story, one reality that never materializes.', 'one too too much apprehension of this well - being acted but dangerously still slow thriller feels like only a preamble to a seemingly bigger, yet more more complicated story, and one that never materializes.', 'too much of this a well - well acted but dangerously slow thriller film feels like a big preamble opening to a somehow bigger, more complicated dream story, the one concept that almost never materializes.', 'too am much of this this well - acted but dangerously slow paced thriller feels somehow like a prime preamble to creating a bigger, more painfully complicated story, but one one that never ever materializes.']\n",
      "4\n"
     ]
    }
   ],
   "source": [
    "def parse_augmentations(augmentations):\n",
    "    if augmentations is None or len(augmentations) == 0:\n",
    "        return []\n",
    "\n",
    "    return [aug.replace(\"<aug>\", \"\").replace(\"</aug>\", \"\") for aug in augmentations[:4]]\n",
    "\n",
    "formatted_augs = parse_augmentations([ \"<aug>too not much of anything this well - well acted but dangerously slow thriller feels somehow like simply a terrible preamble to a bigger, much more too complicated horror story, one reality that never materializes.</aug>\", \"<aug>one too too much apprehension of this well - being acted but dangerously still slow thriller feels like only a preamble to a seemingly bigger, yet more more complicated story, and one that never materializes.</aug>\", \"<aug>too much of this a well - well acted but dangerously slow thriller film feels like a big preamble opening to a somehow bigger, more complicated dream story, the one concept that almost never materializes.</aug>\", \"<aug>too am much of this this well - acted but dangerously slow paced thriller feels somehow like a prime preamble to creating a bigger, more painfully complicated story, but one one that never ever materializes.</aug>\", \"<aug>Too much of this well-acted but dangerously slow thriller feels like a preamble to a bigger , more complicated story , one that never materializes .</aug>\", \"<aug>Too much of this well-acted but dangerously slow thriller feels like a preamble to a bigger , more complicated story , one that never materializes .</aug>\" ])\n",
    "\n",
    "print(formatted_augs)\n",
    "print(len(formatted_augs))"
   ]
  },
  {
   "cell_type": "code",
   "execution_count": 22,
   "metadata": {},
   "outputs": [
    {
     "name": "stderr",
     "output_type": "stream",
     "text": [
      " 51%|█████     | 98/193 [01:34<04:35,  2.90s/it]"
     ]
    }
   ],
   "source": [
    "combined_datset = DatasetDict()\n",
    "for split in tqdm(local_paths):\n",
    "    # print(f\"Processing {split}\")\n",
    "    path = local_paths[split]\n",
    "    json_logs = json.load(open(path))\n",
    "    frame = pd.DataFrame(data=json_logs[\"data\"], columns=json_logs[\"columns\"])\n",
    "    frame = frame.rename(columns=column_renaming)\n",
    "    frame = frame.drop(columns=columns_to_drop)\n",
    "    frame[\"augmentations\"] = frame[\"augmentations\"].apply(parse_augmentations)\n",
    "\n",
    "    if \"BERT\" not in split:\n",
    "        for col in columns_order:\n",
    "            if col not in frame.columns:\n",
    "                if col == \"original_prediction_entropy\" or col == \"tta_prediction_entropy\" or col == \"prediction_entropy_decrease\":\n",
    "                    frame[col] = float(\"nan\")\n",
    "                elif col == \"prediction_entropy_decreased\":\n",
    "                    frame[col] = False\n",
    "                elif col == \"tta_all_class_probs\":\n",
    "                    frame[col] = frame.apply(lambda x: [[float(0.0)]], axis=1)\n",
    "                elif \"probs\" in col:\n",
    "                    frame[col] = frame.apply(lambda x: [float(0.0)], axis=1)\n",
    "                elif col == \"tta_all_class_entropy\":\n",
    "                    frame[col] = frame.apply(lambda x: [float(0.0)], axis=1)\n",
    "\n",
    "\n",
    "    frame = frame[columns_order]\n",
    "    combined_datset[split] = Dataset.from_pandas(frame)\n",
    "\n",
    "combined_datset"
   ]
  },
  {
   "cell_type": "code",
   "execution_count": null,
   "metadata": {},
   "outputs": [],
   "source": [
    "combined_datset.save_to_disk(\"data/combined_dataset\")"
   ]
  },
  {
   "cell_type": "code",
   "execution_count": null,
   "metadata": {},
   "outputs": [],
   "source": [
    "# combined_datset.push_to_hub(\"LLM-TTA-Augmentation-Logs\")"
   ]
  },
  {
   "cell_type": "markdown",
   "metadata": {},
   "source": [
    "## 11/11"
   ]
  },
  {
   "cell_type": "code",
   "execution_count": null,
   "metadata": {},
   "outputs": [],
   "source": [
    "# project_name = \"healthyml/In-Context Domain Transfer Improves Out-of-Domain Robustness\"\n",
    "# table_paths = {\n",
    "#     # BOSS Sentiment\n",
    "#     # ID\n",
    "#     # BERT\n",
    "#     \"BOSS_Sentiment_ID_BERT_Insert\": \"run-vj8tss18-validation_aug_insert_random_16_Kyle1668bosssentimentbertbaseuncased_style_logs:v0\",\n",
    "#     \"BOSS_Sentiment_ID_BERT_Substitute\": \"\",\n",
    "#     \"BOSS_Sentiment_ID_BERT_Translate\": \"\",\n",
    "#     \"BOSS_Sentiment_ID_BERT_Paraphrase\": \"\",\n",
    "#     \"BOSS_Sentiment_ID_BERT_ICR\": \"run-yanx1dus-validation_stabilityaiStableBeluga7b_random_16_Kyle1668bosssentimentbertbaseuncased_style_logs:v0\",\n",
    "\n",
    "#     # T5\n",
    "#     \"BOSS_Sentiment_ID_T5_Insert\": \"run-vj8tss18-validation_aug_insert_random_16_Kyle1668bosssentimentt5large_style_logs:v0\",\n",
    "#     \"BOSS_Sentiment_ID_T5_Substitute\": \"run-vj8tss18-validation_aug_substitute_random_16_Kyle1668bosssentimentt5large_style_logs:v0\",\n",
    "#     \"BOSS_Sentiment_ID_T5_Translate\": \"run-vj8tss18-validation_aug_backtranslate_random_16_Kyle1668bosssentimentt5large_style_logs:v0\",\n",
    "#     \"BOSS_Sentiment_ID_T5_Paraphrase\": \"\",\n",
    "#     \"BOSS_Sentiment_ID_T5_ICR\": \"\",\n",
    "\n",
    "#     # Falcon\n",
    "#     \"BOSS_Sentiment_ID_Falcon_Insert\": \"run-j11olfw3-validation_aug_insert_random_16_tiiuaefalcon7binstruct_style_logs:v0\",\n",
    "#     \"BOSS_Sentiment_ID_Falcon_Substitute\": \"run-j11olfw3-validation_aug_substitute_random_16_tiiuaefalcon7binstruct_style_logs:v0\",\n",
    "#     \"BOSS_Sentiment_ID_Falcon_Translate\": \"run-j11olfw3-validation_aug_backtranslate_random_16_tiiuaefalcon7binstruct_style_logs:v0\",\n",
    "#     \"BOSS_Sentiment_ID_Falcon_Paraphrase\": \"\",\n",
    "#     \"BOSS_Sentiment_ID_Falcon_ICR\": \"\",\n",
    "\n",
    "#     # SST5\n",
    "#     # BERT\n",
    "#     \"BOSS_Sentiment_SST5_BERT_Insert\": \"run-hhtbcw8x-sst5_aug_insert_random_16_Kyle1668bosssentimentbertbaseuncased_style_logs:v0\",\n",
    "#     \"BOSS_Sentiment_SST5_BERT_Substitute\": \"run-hhtbcw8x-sst5_aug_substitute_random_16_Kyle1668bosssentimentbertbaseuncased_style_logs:v0\",\n",
    "#     \"BOSS_Sentiment_SST5_BERT_Translate\": \"run-hhtbcw8x-sst5_aug_backtranslate_random_16_Kyle1668bosssentimentbertbaseuncased_style_logs:v0\",\n",
    "#     \"BOSS_Sentiment_SST5_BERT_Paraphrase\": \"run-hhtbcw8x-sst5_stabilityaiStableBeluga7b_random_0_Kyle1668bosssentimentbertbaseuncased_style_logs:v0\",\n",
    "#     \"BOSS_Sentiment_SST5_BERT_ICR\": \"run-hhtbcw8x-sst5_stabilityaiStableBeluga7b_random_16_Kyle1668bosssentimentbertbaseuncased_style_logs:v0\",\n",
    "\n",
    "#     # T5\n",
    "#     \"BOSS_Sentiment_SST5_T5_Insert\": \"run-hhtbcw8x-sst5_aug_insert_random_16_Kyle1668bosssentimentt5large_style_logs:v0\",\n",
    "#     \"BOSS_Sentiment_SST5_T5_Substitute\": \"run-hhtbcw8x-sst5_aug_substitute_random_16_Kyle1668bosssentimentt5large_style_logs:v0\",\n",
    "#     \"BOSS_Sentiment_SST5_T5_Translate\": \"run-hhtbcw8x-sst5_aug_backtranslate_random_16_Kyle1668bosssentimentt5large_style_logs:v0\",\n",
    "#     \"BOSS_Sentiment_SST5_T5_Paraphrase\": \"run-hhtbcw8x-sst5_stabilityaiStableBeluga7b_random_0_Kyle1668bosssentimentt5large_style_logs:v0\",\n",
    "#     \"BOSS_Sentiment_SST5_T5_ICR\": \"run-hhtbcw8x-sst5_stabilityaiStableBeluga7b_random_16_Kyle1668bosssentimentt5large_style_logs:v0\",\n",
    "\n",
    "#     # Falcon\n",
    "#     \"BOSS_Sentiment_SST5_Falcon_Insert\": \"run-hhtbcw8x-sst5_aug_insert_random_16_tiiuaefalcon7binstruct_style_logs:v0\",\n",
    "#     \"BOSS_Sentiment_SST5_Falcon_Substitute\": \"run-hhtbcw8x-sst5_aug_substitute_random_16_tiiuaefalcon7binstruct_style_logs:v0\",\n",
    "#     \"BOSS_Sentiment_SST5_Falcon_Translate\": \"run-hhtbcw8x-sst5_aug_backtranslate_random_16_tiiuaefalcon7binstruct_style_logs:v0\",\n",
    "#     \"BOSS_Sentiment_SST5_Falcon_Paraphrase\": \"run-hhtbcw8x-sst5_stabilityaiStableBeluga7b_random_0_tiiuaefalcon7binstruct_style_logs:v0\",\n",
    "#     \"BOSS_Sentiment_SST5_Falcon_ICR\": \"run-hhtbcw8x-sst5_stabilityaiStableBeluga7b_random_16_tiiuaefalcon7binstruct_style_logs:v0\",\n",
    "\n",
    "#     # SemEval\n",
    "#     # BERT\n",
    "#     \"BOSS_Sentiment_SemEval_BERT_Insert\": \"run-hhtbcw8x-semval_aug_insert_random_16_Kyle1668bosssentimentbertbaseuncased_style_logs:v0\",\n",
    "#     \"BOSS_Sentiment_SemEval_BERT_Substitute\": \"run-hhtbcw8x-semval_aug_substitute_random_16_Kyle1668bosssentimentbertbaseuncased_style_logs:v0\",\n",
    "#     \"BOSS_Sentiment_SemEval_BERT_Translate\": \"run-hhtbcw8x-semval_aug_backtranslate_random_16_Kyle1668bosssentimentbertbaseuncased_style_logs:v0\",\n",
    "#     \"BOSS_Sentiment_SemEval_BERT_Paraphrase\": \"run-hhtbcw8x-semval_stabilityaiStableBeluga7b_random_0_Kyle1668bosssentimentbertbaseuncased_style_logs:v0\",\n",
    "#     \"BOSS_Sentiment_SemEval_BERT_ICR\": \"run-hhtbcw8x-semval_stabilityaiStableBeluga7b_random_16_Kyle1668bosssentimentbertbaseuncased_style_logs:v0\",\n",
    "\n",
    "#     # T5\n",
    "#     \"BOSS_Sentiment_SemEval_T5_Insert\": \"run-hhtbcw8x-semval_aug_insert_random_16_Kyle1668bosssentimentt5large_style_logs:v0\",\n",
    "#     \"BOSS_Sentiment_SemEval_T5_Substitute\": \"run-hhtbcw8x-semval_aug_substitute_random_16_Kyle1668bosssentimentt5large_style_logs:v0\",\n",
    "#     \"BOSS_Sentiment_SemEval_T5_Translate\": \"run-hhtbcw8x-semval_aug_backtranslate_random_16_Kyle1668bosssentimentt5large_style_logs:v0\",\n",
    "#     \"BOSS_Sentiment_SemEval_T5_Paraphrase\": \"run-hhtbcw8x-semval_stabilityaiStableBeluga7b_random_0_Kyle1668bosssentimentt5large_style_logs:v0\",\n",
    "#     \"BOSS_Sentiment_SemEval_T5_ICR\": \"run-hhtbcw8x-semval_stabilityaiStableBeluga7b_random_16_Kyle1668bosssentimentt5large_style_logs:v0\",\n",
    "\n",
    "#     # Falcon\n",
    "#     \"BOSS_Sentiment_SemEval_Falcon_Insert\": \"run-hhtbcw8x-semval_aug_insert_random_16_tiiuaefalcon7binstruct_style_logs:v0\",\n",
    "#     \"BOSS_Sentiment_SemEval_Falcon_Substitute\": \"run-hhtbcw8x-semval_aug_substitute_random_16_tiiuaefalcon7binstruct_style_logs:v0\",\n",
    "#     \"BOSS_Sentiment_SemEval_Falcon_Translate\": \"run-hhtbcw8x-semval_aug_backtranslate_random_16_tiiuaefalcon7binstruct_style_logs:v0\",\n",
    "#     \"BOSS_Sentiment_SemEval_Falcon_Paraphrase\": \"run-hhtbcw8x-semval_stabilityaiStableBeluga7b_random_0_tiiuaefalcon7binstruct_style_logs:v0\",\n",
    "#     \"BOSS_Sentiment_SemEval_Falcon_ICR\": \"run-hhtbcw8x-semval_stabilityaiStableBeluga7b_random_16_tiiuaefalcon7binstruct_style_logs:v0\",\n",
    "\n",
    "#     # Dynasent\n",
    "#     # BERT\n",
    "#     \"BOSS_Sentiment_Dynasent_BERT_Insert\": \"run-hhtbcw8x-dynasent_aug_insert_random_16_Kyle1668bosssentimentbertbaseuncased_style_logs:v0\",\n",
    "#     \"BOSS_Sentiment_Dynasent_BERT_Substitute\": \"run-hhtbcw8x-dynasent_aug_substitute_random_16_Kyle1668bosssentimentbertbaseuncased_style_logs:v0\",\n",
    "#     \"BOSS_Sentiment_Dynasent_BERT_Translate\": \"run-hhtbcw8x-dynasent_aug_backtranslate_random_16_Kyle1668bosssentimentbertbaseuncased_style_logs:v0\",\n",
    "#     \"BOSS_Sentiment_Dynasent_BERT_Paraphrase\": \"run-hhtbcw8x-dynasent_stabilityaiStableBeluga7b_random_0_Kyle1668bosssentimentbertbaseuncased_style_logs:v0\",\n",
    "#     \"BOSS_Sentiment_Dynasent_BERT_ICR\": \"run-hhtbcw8x-dynasent_stabilityaiStableBeluga7b_random_16_Kyle1668bosssentimentbertbaseuncased_style_logs:v0\",\n",
    "\n",
    "#     # T5\n",
    "#     \"BOSS_Sentiment_Dynasent_T5_Insert\": \"run-hhtbcw8x-dynasent_aug_insert_random_16_Kyle1668bosssentimentt5large_style_logs:v0\",\n",
    "#     \"BOSS_Sentiment_Dynasent_T5_Substitute\": \"run-hhtbcw8x-dynasent_aug_substitute_random_16_Kyle1668bosssentimentt5large_style_logs:v0\",\n",
    "#     \"BOSS_Sentiment_Dynasent_T5_Translate\": \"run-hhtbcw8x-dynasent_aug_backtranslate_random_16_Kyle1668bosssentimentt5large_style_logs:v0\",\n",
    "#     \"BOSS_Sentiment_Dynasent_T5_Paraphrase\": \"run-hhtbcw8x-dynasent_stabilityaiStableBeluga7b_random_0_Kyle1668bosssentimentt5large_style_logs:v0\",\n",
    "#     \"BOSS_Sentiment_Dynasent_T5_ICR\": \"run-hhtbcw8x-dynasent_stabilityaiStableBeluga7b_random_16_Kyle1668bosssentimentt5large_style_logs:v0\",\n",
    "\n",
    "#     # Falcon\n",
    "#     \"BOSS_Sentiment_Dynasent_Falcon_Insert\": \"run-hhtbcw8x-dynasent_aug_insert_random_16_tiiuaefalcon7binstruct_style_logs:v0\",\n",
    "#     \"BOSS_Sentiment_Dynasent_Falcon_Substitute\": \"run-hhtbcw8x-dynasent_aug_substitute_random_16_tiiuaefalcon7binstruct_style_logs:v0\",\n",
    "#     \"BOSS_Sentiment_Dynasent_Falcon_Translate\": \"run-hhtbcw8x-dynasent_aug_backtranslate_random_16_tiiuaefalcon7binstruct_style_logs:v0\",\n",
    "#     \"BOSS_Sentiment_Dynasent_Falcon_Paraphrase\": \"run-hhtbcw8x-dynasent_stabilityaiStableBeluga7b_random_0_tiiuaefalcon7binstruct_style_logs:v0\",\n",
    "#     \"BOSS_Sentiment_Dynasent_Falcon_ICR\": \"run-hhtbcw8x-dynasent_stabilityaiStableBeluga7b_random_16_tiiuaefalcon7binstruct_style_logs:v0\",\n",
    "\n",
    "#     # BOSS Toxicity\n",
    "#     # ID\n",
    "#     # BERT\n",
    "#     \"BOSS_Toxicity_ID_BERT_Insert\": \"\",\n",
    "#     \"BOSS_Toxicity_ID_BERT_Substitute\": \"\",\n",
    "#     \"BOSS_Toxicity_ID_BERT_Translate\": \"\",\n",
    "#     \"BOSS_Toxicity_ID_BERT_Paraphrase\": \"\",\n",
    "#     \"BOSS_Toxicity_ID_BERT_ICR\": \"run-dvdcuuij-validation_stabilityaiStableBeluga7b_random_16_Kyle1668bosstoxicitybertbaseuncased_style_logs:v0\",\n",
    "\n",
    "#     # T5\n",
    "#     \"BOSS_Toxicity_ID_T5_Insert\": \"\",\n",
    "#     \"BOSS_Toxicity_ID_T5_Substitute\": \"\",\n",
    "#     \"BOSS_Toxicity_ID_T5_Translate\": \"\",\n",
    "#     \"BOSS_Toxicity_ID_T5_Paraphrase\": \"\",\n",
    "#     \"BOSS_Toxicity_ID_T5_ICR\": \"\",\n",
    "\n",
    "#     # Falcon\n",
    "#     \"BOSS_Toxicity_ID_Falcon_Insert\": \"run-bo8gbtun-validation_aug_insert_random_16_tiiuaefalcon7binstruct_style_logs:v0\",\n",
    "#     \"BOSS_Toxicity_ID_Falcon_Substitute\": \"\",\n",
    "#     \"BOSS_Toxicity_ID_Falcon_Translate\": \"\",\n",
    "#     \"BOSS_Toxicity_ID_Falcon_Paraphrase\": \"\",\n",
    "#     \"BOSS_Toxicity_ID_Falcon_ICR\": \"\",\n",
    "\n",
    "#     # Toxigen\n",
    "#     # BERT\n",
    "#     \"BOSS_Toxicity_Toxigen_BERT_Insert\": \"run-lixlm6qh-toxigen_aug_insert_random_16_Kyle1668bosstoxicitybertbaseuncased_style_logs:v0\",\n",
    "#     \"BOSS_Toxicity_Toxigen_BERT_Substitute\": \"run-lixlm6qh-toxigen_aug_substitute_random_16_Kyle1668bosstoxicitybertbaseuncased_style_logs:v0\",\n",
    "#     \"BOSS_Toxicity_Toxigen_BERT_Translate\": \"run-lixlm6qh-toxigen_aug_backtranslate_random_16_Kyle1668bosstoxicitybertbaseuncased_style_logs:v0\",\n",
    "#     \"BOSS_Toxicity_Toxigen_BERT_Paraphrase\": \"run-lixlm6qh-toxigen_stabilityaiStableBeluga7b_random_0_Kyle1668bosstoxicitybertbaseuncased_style_logs:v0\",\n",
    "#     \"BOSS_Toxicity_Toxigen_BERT_ICR\": \"run-lixlm6qh-toxigen_stabilityaiStableBeluga7b_random_16_Kyle1668bosstoxicitybertbaseuncased_style_logs:v0\",\n",
    "\n",
    "#     # T5\n",
    "#     \"BOSS_Toxicity_Toxigen_T5_Insert\": \"run-lixlm6qh-toxigen_aug_insert_random_16_Kyle1668bosstoxicityt5large_style_logs:v0\",\n",
    "#     \"BOSS_Toxicity_Toxigen_T5_Substitute\": \"run-lixlm6qh-toxigen_aug_substitute_random_16_Kyle1668bosstoxicityt5large_style_logs:v0\",\n",
    "#     \"BOSS_Toxicity_Toxigen_T5_Translate\": \"run-lixlm6qh-toxigen_aug_backtranslate_random_16_Kyle1668bosstoxicityt5large_style_logs:v0\",\n",
    "#     \"BOSS_Toxicity_Toxigen_T5_Paraphrase\": \"run-lixlm6qh-toxigen_stabilityaiStableBeluga7b_random_0_Kyle1668bosstoxicityt5large_style_logs:v0\",\n",
    "#     \"BOSS_Toxicity_Toxigen_T5_ICR\": \"run-lixlm6qh-toxigen_stabilityaiStableBeluga7b_random_16_Kyle1668bosstoxicityt5large_style_logs:v0\",\n",
    "\n",
    "#     # Falcon\n",
    "#     \"BOSS_Toxicity_Toxigen_Falcon_Insert\": \"run-lixlm6qh-toxigen_aug_insert_random_16_tiiuaefalcon7binstruct_style_logs:v0\",\n",
    "#     \"BOSS_Toxicity_Toxigen_Falcon_Substitute\": \"run-lixlm6qh-toxigen_aug_substitute_random_16_tiiuaefalcon7binstruct_style_logs:v0\",\n",
    "#     \"BOSS_Toxicity_Toxigen_Falcon_Translate\": \"run-lixlm6qh-toxigen_aug_backtranslate_random_16_tiiuaefalcon7binstruct_style_logs:v0\",\n",
    "#     \"BOSS_Toxicity_Toxigen_Falcon_Paraphrase\": \"run-lixlm6qh-toxigen_stabilityaiStableBeluga7b_random_0_tiiuaefalcon7binstruct_style_logs:v0\",\n",
    "#     \"BOSS_Toxicity_Toxigen_Falcon_ICR\": \"run-lixlm6qh-toxigen_stabilityaiStableBeluga7b_random_16_tiiuaefalcon7binstruct_style_logs:v0\",\n",
    "\n",
    "#     # ImplicitHate\n",
    "#     # BERT\n",
    "#     \"BOSS_Toxicity_ImplicitHate_BERT_Insert\": \"run-lixlm6qh-implicit_hate_aug_insert_random_16_Kyle1668bosstoxicitybertbaseuncased_style_logs:v0\",\n",
    "#     \"BOSS_Toxicity_ImplicitHate_BERT_Substitute\": \"run-lixlm6qh-implicit_hate_aug_substitute_random_16_Kyle1668bosstoxicitybertbaseuncased_style_logs:v0\",\n",
    "#     \"BOSS_Toxicity_ImplicitHate_BERT_Translate\": \"run-lixlm6qh-implicit_hate_aug_backtranslate_random_16_Kyle1668bosstoxicitybertbaseuncased_style_logs:v0\",\n",
    "#     \"BOSS_Toxicity_ImplicitHate_BERT_Paraphrase\": \"run-lixlm6qh-implicit_hate_stabilityaiStableBeluga7b_random_0_Kyle1668bosstoxicitybertbaseuncased_style_logs:v0\",\n",
    "#     \"BOSS_Toxicity_ImplicitHate_BERT_ICR\": \"run-lixlm6qh-implicit_hate_stabilityaiStableBeluga7b_random_16_Kyle1668bosstoxicitybertbaseuncased_style_logs:v0\",\n",
    "\n",
    "#     # T5\n",
    "#     \"BOSS_Toxicity_ImplicitHate_T5_Insert\": \"run-lixlm6qh-implicit_hate_aug_insert_random_16_Kyle1668bosstoxicityt5large_style_logs:v0\",\n",
    "#     \"BOSS_Toxicity_ImplicitHate_T5_Substitute\": \"run-lixlm6qh-implicit_hate_aug_substitute_random_16_Kyle1668bosstoxicityt5large_style_logs:v0\",\n",
    "#     \"BOSS_Toxicity_ImplicitHate_T5_Translate\": \"run-lixlm6qh-implicit_hate_aug_backtranslate_random_16_Kyle1668bosstoxicityt5large_style_logs:v0\",\n",
    "#     \"BOSS_Toxicity_ImplicitHate_T5_Paraphrase\": \"run-lixlm6qh-implicit_hate_stabilityaiStableBeluga7b_random_0_Kyle1668bosstoxicityt5large_style_logs:v0\",\n",
    "#     \"BOSS_Toxicity_ImplicitHate_T5_ICR\": \"run-lixlm6qh-implicit_hate_stabilityaiStableBeluga7b_random_16_Kyle1668bosstoxicityt5large_style_logs:v0\",\n",
    "\n",
    "#     # Falcon\n",
    "#     \"BOSS_Toxicity_ImplicitHate_Falcon_Insert\": \"run-lixlm6qh-implicit_hate_aug_insert_random_16_tiiuaefalcon7binstruct_style_logs:v0\",\n",
    "#     \"BOSS_Toxicity_ImplicitHate_Falcon_Substitute\": \"run-lixlm6qh-implicit_hate_aug_substitute_random_16_tiiuaefalcon7binstruct_style_logs:v0\",\n",
    "#     \"BOSS_Toxicity_ImplicitHate_Falcon_Translate\": \"run-lixlm6qh-implicit_hate_aug_backtranslate_random_16_tiiuaefalcon7binstruct_style_logs:v0\",\n",
    "#     \"BOSS_Toxicity_ImplicitHate_Falcon_Paraphrase\": \"\",\n",
    "#     \"BOSS_Toxicity_ImplicitHate_Falcon_ICR\": \"\",\n",
    "\n",
    "#     # AdvCivil\n",
    "#     # BERT\n",
    "#     \"BOSS_Toxicity_AdvCivil_BERT_Insert\": \"run-lixlm6qh-adv_civil_aug_insert_random_16_Kyle1668bosstoxicitybertbaseuncased_style_logs:v0\",\n",
    "#     \"BOSS_Toxicity_AdvCivil_BERT_Substitute\": \"run-lixlm6qh-adv_civil_aug_substitute_random_16_Kyle1668bosstoxicitybertbaseuncased_style_logs:v0\",\n",
    "#     \"BOSS_Toxicity_AdvCivil_BERT_Translate\": \"run-lixlm6qh-adv_civil_aug_backtranslate_random_16_Kyle1668bosstoxicitybertbaseuncased_style_logs:v0\",\n",
    "#     \"BOSS_Toxicity_AdvCivil_BERT_Paraphrase\": \"run-lixlm6qh-adv_civil_stabilityaiStableBeluga7b_random_0_Kyle1668bosstoxicitybertbaseuncased_style_logs:v0\",\n",
    "#     \"BOSS_Toxicity_AdvCivil_BERT_ICR\": \"run-lixlm6qh-adv_civil_stabilityaiStableBeluga7b_random_16_Kyle1668bosstoxicitybertbaseuncased_style_logs:v0\",\n",
    "\n",
    "#     # T5\n",
    "#     \"BOSS_Toxicity_AdvCivil_T5_Insert\": \"run-lixlm6qh-adv_civil_aug_insert_random_16_Kyle1668bosstoxicityt5large_style_logs:v0\",\n",
    "#     \"BOSS_Toxicity_AdvCivil_T5_Substitute\": \"run-lixlm6qh-adv_civil_aug_substitute_random_16_Kyle1668bosstoxicityt5large_style_logs:v0\",\n",
    "#     \"BOSS_Toxicity_AdvCivil_T5_Translate\": \"run-lixlm6qh-adv_civil_aug_backtranslate_random_16_Kyle1668bosstoxicityt5large_style_logs:v0\",\n",
    "#     \"BOSS_Toxicity_AdvCivil_T5_Paraphrase\": \"run-lixlm6qh-adv_civil_stabilityaiStableBeluga7b_random_0_Kyle1668bosstoxicityt5large_style_logs:v0\",\n",
    "#     \"BOSS_Toxicity_AdvCivil_T5_ICR\": \"run-lixlm6qh-adv_civil_stabilityaiStableBeluga7b_random_16_Kyle1668bosstoxicityt5large_style_logs:v0\",\n",
    "\n",
    "#     # Falcon\n",
    "#     \"BOSS_Toxicity_AdvCivil_Falcon_Insert\": \"run-lixlm6qh-adv_civil_aug_insert_random_16_tiiuaefalcon7binstruct_style_logs:v0\",\n",
    "#     \"BOSS_Toxicity_AdvCivil_Falcon_Substitute\": \"run-lixlm6qh-adv_civil_aug_substitute_random_16_tiiuaefalcon7binstruct_style_logs:v0\",\n",
    "#     \"BOSS_Toxicity_AdvCivil_Falcon_Translate\": \"run-lixlm6qh-adv_civil_aug_backtranslate_random_16_tiiuaefalcon7binstruct_style_logs:v0\",\n",
    "#     \"BOSS_Toxicity_AdvCivil_Falcon_Paraphrase\": \"run-lixlm6qh-adv_civil_stabilityaiStableBeluga7b_random_0_tiiuaefalcon7binstruct_style_logs:v0\",\n",
    "#     \"BOSS_Toxicity_AdvCivil_Falcon_ICR\": \"run-lixlm6qh-adv_civil_stabilityaiStableBeluga7b_random_16_tiiuaefalcon7binstruct_style_logs:v0\",\n",
    "\n",
    "#     # AG News Tweets\n",
    "#     # ID\n",
    "#     # BERT\n",
    "#     \"AgNewsTweets_ID_BERT_Insert\": \"run-i2vkae2s-validation_aug_insert_random_16_Kyle1668agnewsbertbaseuncased_style_logs:v0\",\n",
    "#     \"AgNewsTweets_ID_BERT_Substitute\": \"run-i2vkae2s-validation_aug_substitute_random_16_Kyle1668agnewsbertbaseuncased_style_logs:v0\",\n",
    "#     \"AgNewsTweets_ID_BERT_Translate\": \"run-i2vkae2s-validation_aug_backtranslate_random_16_Kyle1668agnewsbertbaseuncased_style_logs:v0\",\n",
    "#     \"AgNewsTweets_ID_BERT_Paraphrase\": \"run-i2vkae2s-validation_stabilityaiStableBeluga7b_random_0_Kyle1668agnewsbertbaseuncased_style_logs:v0\",\n",
    "#     \"AgNewsTweets_ID_BERT_ICR\": \"run-i2vkae2s-validation_stabilityaiStableBeluga7b_random_16_Kyle1668agnewsbertbaseuncased_style_logs:v0\",\n",
    "\n",
    "#     # T5\n",
    "#     \"AgNewsTweets_ID_T5_Insert\": \"run-i2vkae2s-validation_aug_insert_random_16_Kyle1668agnewst5large_style_logs:v0\",\n",
    "#     \"AgNewsTweets_ID_T5_Substitute\": \"run-i2vkae2s-validation_aug_substitute_random_16_Kyle1668agnewst5large_style_logs:v0\",\n",
    "#     \"AgNewsTweets_ID_T5_Translate\": \"run-i2vkae2s-validation_aug_backtranslate_random_16_Kyle1668agnewst5large_style_logs:v0\",\n",
    "#     \"AgNewsTweets_ID_T5_Paraphrase\": \"run-i2vkae2s-validation_stabilityaiStableBeluga7b_random_0_Kyle1668agnewst5large_style_logs:v0\",\n",
    "#     \"AgNewsTweets_ID_T5_ICR\": \"run-i2vkae2s-validation_stabilityaiStableBeluga7b_random_16_Kyle1668agnewst5large_style_logs:v0\",\n",
    "\n",
    "#     # Falcon\n",
    "#     \"AgNewsTweets_ID_Falcon_Insert\": \"run-i2vkae2s-validation_aug_insert_random_16_tiiuaefalcon7binstruct_style_logs:v0\",\n",
    "#     \"AgNewsTweets_ID_Falcon_Substitute\": \"run-i2vkae2s-validation_aug_substitute_random_16_tiiuaefalcon7binstruct_style_logs:v0\",\n",
    "#     \"AgNewsTweets_ID_Falcon_Translate\": \"run-i2vkae2s-validation_aug_backtranslate_random_16_tiiuaefalcon7binstruct_style_logs:v0\",\n",
    "#     \"AgNewsTweets_ID_Falcon_Paraphrase\": \"run-i2vkae2s-validation_stabilityaiStableBeluga7b_random_0_tiiuaefalcon7binstruct_style_logs:v0\",\n",
    "#     \"AgNewsTweets_ID_Falcon_ICR\": \"run-i2vkae2s-validation_stabilityaiStableBeluga7b_random_16_tiiuaefalcon7binstruct_style_logs:v0\",\n",
    "\n",
    "#     # Tweets\n",
    "#     # BERT\n",
    "#     \"AgNewsTweets_Tweets_BERT_Insert\": \"run-xdipkawo-test_aug_insert_random_16_Kyle1668agnewsbertbaseuncased_style_logs:v0\",\n",
    "#     \"AgNewsTweets_Tweets_BERT_Substitute\": \"run-xdipkawo-test_aug_substitute_random_16_Kyle1668agnewsbertbaseuncased_style_logs:v0\",\n",
    "#     \"AgNewsTweets_Tweets_BERT_Translate\": \"run-xdipkawo-test_aug_backtranslate_random_16_Kyle1668agnewsbertbaseuncased_style_logs:v0\",\n",
    "#     \"AgNewsTweets_Tweets_BERT_Paraphrase\": \"run-xdipkawo-test_stabilityaiStableBeluga7b_random_0_Kyle1668agnewsbertbaseuncased_style_logs:v0\",\n",
    "#     \"AgNewsTweets_Tweets_BERT_ICR\": \"run-xdipkawo-test_stabilityaiStableBeluga7b_random_16_Kyle1668agnewsbertbaseuncased_style_logs:v0\",\n",
    "\n",
    "#     # T5\n",
    "#     \"AgNewsTweets_Tweets_T5_Insert\": \"run-xdipkawo-test_aug_insert_random_16_Kyle1668agnewst5large_style_logs:v0\",\n",
    "#     \"AgNewsTweets_Tweets_T5_Substitute\": \"run-xdipkawo-test_aug_substitute_random_16_Kyle1668agnewst5large_style_logs:v0\",\n",
    "#     \"AgNewsTweets_Tweets_T5_Translate\": \"run-xdipkawo-test_aug_backtranslate_random_16_Kyle1668agnewst5large_style_logs:v0\",\n",
    "#     \"AgNewsTweets_Tweets_T5_Paraphrase\": \"run-xdipkawo-test_stabilityaiStableBeluga7b_random_0_Kyle1668agnewst5large_style_logs:v0\",\n",
    "#     \"AgNewsTweets_Tweets_T5_ICR\": \"run-xdipkawo-test_stabilityaiStableBeluga7b_random_16_Kyle1668agnewst5large_style_logs:v0\",\n",
    "\n",
    "#     # Falcon\n",
    "#     \"AgNewsTweets_Tweets_Falcon_Insert\": \"run-xdipkawo-test_aug_insert_random_16_tiiuaefalcon7binstruct_style_logs:v0\",\n",
    "#     \"AgNewsTweets_Tweets_Falcon_Substitute\": \"run-xdipkawo-test_aug_substitute_random_16_tiiuaefalcon7binstruct_style_logs:v0\",\n",
    "#     \"AgNewsTweets_Tweets_Falcon_Translate\": \"run-xdipkawo-test_aug_backtranslate_random_16_tiiuaefalcon7binstruct_style_logs:v0\",\n",
    "#     \"AgNewsTweets_Tweets_Falcon_Paraphrase\": \"run-xdipkawo-test_stabilityaiStableBeluga7b_random_0_tiiuaefalcon7binstruct_style_logs:v0\",\n",
    "#     \"AgNewsTweets_Tweets_Falcon_ICR\": \"\",\n",
    "# }\n",
    "\n",
    "# print(json.dumps(table_paths, indent=4))"
   ]
  }
 ],
 "metadata": {
  "kernelspec": {
   "display_name": "eval-aug",
   "language": "python",
   "name": "python3"
  },
  "language_info": {
   "codemirror_mode": {
    "name": "ipython",
    "version": 3
   },
   "file_extension": ".py",
   "mimetype": "text/x-python",
   "name": "python",
   "nbconvert_exporter": "python",
   "pygments_lexer": "ipython3",
   "version": "3.10.13"
  }
 },
 "nbformat": 4,
 "nbformat_minor": 2
}
