{
 "cells": [
  {
   "cell_type": "code",
   "execution_count": 1,
   "metadata": {},
   "outputs": [
    {
     "name": "stderr",
     "output_type": "stream",
     "text": [
      "/home/kyle/miniconda3/envs/icdt/lib/python3.10/site-packages/tqdm/auto.py:21: TqdmWarning: IProgress not found. Please update jupyter and ipywidgets. See https://ipywidgets.readthedocs.io/en/stable/user_install.html\n",
      "  from .autonotebook import tqdm as notebook_tqdm\n"
     ]
    }
   ],
   "source": [
    "import os\n",
    "import torch\n",
    "from transformers import AutoConfig, AutoTokenizer, LlamaTokenizer, AutoModelForCausalLM, AutoModelForSeq2SeqLM, AutoModelForSequenceClassification, AutoModelForQuestionAnswering, pipeline\n"
   ]
  },
  {
   "cell_type": "code",
   "execution_count": 2,
   "metadata": {},
   "outputs": [],
   "source": [
    "def get_model_objects(model_name, num_labels, training=False):\n",
    "    model_config = AutoConfig.from_pretrained(model_name, trust_remote_code=True)\n",
    "    is_seq2seq_lm = model_config.architectures[0].endswith(\"ForConditionalGeneration\")\n",
    "    is_qa_model = model_config.architectures[0].endswith(\"ForQuestionAnswering\")\n",
    "    is_llm = model_config.architectures[0].endswith(\"ForCausalLM\")\n",
    "    is_llama_based_model = is_llm and \"llama\" in model_name or \"vicuna\" in model_name\n",
    "\n",
    "    tokenizer = LlamaTokenizer.from_pretrained(model_name) if is_llama_based_model else AutoTokenizer.from_pretrained(model_name, trust_remote_code=True)\n",
    "    if tokenizer.pad_token is None:\n",
    "        tokenizer.pad_token = \"<s>\" if tokenizer.pad_token in [None, \"\"] and str(tokenizer.eos_token) in [None, \"\"] else tokenizer.eos_token\n",
    "\n",
    "    model = None\n",
    "    device = \"cuda\" if torch.cuda.is_available() else \"cpu\"\n",
    "    numerical_precision = torch.float32 if training else torch.float16\n",
    "    if is_llm:\n",
    "        num_billions = [int(entry[:-1]) for entry in model_name.split(\"-\") if entry[0].isdigit() and entry.lower().endswith(\"b\")]\n",
    "        large_models = [\"stabilityai/StableBeluga2\"]\n",
    "        load_in_8bit = (len(num_billions) > 0 and num_billions[0] > 7) or training or model_name in large_models\n",
    "        if load_in_8bit:\n",
    "            print(\"Loading in 8-bit mode since the model has more than 7B parameters or we are training.\")\n",
    "            model = AutoModelForCausalLM.from_pretrained(model_name, trust_remote_code=True, load_in_8bit=True, llm_int8_threshold=0, device_map=\"auto\").eval()\n",
    "            # model = AutoModelForCausalLM.from_pretrained(model_name, trust_remote_code=True, torch_dtype=torch.float16, low_cpu_mem_usage=True, device_map=\"auto\").eval()\n",
    "        else:\n",
    "            model = AutoModelForCausalLM.from_pretrained(model_name, trust_remote_code=True, torch_dtype=numerical_precision).eval().to(device)\n",
    "    elif is_qa_model:\n",
    "        model = AutoModelForQuestionAnswering.from_pretrained(model_name, trust_remote_code=True, torch_dtype=numerical_precision).eval().to(device)\n",
    "    elif is_seq2seq_lm:\n",
    "        model = AutoModelForSeq2SeqLM.from_pretrained(model_name, trust_remote_code=True, torch_dtype=numerical_precision).eval().to(device)\n",
    "    else:\n",
    "        model = AutoModelForSequenceClassification.from_pretrained(model_name, trust_remote_code=True, num_labels=num_labels).eval().to(device)\n",
    "    return tokenizer, model\n",
    "\n",
    "# paraphrase_tokenizer, paraphrase_model = get_model_objects(\"humarin/chatgpt_paraphraser_on_T5_base\", num_labels=-1)"
   ]
  },
  {
   "cell_type": "code",
   "execution_count": 3,
   "metadata": {},
   "outputs": [
    {
     "name": "stderr",
     "output_type": "stream",
     "text": [
      "Downloading (…)lve/main/config.json: 100%|██████████| 657/657 [00:00<00:00, 3.66MB/s]\n",
      "Downloading (…)okenizer_config.json: 100%|██████████| 749/749 [00:00<00:00, 4.42MB/s]"
     ]
    },
    {
     "name": "stderr",
     "output_type": "stream",
     "text": [
      "\n",
      "Downloading tokenizer.model: 100%|██████████| 500k/500k [00:00<00:00, 10.6MB/s]\n",
      "Downloading (…)/main/tokenizer.json: 100%|██████████| 1.84M/1.84M [00:00<00:00, 18.5MB/s]\n",
      "Downloading (…)cial_tokens_map.json: 100%|██████████| 411/411 [00:00<00:00, 1.93MB/s]\n",
      "Using pad_token, but it is not set yet.\n",
      "Using pad_token, but it is not set yet.\n"
     ]
    },
    {
     "name": "stdout",
     "output_type": "stream",
     "text": [
      "Loading in 8-bit mode since the model has more than 7B parameters or we are training.\n"
     ]
    },
    {
     "name": "stderr",
     "output_type": "stream",
     "text": [
      "Overriding torch_dtype=None with `torch_dtype=torch.float16` due to requirements of `bitsandbytes` to enable model loading in mixed int8. Either pass torch_dtype=torch.float16 or don't pass this argument at all to remove this warning.\n"
     ]
    },
    {
     "ename": "OSError",
     "evalue": "TheBloke/Llama-2-70B-Chat-fp16 does not appear to have a file named pytorch_model.bin, tf_model.h5, model.ckpt or flax_model.msgpack.",
     "output_type": "error",
     "traceback": [
      "\u001b[0;31m---------------------------------------------------------------------------\u001b[0m",
      "\u001b[0;31mOSError\u001b[0m                                   Traceback (most recent call last)",
      "Cell \u001b[0;32mIn[3], line 1\u001b[0m\n\u001b[0;32m----> 1\u001b[0m get_model_objects(\u001b[39m\"\u001b[39;49m\u001b[39mTheBloke/Llama-2-70B-Chat-fp16\u001b[39;49m\u001b[39m\"\u001b[39;49m, num_labels\u001b[39m=\u001b[39;49m\u001b[39m-\u001b[39;49m\u001b[39m1\u001b[39;49m)\n",
      "Cell \u001b[0;32mIn[2], line 21\u001b[0m, in \u001b[0;36mget_model_objects\u001b[0;34m(model_name, num_labels, training)\u001b[0m\n\u001b[1;32m     19\u001b[0m \u001b[39mif\u001b[39;00m load_in_8bit:\n\u001b[1;32m     20\u001b[0m     \u001b[39mprint\u001b[39m(\u001b[39m\"\u001b[39m\u001b[39mLoading in 8-bit mode since the model has more than 7B parameters or we are training.\u001b[39m\u001b[39m\"\u001b[39m)\n\u001b[0;32m---> 21\u001b[0m     model \u001b[39m=\u001b[39m AutoModelForCausalLM\u001b[39m.\u001b[39;49mfrom_pretrained(model_name, trust_remote_code\u001b[39m=\u001b[39;49m\u001b[39mTrue\u001b[39;49;00m, load_in_8bit\u001b[39m=\u001b[39;49m\u001b[39mTrue\u001b[39;49;00m, llm_int8_threshold\u001b[39m=\u001b[39;49m\u001b[39m0\u001b[39;49m, device_map\u001b[39m=\u001b[39;49m\u001b[39m\"\u001b[39;49m\u001b[39mauto\u001b[39;49m\u001b[39m\"\u001b[39;49m)\u001b[39m.\u001b[39meval()\n\u001b[1;32m     22\u001b[0m     \u001b[39m# model = AutoModelForCausalLM.from_pretrained(model_name, trust_remote_code=True, torch_dtype=torch.float16, low_cpu_mem_usage=True, device_map=\"auto\").eval()\u001b[39;00m\n\u001b[1;32m     23\u001b[0m \u001b[39melse\u001b[39;00m:\n\u001b[1;32m     24\u001b[0m     model \u001b[39m=\u001b[39m AutoModelForCausalLM\u001b[39m.\u001b[39mfrom_pretrained(model_name, trust_remote_code\u001b[39m=\u001b[39m\u001b[39mTrue\u001b[39;00m, torch_dtype\u001b[39m=\u001b[39mnumerical_precision)\u001b[39m.\u001b[39meval()\u001b[39m.\u001b[39mto(device)\n",
      "File \u001b[0;32m~/miniconda3/envs/icdt/lib/python3.10/site-packages/transformers/models/auto/auto_factory.py:471\u001b[0m, in \u001b[0;36m_BaseAutoModelClass.from_pretrained\u001b[0;34m(cls, pretrained_model_name_or_path, *model_args, **kwargs)\u001b[0m\n\u001b[1;32m    469\u001b[0m \u001b[39melif\u001b[39;00m \u001b[39mtype\u001b[39m(config) \u001b[39min\u001b[39;00m \u001b[39mcls\u001b[39m\u001b[39m.\u001b[39m_model_mapping\u001b[39m.\u001b[39mkeys():\n\u001b[1;32m    470\u001b[0m     model_class \u001b[39m=\u001b[39m _get_model_class(config, \u001b[39mcls\u001b[39m\u001b[39m.\u001b[39m_model_mapping)\n\u001b[0;32m--> 471\u001b[0m     \u001b[39mreturn\u001b[39;00m model_class\u001b[39m.\u001b[39;49mfrom_pretrained(\n\u001b[1;32m    472\u001b[0m         pretrained_model_name_or_path, \u001b[39m*\u001b[39;49mmodel_args, config\u001b[39m=\u001b[39;49mconfig, \u001b[39m*\u001b[39;49m\u001b[39m*\u001b[39;49mhub_kwargs, \u001b[39m*\u001b[39;49m\u001b[39m*\u001b[39;49mkwargs\n\u001b[1;32m    473\u001b[0m     )\n\u001b[1;32m    474\u001b[0m \u001b[39mraise\u001b[39;00m \u001b[39mValueError\u001b[39;00m(\n\u001b[1;32m    475\u001b[0m     \u001b[39mf\u001b[39m\u001b[39m\"\u001b[39m\u001b[39mUnrecognized configuration class \u001b[39m\u001b[39m{\u001b[39;00mconfig\u001b[39m.\u001b[39m\u001b[39m__class__\u001b[39m\u001b[39m}\u001b[39;00m\u001b[39m for this kind of AutoModel: \u001b[39m\u001b[39m{\u001b[39;00m\u001b[39mcls\u001b[39m\u001b[39m.\u001b[39m\u001b[39m__name__\u001b[39m\u001b[39m}\u001b[39;00m\u001b[39m.\u001b[39m\u001b[39m\\n\u001b[39;00m\u001b[39m\"\u001b[39m\n\u001b[1;32m    476\u001b[0m     \u001b[39mf\u001b[39m\u001b[39m\"\u001b[39m\u001b[39mModel type should be one of \u001b[39m\u001b[39m{\u001b[39;00m\u001b[39m'\u001b[39m\u001b[39m, \u001b[39m\u001b[39m'\u001b[39m\u001b[39m.\u001b[39mjoin(c\u001b[39m.\u001b[39m\u001b[39m__name__\u001b[39m\u001b[39m \u001b[39m\u001b[39mfor\u001b[39;00m\u001b[39m \u001b[39mc\u001b[39m \u001b[39m\u001b[39min\u001b[39;00m\u001b[39m \u001b[39m\u001b[39mcls\u001b[39m\u001b[39m.\u001b[39m_model_mapping\u001b[39m.\u001b[39mkeys())\u001b[39m}\u001b[39;00m\u001b[39m.\u001b[39m\u001b[39m\"\u001b[39m\n\u001b[1;32m    477\u001b[0m )\n",
      "File \u001b[0;32m~/miniconda3/envs/icdt/lib/python3.10/site-packages/transformers/modeling_utils.py:2511\u001b[0m, in \u001b[0;36mPreTrainedModel.from_pretrained\u001b[0;34m(cls, pretrained_model_name_or_path, *model_args, **kwargs)\u001b[0m\n\u001b[1;32m   2505\u001b[0m             \u001b[39mraise\u001b[39;00m \u001b[39mEnvironmentError\u001b[39;00m(\n\u001b[1;32m   2506\u001b[0m                 \u001b[39mf\u001b[39m\u001b[39m\"\u001b[39m\u001b[39m{\u001b[39;00mpretrained_model_name_or_path\u001b[39m}\u001b[39;00m\u001b[39m does not appear to have a file named\u001b[39m\u001b[39m\"\u001b[39m\n\u001b[1;32m   2507\u001b[0m                 \u001b[39mf\u001b[39m\u001b[39m\"\u001b[39m\u001b[39m \u001b[39m\u001b[39m{\u001b[39;00m_add_variant(WEIGHTS_NAME,\u001b[39m \u001b[39mvariant)\u001b[39m}\u001b[39;00m\u001b[39m but there is a file without the variant\u001b[39m\u001b[39m\"\u001b[39m\n\u001b[1;32m   2508\u001b[0m                 \u001b[39mf\u001b[39m\u001b[39m\"\u001b[39m\u001b[39m \u001b[39m\u001b[39m{\u001b[39;00mvariant\u001b[39m}\u001b[39;00m\u001b[39m. Use `variant=None` to load this model from those weights.\u001b[39m\u001b[39m\"\u001b[39m\n\u001b[1;32m   2509\u001b[0m             )\n\u001b[1;32m   2510\u001b[0m         \u001b[39melse\u001b[39;00m:\n\u001b[0;32m-> 2511\u001b[0m             \u001b[39mraise\u001b[39;00m \u001b[39mEnvironmentError\u001b[39;00m(\n\u001b[1;32m   2512\u001b[0m                 \u001b[39mf\u001b[39m\u001b[39m\"\u001b[39m\u001b[39m{\u001b[39;00mpretrained_model_name_or_path\u001b[39m}\u001b[39;00m\u001b[39m does not appear to have a file named\u001b[39m\u001b[39m\"\u001b[39m\n\u001b[1;32m   2513\u001b[0m                 \u001b[39mf\u001b[39m\u001b[39m\"\u001b[39m\u001b[39m \u001b[39m\u001b[39m{\u001b[39;00m_add_variant(WEIGHTS_NAME,\u001b[39m \u001b[39mvariant)\u001b[39m}\u001b[39;00m\u001b[39m, \u001b[39m\u001b[39m{\u001b[39;00mTF2_WEIGHTS_NAME\u001b[39m}\u001b[39;00m\u001b[39m, \u001b[39m\u001b[39m{\u001b[39;00mTF_WEIGHTS_NAME\u001b[39m}\u001b[39;00m\u001b[39m or\u001b[39m\u001b[39m\"\u001b[39m\n\u001b[1;32m   2514\u001b[0m                 \u001b[39mf\u001b[39m\u001b[39m\"\u001b[39m\u001b[39m \u001b[39m\u001b[39m{\u001b[39;00mFLAX_WEIGHTS_NAME\u001b[39m}\u001b[39;00m\u001b[39m.\u001b[39m\u001b[39m\"\u001b[39m\n\u001b[1;32m   2515\u001b[0m             )\n\u001b[1;32m   2516\u001b[0m \u001b[39mexcept\u001b[39;00m \u001b[39mEnvironmentError\u001b[39;00m:\n\u001b[1;32m   2517\u001b[0m     \u001b[39m# Raise any environment error raise by `cached_file`. It will have a helpful error message adapted\u001b[39;00m\n\u001b[1;32m   2518\u001b[0m     \u001b[39m# to the original exception.\u001b[39;00m\n\u001b[1;32m   2519\u001b[0m     \u001b[39mraise\u001b[39;00m\n",
      "\u001b[0;31mOSError\u001b[0m: TheBloke/Llama-2-70B-Chat-fp16 does not appear to have a file named pytorch_model.bin, tf_model.h5, model.ckpt or flax_model.msgpack."
     ]
    }
   ],
   "source": [
    "get_model_objects(\"TheBloke/Llama-2-70B-Chat-fp16\", num_labels=-1)"
   ]
  },
  {
   "cell_type": "code",
   "execution_count": null,
   "metadata": {},
   "outputs": [],
   "source": [
    "import torch\n",
    "from transformers import AutoModelForCausalLM, AutoTokenizer, pipeline\n",
    "\n",
    "tokenizer = AutoTokenizer.from_pretrained(\"stabilityai/StableBeluga2\", use_fast=False)\n",
    "model = AutoModelForCausalLM.from_pretrained(\"stabilityai/StableBeluga2\", torch_dtype=torch.float16, low_cpu_mem_usage=True, device_map=\"auto\")\n",
    "system_prompt = \"### System:\\nYou are Stable Beluga, an AI that follows instructions extremely well. Help as much as you can. Remember, be safe, and don't do anything illegal.\\n\\n\"\n",
    "\n",
    "message = \"Write me a poem please\"\n",
    "prompt = f\"{system_prompt}### User: {message}\\n\\n### Assistant:\\n\"\n",
    "inputs = tokenizer(prompt, return_tensors=\"pt\").to(\"cuda\")\n",
    "output = model.generate(**inputs, do_sample=True, top_p=0.95, top_k=0, max_new_tokens=256)\n",
    "\n",
    "print(tokenizer.decode(output[0], skip_special_tokens=True))\n"
   ]
  },
  {
   "cell_type": "code",
   "execution_count": null,
   "metadata": {},
   "outputs": [],
   "source": [
    "def get_paraphrase_augmentations(\n",
    "    question,\n",
    "    paraphrase_tokenizer,\n",
    "    paraphrase_model,\n",
    "    device,\n",
    "    num_beams=5,\n",
    "    num_beam_groups=5,\n",
    "    num_return_sequences=3,\n",
    "    repetition_penalty=100.0,\n",
    "    diversity_penalty=100.0,\n",
    "    no_repeat_ngram_size=10,\n",
    "    temperature=0.7,\n",
    "    max_length=128,\n",
    "):\n",
    "    input_ids = paraphrase_tokenizer(\n",
    "        f\"paraphrase: {question}\",\n",
    "        return_tensors=\"pt\",\n",
    "        padding=\"longest\",\n",
    "        max_length=max_length,\n",
    "        truncation=True,\n",
    "    ).input_ids.to(device)\n",
    "\n",
    "    outputs = paraphrase_model.generate(\n",
    "        input_ids,\n",
    "        temperature=temperature,\n",
    "        repetition_penalty=repetition_penalty,\n",
    "        num_return_sequences=num_return_sequences,\n",
    "        no_repeat_ngram_size=no_repeat_ngram_size,\n",
    "        num_beams=num_beams,\n",
    "        num_beam_groups=num_beam_groups,\n",
    "        max_length=max_length,\n",
    "        diversity_penalty=diversity_penalty,\n",
    "    )\n",
    "\n",
    "    res = paraphrase_tokenizer.batch_decode(outputs, skip_special_tokens=True)\n",
    "\n",
    "    return res\n",
    "\n",
    "example_text = \"demonstrates that the director of such hollywood blockbusters as patriot games can still turn out a small , personal film with an emotional wallop . \"\n",
    "example_augs = get_paraphrase_augmentations(example_text, paraphrase_tokenizer, paraphrase_model, paraphrase_model.device)\n",
    "example_augs"
   ]
  },
  {
   "cell_type": "code",
   "execution_count": null,
   "metadata": {},
   "outputs": [],
   "source": [
    "from transformers import AutoTokenizer, AutoModel\n",
    "from tqdm import tqdm\n",
    "import torch\n",
    "import torch.nn.functional as F\n",
    "\n",
    "#Mean Pooling - Take attention mask into account for correct averaging\n",
    "def mean_pooling(model_output, attention_mask):\n",
    "    token_embeddings = model_output[0] #First element of model_output contains all token embeddings\n",
    "    input_mask_expanded = attention_mask.unsqueeze(-1).expand(token_embeddings.size()).float()\n",
    "    return torch.sum(token_embeddings * input_mask_expanded, 1) / torch.clamp(input_mask_expanded.sum(1), min=1e-9)\n",
    "\n",
    "\n",
    "def get_embeddings(tokenizer, model, left_text, right_text):\n",
    "    encoded_input = tokenizer(left_text, right_text, padding=True, truncation=True, max_length=512, return_tensors='pt')\n",
    "    with torch.no_grad():\n",
    "        model_output = model(**encoded_input)\n",
    "    return mean_pooling(model_output, encoded_input['attention_mask'])\n",
    "\n",
    "\n",
    "def get_cosine_similarity(sentence_tokenizer, sentence_model, left_text, right_text):\n",
    "    left_embedding = get_embeddings(sentence_tokenizer, sentence_model, left_text, right_text)\n",
    "    right_embedding = get_embeddings(sentence_tokenizer, sentence_model, right_text, left_text)\n",
    "    return F.cosine_similarity(left_embedding, right_embedding).item()\n",
    "\n",
    "\n",
    "hf_model_path = \"sentence-transformers/all-mpnet-base-v2\"\n",
    "sentence_tokenizer = AutoTokenizer.from_pretrained(hf_model_path)\n",
    "sentence_model = AutoModel.from_pretrained(hf_model_path)"
   ]
  },
  {
   "cell_type": "code",
   "execution_count": null,
   "metadata": {},
   "outputs": [],
   "source": [
    "for aug in example_augs:\n",
    "    print(get_cosine_similarity(sentence_tokenizer, sentence_model, aug, example_text))"
   ]
  },
  {
   "cell_type": "code",
   "execution_count": null,
   "metadata": {},
   "outputs": [],
   "source": [
    "import nlpaug.augmenter.word as naw\n",
    "word_augmenter = naw.ContextualWordEmbsAug(device=\"cuda\", action=\"insert\")\n",
    "random_deleter = naw.RandomWordAug(action=\"delete\", aug_p=0.30)\n",
    "\n",
    "sub_augs = [word_augmenter.augment(random_deleter.augment(aug)) for aug in example_augs]\n",
    "sub_augs = [aug[0] for aug in sub_augs if len(aug) > 0]\n",
    "sub_augs\n"
   ]
  },
  {
   "cell_type": "code",
   "execution_count": null,
   "metadata": {},
   "outputs": [],
   "source": [
    "cosines = [get_cosine_similarity(sentence_tokenizer, sentence_model, aug, example_text) for aug in sub_augs]\n",
    "aug_cosine_pairs = list(zip(sub_augs, cosines))\n",
    "display(aug_cosine_pairs)"
   ]
  },
  {
   "cell_type": "code",
   "execution_count": null,
   "metadata": {},
   "outputs": [],
   "source": [
    "max(enumerate(aug_cosine_pairs), key=lambda x: x[1])"
   ]
  },
  {
   "cell_type": "markdown",
   "metadata": {},
   "source": [
    "## Create Corrupted IMDB"
   ]
  },
  {
   "cell_type": "code",
   "execution_count": null,
   "metadata": {},
   "outputs": [],
   "source": [
    "from datasets import load_dataset\n",
    "from tqdm import tqdm\n",
    "tqdm.pandas()\n",
    "\n",
    "imdb_train_split = load_dataset(\"imdb\", split=\"train\").to_pandas()\n",
    "imdb_train_split.rename(columns={\"label\": \"class\",\"text\": \"label\"}, inplace=True)\n",
    "imdb_train_split"
   ]
  },
  {
   "cell_type": "code",
   "execution_count": null,
   "metadata": {},
   "outputs": [],
   "source": [
    "def get_augmentation(current_text):\n",
    "    paraphrases = get_paraphrase_augmentations(current_text, paraphrase_tokenizer, paraphrase_model, paraphrase_model.device)\n",
    "    corrupted_paraphrases = [word_augmenter.augment(random_deleter.augment(aug)) for aug in example_augs]\n",
    "    corrupted_paraphrases = [aug for aug in sub_augs if len(aug) > 0]\n",
    "    corrupted_cosines = [get_cosine_similarity(sentence_tokenizer, sentence_model, current_text, aug) for aug in corrupted_paraphrases]\n",
    "    corrupted_aug_cosine_pairs = list(zip(corrupted_paraphrases, corrupted_cosines))\n",
    "    most_corrupted = max(enumerate(corrupted_aug_cosine_pairs), key=lambda x: x[1])[1]\n",
    "    return most_corrupted\n",
    "\n",
    "\n",
    "sample = imdb_train_split.sample(1000)\n",
    "sample[\"text\"] = sample.progress_apply(lambda row: get_augmentation(row[\"label\"]), axis=1)\n",
    "sample"
   ]
  },
  {
   "cell_type": "markdown",
   "metadata": {},
   "source": [
    "# Evaluate Model"
   ]
  },
  {
   "cell_type": "code",
   "execution_count": 9,
   "metadata": {},
   "outputs": [],
   "source": [
    "rewriter_tokenizer, rewriter_model = get_model_objects(\"/home/kyle/repos/In-Context-Domain-Transfer-Improves-Out-of-Domain-Robustness/trained_models/training_1691034784_datasets_corruped_boss_sentiment20000_selected_models_boss_sentiment_bert.csv_t5-large/best_F1=0.6355934739112854\", 1)\n",
    "device = torch.device(\"cuda\" if torch.cuda.is_available() else \"cpu\")\n",
    "rewriter_model = rewriter_model.to(device)"
   ]
  },
  {
   "cell_type": "code",
   "execution_count": 16,
   "metadata": {},
   "outputs": [
    {
     "data": {
      "text/plain": [
       "'The book is very three fold and it is very interesting to read.'"
      ]
     },
     "execution_count": 16,
     "metadata": {},
     "output_type": "execute_result"
    }
   ],
   "source": [
    "example_text = \"while initially only the very three - fold book, one is interesting to readers like menage. the book are already back to production.\"\n",
    "# target = While this is not the best threefold it certainly is hot! The perfect story for first-time Menage readers. The second book is already waiting for me.\n",
    "tokenized_input = rewriter_tokenizer.encode(example_text, return_tensors=\"pt\").to(rewriter_model.device)\n",
    "outputs = rewriter_model.generate(\n",
    "                tokenized_input,\n",
    "                # do_sample=True,\n",
    "                # temperature=0.1,\n",
    "                # max_new_tokens=1,\n",
    "                # early_stopping=True,\n",
    "                return_dict_in_generate=True,\n",
    "            )\n",
    "\n",
    "outputs\n",
    "decoded_outputs = rewriter_tokenizer.decode(outputs.sequences[0], skip_special_tokens=True, clean_up_tokenization_spaces=True)\n",
    "decoded_outputs"
   ]
  },
  {
   "cell_type": "code",
   "execution_count": null,
   "metadata": {},
   "outputs": [],
   "source": []
  },
  {
   "cell_type": "code",
   "execution_count": null,
   "metadata": {},
   "outputs": [],
   "source": []
  }
 ],
 "metadata": {
  "kernelspec": {
   "display_name": "icdt",
   "language": "python",
   "name": "python3"
  },
  "language_info": {
   "codemirror_mode": {
    "name": "ipython",
    "version": 3
   },
   "file_extension": ".py",
   "mimetype": "text/x-python",
   "name": "python",
   "nbconvert_exporter": "python",
   "pygments_lexer": "ipython3",
   "version": "3.10.11"
  },
  "orig_nbformat": 4
 },
 "nbformat": 4,
 "nbformat_minor": 2
}
