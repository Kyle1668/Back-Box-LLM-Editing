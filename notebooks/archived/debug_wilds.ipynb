{
 "cells": [
  {
   "cell_type": "code",
   "execution_count": 1,
   "metadata": {},
   "outputs": [
    {
     "name": "stderr",
     "output_type": "stream",
     "text": [
      "/home/kyle/miniconda3/envs/kne/lib/python3.10/site-packages/tqdm/auto.py:22: TqdmWarning: IProgress not found. Please update jupyter and ipywidgets. See https://ipywidgets.readthedocs.io/en/stable/user_install.html\n",
      "  from .autonotebook import tqdm as notebook_tqdm\n"
     ]
    },
    {
     "data": {
      "text/plain": [
       "DatasetDict({\n",
       "    train: Dataset({\n",
       "        features: ['text', 'label', 'group'],\n",
       "        num_rows: 269038\n",
       "    })\n",
       "    test: Dataset({\n",
       "        features: ['text', 'label', 'group'],\n",
       "        num_rows: 133782\n",
       "    })\n",
       "})"
      ]
     },
     "execution_count": 1,
     "metadata": {},
     "output_type": "execute_result"
    }
   ],
   "source": [
    "import pandas as pd\n",
    "import tqdm as tqdm\n",
    "from wilds import get_dataset\n",
    "from datasets import load_dataset, Dataset, DatasetDict\n",
    "\n",
    "def load_wilds_dataset(dataset_name):\n",
    "    if dataset_name == \"wilds_civil_comments\":\n",
    "        dataset = get_dataset(dataset=\"civilcomments\", download=True)\n",
    "        train_dict = {\n",
    "            \"text\": [],\n",
    "            \"label\": [],\n",
    "            \"group\": []\n",
    "        }\n",
    "        for text, label, group in dataset.get_subset(\"train\"):\n",
    "            train_dict[\"text\"].append(text)\n",
    "            train_dict[\"label\"].append(label.item())\n",
    "            train_dict[\"group\"].append(group.tolist())\n",
    "\n",
    "        test_dict = {\n",
    "            \"text\": [],\n",
    "            \"label\": [],\n",
    "            \"group\": []\n",
    "        }\n",
    "        for text, label, group in dataset.get_subset(\"test\"):\n",
    "            test_dict[\"text\"].append(text)\n",
    "            test_dict[\"label\"].append(label.item())\n",
    "            test_dict[\"group\"].append(group.tolist())\n",
    "\n",
    "        full_dataset = DatasetDict()\n",
    "        full_dataset[\"train\"] = Dataset.from_pandas(pd.DataFrame(train_dict))\n",
    "        full_dataset[\"test\"] = Dataset.from_pandas(pd.DataFrame(test_dict))\n",
    "        return full_dataset\n",
    "    elif dataset_name == \"wilds_amazon\":\n",
    "        dataset = get_dataset(dataset=\"amazon\", download=True)\n",
    "        train_dict = {\n",
    "            \"text\": [],\n",
    "            \"label\": [],\n",
    "            \"group\": []\n",
    "        }\n",
    "        for content, label, group in dataset.get_subset(\"train\"):\n",
    "            train_dict[\"text\"].append(content)\n",
    "            train_dict[\"label\"].append(label.item())\n",
    "            train_dict[\"group\"].append(group.tolist())\n",
    "\n",
    "        test_dict = {\n",
    "            \"text\": [],\n",
    "            \"label\": [],\n",
    "            \"group\": []\n",
    "        }\n",
    "        for content, label, group in dataset.get_subset(\"test\"):\n",
    "            test_dict[\"text\"].append(content)\n",
    "            test_dict[\"label\"].append(label.item())\n",
    "            test_dict[\"group\"].append(group.tolist())\n",
    "\n",
    "        full_dataset = DatasetDict()\n",
    "        full_dataset[\"train\"] = Dataset.from_pandas(pd.DataFrame(train_dict))\n",
    "        full_dataset[\"test\"] = Dataset.from_pandas(pd.DataFrame(test_dict))\n",
    "        return full_dataset\n",
    "    else:\n",
    "        raise Exception(\"Invalid WILDS dataset\")\n",
    "\n",
    "wilds_civil_comments = load_wilds_dataset(\"wilds_civil_comments\")\n",
    "wilds_civil_comments"
   ]
  },
  {
   "cell_type": "code",
   "execution_count": 4,
   "metadata": {},
   "outputs": [
    {
     "name": "stderr",
     "output_type": "stream",
     "text": [
      "100%|██████████| 133782/133782 [00:04<00:00, 29764.63it/s]\n"
     ]
    }
   ],
   "source": [
    "for text, label, group in tqdm.tqdm(wilds_civil_comments[\"test\"]):\n",
    "    if text == None or label == None or group == None:\n",
    "        print(text)\n",
    "        print(label)\n",
    "        print(group)\n",
    "        break"
   ]
  }
 ],
 "metadata": {
  "kernelspec": {
   "display_name": "kne",
   "language": "python",
   "name": "python3"
  },
  "language_info": {
   "codemirror_mode": {
    "name": "ipython",
    "version": 3
   },
   "file_extension": ".py",
   "mimetype": "text/x-python",
   "name": "python",
   "nbconvert_exporter": "python",
   "pygments_lexer": "ipython3",
   "version": "3.10.11"
  },
  "orig_nbformat": 4
 },
 "nbformat": 4,
 "nbformat_minor": 2
}
