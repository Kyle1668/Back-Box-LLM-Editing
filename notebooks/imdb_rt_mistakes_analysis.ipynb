{
 "cells": [
  {
   "cell_type": "code",
   "execution_count": null,
   "metadata": {},
   "outputs": [],
   "source": [
    "import pandas as pd"
   ]
  },
  {
   "cell_type": "code",
   "execution_count": null,
   "metadata": {},
   "outputs": [],
   "source": [
    "# inference_logs = pd.read_csv(\"/home/kyle/repos/Parameter-Free-LM-Editing/results/edit_experiment_2023-06-03_01-51-43/lvwerra-bert-imdb-imdb_rotten_tomatoes-combined-inference-logs.csv\")\n",
    "inference_logs = pd.read_csv(\"/home/kyle/repos/Parameter-Free-LM-Editing/results/edit_experiment_2023-06-04_23-48-31/lvwerra-bert-imdb-imdb_rotten_tomatoes-combined-inference-logs.csv\")\n",
    "inference_logs.drop(columns=[\"Unnamed: 0\"], inplace=True)\n",
    "inference_logs.columns"
   ]
  },
  {
   "cell_type": "code",
   "execution_count": null,
   "metadata": {},
   "outputs": [],
   "source": []
  },
  {
   "cell_type": "code",
   "execution_count": null,
   "metadata": {},
   "outputs": [],
   "source": [
    "four_shot_logs = inference_logs.drop(columns=[name for name in inference_logs.columns if \"-4\" in name])\n",
    "four_shot_logs.head()"
   ]
  },
  {
   "cell_type": "code",
   "execution_count": null,
   "metadata": {},
   "outputs": [],
   "source": [
    "unstyled_Correct_predictions = four_shot_logs[four_shot_logs[\"label\"] == four_shot_logs[\"original judgment\"]]\n",
    "unstyled_incorrect_predictions = four_shot_logs[four_shot_logs[\"label\"] != four_shot_logs[\"original judgment\"]]\n",
    "print(f\"Unstyled Correct Predictions: {len(unstyled_Correct_predictions)}\")\n",
    "print(f\"Unstyled Incorrect Predictions: {len(unstyled_incorrect_predictions)}\")\n",
    "\n",
    "corrected_mistakes = four_shot_logs[(four_shot_logs[\"label\"] != four_shot_logs[\"original judgment\"]) & (four_shot_logs[\"label\"] == four_shot_logs[\"TheBloke-vicuna-13B-1.1-HF-8 Judgment\"])]\n",
    "new_mistakes = four_shot_logs[(four_shot_logs[\"label\"] == four_shot_logs[\"original judgment\"]) & (four_shot_logs[\"label\"] != four_shot_logs[\"TheBloke-vicuna-13B-1.1-HF-8 Judgment\"])]\n",
    "print(f\"Corrected Mistakes: {len(corrected_mistakes)}\")\n",
    "print(f\"New Mistakes: {len(new_mistakes)}\")\n"
   ]
  },
  {
   "cell_type": "code",
   "execution_count": null,
   "metadata": {},
   "outputs": [],
   "source": [
    "for index in range(len(corrected_mistakes)):\n",
    "    print(\"------------------------------------------------\")\n",
    "    print(f\"Label: {corrected_mistakes.iloc[index]['label']}\")\n",
    "    print(f\"Original Text: {corrected_mistakes.iloc[index]['original input']}\")\n",
    "    print(f\"Stylized Text: {corrected_mistakes.iloc[index]['TheBloke-vicuna-13B-1.1-HF-8 Input']}\\n\")\n",
    "    print(corrected_mistakes.iloc[index]['TheBloke-vicuna-13B-1.1-HF-8 Prompt'])\n",
    "print(\"------------------------------------------------\")"
   ]
  },
  {
   "cell_type": "code",
   "execution_count": null,
   "metadata": {},
   "outputs": [],
   "source": [
    "for index in range(len(new_mistakes)):\n",
    "    print(\"------------------------------------------------\")\n",
    "    print(f\"Label: {new_mistakes.iloc[index]['label']}\")\n",
    "    print(f\"Original Text: {new_mistakes.iloc[index]['original input']}\")\n",
    "    print(f\"Stylized Text: {new_mistakes.iloc[index]['TheBloke-vicuna-13B-1.1-HF-8 Input']}\\n\")\n",
    "    print(new_mistakes.iloc[index]['TheBloke-vicuna-13B-1.1-HF-8 Prompt'])\n",
    "print(\"------------------------------------------------\")"
   ]
  },
  {
   "cell_type": "code",
   "execution_count": null,
   "metadata": {},
   "outputs": [],
   "source": [
    "import torch\n",
    "import pandas as pd\n",
    "from transformers import AutoTokenizer, AutoModelForCausalLM, LlamaTokenizer\n",
    "\n",
    "\n",
    "tokenizer = LlamaTokenizer.from_pretrained(\"TheBloke/vicuna-13B-1.1-HF\")\n",
    "model = AutoModelForCausalLM.from_pretrained(\"TheBloke/vicuna-13B-1.1-HF\", device_map=\"auto\", torch_dtype=torch.float16).eval()"
   ]
  }
 ],
 "metadata": {
  "kernelspec": {
   "display_name": "kne",
   "language": "python",
   "name": "python3"
  },
  "language_info": {
   "codemirror_mode": {
    "name": "ipython",
    "version": 3
   },
   "file_extension": ".py",
   "mimetype": "text/x-python",
   "name": "python",
   "nbconvert_exporter": "python",
   "pygments_lexer": "ipython3",
   "version": "3.10.11"
  },
  "orig_nbformat": 4
 },
 "nbformat": 4,
 "nbformat_minor": 2
}
