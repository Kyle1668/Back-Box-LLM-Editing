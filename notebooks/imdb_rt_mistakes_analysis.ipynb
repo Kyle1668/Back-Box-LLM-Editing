{
 "cells": [
  {
   "cell_type": "code",
   "execution_count": 33,
   "metadata": {},
   "outputs": [],
   "source": [
    "import pandas as pd"
   ]
  },
  {
   "cell_type": "code",
   "execution_count": 34,
   "metadata": {},
   "outputs": [
    {
     "data": {
      "text/plain": [
       "Index(['Unnamed: 0.2', 'label', 'original input', 'original judgment',\n",
       "       'TheBloke-vicuna-13B-1.1-HF-4 Judgment',\n",
       "       'TheBloke-vicuna-13B-1.1-HF-4 Input',\n",
       "       'TheBloke-vicuna-13B-1.1-HF-4 Prompt',\n",
       "       'TheBloke-vicuna-13B-1.1-HF-8 Judgment',\n",
       "       'TheBloke-vicuna-13B-1.1-HF-8 Input',\n",
       "       'TheBloke-vicuna-13B-1.1-HF-8 Prompt',\n",
       "       'TheBloke-vicuna-13B-1.1-HF-16 Judgment',\n",
       "       'TheBloke-vicuna-13B-1.1-HF-16 Input',\n",
       "       'TheBloke-vicuna-13B-1.1-HF-16 Prompt'],\n",
       "      dtype='object')"
      ]
     },
     "execution_count": 34,
     "metadata": {},
     "output_type": "execute_result"
    }
   ],
   "source": [
    "# inference_logs = pd.read_csv(\"/home/kyle/repos/Parameter-Free-LM-Editing/results/edit_experiment_2023-06-03_01-51-43/lvwerra-bert-imdb-imdb_rotten_tomatoes-combined-inference-logs.csv\")\n",
    "inference_logs = pd.read_csv(\"/home/kyle/repos/Parameter-Free-LM-Editing/results/edit_experiment_2023-06-04_21-52-46/lvwerra-bert-imdb-imdb_rotten_tomatoes-combined-inference-logs.csv\")\n",
    "inference_logs.drop(columns=[\"Unnamed: 0\", \"Unnamed: 0.1\"], inplace=True)\n",
    "inference_logs.columns"
   ]
  },
  {
   "cell_type": "code",
   "execution_count": null,
   "metadata": {},
   "outputs": [],
   "source": []
  },
  {
   "cell_type": "code",
   "execution_count": 35,
   "metadata": {},
   "outputs": [
    {
     "data": {
      "text/html": [
       "<div>\n",
       "<style scoped>\n",
       "    .dataframe tbody tr th:only-of-type {\n",
       "        vertical-align: middle;\n",
       "    }\n",
       "\n",
       "    .dataframe tbody tr th {\n",
       "        vertical-align: top;\n",
       "    }\n",
       "\n",
       "    .dataframe thead th {\n",
       "        text-align: right;\n",
       "    }\n",
       "</style>\n",
       "<table border=\"1\" class=\"dataframe\">\n",
       "  <thead>\n",
       "    <tr style=\"text-align: right;\">\n",
       "      <th></th>\n",
       "      <th>Unnamed: 0.2</th>\n",
       "      <th>label</th>\n",
       "      <th>original input</th>\n",
       "      <th>original judgment</th>\n",
       "      <th>TheBloke-vicuna-13B-1.1-HF-4 Judgment</th>\n",
       "      <th>TheBloke-vicuna-13B-1.1-HF-4 Input</th>\n",
       "      <th>TheBloke-vicuna-13B-1.1-HF-4 Prompt</th>\n",
       "      <th>TheBloke-vicuna-13B-1.1-HF-16 Judgment</th>\n",
       "      <th>TheBloke-vicuna-13B-1.1-HF-16 Input</th>\n",
       "      <th>TheBloke-vicuna-13B-1.1-HF-16 Prompt</th>\n",
       "    </tr>\n",
       "  </thead>\n",
       "  <tbody>\n",
       "    <tr>\n",
       "      <th>0</th>\n",
       "      <td>0</td>\n",
       "      <td>1</td>\n",
       "      <td>you've already seen city by the sea under a va...</td>\n",
       "      <td>1</td>\n",
       "      <td>1</td>\n",
       "      <td>Although you may have already seen City by the...</td>\n",
       "      <td>User: Paraphrase the input text into the exact...</td>\n",
       "      <td>1</td>\n",
       "      <td>This film has been seen under various titles, ...</td>\n",
       "      <td>User: Paraphrase the input text into the exact...</td>\n",
       "    </tr>\n",
       "    <tr>\n",
       "      <th>1</th>\n",
       "      <td>1</td>\n",
       "      <td>0</td>\n",
       "      <td>if i could have looked into my future and saw ...</td>\n",
       "      <td>0</td>\n",
       "      <td>0</td>\n",
       "      <td>This movie was so bad that if I could go back ...</td>\n",
       "      <td>User: Paraphrase the input text into the exact...</td>\n",
       "      <td>0</td>\n",
       "      <td>This movie was so bad that if I could have loo...</td>\n",
       "      <td>User: Paraphrase the input text into the exact...</td>\n",
       "    </tr>\n",
       "    <tr>\n",
       "      <th>2</th>\n",
       "      <td>2</td>\n",
       "      <td>0</td>\n",
       "      <td>not once in the rush to save the day did i bec...</td>\n",
       "      <td>1</td>\n",
       "      <td>0</td>\n",
       "      <td>This movie failed to grab my attention, and I ...</td>\n",
       "      <td>User: Paraphrase the input text into the exact...</td>\n",
       "      <td>0</td>\n",
       "      <td>I found myself detached from the proceedings, ...</td>\n",
       "      <td>User: Paraphrase the input text into the exact...</td>\n",
       "    </tr>\n",
       "    <tr>\n",
       "      <th>3</th>\n",
       "      <td>3</td>\n",
       "      <td>0</td>\n",
       "      <td>'dragonfly' dwells on crossing-over mumbo jumb...</td>\n",
       "      <td>0</td>\n",
       "      <td>0</td>\n",
       "      <td>This film delves too deeply into the realm of ...</td>\n",
       "      <td>User: Paraphrase the input text into the exact...</td>\n",
       "      <td>0</td>\n",
       "      <td>This film delves into the realm of crossing-ov...</td>\n",
       "      <td>User: Paraphrase the input text into the exact...</td>\n",
       "    </tr>\n",
       "    <tr>\n",
       "      <th>4</th>\n",
       "      <td>4</td>\n",
       "      <td>0</td>\n",
       "      <td>the movie strains to stay on the light , comic...</td>\n",
       "      <td>0</td>\n",
       "      <td>0</td>\n",
       "      <td>This flick tries to maintain a lighthearted, c...</td>\n",
       "      <td>User: Paraphrase the input text into the exact...</td>\n",
       "      <td>0</td>\n",
       "      <td>This flick tries to maintain a lighthearted, c...</td>\n",
       "      <td>User: Paraphrase the input text into the exact...</td>\n",
       "    </tr>\n",
       "  </tbody>\n",
       "</table>\n",
       "</div>"
      ],
      "text/plain": [
       "   Unnamed: 0.2  label                                     original input   \n",
       "0             0      1  you've already seen city by the sea under a va...  \\\n",
       "1             1      0  if i could have looked into my future and saw ...   \n",
       "2             2      0  not once in the rush to save the day did i bec...   \n",
       "3             3      0  'dragonfly' dwells on crossing-over mumbo jumb...   \n",
       "4             4      0  the movie strains to stay on the light , comic...   \n",
       "\n",
       "   original judgment  TheBloke-vicuna-13B-1.1-HF-4 Judgment   \n",
       "0                  1                                      1  \\\n",
       "1                  0                                      0   \n",
       "2                  1                                      0   \n",
       "3                  0                                      0   \n",
       "4                  0                                      0   \n",
       "\n",
       "                  TheBloke-vicuna-13B-1.1-HF-4 Input   \n",
       "0  Although you may have already seen City by the...  \\\n",
       "1  This movie was so bad that if I could go back ...   \n",
       "2  This movie failed to grab my attention, and I ...   \n",
       "3  This film delves too deeply into the realm of ...   \n",
       "4  This flick tries to maintain a lighthearted, c...   \n",
       "\n",
       "                 TheBloke-vicuna-13B-1.1-HF-4 Prompt   \n",
       "0  User: Paraphrase the input text into the exact...  \\\n",
       "1  User: Paraphrase the input text into the exact...   \n",
       "2  User: Paraphrase the input text into the exact...   \n",
       "3  User: Paraphrase the input text into the exact...   \n",
       "4  User: Paraphrase the input text into the exact...   \n",
       "\n",
       "   TheBloke-vicuna-13B-1.1-HF-16 Judgment   \n",
       "0                                       1  \\\n",
       "1                                       0   \n",
       "2                                       0   \n",
       "3                                       0   \n",
       "4                                       0   \n",
       "\n",
       "                 TheBloke-vicuna-13B-1.1-HF-16 Input   \n",
       "0  This film has been seen under various titles, ...  \\\n",
       "1  This movie was so bad that if I could have loo...   \n",
       "2  I found myself detached from the proceedings, ...   \n",
       "3  This film delves into the realm of crossing-ov...   \n",
       "4  This flick tries to maintain a lighthearted, c...   \n",
       "\n",
       "                TheBloke-vicuna-13B-1.1-HF-16 Prompt  \n",
       "0  User: Paraphrase the input text into the exact...  \n",
       "1  User: Paraphrase the input text into the exact...  \n",
       "2  User: Paraphrase the input text into the exact...  \n",
       "3  User: Paraphrase the input text into the exact...  \n",
       "4  User: Paraphrase the input text into the exact...  "
      ]
     },
     "execution_count": 35,
     "metadata": {},
     "output_type": "execute_result"
    }
   ],
   "source": [
    "four_shot_logs = inference_logs.drop(columns=[name for name in inference_logs.columns if \"-8\" in name])\n",
    "four_shot_logs.head()"
   ]
  },
  {
   "cell_type": "code",
   "execution_count": 36,
   "metadata": {},
   "outputs": [
    {
     "name": "stdout",
     "output_type": "stream",
     "text": [
      "Unstyled Correct Predictions: 41\n",
      "Unstyled Incorrect Predictions: 9\n",
      "Corrected Mistakes: 6\n",
      "New Mistakes: 4\n"
     ]
    }
   ],
   "source": [
    "unstyled_Correct_predictions = four_shot_logs[four_shot_logs[\"label\"] == four_shot_logs[\"original judgment\"]]\n",
    "unstyled_incorrect_predictions = four_shot_logs[four_shot_logs[\"label\"] != four_shot_logs[\"original judgment\"]]\n",
    "print(f\"Unstyled Correct Predictions: {len(unstyled_Correct_predictions)}\")\n",
    "print(f\"Unstyled Incorrect Predictions: {len(unstyled_incorrect_predictions)}\")\n",
    "\n",
    "corrected_mistakes = four_shot_logs[(four_shot_logs[\"label\"] != four_shot_logs[\"original judgment\"]) & (four_shot_logs[\"label\"] == four_shot_logs[\"TheBloke-vicuna-13B-1.1-HF-4 Judgment\"])]\n",
    "new_mistakes = four_shot_logs[(four_shot_logs[\"label\"] == four_shot_logs[\"original judgment\"]) & (four_shot_logs[\"label\"] != four_shot_logs[\"TheBloke-vicuna-13B-1.1-HF-4 Judgment\"])]\n",
    "print(f\"Corrected Mistakes: {len(corrected_mistakes)}\")\n",
    "print(f\"New Mistakes: {len(new_mistakes)}\")\n"
   ]
  },
  {
   "cell_type": "code",
   "execution_count": 37,
   "metadata": {},
   "outputs": [
    {
     "name": "stdout",
     "output_type": "stream",
     "text": [
      "--------\n",
      "Label: 0\n",
      "Original Text: not once in the rush to save the day did i become very involved in the proceedings ; to me , it was just a matter of 'eh . '\n",
      "Stylized Text: This movie failed to grab my attention, and I found myself feeling apathetic towards the plot. It was just a matter of 'eh' to me.\n",
      "--------\n",
      "Label: 0\n",
      "Original Text: . . . you can be forgiven for realizing that you've spent the past 20 minutes looking at your watch and waiting for frida to just die already .\n",
      "Stylized Text: This film is a snooze-fest, with a lackluster plot that fails to captivate the viewer, resulting in the audience checking their watch impatiently, waiting for the film to end.\n",
      "--------\n",
      "Label: 0\n",
      "Original Text: entertains not so much because of its music or comic antics , but through the perverse pleasure of watching disney scrape the bottom of its own cracker barrel .\n",
      "Stylized Text: This movie fails to entertain due to its lackluster music and unfunny comedic attempts, but it finds a strange form of enjoyment in watching Disney's desperate attempts to salvage its own creative bankruptcy.\n",
      "--------\n",
      "Label: 0\n",
      "Original Text: the action quickly sinks into by-the-numbers territory .\n",
      "Stylized Text: This flick quickly becomes a by-the-numbers affair, with generic action sequences that fail to impress.\n",
      "--------\n",
      "Label: 1\n",
      "Original Text: i would be shocked if there was actually one correct interpretation , but that shouldn't make the movie or the discussion any less enjoyable .\n",
      "Stylized Text: I would be astounded if there was only one definitive interpretation, yet this shouldn't detract from the enjoyment of the movie or the conversation.\n",
      "--------\n",
      "Label: 0\n",
      "Original Text: the sight of the name bruce willis brings to mind images of a violent battlefield action picture , but the film has a lot more on its mind--maybe too much .\n",
      "Stylized Text: This flick boasts the name Bruce Willis, conjuring up notions of an adrenaline-fueled action flick, but it's got a lot more going on than that - perhaps too much.\n",
      "--------\n"
     ]
    }
   ],
   "source": [
    "for index in range(len(corrected_mistakes)):\n",
    "    print(\"--------\")\n",
    "    print(f\"Label: {corrected_mistakes.iloc[index]['label']}\")\n",
    "    print(f\"Original Text: {corrected_mistakes.iloc[index]['original input']}\")\n",
    "    print(f\"Stylized Text: {corrected_mistakes.iloc[index]['TheBloke-vicuna-13B-1.1-HF-4 Input']}\")\n",
    "print(\"--------\")"
   ]
  },
  {
   "cell_type": "code",
   "execution_count": 38,
   "metadata": {},
   "outputs": [
    {
     "name": "stdout",
     "output_type": "stream",
     "text": [
      "--------\n",
      "Label: 1\n",
      "Original Text: combines a comically dismal social realism with a farcically bawdy fantasy of redemption and regeneration .\n",
      "Stylized Text: This film oddly combines a cringeworthy social realism with a ludicrously risqué fantasy of redemption and renewal.\n",
      "--------\n",
      "Label: 0\n",
      "Original Text: the densest distillation of roberts' movies ever made .\n",
      "Stylized Text: This film is the most concentrated distillation of Robert's work ever created.\n",
      "--------\n",
      "Label: 1\n",
      "Original Text: making such a tragedy the backdrop to a love story risks trivializing it , though chouraqui no doubt intended the film to affirm love's power to help people endure almost unimaginable horror .\n",
      "Stylized Text: Trivializing a tragedy as the backdrop to a love story is a risky move, despite Chouraqui's intentions to showcase love's resilience in the face of unimaginable horror.\n",
      "--------\n",
      "Label: 1\n",
      "Original Text: the production values are of the highest and the performances attractive without being memorable .\n",
      "Stylized Text: This movie boasts top-notch production values, but the performances fall short of being truly memorable.\n",
      "--------\n"
     ]
    }
   ],
   "source": [
    "for index in range(len(new_mistakes)):\n",
    "    print(\"--------\")\n",
    "    print(f\"Label: {new_mistakes.iloc[index]['label']}\")\n",
    "    print(f\"Original Text: {new_mistakes.iloc[index]['original input']}\")\n",
    "    print(f\"Stylized Text: {new_mistakes.iloc[index]['TheBloke-vicuna-13B-1.1-HF-4 Input']}\")\n",
    "print(\"--------\")"
   ]
  },
  {
   "cell_type": "code",
   "execution_count": null,
   "metadata": {},
   "outputs": [],
   "source": []
  }
 ],
 "metadata": {
  "kernelspec": {
   "display_name": "kne",
   "language": "python",
   "name": "python3"
  },
  "language_info": {
   "codemirror_mode": {
    "name": "ipython",
    "version": 3
   },
   "file_extension": ".py",
   "mimetype": "text/x-python",
   "name": "python",
   "nbconvert_exporter": "python",
   "pygments_lexer": "ipython3",
   "version": "3.10.11"
  },
  "orig_nbformat": 4
 },
 "nbformat": 4,
 "nbformat_minor": 2
}
