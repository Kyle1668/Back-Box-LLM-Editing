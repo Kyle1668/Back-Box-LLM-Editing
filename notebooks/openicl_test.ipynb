{
 "cells": [
  {
   "attachments": {},
   "cell_type": "markdown",
   "metadata": {},
   "source": [
    "# Evaluate ICL Methods on Selected Datasets"
   ]
  },
  {
   "cell_type": "code",
   "execution_count": 1,
   "metadata": {},
   "outputs": [
    {
     "name": "stderr",
     "output_type": "stream",
     "text": [
      "/home/kyle/miniconda3/envs/kne/lib/python3.10/site-packages/tqdm/auto.py:22: TqdmWarning: IProgress not found. Please update jupyter and ipywidgets. See https://ipywidgets.readthedocs.io/en/stable/user_install.html\n",
      "  from .autonotebook import tqdm as notebook_tqdm\n"
     ]
    }
   ],
   "source": [
    "import pandas as pd\n",
    "import torch\n",
    "from datasets import load_dataset, Dataset, DatasetDict\n",
    "from openicl import DatasetReader, PromptTemplate, TopkRetriever, PPLInferencer, AccEvaluator"
   ]
  },
  {
   "cell_type": "code",
   "execution_count": 6,
   "metadata": {},
   "outputs": [],
   "source": [
    "# from wilds import get_dataset\n",
    "# from wilds.common.data_loaders import get_train_loader\n",
    "# dataset = get_dataset(dataset=\"amazon\", download=True)\n",
    "# display(dataset)\n",
    "\n",
    "# for record in dataset.get_subset(\"train\"):\n",
    "#     print(record)\n",
    "#     break\n",
    "\n",
    "# train_dict = {\n",
    "#     \"text\": [],\n",
    "#     \"label\": [],\n",
    "#     \"reviewer_id\": []\n",
    "# }\n",
    "# for text, label, reviewer_id in dataset.get_subset(\"train\"):\n",
    "#     train_dict[\"text\"].append(text)\n",
    "#     train_dict[\"label\"].append(label.item())\n",
    "#     train_dict[\"reviewer_id\"].append(reviewer_id.tolist())\n",
    "\n",
    "# test_dict = {\n",
    "#     \"text\": [],\n",
    "#     \"label\": [],\n",
    "#     \"reviewer_id\": []\n",
    "# }\n",
    "# for text, label, reviewer_id in dataset.get_subset(\"test\"):\n",
    "#     test_dict[\"text\"].append(text)\n",
    "#     test_dict[\"label\"].append(label.item())\n",
    "#     test_dict[\"reviewer_id\"].append(reviewer_id.tolist())\n",
    "\n",
    "# full_dataset = DatasetDict()\n",
    "# full_dataset[\"train\"] = Dataset.from_pandas(pd.DataFrame(train_dict))\n",
    "# full_dataset[\"test\"] = Dataset.from_pandas(pd.DataFrame(test_dict))\n",
    "# full_dataset\n",
    "\n",
    "# display(full_dataset[\"train\"].to_pandas().head())\n",
    "# display(full_dataset[\"test\"].to_pandas().head())\n",
    "\n",
    "# full_dataset"
   ]
  },
  {
   "cell_type": "code",
   "execution_count": 7,
   "metadata": {},
   "outputs": [],
   "source": [
    "# full_dataset[\"test\"].to_pandas().value_counts(\"label\")"
   ]
  },
  {
   "cell_type": "code",
   "execution_count": 66,
   "metadata": {},
   "outputs": [
    {
     "name": "stderr",
     "output_type": "stream",
     "text": [
      "Found cached dataset ag_news (/home/kyle/.cache/huggingface/datasets/ag_news/default/0.0.0/bc2bcb40336ace1a0374767fc29bb0296cdaf8a6da7298436239c54d79180548)\n",
      "100%|██████████| 2/2 [00:00<00:00, 21.84it/s]\n",
      "[2023-04-26 02:17:55,529] [openicl.icl_retriever.icl_topk_retriever] [INFO] Creating index for index set...\n",
      "  0%|          | 0/1000 [00:00<?, ?it/s]You're using a GPT2TokenizerFast tokenizer. Please note that with a fast tokenizer, using the `__call__` method is faster than using a method to encode the text followed by a call to the `pad` method to get a padded encoding.\n",
      "100%|██████████| 1000/1000 [00:11<00:00, 88.15it/s]\n"
     ]
    }
   ],
   "source": [
    "# Define a DatasetReader, with specified column names where input and output are stored.\n",
    "dataset = load_dataset(\"ag_news\")\n",
    "dataset[\"train\"] = dataset[\"train\"].select(range(1000))\n",
    "dataset[\"test\"] = dataset[\"test\"].select(range(1000))\n",
    "data = DatasetReader(dataset, input_columns=[\"text\"], output_column=\"label\")\n",
    "tp_dict = {\n",
    "    0: \"</E>World (0) Article: </text>\",\n",
    "    1: \"</E>Sports (1) Article: </text>\",\n",
    "    2: \"</E>Business (2) Article: </text>\",\n",
    "    3: \"</E>Sci/Tech (3) Article: </text>\",\n",
    "}\n",
    "\n",
    "template = PromptTemplate(tp_dict, {'text': '</text>'}, ice_token='</E>')\n",
    "# display(template.generate_item(dataset[4590], output_field='label'))\n",
    "# display(template.generate_item(dataset[6174], output_field='label'))\n",
    "# display(template.generate_item(dataset[2190], output_field='label'))\n",
    "# display(template.generate_item(dataset[4983], output_field='label'))\n",
    "\n",
    "# TopK Retriever\n",
    "retriever = TopkRetriever(data, ice_num=2, index_split='train', test_split='test')\n",
    "\n",
    "# # Define a Inferencer\n",
    "# inferencer = PPLInferencer(model_name='distilgpt2')\n",
    "\n",
    "# # Inference\n",
    "# predictions = inferencer.inference(retriever, ice_template=template, output_json_filename='sst2')\n",
    "# print(predictions)"
   ]
  },
  {
   "cell_type": "code",
   "execution_count": 7,
   "metadata": {},
   "outputs": [],
   "source": [
    "sequence = \"They've caught his eye In quot;helping themselves, quot; Ricky Bryant, Chas Gessner, Michael Jennings, and David Patten did nothing Friday night to make Bill Belichick's decision on what to do with his receivers any easier.\"\n",
    "# retriever.tokenizer(sequence, return_tensors=\"pt\")"
   ]
  },
  {
   "cell_type": "code",
   "execution_count": 68,
   "metadata": {},
   "outputs": [
    {
     "name": "stdout",
     "output_type": "stream",
     "text": [
      "distances: [[0.4040242  0.34218064 0.3253032 ]]\n",
      "indices: [[486 472 870]]\n"
     ]
    }
   ],
   "source": [
    "input_ids = retriever.tokenizer(sequence, return_tensors=\"pt\")[\"input_ids\"]\n",
    "example_embedding = retriever.model.encode([sequence], convert_to_numpy=True)\n",
    "# example_embedding\n",
    "distances, indices = retriever.index.search(example_embedding, 3)\n",
    "print(f\"distances: {distances}\")\n",
    "print(f\"indices: {indices}\")"
   ]
  },
  {
   "cell_type": "code",
   "execution_count": 69,
   "metadata": {},
   "outputs": [
    {
     "name": "stdout",
     "output_type": "stream",
     "text": [
      "Offense Needs Work There were few offensive highlights during Virginia Tech's first scrimmage of fall practice on Saturday.\n",
      "1\n",
      "Throwbacks: Gannon, Collins in good form Rich Gannon , the 2002 NFL MVP who was knocked out of the Raiders' loss to Kansas City last Oct. 20 and had shoulder surgery in November, was 9 for 15 for 69 yards in visiting Oakland's 33-30 exhibition win over the San Francisco 49ers last night.\n",
      "1\n",
      "Patriots Sign First-Round Pick Watson (AP) AP - The New England Patriots signed first-round draft pick Benjamin Watson on Monday, ending the tight end's lengthy holdout.\n",
      "1\n"
     ]
    }
   ],
   "source": [
    "for index in indices[0]:\n",
    "    print(dataset[\"train\"][int(index)][\"text\"])\n",
    "    print(dataset[\"train\"][int(index)][\"label\"])\n",
    "    # print(index)"
   ]
  },
  {
   "attachments": {},
   "cell_type": "markdown",
   "metadata": {},
   "source": [
    "## LLaMA 7B Test"
   ]
  },
  {
   "cell_type": "code",
   "execution_count": 2,
   "metadata": {},
   "outputs": [
    {
     "name": "stderr",
     "output_type": "stream",
     "text": [
      "Loading checkpoint shards: 100%|██████████| 33/33 [00:28<00:00,  1.17it/s]\n"
     ]
    }
   ],
   "source": [
    "from transformers import AutoTokenizer, AutoModelForCausalLM, LlamaTokenizer\n",
    "import torch\n",
    "\n",
    "device = torch.device(\"cuda\")\n",
    "model = AutoModelForCausalLM.from_pretrained(\"decapoda-research/llama-7b-hf\", torch_dtype=torch.float16).to(device)"
   ]
  },
  {
   "cell_type": "code",
   "execution_count": 5,
   "metadata": {},
   "outputs": [
    {
     "name": "stderr",
     "output_type": "stream",
     "text": [
      "Downloading tokenizer.model: 100%|██████████| 500k/500k [00:00<00:00, 25.2MB/s]\n",
      "Downloading (…)cial_tokens_map.json: 100%|██████████| 2.00/2.00 [00:00<00:00, 20.5kB/s]\n",
      "The tokenizer class you load from this checkpoint is not the same type as the class this function is called from. It may result in unexpected tokenization. \n",
      "The tokenizer class you load from this checkpoint is 'LLaMATokenizer'. \n",
      "The class this function is called from is 'LlamaTokenizer'.\n"
     ]
    }
   ],
   "source": [
    "from transformers import LlamaTokenizer\n",
    "tokenizer = LlamaTokenizer.from_pretrained(\"decapoda-research/llama-7b-hf\")"
   ]
  },
  {
   "cell_type": "code",
   "execution_count": 18,
   "metadata": {},
   "outputs": [
    {
     "data": {
      "text/plain": [
       "\" ⁇  Offense Needs Work There were few offensive highlights during Virginia Tech's first scrimmage of the preseason. The Hokies' offense struggled to move the ball against the first-team defense, and quarterbacks Logan Thomas and Michael Brewer combined to go 10-for-26 with one touchdown and two interceptions. The offense did not score a touchdown until late in the third quarter, when Thomas\""
      ]
     },
     "execution_count": 18,
     "metadata": {},
     "output_type": "execute_result"
    }
   ],
   "source": [
    "input_text = \"Offense Needs Work There were few offensive highlights during Virginia Tech's first scrimmage\"\n",
    "input = tokenizer(input_text, return_tensors=\"pt\").to(device)\n",
    "output = model.generate(**input, \n",
    "               max_length=100, \n",
    "               num_beams=5, \n",
    "               num_return_sequences=1, \n",
    "               temperature=0, \n",
    "               top_k=50, \n",
    "               top_p=0.95, \n",
    "               repetition_penalty=1.0, \n",
    "               length_penalty=1.0, \n",
    "               no_repeat_ngram_size=3,\n",
    "               bos_token_id=1, \n",
    "               pad_token_id=0, \n",
    "               eos_token_id=2, \n",
    "               decoder_start_token_id=1, \n",
    "               use_cache_for_decoding=None)\n",
    "\n",
    "tokenizer.decode(output[0])\n"
   ]
  }
 ],
 "metadata": {
  "kernelspec": {
   "display_name": "kne",
   "language": "python",
   "name": "python3"
  },
  "language_info": {
   "codemirror_mode": {
    "name": "ipython",
    "version": 3
   },
   "file_extension": ".py",
   "mimetype": "text/x-python",
   "name": "python",
   "nbconvert_exporter": "python",
   "pygments_lexer": "ipython3",
   "version": "3.10.11"
  },
  "orig_nbformat": 4
 },
 "nbformat": 4,
 "nbformat_minor": 2
}
