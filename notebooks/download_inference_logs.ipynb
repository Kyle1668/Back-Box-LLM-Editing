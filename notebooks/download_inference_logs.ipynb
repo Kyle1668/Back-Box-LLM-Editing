{
 "cells": [
  {
   "cell_type": "code",
   "execution_count": 1,
   "metadata": {},
   "outputs": [
    {
     "name": "stderr",
     "output_type": "stream",
     "text": [
      "/Users/kyle/miniconda3/envs/eval-aug/lib/python3.10/site-packages/tqdm/auto.py:21: TqdmWarning: IProgress not found. Please update jupyter and ipywidgets. See https://ipywidgets.readthedocs.io/en/stable/user_install.html\n",
      "  from .autonotebook import tqdm as notebook_tqdm\n"
     ]
    }
   ],
   "source": [
    "from datasets import Dataset, DatasetDict\n",
    "from tqdm import tqdm\n",
    "import pandas as pd\n",
    "import json\n",
    "import wandb\n",
    "import os"
   ]
  },
  {
   "cell_type": "code",
   "execution_count": 2,
   "metadata": {},
   "outputs": [
    {
     "name": "stdout",
     "output_type": "stream",
     "text": [
      "{\n",
      "    \"BOSS_Sentiment_ID_BERT_Insert\": \"run-omxsb0i7-validation_aug_insert_random_16_Kyle1668bosssentimentbertbaseuncased_style_logs:v0\",\n",
      "    \"BOSS_Sentiment_ID_BERT_Substitute\": \"run-omxsb0i7-validation_aug_substitute_random_16_Kyle1668bosssentimentbertbaseuncased_style_logs:v0\",\n",
      "    \"BOSS_Sentiment_ID_BERT_Translate\": \"run-omxsb0i7-validation_aug_backtranslate_random_16_Kyle1668bosssentimentbertbaseuncased_style_logs:v0\",\n",
      "    \"BOSS_Sentiment_ID_BERT_Paraphrase\": \"run-yanx1dus-validation_stabilityaiStableBeluga7b_random_0_Kyle1668bosssentimentbertbaseuncased_style_logs:v0\",\n",
      "    \"BOSS_Sentiment_ID_BERT_ICR\": \"run-yanx1dus-validation_stabilityaiStableBeluga7b_random_16_Kyle1668bosssentimentbertbaseuncased_style_logs:v0\",\n",
      "    \"BOSS_Sentiment_ID_T5_Insert\": \"run-omxsb0i7-validation_aug_insert_random_16_Kyle1668bosssentimentt5large_style_logs:v0\",\n",
      "    \"BOSS_Sentiment_ID_T5_Substitute\": \"run-omxsb0i7-validation_aug_substitute_random_16_Kyle1668bosssentimentt5large_style_logs:v0\",\n",
      "    \"BOSS_Sentiment_ID_T5_Translate\": \"run-omxsb0i7-validation_aug_backtranslate_random_16_Kyle1668bosssentimentt5large_style_logs:v0\",\n",
      "    \"BOSS_Sentiment_ID_T5_Paraphrase\": \"run-yanx1dus-validation_stabilityaiStableBeluga7b_random_0_Kyle1668bosssentimentt5large_style_logs:v0\",\n",
      "    \"BOSS_Sentiment_ID_T5_ICR\": \"run-yanx1dus-validation_stabilityaiStableBeluga7b_random_16_Kyle1668bosssentimentt5large_style_logs:v0\",\n",
      "    \"BOSS_Sentiment_ID_Falcon_Insert\": \"run-omxsb0i7-validation_aug_insert_random_16_tiiuaefalcon7binstruct_style_logs:v0\",\n",
      "    \"BOSS_Sentiment_ID_Falcon_Substitute\": \"run-omxsb0i7-validation_aug_substitute_random_16_tiiuaefalcon7binstruct_style_logs:v0\",\n",
      "    \"BOSS_Sentiment_ID_Falcon_Translate\": \"run-omxsb0i7-validation_aug_backtranslate_random_16_tiiuaefalcon7binstruct_style_logs:v0\",\n",
      "    \"BOSS_Sentiment_ID_Falcon_Paraphrase\": \"run-yanx1dus-validation_stabilityaiStableBeluga7b_random_16_tiiuaefalcon7binstruct_style_logs:v0\",\n",
      "    \"BOSS_Sentiment_ID_Falcon_ICR\": \"run-yanx1dus-validation_stabilityaiStableBeluga7b_random_16_tiiuaefalcon7binstruct_style_logs:v0\",\n",
      "    \"BOSS_Sentiment_SST5_BERT_Insert\": \"run-omxsb0i7-sst5_aug_insert_random_16_Kyle1668bosssentimentbertbaseuncased_style_logs:v0\",\n",
      "    \"BOSS_Sentiment_SST5_BERT_Substitute\": \"run-omxsb0i7-sst5_aug_substitute_random_16_Kyle1668bosssentimentbertbaseuncased_style_logs:v0\",\n",
      "    \"BOSS_Sentiment_SST5_BERT_Translate\": \"run-omxsb0i7-sst5_aug_backtranslate_random_16_Kyle1668bosssentimentbertbaseuncased_style_logs:v0\",\n",
      "    \"BOSS_Sentiment_SST5_BERT_Paraphrase\": \"run-omxsb0i7-sst5_stabilityaiStableBeluga7b_random_0_Kyle1668bosssentimentbertbaseuncased_style_logs:v0\",\n",
      "    \"BOSS_Sentiment_SST5_BERT_ICR\": \"run-omxsb0i7-sst5_stabilityaiStableBeluga7b_random_16_Kyle1668bosssentimentbertbaseuncased_style_logs:v0\",\n",
      "    \"BOSS_Sentiment_Ablate_Data_SST5_BERT1500_Insert\": \"run-gdqehris-sst5_aug_insert_random_16_Kyle1668bosssentiment1500bertbaseuncased_style_logs:v0\",\n",
      "    \"BOSS_Sentiment_Ablate_Data_SST5_BERT1500_Substitute\": \"run-gdqehris-sst5_aug_substitute_random_16_Kyle1668bosssentiment1500bertbaseuncased_style_logs:v0\",\n",
      "    \"BOSS_Sentiment_Ablate_Data_SST5_BERT1500_Translate\": \"run-gdqehris-sst5_aug_backtranslate_random_16_Kyle1668bosssentiment1500bertbaseuncased_style_logs:v0\",\n",
      "    \"BOSS_Sentiment_Ablate_Data_SST5_BERT1500_Paraphrase\": \"run-gdqehris-sst5_stabilityaiStableBeluga7b_random_0_Kyle1668bosssentiment1500bertbaseuncased_style_logs:v0\",\n",
      "    \"BOSS_Sentiment_Ablate_Data_SST5_BERT1500_ICR\": \"run-gdqehris-sst5_stabilityaiStableBeluga7b_random_16_Kyle1668bosssentiment1500bertbaseuncased_style_logs:v0\",\n",
      "    \"BOSS_Sentiment_Ablate_Data_SST5_BERT3000_Insert\": \"run-gfb8nevp-sst5_aug_insert_random_16_Kyle1668bosssentiment3000bertbaseuncased_style_logs:v0\",\n",
      "    \"BOSS_Sentiment_Ablate_Data_SST5_BERT3000_Substitute\": \"run-gfb8nevp-sst5_aug_substitute_random_16_Kyle1668bosssentiment3000bertbaseuncased_style_logs:v0\",\n",
      "    \"BOSS_Sentiment_Ablate_Data_SST5_BERT3000_Translate\": \"run-gfb8nevp-sst5_aug_backtranslate_random_16_Kyle1668bosssentiment3000bertbaseuncased_style_logs:v0\",\n",
      "    \"BOSS_Sentiment_Ablate_Data_SST5_BERT3000_Paraphrase\": \"run-gfb8nevp-sst5_stabilityaiStableBeluga7b_random_0_Kyle1668bosssentiment3000bertbaseuncased_style_logs:v0\",\n",
      "    \"BOSS_Sentiment_Ablate_Data_SST5_BERT3000_ICR\": \"run-gfb8nevp-sst5_stabilityaiStableBeluga7b_random_16_Kyle1668bosssentiment3000bertbaseuncased_style_logs:v0\",\n",
      "    \"BOSS_Sentiment_Ablate_Data_SST5_BERT6000_Insert\": \"run-hg6u172t-sst5_aug_insert_random_16_Kyle1668bosssentiment6000bertbaseuncased_style_logs:v0\",\n",
      "    \"BOSS_Sentiment_Ablate_Data_SST5_BERT6000_Substitute\": \"run-hg6u172t-sst5_aug_substitute_random_16_Kyle1668bosssentiment6000bertbaseuncased_style_logs:v0\",\n",
      "    \"BOSS_Sentiment_Ablate_Data_SST5_BERT6000_Translate\": \"run-hg6u172t-sst5_aug_backtranslate_random_16_Kyle1668bosssentiment6000bertbaseuncased_style_logs:v0\",\n",
      "    \"BOSS_Sentiment_Ablate_Data_SST5_BERT6000_Paraphrase\": \"run-hg6u172t-sst5_stabilityaiStableBeluga7b_random_0_Kyle1668bosssentiment6000bertbaseuncased_style_logs:v0\",\n",
      "    \"BOSS_Sentiment_Ablate_Data_SST5_BERT6000_ICR\": \"run-hg6u172t-sst5_stabilityaiStableBeluga7b_random_16_Kyle1668bosssentiment6000bertbaseuncased_style_logs:v0\",\n",
      "    \"BOSS_Sentiment_Ablate_Data_SST5_BERT120000_Insert\": \"run-pv6dxpzt-sst5_aug_insert_random_16_Kyle1668bosssentiment12000bertbaseuncased_style_logs:v0\",\n",
      "    \"BOSS_Sentiment_Ablate_Data_SST5_BERT120000_Substitute\": \"run-pv6dxpzt-sst5_aug_substitute_random_16_Kyle1668bosssentiment12000bertbaseuncased_style_logs:v0\",\n",
      "    \"BOSS_Sentiment_Ablate_Data_SST5_BERT120000_Translate\": \"run-pv6dxpzt-sst5_aug_backtranslate_random_16_Kyle1668bosssentiment12000bertbaseuncased_style_logs:v0\",\n",
      "    \"BOSS_Sentiment_Ablate_Data_SST5_BERT120000_Paraphrase\": \"run-pv6dxpzt-sst5_stabilityaiStableBeluga7b_random_0_Kyle1668bosssentiment12000bertbaseuncased_style_logs:v0\",\n",
      "    \"BOSS_Sentiment_Ablate_Data_SST5_BERT120000_ICR\": \"run-pv6dxpzt-sst5_stabilityaiStableBeluga7b_random_16_Kyle1668bosssentiment12000bertbaseuncased_style_logs:v0\",\n",
      "    \"BOSS_Sentiment_Ablate_Data_SST5_BERT24000_Insert\": \"run-ujjjnolk-sst5_aug_insert_random_16_Kyle1668bosssentiment24000bertbaseuncased_style_logs:v0\",\n",
      "    \"BOSS_Sentiment_Ablate_Data_SST5_BERT24000_Substitute\": \"run-ujjjnolk-sst5_aug_substitute_random_16_Kyle1668bosssentiment24000bertbaseuncased_style_logs:v0\",\n",
      "    \"BOSS_Sentiment_Ablate_Data_SST5_BERT24000_Translate\": \"run-ujjjnolk-sst5_aug_backtranslate_random_16_Kyle1668bosssentiment24000bertbaseuncased_style_logs:v0\",\n",
      "    \"BOSS_Sentiment_Ablate_Data_SST5_BERT24000_Paraphrase\": \"run-ujjjnolk-sst5_stabilityaiStableBeluga7b_random_0_Kyle1668bosssentiment24000bertbaseuncased_style_logs:v0\",\n",
      "    \"BOSS_Sentiment_Ablate_Data_SST5_BERT24000_ICR\": \"run-ujjjnolk-sst5_stabilityaiStableBeluga7b_random_16_Kyle1668bosssentiment24000bertbaseuncased_style_logs:v0\",\n",
      "    \"BOSS_Sentiment_SST5_T5_Insert\": \"run-omxsb0i7-sst5_aug_insert_random_16_Kyle1668bosssentimentt5large_style_logs:v0\",\n",
      "    \"BOSS_Sentiment_SST5_T5_Substitute\": \"run-omxsb0i7-sst5_aug_substitute_random_16_Kyle1668bosssentimentt5large_style_logs:v0\",\n",
      "    \"BOSS_Sentiment_SST5_T5_Translate\": \"run-omxsb0i7-sst5_aug_backtranslate_random_16_Kyle1668bosssentimentt5large_style_logs:v0\",\n",
      "    \"BOSS_Sentiment_SST5_T5_Paraphrase\": \"run-omxsb0i7-sst5_stabilityaiStableBeluga7b_random_0_Kyle1668bosssentimentt5large_style_logs:v0\",\n",
      "    \"BOSS_Sentiment_SST5_T5_ICR\": \"run-omxsb0i7-sst5_stabilityaiStableBeluga7b_random_16_Kyle1668bosssentimentt5large_style_logs:v0\",\n",
      "    \"BOSS_Sentiment_SST5_Falcon_Insert\": \"run-omxsb0i7-sst5_aug_insert_random_16_tiiuaefalcon7binstruct_style_logs:v0\",\n",
      "    \"BOSS_Sentiment_SST5_Falcon_Substitute\": \"run-omxsb0i7-sst5_aug_substitute_random_16_tiiuaefalcon7binstruct_style_logs:v0\",\n",
      "    \"BOSS_Sentiment_SST5_Falcon_Translate\": \"run-omxsb0i7-sst5_aug_backtranslate_random_16_tiiuaefalcon7binstruct_style_logs:v0\",\n",
      "    \"BOSS_Sentiment_SST5_Falcon_Paraphrase\": \"run-omxsb0i7-sst5_stabilityaiStableBeluga7b_random_0_tiiuaefalcon7binstruct_style_logs:v0\",\n",
      "    \"BOSS_Sentiment_SST5_Falcon_ICR\": \"run-omxsb0i7-sst5_stabilityaiStableBeluga7b_random_16_tiiuaefalcon7binstruct_style_logs:v0\",\n",
      "    \"BOSS_Sentiment_SemEval_BERT_Insert\": \"run-omxsb0i7-semval_aug_insert_random_16_Kyle1668bosssentimentbertbaseuncased_style_logs:v0\",\n",
      "    \"BOSS_Sentiment_SemEval_BERT_Substitute\": \"run-omxsb0i7-semval_aug_substitute_random_16_Kyle1668bosssentimentbertbaseuncased_style_logs:v0\",\n",
      "    \"BOSS_Sentiment_SemEval_BERT_Translate\": \"run-omxsb0i7-semval_aug_backtranslate_random_16_Kyle1668bosssentimentbertbaseuncased_style_logs:v0\",\n",
      "    \"BOSS_Sentiment_SemEval_BERT_Paraphrase\": \"run-omxsb0i7-semval_stabilityaiStableBeluga7b_random_0_Kyle1668bosssentimentbertbaseuncased_style_logs:v0\",\n",
      "    \"BOSS_Sentiment_SemEval_BERT_ICR\": \"run-omxsb0i7-semval_stabilityaiStableBeluga7b_random_16_Kyle1668bosssentimentbertbaseuncased_style_logs:v0\",\n",
      "    \"BOSS_Sentiment_Ablate_Data_SemEval_BERT1500_Insert\": \"run-gdqehris-semval_aug_insert_random_16_Kyle1668bosssentiment1500bertbaseuncased_style_logs:v0\",\n",
      "    \"BOSS_Sentiment_Ablate_Data_SemEval_BERT1500_Substitute\": \"run-gdqehris-semval_aug_substitute_random_16_Kyle1668bosssentiment1500bertbaseuncased_style_logs:v0\",\n",
      "    \"BOSS_Sentiment_Ablate_Data_SemEval_BERT1500_Translate\": \"run-gdqehris-semval_aug_backtranslate_random_16_Kyle1668bosssentiment1500bertbaseuncased_style_logs:v0\",\n",
      "    \"BOSS_Sentiment_Ablate_Data_SemEval_BERT1500_Paraphrase\": \"run-gdqehris-semval_stabilityaiStableBeluga7b_random_0_Kyle1668bosssentiment1500bertbaseuncased_style_logs:v0\",\n",
      "    \"BOSS_Sentiment_Ablate_Data_SemEval_BERT1500_ICR\": \"run-gdqehris-semval_stabilityaiStableBeluga7b_random_16_Kyle1668bosssentiment1500bertbaseuncased_style_logs:v0\",\n",
      "    \"BOSS_Sentiment_Ablate_Data_SemEval_BERT3000_Insert\": \"run-gfb8nevp-semval_aug_insert_random_16_Kyle1668bosssentiment3000bertbaseuncased_style_logs:v0\",\n",
      "    \"BOSS_Sentiment_Ablate_Data_SemEval_BERT3000_Substitute\": \"run-gfb8nevp-semval_aug_substitute_random_16_Kyle1668bosssentiment3000bertbaseuncased_style_logs:v0\",\n",
      "    \"BOSS_Sentiment_Ablate_Data_SemEval_BERT3000_Translate\": \"run-gfb8nevp-semval_aug_backtranslate_random_16_Kyle1668bosssentiment3000bertbaseuncased_style_logs:v0\",\n",
      "    \"BOSS_Sentiment_Ablate_Data_SemEval_BERT3000_Paraphrase\": \"run-gfb8nevp-semval_stabilityaiStableBeluga7b_random_0_Kyle1668bosssentiment3000bertbaseuncased_style_logs:v0\",\n",
      "    \"BOSS_Sentiment_Ablate_Data_SemEval_BERT3000_ICR\": \"run-gfb8nevp-semval_stabilityaiStableBeluga7b_random_16_Kyle1668bosssentiment3000bertbaseuncased_style_logs:v0\",\n",
      "    \"BOSS_Sentiment_Ablate_Data_SemEval_BERT6000_Insert\": \"run-hg6u172t-semval_aug_insert_random_16_Kyle1668bosssentiment6000bertbaseuncased_style_logs:v0\",\n",
      "    \"BOSS_Sentiment_Ablate_Data_SemEval_BERT6000_Substitute\": \"run-hg6u172t-semval_aug_substitute_random_16_Kyle1668bosssentiment6000bertbaseuncased_style_logs:v0\",\n",
      "    \"BOSS_Sentiment_Ablate_Data_SemEval_BERT6000_Translate\": \"run-hg6u172t-semval_aug_backtranslate_random_16_Kyle1668bosssentiment6000bertbaseuncased_style_logs:v0\",\n",
      "    \"BOSS_Sentiment_Ablate_Data_SemEval_BERT6000_Paraphrase\": \"run-hg6u172t-semval_stabilityaiStableBeluga7b_random_0_Kyle1668bosssentiment6000bertbaseuncased_style_logs:v0\",\n",
      "    \"BOSS_Sentiment_Ablate_Data_SemEval_BERT6000_ICR\": \"run-hg6u172t-semval_stabilityaiStableBeluga7b_random_16_Kyle1668bosssentiment6000bertbaseuncased_style_logs:v0\",\n",
      "    \"BOSS_Sentiment_Ablate_Data_SemEval_BERT120000_Insert\": \"run-pv6dxpzt-semval_aug_insert_random_16_Kyle1668bosssentiment12000bertbaseuncased_style_logs:v0\",\n",
      "    \"BOSS_Sentiment_Ablate_Data_SemEval_BERT120000_Substitute\": \"run-pv6dxpzt-semval_aug_substitute_random_16_Kyle1668bosssentiment12000bertbaseuncased_style_logs:v0\",\n",
      "    \"BOSS_Sentiment_Ablate_Data_SemEval_BERT120000_Translate\": \"run-pv6dxpzt-semval_aug_backtranslate_random_16_Kyle1668bosssentiment12000bertbaseuncased_style_logs:v0\",\n",
      "    \"BOSS_Sentiment_Ablate_Data_SemEval_BERT120000_Paraphrase\": \"run-pv6dxpzt-semval_stabilityaiStableBeluga7b_random_0_Kyle1668bosssentiment12000bertbaseuncased_style_logs:v0\",\n",
      "    \"BOSS_Sentiment_Ablate_Data_SemEval_BERT120000_ICR\": \"run-pv6dxpzt-semval_stabilityaiStableBeluga7b_random_16_Kyle1668bosssentiment12000bertbaseuncased_style_logs:v0\",\n",
      "    \"BOSS_Sentiment_Ablate_Data_SemEval_BERT24000_Insert\": \"run-ujjjnolk-semval_aug_insert_random_16_Kyle1668bosssentiment24000bertbaseuncased_style_logs:v0\",\n",
      "    \"BOSS_Sentiment_Ablate_Data_SemEval_BERT24000_Substitute\": \"run-ujjjnolk-semval_aug_substitute_random_16_Kyle1668bosssentiment24000bertbaseuncased_style_logs:v0\",\n",
      "    \"BOSS_Sentiment_Ablate_Data_SemEval_BERT24000_Translate\": \"run-ujjjnolk-semval_aug_backtranslate_random_16_Kyle1668bosssentiment24000bertbaseuncased_style_logs:v0\",\n",
      "    \"BOSS_Sentiment_Ablate_Data_SemEval_BERT24000_Paraphrase\": \"run-ujjjnolk-semval_stabilityaiStableBeluga7b_random_0_Kyle1668bosssentiment24000bertbaseuncased_style_logs:v0\",\n",
      "    \"BOSS_Sentiment_Ablate_Data_SemEval_BERT24000_ICR\": \"run-ujjjnolk-semval_stabilityaiStableBeluga7b_random_16_Kyle1668bosssentiment24000bertbaseuncased_style_logs:v0\",\n",
      "    \"BOSS_Sentiment_SemEval_T5_Insert\": \"run-omxsb0i7-semval_aug_insert_random_16_Kyle1668bosssentimentt5large_style_logs:v0\",\n",
      "    \"BOSS_Sentiment_SemEval_T5_Substitute\": \"run-omxsb0i7-semval_aug_substitute_random_16_Kyle1668bosssentimentt5large_style_logs:v0\",\n",
      "    \"BOSS_Sentiment_SemEval_T5_Translate\": \"run-omxsb0i7-semval_aug_backtranslate_random_16_Kyle1668bosssentimentt5large_style_logs:v0\",\n",
      "    \"BOSS_Sentiment_SemEval_T5_Paraphrase\": \"run-omxsb0i7-semval_stabilityaiStableBeluga7b_random_0_Kyle1668bosssentimentt5large_style_logs:v0\",\n",
      "    \"BOSS_Sentiment_SemEval_T5_ICR\": \"run-omxsb0i7-semval_stabilityaiStableBeluga7b_random_16_Kyle1668bosssentimentt5large_style_logs:v0\",\n",
      "    \"BOSS_Sentiment_SemEval_Falcon_Insert\": \"run-omxsb0i7-semval_aug_insert_random_16_tiiuaefalcon7binstruct_style_logs:v0\",\n",
      "    \"BOSS_Sentiment_SemEval_Falcon_Substitute\": \"run-omxsb0i7-semval_aug_substitute_random_16_tiiuaefalcon7binstruct_style_logs:v0\",\n",
      "    \"BOSS_Sentiment_SemEval_Falcon_Translate\": \"run-omxsb0i7-semval_aug_backtranslate_random_16_tiiuaefalcon7binstruct_style_logs:v0\",\n",
      "    \"BOSS_Sentiment_SemEval_Falcon_Paraphrase\": \"run-omxsb0i7-semval_stabilityaiStableBeluga7b_random_0_tiiuaefalcon7binstruct_style_logs:v0\",\n",
      "    \"BOSS_Sentiment_SemEval_Falcon_ICR\": \"run-omxsb0i7-semval_stabilityaiStableBeluga7b_random_16_tiiuaefalcon7binstruct_style_logs:v0\",\n",
      "    \"BOSS_Sentiment_Dynasent_BERT_Insert\": \"run-omxsb0i7-dynasent_aug_insert_random_16_Kyle1668bosssentimentbertbaseuncased_style_logs:v0\",\n",
      "    \"BOSS_Sentiment_Dynasent_BERT_Substitute\": \"run-omxsb0i7-dynasent_aug_substitute_random_16_Kyle1668bosssentimentbertbaseuncased_style_logs:v0\",\n",
      "    \"BOSS_Sentiment_Dynasent_BERT_Translate\": \"run-omxsb0i7-dynasent_aug_backtranslate_random_16_Kyle1668bosssentimentbertbaseuncased_style_logs:v0\",\n",
      "    \"BOSS_Sentiment_Dynasent_BERT_Paraphrase\": \"run-omxsb0i7-dynasent_stabilityaiStableBeluga7b_random_0_Kyle1668bosssentimentbertbaseuncased_style_logs:v0\",\n",
      "    \"BOSS_Sentiment_Dynasent_BERT_ICR\": \"run-omxsb0i7-dynasent_stabilityaiStableBeluga7b_random_16_Kyle1668bosssentimentbertbaseuncased_style_logs:v0\",\n",
      "    \"BOSS_Sentiment_Ablate_Data_Dynasent_BERT1500_Insert\": \"run-gdqehris-dynasent_aug_insert_random_16_Kyle1668bosssentiment1500bertbaseuncased_style_logs:v0\",\n",
      "    \"BOSS_Sentiment_Ablate_Data_Dynasent_BERT1500_Substitute\": \"run-gdqehris-dynasent_aug_substitute_random_16_Kyle1668bosssentiment1500bertbaseuncased_style_logs:v0\",\n",
      "    \"BOSS_Sentiment_Ablate_Data_Dynasent_BERT1500_Translate\": \"run-gdqehris-dynasent_aug_backtranslate_random_16_Kyle1668bosssentiment1500bertbaseuncased_style_logs:v0\",\n",
      "    \"BOSS_Sentiment_Ablate_Data_Dynasent_BERT1500_Paraphrase\": \"run-gdqehris-dynasent_stabilityaiStableBeluga7b_random_0_Kyle1668bosssentiment1500bertbaseuncased_style_logs:v0\",\n",
      "    \"BOSS_Sentiment_Ablate_Data_Dynasent_BERT1500_ICR\": \"run-gdqehris-dynasent_stabilityaiStableBeluga7b_random_16_Kyle1668bosssentiment1500bertbaseuncased_style_logs:v0\",\n",
      "    \"BOSS_Sentiment_Ablate_Data_Dynasent_BERT3000_Insert\": \"run-gfb8nevp-dynasent_aug_insert_random_16_Kyle1668bosssentiment3000bertbaseuncased_style_logs:v0\",\n",
      "    \"BOSS_Sentiment_Ablate_Data_Dynasent_BERT3000_Substitute\": \"run-gfb8nevp-dynasent_aug_substitute_random_16_Kyle1668bosssentiment3000bertbaseuncased_style_logs:v0\",\n",
      "    \"BOSS_Sentiment_Ablate_Data_Dynasent_BERT3000_Translate\": \"run-gfb8nevp-dynasent_aug_backtranslate_random_16_Kyle1668bosssentiment3000bertbaseuncased_style_logs:v0\",\n",
      "    \"BOSS_Sentiment_Ablate_Data_Dynasent_BERT3000_Paraphrase\": \"run-gfb8nevp-dynasent_stabilityaiStableBeluga7b_random_0_Kyle1668bosssentiment3000bertbaseuncased_style_logs:v0\",\n",
      "    \"BOSS_Sentiment_Ablate_Data_Dynasent_BERT3000_ICR\": \"run-gfb8nevp-dynasent_stabilityaiStableBeluga7b_random_16_Kyle1668bosssentiment3000bertbaseuncased_style_logs:v0\",\n",
      "    \"BOSS_Sentiment_Ablate_Data_Dynasent_BERT6000_Insert\": \"run-hg6u172t-dynasent_aug_insert_random_16_Kyle1668bosssentiment6000bertbaseuncased_style_logs:v0\",\n",
      "    \"BOSS_Sentiment_Ablate_Data_Dynasent_BERT6000_Substitute\": \"run-hg6u172t-dynasent_aug_substitute_random_16_Kyle1668bosssentiment6000bertbaseuncased_style_logs:v0\",\n",
      "    \"BOSS_Sentiment_Ablate_Data_Dynasent_BERT6000_Translate\": \"run-hg6u172t-dynasent_aug_backtranslate_random_16_Kyle1668bosssentiment6000bertbaseuncased_style_logs:v0\",\n",
      "    \"BOSS_Sentiment_Ablate_Data_Dynasent_BERT6000_Paraphrase\": \"run-hg6u172t-dynasent_stabilityaiStableBeluga7b_random_0_Kyle1668bosssentiment6000bertbaseuncased_style_logs:v0\",\n",
      "    \"BOSS_Sentiment_Ablate_Data_Dynasent_BERT6000_ICR\": \"run-hg6u172t-dynasent_stabilityaiStableBeluga7b_random_16_Kyle1668bosssentiment6000bertbaseuncased_style_logs:v0\",\n",
      "    \"BOSS_Sentiment_Ablate_Data_Dynasent_BERT120000_Insert\": \"run-pv6dxpzt-dynasent_aug_insert_random_16_Kyle1668bosssentiment12000bertbaseuncased_style_logs:v0\",\n",
      "    \"BOSS_Sentiment_Ablate_Data_Dynasent_BERT120000_Substitute\": \"run-pv6dxpzt-dynasent_aug_substitute_random_16_Kyle1668bosssentiment12000bertbaseuncased_style_logs:v0\",\n",
      "    \"BOSS_Sentiment_Ablate_Data_Dynasent_BERT120000_Translate\": \"run-pv6dxpzt-dynasent_aug_backtranslate_random_16_Kyle1668bosssentiment12000bertbaseuncased_style_logs:v0\",\n",
      "    \"BOSS_Sentiment_Ablate_Data_Dynasent_BERT120000_Paraphrase\": \"run-pv6dxpzt-dynasent_stabilityaiStableBeluga7b_random_0_Kyle1668bosssentiment12000bertbaseuncased_style_logs:v0\",\n",
      "    \"BOSS_Sentiment_Ablate_Data_Dynasent_BERT120000_ICR\": \"run-pv6dxpzt-dynasent_stabilityaiStableBeluga7b_random_16_Kyle1668bosssentiment12000bertbaseuncased_style_logs:v0\",\n",
      "    \"BOSS_Sentiment_Ablate_Data_Dynasent_BERT24000_Insert\": \"run-ujjjnolk-dynasent_aug_insert_random_16_Kyle1668bosssentiment24000bertbaseuncased_style_logs:v0\",\n",
      "    \"BOSS_Sentiment_Ablate_Data_Dynasent_BERT24000_Substitute\": \"run-ujjjnolk-dynasent_aug_substitute_random_16_Kyle1668bosssentiment24000bertbaseuncased_style_logs:v0\",\n",
      "    \"BOSS_Sentiment_Ablate_Data_Dynasent_BERT24000_Translate\": \"run-ujjjnolk-dynasent_aug_backtranslate_random_16_Kyle1668bosssentiment24000bertbaseuncased_style_logs:v0\",\n",
      "    \"BOSS_Sentiment_Ablate_Data_Dynasent_BERT24000_Paraphrase\": \"run-ujjjnolk-dynasent_stabilityaiStableBeluga7b_random_0_Kyle1668bosssentiment24000bertbaseuncased_style_logs:v0\",\n",
      "    \"BOSS_Sentiment_Ablate_Data_Dynasent_BERT24000_ICR\": \"run-ujjjnolk-dynasent_stabilityaiStableBeluga7b_random_16_Kyle1668bosssentiment24000bertbaseuncased_style_logs:v0\",\n",
      "    \"BOSS_Sentiment_Dynasent_T5_Insert\": \"run-omxsb0i7-dynasent_aug_insert_random_16_Kyle1668bosssentimentt5large_style_logs:v0\",\n",
      "    \"BOSS_Sentiment_Dynasent_T5_Substitute\": \"run-omxsb0i7-dynasent_aug_substitute_random_16_Kyle1668bosssentimentt5large_style_logs:v0\",\n",
      "    \"BOSS_Sentiment_Dynasent_T5_Translate\": \"run-omxsb0i7-dynasent_aug_backtranslate_random_16_Kyle1668bosssentimentt5large_style_logs:v0\",\n",
      "    \"BOSS_Sentiment_Dynasent_T5_Paraphrase\": \"run-omxsb0i7-dynasent_stabilityaiStableBeluga7b_random_0_Kyle1668bosssentimentt5large_style_logs:v0\",\n",
      "    \"BOSS_Sentiment_Dynasent_T5_ICR\": \"run-omxsb0i7-dynasent_stabilityaiStableBeluga7b_random_16_Kyle1668bosssentimentt5large_style_logs:v0\",\n",
      "    \"BOSS_Sentiment_Dynasent_Falcon_Insert\": \"run-omxsb0i7-dynasent_aug_insert_random_16_tiiuaefalcon7binstruct_style_logs:v0\",\n",
      "    \"BOSS_Sentiment_Dynasent_Falcon_Substitute\": \"run-omxsb0i7-dynasent_aug_substitute_random_16_tiiuaefalcon7binstruct_style_logs:v0\",\n",
      "    \"BOSS_Sentiment_Dynasent_Falcon_Translate\": \"run-omxsb0i7-dynasent_aug_backtranslate_random_16_tiiuaefalcon7binstruct_style_logs:v0\",\n",
      "    \"BOSS_Sentiment_Dynasent_Falcon_Paraphrase\": \"run-omxsb0i7-dynasent_stabilityaiStableBeluga7b_random_0_tiiuaefalcon7binstruct_style_logs:v0\",\n",
      "    \"BOSS_Sentiment_Dynasent_Falcon_ICR\": \"run-omxsb0i7-dynasent_stabilityaiStableBeluga7b_random_16_tiiuaefalcon7binstruct_style_logs:v0\",\n",
      "    \"BOSS_Toxicity_ID_BERT_Insert\": \"run-57a9z4m8-validation_aug_insert_random_16_Kyle1668bosstoxicitybertbaseuncased_style_logs:v0\",\n",
      "    \"BOSS_Toxicity_ID_BERT_Substitute\": \"run-57a9z4m8-validation_aug_substitute_random_16_Kyle1668bosstoxicitybertbaseuncased_style_logs:v0\",\n",
      "    \"BOSS_Toxicity_ID_BERT_Translate\": \"run-57a9z4m8-validation_aug_backtranslate_random_16_Kyle1668bosstoxicitybertbaseuncased_style_logs:v0\",\n",
      "    \"BOSS_Toxicity_ID_BERT_Paraphrase\": \"run-cfj9o5h7-validation_stabilityaiStableBeluga7b_random_0_Kyle1668bosstoxicitybertbaseuncased_style_logs:v0\",\n",
      "    \"BOSS_Toxicity_ID_BERT_ICR\": \"run-dvdcuuij-validation_stabilityaiStableBeluga7b_random_16_Kyle1668bosstoxicitybertbaseuncased_style_logs:v0\",\n",
      "    \"BOSS_Toxicity_ID_T5_Insert\": \"run-0ctkgl69-validation_aug_insert_random_16_Kyle1668bosstoxicityt5large_style_logs:v0\",\n",
      "    \"BOSS_Toxicity_ID_T5_Substitute\": \"run-0ctkgl69-validation_aug_substitute_random_16_Kyle1668bosstoxicityt5large_style_logs:v0\",\n",
      "    \"BOSS_Toxicity_ID_T5_Translate\": \"run-0ctkgl69-validation_aug_backtranslate_random_16_Kyle1668bosstoxicityt5large_style_logs:v0\",\n",
      "    \"BOSS_Toxicity_ID_T5_Paraphrase\": \"run-0ctkgl69-validation_stabilityaiStableBeluga7b_random_0_Kyle1668bosstoxicityt5large_style_logs:v0\",\n",
      "    \"BOSS_Toxicity_ID_T5_ICR\": \"run-0ctkgl69-validation_stabilityaiStableBeluga7b_random_16_Kyle1668bosstoxicityt5large_style_logs:v0\",\n",
      "    \"BOSS_Toxicity_ID_Falcon_Insert\": \"run-bo8gbtun-validation_aug_insert_random_16_tiiuaefalcon7binstruct_style_logs:v0\",\n",
      "    \"BOSS_Toxicity_ID_Falcon_Substitute\": \"run-bo8gbtun-validation_aug_substitute_random_16_tiiuaefalcon7binstruct_style_logs:v0\",\n",
      "    \"BOSS_Toxicity_ID_Falcon_Translate\": \"\",\n",
      "    \"BOSS_Toxicity_ID_Falcon_Paraphrase\": \"\",\n",
      "    \"BOSS_Toxicity_ID_Falcon_ICR\": \"\",\n",
      "    \"BOSS_Toxicity_Toxigen_BERT_Insert\": \"run-57a9z4m8-toxigen_aug_insert_random_16_Kyle1668bosstoxicitybertbaseuncased_style_logs:v0\",\n",
      "    \"BOSS_Toxicity_Toxigen_BERT_Substitute\": \"run-57a9z4m8-toxigen_aug_substitute_random_16_Kyle1668bosstoxicitybertbaseuncased_style_logs:v0\",\n",
      "    \"BOSS_Toxicity_Toxigen_BERT_Translate\": \"run-57a9z4m8-toxigen_aug_backtranslate_random_16_Kyle1668bosstoxicitybertbaseuncased_style_logs:v0\",\n",
      "    \"BOSS_Toxicity_Toxigen_BERT_Paraphrase\": \"run-57a9z4m8-toxigen_stabilityaiStableBeluga7b_random_0_Kyle1668bosstoxicitybertbaseuncased_style_logs:v0\",\n",
      "    \"BOSS_Toxicity_Toxigen_BERT_ICR\": \"run-57a9z4m8-toxigen_stabilityaiStableBeluga7b_random_16_Kyle1668bosstoxicitybertbaseuncased_style_logs:v0\",\n",
      "    \"BOSS_Toxicity_Ablate_Data_Toxigen_BERT3000_Insert\": \"run-2ecsgmy9-toxigen_aug_insert_random_16_Kyle1668bosstoxicity6000bertbaseuncased_style_logs:v0\",\n",
      "    \"BOSS_Toxicity_Ablate_Data_Toxigen_BERT3000_Substitute\": \"run-2ecsgmy9-toxigen_aug_substitute_random_16_Kyle1668bosstoxicity6000bertbaseuncased_style_logs:v0\",\n",
      "    \"BOSS_Toxicity_Ablate_Data_Toxigen_BERT3000_Translate\": \"run-2ecsgmy9-toxigen_aug_backtranslate_random_16_Kyle1668bosstoxicity6000bertbaseuncased_style_logs:v0\",\n",
      "    \"BOSS_Toxicity_Ablate_Data_Toxigen_BERT3000_Paraphrase\": \"run-2ecsgmy9-toxigen_stabilityaiStableBeluga7b_random_0_Kyle1668bosstoxicity6000bertbaseuncased_style_logs:v0\",\n",
      "    \"BOSS_Toxicity_Ablate_Data_Toxigen_BERT3000_ICR\": \"run-2ecsgmy9-toxigen_stabilityaiStableBeluga7b_random_16_Kyle1668bosstoxicity6000bertbaseuncased_style_logs:v0\",\n",
      "    \"BOSS_Toxicity_Ablate_Data_Toxigen_BERT6000_Insert\": \"run-ms2943fk-toxigen_aug_insert_random_16_Kyle1668bosstoxicity3000bertbaseuncased_style_logs:v0\",\n",
      "    \"BOSS_Toxicity_Ablate_Data_Toxigen_BERT6000_Substitute\": \"run-ms2943fk-toxigen_aug_substitute_random_16_Kyle1668bosstoxicity3000bertbaseuncased_style_logs:v0\",\n",
      "    \"BOSS_Toxicity_Ablate_Data_Toxigen_BERT6000_Translate\": \"run-ms2943fk-toxigen_aug_backtranslate_random_16_Kyle1668bosstoxicity3000bertbaseuncased_style_logs:v0\",\n",
      "    \"BOSS_Toxicity_Ablate_Data_Toxigen_BERT6000_Paraphrase\": \"run-ms2943fk-toxigen_stabilityaiStableBeluga7b_random_0_Kyle1668bosstoxicity3000bertbaseuncased_style_logs:v0\",\n",
      "    \"BOSS_Toxicity_Ablate_Data_Toxigen_BERT6000_ICR\": \"run-ms2943fk-toxigen_stabilityaiStableBeluga7b_random_16_Kyle1668bosstoxicity3000bertbaseuncased_style_logs:v0\",\n",
      "    \"BOSS_Toxicity_Ablate_Data_Toxigen_BERT12000_Insert\": \"run-7hgtyr98-toxigen_aug_insert_random_16_Kyle1668bosstoxicity12000bertbaseuncased_style_logs:v0\",\n",
      "    \"BOSS_Toxicity_Ablate_Data_Toxigen_BERT12000_Substitute\": \"run-7hgtyr98-toxigen_aug_substitute_random_16_Kyle1668bosstoxicity12000bertbaseuncased_style_logs:v0\",\n",
      "    \"BOSS_Toxicity_Ablate_Data_Toxigen_BERT12000_Translate\": \"run-7hgtyr98-toxigen_aug_backtranslate_random_16_Kyle1668bosstoxicity12000bertbaseuncased_style_logs:v0\",\n",
      "    \"BOSS_Toxicity_Ablate_Data_Toxigen_BERT12000_Paraphrase\": \"run-7hgtyr98-toxigen_stabilityaiStableBeluga7b_random_0_Kyle1668bosstoxicity12000bertbaseuncased_style_logs:v0\",\n",
      "    \"BOSS_Toxicity_Ablate_Data_Toxigen_BERT12000_ICR\": \"run-7hgtyr98-toxigen_stabilityaiStableBeluga7b_random_16_Kyle1668bosstoxicity12000bertbaseuncased_style_logs:v0\",\n",
      "    \"BOSS_Toxicity_Ablate_Data_Toxigen_BERT24000_Insert\": \"run-wl2a38kf-toxigen_aug_insert_random_16_Kyle1668bosstoxicity24000bertbaseuncased_style_logs:v0\",\n",
      "    \"BOSS_Toxicity_Ablate_Data_Toxigen_BERT24000_Substitute\": \"run-wl2a38kf-toxigen_aug_substitute_random_16_Kyle1668bosstoxicity24000bertbaseuncased_style_logs:v0\",\n",
      "    \"BOSS_Toxicity_Ablate_Data_Toxigen_BERT24000_Translate\": \"run-wl2a38kf-toxigen_aug_backtranslate_random_16_Kyle1668bosstoxicity24000bertbaseuncased_style_logs:v0\",\n",
      "    \"BOSS_Toxicity_Ablate_Data_Toxigen_BERT24000_Paraphrase\": \"run-wl2a38kf-toxigen_stabilityaiStableBeluga7b_random_0_Kyle1668bosstoxicity24000bertbaseuncased_style_logs:v0\",\n",
      "    \"BOSS_Toxicity_Ablate_Data_Toxigen_BERT24000_ICR\": \"run-wl2a38kf-toxigen_stabilityaiStableBeluga7b_random_16_Kyle1668bosstoxicity24000bertbaseuncased_style_logs:v0\",\n",
      "    \"BOSS_Toxicity_Ablate_Data_Toxigen_BERT48000_Insert\": \"run-iaorx9o7-toxigen_aug_insert_random_16_Kyle1668bosstoxicity48000bertbaseuncased_style_logs:v0\",\n",
      "    \"BOSS_Toxicity_Ablate_Data_Toxigen_BERT48000_Substitute\": \"run-iaorx9o7-toxigen_aug_substitute_random_16_Kyle1668bosstoxicity48000bertbaseuncased_style_logs:v0\",\n",
      "    \"BOSS_Toxicity_Ablate_Data_Toxigen_BERT48000_Translate\": \"run-iaorx9o7-toxigen_aug_backtranslate_random_16_Kyle1668bosstoxicity48000bertbaseuncased_style_logs:v0\",\n",
      "    \"BOSS_Toxicity_Ablate_Data_Toxigen_BERT48000_Paraphrase\": \"run-iaorx9o7-toxigen_stabilityaiStableBeluga7b_random_0_Kyle1668bosstoxicity48000bertbaseuncased_style_logs:v0\",\n",
      "    \"BOSS_Toxicity_Ablate_Data_Toxigen_BERT48000_ICR\": \"run-iaorx9o7-toxigen_stabilityaiStableBeluga7b_random_16_Kyle1668bosstoxicity48000bertbaseuncased_style_logs:v0\",\n",
      "    \"BOSS_Toxicity_Toxigen_T5_Insert\": \"run-57a9z4m8-toxigen_aug_insert_random_16_Kyle1668bosstoxicityt5large_style_logs:v0\",\n",
      "    \"BOSS_Toxicity_Toxigen_T5_Substitute\": \"run-57a9z4m8-toxigen_aug_substitute_random_16_Kyle1668bosstoxicityt5large_style_logs:v0\",\n",
      "    \"BOSS_Toxicity_Toxigen_T5_Translate\": \"run-57a9z4m8-toxigen_aug_backtranslate_random_16_Kyle1668bosstoxicityt5large_style_logs:v0\",\n",
      "    \"BOSS_Toxicity_Toxigen_T5_Paraphrase\": \"run-57a9z4m8-toxigen_stabilityaiStableBeluga7b_random_0_Kyle1668bosstoxicityt5large_style_logs:v0\",\n",
      "    \"BOSS_Toxicity_Toxigen_T5_ICR\": \"run-57a9z4m8-toxigen_stabilityaiStableBeluga7b_random_16_Kyle1668bosstoxicityt5large_style_logs:v0\",\n",
      "    \"BOSS_Toxicity_Toxigen_Falcon_Insert\": \"run-57a9z4m8-toxigen_aug_insert_random_16_tiiuaefalcon7binstruct_style_logs:v0\",\n",
      "    \"BOSS_Toxicity_Toxigen_Falcon_Substitute\": \"run-57a9z4m8-toxigen_aug_substitute_random_16_tiiuaefalcon7binstruct_style_logs:v0\",\n",
      "    \"BOSS_Toxicity_Toxigen_Falcon_Translate\": \"run-57a9z4m8-toxigen_aug_backtranslate_random_16_tiiuaefalcon7binstruct_style_logs:v0\",\n",
      "    \"BOSS_Toxicity_Toxigen_Falcon_Paraphrase\": \"run-57a9z4m8-toxigen_stabilityaiStableBeluga7b_random_0_tiiuaefalcon7binstruct_style_logs:v0\",\n",
      "    \"BOSS_Toxicity_Toxigen_Falcon_ICR\": \"run-57a9z4m8-toxigen_stabilityaiStableBeluga7b_random_16_tiiuaefalcon7binstruct_style_logs:v0\",\n",
      "    \"BOSS_Toxicity_ImplicitHate_BERT_Insert\": \"run-57a9z4m8-implicit_hate_aug_insert_random_16_Kyle1668bosstoxicitybertbaseuncased_style_logs:v0\",\n",
      "    \"BOSS_Toxicity_ImplicitHate_BERT_Substitute\": \"run-57a9z4m8-implicit_hate_aug_substitute_random_16_Kyle1668bosstoxicitybertbaseuncased_style_logs:v0\",\n",
      "    \"BOSS_Toxicity_ImplicitHate_BERT_Translate\": \"run-57a9z4m8-implicit_hate_aug_backtranslate_random_16_Kyle1668bosstoxicitybertbaseuncased_style_logs:v0\",\n",
      "    \"BOSS_Toxicity_ImplicitHate_BERT_Paraphrase\": \"run-57a9z4m8-implicit_hate_stabilityaiStableBeluga7b_random_0_Kyle1668bosstoxicitybertbaseuncased_style_logs:v0\",\n",
      "    \"BOSS_Toxicity_ImplicitHate_BERT_ICR\": \"run-lixlm6qh-implicit_hate_stabilityaiStableBeluga7b_random_16_Kyle1668bosstoxicitybertbaseuncased_style_logs:v0\",\n",
      "    \"BOSS_Toxicity_Ablate_Data_ImplicitHate_BERT3000_Insert\": \"run-ms2943fk-implicit_hate_aug_insert_random_16_Kyle1668bosstoxicity3000bertbaseuncased_style_logs:v0\",\n",
      "    \"BOSS_Toxicity_Ablate_Data_ImplicitHate_BERT3000_Substitute\": \"run-ms2943fk-implicit_hate_aug_substitute_random_16_Kyle1668bosstoxicity3000bertbaseuncased_style_logs:v0\",\n",
      "    \"BOSS_Toxicity_Ablate_Data_ImplicitHate_BERT3000_Translate\": \"run-ms2943fk-implicit_hate_aug_backtranslate_random_16_Kyle1668bosstoxicity3000bertbaseuncased_style_logs:v0\",\n",
      "    \"BOSS_Toxicity_Ablate_Data_ImplicitHate_BERT3000_Paraphrase\": \"run-ms2943fk-implicit_hate_stabilityaiStableBeluga7b_random_0_Kyle1668bosstoxicity3000bertbaseuncased_style_logs:v0\",\n",
      "    \"BOSS_Toxicity_Ablate_Data_ImplicitHate_BERT3000_ICR\": \"run-ms2943fk-implicit_hate_stabilityaiStableBeluga7b_random_16_Kyle1668bosstoxicity3000bertbaseuncased_style_logs:v0\",\n",
      "    \"BOSS_Toxicity_Ablate_Data_ImplicitHate_BERT6000_Insert\": \"run-2ecsgmy9-implicit_hate_aug_insert_random_16_Kyle1668bosstoxicity6000bertbaseuncased_style_logs:v0\",\n",
      "    \"BOSS_Toxicity_Ablate_Data_ImplicitHate_BERT6000_Substitute\": \"run-2ecsgmy9-implicit_hate_aug_substitute_random_16_Kyle1668bosstoxicity6000bertbaseuncased_style_logs:v0\",\n",
      "    \"BOSS_Toxicity_Ablate_Data_ImplicitHate_BERT6000_Translate\": \"run-2ecsgmy9-implicit_hate_aug_backtranslate_random_16_Kyle1668bosstoxicity6000bertbaseuncased_style_logs:v0\",\n",
      "    \"BOSS_Toxicity_Ablate_Data_ImplicitHate_BERT6000_Paraphrase\": \"run-2ecsgmy9-implicit_hate_stabilityaiStableBeluga7b_random_0_Kyle1668bosstoxicity6000bertbaseuncased_style_logs:v0\",\n",
      "    \"BOSS_Toxicity_Ablate_Data_ImplicitHate_BERT6000_ICR\": \"run-2ecsgmy9-implicit_hate_stabilityaiStableBeluga7b_random_16_Kyle1668bosstoxicity6000bertbaseuncased_style_logs:v0\",\n",
      "    \"BOSS_Toxicity_Ablate_Data_ImplicitHate_BERT12000_Insert\": \"run-7hgtyr98-implicit_hate_aug_insert_random_16_Kyle1668bosstoxicity12000bertbaseuncased_style_logs:v0\",\n",
      "    \"BOSS_Toxicity_Ablate_Data_ImplicitHate_BERT12000_Substitute\": \"run-7hgtyr98-implicit_hate_aug_substitute_random_16_Kyle1668bosstoxicity12000bertbaseuncased_style_logs:v0\",\n",
      "    \"BOSS_Toxicity_Ablate_Data_ImplicitHate_BERT12000_Translate\": \"run-7hgtyr98-implicit_hate_aug_backtranslate_random_16_Kyle1668bosstoxicity12000bertbaseuncased_style_logs:v0\",\n",
      "    \"BOSS_Toxicity_Ablate_Data_ImplicitHate_BERT12000_Paraphrase\": \"run-7hgtyr98-implicit_hate_stabilityaiStableBeluga7b_random_0_Kyle1668bosstoxicity12000bertbaseuncased_style_logs:v0\",\n",
      "    \"BOSS_Toxicity_Ablate_Data_ImplicitHate_BERT12000_ICR\": \"run-7hgtyr98-implicit_hate_stabilityaiStableBeluga7b_random_16_Kyle1668bosstoxicity12000bertbaseuncased_style_logs:v0\",\n",
      "    \"BOSS_Toxicity_Ablate_Data_ImplicitHate_BERT24000_Insert\": \"run-wl2a38kf-implicit_hate_aug_insert_random_16_Kyle1668bosstoxicity24000bertbaseuncased_style_logs:v0\",\n",
      "    \"BOSS_Toxicity_Ablate_Data_ImplicitHate_BERT24000_Substitute\": \"run-wl2a38kf-implicit_hate_aug_substitute_random_16_Kyle1668bosstoxicity24000bertbaseuncased_style_logs:v0\",\n",
      "    \"BOSS_Toxicity_Ablate_Data_ImplicitHate_BERT24000_Translate\": \"run-wl2a38kf-implicit_hate_aug_backtranslate_random_16_Kyle1668bosstoxicity24000bertbaseuncased_style_logs:v0\",\n",
      "    \"BOSS_Toxicity_Ablate_Data_ImplicitHate_BERT24000_Paraphrase\": \"run-wl2a38kf-implicit_hate_stabilityaiStableBeluga7b_random_0_Kyle1668bosstoxicity24000bertbaseuncased_style_logs:v0\",\n",
      "    \"BOSS_Toxicity_Ablate_Data_ImplicitHate_BERT24000_ICR\": \"run-wl2a38kf-implicit_hate_stabilityaiStableBeluga7b_random_16_Kyle1668bosstoxicity24000bertbaseuncased_style_logs:v0\",\n",
      "    \"BOSS_Toxicity_Ablate_Data_ImplicitHate_BERT48000_Insert\": \"run-iaorx9o7-implicit_hate_aug_insert_random_16_Kyle1668bosstoxicity48000bertbaseuncased_style_logs:v0\",\n",
      "    \"BOSS_Toxicity_Ablate_Data_ImplicitHate_BERT48000_Substitute\": \"run-iaorx9o7-implicit_hate_aug_substitute_random_16_Kyle1668bosstoxicity48000bertbaseuncased_style_logs:v0\",\n",
      "    \"BOSS_Toxicity_Ablate_Data_ImplicitHate_BERT48000_Translate\": \"run-iaorx9o7-implicit_hate_aug_backtranslate_random_16_Kyle1668bosstoxicity48000bertbaseuncased_style_logs:v0\",\n",
      "    \"BOSS_Toxicity_Ablate_Data_ImplicitHate_BERT48000_Paraphrase\": \"run-iaorx9o7-implicit_hate_stabilityaiStableBeluga7b_random_0_Kyle1668bosstoxicity48000bertbaseuncased_style_logs:v0\",\n",
      "    \"BOSS_Toxicity_Ablate_Data_ImplicitHate_BERT48000_ICR\": \"run-iaorx9o7-implicit_hate_stabilityaiStableBeluga7b_random_16_Kyle1668bosstoxicity48000bertbaseuncased_style_logs:v0\",\n",
      "    \"BOSS_Toxicity_ImplicitHate_T5_Insert\": \"run-57a9z4m8-implicit_hate_aug_insert_random_16_Kyle1668bosstoxicityt5large_style_logs:v0\",\n",
      "    \"BOSS_Toxicity_ImplicitHate_T5_Substitute\": \"run-57a9z4m8-implicit_hate_aug_substitute_random_16_Kyle1668bosstoxicityt5large_style_logs:v0\",\n",
      "    \"BOSS_Toxicity_ImplicitHate_T5_Translate\": \"run-57a9z4m8-implicit_hate_aug_backtranslate_random_16_Kyle1668bosstoxicityt5large_style_logs:v0\",\n",
      "    \"BOSS_Toxicity_ImplicitHate_T5_Paraphrase\": \"run-57a9z4m8-implicit_hate_stabilityaiStableBeluga7b_random_0_Kyle1668bosstoxicityt5large_style_logs:v0\",\n",
      "    \"BOSS_Toxicity_ImplicitHate_T5_ICR\": \"run-57a9z4m8-implicit_hate_stabilityaiStableBeluga7b_random_16_Kyle1668bosstoxicityt5large_style_logs:v0\",\n",
      "    \"BOSS_Toxicity_ImplicitHate_Falcon_Insert\": \"run-57a9z4m8-implicit_hate_aug_insert_random_16_tiiuaefalcon7binstruct_style_logs:v0\",\n",
      "    \"BOSS_Toxicity_ImplicitHate_Falcon_Substitute\": \"run-57a9z4m8-implicit_hate_aug_substitute_random_16_tiiuaefalcon7binstruct_style_logs:v0\",\n",
      "    \"BOSS_Toxicity_ImplicitHate_Falcon_Translate\": \"run-57a9z4m8-implicit_hate_aug_backtranslate_random_16_tiiuaefalcon7binstruct_style_logs:v0\",\n",
      "    \"BOSS_Toxicity_ImplicitHate_Falcon_Paraphrase\": \"\",\n",
      "    \"BOSS_Toxicity_ImplicitHate_Falcon_ICR\": \"\",\n",
      "    \"BOSS_Toxicity_AdvCivil_BERT_Insert\": \"run-57a9z4m8-adv_civil_aug_insert_random_16_Kyle1668bosstoxicitybertbaseuncased_style_logs:v0\",\n",
      "    \"BOSS_Toxicity_AdvCivil_BERT_Substitute\": \"run-57a9z4m8-adv_civil_aug_substitute_random_16_Kyle1668bosstoxicitybertbaseuncased_style_logs:v0\",\n",
      "    \"BOSS_Toxicity_AdvCivil_BERT_Translate\": \"run-57a9z4m8-adv_civil_aug_backtranslate_random_16_Kyle1668bosstoxicitybertbaseuncased_style_logs:v0\",\n",
      "    \"BOSS_Toxicity_AdvCivil_BERT_Paraphrase\": \"run-57a9z4m8-adv_civil_stabilityaiStableBeluga7b_random_0_Kyle1668bosstoxicitybertbaseuncased_style_logs:v0\",\n",
      "    \"BOSS_Toxicity_AdvCivil_BERT_ICR\": \"run-57a9z4m8-adv_civil_stabilityaiStableBeluga7b_random_16_Kyle1668bosstoxicitybertbaseuncased_style_logs:v0\",\n",
      "    \"BOSS_Toxicity_Ablate_Data_AdvCivil_BERT3000_Insert\": \"run-ms2943fk-adv_civil_aug_insert_random_16_Kyle1668bosstoxicity3000bertbaseuncased_style_logs:v0\",\n",
      "    \"BOSS_Toxicity_Ablate_Data_AdvCivil_BERT3000_Substitute\": \"run-ms2943fk-adv_civil_aug_substitute_random_16_Kyle1668bosstoxicity3000bertbaseuncased_style_logs:v0\",\n",
      "    \"BOSS_Toxicity_Ablate_Data_AdvCivil_BERT3000_Translate\": \"run-ms2943fk-adv_civil_aug_backtranslate_random_16_Kyle1668bosstoxicity3000bertbaseuncased_style_logs:v0\",\n",
      "    \"BOSS_Toxicity_Ablate_Data_AdvCivil_BERT3000_Paraphrase\": \"run-ms2943fk-adv_civil_stabilityaiStableBeluga7b_random_0_Kyle1668bosstoxicity3000bertbaseuncased_style_logs:v0\",\n",
      "    \"BOSS_Toxicity_Ablate_Data_AdvCivil_BERT3000_ICR\": \"run-ms2943fk-adv_civil_stabilityaiStableBeluga7b_random_16_Kyle1668bosstoxicity3000bertbaseuncased_style_logs:v0\",\n",
      "    \"BOSS_Toxicity_Ablate_Data_AdvCivil_BERT6000_Insert\": \"run-2ecsgmy9-adv_civil_aug_insert_random_16_Kyle1668bosstoxicity6000bertbaseuncased_style_logs:v0\",\n",
      "    \"BOSS_Toxicity_Ablate_Data_AdvCivil_BERT6000_Substitute\": \"run-2ecsgmy9-adv_civil_aug_substitute_random_16_Kyle1668bosstoxicity6000bertbaseuncased_style_logs:v0\",\n",
      "    \"BOSS_Toxicity_Ablate_Data_AdvCivil_BERT6000_Translate\": \"run-2ecsgmy9-adv_civil_aug_backtranslate_random_16_Kyle1668bosstoxicity6000bertbaseuncased_style_logs:v0\",\n",
      "    \"BOSS_Toxicity_Ablate_Data_AdvCivil_BERT6000_Paraphrase\": \"run-2ecsgmy9-adv_civil_stabilityaiStableBeluga7b_random_0_Kyle1668bosstoxicity6000bertbaseuncased_style_logs:v0\",\n",
      "    \"BOSS_Toxicity_Ablate_Data_AdvCivil_BERT6000_ICR\": \"run-2ecsgmy9-adv_civil_stabilityaiStableBeluga7b_random_16_Kyle1668bosstoxicity6000bertbaseuncased_style_logs:v0\",\n",
      "    \"BOSS_Toxicity_Ablate_Data_AdvCivil_BERT12000_Insert\": \"run-7hgtyr98-adv_civil_aug_insert_random_16_Kyle1668bosstoxicity12000bertbaseuncased_style_logs:v0\",\n",
      "    \"BOSS_Toxicity_Ablate_Data_AdvCivil_BERT12000_Substitute\": \"run-7hgtyr98-adv_civil_aug_substitute_random_16_Kyle1668bosstoxicity12000bertbaseuncased_style_logs:v0\",\n",
      "    \"BOSS_Toxicity_Ablate_Data_AdvCivil_BERT12000_Translate\": \"run-7hgtyr98-adv_civil_aug_backtranslate_random_16_Kyle1668bosstoxicity12000bertbaseuncased_style_logs:v0\",\n",
      "    \"BOSS_Toxicity_Ablate_Data_AdvCivil_BERT12000_Paraphrase\": \"run-7hgtyr98-adv_civil_stabilityaiStableBeluga7b_random_0_Kyle1668bosstoxicity12000bertbaseuncased_style_logs:v0\",\n",
      "    \"BOSS_Toxicity_Ablate_Data_AdvCivil_BERT12000_ICR\": \"run-7hgtyr98-adv_civil_stabilityaiStableBeluga7b_random_16_Kyle1668bosstoxicity12000bertbaseuncased_style_logs:v0\",\n",
      "    \"BOSS_Toxicity_Ablate_Data_AdvCivil_BERT24000_Insert\": \"run-wl2a38kf-adv_civil_aug_insert_random_16_Kyle1668bosstoxicity24000bertbaseuncased_style_logs:v0\",\n",
      "    \"BOSS_Toxicity_Ablate_Data_AdvCivil_BERT24000_Substitute\": \"run-wl2a38kf-adv_civil_aug_substitute_random_16_Kyle1668bosstoxicity24000bertbaseuncased_style_logs:v0\",\n",
      "    \"BOSS_Toxicity_Ablate_Data_AdvCivil_BERT24000_Translate\": \"run-wl2a38kf-adv_civil_aug_backtranslate_random_16_Kyle1668bosstoxicity24000bertbaseuncased_style_logs:v0\",\n",
      "    \"BOSS_Toxicity_Ablate_Data_AdvCivil_BERT24000_Paraphrase\": \"run-wl2a38kf-adv_civil_stabilityaiStableBeluga7b_random_0_Kyle1668bosstoxicity24000bertbaseuncased_style_logs:v0\",\n",
      "    \"BOSS_Toxicity_Ablate_Data_AdvCivil_BERT24000_ICR\": \"run-wl2a38kf-adv_civil_stabilityaiStableBeluga7b_random_16_Kyle1668bosstoxicity24000bertbaseuncased_style_logs:v0\",\n",
      "    \"BOSS_Toxicity_Ablate_Data_AdvCivil_BERT48000_Insert\": \"run-iaorx9o7-adv_civil_aug_insert_random_16_Kyle1668bosstoxicity48000bertbaseuncased_style_logs:v0\",\n",
      "    \"BOSS_Toxicity_Ablate_Data_AdvCivil_BERT48000_Substitute\": \"run-iaorx9o7-adv_civil_aug_substitute_random_16_Kyle1668bosstoxicity48000bertbaseuncased_style_logs:v0\",\n",
      "    \"BOSS_Toxicity_Ablate_Data_AdvCivil_BERT48000_Translate\": \"run-iaorx9o7-adv_civil_aug_backtranslate_random_16_Kyle1668bosstoxicity48000bertbaseuncased_style_logs:v0\",\n",
      "    \"BOSS_Toxicity_Ablate_Data_AdvCivil_BERT48000_Paraphrase\": \"run-iaorx9o7-adv_civil_stabilityaiStableBeluga7b_random_0_Kyle1668bosstoxicity48000bertbaseuncased_style_logs:v0\",\n",
      "    \"BOSS_Toxicity_Ablate_Data_AdvCivil_BERT48000_ICR\": \"run-iaorx9o7-adv_civil_stabilityaiStableBeluga7b_random_16_Kyle1668bosstoxicity48000bertbaseuncased_style_logs:v0\",\n",
      "    \"BOSS_Toxicity_AdvCivil_T5_Insert\": \"run-57a9z4m8-adv_civil_aug_insert_random_16_Kyle1668bosstoxicityt5large_style_logs:v0\",\n",
      "    \"BOSS_Toxicity_AdvCivil_T5_Substitute\": \"run-57a9z4m8-adv_civil_aug_substitute_random_16_Kyle1668bosstoxicityt5large_style_logs:v0\",\n",
      "    \"BOSS_Toxicity_AdvCivil_T5_Translate\": \"run-57a9z4m8-adv_civil_aug_backtranslate_random_16_Kyle1668bosstoxicityt5large_style_logs:v0\",\n",
      "    \"BOSS_Toxicity_AdvCivil_T5_Paraphrase\": \"run-57a9z4m8-adv_civil_stabilityaiStableBeluga7b_random_0_Kyle1668bosstoxicityt5large_style_logs:v0\",\n",
      "    \"BOSS_Toxicity_AdvCivil_T5_ICR\": \"run-57a9z4m8-adv_civil_stabilityaiStableBeluga7b_random_16_Kyle1668bosstoxicityt5large_style_logs:v0\",\n",
      "    \"BOSS_Toxicity_AdvCivil_Falcon_Insert\": \"run-57a9z4m8-adv_civil_aug_insert_random_16_tiiuaefalcon7binstruct_style_logs:v0\",\n",
      "    \"BOSS_Toxicity_AdvCivil_Falcon_Substitute\": \"run-57a9z4m8-adv_civil_aug_substitute_random_16_tiiuaefalcon7binstruct_style_logs:v0\",\n",
      "    \"BOSS_Toxicity_AdvCivil_Falcon_Translate\": \"run-57a9z4m8-adv_civil_aug_backtranslate_random_16_tiiuaefalcon7binstruct_style_logs:v0\",\n",
      "    \"BOSS_Toxicity_AdvCivil_Falcon_Paraphrase\": \"run-57a9z4m8-adv_civil_stabilityaiStableBeluga7b_random_0_tiiuaefalcon7binstruct_style_logs:v0\",\n",
      "    \"BOSS_Toxicity_AdvCivil_Falcon_ICR\": \"run-57a9z4m8-adv_civil_stabilityaiStableBeluga7b_random_16_tiiuaefalcon7binstruct_style_logs:v0\",\n",
      "    \"AgNewsTweets_ID_BERT_Insert\": \"run-r4cog6cc-validation_aug_insert_random_16_Kyle1668agnewsbertbaseuncased_style_logs:v0\",\n",
      "    \"AgNewsTweets_ID_BERT_Substitute\": \"run-r4cog6cc-validation_aug_substitute_random_16_Kyle1668agnewsbertbaseuncased_style_logs:v0\",\n",
      "    \"AgNewsTweets_ID_BERT_Translate\": \"run-r4cog6cc-validation_aug_backtranslate_random_16_Kyle1668agnewsbertbaseuncased_style_logs:v0\",\n",
      "    \"AgNewsTweets_ID_BERT_Paraphrase\": \"run-r4cog6cc-validation_stabilityaiStableBeluga7b_random_0_Kyle1668agnewsbertbaseuncased_style_logs:v0\",\n",
      "    \"AgNewsTweets_ID_BERT_ICR\": \"run-r4cog6cc-validation_stabilityaiStableBeluga7b_random_16_Kyle1668agnewsbertbaseuncased_style_logs:v0\",\n",
      "    \"AgNewsTweets_Ablate_Data_Tweets_BERT4800_Insert\": \"run-s51a9946-test_aug_insert_random_16_Kyle1668agnews4800bertbaseuncased_style_logs:v0\",\n",
      "    \"AgNewsTweets_Ablate_Data_Tweets_BERT4800_Substitute\": \"run-s51a9946-test_aug_substitute_random_16_Kyle1668agnews4800bertbaseuncased_style_logs:v0\",\n",
      "    \"AgNewsTweets_Ablate_Data_Tweets_BERT4800_Translate\": \"run-s51a9946-test_aug_backtranslate_random_16_Kyle1668agnews4800bertbaseuncased_style_logs:v0\",\n",
      "    \"AgNewsTweets_Ablate_Data_Tweets_BERT4800_Paraphrase\": \"run-s51a9946-test_stabilityaiStableBeluga7b_random_0_Kyle1668agnews4800bertbaseuncased_style_logs:v0\",\n",
      "    \"AgNewsTweets_Ablate_Data_Tweets_BERT4800_ICR\": \"run-s51a9946-test_stabilityaiStableBeluga7b_random_16_Kyle1668agnews4800bertbaseuncased_style_logs:v0\",\n",
      "    \"AgNewsTweets_Ablate_Data_Tweets_BERT9600_Insert\": \"run-ymlu6tfz-test_aug_insert_random_16_Kyle1668agnews9600bertbaseuncased_style_logs:v0\",\n",
      "    \"AgNewsTweets_Ablate_Data_Tweets_BERT9600_Substitute\": \"run-ymlu6tfz-test_aug_substitute_random_16_Kyle1668agnews9600bertbaseuncased_style_logs:v0\",\n",
      "    \"AgNewsTweets_Ablate_Data_Tweets_BERT9600_Translate\": \"run-ymlu6tfz-test_aug_backtranslate_random_16_Kyle1668agnews9600bertbaseuncased_style_logs:v0\",\n",
      "    \"AgNewsTweets_Ablate_Data_Tweets_BERT9600_Paraphrase\": \"run-ymlu6tfz-test_stabilityaiStableBeluga7b_random_0_Kyle1668agnews9600bertbaseuncased_style_logs:v0\",\n",
      "    \"AgNewsTweets_Ablate_Data_Tweets_BERT9600_ICR\": \"run-ymlu6tfz-test_stabilityaiStableBeluga7b_random_0_Kyle1668agnews9600bertbaseuncased_style_logs:v0\",\n",
      "    \"AgNewsTweets_Ablate_Data_Tweets_BERT19200_Insert\": \"run-arskmac6-test_aug_insert_random_16_Kyle1668agnews19200bertbaseuncased_style_logs:v0\",\n",
      "    \"AgNewsTweets_Ablate_Data_Tweets_BERT19200_Substitute\": \"run-arskmac6-test_aug_substitute_random_16_Kyle1668agnews19200bertbaseuncased_style_logs:v0\",\n",
      "    \"AgNewsTweets_Ablate_Data_Tweets_BERT19200_Translate\": \"run-arskmac6-test_aug_backtranslate_random_16_Kyle1668agnews19200bertbaseuncased_style_logs:v0\",\n",
      "    \"AgNewsTweets_Ablate_Data_Tweets_BERT19200_Paraphrase\": \"run-arskmac6-test_stabilityaiStableBeluga7b_random_0_Kyle1668agnews19200bertbaseuncased_style_logs:v0\",\n",
      "    \"AgNewsTweets_Ablate_Data_Tweets_BERT19200_ICR\": \"run-arskmac6-test_stabilityaiStableBeluga7b_random_16_Kyle1668agnews19200bertbaseuncased_style_logs:v0\",\n",
      "    \"AgNewsTweets_Ablate_Data_Tweets_BERT38400_Insert\": \"run-6qktrbp8-test_aug_insert_random_16_Kyle1668agnews38400bertbaseuncased_style_logs:v0\",\n",
      "    \"AgNewsTweets_Ablate_Data_Tweets_BERT38400_Substitute\": \"run-6qktrbp8-test_aug_substitute_random_16_Kyle1668agnews38400bertbaseuncased_style_logs:v0\",\n",
      "    \"AgNewsTweets_Ablate_Data_Tweets_BERT38400_Translate\": \"run-6qktrbp8-test_aug_backtranslate_random_16_Kyle1668agnews38400bertbaseuncased_style_logs:v0\",\n",
      "    \"AgNewsTweets_Ablate_Data_Tweets_BERT38400_Paraphrase\": \"run-6qktrbp8-test_stabilityaiStableBeluga7b_random_0_Kyle1668agnews38400bertbaseuncased_style_logs:v0\",\n",
      "    \"AgNewsTweets_Ablate_Data_Tweets_BERT38400_ICR\": \"run-6qktrbp8-test_stabilityaiStableBeluga7b_random_16_Kyle1668agnews38400bertbaseuncased_style_logs:v0\",\n",
      "    \"AgNewsTweets_Ablate_Data_Tweets_BERT76800_Insert\": \"run-seqenj7d-test_aug_insert_random_16_Kyle1668agnews76800bertbaseuncased_style_logs:v0\",\n",
      "    \"AgNewsTweets_Ablate_Data_Tweets_BERT76800_Substitute\": \"run-seqenj7d-test_aug_substitute_random_16_Kyle1668agnews76800bertbaseuncased_style_logs:v0\",\n",
      "    \"AgNewsTweets_Ablate_Data_Tweets_BERT76800_Translate\": \"run-seqenj7d-test_aug_backtranslate_random_16_Kyle1668agnews76800bertbaseuncased_style_logs:v0\",\n",
      "    \"AgNewsTweets_Ablate_Data_Tweets_BERT76800_Paraphrase\": \"run-seqenj7d-test_stabilityaiStableBeluga7b_random_0_Kyle1668agnews76800bertbaseuncased_style_logs:v0\",\n",
      "    \"AgNewsTweets_Ablate_Data_Tweets_BERT76800_ICR\": \"run-seqenj7d-test_stabilityaiStableBeluga7b_random_16_Kyle1668agnews76800bertbaseuncased_style_logs:v0\",\n",
      "    \"AgNewsTweets_ID_T5_Insert\": \"run-r4cog6cc-validation_aug_insert_random_16_Kyle1668agnewst5large_style_logs:v0\",\n",
      "    \"AgNewsTweets_ID_T5_Substitute\": \"run-r4cog6cc-validation_aug_substitute_random_16_Kyle1668agnewst5large_style_logs:v0\",\n",
      "    \"AgNewsTweets_ID_T5_Translate\": \"run-r4cog6cc-validation_aug_backtranslate_random_16_Kyle1668agnewst5large_style_logs:v0\",\n",
      "    \"AgNewsTweets_ID_T5_Paraphrase\": \"run-r4cog6cc-validation_stabilityaiStableBeluga7b_random_0_Kyle1668agnewst5large_style_logs:v0\",\n",
      "    \"AgNewsTweets_ID_T5_ICR\": \"run-r4cog6cc-validation_stabilityaiStableBeluga7b_random_16_Kyle1668agnewst5large_style_logs:v0\",\n",
      "    \"AgNewsTweets_ID_Falcon_Insert\": \"run-r4cog6cc-validation_aug_insert_random_16_tiiuaefalcon7binstruct_style_logs:v0\",\n",
      "    \"AgNewsTweets_ID_Falcon_Substitute\": \"run-r4cog6cc-validation_aug_substitute_random_16_tiiuaefalcon7binstruct_style_logs:v0\",\n",
      "    \"AgNewsTweets_ID_Falcon_Translate\": \"run-r4cog6cc-validation_aug_backtranslate_random_16_tiiuaefalcon7binstruct_style_logs:v0\",\n",
      "    \"AgNewsTweets_ID_Falcon_Paraphrase\": \"run-r4cog6cc-validation_stabilityaiStableBeluga7b_random_0_tiiuaefalcon7binstruct_style_logs:v0\",\n",
      "    \"AgNewsTweets_ID_Falcon_ICR\": \"run-r4cog6cc-validation_stabilityaiStableBeluga7b_random_16_tiiuaefalcon7binstruct_style_logs:v0\",\n",
      "    \"AgNewsTweets_Tweets_BERT_Insert\": \"run-r4cog6cc-test_aug_insert_random_16_Kyle1668agnewsbertbaseuncased_style_logs:v0\",\n",
      "    \"AgNewsTweets_Tweets_BERT_Substitute\": \"run-r4cog6cc-test_aug_substitute_random_16_Kyle1668agnewsbertbaseuncased_style_logs:v0\",\n",
      "    \"AgNewsTweets_Tweets_BERT_Translate\": \"run-r4cog6cc-test_aug_backtranslate_random_16_Kyle1668agnewsbertbaseuncased_style_logs:v0\",\n",
      "    \"AgNewsTweets_Tweets_BERT_Paraphrase\": \"run-r4cog6cc-test_stabilityaiStableBeluga7b_random_0_Kyle1668agnewsbertbaseuncased_style_logs:v0\",\n",
      "    \"AgNewsTweets_Tweets_BERT_ICR\": \"run-r4cog6cc-test_stabilityaiStableBeluga7b_random_16_Kyle1668agnewsbertbaseuncased_style_logs:v0\",\n",
      "    \"AgNewsTweets_Tweets_T5_Insert\": \"run-r4cog6cc-test_aug_insert_random_16_Kyle1668agnewst5large_style_logs:v0\",\n",
      "    \"AgNewsTweets_Tweets_T5_Substitute\": \"run-r4cog6cc-test_aug_substitute_random_16_Kyle1668agnewst5large_style_logs:v0\",\n",
      "    \"AgNewsTweets_Tweets_T5_Translate\": \"run-r4cog6cc-test_aug_backtranslate_random_16_Kyle1668agnewst5large_style_logs:v0\",\n",
      "    \"AgNewsTweets_Tweets_T5_Paraphrase\": \"run-r4cog6cc-test_stabilityaiStableBeluga7b_random_0_Kyle1668agnewst5large_style_logs:v0\",\n",
      "    \"AgNewsTweets_Tweets_T5_ICR\": \"run-r4cog6cc-test_stabilityaiStableBeluga7b_random_16_Kyle1668agnewst5large_style_logs:v0\",\n",
      "    \"AgNewsTweets_Tweets_Falcon_Insert\": \"run-r4cog6cc-test_aug_insert_random_16_tiiuaefalcon7binstruct_style_logs:v0\",\n",
      "    \"AgNewsTweets_Tweets_Falcon_Substitute\": \"run-r4cog6cc-test_aug_substitute_random_16_tiiuaefalcon7binstruct_style_logs:v0\",\n",
      "    \"AgNewsTweets_Tweets_Falcon_Translate\": \"run-r4cog6cc-test_aug_backtranslate_random_16_tiiuaefalcon7binstruct_style_logs:v0\",\n",
      "    \"AgNewsTweets_Tweets_Falcon_Paraphrase\": \"run-r4cog6cc-test_stabilityaiStableBeluga7b_random_0_tiiuaefalcon7binstruct_style_logs:v0\",\n",
      "    \"AgNewsTweets_Tweets_Falcon_ICR\": \"run-r4cog6cc-test_stabilityaiStableBeluga7b_random_16_tiiuaefalcon7binstruct_style_logs:v0\"\n",
      "}\n"
     ]
    }
   ],
   "source": [
    "project_name = \"healthyml/In-Context Domain Transfer Improves Out-of-Domain Robustness\"\n",
    "table_paths = {\n",
    "    # BOSS Sentiment\n",
    "    # ID\n",
    "    # BERT\n",
    "    \"BOSS_Sentiment_ID_BERT_Insert\": \"run-omxsb0i7-validation_aug_insert_random_16_Kyle1668bosssentimentbertbaseuncased_style_logs:v0\",\n",
    "    \"BOSS_Sentiment_ID_BERT_Substitute\": \"run-omxsb0i7-validation_aug_substitute_random_16_Kyle1668bosssentimentbertbaseuncased_style_logs:v0\",\n",
    "    \"BOSS_Sentiment_ID_BERT_Translate\": \"run-omxsb0i7-validation_aug_backtranslate_random_16_Kyle1668bosssentimentbertbaseuncased_style_logs:v0\",\n",
    "    \"BOSS_Sentiment_ID_BERT_Paraphrase\": \"run-yanx1dus-validation_stabilityaiStableBeluga7b_random_0_Kyle1668bosssentimentbertbaseuncased_style_logs:v0\",\n",
    "    \"BOSS_Sentiment_ID_BERT_ICR\": \"run-yanx1dus-validation_stabilityaiStableBeluga7b_random_16_Kyle1668bosssentimentbertbaseuncased_style_logs:v0\",\n",
    "\n",
    "    # T5\n",
    "    \"BOSS_Sentiment_ID_T5_Insert\": \"run-omxsb0i7-validation_aug_insert_random_16_Kyle1668bosssentimentt5large_style_logs:v0\",\n",
    "    \"BOSS_Sentiment_ID_T5_Substitute\": \"run-omxsb0i7-validation_aug_substitute_random_16_Kyle1668bosssentimentt5large_style_logs:v0\",\n",
    "    \"BOSS_Sentiment_ID_T5_Translate\": \"run-omxsb0i7-validation_aug_backtranslate_random_16_Kyle1668bosssentimentt5large_style_logs:v0\",\n",
    "    \"BOSS_Sentiment_ID_T5_Paraphrase\": \"run-yanx1dus-validation_stabilityaiStableBeluga7b_random_0_Kyle1668bosssentimentt5large_style_logs:v0\",\n",
    "    \"BOSS_Sentiment_ID_T5_ICR\": \"run-yanx1dus-validation_stabilityaiStableBeluga7b_random_16_Kyle1668bosssentimentt5large_style_logs:v0\",\n",
    "\n",
    "    # Falcon\n",
    "    \"BOSS_Sentiment_ID_Falcon_Insert\": \"run-omxsb0i7-validation_aug_insert_random_16_tiiuaefalcon7binstruct_style_logs:v0\",\n",
    "    \"BOSS_Sentiment_ID_Falcon_Substitute\": \"run-omxsb0i7-validation_aug_substitute_random_16_tiiuaefalcon7binstruct_style_logs:v0\",\n",
    "    \"BOSS_Sentiment_ID_Falcon_Translate\": \"run-omxsb0i7-validation_aug_backtranslate_random_16_tiiuaefalcon7binstruct_style_logs:v0\",\n",
    "    \"BOSS_Sentiment_ID_Falcon_Paraphrase\": \"run-yanx1dus-validation_stabilityaiStableBeluga7b_random_16_tiiuaefalcon7binstruct_style_logs:v0\",\n",
    "    \"BOSS_Sentiment_ID_Falcon_ICR\": \"run-yanx1dus-validation_stabilityaiStableBeluga7b_random_16_tiiuaefalcon7binstruct_style_logs:v0\",\n",
    "\n",
    "    # SST5\n",
    "    # BERT\n",
    "    \"BOSS_Sentiment_SST5_BERT_Insert\": \"run-omxsb0i7-sst5_aug_insert_random_16_Kyle1668bosssentimentbertbaseuncased_style_logs:v0\",\n",
    "    \"BOSS_Sentiment_SST5_BERT_Substitute\": \"run-omxsb0i7-sst5_aug_substitute_random_16_Kyle1668bosssentimentbertbaseuncased_style_logs:v0\",\n",
    "    \"BOSS_Sentiment_SST5_BERT_Translate\": \"run-omxsb0i7-sst5_aug_backtranslate_random_16_Kyle1668bosssentimentbertbaseuncased_style_logs:v0\",\n",
    "    \"BOSS_Sentiment_SST5_BERT_Paraphrase\": \"run-omxsb0i7-sst5_stabilityaiStableBeluga7b_random_0_Kyle1668bosssentimentbertbaseuncased_style_logs:v0\",\n",
    "    \"BOSS_Sentiment_SST5_BERT_ICR\": \"run-omxsb0i7-sst5_stabilityaiStableBeluga7b_random_16_Kyle1668bosssentimentbertbaseuncased_style_logs:v0\",\n",
    "\n",
    "    \"BOSS_Sentiment_Ablate_Data_SST5_BERT1500_Insert\": \"run-gdqehris-sst5_aug_insert_random_16_Kyle1668bosssentiment1500bertbaseuncased_style_logs:v0\",\n",
    "    \"BOSS_Sentiment_Ablate_Data_SST5_BERT1500_Substitute\": \"run-gdqehris-sst5_aug_substitute_random_16_Kyle1668bosssentiment1500bertbaseuncased_style_logs:v0\",\n",
    "    \"BOSS_Sentiment_Ablate_Data_SST5_BERT1500_Translate\": \"run-gdqehris-sst5_aug_backtranslate_random_16_Kyle1668bosssentiment1500bertbaseuncased_style_logs:v0\",\n",
    "    \"BOSS_Sentiment_Ablate_Data_SST5_BERT1500_Paraphrase\": \"run-gdqehris-sst5_stabilityaiStableBeluga7b_random_0_Kyle1668bosssentiment1500bertbaseuncased_style_logs:v0\",\n",
    "    \"BOSS_Sentiment_Ablate_Data_SST5_BERT1500_ICR\": \"run-gdqehris-sst5_stabilityaiStableBeluga7b_random_16_Kyle1668bosssentiment1500bertbaseuncased_style_logs:v0\",\n",
    "\n",
    "    \"BOSS_Sentiment_Ablate_Data_SST5_BERT3000_Insert\": \"run-gfb8nevp-sst5_aug_insert_random_16_Kyle1668bosssentiment3000bertbaseuncased_style_logs:v0\",\n",
    "    \"BOSS_Sentiment_Ablate_Data_SST5_BERT3000_Substitute\": \"run-gfb8nevp-sst5_aug_substitute_random_16_Kyle1668bosssentiment3000bertbaseuncased_style_logs:v0\",\n",
    "    \"BOSS_Sentiment_Ablate_Data_SST5_BERT3000_Translate\": \"run-gfb8nevp-sst5_aug_backtranslate_random_16_Kyle1668bosssentiment3000bertbaseuncased_style_logs:v0\",\n",
    "    \"BOSS_Sentiment_Ablate_Data_SST5_BERT3000_Paraphrase\": \"run-gfb8nevp-sst5_stabilityaiStableBeluga7b_random_0_Kyle1668bosssentiment3000bertbaseuncased_style_logs:v0\",\n",
    "    \"BOSS_Sentiment_Ablate_Data_SST5_BERT3000_ICR\": \"run-gfb8nevp-sst5_stabilityaiStableBeluga7b_random_16_Kyle1668bosssentiment3000bertbaseuncased_style_logs:v0\",\n",
    "\n",
    "    \"BOSS_Sentiment_Ablate_Data_SST5_BERT6000_Insert\": \"run-hg6u172t-sst5_aug_insert_random_16_Kyle1668bosssentiment6000bertbaseuncased_style_logs:v0\",\n",
    "    \"BOSS_Sentiment_Ablate_Data_SST5_BERT6000_Substitute\": \"run-hg6u172t-sst5_aug_substitute_random_16_Kyle1668bosssentiment6000bertbaseuncased_style_logs:v0\",\n",
    "    \"BOSS_Sentiment_Ablate_Data_SST5_BERT6000_Translate\": \"run-hg6u172t-sst5_aug_backtranslate_random_16_Kyle1668bosssentiment6000bertbaseuncased_style_logs:v0\",\n",
    "    \"BOSS_Sentiment_Ablate_Data_SST5_BERT6000_Paraphrase\": \"run-hg6u172t-sst5_stabilityaiStableBeluga7b_random_0_Kyle1668bosssentiment6000bertbaseuncased_style_logs:v0\",\n",
    "    \"BOSS_Sentiment_Ablate_Data_SST5_BERT6000_ICR\": \"run-hg6u172t-sst5_stabilityaiStableBeluga7b_random_16_Kyle1668bosssentiment6000bertbaseuncased_style_logs:v0\",\n",
    "\n",
    "    \"BOSS_Sentiment_Ablate_Data_SST5_BERT120000_Insert\": \"run-pv6dxpzt-sst5_aug_insert_random_16_Kyle1668bosssentiment12000bertbaseuncased_style_logs:v0\",\n",
    "    \"BOSS_Sentiment_Ablate_Data_SST5_BERT120000_Substitute\": \"run-pv6dxpzt-sst5_aug_substitute_random_16_Kyle1668bosssentiment12000bertbaseuncased_style_logs:v0\",\n",
    "    \"BOSS_Sentiment_Ablate_Data_SST5_BERT120000_Translate\": \"run-pv6dxpzt-sst5_aug_backtranslate_random_16_Kyle1668bosssentiment12000bertbaseuncased_style_logs:v0\",\n",
    "    \"BOSS_Sentiment_Ablate_Data_SST5_BERT120000_Paraphrase\": \"run-pv6dxpzt-sst5_stabilityaiStableBeluga7b_random_0_Kyle1668bosssentiment12000bertbaseuncased_style_logs:v0\",\n",
    "    \"BOSS_Sentiment_Ablate_Data_SST5_BERT120000_ICR\": \"run-pv6dxpzt-sst5_stabilityaiStableBeluga7b_random_16_Kyle1668bosssentiment12000bertbaseuncased_style_logs:v0\",\n",
    "\n",
    "    \"BOSS_Sentiment_Ablate_Data_SST5_BERT24000_Insert\": \"run-ujjjnolk-sst5_aug_insert_random_16_Kyle1668bosssentiment24000bertbaseuncased_style_logs:v0\",\n",
    "    \"BOSS_Sentiment_Ablate_Data_SST5_BERT24000_Substitute\": \"run-ujjjnolk-sst5_aug_substitute_random_16_Kyle1668bosssentiment24000bertbaseuncased_style_logs:v0\",\n",
    "    \"BOSS_Sentiment_Ablate_Data_SST5_BERT24000_Translate\": \"run-ujjjnolk-sst5_aug_backtranslate_random_16_Kyle1668bosssentiment24000bertbaseuncased_style_logs:v0\",\n",
    "    \"BOSS_Sentiment_Ablate_Data_SST5_BERT24000_Paraphrase\": \"run-ujjjnolk-sst5_stabilityaiStableBeluga7b_random_0_Kyle1668bosssentiment24000bertbaseuncased_style_logs:v0\",\n",
    "    \"BOSS_Sentiment_Ablate_Data_SST5_BERT24000_ICR\": \"run-ujjjnolk-sst5_stabilityaiStableBeluga7b_random_16_Kyle1668bosssentiment24000bertbaseuncased_style_logs:v0\",\n",
    "\n",
    "    # T5\n",
    "    \"BOSS_Sentiment_SST5_T5_Insert\": \"run-omxsb0i7-sst5_aug_insert_random_16_Kyle1668bosssentimentt5large_style_logs:v0\",\n",
    "    \"BOSS_Sentiment_SST5_T5_Substitute\": \"run-omxsb0i7-sst5_aug_substitute_random_16_Kyle1668bosssentimentt5large_style_logs:v0\",\n",
    "    \"BOSS_Sentiment_SST5_T5_Translate\": \"run-omxsb0i7-sst5_aug_backtranslate_random_16_Kyle1668bosssentimentt5large_style_logs:v0\",\n",
    "    \"BOSS_Sentiment_SST5_T5_Paraphrase\": \"run-omxsb0i7-sst5_stabilityaiStableBeluga7b_random_0_Kyle1668bosssentimentt5large_style_logs:v0\",\n",
    "    \"BOSS_Sentiment_SST5_T5_ICR\": \"run-omxsb0i7-sst5_stabilityaiStableBeluga7b_random_16_Kyle1668bosssentimentt5large_style_logs:v0\",\n",
    "\n",
    "    # Falcon\n",
    "    \"BOSS_Sentiment_SST5_Falcon_Insert\": \"run-omxsb0i7-sst5_aug_insert_random_16_tiiuaefalcon7binstruct_style_logs:v0\",\n",
    "    \"BOSS_Sentiment_SST5_Falcon_Substitute\": \"run-omxsb0i7-sst5_aug_substitute_random_16_tiiuaefalcon7binstruct_style_logs:v0\",\n",
    "    \"BOSS_Sentiment_SST5_Falcon_Translate\": \"run-omxsb0i7-sst5_aug_backtranslate_random_16_tiiuaefalcon7binstruct_style_logs:v0\",\n",
    "    \"BOSS_Sentiment_SST5_Falcon_Paraphrase\": \"run-omxsb0i7-sst5_stabilityaiStableBeluga7b_random_0_tiiuaefalcon7binstruct_style_logs:v0\",\n",
    "    \"BOSS_Sentiment_SST5_Falcon_ICR\": \"run-omxsb0i7-sst5_stabilityaiStableBeluga7b_random_16_tiiuaefalcon7binstruct_style_logs:v0\",\n",
    "\n",
    "    # SemEval\n",
    "    # BERT\n",
    "    \"BOSS_Sentiment_SemEval_BERT_Insert\": \"run-omxsb0i7-semval_aug_insert_random_16_Kyle1668bosssentimentbertbaseuncased_style_logs:v0\",\n",
    "    \"BOSS_Sentiment_SemEval_BERT_Substitute\": \"run-omxsb0i7-semval_aug_substitute_random_16_Kyle1668bosssentimentbertbaseuncased_style_logs:v0\",\n",
    "    \"BOSS_Sentiment_SemEval_BERT_Translate\": \"run-omxsb0i7-semval_aug_backtranslate_random_16_Kyle1668bosssentimentbertbaseuncased_style_logs:v0\",\n",
    "    \"BOSS_Sentiment_SemEval_BERT_Paraphrase\": \"run-omxsb0i7-semval_stabilityaiStableBeluga7b_random_0_Kyle1668bosssentimentbertbaseuncased_style_logs:v0\",\n",
    "    \"BOSS_Sentiment_SemEval_BERT_ICR\": \"run-omxsb0i7-semval_stabilityaiStableBeluga7b_random_16_Kyle1668bosssentimentbertbaseuncased_style_logs:v0\",\n",
    "\n",
    "    \"BOSS_Sentiment_Ablate_Data_SemEval_BERT1500_Insert\": \"run-gdqehris-semval_aug_insert_random_16_Kyle1668bosssentiment1500bertbaseuncased_style_logs:v0\",\n",
    "    \"BOSS_Sentiment_Ablate_Data_SemEval_BERT1500_Substitute\": \"run-gdqehris-semval_aug_substitute_random_16_Kyle1668bosssentiment1500bertbaseuncased_style_logs:v0\",\n",
    "    \"BOSS_Sentiment_Ablate_Data_SemEval_BERT1500_Translate\": \"run-gdqehris-semval_aug_backtranslate_random_16_Kyle1668bosssentiment1500bertbaseuncased_style_logs:v0\",\n",
    "    \"BOSS_Sentiment_Ablate_Data_SemEval_BERT1500_Paraphrase\": \"run-gdqehris-semval_stabilityaiStableBeluga7b_random_0_Kyle1668bosssentiment1500bertbaseuncased_style_logs:v0\",\n",
    "    \"BOSS_Sentiment_Ablate_Data_SemEval_BERT1500_ICR\": \"run-gdqehris-semval_stabilityaiStableBeluga7b_random_16_Kyle1668bosssentiment1500bertbaseuncased_style_logs:v0\",\n",
    "\n",
    "    \"BOSS_Sentiment_Ablate_Data_SemEval_BERT3000_Insert\": \"run-gfb8nevp-semval_aug_insert_random_16_Kyle1668bosssentiment3000bertbaseuncased_style_logs:v0\",\n",
    "    \"BOSS_Sentiment_Ablate_Data_SemEval_BERT3000_Substitute\": \"run-gfb8nevp-semval_aug_substitute_random_16_Kyle1668bosssentiment3000bertbaseuncased_style_logs:v0\",\n",
    "    \"BOSS_Sentiment_Ablate_Data_SemEval_BERT3000_Translate\": \"run-gfb8nevp-semval_aug_backtranslate_random_16_Kyle1668bosssentiment3000bertbaseuncased_style_logs:v0\",\n",
    "    \"BOSS_Sentiment_Ablate_Data_SemEval_BERT3000_Paraphrase\": \"run-gfb8nevp-semval_stabilityaiStableBeluga7b_random_0_Kyle1668bosssentiment3000bertbaseuncased_style_logs:v0\",\n",
    "    \"BOSS_Sentiment_Ablate_Data_SemEval_BERT3000_ICR\": \"run-gfb8nevp-semval_stabilityaiStableBeluga7b_random_16_Kyle1668bosssentiment3000bertbaseuncased_style_logs:v0\",\n",
    "\n",
    "    \"BOSS_Sentiment_Ablate_Data_SemEval_BERT6000_Insert\": \"run-hg6u172t-semval_aug_insert_random_16_Kyle1668bosssentiment6000bertbaseuncased_style_logs:v0\",\n",
    "    \"BOSS_Sentiment_Ablate_Data_SemEval_BERT6000_Substitute\": \"run-hg6u172t-semval_aug_substitute_random_16_Kyle1668bosssentiment6000bertbaseuncased_style_logs:v0\",\n",
    "    \"BOSS_Sentiment_Ablate_Data_SemEval_BERT6000_Translate\": \"run-hg6u172t-semval_aug_backtranslate_random_16_Kyle1668bosssentiment6000bertbaseuncased_style_logs:v0\",\n",
    "    \"BOSS_Sentiment_Ablate_Data_SemEval_BERT6000_Paraphrase\": \"run-hg6u172t-semval_stabilityaiStableBeluga7b_random_0_Kyle1668bosssentiment6000bertbaseuncased_style_logs:v0\",\n",
    "    \"BOSS_Sentiment_Ablate_Data_SemEval_BERT6000_ICR\": \"run-hg6u172t-semval_stabilityaiStableBeluga7b_random_16_Kyle1668bosssentiment6000bertbaseuncased_style_logs:v0\",\n",
    "\n",
    "    \"BOSS_Sentiment_Ablate_Data_SemEval_BERT120000_Insert\": \"run-pv6dxpzt-semval_aug_insert_random_16_Kyle1668bosssentiment12000bertbaseuncased_style_logs:v0\",\n",
    "    \"BOSS_Sentiment_Ablate_Data_SemEval_BERT120000_Substitute\": \"run-pv6dxpzt-semval_aug_substitute_random_16_Kyle1668bosssentiment12000bertbaseuncased_style_logs:v0\",\n",
    "    \"BOSS_Sentiment_Ablate_Data_SemEval_BERT120000_Translate\": \"run-pv6dxpzt-semval_aug_backtranslate_random_16_Kyle1668bosssentiment12000bertbaseuncased_style_logs:v0\",\n",
    "    \"BOSS_Sentiment_Ablate_Data_SemEval_BERT120000_Paraphrase\": \"run-pv6dxpzt-semval_stabilityaiStableBeluga7b_random_0_Kyle1668bosssentiment12000bertbaseuncased_style_logs:v0\",\n",
    "    \"BOSS_Sentiment_Ablate_Data_SemEval_BERT120000_ICR\": \"run-pv6dxpzt-semval_stabilityaiStableBeluga7b_random_16_Kyle1668bosssentiment12000bertbaseuncased_style_logs:v0\",\n",
    "\n",
    "    \"BOSS_Sentiment_Ablate_Data_SemEval_BERT24000_Insert\": \"run-ujjjnolk-semval_aug_insert_random_16_Kyle1668bosssentiment24000bertbaseuncased_style_logs:v0\",\n",
    "    \"BOSS_Sentiment_Ablate_Data_SemEval_BERT24000_Substitute\": \"run-ujjjnolk-semval_aug_substitute_random_16_Kyle1668bosssentiment24000bertbaseuncased_style_logs:v0\",\n",
    "    \"BOSS_Sentiment_Ablate_Data_SemEval_BERT24000_Translate\": \"run-ujjjnolk-semval_aug_backtranslate_random_16_Kyle1668bosssentiment24000bertbaseuncased_style_logs:v0\",\n",
    "    \"BOSS_Sentiment_Ablate_Data_SemEval_BERT24000_Paraphrase\": \"run-ujjjnolk-semval_stabilityaiStableBeluga7b_random_0_Kyle1668bosssentiment24000bertbaseuncased_style_logs:v0\",\n",
    "    \"BOSS_Sentiment_Ablate_Data_SemEval_BERT24000_ICR\": \"run-ujjjnolk-semval_stabilityaiStableBeluga7b_random_16_Kyle1668bosssentiment24000bertbaseuncased_style_logs:v0\",\n",
    "\n",
    "    # T5\n",
    "    \"BOSS_Sentiment_SemEval_T5_Insert\": \"run-omxsb0i7-semval_aug_insert_random_16_Kyle1668bosssentimentt5large_style_logs:v0\",\n",
    "    \"BOSS_Sentiment_SemEval_T5_Substitute\": \"run-omxsb0i7-semval_aug_substitute_random_16_Kyle1668bosssentimentt5large_style_logs:v0\",\n",
    "    \"BOSS_Sentiment_SemEval_T5_Translate\": \"run-omxsb0i7-semval_aug_backtranslate_random_16_Kyle1668bosssentimentt5large_style_logs:v0\",\n",
    "    \"BOSS_Sentiment_SemEval_T5_Paraphrase\": \"run-omxsb0i7-semval_stabilityaiStableBeluga7b_random_0_Kyle1668bosssentimentt5large_style_logs:v0\",\n",
    "    \"BOSS_Sentiment_SemEval_T5_ICR\": \"run-omxsb0i7-semval_stabilityaiStableBeluga7b_random_16_Kyle1668bosssentimentt5large_style_logs:v0\",\n",
    "\n",
    "    # Falcon\n",
    "    \"BOSS_Sentiment_SemEval_Falcon_Insert\": \"run-omxsb0i7-semval_aug_insert_random_16_tiiuaefalcon7binstruct_style_logs:v0\",\n",
    "    \"BOSS_Sentiment_SemEval_Falcon_Substitute\": \"run-omxsb0i7-semval_aug_substitute_random_16_tiiuaefalcon7binstruct_style_logs:v0\",\n",
    "    \"BOSS_Sentiment_SemEval_Falcon_Translate\": \"run-omxsb0i7-semval_aug_backtranslate_random_16_tiiuaefalcon7binstruct_style_logs:v0\",\n",
    "    \"BOSS_Sentiment_SemEval_Falcon_Paraphrase\": \"run-omxsb0i7-semval_stabilityaiStableBeluga7b_random_0_tiiuaefalcon7binstruct_style_logs:v0\",\n",
    "    \"BOSS_Sentiment_SemEval_Falcon_ICR\": \"run-omxsb0i7-semval_stabilityaiStableBeluga7b_random_16_tiiuaefalcon7binstruct_style_logs:v0\",\n",
    "\n",
    "    # Dynasent\n",
    "    # BERT\n",
    "    \"BOSS_Sentiment_Dynasent_BERT_Insert\": \"run-omxsb0i7-dynasent_aug_insert_random_16_Kyle1668bosssentimentbertbaseuncased_style_logs:v0\",\n",
    "    \"BOSS_Sentiment_Dynasent_BERT_Substitute\": \"run-omxsb0i7-dynasent_aug_substitute_random_16_Kyle1668bosssentimentbertbaseuncased_style_logs:v0\",\n",
    "    \"BOSS_Sentiment_Dynasent_BERT_Translate\": \"run-omxsb0i7-dynasent_aug_backtranslate_random_16_Kyle1668bosssentimentbertbaseuncased_style_logs:v0\",\n",
    "    \"BOSS_Sentiment_Dynasent_BERT_Paraphrase\": \"run-omxsb0i7-dynasent_stabilityaiStableBeluga7b_random_0_Kyle1668bosssentimentbertbaseuncased_style_logs:v0\",\n",
    "    \"BOSS_Sentiment_Dynasent_BERT_ICR\": \"run-omxsb0i7-dynasent_stabilityaiStableBeluga7b_random_16_Kyle1668bosssentimentbertbaseuncased_style_logs:v0\",\n",
    "\n",
    "    \"BOSS_Sentiment_Ablate_Data_Dynasent_BERT1500_Insert\": \"run-gdqehris-dynasent_aug_insert_random_16_Kyle1668bosssentiment1500bertbaseuncased_style_logs:v0\",\n",
    "    \"BOSS_Sentiment_Ablate_Data_Dynasent_BERT1500_Substitute\": \"run-gdqehris-dynasent_aug_substitute_random_16_Kyle1668bosssentiment1500bertbaseuncased_style_logs:v0\",\n",
    "    \"BOSS_Sentiment_Ablate_Data_Dynasent_BERT1500_Translate\": \"run-gdqehris-dynasent_aug_backtranslate_random_16_Kyle1668bosssentiment1500bertbaseuncased_style_logs:v0\",\n",
    "    \"BOSS_Sentiment_Ablate_Data_Dynasent_BERT1500_Paraphrase\": \"run-gdqehris-dynasent_stabilityaiStableBeluga7b_random_0_Kyle1668bosssentiment1500bertbaseuncased_style_logs:v0\",\n",
    "    \"BOSS_Sentiment_Ablate_Data_Dynasent_BERT1500_ICR\": \"run-gdqehris-dynasent_stabilityaiStableBeluga7b_random_16_Kyle1668bosssentiment1500bertbaseuncased_style_logs:v0\",\n",
    "\n",
    "    \"BOSS_Sentiment_Ablate_Data_Dynasent_BERT3000_Insert\": \"run-gfb8nevp-dynasent_aug_insert_random_16_Kyle1668bosssentiment3000bertbaseuncased_style_logs:v0\",\n",
    "    \"BOSS_Sentiment_Ablate_Data_Dynasent_BERT3000_Substitute\": \"run-gfb8nevp-dynasent_aug_substitute_random_16_Kyle1668bosssentiment3000bertbaseuncased_style_logs:v0\",\n",
    "    \"BOSS_Sentiment_Ablate_Data_Dynasent_BERT3000_Translate\": \"run-gfb8nevp-dynasent_aug_backtranslate_random_16_Kyle1668bosssentiment3000bertbaseuncased_style_logs:v0\",\n",
    "    \"BOSS_Sentiment_Ablate_Data_Dynasent_BERT3000_Paraphrase\": \"run-gfb8nevp-dynasent_stabilityaiStableBeluga7b_random_0_Kyle1668bosssentiment3000bertbaseuncased_style_logs:v0\",\n",
    "    \"BOSS_Sentiment_Ablate_Data_Dynasent_BERT3000_ICR\": \"run-gfb8nevp-dynasent_stabilityaiStableBeluga7b_random_16_Kyle1668bosssentiment3000bertbaseuncased_style_logs:v0\",\n",
    "\n",
    "    \"BOSS_Sentiment_Ablate_Data_Dynasent_BERT6000_Insert\": \"run-hg6u172t-dynasent_aug_insert_random_16_Kyle1668bosssentiment6000bertbaseuncased_style_logs:v0\",\n",
    "    \"BOSS_Sentiment_Ablate_Data_Dynasent_BERT6000_Substitute\": \"run-hg6u172t-dynasent_aug_substitute_random_16_Kyle1668bosssentiment6000bertbaseuncased_style_logs:v0\",\n",
    "    \"BOSS_Sentiment_Ablate_Data_Dynasent_BERT6000_Translate\": \"run-hg6u172t-dynasent_aug_backtranslate_random_16_Kyle1668bosssentiment6000bertbaseuncased_style_logs:v0\",\n",
    "    \"BOSS_Sentiment_Ablate_Data_Dynasent_BERT6000_Paraphrase\": \"run-hg6u172t-dynasent_stabilityaiStableBeluga7b_random_0_Kyle1668bosssentiment6000bertbaseuncased_style_logs:v0\",\n",
    "    \"BOSS_Sentiment_Ablate_Data_Dynasent_BERT6000_ICR\": \"run-hg6u172t-dynasent_stabilityaiStableBeluga7b_random_16_Kyle1668bosssentiment6000bertbaseuncased_style_logs:v0\",\n",
    "\n",
    "    \"BOSS_Sentiment_Ablate_Data_Dynasent_BERT120000_Insert\": \"run-pv6dxpzt-dynasent_aug_insert_random_16_Kyle1668bosssentiment12000bertbaseuncased_style_logs:v0\",\n",
    "    \"BOSS_Sentiment_Ablate_Data_Dynasent_BERT120000_Substitute\": \"run-pv6dxpzt-dynasent_aug_substitute_random_16_Kyle1668bosssentiment12000bertbaseuncased_style_logs:v0\",\n",
    "    \"BOSS_Sentiment_Ablate_Data_Dynasent_BERT120000_Translate\": \"run-pv6dxpzt-dynasent_aug_backtranslate_random_16_Kyle1668bosssentiment12000bertbaseuncased_style_logs:v0\",\n",
    "    \"BOSS_Sentiment_Ablate_Data_Dynasent_BERT120000_Paraphrase\": \"run-pv6dxpzt-dynasent_stabilityaiStableBeluga7b_random_0_Kyle1668bosssentiment12000bertbaseuncased_style_logs:v0\",\n",
    "    \"BOSS_Sentiment_Ablate_Data_Dynasent_BERT120000_ICR\": \"run-pv6dxpzt-dynasent_stabilityaiStableBeluga7b_random_16_Kyle1668bosssentiment12000bertbaseuncased_style_logs:v0\",\n",
    "\n",
    "    \"BOSS_Sentiment_Ablate_Data_Dynasent_BERT24000_Insert\": \"run-ujjjnolk-dynasent_aug_insert_random_16_Kyle1668bosssentiment24000bertbaseuncased_style_logs:v0\",\n",
    "    \"BOSS_Sentiment_Ablate_Data_Dynasent_BERT24000_Substitute\": \"run-ujjjnolk-dynasent_aug_substitute_random_16_Kyle1668bosssentiment24000bertbaseuncased_style_logs:v0\",\n",
    "    \"BOSS_Sentiment_Ablate_Data_Dynasent_BERT24000_Translate\": \"run-ujjjnolk-dynasent_aug_backtranslate_random_16_Kyle1668bosssentiment24000bertbaseuncased_style_logs:v0\",\n",
    "    \"BOSS_Sentiment_Ablate_Data_Dynasent_BERT24000_Paraphrase\": \"run-ujjjnolk-dynasent_stabilityaiStableBeluga7b_random_0_Kyle1668bosssentiment24000bertbaseuncased_style_logs:v0\",\n",
    "    \"BOSS_Sentiment_Ablate_Data_Dynasent_BERT24000_ICR\": \"run-ujjjnolk-dynasent_stabilityaiStableBeluga7b_random_16_Kyle1668bosssentiment24000bertbaseuncased_style_logs:v0\",\n",
    "\n",
    "    # T5\n",
    "    \"BOSS_Sentiment_Dynasent_T5_Insert\": \"run-omxsb0i7-dynasent_aug_insert_random_16_Kyle1668bosssentimentt5large_style_logs:v0\",\n",
    "    \"BOSS_Sentiment_Dynasent_T5_Substitute\": \"run-omxsb0i7-dynasent_aug_substitute_random_16_Kyle1668bosssentimentt5large_style_logs:v0\",\n",
    "    \"BOSS_Sentiment_Dynasent_T5_Translate\": \"run-omxsb0i7-dynasent_aug_backtranslate_random_16_Kyle1668bosssentimentt5large_style_logs:v0\",\n",
    "    \"BOSS_Sentiment_Dynasent_T5_Paraphrase\": \"run-omxsb0i7-dynasent_stabilityaiStableBeluga7b_random_0_Kyle1668bosssentimentt5large_style_logs:v0\",\n",
    "    \"BOSS_Sentiment_Dynasent_T5_ICR\": \"run-omxsb0i7-dynasent_stabilityaiStableBeluga7b_random_16_Kyle1668bosssentimentt5large_style_logs:v0\",\n",
    "\n",
    "    # Falcon\n",
    "    \"BOSS_Sentiment_Dynasent_Falcon_Insert\": \"run-omxsb0i7-dynasent_aug_insert_random_16_tiiuaefalcon7binstruct_style_logs:v0\",\n",
    "    \"BOSS_Sentiment_Dynasent_Falcon_Substitute\": \"run-omxsb0i7-dynasent_aug_substitute_random_16_tiiuaefalcon7binstruct_style_logs:v0\",\n",
    "    \"BOSS_Sentiment_Dynasent_Falcon_Translate\": \"run-omxsb0i7-dynasent_aug_backtranslate_random_16_tiiuaefalcon7binstruct_style_logs:v0\",\n",
    "    \"BOSS_Sentiment_Dynasent_Falcon_Paraphrase\": \"run-omxsb0i7-dynasent_stabilityaiStableBeluga7b_random_0_tiiuaefalcon7binstruct_style_logs:v0\",\n",
    "    \"BOSS_Sentiment_Dynasent_Falcon_ICR\": \"run-omxsb0i7-dynasent_stabilityaiStableBeluga7b_random_16_tiiuaefalcon7binstruct_style_logs:v0\",\n",
    "\n",
    "    # BOSS Toxicity\n",
    "    # ID\n",
    "    # BERT\n",
    "    \"BOSS_Toxicity_ID_BERT_Insert\": \"run-57a9z4m8-validation_aug_insert_random_16_Kyle1668bosstoxicitybertbaseuncased_style_logs:v0\",\n",
    "    \"BOSS_Toxicity_ID_BERT_Substitute\": \"run-57a9z4m8-validation_aug_substitute_random_16_Kyle1668bosstoxicitybertbaseuncased_style_logs:v0\",\n",
    "    \"BOSS_Toxicity_ID_BERT_Translate\": \"run-57a9z4m8-validation_aug_backtranslate_random_16_Kyle1668bosstoxicitybertbaseuncased_style_logs:v0\",\n",
    "    \"BOSS_Toxicity_ID_BERT_Paraphrase\": \"run-cfj9o5h7-validation_stabilityaiStableBeluga7b_random_0_Kyle1668bosstoxicitybertbaseuncased_style_logs:v0\",\n",
    "    \"BOSS_Toxicity_ID_BERT_ICR\": \"run-dvdcuuij-validation_stabilityaiStableBeluga7b_random_16_Kyle1668bosstoxicitybertbaseuncased_style_logs:v0\",\n",
    "\n",
    "    # T5\n",
    "    \"BOSS_Toxicity_ID_T5_Insert\": \"run-0ctkgl69-validation_aug_insert_random_16_Kyle1668bosstoxicityt5large_style_logs:v0\",\n",
    "    \"BOSS_Toxicity_ID_T5_Substitute\": \"run-0ctkgl69-validation_aug_substitute_random_16_Kyle1668bosstoxicityt5large_style_logs:v0\",\n",
    "    \"BOSS_Toxicity_ID_T5_Translate\": \"run-0ctkgl69-validation_aug_backtranslate_random_16_Kyle1668bosstoxicityt5large_style_logs:v0\",\n",
    "    \"BOSS_Toxicity_ID_T5_Paraphrase\": \"run-0ctkgl69-validation_stabilityaiStableBeluga7b_random_0_Kyle1668bosstoxicityt5large_style_logs:v0\",\n",
    "    \"BOSS_Toxicity_ID_T5_ICR\": \"run-0ctkgl69-validation_stabilityaiStableBeluga7b_random_16_Kyle1668bosstoxicityt5large_style_logs:v0\",\n",
    "\n",
    "    # Falcon\n",
    "    \"BOSS_Toxicity_ID_Falcon_Insert\": \"run-bo8gbtun-validation_aug_insert_random_16_tiiuaefalcon7binstruct_style_logs:v0\",\n",
    "    \"BOSS_Toxicity_ID_Falcon_Substitute\": \"run-bo8gbtun-validation_aug_substitute_random_16_tiiuaefalcon7binstruct_style_logs:v0\",\n",
    "    \"BOSS_Toxicity_ID_Falcon_Translate\": \"\",\n",
    "    \"BOSS_Toxicity_ID_Falcon_Paraphrase\": \"\",\n",
    "    \"BOSS_Toxicity_ID_Falcon_ICR\": \"\",\n",
    "\n",
    "    # Toxigen\n",
    "    # BERT\n",
    "    \"BOSS_Toxicity_Toxigen_BERT_Insert\": \"run-57a9z4m8-toxigen_aug_insert_random_16_Kyle1668bosstoxicitybertbaseuncased_style_logs:v0\",\n",
    "    \"BOSS_Toxicity_Toxigen_BERT_Substitute\": \"run-57a9z4m8-toxigen_aug_substitute_random_16_Kyle1668bosstoxicitybertbaseuncased_style_logs:v0\",\n",
    "    \"BOSS_Toxicity_Toxigen_BERT_Translate\": \"run-57a9z4m8-toxigen_aug_backtranslate_random_16_Kyle1668bosstoxicitybertbaseuncased_style_logs:v0\",\n",
    "    \"BOSS_Toxicity_Toxigen_BERT_Paraphrase\": \"run-57a9z4m8-toxigen_stabilityaiStableBeluga7b_random_0_Kyle1668bosstoxicitybertbaseuncased_style_logs:v0\",\n",
    "    \"BOSS_Toxicity_Toxigen_BERT_ICR\": \"run-57a9z4m8-toxigen_stabilityaiStableBeluga7b_random_16_Kyle1668bosstoxicitybertbaseuncased_style_logs:v0\",\n",
    "\n",
    "    \"BOSS_Toxicity_Ablate_Data_Toxigen_BERT3000_Insert\": \"run-2ecsgmy9-toxigen_aug_insert_random_16_Kyle1668bosstoxicity6000bertbaseuncased_style_logs:v0\",\n",
    "    \"BOSS_Toxicity_Ablate_Data_Toxigen_BERT3000_Substitute\": \"run-2ecsgmy9-toxigen_aug_substitute_random_16_Kyle1668bosstoxicity6000bertbaseuncased_style_logs:v0\",\n",
    "    \"BOSS_Toxicity_Ablate_Data_Toxigen_BERT3000_Translate\": \"run-2ecsgmy9-toxigen_aug_backtranslate_random_16_Kyle1668bosstoxicity6000bertbaseuncased_style_logs:v0\",\n",
    "    \"BOSS_Toxicity_Ablate_Data_Toxigen_BERT3000_Paraphrase\": \"run-2ecsgmy9-toxigen_stabilityaiStableBeluga7b_random_0_Kyle1668bosstoxicity6000bertbaseuncased_style_logs:v0\",\n",
    "    \"BOSS_Toxicity_Ablate_Data_Toxigen_BERT3000_ICR\": \"run-2ecsgmy9-toxigen_stabilityaiStableBeluga7b_random_16_Kyle1668bosstoxicity6000bertbaseuncased_style_logs:v0\",\n",
    "\n",
    "    \"BOSS_Toxicity_Ablate_Data_Toxigen_BERT6000_Insert\": \"run-ms2943fk-toxigen_aug_insert_random_16_Kyle1668bosstoxicity3000bertbaseuncased_style_logs:v0\",\n",
    "    \"BOSS_Toxicity_Ablate_Data_Toxigen_BERT6000_Substitute\": \"run-ms2943fk-toxigen_aug_substitute_random_16_Kyle1668bosstoxicity3000bertbaseuncased_style_logs:v0\",\n",
    "    \"BOSS_Toxicity_Ablate_Data_Toxigen_BERT6000_Translate\": \"run-ms2943fk-toxigen_aug_backtranslate_random_16_Kyle1668bosstoxicity3000bertbaseuncased_style_logs:v0\",\n",
    "    \"BOSS_Toxicity_Ablate_Data_Toxigen_BERT6000_Paraphrase\": \"run-ms2943fk-toxigen_stabilityaiStableBeluga7b_random_0_Kyle1668bosstoxicity3000bertbaseuncased_style_logs:v0\",\n",
    "    \"BOSS_Toxicity_Ablate_Data_Toxigen_BERT6000_ICR\": \"run-ms2943fk-toxigen_stabilityaiStableBeluga7b_random_16_Kyle1668bosstoxicity3000bertbaseuncased_style_logs:v0\",\n",
    "\n",
    "    \"BOSS_Toxicity_Ablate_Data_Toxigen_BERT12000_Insert\": \"run-7hgtyr98-toxigen_aug_insert_random_16_Kyle1668bosstoxicity12000bertbaseuncased_style_logs:v0\",\n",
    "    \"BOSS_Toxicity_Ablate_Data_Toxigen_BERT12000_Substitute\": \"run-7hgtyr98-toxigen_aug_substitute_random_16_Kyle1668bosstoxicity12000bertbaseuncased_style_logs:v0\",\n",
    "    \"BOSS_Toxicity_Ablate_Data_Toxigen_BERT12000_Translate\": \"run-7hgtyr98-toxigen_aug_backtranslate_random_16_Kyle1668bosstoxicity12000bertbaseuncased_style_logs:v0\",\n",
    "    \"BOSS_Toxicity_Ablate_Data_Toxigen_BERT12000_Paraphrase\": \"run-7hgtyr98-toxigen_stabilityaiStableBeluga7b_random_0_Kyle1668bosstoxicity12000bertbaseuncased_style_logs:v0\",\n",
    "    \"BOSS_Toxicity_Ablate_Data_Toxigen_BERT12000_ICR\": \"run-7hgtyr98-toxigen_stabilityaiStableBeluga7b_random_16_Kyle1668bosstoxicity12000bertbaseuncased_style_logs:v0\",\n",
    "\n",
    "    \"BOSS_Toxicity_Ablate_Data_Toxigen_BERT24000_Insert\": \"run-wl2a38kf-toxigen_aug_insert_random_16_Kyle1668bosstoxicity24000bertbaseuncased_style_logs:v0\",\n",
    "    \"BOSS_Toxicity_Ablate_Data_Toxigen_BERT24000_Substitute\": \"run-wl2a38kf-toxigen_aug_substitute_random_16_Kyle1668bosstoxicity24000bertbaseuncased_style_logs:v0\",\n",
    "    \"BOSS_Toxicity_Ablate_Data_Toxigen_BERT24000_Translate\": \"run-wl2a38kf-toxigen_aug_backtranslate_random_16_Kyle1668bosstoxicity24000bertbaseuncased_style_logs:v0\",\n",
    "    \"BOSS_Toxicity_Ablate_Data_Toxigen_BERT24000_Paraphrase\": \"run-wl2a38kf-toxigen_stabilityaiStableBeluga7b_random_0_Kyle1668bosstoxicity24000bertbaseuncased_style_logs:v0\",\n",
    "    \"BOSS_Toxicity_Ablate_Data_Toxigen_BERT24000_ICR\": \"run-wl2a38kf-toxigen_stabilityaiStableBeluga7b_random_16_Kyle1668bosstoxicity24000bertbaseuncased_style_logs:v0\",\n",
    "\n",
    "    \"BOSS_Toxicity_Ablate_Data_Toxigen_BERT48000_Insert\": \"run-iaorx9o7-toxigen_aug_insert_random_16_Kyle1668bosstoxicity48000bertbaseuncased_style_logs:v0\",\n",
    "    \"BOSS_Toxicity_Ablate_Data_Toxigen_BERT48000_Substitute\": \"run-iaorx9o7-toxigen_aug_substitute_random_16_Kyle1668bosstoxicity48000bertbaseuncased_style_logs:v0\",\n",
    "    \"BOSS_Toxicity_Ablate_Data_Toxigen_BERT48000_Translate\": \"run-iaorx9o7-toxigen_aug_backtranslate_random_16_Kyle1668bosstoxicity48000bertbaseuncased_style_logs:v0\",\n",
    "    \"BOSS_Toxicity_Ablate_Data_Toxigen_BERT48000_Paraphrase\": \"run-iaorx9o7-toxigen_stabilityaiStableBeluga7b_random_0_Kyle1668bosstoxicity48000bertbaseuncased_style_logs:v0\",\n",
    "    \"BOSS_Toxicity_Ablate_Data_Toxigen_BERT48000_ICR\": \"run-iaorx9o7-toxigen_stabilityaiStableBeluga7b_random_16_Kyle1668bosstoxicity48000bertbaseuncased_style_logs:v0\",\n",
    "\n",
    "    # T5\n",
    "    \"BOSS_Toxicity_Toxigen_T5_Insert\": \"run-57a9z4m8-toxigen_aug_insert_random_16_Kyle1668bosstoxicityt5large_style_logs:v0\",\n",
    "    \"BOSS_Toxicity_Toxigen_T5_Substitute\": \"run-57a9z4m8-toxigen_aug_substitute_random_16_Kyle1668bosstoxicityt5large_style_logs:v0\",\n",
    "    \"BOSS_Toxicity_Toxigen_T5_Translate\": \"run-57a9z4m8-toxigen_aug_backtranslate_random_16_Kyle1668bosstoxicityt5large_style_logs:v0\",\n",
    "    \"BOSS_Toxicity_Toxigen_T5_Paraphrase\": \"run-57a9z4m8-toxigen_stabilityaiStableBeluga7b_random_0_Kyle1668bosstoxicityt5large_style_logs:v0\",\n",
    "    \"BOSS_Toxicity_Toxigen_T5_ICR\": \"run-57a9z4m8-toxigen_stabilityaiStableBeluga7b_random_16_Kyle1668bosstoxicityt5large_style_logs:v0\",\n",
    "\n",
    "    # Falcon\n",
    "    \"BOSS_Toxicity_Toxigen_Falcon_Insert\": \"run-57a9z4m8-toxigen_aug_insert_random_16_tiiuaefalcon7binstruct_style_logs:v0\",\n",
    "    \"BOSS_Toxicity_Toxigen_Falcon_Substitute\": \"run-57a9z4m8-toxigen_aug_substitute_random_16_tiiuaefalcon7binstruct_style_logs:v0\",\n",
    "    \"BOSS_Toxicity_Toxigen_Falcon_Translate\": \"run-57a9z4m8-toxigen_aug_backtranslate_random_16_tiiuaefalcon7binstruct_style_logs:v0\",\n",
    "    \"BOSS_Toxicity_Toxigen_Falcon_Paraphrase\": \"run-57a9z4m8-toxigen_stabilityaiStableBeluga7b_random_0_tiiuaefalcon7binstruct_style_logs:v0\",\n",
    "    \"BOSS_Toxicity_Toxigen_Falcon_ICR\": \"run-57a9z4m8-toxigen_stabilityaiStableBeluga7b_random_16_tiiuaefalcon7binstruct_style_logs:v0\",\n",
    "\n",
    "    # ImplicitHate\n",
    "    # BERT\n",
    "    \"BOSS_Toxicity_ImplicitHate_BERT_Insert\": \"run-57a9z4m8-implicit_hate_aug_insert_random_16_Kyle1668bosstoxicitybertbaseuncased_style_logs:v0\",\n",
    "    \"BOSS_Toxicity_ImplicitHate_BERT_Substitute\": \"run-57a9z4m8-implicit_hate_aug_substitute_random_16_Kyle1668bosstoxicitybertbaseuncased_style_logs:v0\",\n",
    "    \"BOSS_Toxicity_ImplicitHate_BERT_Translate\": \"run-57a9z4m8-implicit_hate_aug_backtranslate_random_16_Kyle1668bosstoxicitybertbaseuncased_style_logs:v0\",\n",
    "    \"BOSS_Toxicity_ImplicitHate_BERT_Paraphrase\": \"run-57a9z4m8-implicit_hate_stabilityaiStableBeluga7b_random_0_Kyle1668bosstoxicitybertbaseuncased_style_logs:v0\",\n",
    "    \"BOSS_Toxicity_ImplicitHate_BERT_ICR\": \"run-lixlm6qh-implicit_hate_stabilityaiStableBeluga7b_random_16_Kyle1668bosstoxicitybertbaseuncased_style_logs:v0\",\n",
    "\n",
    "    \"BOSS_Toxicity_Ablate_Data_ImplicitHate_BERT3000_Insert\": \"run-ms2943fk-implicit_hate_aug_insert_random_16_Kyle1668bosstoxicity3000bertbaseuncased_style_logs:v0\",\n",
    "    \"BOSS_Toxicity_Ablate_Data_ImplicitHate_BERT3000_Substitute\": \"run-ms2943fk-implicit_hate_aug_substitute_random_16_Kyle1668bosstoxicity3000bertbaseuncased_style_logs:v0\",\n",
    "    \"BOSS_Toxicity_Ablate_Data_ImplicitHate_BERT3000_Translate\": \"run-ms2943fk-implicit_hate_aug_backtranslate_random_16_Kyle1668bosstoxicity3000bertbaseuncased_style_logs:v0\",\n",
    "    \"BOSS_Toxicity_Ablate_Data_ImplicitHate_BERT3000_Paraphrase\": \"run-ms2943fk-implicit_hate_stabilityaiStableBeluga7b_random_0_Kyle1668bosstoxicity3000bertbaseuncased_style_logs:v0\",\n",
    "    \"BOSS_Toxicity_Ablate_Data_ImplicitHate_BERT3000_ICR\": \"run-ms2943fk-implicit_hate_stabilityaiStableBeluga7b_random_16_Kyle1668bosstoxicity3000bertbaseuncased_style_logs:v0\",\n",
    "\n",
    "    \"BOSS_Toxicity_Ablate_Data_ImplicitHate_BERT6000_Insert\": \"run-2ecsgmy9-implicit_hate_aug_insert_random_16_Kyle1668bosstoxicity6000bertbaseuncased_style_logs:v0\",\n",
    "    \"BOSS_Toxicity_Ablate_Data_ImplicitHate_BERT6000_Substitute\": \"run-2ecsgmy9-implicit_hate_aug_substitute_random_16_Kyle1668bosstoxicity6000bertbaseuncased_style_logs:v0\",\n",
    "    \"BOSS_Toxicity_Ablate_Data_ImplicitHate_BERT6000_Translate\": \"run-2ecsgmy9-implicit_hate_aug_backtranslate_random_16_Kyle1668bosstoxicity6000bertbaseuncased_style_logs:v0\",\n",
    "    \"BOSS_Toxicity_Ablate_Data_ImplicitHate_BERT6000_Paraphrase\": \"run-2ecsgmy9-implicit_hate_stabilityaiStableBeluga7b_random_0_Kyle1668bosstoxicity6000bertbaseuncased_style_logs:v0\",\n",
    "    \"BOSS_Toxicity_Ablate_Data_ImplicitHate_BERT6000_ICR\": \"run-2ecsgmy9-implicit_hate_stabilityaiStableBeluga7b_random_16_Kyle1668bosstoxicity6000bertbaseuncased_style_logs:v0\",\n",
    "\n",
    "    \"BOSS_Toxicity_Ablate_Data_ImplicitHate_BERT12000_Insert\": \"run-7hgtyr98-implicit_hate_aug_insert_random_16_Kyle1668bosstoxicity12000bertbaseuncased_style_logs:v0\",\n",
    "    \"BOSS_Toxicity_Ablate_Data_ImplicitHate_BERT12000_Substitute\": \"run-7hgtyr98-implicit_hate_aug_substitute_random_16_Kyle1668bosstoxicity12000bertbaseuncased_style_logs:v0\",\n",
    "    \"BOSS_Toxicity_Ablate_Data_ImplicitHate_BERT12000_Translate\": \"run-7hgtyr98-implicit_hate_aug_backtranslate_random_16_Kyle1668bosstoxicity12000bertbaseuncased_style_logs:v0\",\n",
    "    \"BOSS_Toxicity_Ablate_Data_ImplicitHate_BERT12000_Paraphrase\": \"run-7hgtyr98-implicit_hate_stabilityaiStableBeluga7b_random_0_Kyle1668bosstoxicity12000bertbaseuncased_style_logs:v0\",\n",
    "    \"BOSS_Toxicity_Ablate_Data_ImplicitHate_BERT12000_ICR\": \"run-7hgtyr98-implicit_hate_stabilityaiStableBeluga7b_random_16_Kyle1668bosstoxicity12000bertbaseuncased_style_logs:v0\",\n",
    "\n",
    "    \"BOSS_Toxicity_Ablate_Data_ImplicitHate_BERT24000_Insert\": \"run-wl2a38kf-implicit_hate_aug_insert_random_16_Kyle1668bosstoxicity24000bertbaseuncased_style_logs:v0\",\n",
    "    \"BOSS_Toxicity_Ablate_Data_ImplicitHate_BERT24000_Substitute\": \"run-wl2a38kf-implicit_hate_aug_substitute_random_16_Kyle1668bosstoxicity24000bertbaseuncased_style_logs:v0\",\n",
    "    \"BOSS_Toxicity_Ablate_Data_ImplicitHate_BERT24000_Translate\": \"run-wl2a38kf-implicit_hate_aug_backtranslate_random_16_Kyle1668bosstoxicity24000bertbaseuncased_style_logs:v0\",\n",
    "    \"BOSS_Toxicity_Ablate_Data_ImplicitHate_BERT24000_Paraphrase\": \"run-wl2a38kf-implicit_hate_stabilityaiStableBeluga7b_random_0_Kyle1668bosstoxicity24000bertbaseuncased_style_logs:v0\",\n",
    "    \"BOSS_Toxicity_Ablate_Data_ImplicitHate_BERT24000_ICR\": \"run-wl2a38kf-implicit_hate_stabilityaiStableBeluga7b_random_16_Kyle1668bosstoxicity24000bertbaseuncased_style_logs:v0\",\n",
    "\n",
    "    \"BOSS_Toxicity_Ablate_Data_ImplicitHate_BERT48000_Insert\": \"run-iaorx9o7-implicit_hate_aug_insert_random_16_Kyle1668bosstoxicity48000bertbaseuncased_style_logs:v0\",\n",
    "    \"BOSS_Toxicity_Ablate_Data_ImplicitHate_BERT48000_Substitute\": \"run-iaorx9o7-implicit_hate_aug_substitute_random_16_Kyle1668bosstoxicity48000bertbaseuncased_style_logs:v0\",\n",
    "    \"BOSS_Toxicity_Ablate_Data_ImplicitHate_BERT48000_Translate\": \"run-iaorx9o7-implicit_hate_aug_backtranslate_random_16_Kyle1668bosstoxicity48000bertbaseuncased_style_logs:v0\",\n",
    "    \"BOSS_Toxicity_Ablate_Data_ImplicitHate_BERT48000_Paraphrase\": \"run-iaorx9o7-implicit_hate_stabilityaiStableBeluga7b_random_0_Kyle1668bosstoxicity48000bertbaseuncased_style_logs:v0\",\n",
    "    \"BOSS_Toxicity_Ablate_Data_ImplicitHate_BERT48000_ICR\": \"run-iaorx9o7-implicit_hate_stabilityaiStableBeluga7b_random_16_Kyle1668bosstoxicity48000bertbaseuncased_style_logs:v0\",\n",
    "\n",
    "    # T5\n",
    "    \"BOSS_Toxicity_ImplicitHate_T5_Insert\": \"run-57a9z4m8-implicit_hate_aug_insert_random_16_Kyle1668bosstoxicityt5large_style_logs:v0\",\n",
    "    \"BOSS_Toxicity_ImplicitHate_T5_Substitute\": \"run-57a9z4m8-implicit_hate_aug_substitute_random_16_Kyle1668bosstoxicityt5large_style_logs:v0\",\n",
    "    \"BOSS_Toxicity_ImplicitHate_T5_Translate\": \"run-57a9z4m8-implicit_hate_aug_backtranslate_random_16_Kyle1668bosstoxicityt5large_style_logs:v0\",\n",
    "    \"BOSS_Toxicity_ImplicitHate_T5_Paraphrase\": \"run-57a9z4m8-implicit_hate_stabilityaiStableBeluga7b_random_0_Kyle1668bosstoxicityt5large_style_logs:v0\",\n",
    "    \"BOSS_Toxicity_ImplicitHate_T5_ICR\": \"run-57a9z4m8-implicit_hate_stabilityaiStableBeluga7b_random_16_Kyle1668bosstoxicityt5large_style_logs:v0\",\n",
    "\n",
    "    # Falcon\n",
    "    \"BOSS_Toxicity_ImplicitHate_Falcon_Insert\": \"run-57a9z4m8-implicit_hate_aug_insert_random_16_tiiuaefalcon7binstruct_style_logs:v0\",\n",
    "    \"BOSS_Toxicity_ImplicitHate_Falcon_Substitute\": \"run-57a9z4m8-implicit_hate_aug_substitute_random_16_tiiuaefalcon7binstruct_style_logs:v0\",\n",
    "    \"BOSS_Toxicity_ImplicitHate_Falcon_Translate\": \"run-57a9z4m8-implicit_hate_aug_backtranslate_random_16_tiiuaefalcon7binstruct_style_logs:v0\",\n",
    "    \"BOSS_Toxicity_ImplicitHate_Falcon_Paraphrase\": \"\",\n",
    "    \"BOSS_Toxicity_ImplicitHate_Falcon_ICR\": \"\",\n",
    "\n",
    "    # AdvCivil\n",
    "    # BERT\n",
    "    \"BOSS_Toxicity_AdvCivil_BERT_Insert\": \"run-57a9z4m8-adv_civil_aug_insert_random_16_Kyle1668bosstoxicitybertbaseuncased_style_logs:v0\",\n",
    "    \"BOSS_Toxicity_AdvCivil_BERT_Substitute\": \"run-57a9z4m8-adv_civil_aug_substitute_random_16_Kyle1668bosstoxicitybertbaseuncased_style_logs:v0\",\n",
    "    \"BOSS_Toxicity_AdvCivil_BERT_Translate\": \"run-57a9z4m8-adv_civil_aug_backtranslate_random_16_Kyle1668bosstoxicitybertbaseuncased_style_logs:v0\",\n",
    "    \"BOSS_Toxicity_AdvCivil_BERT_Paraphrase\": \"run-57a9z4m8-adv_civil_stabilityaiStableBeluga7b_random_0_Kyle1668bosstoxicitybertbaseuncased_style_logs:v0\",\n",
    "    \"BOSS_Toxicity_AdvCivil_BERT_ICR\": \"run-57a9z4m8-adv_civil_stabilityaiStableBeluga7b_random_16_Kyle1668bosstoxicitybertbaseuncased_style_logs:v0\",\n",
    "\n",
    "    \"BOSS_Toxicity_Ablate_Data_AdvCivil_BERT3000_Insert\": \"run-ms2943fk-adv_civil_aug_insert_random_16_Kyle1668bosstoxicity3000bertbaseuncased_style_logs:v0\",\n",
    "    \"BOSS_Toxicity_Ablate_Data_AdvCivil_BERT3000_Substitute\": \"run-ms2943fk-adv_civil_aug_substitute_random_16_Kyle1668bosstoxicity3000bertbaseuncased_style_logs:v0\",\n",
    "    \"BOSS_Toxicity_Ablate_Data_AdvCivil_BERT3000_Translate\": \"run-ms2943fk-adv_civil_aug_backtranslate_random_16_Kyle1668bosstoxicity3000bertbaseuncased_style_logs:v0\",\n",
    "    \"BOSS_Toxicity_Ablate_Data_AdvCivil_BERT3000_Paraphrase\": \"run-ms2943fk-adv_civil_stabilityaiStableBeluga7b_random_0_Kyle1668bosstoxicity3000bertbaseuncased_style_logs:v0\",\n",
    "    \"BOSS_Toxicity_Ablate_Data_AdvCivil_BERT3000_ICR\": \"run-ms2943fk-adv_civil_stabilityaiStableBeluga7b_random_16_Kyle1668bosstoxicity3000bertbaseuncased_style_logs:v0\",\n",
    "\n",
    "    \"BOSS_Toxicity_Ablate_Data_AdvCivil_BERT6000_Insert\": \"run-2ecsgmy9-adv_civil_aug_insert_random_16_Kyle1668bosstoxicity6000bertbaseuncased_style_logs:v0\",\n",
    "    \"BOSS_Toxicity_Ablate_Data_AdvCivil_BERT6000_Substitute\": \"run-2ecsgmy9-adv_civil_aug_substitute_random_16_Kyle1668bosstoxicity6000bertbaseuncased_style_logs:v0\",\n",
    "    \"BOSS_Toxicity_Ablate_Data_AdvCivil_BERT6000_Translate\": \"run-2ecsgmy9-adv_civil_aug_backtranslate_random_16_Kyle1668bosstoxicity6000bertbaseuncased_style_logs:v0\",\n",
    "    \"BOSS_Toxicity_Ablate_Data_AdvCivil_BERT6000_Paraphrase\": \"run-2ecsgmy9-adv_civil_stabilityaiStableBeluga7b_random_0_Kyle1668bosstoxicity6000bertbaseuncased_style_logs:v0\",\n",
    "    \"BOSS_Toxicity_Ablate_Data_AdvCivil_BERT6000_ICR\": \"run-2ecsgmy9-adv_civil_stabilityaiStableBeluga7b_random_16_Kyle1668bosstoxicity6000bertbaseuncased_style_logs:v0\",\n",
    "\n",
    "    \"BOSS_Toxicity_Ablate_Data_AdvCivil_BERT12000_Insert\": \"run-7hgtyr98-adv_civil_aug_insert_random_16_Kyle1668bosstoxicity12000bertbaseuncased_style_logs:v0\",\n",
    "    \"BOSS_Toxicity_Ablate_Data_AdvCivil_BERT12000_Substitute\": \"run-7hgtyr98-adv_civil_aug_substitute_random_16_Kyle1668bosstoxicity12000bertbaseuncased_style_logs:v0\",\n",
    "    \"BOSS_Toxicity_Ablate_Data_AdvCivil_BERT12000_Translate\": \"run-7hgtyr98-adv_civil_aug_backtranslate_random_16_Kyle1668bosstoxicity12000bertbaseuncased_style_logs:v0\",\n",
    "    \"BOSS_Toxicity_Ablate_Data_AdvCivil_BERT12000_Paraphrase\": \"run-7hgtyr98-adv_civil_stabilityaiStableBeluga7b_random_0_Kyle1668bosstoxicity12000bertbaseuncased_style_logs:v0\",\n",
    "    \"BOSS_Toxicity_Ablate_Data_AdvCivil_BERT12000_ICR\": \"run-7hgtyr98-adv_civil_stabilityaiStableBeluga7b_random_16_Kyle1668bosstoxicity12000bertbaseuncased_style_logs:v0\",\n",
    "\n",
    "    \"BOSS_Toxicity_Ablate_Data_AdvCivil_BERT24000_Insert\": \"run-wl2a38kf-adv_civil_aug_insert_random_16_Kyle1668bosstoxicity24000bertbaseuncased_style_logs:v0\",\n",
    "    \"BOSS_Toxicity_Ablate_Data_AdvCivil_BERT24000_Substitute\": \"run-wl2a38kf-adv_civil_aug_substitute_random_16_Kyle1668bosstoxicity24000bertbaseuncased_style_logs:v0\",\n",
    "    \"BOSS_Toxicity_Ablate_Data_AdvCivil_BERT24000_Translate\": \"run-wl2a38kf-adv_civil_aug_backtranslate_random_16_Kyle1668bosstoxicity24000bertbaseuncased_style_logs:v0\",\n",
    "    \"BOSS_Toxicity_Ablate_Data_AdvCivil_BERT24000_Paraphrase\": \"run-wl2a38kf-adv_civil_stabilityaiStableBeluga7b_random_0_Kyle1668bosstoxicity24000bertbaseuncased_style_logs:v0\",\n",
    "    \"BOSS_Toxicity_Ablate_Data_AdvCivil_BERT24000_ICR\": \"run-wl2a38kf-adv_civil_stabilityaiStableBeluga7b_random_16_Kyle1668bosstoxicity24000bertbaseuncased_style_logs:v0\",\n",
    "\n",
    "    \"BOSS_Toxicity_Ablate_Data_AdvCivil_BERT48000_Insert\": \"run-iaorx9o7-adv_civil_aug_insert_random_16_Kyle1668bosstoxicity48000bertbaseuncased_style_logs:v0\",\n",
    "    \"BOSS_Toxicity_Ablate_Data_AdvCivil_BERT48000_Substitute\": \"run-iaorx9o7-adv_civil_aug_substitute_random_16_Kyle1668bosstoxicity48000bertbaseuncased_style_logs:v0\",\n",
    "    \"BOSS_Toxicity_Ablate_Data_AdvCivil_BERT48000_Translate\": \"run-iaorx9o7-adv_civil_aug_backtranslate_random_16_Kyle1668bosstoxicity48000bertbaseuncased_style_logs:v0\",\n",
    "    \"BOSS_Toxicity_Ablate_Data_AdvCivil_BERT48000_Paraphrase\": \"run-iaorx9o7-adv_civil_stabilityaiStableBeluga7b_random_0_Kyle1668bosstoxicity48000bertbaseuncased_style_logs:v0\",\n",
    "    \"BOSS_Toxicity_Ablate_Data_AdvCivil_BERT48000_ICR\": \"run-iaorx9o7-adv_civil_stabilityaiStableBeluga7b_random_16_Kyle1668bosstoxicity48000bertbaseuncased_style_logs:v0\",\n",
    "\n",
    "    # T5\n",
    "    \"BOSS_Toxicity_AdvCivil_T5_Insert\": \"run-57a9z4m8-adv_civil_aug_insert_random_16_Kyle1668bosstoxicityt5large_style_logs:v0\",\n",
    "    \"BOSS_Toxicity_AdvCivil_T5_Substitute\": \"run-57a9z4m8-adv_civil_aug_substitute_random_16_Kyle1668bosstoxicityt5large_style_logs:v0\",\n",
    "    \"BOSS_Toxicity_AdvCivil_T5_Translate\": \"run-57a9z4m8-adv_civil_aug_backtranslate_random_16_Kyle1668bosstoxicityt5large_style_logs:v0\",\n",
    "    \"BOSS_Toxicity_AdvCivil_T5_Paraphrase\": \"run-57a9z4m8-adv_civil_stabilityaiStableBeluga7b_random_0_Kyle1668bosstoxicityt5large_style_logs:v0\",\n",
    "    \"BOSS_Toxicity_AdvCivil_T5_ICR\": \"run-57a9z4m8-adv_civil_stabilityaiStableBeluga7b_random_16_Kyle1668bosstoxicityt5large_style_logs:v0\",\n",
    "\n",
    "    # Falcon\n",
    "    \"BOSS_Toxicity_AdvCivil_Falcon_Insert\": \"run-57a9z4m8-adv_civil_aug_insert_random_16_tiiuaefalcon7binstruct_style_logs:v0\",\n",
    "    \"BOSS_Toxicity_AdvCivil_Falcon_Substitute\": \"run-57a9z4m8-adv_civil_aug_substitute_random_16_tiiuaefalcon7binstruct_style_logs:v0\",\n",
    "    \"BOSS_Toxicity_AdvCivil_Falcon_Translate\": \"run-57a9z4m8-adv_civil_aug_backtranslate_random_16_tiiuaefalcon7binstruct_style_logs:v0\",\n",
    "    \"BOSS_Toxicity_AdvCivil_Falcon_Paraphrase\": \"run-57a9z4m8-adv_civil_stabilityaiStableBeluga7b_random_0_tiiuaefalcon7binstruct_style_logs:v0\",\n",
    "    \"BOSS_Toxicity_AdvCivil_Falcon_ICR\": \"run-57a9z4m8-adv_civil_stabilityaiStableBeluga7b_random_16_tiiuaefalcon7binstruct_style_logs:v0\",\n",
    "\n",
    "    # AG News Tweets\n",
    "    # ID\n",
    "    # BERT\n",
    "    \"AgNewsTweets_ID_BERT_Insert\": \"run-r4cog6cc-validation_aug_insert_random_16_Kyle1668agnewsbertbaseuncased_style_logs:v0\",\n",
    "    \"AgNewsTweets_ID_BERT_Substitute\": \"run-r4cog6cc-validation_aug_substitute_random_16_Kyle1668agnewsbertbaseuncased_style_logs:v0\",\n",
    "    \"AgNewsTweets_ID_BERT_Translate\": \"run-r4cog6cc-validation_aug_backtranslate_random_16_Kyle1668agnewsbertbaseuncased_style_logs:v0\",\n",
    "    \"AgNewsTweets_ID_BERT_Paraphrase\": \"run-r4cog6cc-validation_stabilityaiStableBeluga7b_random_0_Kyle1668agnewsbertbaseuncased_style_logs:v0\",\n",
    "    \"AgNewsTweets_ID_BERT_ICR\": \"run-r4cog6cc-validation_stabilityaiStableBeluga7b_random_16_Kyle1668agnewsbertbaseuncased_style_logs:v0\",\n",
    "\n",
    "    \"AgNewsTweets_Ablate_Data_Tweets_BERT4800_Insert\": \"run-s51a9946-test_aug_insert_random_16_Kyle1668agnews4800bertbaseuncased_style_logs:v0\",\n",
    "    \"AgNewsTweets_Ablate_Data_Tweets_BERT4800_Substitute\": \"run-s51a9946-test_aug_substitute_random_16_Kyle1668agnewsbertbaseuncased_style_logs:v0\",\n",
    "    \"AgNewsTweets_Ablate_Data_Tweets_BERT4800_Translate\": \"run-s51a9946-test_aug_backtranslate_random_16_Kyle1668agnewsbertbaseuncased_style_logs:v0\",\n",
    "    \"AgNewsTweets_Ablate_Data_Tweets_BERT4800_Paraphrase\": \"run-s51a9946-test_stabilityaiStableBeluga7b_random_0_Kyle1668agnewsbertbaseuncased_style_logs:v0\",\n",
    "    \"AgNewsTweets_Ablate_Data_Tweets_BERT4800_ICR\": \"run-s51a9946-test_stabilityaiStableBeluga7b_random_16_Kyle1668agnewsbertbaseuncased_style_logs:v0\",\n",
    "\n",
    "    \"AgNewsTweets_Ablate_Data_Tweets_BERT9600_Insert\": \"run-ymlu6tfz-test_aug_insert_random_16_Kyle1668agnews4800bertbaseuncased_style_logs:v0\",\n",
    "    \"AgNewsTweets_Ablate_Data_Tweets_BERT9600_Substitute\": \"run-ymlu6tfz-test_aug_substitute_random_16_Kyle1668agnewsbertbaseuncased_style_logs:v0\",\n",
    "    \"AgNewsTweets_Ablate_Data_Tweets_BERT9600_Translate\": \"run-ymlu6tfz-test_aug_backtranslate_random_16_Kyle1668agnewsbertbaseuncased_style_logs:v0\",\n",
    "    \"AgNewsTweets_Ablate_Data_Tweets_BERT9600_Paraphrase\": \"run-ymlu6tfz-test_stabilityaiStableBeluga7b_random_0_Kyle1668agnewsbertbaseuncased_style_logs:v0\",\n",
    "    \"AgNewsTweets_Ablate_Data_Tweets_BERT9600_ICR\": \"run-ymlu6tfz-test_stabilityaiStableBeluga7b_random_16_Kyle1668agnewsbertbaseuncased_style_logs:v0\",\n",
    "\n",
    "    \"AgNewsTweets_Ablate_Data_Tweets_BERT19200_Insert\": \"run-arskmac6-test_aug_insert_random_16_Kyle1668agnews4800bertbaseuncased_style_logs:v0\",\n",
    "    \"AgNewsTweets_Ablate_Data_Tweets_BERT19200_Substitute\": \"run-arskmac6-test_aug_substitute_random_16_Kyle1668agnewsbertbaseuncased_style_logs:v0\",\n",
    "    \"AgNewsTweets_Ablate_Data_Tweets_BERT19200_Translate\": \"run-arskmac6-test_aug_backtranslate_random_16_Kyle1668agnewsbertbaseuncased_style_logs:v0\",\n",
    "    \"AgNewsTweets_Ablate_Data_Tweets_BERT19200_Paraphrase\": \"run-arskmac6-test_stabilityaiStableBeluga7b_random_0_Kyle1668agnewsbertbaseuncased_style_logs:v0\",\n",
    "    \"AgNewsTweets_Ablate_Data_Tweets_BERT19200_ICR\": \"run-arskmac6-test_stabilityaiStableBeluga7b_random_16_Kyle1668agnewsbertbaseuncased_style_logs:v0\",\n",
    "\n",
    "    \"AgNewsTweets_Ablate_Data_Tweets_BERT38400_Insert\": \"run-6qktrbp8-test_aug_insert_random_16_Kyle1668agnews4800bertbaseuncased_style_logs:v0\",\n",
    "    \"AgNewsTweets_Ablate_Data_Tweets_BERT38400_Substitute\": \"run-6qktrbp8-test_aug_substitute_random_16_Kyle1668agnewsbertbaseuncased_style_logs:v0\",\n",
    "    \"AgNewsTweets_Ablate_Data_Tweets_BERT38400_Translate\": \"run-6qktrbp8-test_aug_backtranslate_random_16_Kyle1668agnewsbertbaseuncased_style_logs:v0\",\n",
    "    \"AgNewsTweets_Ablate_Data_Tweets_BERT38400_Paraphrase\": \"run-6qktrbp8-test_stabilityaiStableBeluga7b_random_0_Kyle1668agnewsbertbaseuncased_style_logs:v0\",\n",
    "    \"AgNewsTweets_Ablate_Data_Tweets_BERT38400_ICR\": \"run-6qktrbp8-test_stabilityaiStableBeluga7b_random_16_Kyle1668agnewsbertbaseuncased_style_logs:v0\",\n",
    "\n",
    "    \"AgNewsTweets_Ablate_Data_Tweets_BERT76800_Insert\": \"run-seqenj7d-test_aug_insert_random_16_Kyle1668agnews4800bertbaseuncased_style_logs:v0\",\n",
    "    \"AgNewsTweets_Ablate_Data_Tweets_BERT76800_Substitute\": \"run-seqenj7d-test_aug_substitute_random_16_Kyle1668agnewsbertbaseuncased_style_logs:v0\",\n",
    "    \"AgNewsTweets_Ablate_Data_Tweets_BERT76800_Translate\": \"run-seqenj7d-test_aug_backtranslate_random_16_Kyle1668agnewsbertbaseuncased_style_logs:v0\",\n",
    "    \"AgNewsTweets_Ablate_Data_Tweets_BERT76800_Paraphrase\": \"run-seqenj7d-test_stabilityaiStableBeluga7b_random_0_Kyle1668agnewsbertbaseuncased_style_logs:v0\",\n",
    "    \"AgNewsTweets_Ablate_Data_Tweets_BERT76800_ICR\": \"run-seqenj7d-test_stabilityaiStableBeluga7b_random_16_Kyle1668agnewsbertbaseuncased_style_logs:v0\",\n",
    "\n",
    "    # T5\n",
    "    \"AgNewsTweets_ID_T5_Insert\": \"run-r4cog6cc-validation_aug_insert_random_16_Kyle1668agnewst5large_style_logs:v0\",\n",
    "    \"AgNewsTweets_ID_T5_Substitute\": \"run-r4cog6cc-validation_aug_substitute_random_16_Kyle1668agnewst5large_style_logs:v0\",\n",
    "    \"AgNewsTweets_ID_T5_Translate\": \"run-r4cog6cc-validation_aug_backtranslate_random_16_Kyle1668agnewst5large_style_logs:v0\",\n",
    "    \"AgNewsTweets_ID_T5_Paraphrase\": \"run-r4cog6cc-validation_stabilityaiStableBeluga7b_random_0_Kyle1668agnewst5large_style_logs:v0\",\n",
    "    \"AgNewsTweets_ID_T5_ICR\": \"run-r4cog6cc-validation_stabilityaiStableBeluga7b_random_16_Kyle1668agnewst5large_style_logs:v0\",\n",
    "\n",
    "    # Falcon\n",
    "    \"AgNewsTweets_ID_Falcon_Insert\": \"run-r4cog6cc-validation_aug_insert_random_16_tiiuaefalcon7binstruct_style_logs:v0\",\n",
    "    \"AgNewsTweets_ID_Falcon_Substitute\": \"run-r4cog6cc-validation_aug_substitute_random_16_tiiuaefalcon7binstruct_style_logs:v0\",\n",
    "    \"AgNewsTweets_ID_Falcon_Translate\": \"run-r4cog6cc-validation_aug_backtranslate_random_16_tiiuaefalcon7binstruct_style_logs:v0\",\n",
    "    \"AgNewsTweets_ID_Falcon_Paraphrase\": \"run-r4cog6cc-validation_stabilityaiStableBeluga7b_random_0_tiiuaefalcon7binstruct_style_logs:v0\",\n",
    "    \"AgNewsTweets_ID_Falcon_ICR\": \"run-r4cog6cc-validation_stabilityaiStableBeluga7b_random_16_tiiuaefalcon7binstruct_style_logs:v0\",\n",
    "\n",
    "    # Tweets\n",
    "    # BERT\n",
    "    \"AgNewsTweets_Tweets_BERT_Insert\": \"run-r4cog6cc-test_aug_insert_random_16_Kyle1668agnewsbertbaseuncased_style_logs:v0\",\n",
    "    \"AgNewsTweets_Tweets_BERT_Substitute\": \"run-r4cog6cc-test_aug_substitute_random_16_Kyle1668agnewsbertbaseuncased_style_logs:v0\",\n",
    "    \"AgNewsTweets_Tweets_BERT_Translate\": \"run-r4cog6cc-test_aug_backtranslate_random_16_Kyle1668agnewsbertbaseuncased_style_logs:v0\",\n",
    "    \"AgNewsTweets_Tweets_BERT_Paraphrase\": \"run-r4cog6cc-test_stabilityaiStableBeluga7b_random_0_Kyle1668agnewsbertbaseuncased_style_logs:v0\",\n",
    "    \"AgNewsTweets_Tweets_BERT_ICR\": \"run-r4cog6cc-test_stabilityaiStableBeluga7b_random_16_Kyle1668agnewsbertbaseuncased_style_logs:v0\",\n",
    "\n",
    "    \"AgNewsTweets_Ablate_Data_Tweets_BERT76800_Insert\": \"run-seqenj7d-test_aug_insert_random_16_Kyle1668agnews76800bertbaseuncased_style_logs:v0\",\n",
    "    \"AgNewsTweets_Ablate_Data_Tweets_BERT76800_Substitute\": \"run-seqenj7d-test_aug_substitute_random_16_Kyle1668agnews76800bertbaseuncased_style_logs:v0\",\n",
    "    \"AgNewsTweets_Ablate_Data_Tweets_BERT76800_Translate\": \"run-seqenj7d-test_aug_backtranslate_random_16_Kyle1668agnews76800bertbaseuncased_style_logs:v0\",\n",
    "    \"AgNewsTweets_Ablate_Data_Tweets_BERT76800_Paraphrase\": \"run-seqenj7d-test_stabilityaiStableBeluga7b_random_0_Kyle1668agnews76800bertbaseuncased_style_logs:v0\",\n",
    "    \"AgNewsTweets_Ablate_Data_Tweets_BERT76800_ICR\": \"run-seqenj7d-test_stabilityaiStableBeluga7b_random_16_Kyle1668agnews76800bertbaseuncased_style_logs:v0\",\n",
    "\n",
    "    \"AgNewsTweets_Ablate_Data_Tweets_BERT9600_Insert\": \"run-ymlu6tfz-test_aug_insert_random_16_Kyle1668agnews9600bertbaseuncased_style_logs:v0\",\n",
    "    \"AgNewsTweets_Ablate_Data_Tweets_BERT9600_Substitute\": \"run-ymlu6tfz-test_aug_substitute_random_16_Kyle1668agnews9600bertbaseuncased_style_logs:v0\",\n",
    "    \"AgNewsTweets_Ablate_Data_Tweets_BERT9600_Translate\": \"run-ymlu6tfz-test_aug_backtranslate_random_16_Kyle1668agnews9600bertbaseuncased_style_logs:v0\",\n",
    "    \"AgNewsTweets_Ablate_Data_Tweets_BERT9600_Paraphrase\": \"run-ymlu6tfz-test_stabilityaiStableBeluga7b_random_0_Kyle1668agnews9600bertbaseuncased_style_logs:v0\",\n",
    "    \"AgNewsTweets_Ablate_Data_Tweets_BERT9600_ICR\": \"run-ymlu6tfz-test_stabilityaiStableBeluga7b_random_0_Kyle1668agnews9600bertbaseuncased_style_logs:v0\",\n",
    "\n",
    "    \"AgNewsTweets_Ablate_Data_Tweets_BERT19200_Insert\": \"run-arskmac6-test_aug_insert_random_16_Kyle1668agnews19200bertbaseuncased_style_logs:v0\",\n",
    "    \"AgNewsTweets_Ablate_Data_Tweets_BERT19200_Substitute\": \"run-arskmac6-test_aug_substitute_random_16_Kyle1668agnews19200bertbaseuncased_style_logs:v0\",\n",
    "    \"AgNewsTweets_Ablate_Data_Tweets_BERT19200_Translate\": \"run-arskmac6-test_aug_backtranslate_random_16_Kyle1668agnews19200bertbaseuncased_style_logs:v0\",\n",
    "    \"AgNewsTweets_Ablate_Data_Tweets_BERT19200_Paraphrase\": \"run-arskmac6-test_stabilityaiStableBeluga7b_random_0_Kyle1668agnews19200bertbaseuncased_style_logs:v0\",\n",
    "    \"AgNewsTweets_Ablate_Data_Tweets_BERT19200_ICR\": \"run-arskmac6-test_stabilityaiStableBeluga7b_random_16_Kyle1668agnews19200bertbaseuncased_style_logs:v0\",\n",
    "\n",
    "    \"AgNewsTweets_Ablate_Data_Tweets_BERT38400_Insert\": \"run-6qktrbp8-test_aug_insert_random_16_Kyle1668agnews38400bertbaseuncased_style_logs:v0\",\n",
    "    \"AgNewsTweets_Ablate_Data_Tweets_BERT38400_Substitute\": \"run-6qktrbp8-test_aug_substitute_random_16_Kyle1668agnews38400bertbaseuncased_style_logs:v0\",\n",
    "    \"AgNewsTweets_Ablate_Data_Tweets_BERT38400_Translate\": \"run-6qktrbp8-test_aug_backtranslate_random_16_Kyle1668agnews38400bertbaseuncased_style_logs:v0\",\n",
    "    \"AgNewsTweets_Ablate_Data_Tweets_BERT38400_Paraphrase\": \"run-6qktrbp8-test_stabilityaiStableBeluga7b_random_0_Kyle1668agnews38400bertbaseuncased_style_logs:v0\",\n",
    "    \"AgNewsTweets_Ablate_Data_Tweets_BERT38400_ICR\": \"run-6qktrbp8-test_stabilityaiStableBeluga7b_random_16_Kyle1668agnews38400bertbaseuncased_style_logs:v0\",\n",
    "\n",
    "    \"AgNewsTweets_Ablate_Data_Tweets_BERT4800_Insert\": \"run-s51a9946-test_aug_insert_random_16_Kyle1668agnews4800bertbaseuncased_style_logs:v0\",\n",
    "    \"AgNewsTweets_Ablate_Data_Tweets_BERT4800_Substitute\": \"run-s51a9946-test_aug_substitute_random_16_Kyle1668agnews4800bertbaseuncased_style_logs:v0\",\n",
    "    \"AgNewsTweets_Ablate_Data_Tweets_BERT4800_Translate\": \"run-s51a9946-test_aug_backtranslate_random_16_Kyle1668agnews4800bertbaseuncased_style_logs:v0\",\n",
    "    \"AgNewsTweets_Ablate_Data_Tweets_BERT4800_Paraphrase\": \"run-s51a9946-test_stabilityaiStableBeluga7b_random_0_Kyle1668agnews4800bertbaseuncased_style_logs:v0\",\n",
    "    \"AgNewsTweets_Ablate_Data_Tweets_BERT4800_ICR\": \"run-s51a9946-test_stabilityaiStableBeluga7b_random_16_Kyle1668agnews4800bertbaseuncased_style_logs:v0\",\n",
    "\n",
    "    # T5\n",
    "    \"AgNewsTweets_Tweets_T5_Insert\": \"run-r4cog6cc-test_aug_insert_random_16_Kyle1668agnewst5large_style_logs:v0\",\n",
    "    \"AgNewsTweets_Tweets_T5_Substitute\": \"run-r4cog6cc-test_aug_substitute_random_16_Kyle1668agnewst5large_style_logs:v0\",\n",
    "    \"AgNewsTweets_Tweets_T5_Translate\": \"run-r4cog6cc-test_aug_backtranslate_random_16_Kyle1668agnewst5large_style_logs:v0\",\n",
    "    \"AgNewsTweets_Tweets_T5_Paraphrase\": \"run-r4cog6cc-test_stabilityaiStableBeluga7b_random_0_Kyle1668agnewst5large_style_logs:v0\",\n",
    "    \"AgNewsTweets_Tweets_T5_ICR\": \"run-r4cog6cc-test_stabilityaiStableBeluga7b_random_16_Kyle1668agnewst5large_style_logs:v0\",\n",
    "\n",
    "    # Falcon\n",
    "    \"AgNewsTweets_Tweets_Falcon_Insert\": \"run-r4cog6cc-test_aug_insert_random_16_tiiuaefalcon7binstruct_style_logs:v0\",\n",
    "    \"AgNewsTweets_Tweets_Falcon_Substitute\": \"run-r4cog6cc-test_aug_substitute_random_16_tiiuaefalcon7binstruct_style_logs:v0\",\n",
    "    \"AgNewsTweets_Tweets_Falcon_Translate\": \"run-r4cog6cc-test_aug_backtranslate_random_16_tiiuaefalcon7binstruct_style_logs:v0\",\n",
    "    \"AgNewsTweets_Tweets_Falcon_Paraphrase\": \"run-r4cog6cc-test_stabilityaiStableBeluga7b_random_0_tiiuaefalcon7binstruct_style_logs:v0\",\n",
    "    \"AgNewsTweets_Tweets_Falcon_ICR\": \"run-r4cog6cc-test_stabilityaiStableBeluga7b_random_16_tiiuaefalcon7binstruct_style_logs:v0\",\n",
    "}\n",
    "\n",
    "print(json.dumps(table_paths, indent=4))"
   ]
  },
  {
   "cell_type": "code",
   "execution_count": 3,
   "metadata": {},
   "outputs": [
    {
     "name": "stderr",
     "output_type": "stream",
     "text": [
      "Failed to detect the name of this notebook, you can set it manually with the WANDB_NOTEBOOK_NAME environment variable to enable code saving.\n",
      "\u001b[34m\u001b[1mwandb\u001b[0m: Logging into wandb.ai. (Learn how to deploy a W&B server locally: https://wandb.me/wandb-server)\n",
      "\u001b[34m\u001b[1mwandb\u001b[0m: You can find your API key in your browser here: https://wandb.ai/authorize\n",
      "\u001b[34m\u001b[1mwandb\u001b[0m: Paste an API key from your profile and hit enter, or press ctrl+c to quit:\u001b[34m\u001b[1mwandb\u001b[0m: Appending key for api.wandb.ai to your netrc file: /Users/kyle/.netrc\n"
     ]
    },
    {
     "data": {
      "text/html": [
       "Tracking run with wandb version 0.16.1"
      ],
      "text/plain": [
       "<IPython.core.display.HTML object>"
      ]
     },
     "metadata": {},
     "output_type": "display_data"
    },
    {
     "data": {
      "text/html": [
       "Run data is saved locally in <code>/Users/kyle/repos/In-Context-Domain-Transfer-Improves-Out-of-Domain-Robustness/notebooks/wandb/run-20231219_171625-4tkjw4fr</code>"
      ],
      "text/plain": [
       "<IPython.core.display.HTML object>"
      ]
     },
     "metadata": {},
     "output_type": "display_data"
    },
    {
     "data": {
      "text/html": [
       "Syncing run <strong><a href='https://wandb.ai/healthyml/In-Context-Domain-Transfer-Improves-Out-of-Domain-Robustness-notebooks/runs/4tkjw4fr' target=\"_blank\">clean-sound-30</a></strong> to <a href='https://wandb.ai/healthyml/In-Context-Domain-Transfer-Improves-Out-of-Domain-Robustness-notebooks' target=\"_blank\">Weights & Biases</a> (<a href='https://wandb.me/run' target=\"_blank\">docs</a>)<br/>"
      ],
      "text/plain": [
       "<IPython.core.display.HTML object>"
      ]
     },
     "metadata": {},
     "output_type": "display_data"
    },
    {
     "data": {
      "text/html": [
       " View project at <a href='https://wandb.ai/healthyml/In-Context-Domain-Transfer-Improves-Out-of-Domain-Robustness-notebooks' target=\"_blank\">https://wandb.ai/healthyml/In-Context-Domain-Transfer-Improves-Out-of-Domain-Robustness-notebooks</a>"
      ],
      "text/plain": [
       "<IPython.core.display.HTML object>"
      ]
     },
     "metadata": {},
     "output_type": "display_data"
    },
    {
     "data": {
      "text/html": [
       " View run at <a href='https://wandb.ai/healthyml/In-Context-Domain-Transfer-Improves-Out-of-Domain-Robustness-notebooks/runs/4tkjw4fr' target=\"_blank\">https://wandb.ai/healthyml/In-Context-Domain-Transfer-Improves-Out-of-Domain-Robustness-notebooks/runs/4tkjw4fr</a>"
      ],
      "text/plain": [
       "<IPython.core.display.HTML object>"
      ]
     },
     "metadata": {},
     "output_type": "display_data"
    }
   ],
   "source": [
    "run = wandb.init()"
   ]
  },
  {
   "cell_type": "code",
   "execution_count": 4,
   "metadata": {},
   "outputs": [
    {
     "name": "stdout",
     "output_type": "stream",
     "text": [
      "None\n"
     ]
    }
   ],
   "source": [
    "def get_local_logs_path(directory):\n",
    "    try:\n",
    "        for contents in os.listdir(directory):\n",
    "            if contents.endswith(\"style_logs.table.json\"):\n",
    "                return os.path.join(directory, contents)\n",
    "\n",
    "            if os.path.isdir(os.path.join(directory, contents)):\n",
    "                return get_local_logs_path(os.path.join(directory, contents))\n",
    "    except:\n",
    "        # print(\"No style logs found in {}\".format(directory))\n",
    "        return None\n",
    "\n",
    "print(get_local_logs_path(\"data/BOSS_Toxicity_ID_BERT_Paraphrase\"))"
   ]
  },
  {
   "cell_type": "code",
   "execution_count": 5,
   "metadata": {},
   "outputs": [
    {
     "name": "stderr",
     "output_type": "stream",
     "text": [
      "  0%|          | 0/325 [00:00<?, ?it/s]"
     ]
    },
    {
     "name": "stdout",
     "output_type": "stream",
     "text": [
      "Downloading BOSS_Sentiment_ID_BERT_Insert --- healthyml/In-Context Domain Transfer Improves Out-of-Domain Robustness/run-omxsb0i7-validation_aug_insert_random_16_Kyle1668bosssentimentbertbaseuncased_style_logs:v0\n"
     ]
    },
    {
     "name": "stderr",
     "output_type": "stream",
     "text": [
      "\u001b[34m\u001b[1mwandb\u001b[0m: Downloading large artifact run-omxsb0i7-validation_aug_insert_random_16_Kyle1668bosssentimentbertbaseuncased_style_logs:v0, 145.67MB. 1 files... \n",
      "\u001b[34m\u001b[1mwandb\u001b[0m:   1 of 1 files downloaded.  \n",
      "Done. 0:0:23.5\n",
      "  0%|          | 1/325 [00:24<2:11:35, 24.37s/it]"
     ]
    },
    {
     "name": "stdout",
     "output_type": "stream",
     "text": [
      "Downloading BOSS_Sentiment_ID_BERT_Substitute --- healthyml/In-Context Domain Transfer Improves Out-of-Domain Robustness/run-omxsb0i7-validation_aug_substitute_random_16_Kyle1668bosssentimentbertbaseuncased_style_logs:v0\n"
     ]
    },
    {
     "name": "stderr",
     "output_type": "stream",
     "text": [
      "\u001b[34m\u001b[1mwandb\u001b[0m: Downloading large artifact run-omxsb0i7-validation_aug_substitute_random_16_Kyle1668bosssentimentbertbaseuncased_style_logs:v0, 140.16MB. 1 files... \n",
      "\u001b[34m\u001b[1mwandb\u001b[0m:   1 of 1 files downloaded.  \n",
      "Done. 0:0:22.9\n",
      "  1%|          | 2/325 [00:48<2:09:25, 24.04s/it]"
     ]
    },
    {
     "name": "stdout",
     "output_type": "stream",
     "text": [
      "Downloading BOSS_Sentiment_ID_BERT_Translate --- healthyml/In-Context Domain Transfer Improves Out-of-Domain Robustness/run-omxsb0i7-validation_aug_backtranslate_random_16_Kyle1668bosssentimentbertbaseuncased_style_logs:v0\n"
     ]
    },
    {
     "name": "stderr",
     "output_type": "stream",
     "text": [
      "\u001b[34m\u001b[1mwandb\u001b[0m: Downloading large artifact run-omxsb0i7-validation_aug_backtranslate_random_16_Kyle1668bosssentimentbertbaseuncased_style_logs:v0, 125.23MB. 1 files... \n",
      "\u001b[34m\u001b[1mwandb\u001b[0m:   1 of 1 files downloaded.  \n",
      "Done. 0:0:19.2\n",
      "  1%|          | 3/325 [01:08<1:59:08, 22.20s/it]"
     ]
    },
    {
     "name": "stdout",
     "output_type": "stream",
     "text": [
      "Downloading BOSS_Sentiment_ID_BERT_Paraphrase --- healthyml/In-Context Domain Transfer Improves Out-of-Domain Robustness/run-yanx1dus-validation_stabilityaiStableBeluga7b_random_0_Kyle1668bosssentimentbertbaseuncased_style_logs:v0\n"
     ]
    },
    {
     "name": "stderr",
     "output_type": "stream",
     "text": [
      "\u001b[34m\u001b[1mwandb\u001b[0m: Downloading large artifact run-yanx1dus-validation_stabilityaiStableBeluga7b_random_0_Kyle1668bosssentimentbertbaseuncased_style_logs:v0, 111.86MB. 1 files... \n",
      "\u001b[34m\u001b[1mwandb\u001b[0m:   1 of 1 files downloaded.  \n",
      "Done. 0:0:19.7\n",
      "  1%|          | 4/325 [01:28<1:55:15, 21.54s/it]"
     ]
    },
    {
     "name": "stdout",
     "output_type": "stream",
     "text": [
      "Downloading BOSS_Sentiment_ID_BERT_ICR --- healthyml/In-Context Domain Transfer Improves Out-of-Domain Robustness/run-yanx1dus-validation_stabilityaiStableBeluga7b_random_16_Kyle1668bosssentimentbertbaseuncased_style_logs:v0\n"
     ]
    },
    {
     "name": "stderr",
     "output_type": "stream",
     "text": [
      "\u001b[34m\u001b[1mwandb\u001b[0m: Downloading large artifact run-yanx1dus-validation_stabilityaiStableBeluga7b_random_16_Kyle1668bosssentimentbertbaseuncased_style_logs:v0, 180.63MB. 1 files... \n",
      "\u001b[34m\u001b[1mwandb\u001b[0m:   1 of 1 files downloaded.  \n",
      "Done. 0:0:28.4\n",
      "  2%|▏         | 5/325 [01:57<2:09:32, 24.29s/it]"
     ]
    },
    {
     "name": "stdout",
     "output_type": "stream",
     "text": [
      "Downloading BOSS_Sentiment_ID_T5_Insert --- healthyml/In-Context Domain Transfer Improves Out-of-Domain Robustness/run-omxsb0i7-validation_aug_insert_random_16_Kyle1668bosssentimentt5large_style_logs:v0\n"
     ]
    },
    {
     "name": "stderr",
     "output_type": "stream",
     "text": [
      "\u001b[34m\u001b[1mwandb\u001b[0m: Downloading large artifact run-omxsb0i7-validation_aug_insert_random_16_Kyle1668bosssentimentt5large_style_logs:v0, 102.50MB. 1 files... \n",
      "\u001b[34m\u001b[1mwandb\u001b[0m:   1 of 1 files downloaded.  \n",
      "Done. 0:0:18.4\n",
      "  2%|▏         | 6/325 [02:17<2:00:06, 22.59s/it]"
     ]
    },
    {
     "name": "stdout",
     "output_type": "stream",
     "text": [
      "Downloading BOSS_Sentiment_ID_T5_Substitute --- healthyml/In-Context Domain Transfer Improves Out-of-Domain Robustness/run-omxsb0i7-validation_aug_substitute_random_16_Kyle1668bosssentimentt5large_style_logs:v0\n"
     ]
    },
    {
     "name": "stderr",
     "output_type": "stream",
     "text": [
      "\u001b[34m\u001b[1mwandb\u001b[0m: Downloading large artifact run-omxsb0i7-validation_aug_substitute_random_16_Kyle1668bosssentimentt5large_style_logs:v0, 97.14MB. 1 files... \n",
      "\u001b[34m\u001b[1mwandb\u001b[0m:   1 of 1 files downloaded.  \n",
      "Done. 0:0:16.4\n",
      "  2%|▏         | 7/325 [02:34<1:50:07, 20.78s/it]"
     ]
    },
    {
     "name": "stdout",
     "output_type": "stream",
     "text": [
      "Downloading BOSS_Sentiment_ID_T5_Translate --- healthyml/In-Context Domain Transfer Improves Out-of-Domain Robustness/run-omxsb0i7-validation_aug_backtranslate_random_16_Kyle1668bosssentimentt5large_style_logs:v0\n"
     ]
    },
    {
     "name": "stderr",
     "output_type": "stream",
     "text": [
      "\u001b[34m\u001b[1mwandb\u001b[0m: Downloading large artifact run-omxsb0i7-validation_aug_backtranslate_random_16_Kyle1668bosssentimentt5large_style_logs:v0, 82.09MB. 1 files... \n",
      "\u001b[34m\u001b[1mwandb\u001b[0m:   1 of 1 files downloaded.  \n",
      "Done. 0:0:15.2\n",
      "  2%|▏         | 8/325 [02:50<1:41:38, 19.24s/it]"
     ]
    },
    {
     "name": "stdout",
     "output_type": "stream",
     "text": [
      "Downloading BOSS_Sentiment_ID_T5_Paraphrase --- healthyml/In-Context Domain Transfer Improves Out-of-Domain Robustness/run-yanx1dus-validation_stabilityaiStableBeluga7b_random_0_Kyle1668bosssentimentt5large_style_logs:v0\n"
     ]
    },
    {
     "name": "stderr",
     "output_type": "stream",
     "text": [
      "\u001b[34m\u001b[1mwandb\u001b[0m: Downloading large artifact run-yanx1dus-validation_stabilityaiStableBeluga7b_random_0_Kyle1668bosssentimentt5large_style_logs:v0, 88.67MB. 1 files... \n",
      "\u001b[34m\u001b[1mwandb\u001b[0m:   1 of 1 files downloaded.  \n",
      "Done. 0:0:29.2\n",
      "  3%|▎         | 9/325 [03:20<1:59:01, 22.60s/it]"
     ]
    },
    {
     "name": "stdout",
     "output_type": "stream",
     "text": [
      "Downloading BOSS_Sentiment_ID_T5_ICR --- healthyml/In-Context Domain Transfer Improves Out-of-Domain Robustness/run-yanx1dus-validation_stabilityaiStableBeluga7b_random_16_Kyle1668bosssentimentt5large_style_logs:v0\n"
     ]
    },
    {
     "name": "stderr",
     "output_type": "stream",
     "text": [
      "\u001b[34m\u001b[1mwandb\u001b[0m: Downloading large artifact run-yanx1dus-validation_stabilityaiStableBeluga7b_random_16_Kyle1668bosssentimentt5large_style_logs:v0, 154.92MB. 1 files... \n",
      "\u001b[34m\u001b[1mwandb\u001b[0m:   1 of 1 files downloaded.  \n",
      "Done. 0:0:40.4\n",
      "  3%|▎         | 10/325 [04:01<2:28:51, 28.35s/it]"
     ]
    },
    {
     "name": "stdout",
     "output_type": "stream",
     "text": [
      "Downloading BOSS_Sentiment_ID_Falcon_Insert --- healthyml/In-Context Domain Transfer Improves Out-of-Domain Robustness/run-omxsb0i7-validation_aug_insert_random_16_tiiuaefalcon7binstruct_style_logs:v0\n"
     ]
    },
    {
     "name": "stderr",
     "output_type": "stream",
     "text": [
      "\u001b[34m\u001b[1mwandb\u001b[0m: Downloading large artifact run-omxsb0i7-validation_aug_insert_random_16_tiiuaefalcon7binstruct_style_logs:v0, 971.72MB. 1 files... \n",
      "\u001b[34m\u001b[1mwandb\u001b[0m:   1 of 1 files downloaded.  \n",
      "Done. 0:4:50.5\n",
      "  3%|▎         | 11/325 [08:52<9:29:22, 108.80s/it]"
     ]
    },
    {
     "name": "stdout",
     "output_type": "stream",
     "text": [
      "Downloading BOSS_Sentiment_ID_Falcon_Substitute --- healthyml/In-Context Domain Transfer Improves Out-of-Domain Robustness/run-omxsb0i7-validation_aug_substitute_random_16_tiiuaefalcon7binstruct_style_logs:v0\n"
     ]
    },
    {
     "name": "stderr",
     "output_type": "stream",
     "text": [
      "\u001b[34m\u001b[1mwandb\u001b[0m: Downloading large artifact run-omxsb0i7-validation_aug_substitute_random_16_tiiuaefalcon7binstruct_style_logs:v0, 961.03MB. 1 files... \n",
      "\u001b[34m\u001b[1mwandb\u001b[0m:   1 of 1 files downloaded.  \n",
      "Done. 0:3:44.1\n",
      "  4%|▎         | 12/325 [12:37<12:31:46, 144.11s/it]"
     ]
    },
    {
     "name": "stdout",
     "output_type": "stream",
     "text": [
      "Downloading BOSS_Sentiment_ID_Falcon_Translate --- healthyml/In-Context Domain Transfer Improves Out-of-Domain Robustness/run-omxsb0i7-validation_aug_backtranslate_random_16_tiiuaefalcon7binstruct_style_logs:v0\n"
     ]
    },
    {
     "name": "stderr",
     "output_type": "stream",
     "text": [
      "\u001b[34m\u001b[1mwandb\u001b[0m: Downloading large artifact run-omxsb0i7-validation_aug_backtranslate_random_16_tiiuaefalcon7binstruct_style_logs:v0, 933.64MB. 1 files... \n",
      "\u001b[34m\u001b[1mwandb\u001b[0m:   1 of 1 files downloaded.  \n",
      "Done. 0:3:44.2\n",
      "  4%|▍         | 13/325 [16:22<14:36:43, 168.60s/it]"
     ]
    },
    {
     "name": "stdout",
     "output_type": "stream",
     "text": [
      "Downloading BOSS_Sentiment_ID_Falcon_Paraphrase --- healthyml/In-Context Domain Transfer Improves Out-of-Domain Robustness/run-yanx1dus-validation_stabilityaiStableBeluga7b_random_16_tiiuaefalcon7binstruct_style_logs:v0\n"
     ]
    },
    {
     "name": "stderr",
     "output_type": "stream",
     "text": [
      "\u001b[34m\u001b[1mwandb\u001b[0m: Downloading large artifact run-yanx1dus-validation_stabilityaiStableBeluga7b_random_16_tiiuaefalcon7binstruct_style_logs:v0, 1009.33MB. 1 files... \n",
      "\u001b[34m\u001b[1mwandb\u001b[0m:   1 of 1 files downloaded.  \n",
      "Done. 0:4:59.8\n",
      "  4%|▍         | 14/325 [21:24<18:02:18, 208.81s/it]"
     ]
    },
    {
     "name": "stdout",
     "output_type": "stream",
     "text": [
      "Downloading BOSS_Sentiment_ID_Falcon_ICR --- healthyml/In-Context Domain Transfer Improves Out-of-Domain Robustness/run-yanx1dus-validation_stabilityaiStableBeluga7b_random_16_tiiuaefalcon7binstruct_style_logs:v0\n"
     ]
    },
    {
     "name": "stderr",
     "output_type": "stream",
     "text": [
      "\u001b[34m\u001b[1mwandb\u001b[0m: Downloading large artifact run-yanx1dus-validation_stabilityaiStableBeluga7b_random_16_tiiuaefalcon7binstruct_style_logs:v0, 1009.33MB. 1 files... \n",
      "\u001b[34m\u001b[1mwandb\u001b[0m:   1 of 1 files downloaded.  \n",
      "Done. 0:0:0.6\n",
      "  5%|▍         | 15/325 [21:27<12:38:38, 146.83s/it]"
     ]
    },
    {
     "name": "stdout",
     "output_type": "stream",
     "text": [
      "Downloading BOSS_Sentiment_SST5_BERT_Insert --- healthyml/In-Context Domain Transfer Improves Out-of-Domain Robustness/run-omxsb0i7-sst5_aug_insert_random_16_Kyle1668bosssentimentbertbaseuncased_style_logs:v0\n"
     ]
    },
    {
     "name": "stderr",
     "output_type": "stream",
     "text": [
      "\u001b[34m\u001b[1mwandb\u001b[0m:   1 of 1 files downloaded.  \n",
      "  5%|▍         | 16/325 [21:29<8:52:16, 103.35s/it] "
     ]
    },
    {
     "name": "stdout",
     "output_type": "stream",
     "text": [
      "Downloading BOSS_Sentiment_SST5_BERT_Substitute --- healthyml/In-Context Domain Transfer Improves Out-of-Domain Robustness/run-omxsb0i7-sst5_aug_substitute_random_16_Kyle1668bosssentimentbertbaseuncased_style_logs:v0\n"
     ]
    },
    {
     "name": "stderr",
     "output_type": "stream",
     "text": [
      "\u001b[34m\u001b[1mwandb\u001b[0m:   1 of 1 files downloaded.  \n",
      "  5%|▌         | 17/325 [21:32<6:14:48, 73.02s/it] "
     ]
    },
    {
     "name": "stdout",
     "output_type": "stream",
     "text": [
      "Downloading BOSS_Sentiment_SST5_BERT_Translate --- healthyml/In-Context Domain Transfer Improves Out-of-Domain Robustness/run-omxsb0i7-sst5_aug_backtranslate_random_16_Kyle1668bosssentimentbertbaseuncased_style_logs:v0\n"
     ]
    },
    {
     "name": "stderr",
     "output_type": "stream",
     "text": [
      "\u001b[34m\u001b[1mwandb\u001b[0m:   1 of 1 files downloaded.  \n",
      "  6%|▌         | 18/325 [21:34<4:24:41, 51.73s/it]"
     ]
    },
    {
     "name": "stdout",
     "output_type": "stream",
     "text": [
      "Downloading BOSS_Sentiment_SST5_BERT_Paraphrase --- healthyml/In-Context Domain Transfer Improves Out-of-Domain Robustness/run-omxsb0i7-sst5_stabilityaiStableBeluga7b_random_0_Kyle1668bosssentimentbertbaseuncased_style_logs:v0\n"
     ]
    },
    {
     "name": "stderr",
     "output_type": "stream",
     "text": [
      "\u001b[34m\u001b[1mwandb\u001b[0m:   1 of 1 files downloaded.  \n",
      "  6%|▌         | 19/325 [21:36<3:07:33, 36.78s/it]"
     ]
    },
    {
     "name": "stdout",
     "output_type": "stream",
     "text": [
      "Downloading BOSS_Sentiment_SST5_BERT_ICR --- healthyml/In-Context Domain Transfer Improves Out-of-Domain Robustness/run-omxsb0i7-sst5_stabilityaiStableBeluga7b_random_16_Kyle1668bosssentimentbertbaseuncased_style_logs:v0\n"
     ]
    },
    {
     "name": "stderr",
     "output_type": "stream",
     "text": [
      "\u001b[34m\u001b[1mwandb\u001b[0m:   1 of 1 files downloaded.  \n",
      "  6%|▌         | 20/325 [21:39<2:15:05, 26.58s/it]"
     ]
    },
    {
     "name": "stdout",
     "output_type": "stream",
     "text": [
      "Downloading BOSS_Sentiment_Ablate_Data_SST5_BERT1500_Insert --- healthyml/In-Context Domain Transfer Improves Out-of-Domain Robustness/run-gdqehris-sst5_aug_insert_random_16_Kyle1668bosssentiment1500bertbaseuncased_style_logs:v0\n"
     ]
    },
    {
     "name": "stderr",
     "output_type": "stream",
     "text": [
      "\u001b[34m\u001b[1mwandb\u001b[0m:   1 of 1 files downloaded.  \n",
      "  6%|▋         | 21/325 [21:41<1:37:16, 19.20s/it]"
     ]
    },
    {
     "name": "stdout",
     "output_type": "stream",
     "text": [
      "Downloading BOSS_Sentiment_Ablate_Data_SST5_BERT1500_Substitute --- healthyml/In-Context Domain Transfer Improves Out-of-Domain Robustness/run-gdqehris-sst5_aug_substitute_random_16_Kyle1668bosssentiment1500bertbaseuncased_style_logs:v0\n"
     ]
    },
    {
     "name": "stderr",
     "output_type": "stream",
     "text": [
      "\u001b[34m\u001b[1mwandb\u001b[0m:   1 of 1 files downloaded.  \n",
      "  7%|▋         | 22/325 [21:42<1:10:11, 13.90s/it]"
     ]
    },
    {
     "name": "stdout",
     "output_type": "stream",
     "text": [
      "Downloading BOSS_Sentiment_Ablate_Data_SST5_BERT1500_Translate --- healthyml/In-Context Domain Transfer Improves Out-of-Domain Robustness/run-gdqehris-sst5_aug_backtranslate_random_16_Kyle1668bosssentiment1500bertbaseuncased_style_logs:v0\n"
     ]
    },
    {
     "name": "stderr",
     "output_type": "stream",
     "text": [
      "\u001b[34m\u001b[1mwandb\u001b[0m:   1 of 1 files downloaded.  \n",
      "  7%|▋         | 23/325 [21:44<51:18, 10.19s/it]  "
     ]
    },
    {
     "name": "stdout",
     "output_type": "stream",
     "text": [
      "Downloading BOSS_Sentiment_Ablate_Data_SST5_BERT1500_Paraphrase --- healthyml/In-Context Domain Transfer Improves Out-of-Domain Robustness/run-gdqehris-sst5_stabilityaiStableBeluga7b_random_0_Kyle1668bosssentiment1500bertbaseuncased_style_logs:v0\n"
     ]
    },
    {
     "name": "stderr",
     "output_type": "stream",
     "text": [
      "\u001b[34m\u001b[1mwandb\u001b[0m:   1 of 1 files downloaded.  \n",
      "  7%|▋         | 24/325 [21:45<38:13,  7.62s/it]"
     ]
    },
    {
     "name": "stdout",
     "output_type": "stream",
     "text": [
      "Downloading BOSS_Sentiment_Ablate_Data_SST5_BERT1500_ICR --- healthyml/In-Context Domain Transfer Improves Out-of-Domain Robustness/run-gdqehris-sst5_stabilityaiStableBeluga7b_random_16_Kyle1668bosssentiment1500bertbaseuncased_style_logs:v0\n"
     ]
    },
    {
     "name": "stderr",
     "output_type": "stream",
     "text": [
      "\u001b[34m\u001b[1mwandb\u001b[0m:   1 of 1 files downloaded.  \n",
      "  8%|▊         | 25/325 [21:47<29:52,  5.98s/it]"
     ]
    },
    {
     "name": "stdout",
     "output_type": "stream",
     "text": [
      "Downloading BOSS_Sentiment_Ablate_Data_SST5_BERT3000_Insert --- healthyml/In-Context Domain Transfer Improves Out-of-Domain Robustness/run-gfb8nevp-sst5_aug_insert_random_16_Kyle1668bosssentiment3000bertbaseuncased_style_logs:v0\n"
     ]
    },
    {
     "name": "stderr",
     "output_type": "stream",
     "text": [
      "\u001b[34m\u001b[1mwandb\u001b[0m:   1 of 1 files downloaded.  \n",
      "  8%|▊         | 26/325 [21:49<23:17,  4.68s/it]"
     ]
    },
    {
     "name": "stdout",
     "output_type": "stream",
     "text": [
      "Downloading BOSS_Sentiment_Ablate_Data_SST5_BERT3000_Substitute --- healthyml/In-Context Domain Transfer Improves Out-of-Domain Robustness/run-gfb8nevp-sst5_aug_substitute_random_16_Kyle1668bosssentiment3000bertbaseuncased_style_logs:v0\n"
     ]
    },
    {
     "name": "stderr",
     "output_type": "stream",
     "text": [
      "\u001b[34m\u001b[1mwandb\u001b[0m:   1 of 1 files downloaded.  \n",
      "  8%|▊         | 27/325 [21:51<18:49,  3.79s/it]"
     ]
    },
    {
     "name": "stdout",
     "output_type": "stream",
     "text": [
      "Downloading BOSS_Sentiment_Ablate_Data_SST5_BERT3000_Translate --- healthyml/In-Context Domain Transfer Improves Out-of-Domain Robustness/run-gfb8nevp-sst5_aug_backtranslate_random_16_Kyle1668bosssentiment3000bertbaseuncased_style_logs:v0\n"
     ]
    },
    {
     "name": "stderr",
     "output_type": "stream",
     "text": [
      "\u001b[34m\u001b[1mwandb\u001b[0m:   1 of 1 files downloaded.  \n",
      "  9%|▊         | 28/325 [21:52<15:19,  3.10s/it]"
     ]
    },
    {
     "name": "stdout",
     "output_type": "stream",
     "text": [
      "Downloading BOSS_Sentiment_Ablate_Data_SST5_BERT3000_Paraphrase --- healthyml/In-Context Domain Transfer Improves Out-of-Domain Robustness/run-gfb8nevp-sst5_stabilityaiStableBeluga7b_random_0_Kyle1668bosssentiment3000bertbaseuncased_style_logs:v0\n"
     ]
    },
    {
     "name": "stderr",
     "output_type": "stream",
     "text": [
      "\u001b[34m\u001b[1mwandb\u001b[0m:   1 of 1 files downloaded.  \n",
      "  9%|▉         | 29/325 [21:54<12:48,  2.59s/it]"
     ]
    },
    {
     "name": "stdout",
     "output_type": "stream",
     "text": [
      "Downloading BOSS_Sentiment_Ablate_Data_SST5_BERT3000_ICR --- healthyml/In-Context Domain Transfer Improves Out-of-Domain Robustness/run-gfb8nevp-sst5_stabilityaiStableBeluga7b_random_16_Kyle1668bosssentiment3000bertbaseuncased_style_logs:v0\n"
     ]
    },
    {
     "name": "stderr",
     "output_type": "stream",
     "text": [
      "\u001b[34m\u001b[1mwandb\u001b[0m:   1 of 1 files downloaded.  \n",
      "  9%|▉         | 30/325 [21:56<11:53,  2.42s/it]"
     ]
    },
    {
     "name": "stdout",
     "output_type": "stream",
     "text": [
      "Downloading BOSS_Sentiment_Ablate_Data_SST5_BERT6000_Insert --- healthyml/In-Context Domain Transfer Improves Out-of-Domain Robustness/run-hg6u172t-sst5_aug_insert_random_16_Kyle1668bosssentiment6000bertbaseuncased_style_logs:v0\n"
     ]
    },
    {
     "name": "stderr",
     "output_type": "stream",
     "text": [
      "\u001b[34m\u001b[1mwandb\u001b[0m:   1 of 1 files downloaded.  \n",
      " 10%|▉         | 31/325 [21:57<10:46,  2.20s/it]"
     ]
    },
    {
     "name": "stdout",
     "output_type": "stream",
     "text": [
      "Downloading BOSS_Sentiment_Ablate_Data_SST5_BERT6000_Substitute --- healthyml/In-Context Domain Transfer Improves Out-of-Domain Robustness/run-hg6u172t-sst5_aug_substitute_random_16_Kyle1668bosssentiment6000bertbaseuncased_style_logs:v0\n"
     ]
    },
    {
     "name": "stderr",
     "output_type": "stream",
     "text": [
      "\u001b[34m\u001b[1mwandb\u001b[0m:   1 of 1 files downloaded.  \n",
      " 10%|▉         | 32/325 [21:59<09:54,  2.03s/it]"
     ]
    },
    {
     "name": "stdout",
     "output_type": "stream",
     "text": [
      "Downloading BOSS_Sentiment_Ablate_Data_SST5_BERT6000_Translate --- healthyml/In-Context Domain Transfer Improves Out-of-Domain Robustness/run-hg6u172t-sst5_aug_backtranslate_random_16_Kyle1668bosssentiment6000bertbaseuncased_style_logs:v0\n"
     ]
    },
    {
     "name": "stderr",
     "output_type": "stream",
     "text": [
      "\u001b[34m\u001b[1mwandb\u001b[0m:   1 of 1 files downloaded.  \n",
      " 10%|█         | 33/325 [22:00<08:56,  1.84s/it]"
     ]
    },
    {
     "name": "stdout",
     "output_type": "stream",
     "text": [
      "Downloading BOSS_Sentiment_Ablate_Data_SST5_BERT6000_Paraphrase --- healthyml/In-Context Domain Transfer Improves Out-of-Domain Robustness/run-hg6u172t-sst5_stabilityaiStableBeluga7b_random_0_Kyle1668bosssentiment6000bertbaseuncased_style_logs:v0\n"
     ]
    },
    {
     "name": "stderr",
     "output_type": "stream",
     "text": [
      "\u001b[34m\u001b[1mwandb\u001b[0m:   1 of 1 files downloaded.  \n",
      " 10%|█         | 34/325 [22:03<09:50,  2.03s/it]"
     ]
    },
    {
     "name": "stdout",
     "output_type": "stream",
     "text": [
      "Downloading BOSS_Sentiment_Ablate_Data_SST5_BERT6000_ICR --- healthyml/In-Context Domain Transfer Improves Out-of-Domain Robustness/run-hg6u172t-sst5_stabilityaiStableBeluga7b_random_16_Kyle1668bosssentiment6000bertbaseuncased_style_logs:v0\n"
     ]
    },
    {
     "name": "stderr",
     "output_type": "stream",
     "text": [
      "\u001b[34m\u001b[1mwandb\u001b[0m:   1 of 1 files downloaded.  \n",
      " 11%|█         | 35/325 [22:05<09:38,  1.99s/it]"
     ]
    },
    {
     "name": "stdout",
     "output_type": "stream",
     "text": [
      "Downloading BOSS_Sentiment_Ablate_Data_SST5_BERT120000_Insert --- healthyml/In-Context Domain Transfer Improves Out-of-Domain Robustness/run-pv6dxpzt-sst5_aug_insert_random_16_Kyle1668bosssentiment12000bertbaseuncased_style_logs:v0\n"
     ]
    },
    {
     "name": "stderr",
     "output_type": "stream",
     "text": [
      "\u001b[34m\u001b[1mwandb\u001b[0m:   1 of 1 files downloaded.  \n",
      " 11%|█         | 36/325 [22:06<08:51,  1.84s/it]"
     ]
    },
    {
     "name": "stdout",
     "output_type": "stream",
     "text": [
      "Downloading BOSS_Sentiment_Ablate_Data_SST5_BERT120000_Substitute --- healthyml/In-Context Domain Transfer Improves Out-of-Domain Robustness/run-pv6dxpzt-sst5_aug_substitute_random_16_Kyle1668bosssentiment12000bertbaseuncased_style_logs:v0\n"
     ]
    },
    {
     "name": "stderr",
     "output_type": "stream",
     "text": [
      "\u001b[34m\u001b[1mwandb\u001b[0m:   1 of 1 files downloaded.  \n",
      " 11%|█▏        | 37/325 [22:08<08:22,  1.74s/it]"
     ]
    },
    {
     "name": "stdout",
     "output_type": "stream",
     "text": [
      "Downloading BOSS_Sentiment_Ablate_Data_SST5_BERT120000_Translate --- healthyml/In-Context Domain Transfer Improves Out-of-Domain Robustness/run-pv6dxpzt-sst5_aug_backtranslate_random_16_Kyle1668bosssentiment12000bertbaseuncased_style_logs:v0\n"
     ]
    },
    {
     "name": "stderr",
     "output_type": "stream",
     "text": [
      "\u001b[34m\u001b[1mwandb\u001b[0m:   1 of 1 files downloaded.  \n",
      " 12%|█▏        | 38/325 [22:10<08:19,  1.74s/it]"
     ]
    },
    {
     "name": "stdout",
     "output_type": "stream",
     "text": [
      "Downloading BOSS_Sentiment_Ablate_Data_SST5_BERT120000_Paraphrase --- healthyml/In-Context Domain Transfer Improves Out-of-Domain Robustness/run-pv6dxpzt-sst5_stabilityaiStableBeluga7b_random_0_Kyle1668bosssentiment12000bertbaseuncased_style_logs:v0\n"
     ]
    },
    {
     "name": "stderr",
     "output_type": "stream",
     "text": [
      "\u001b[34m\u001b[1mwandb\u001b[0m:   1 of 1 files downloaded.  \n",
      " 12%|█▏        | 39/325 [22:11<08:03,  1.69s/it]"
     ]
    },
    {
     "name": "stdout",
     "output_type": "stream",
     "text": [
      "Downloading BOSS_Sentiment_Ablate_Data_SST5_BERT120000_ICR --- healthyml/In-Context Domain Transfer Improves Out-of-Domain Robustness/run-pv6dxpzt-sst5_stabilityaiStableBeluga7b_random_16_Kyle1668bosssentiment12000bertbaseuncased_style_logs:v0\n"
     ]
    },
    {
     "name": "stderr",
     "output_type": "stream",
     "text": [
      "\u001b[34m\u001b[1mwandb\u001b[0m:   1 of 1 files downloaded.  \n",
      " 12%|█▏        | 40/325 [22:13<08:40,  1.83s/it]"
     ]
    },
    {
     "name": "stdout",
     "output_type": "stream",
     "text": [
      "Downloading BOSS_Sentiment_Ablate_Data_SST5_BERT24000_Insert --- healthyml/In-Context Domain Transfer Improves Out-of-Domain Robustness/run-ujjjnolk-sst5_aug_insert_random_16_Kyle1668bosssentiment24000bertbaseuncased_style_logs:v0\n"
     ]
    },
    {
     "name": "stderr",
     "output_type": "stream",
     "text": [
      "\u001b[34m\u001b[1mwandb\u001b[0m:   1 of 1 files downloaded.  \n",
      " 13%|█▎        | 41/325 [22:16<10:35,  2.24s/it]"
     ]
    },
    {
     "name": "stdout",
     "output_type": "stream",
     "text": [
      "Downloading BOSS_Sentiment_Ablate_Data_SST5_BERT24000_Substitute --- healthyml/In-Context Domain Transfer Improves Out-of-Domain Robustness/run-ujjjnolk-sst5_aug_substitute_random_16_Kyle1668bosssentiment24000bertbaseuncased_style_logs:v0\n"
     ]
    },
    {
     "name": "stderr",
     "output_type": "stream",
     "text": [
      "\u001b[34m\u001b[1mwandb\u001b[0m:   1 of 1 files downloaded.  \n",
      " 13%|█▎        | 42/325 [22:18<09:42,  2.06s/it]"
     ]
    },
    {
     "name": "stdout",
     "output_type": "stream",
     "text": [
      "Downloading BOSS_Sentiment_Ablate_Data_SST5_BERT24000_Translate --- healthyml/In-Context Domain Transfer Improves Out-of-Domain Robustness/run-ujjjnolk-sst5_aug_backtranslate_random_16_Kyle1668bosssentiment24000bertbaseuncased_style_logs:v0\n"
     ]
    },
    {
     "name": "stderr",
     "output_type": "stream",
     "text": [
      "\u001b[34m\u001b[1mwandb\u001b[0m:   1 of 1 files downloaded.  \n",
      " 13%|█▎        | 43/325 [22:20<08:46,  1.87s/it]"
     ]
    },
    {
     "name": "stdout",
     "output_type": "stream",
     "text": [
      "Downloading BOSS_Sentiment_Ablate_Data_SST5_BERT24000_Paraphrase --- healthyml/In-Context Domain Transfer Improves Out-of-Domain Robustness/run-ujjjnolk-sst5_stabilityaiStableBeluga7b_random_0_Kyle1668bosssentiment24000bertbaseuncased_style_logs:v0\n"
     ]
    },
    {
     "name": "stderr",
     "output_type": "stream",
     "text": [
      "\u001b[34m\u001b[1mwandb\u001b[0m:   1 of 1 files downloaded.  \n",
      " 14%|█▎        | 44/325 [22:21<08:32,  1.82s/it]"
     ]
    },
    {
     "name": "stdout",
     "output_type": "stream",
     "text": [
      "Downloading BOSS_Sentiment_Ablate_Data_SST5_BERT24000_ICR --- healthyml/In-Context Domain Transfer Improves Out-of-Domain Robustness/run-ujjjnolk-sst5_stabilityaiStableBeluga7b_random_16_Kyle1668bosssentiment24000bertbaseuncased_style_logs:v0\n"
     ]
    },
    {
     "name": "stderr",
     "output_type": "stream",
     "text": [
      "\u001b[34m\u001b[1mwandb\u001b[0m:   1 of 1 files downloaded.  \n",
      " 14%|█▍        | 45/325 [22:26<12:11,  2.61s/it]"
     ]
    },
    {
     "name": "stdout",
     "output_type": "stream",
     "text": [
      "Downloading BOSS_Sentiment_SST5_T5_Insert --- healthyml/In-Context Domain Transfer Improves Out-of-Domain Robustness/run-omxsb0i7-sst5_aug_insert_random_16_Kyle1668bosssentimentt5large_style_logs:v0\n"
     ]
    },
    {
     "name": "stderr",
     "output_type": "stream",
     "text": [
      "\u001b[34m\u001b[1mwandb\u001b[0m:   1 of 1 files downloaded.  \n",
      " 14%|█▍        | 46/325 [22:27<10:28,  2.25s/it]"
     ]
    },
    {
     "name": "stdout",
     "output_type": "stream",
     "text": [
      "Downloading BOSS_Sentiment_SST5_T5_Substitute --- healthyml/In-Context Domain Transfer Improves Out-of-Domain Robustness/run-omxsb0i7-sst5_aug_substitute_random_16_Kyle1668bosssentimentt5large_style_logs:v0\n"
     ]
    },
    {
     "name": "stderr",
     "output_type": "stream",
     "text": [
      "\u001b[34m\u001b[1mwandb\u001b[0m:   1 of 1 files downloaded.  \n",
      " 14%|█▍        | 47/325 [22:28<09:06,  1.96s/it]"
     ]
    },
    {
     "name": "stdout",
     "output_type": "stream",
     "text": [
      "Downloading BOSS_Sentiment_SST5_T5_Translate --- healthyml/In-Context Domain Transfer Improves Out-of-Domain Robustness/run-omxsb0i7-sst5_aug_backtranslate_random_16_Kyle1668bosssentimentt5large_style_logs:v0\n"
     ]
    },
    {
     "name": "stderr",
     "output_type": "stream",
     "text": [
      "\u001b[34m\u001b[1mwandb\u001b[0m:   1 of 1 files downloaded.  \n",
      " 15%|█▍        | 48/325 [22:30<08:12,  1.78s/it]"
     ]
    },
    {
     "name": "stdout",
     "output_type": "stream",
     "text": [
      "Downloading BOSS_Sentiment_SST5_T5_Paraphrase --- healthyml/In-Context Domain Transfer Improves Out-of-Domain Robustness/run-omxsb0i7-sst5_stabilityaiStableBeluga7b_random_0_Kyle1668bosssentimentt5large_style_logs:v0\n"
     ]
    },
    {
     "name": "stderr",
     "output_type": "stream",
     "text": [
      "\u001b[34m\u001b[1mwandb\u001b[0m:   1 of 1 files downloaded.  \n",
      " 15%|█▌        | 49/325 [22:32<08:16,  1.80s/it]"
     ]
    },
    {
     "name": "stdout",
     "output_type": "stream",
     "text": [
      "Downloading BOSS_Sentiment_SST5_T5_ICR --- healthyml/In-Context Domain Transfer Improves Out-of-Domain Robustness/run-omxsb0i7-sst5_stabilityaiStableBeluga7b_random_16_Kyle1668bosssentimentt5large_style_logs:v0\n"
     ]
    },
    {
     "name": "stderr",
     "output_type": "stream",
     "text": [
      "\u001b[34m\u001b[1mwandb\u001b[0m:   1 of 1 files downloaded.  \n",
      " 15%|█▌        | 50/325 [22:33<08:00,  1.75s/it]"
     ]
    },
    {
     "name": "stdout",
     "output_type": "stream",
     "text": [
      "Downloading BOSS_Sentiment_SST5_Falcon_Insert --- healthyml/In-Context Domain Transfer Improves Out-of-Domain Robustness/run-omxsb0i7-sst5_aug_insert_random_16_tiiuaefalcon7binstruct_style_logs:v0\n"
     ]
    },
    {
     "name": "stderr",
     "output_type": "stream",
     "text": [
      "\u001b[34m\u001b[1mwandb\u001b[0m:   1 of 1 files downloaded.  \n",
      " 16%|█▌        | 51/325 [22:39<13:38,  2.99s/it]"
     ]
    },
    {
     "name": "stdout",
     "output_type": "stream",
     "text": [
      "Downloading BOSS_Sentiment_SST5_Falcon_Substitute --- healthyml/In-Context Domain Transfer Improves Out-of-Domain Robustness/run-omxsb0i7-sst5_aug_substitute_random_16_tiiuaefalcon7binstruct_style_logs:v0\n"
     ]
    },
    {
     "name": "stderr",
     "output_type": "stream",
     "text": [
      "\u001b[34m\u001b[1mwandb\u001b[0m:   1 of 1 files downloaded.  \n",
      " 16%|█▌        | 52/325 [22:46<18:15,  4.01s/it]"
     ]
    },
    {
     "name": "stdout",
     "output_type": "stream",
     "text": [
      "Downloading BOSS_Sentiment_SST5_Falcon_Translate --- healthyml/In-Context Domain Transfer Improves Out-of-Domain Robustness/run-omxsb0i7-sst5_aug_backtranslate_random_16_tiiuaefalcon7binstruct_style_logs:v0\n"
     ]
    },
    {
     "name": "stderr",
     "output_type": "stream",
     "text": [
      "\u001b[34m\u001b[1mwandb\u001b[0m:   1 of 1 files downloaded.  \n",
      " 16%|█▋        | 53/325 [22:52<21:24,  4.72s/it]"
     ]
    },
    {
     "name": "stdout",
     "output_type": "stream",
     "text": [
      "Downloading BOSS_Sentiment_SST5_Falcon_Paraphrase --- healthyml/In-Context Domain Transfer Improves Out-of-Domain Robustness/run-omxsb0i7-sst5_stabilityaiStableBeluga7b_random_0_tiiuaefalcon7binstruct_style_logs:v0\n"
     ]
    },
    {
     "name": "stderr",
     "output_type": "stream",
     "text": [
      "\u001b[34m\u001b[1mwandb\u001b[0m:   1 of 1 files downloaded.  \n",
      " 17%|█▋        | 54/325 [23:02<28:35,  6.33s/it]"
     ]
    },
    {
     "name": "stdout",
     "output_type": "stream",
     "text": [
      "Downloading BOSS_Sentiment_SST5_Falcon_ICR --- healthyml/In-Context Domain Transfer Improves Out-of-Domain Robustness/run-omxsb0i7-sst5_stabilityaiStableBeluga7b_random_16_tiiuaefalcon7binstruct_style_logs:v0\n"
     ]
    },
    {
     "name": "stderr",
     "output_type": "stream",
     "text": [
      "\u001b[34m\u001b[1mwandb\u001b[0m:   1 of 1 files downloaded.  \n",
      " 17%|█▋        | 55/325 [23:09<29:24,  6.53s/it]"
     ]
    },
    {
     "name": "stdout",
     "output_type": "stream",
     "text": [
      "Downloading BOSS_Sentiment_SemEval_BERT_Insert --- healthyml/In-Context Domain Transfer Improves Out-of-Domain Robustness/run-omxsb0i7-semval_aug_insert_random_16_Kyle1668bosssentimentbertbaseuncased_style_logs:v0\n"
     ]
    },
    {
     "name": "stderr",
     "output_type": "stream",
     "text": [
      "\u001b[34m\u001b[1mwandb\u001b[0m:   1 of 1 files downloaded.  \n",
      " 17%|█▋        | 56/325 [23:18<33:02,  7.37s/it]"
     ]
    },
    {
     "name": "stdout",
     "output_type": "stream",
     "text": [
      "Downloading BOSS_Sentiment_SemEval_BERT_Substitute --- healthyml/In-Context Domain Transfer Improves Out-of-Domain Robustness/run-omxsb0i7-semval_aug_substitute_random_16_Kyle1668bosssentimentbertbaseuncased_style_logs:v0\n"
     ]
    },
    {
     "name": "stderr",
     "output_type": "stream",
     "text": [
      "\u001b[34m\u001b[1mwandb\u001b[0m:   1 of 1 files downloaded.  \n",
      " 18%|█▊        | 57/325 [23:29<37:08,  8.31s/it]"
     ]
    },
    {
     "name": "stdout",
     "output_type": "stream",
     "text": [
      "Downloading BOSS_Sentiment_SemEval_BERT_Translate --- healthyml/In-Context Domain Transfer Improves Out-of-Domain Robustness/run-omxsb0i7-semval_aug_backtranslate_random_16_Kyle1668bosssentimentbertbaseuncased_style_logs:v0\n"
     ]
    },
    {
     "name": "stderr",
     "output_type": "stream",
     "text": [
      "\u001b[34m\u001b[1mwandb\u001b[0m:   1 of 1 files downloaded.  \n",
      " 18%|█▊        | 58/325 [23:38<37:57,  8.53s/it]"
     ]
    },
    {
     "name": "stdout",
     "output_type": "stream",
     "text": [
      "Downloading BOSS_Sentiment_SemEval_BERT_Paraphrase --- healthyml/In-Context Domain Transfer Improves Out-of-Domain Robustness/run-omxsb0i7-semval_stabilityaiStableBeluga7b_random_0_Kyle1668bosssentimentbertbaseuncased_style_logs:v0\n"
     ]
    },
    {
     "name": "stderr",
     "output_type": "stream",
     "text": [
      "\u001b[34m\u001b[1mwandb\u001b[0m: Downloading large artifact run-omxsb0i7-semval_stabilityaiStableBeluga7b_random_0_Kyle1668bosssentimentbertbaseuncased_style_logs:v0, 50.80MB. 1 files... \n",
      "\u001b[34m\u001b[1mwandb\u001b[0m:   1 of 1 files downloaded.  \n",
      "Done. 0:0:12.7\n",
      " 18%|█▊        | 59/325 [23:51<44:17,  9.99s/it]"
     ]
    },
    {
     "name": "stdout",
     "output_type": "stream",
     "text": [
      "Downloading BOSS_Sentiment_SemEval_BERT_ICR --- healthyml/In-Context Domain Transfer Improves Out-of-Domain Robustness/run-omxsb0i7-semval_stabilityaiStableBeluga7b_random_16_Kyle1668bosssentimentbertbaseuncased_style_logs:v0\n"
     ]
    },
    {
     "name": "stderr",
     "output_type": "stream",
     "text": [
      "\u001b[34m\u001b[1mwandb\u001b[0m: Downloading large artifact run-omxsb0i7-semval_stabilityaiStableBeluga7b_random_16_Kyle1668bosssentimentbertbaseuncased_style_logs:v0, 83.17MB. 1 files... \n",
      "\u001b[34m\u001b[1mwandb\u001b[0m:   1 of 1 files downloaded.  \n",
      "Done. 0:0:23.9\n",
      " 18%|█▊        | 60/325 [24:16<1:03:39, 14.41s/it]"
     ]
    },
    {
     "name": "stdout",
     "output_type": "stream",
     "text": [
      "Downloading BOSS_Sentiment_Ablate_Data_SemEval_BERT1500_Insert --- healthyml/In-Context Domain Transfer Improves Out-of-Domain Robustness/run-gdqehris-semval_aug_insert_random_16_Kyle1668bosssentiment1500bertbaseuncased_style_logs:v0\n"
     ]
    },
    {
     "name": "stderr",
     "output_type": "stream",
     "text": [
      "\u001b[34m\u001b[1mwandb\u001b[0m:   1 of 1 files downloaded.  \n",
      " 19%|█▉        | 61/325 [24:29<1:01:53, 14.07s/it]"
     ]
    },
    {
     "name": "stdout",
     "output_type": "stream",
     "text": [
      "Downloading BOSS_Sentiment_Ablate_Data_SemEval_BERT1500_Substitute --- healthyml/In-Context Domain Transfer Improves Out-of-Domain Robustness/run-gdqehris-semval_aug_substitute_random_16_Kyle1668bosssentiment1500bertbaseuncased_style_logs:v0\n"
     ]
    },
    {
     "name": "stderr",
     "output_type": "stream",
     "text": [
      "\u001b[34m\u001b[1mwandb\u001b[0m:   1 of 1 files downloaded.  \n",
      " 19%|█▉        | 62/325 [24:42<1:00:09, 13.72s/it]"
     ]
    },
    {
     "name": "stdout",
     "output_type": "stream",
     "text": [
      "Downloading BOSS_Sentiment_Ablate_Data_SemEval_BERT1500_Translate --- healthyml/In-Context Domain Transfer Improves Out-of-Domain Robustness/run-gdqehris-semval_aug_backtranslate_random_16_Kyle1668bosssentiment1500bertbaseuncased_style_logs:v0\n"
     ]
    },
    {
     "name": "stderr",
     "output_type": "stream",
     "text": [
      "\u001b[34m\u001b[1mwandb\u001b[0m:   1 of 1 files downloaded.  \n",
      " 19%|█▉        | 63/325 [24:53<56:37, 12.97s/it]  "
     ]
    },
    {
     "name": "stdout",
     "output_type": "stream",
     "text": [
      "Downloading BOSS_Sentiment_Ablate_Data_SemEval_BERT1500_Paraphrase --- healthyml/In-Context Domain Transfer Improves Out-of-Domain Robustness/run-gdqehris-semval_stabilityaiStableBeluga7b_random_0_Kyle1668bosssentiment1500bertbaseuncased_style_logs:v0\n"
     ]
    },
    {
     "name": "stderr",
     "output_type": "stream",
     "text": [
      "\u001b[34m\u001b[1mwandb\u001b[0m: Downloading large artifact run-gdqehris-semval_stabilityaiStableBeluga7b_random_0_Kyle1668bosssentiment1500bertbaseuncased_style_logs:v0, 51.12MB. 1 files... \n",
      "\u001b[34m\u001b[1mwandb\u001b[0m:   1 of 1 files downloaded.  \n",
      "Done. 0:0:9.6\n",
      " 20%|█▉        | 64/325 [25:04<52:52, 12.16s/it]"
     ]
    },
    {
     "name": "stdout",
     "output_type": "stream",
     "text": [
      "Downloading BOSS_Sentiment_Ablate_Data_SemEval_BERT1500_ICR --- healthyml/In-Context Domain Transfer Improves Out-of-Domain Robustness/run-gdqehris-semval_stabilityaiStableBeluga7b_random_16_Kyle1668bosssentiment1500bertbaseuncased_style_logs:v0\n"
     ]
    },
    {
     "name": "stderr",
     "output_type": "stream",
     "text": [
      "\u001b[34m\u001b[1mwandb\u001b[0m: Downloading large artifact run-gdqehris-semval_stabilityaiStableBeluga7b_random_16_Kyle1668bosssentiment1500bertbaseuncased_style_logs:v0, 83.50MB. 1 files... \n",
      "\u001b[34m\u001b[1mwandb\u001b[0m:   1 of 1 files downloaded.  \n",
      "Done. 0:0:15.0\n",
      " 20%|██        | 65/325 [25:19<57:18, 13.22s/it]"
     ]
    },
    {
     "name": "stdout",
     "output_type": "stream",
     "text": [
      "Downloading BOSS_Sentiment_Ablate_Data_SemEval_BERT3000_Insert --- healthyml/In-Context Domain Transfer Improves Out-of-Domain Robustness/run-gfb8nevp-semval_aug_insert_random_16_Kyle1668bosssentiment3000bertbaseuncased_style_logs:v0\n"
     ]
    },
    {
     "name": "stderr",
     "output_type": "stream",
     "text": [
      "\u001b[34m\u001b[1mwandb\u001b[0m:   1 of 1 files downloaded.  \n",
      " 20%|██        | 66/325 [25:29<52:47, 12.23s/it]"
     ]
    },
    {
     "name": "stdout",
     "output_type": "stream",
     "text": [
      "Downloading BOSS_Sentiment_Ablate_Data_SemEval_BERT3000_Substitute --- healthyml/In-Context Domain Transfer Improves Out-of-Domain Robustness/run-gfb8nevp-semval_aug_substitute_random_16_Kyle1668bosssentiment3000bertbaseuncased_style_logs:v0\n"
     ]
    },
    {
     "name": "stderr",
     "output_type": "stream",
     "text": [
      "\u001b[34m\u001b[1mwandb\u001b[0m:   1 of 1 files downloaded.  \n",
      " 21%|██        | 67/325 [25:39<49:09, 11.43s/it]"
     ]
    },
    {
     "name": "stdout",
     "output_type": "stream",
     "text": [
      "Downloading BOSS_Sentiment_Ablate_Data_SemEval_BERT3000_Translate --- healthyml/In-Context Domain Transfer Improves Out-of-Domain Robustness/run-gfb8nevp-semval_aug_backtranslate_random_16_Kyle1668bosssentiment3000bertbaseuncased_style_logs:v0\n"
     ]
    },
    {
     "name": "stderr",
     "output_type": "stream",
     "text": [
      "\u001b[34m\u001b[1mwandb\u001b[0m:   1 of 1 files downloaded.  \n",
      " 21%|██        | 68/325 [25:49<47:40, 11.13s/it]"
     ]
    },
    {
     "name": "stdout",
     "output_type": "stream",
     "text": [
      "Downloading BOSS_Sentiment_Ablate_Data_SemEval_BERT3000_Paraphrase --- healthyml/In-Context Domain Transfer Improves Out-of-Domain Robustness/run-gfb8nevp-semval_stabilityaiStableBeluga7b_random_0_Kyle1668bosssentiment3000bertbaseuncased_style_logs:v0\n"
     ]
    },
    {
     "name": "stderr",
     "output_type": "stream",
     "text": [
      "\u001b[34m\u001b[1mwandb\u001b[0m: Downloading large artifact run-gfb8nevp-semval_stabilityaiStableBeluga7b_random_0_Kyle1668bosssentiment3000bertbaseuncased_style_logs:v0, 50.78MB. 1 files... \n",
      "\u001b[34m\u001b[1mwandb\u001b[0m:   1 of 1 files downloaded.  \n",
      "Done. 0:0:13.2\n",
      " 21%|██        | 69/325 [26:03<51:11, 12.00s/it]"
     ]
    },
    {
     "name": "stdout",
     "output_type": "stream",
     "text": [
      "Downloading BOSS_Sentiment_Ablate_Data_SemEval_BERT3000_ICR --- healthyml/In-Context Domain Transfer Improves Out-of-Domain Robustness/run-gfb8nevp-semval_stabilityaiStableBeluga7b_random_16_Kyle1668bosssentiment3000bertbaseuncased_style_logs:v0\n"
     ]
    },
    {
     "name": "stderr",
     "output_type": "stream",
     "text": [
      "\u001b[34m\u001b[1mwandb\u001b[0m: Downloading large artifact run-gfb8nevp-semval_stabilityaiStableBeluga7b_random_16_Kyle1668bosssentiment3000bertbaseuncased_style_logs:v0, 83.14MB. 1 files... \n",
      "\u001b[34m\u001b[1mwandb\u001b[0m:   1 of 1 files downloaded.  \n",
      "Done. 0:0:23.9\n",
      " 22%|██▏       | 70/325 [26:28<1:07:10, 15.80s/it]"
     ]
    },
    {
     "name": "stdout",
     "output_type": "stream",
     "text": [
      "Downloading BOSS_Sentiment_Ablate_Data_SemEval_BERT6000_Insert --- healthyml/In-Context Domain Transfer Improves Out-of-Domain Robustness/run-hg6u172t-semval_aug_insert_random_16_Kyle1668bosssentiment6000bertbaseuncased_style_logs:v0\n"
     ]
    },
    {
     "name": "stderr",
     "output_type": "stream",
     "text": [
      "\u001b[34m\u001b[1mwandb\u001b[0m:   1 of 1 files downloaded.  \n",
      " 22%|██▏       | 71/325 [26:41<1:03:55, 15.10s/it]"
     ]
    },
    {
     "name": "stdout",
     "output_type": "stream",
     "text": [
      "Downloading BOSS_Sentiment_Ablate_Data_SemEval_BERT6000_Substitute --- healthyml/In-Context Domain Transfer Improves Out-of-Domain Robustness/run-hg6u172t-semval_aug_substitute_random_16_Kyle1668bosssentiment6000bertbaseuncased_style_logs:v0\n"
     ]
    },
    {
     "name": "stderr",
     "output_type": "stream",
     "text": [
      "\u001b[34m\u001b[1mwandb\u001b[0m:   1 of 1 files downloaded.  \n",
      " 22%|██▏       | 72/325 [26:54<59:53, 14.20s/it]  "
     ]
    },
    {
     "name": "stdout",
     "output_type": "stream",
     "text": [
      "Downloading BOSS_Sentiment_Ablate_Data_SemEval_BERT6000_Translate --- healthyml/In-Context Domain Transfer Improves Out-of-Domain Robustness/run-hg6u172t-semval_aug_backtranslate_random_16_Kyle1668bosssentiment6000bertbaseuncased_style_logs:v0\n"
     ]
    },
    {
     "name": "stderr",
     "output_type": "stream",
     "text": [
      "\u001b[34m\u001b[1mwandb\u001b[0m:   1 of 1 files downloaded.  \n",
      " 22%|██▏       | 73/325 [27:02<52:27, 12.49s/it]"
     ]
    },
    {
     "name": "stdout",
     "output_type": "stream",
     "text": [
      "Downloading BOSS_Sentiment_Ablate_Data_SemEval_BERT6000_Paraphrase --- healthyml/In-Context Domain Transfer Improves Out-of-Domain Robustness/run-hg6u172t-semval_stabilityaiStableBeluga7b_random_0_Kyle1668bosssentiment6000bertbaseuncased_style_logs:v0\n"
     ]
    },
    {
     "name": "stderr",
     "output_type": "stream",
     "text": [
      "\u001b[34m\u001b[1mwandb\u001b[0m: Downloading large artifact run-hg6u172t-semval_stabilityaiStableBeluga7b_random_0_Kyle1668bosssentiment6000bertbaseuncased_style_logs:v0, 51.53MB. 1 files... \n",
      "\u001b[34m\u001b[1mwandb\u001b[0m:   1 of 1 files downloaded.  \n",
      "Done. 0:0:8.8\n",
      " 23%|██▎       | 74/325 [27:12<48:36, 11.62s/it]"
     ]
    },
    {
     "name": "stdout",
     "output_type": "stream",
     "text": [
      "Downloading BOSS_Sentiment_Ablate_Data_SemEval_BERT6000_ICR --- healthyml/In-Context Domain Transfer Improves Out-of-Domain Robustness/run-hg6u172t-semval_stabilityaiStableBeluga7b_random_16_Kyle1668bosssentiment6000bertbaseuncased_style_logs:v0\n"
     ]
    },
    {
     "name": "stderr",
     "output_type": "stream",
     "text": [
      "\u001b[34m\u001b[1mwandb\u001b[0m: Downloading large artifact run-hg6u172t-semval_stabilityaiStableBeluga7b_random_16_Kyle1668bosssentiment6000bertbaseuncased_style_logs:v0, 83.91MB. 1 files... \n",
      "\u001b[34m\u001b[1mwandb\u001b[0m:   1 of 1 files downloaded.  \n",
      "Done. 0:0:13.8\n",
      " 23%|██▎       | 75/325 [27:26<52:00, 12.48s/it]"
     ]
    },
    {
     "name": "stdout",
     "output_type": "stream",
     "text": [
      "Downloading BOSS_Sentiment_Ablate_Data_SemEval_BERT120000_Insert --- healthyml/In-Context Domain Transfer Improves Out-of-Domain Robustness/run-pv6dxpzt-semval_aug_insert_random_16_Kyle1668bosssentiment12000bertbaseuncased_style_logs:v0\n"
     ]
    },
    {
     "name": "stderr",
     "output_type": "stream",
     "text": [
      "\u001b[34m\u001b[1mwandb\u001b[0m: Downloading large artifact run-pv6dxpzt-semval_aug_insert_random_16_Kyle1668bosssentiment12000bertbaseuncased_style_logs:v0, 50.08MB. 1 files... \n",
      "\u001b[34m\u001b[1mwandb\u001b[0m:   1 of 1 files downloaded.  \n",
      "Done. 0:0:8.6\n",
      " 23%|██▎       | 76/325 [27:36<47:57, 11.56s/it]"
     ]
    },
    {
     "name": "stdout",
     "output_type": "stream",
     "text": [
      "Downloading BOSS_Sentiment_Ablate_Data_SemEval_BERT120000_Substitute --- healthyml/In-Context Domain Transfer Improves Out-of-Domain Robustness/run-pv6dxpzt-semval_aug_substitute_random_16_Kyle1668bosssentiment12000bertbaseuncased_style_logs:v0\n"
     ]
    },
    {
     "name": "stderr",
     "output_type": "stream",
     "text": [
      "\u001b[34m\u001b[1mwandb\u001b[0m:   1 of 1 files downloaded.  \n",
      " 24%|██▎       | 77/325 [27:45<45:13, 10.94s/it]"
     ]
    },
    {
     "name": "stdout",
     "output_type": "stream",
     "text": [
      "Downloading BOSS_Sentiment_Ablate_Data_SemEval_BERT120000_Translate --- healthyml/In-Context Domain Transfer Improves Out-of-Domain Robustness/run-pv6dxpzt-semval_aug_backtranslate_random_16_Kyle1668bosssentiment12000bertbaseuncased_style_logs:v0\n"
     ]
    },
    {
     "name": "stderr",
     "output_type": "stream",
     "text": [
      "\u001b[34m\u001b[1mwandb\u001b[0m:   1 of 1 files downloaded.  \n",
      " 24%|██▍       | 78/325 [27:58<47:10, 11.46s/it]"
     ]
    },
    {
     "name": "stdout",
     "output_type": "stream",
     "text": [
      "Downloading BOSS_Sentiment_Ablate_Data_SemEval_BERT120000_Paraphrase --- healthyml/In-Context Domain Transfer Improves Out-of-Domain Robustness/run-pv6dxpzt-semval_stabilityaiStableBeluga7b_random_0_Kyle1668bosssentiment12000bertbaseuncased_style_logs:v0\n"
     ]
    },
    {
     "name": "stderr",
     "output_type": "stream",
     "text": [
      "\u001b[34m\u001b[1mwandb\u001b[0m: Downloading large artifact run-pv6dxpzt-semval_stabilityaiStableBeluga7b_random_0_Kyle1668bosssentiment12000bertbaseuncased_style_logs:v0, 51.98MB. 1 files... \n",
      "\u001b[34m\u001b[1mwandb\u001b[0m:   1 of 1 files downloaded.  \n",
      "Done. 0:0:10.2\n",
      " 24%|██▍       | 79/325 [28:09<46:15, 11.28s/it]"
     ]
    },
    {
     "name": "stdout",
     "output_type": "stream",
     "text": [
      "Downloading BOSS_Sentiment_Ablate_Data_SemEval_BERT120000_ICR --- healthyml/In-Context Domain Transfer Improves Out-of-Domain Robustness/run-pv6dxpzt-semval_stabilityaiStableBeluga7b_random_16_Kyle1668bosssentiment12000bertbaseuncased_style_logs:v0\n"
     ]
    },
    {
     "name": "stderr",
     "output_type": "stream",
     "text": [
      "\u001b[34m\u001b[1mwandb\u001b[0m: Downloading large artifact run-pv6dxpzt-semval_stabilityaiStableBeluga7b_random_16_Kyle1668bosssentiment12000bertbaseuncased_style_logs:v0, 84.35MB. 1 files... \n",
      "\u001b[34m\u001b[1mwandb\u001b[0m:   1 of 1 files downloaded.  \n",
      "Done. 0:0:17.8\n",
      " 25%|██▍       | 80/325 [28:27<54:55, 13.45s/it]"
     ]
    },
    {
     "name": "stdout",
     "output_type": "stream",
     "text": [
      "Downloading BOSS_Sentiment_Ablate_Data_SemEval_BERT24000_Insert --- healthyml/In-Context Domain Transfer Improves Out-of-Domain Robustness/run-ujjjnolk-semval_aug_insert_random_16_Kyle1668bosssentiment24000bertbaseuncased_style_logs:v0\n"
     ]
    },
    {
     "name": "stderr",
     "output_type": "stream",
     "text": [
      "\u001b[34m\u001b[1mwandb\u001b[0m:   1 of 1 files downloaded.  \n",
      " 25%|██▍       | 81/325 [28:39<52:37, 12.94s/it]"
     ]
    },
    {
     "name": "stdout",
     "output_type": "stream",
     "text": [
      "Downloading BOSS_Sentiment_Ablate_Data_SemEval_BERT24000_Substitute --- healthyml/In-Context Domain Transfer Improves Out-of-Domain Robustness/run-ujjjnolk-semval_aug_substitute_random_16_Kyle1668bosssentiment24000bertbaseuncased_style_logs:v0\n"
     ]
    },
    {
     "name": "stderr",
     "output_type": "stream",
     "text": [
      "\u001b[34m\u001b[1mwandb\u001b[0m:   1 of 1 files downloaded.  \n",
      " 25%|██▌       | 82/325 [28:50<50:08, 12.38s/it]"
     ]
    },
    {
     "name": "stdout",
     "output_type": "stream",
     "text": [
      "Downloading BOSS_Sentiment_Ablate_Data_SemEval_BERT24000_Translate --- healthyml/In-Context Domain Transfer Improves Out-of-Domain Robustness/run-ujjjnolk-semval_aug_backtranslate_random_16_Kyle1668bosssentiment24000bertbaseuncased_style_logs:v0\n"
     ]
    },
    {
     "name": "stderr",
     "output_type": "stream",
     "text": [
      "\u001b[34m\u001b[1mwandb\u001b[0m:   1 of 1 files downloaded.  \n",
      " 26%|██▌       | 83/325 [29:01<48:40, 12.07s/it]"
     ]
    },
    {
     "name": "stdout",
     "output_type": "stream",
     "text": [
      "Downloading BOSS_Sentiment_Ablate_Data_SemEval_BERT24000_Paraphrase --- healthyml/In-Context Domain Transfer Improves Out-of-Domain Robustness/run-ujjjnolk-semval_stabilityaiStableBeluga7b_random_0_Kyle1668bosssentiment24000bertbaseuncased_style_logs:v0\n"
     ]
    },
    {
     "name": "stderr",
     "output_type": "stream",
     "text": [
      "\u001b[34m\u001b[1mwandb\u001b[0m: Downloading large artifact run-ujjjnolk-semval_stabilityaiStableBeluga7b_random_0_Kyle1668bosssentiment24000bertbaseuncased_style_logs:v0, 50.92MB. 1 files... \n",
      "\u001b[34m\u001b[1mwandb\u001b[0m:   1 of 1 files downloaded.  \n",
      "Done. 0:0:10.8\n",
      " 26%|██▌       | 84/325 [29:13<47:48, 11.90s/it]"
     ]
    },
    {
     "name": "stdout",
     "output_type": "stream",
     "text": [
      "Downloading BOSS_Sentiment_Ablate_Data_SemEval_BERT24000_ICR --- healthyml/In-Context Domain Transfer Improves Out-of-Domain Robustness/run-ujjjnolk-semval_stabilityaiStableBeluga7b_random_16_Kyle1668bosssentiment24000bertbaseuncased_style_logs:v0\n"
     ]
    },
    {
     "name": "stderr",
     "output_type": "stream",
     "text": [
      "\u001b[34m\u001b[1mwandb\u001b[0m: Downloading large artifact run-ujjjnolk-semval_stabilityaiStableBeluga7b_random_16_Kyle1668bosssentiment24000bertbaseuncased_style_logs:v0, 83.30MB. 1 files... \n",
      "\u001b[34m\u001b[1mwandb\u001b[0m:   1 of 1 files downloaded.  \n",
      "Done. 0:0:14.4\n",
      " 26%|██▌       | 85/325 [29:30<54:07, 13.53s/it]"
     ]
    },
    {
     "name": "stdout",
     "output_type": "stream",
     "text": [
      "Downloading BOSS_Sentiment_SemEval_T5_Insert --- healthyml/In-Context Domain Transfer Improves Out-of-Domain Robustness/run-omxsb0i7-semval_aug_insert_random_16_Kyle1668bosssentimentt5large_style_logs:v0\n"
     ]
    },
    {
     "name": "stderr",
     "output_type": "stream",
     "text": [
      "\u001b[34m\u001b[1mwandb\u001b[0m:   1 of 1 files downloaded.  \n",
      " 26%|██▋       | 86/325 [29:36<44:13, 11.10s/it]"
     ]
    },
    {
     "name": "stdout",
     "output_type": "stream",
     "text": [
      "Downloading BOSS_Sentiment_SemEval_T5_Substitute --- healthyml/In-Context Domain Transfer Improves Out-of-Domain Robustness/run-omxsb0i7-semval_aug_substitute_random_16_Kyle1668bosssentimentt5large_style_logs:v0\n"
     ]
    },
    {
     "name": "stderr",
     "output_type": "stream",
     "text": [
      "\u001b[34m\u001b[1mwandb\u001b[0m:   1 of 1 files downloaded.  \n",
      " 27%|██▋       | 87/325 [29:42<38:04,  9.60s/it]"
     ]
    },
    {
     "name": "stdout",
     "output_type": "stream",
     "text": [
      "Downloading BOSS_Sentiment_SemEval_T5_Translate --- healthyml/In-Context Domain Transfer Improves Out-of-Domain Robustness/run-omxsb0i7-semval_aug_backtranslate_random_16_Kyle1668bosssentimentt5large_style_logs:v0\n"
     ]
    },
    {
     "name": "stderr",
     "output_type": "stream",
     "text": [
      "\u001b[34m\u001b[1mwandb\u001b[0m:   1 of 1 files downloaded.  \n",
      " 27%|██▋       | 88/325 [29:47<32:48,  8.31s/it]"
     ]
    },
    {
     "name": "stdout",
     "output_type": "stream",
     "text": [
      "Downloading BOSS_Sentiment_SemEval_T5_Paraphrase --- healthyml/In-Context Domain Transfer Improves Out-of-Domain Robustness/run-omxsb0i7-semval_stabilityaiStableBeluga7b_random_0_Kyle1668bosssentimentt5large_style_logs:v0\n"
     ]
    },
    {
     "name": "stderr",
     "output_type": "stream",
     "text": [
      "\u001b[34m\u001b[1mwandb\u001b[0m:   1 of 1 files downloaded.  \n",
      " 27%|██▋       | 89/325 [29:53<30:03,  7.64s/it]"
     ]
    },
    {
     "name": "stdout",
     "output_type": "stream",
     "text": [
      "Downloading BOSS_Sentiment_SemEval_T5_ICR --- healthyml/In-Context Domain Transfer Improves Out-of-Domain Robustness/run-omxsb0i7-semval_stabilityaiStableBeluga7b_random_16_Kyle1668bosssentimentt5large_style_logs:v0\n"
     ]
    },
    {
     "name": "stderr",
     "output_type": "stream",
     "text": [
      "\u001b[34m\u001b[1mwandb\u001b[0m: Downloading large artifact run-omxsb0i7-semval_stabilityaiStableBeluga7b_random_16_Kyle1668bosssentimentt5large_style_logs:v0, 60.93MB. 1 files... \n",
      "\u001b[34m\u001b[1mwandb\u001b[0m:   1 of 1 files downloaded.  \n",
      "Done. 0:0:10.0\n",
      " 28%|██▊       | 90/325 [30:04<33:32,  8.56s/it]"
     ]
    },
    {
     "name": "stdout",
     "output_type": "stream",
     "text": [
      "Downloading BOSS_Sentiment_SemEval_Falcon_Insert --- healthyml/In-Context Domain Transfer Improves Out-of-Domain Robustness/run-omxsb0i7-semval_aug_insert_random_16_tiiuaefalcon7binstruct_style_logs:v0\n"
     ]
    },
    {
     "name": "stderr",
     "output_type": "stream",
     "text": [
      "\u001b[34m\u001b[1mwandb\u001b[0m: Downloading large artifact run-omxsb0i7-semval_aug_insert_random_16_tiiuaefalcon7binstruct_style_logs:v0, 468.98MB. 1 files... \n",
      "\u001b[34m\u001b[1mwandb\u001b[0m:   1 of 1 files downloaded.  \n",
      "Done. 0:1:42.4\n",
      " 28%|██▊       | 91/325 [31:47<2:24:02, 36.93s/it]"
     ]
    },
    {
     "name": "stdout",
     "output_type": "stream",
     "text": [
      "Downloading BOSS_Sentiment_SemEval_Falcon_Substitute --- healthyml/In-Context Domain Transfer Improves Out-of-Domain Robustness/run-omxsb0i7-semval_aug_substitute_random_16_tiiuaefalcon7binstruct_style_logs:v0\n"
     ]
    },
    {
     "name": "stderr",
     "output_type": "stream",
     "text": [
      "\u001b[34m\u001b[1mwandb\u001b[0m: Downloading large artifact run-omxsb0i7-semval_aug_substitute_random_16_tiiuaefalcon7binstruct_style_logs:v0, 461.40MB. 1 files... \n",
      "\u001b[34m\u001b[1mwandb\u001b[0m:   1 of 1 files downloaded.  \n",
      "Done. 0:1:20.7\n",
      " 28%|██▊       | 92/325 [33:08<3:15:16, 50.28s/it]"
     ]
    },
    {
     "name": "stdout",
     "output_type": "stream",
     "text": [
      "Downloading BOSS_Sentiment_SemEval_Falcon_Translate --- healthyml/In-Context Domain Transfer Improves Out-of-Domain Robustness/run-omxsb0i7-semval_aug_backtranslate_random_16_tiiuaefalcon7binstruct_style_logs:v0\n"
     ]
    },
    {
     "name": "stderr",
     "output_type": "stream",
     "text": [
      "\u001b[34m\u001b[1mwandb\u001b[0m: Downloading large artifact run-omxsb0i7-semval_aug_backtranslate_random_16_tiiuaefalcon7binstruct_style_logs:v0, 460.69MB. 1 files... \n",
      "\u001b[34m\u001b[1mwandb\u001b[0m:   1 of 1 files downloaded.  \n",
      "Done. 0:1:15.6\n",
      " 29%|██▊       | 93/325 [34:25<3:44:37, 58.09s/it]"
     ]
    },
    {
     "name": "stdout",
     "output_type": "stream",
     "text": [
      "Downloading BOSS_Sentiment_SemEval_Falcon_Paraphrase --- healthyml/In-Context Domain Transfer Improves Out-of-Domain Robustness/run-omxsb0i7-semval_stabilityaiStableBeluga7b_random_0_tiiuaefalcon7binstruct_style_logs:v0\n"
     ]
    },
    {
     "name": "stderr",
     "output_type": "stream",
     "text": [
      "\u001b[34m\u001b[1mwandb\u001b[0m: Downloading large artifact run-omxsb0i7-semval_stabilityaiStableBeluga7b_random_0_tiiuaefalcon7binstruct_style_logs:v0, 467.23MB. 1 files... \n",
      "\u001b[34m\u001b[1mwandb\u001b[0m:   1 of 1 files downloaded.  \n",
      "Done. 0:1:13.2\n",
      " 29%|██▉       | 94/325 [35:39<4:01:57, 62.84s/it]"
     ]
    },
    {
     "name": "stdout",
     "output_type": "stream",
     "text": [
      "Downloading BOSS_Sentiment_SemEval_Falcon_ICR --- healthyml/In-Context Domain Transfer Improves Out-of-Domain Robustness/run-omxsb0i7-semval_stabilityaiStableBeluga7b_random_16_tiiuaefalcon7binstruct_style_logs:v0\n"
     ]
    },
    {
     "name": "stderr",
     "output_type": "stream",
     "text": [
      "\u001b[34m\u001b[1mwandb\u001b[0m: Downloading large artifact run-omxsb0i7-semval_stabilityaiStableBeluga7b_random_16_tiiuaefalcon7binstruct_style_logs:v0, 500.84MB. 1 files... \n",
      "\u001b[34m\u001b[1mwandb\u001b[0m:   1 of 1 files downloaded.  \n",
      "Done. 0:1:19.4\n",
      " 29%|██▉       | 95/325 [36:59<4:20:46, 68.03s/it]"
     ]
    },
    {
     "name": "stdout",
     "output_type": "stream",
     "text": [
      "Downloading BOSS_Sentiment_Dynasent_BERT_Insert --- healthyml/In-Context Domain Transfer Improves Out-of-Domain Robustness/run-omxsb0i7-dynasent_aug_insert_random_16_Kyle1668bosssentimentbertbaseuncased_style_logs:v0\n"
     ]
    },
    {
     "name": "stderr",
     "output_type": "stream",
     "text": [
      "\u001b[34m\u001b[1mwandb\u001b[0m:   1 of 1 files downloaded.  \n",
      " 30%|██▉       | 96/325 [37:01<3:04:40, 48.38s/it]"
     ]
    },
    {
     "name": "stdout",
     "output_type": "stream",
     "text": [
      "Downloading BOSS_Sentiment_Dynasent_BERT_Substitute --- healthyml/In-Context Domain Transfer Improves Out-of-Domain Robustness/run-omxsb0i7-dynasent_aug_substitute_random_16_Kyle1668bosssentimentbertbaseuncased_style_logs:v0\n"
     ]
    },
    {
     "name": "stderr",
     "output_type": "stream",
     "text": [
      "\u001b[34m\u001b[1mwandb\u001b[0m:   1 of 1 files downloaded.  \n",
      " 30%|██▉       | 97/325 [37:03<2:11:16, 34.54s/it]"
     ]
    },
    {
     "name": "stdout",
     "output_type": "stream",
     "text": [
      "Downloading BOSS_Sentiment_Dynasent_BERT_Translate --- healthyml/In-Context Domain Transfer Improves Out-of-Domain Robustness/run-omxsb0i7-dynasent_aug_backtranslate_random_16_Kyle1668bosssentimentbertbaseuncased_style_logs:v0\n"
     ]
    },
    {
     "name": "stderr",
     "output_type": "stream",
     "text": [
      "\u001b[34m\u001b[1mwandb\u001b[0m:   1 of 1 files downloaded.  \n",
      " 30%|███       | 98/325 [37:06<1:34:00, 24.85s/it]"
     ]
    },
    {
     "name": "stdout",
     "output_type": "stream",
     "text": [
      "Downloading BOSS_Sentiment_Dynasent_BERT_Paraphrase --- healthyml/In-Context Domain Transfer Improves Out-of-Domain Robustness/run-omxsb0i7-dynasent_stabilityaiStableBeluga7b_random_0_Kyle1668bosssentimentbertbaseuncased_style_logs:v0\n"
     ]
    },
    {
     "name": "stderr",
     "output_type": "stream",
     "text": [
      "\u001b[34m\u001b[1mwandb\u001b[0m:   1 of 1 files downloaded.  \n",
      " 30%|███       | 99/325 [37:08<1:08:12, 18.11s/it]"
     ]
    },
    {
     "name": "stdout",
     "output_type": "stream",
     "text": [
      "Downloading BOSS_Sentiment_Dynasent_BERT_ICR --- healthyml/In-Context Domain Transfer Improves Out-of-Domain Robustness/run-omxsb0i7-dynasent_stabilityaiStableBeluga7b_random_16_Kyle1668bosssentimentbertbaseuncased_style_logs:v0\n"
     ]
    },
    {
     "name": "stderr",
     "output_type": "stream",
     "text": [
      "\u001b[34m\u001b[1mwandb\u001b[0m:   1 of 1 files downloaded.  \n",
      " 31%|███       | 100/325 [37:12<51:28, 13.73s/it] "
     ]
    },
    {
     "name": "stdout",
     "output_type": "stream",
     "text": [
      "Downloading BOSS_Sentiment_Ablate_Data_Dynasent_BERT1500_Insert --- healthyml/In-Context Domain Transfer Improves Out-of-Domain Robustness/run-gdqehris-dynasent_aug_insert_random_16_Kyle1668bosssentiment1500bertbaseuncased_style_logs:v0\n"
     ]
    },
    {
     "name": "stderr",
     "output_type": "stream",
     "text": [
      "\u001b[34m\u001b[1mwandb\u001b[0m:   1 of 1 files downloaded.  \n",
      " 31%|███       | 101/325 [37:14<38:36, 10.34s/it]"
     ]
    },
    {
     "name": "stdout",
     "output_type": "stream",
     "text": [
      "Downloading BOSS_Sentiment_Ablate_Data_Dynasent_BERT1500_Substitute --- healthyml/In-Context Domain Transfer Improves Out-of-Domain Robustness/run-gdqehris-dynasent_aug_substitute_random_16_Kyle1668bosssentiment1500bertbaseuncased_style_logs:v0\n"
     ]
    },
    {
     "name": "stderr",
     "output_type": "stream",
     "text": [
      "\u001b[34m\u001b[1mwandb\u001b[0m:   1 of 1 files downloaded.  \n",
      " 31%|███▏      | 102/325 [37:16<29:29,  7.93s/it]"
     ]
    },
    {
     "name": "stdout",
     "output_type": "stream",
     "text": [
      "Downloading BOSS_Sentiment_Ablate_Data_Dynasent_BERT1500_Translate --- healthyml/In-Context Domain Transfer Improves Out-of-Domain Robustness/run-gdqehris-dynasent_aug_backtranslate_random_16_Kyle1668bosssentiment1500bertbaseuncased_style_logs:v0\n"
     ]
    },
    {
     "name": "stderr",
     "output_type": "stream",
     "text": [
      "\u001b[34m\u001b[1mwandb\u001b[0m:   1 of 1 files downloaded.  \n",
      " 32%|███▏      | 103/325 [37:19<23:02,  6.23s/it]"
     ]
    },
    {
     "name": "stdout",
     "output_type": "stream",
     "text": [
      "Downloading BOSS_Sentiment_Ablate_Data_Dynasent_BERT1500_Paraphrase --- healthyml/In-Context Domain Transfer Improves Out-of-Domain Robustness/run-gdqehris-dynasent_stabilityaiStableBeluga7b_random_0_Kyle1668bosssentiment1500bertbaseuncased_style_logs:v0\n"
     ]
    },
    {
     "name": "stderr",
     "output_type": "stream",
     "text": [
      "\u001b[34m\u001b[1mwandb\u001b[0m:   1 of 1 files downloaded.  \n",
      " 32%|███▏      | 104/325 [37:21<18:55,  5.14s/it]"
     ]
    },
    {
     "name": "stdout",
     "output_type": "stream",
     "text": [
      "Downloading BOSS_Sentiment_Ablate_Data_Dynasent_BERT1500_ICR --- healthyml/In-Context Domain Transfer Improves Out-of-Domain Robustness/run-gdqehris-dynasent_stabilityaiStableBeluga7b_random_16_Kyle1668bosssentiment1500bertbaseuncased_style_logs:v0\n"
     ]
    },
    {
     "name": "stderr",
     "output_type": "stream",
     "text": [
      "\u001b[34m\u001b[1mwandb\u001b[0m:   1 of 1 files downloaded.  \n",
      " 32%|███▏      | 105/325 [37:25<17:19,  4.73s/it]"
     ]
    },
    {
     "name": "stdout",
     "output_type": "stream",
     "text": [
      "Downloading BOSS_Sentiment_Ablate_Data_Dynasent_BERT3000_Insert --- healthyml/In-Context Domain Transfer Improves Out-of-Domain Robustness/run-gfb8nevp-dynasent_aug_insert_random_16_Kyle1668bosssentiment3000bertbaseuncased_style_logs:v0\n"
     ]
    },
    {
     "name": "stderr",
     "output_type": "stream",
     "text": [
      "\u001b[34m\u001b[1mwandb\u001b[0m:   1 of 1 files downloaded.  \n",
      " 33%|███▎      | 106/325 [37:27<14:39,  4.01s/it]"
     ]
    },
    {
     "name": "stdout",
     "output_type": "stream",
     "text": [
      "Downloading BOSS_Sentiment_Ablate_Data_Dynasent_BERT3000_Substitute --- healthyml/In-Context Domain Transfer Improves Out-of-Domain Robustness/run-gfb8nevp-dynasent_aug_substitute_random_16_Kyle1668bosssentiment3000bertbaseuncased_style_logs:v0\n"
     ]
    },
    {
     "name": "stderr",
     "output_type": "stream",
     "text": [
      "\u001b[34m\u001b[1mwandb\u001b[0m:   1 of 1 files downloaded.  \n",
      " 33%|███▎      | 107/325 [37:30<12:47,  3.52s/it]"
     ]
    },
    {
     "name": "stdout",
     "output_type": "stream",
     "text": [
      "Downloading BOSS_Sentiment_Ablate_Data_Dynasent_BERT3000_Translate --- healthyml/In-Context Domain Transfer Improves Out-of-Domain Robustness/run-gfb8nevp-dynasent_aug_backtranslate_random_16_Kyle1668bosssentiment3000bertbaseuncased_style_logs:v0\n"
     ]
    },
    {
     "name": "stderr",
     "output_type": "stream",
     "text": [
      "\u001b[34m\u001b[1mwandb\u001b[0m:   1 of 1 files downloaded.  \n",
      " 33%|███▎      | 108/325 [37:32<11:20,  3.14s/it]"
     ]
    },
    {
     "name": "stdout",
     "output_type": "stream",
     "text": [
      "Downloading BOSS_Sentiment_Ablate_Data_Dynasent_BERT3000_Paraphrase --- healthyml/In-Context Domain Transfer Improves Out-of-Domain Robustness/run-gfb8nevp-dynasent_stabilityaiStableBeluga7b_random_0_Kyle1668bosssentiment3000bertbaseuncased_style_logs:v0\n"
     ]
    },
    {
     "name": "stderr",
     "output_type": "stream",
     "text": [
      "\u001b[34m\u001b[1mwandb\u001b[0m:   1 of 1 files downloaded.  \n",
      " 34%|███▎      | 109/325 [37:35<10:46,  2.99s/it]"
     ]
    },
    {
     "name": "stdout",
     "output_type": "stream",
     "text": [
      "Downloading BOSS_Sentiment_Ablate_Data_Dynasent_BERT3000_ICR --- healthyml/In-Context Domain Transfer Improves Out-of-Domain Robustness/run-gfb8nevp-dynasent_stabilityaiStableBeluga7b_random_16_Kyle1668bosssentiment3000bertbaseuncased_style_logs:v0\n"
     ]
    },
    {
     "name": "stderr",
     "output_type": "stream",
     "text": [
      "\u001b[34m\u001b[1mwandb\u001b[0m:   1 of 1 files downloaded.  \n",
      " 34%|███▍      | 110/325 [37:38<11:00,  3.07s/it]"
     ]
    },
    {
     "name": "stdout",
     "output_type": "stream",
     "text": [
      "Downloading BOSS_Sentiment_Ablate_Data_Dynasent_BERT6000_Insert --- healthyml/In-Context Domain Transfer Improves Out-of-Domain Robustness/run-hg6u172t-dynasent_aug_insert_random_16_Kyle1668bosssentiment6000bertbaseuncased_style_logs:v0\n"
     ]
    },
    {
     "name": "stderr",
     "output_type": "stream",
     "text": [
      "\u001b[34m\u001b[1mwandb\u001b[0m:   1 of 1 files downloaded.  \n",
      " 34%|███▍      | 111/325 [37:40<10:12,  2.86s/it]"
     ]
    },
    {
     "name": "stdout",
     "output_type": "stream",
     "text": [
      "Downloading BOSS_Sentiment_Ablate_Data_Dynasent_BERT6000_Substitute --- healthyml/In-Context Domain Transfer Improves Out-of-Domain Robustness/run-hg6u172t-dynasent_aug_substitute_random_16_Kyle1668bosssentiment6000bertbaseuncased_style_logs:v0\n"
     ]
    },
    {
     "name": "stderr",
     "output_type": "stream",
     "text": [
      "\u001b[34m\u001b[1mwandb\u001b[0m:   1 of 1 files downloaded.  \n",
      " 34%|███▍      | 112/325 [37:42<09:30,  2.68s/it]"
     ]
    },
    {
     "name": "stdout",
     "output_type": "stream",
     "text": [
      "Downloading BOSS_Sentiment_Ablate_Data_Dynasent_BERT6000_Translate --- healthyml/In-Context Domain Transfer Improves Out-of-Domain Robustness/run-hg6u172t-dynasent_aug_backtranslate_random_16_Kyle1668bosssentiment6000bertbaseuncased_style_logs:v0\n"
     ]
    },
    {
     "name": "stderr",
     "output_type": "stream",
     "text": [
      "\u001b[34m\u001b[1mwandb\u001b[0m:   1 of 1 files downloaded.  \n",
      " 35%|███▍      | 113/325 [37:45<08:55,  2.53s/it]"
     ]
    },
    {
     "name": "stdout",
     "output_type": "stream",
     "text": [
      "Downloading BOSS_Sentiment_Ablate_Data_Dynasent_BERT6000_Paraphrase --- healthyml/In-Context Domain Transfer Improves Out-of-Domain Robustness/run-hg6u172t-dynasent_stabilityaiStableBeluga7b_random_0_Kyle1668bosssentiment6000bertbaseuncased_style_logs:v0\n"
     ]
    },
    {
     "name": "stderr",
     "output_type": "stream",
     "text": [
      "\u001b[34m\u001b[1mwandb\u001b[0m:   1 of 1 files downloaded.  \n",
      " 35%|███▌      | 114/325 [37:47<09:03,  2.57s/it]"
     ]
    },
    {
     "name": "stdout",
     "output_type": "stream",
     "text": [
      "Downloading BOSS_Sentiment_Ablate_Data_Dynasent_BERT6000_ICR --- healthyml/In-Context Domain Transfer Improves Out-of-Domain Robustness/run-hg6u172t-dynasent_stabilityaiStableBeluga7b_random_16_Kyle1668bosssentiment6000bertbaseuncased_style_logs:v0\n"
     ]
    },
    {
     "name": "stderr",
     "output_type": "stream",
     "text": [
      "\u001b[34m\u001b[1mwandb\u001b[0m:   1 of 1 files downloaded.  \n",
      " 35%|███▌      | 115/325 [37:51<09:42,  2.77s/it]"
     ]
    },
    {
     "name": "stdout",
     "output_type": "stream",
     "text": [
      "Downloading BOSS_Sentiment_Ablate_Data_Dynasent_BERT120000_Insert --- healthyml/In-Context Domain Transfer Improves Out-of-Domain Robustness/run-pv6dxpzt-dynasent_aug_insert_random_16_Kyle1668bosssentiment12000bertbaseuncased_style_logs:v0\n"
     ]
    },
    {
     "name": "stderr",
     "output_type": "stream",
     "text": [
      "\u001b[34m\u001b[1mwandb\u001b[0m:   1 of 1 files downloaded.  \n",
      " 36%|███▌      | 116/325 [37:53<09:20,  2.68s/it]"
     ]
    },
    {
     "name": "stdout",
     "output_type": "stream",
     "text": [
      "Downloading BOSS_Sentiment_Ablate_Data_Dynasent_BERT120000_Substitute --- healthyml/In-Context Domain Transfer Improves Out-of-Domain Robustness/run-pv6dxpzt-dynasent_aug_substitute_random_16_Kyle1668bosssentiment12000bertbaseuncased_style_logs:v0\n"
     ]
    },
    {
     "name": "stderr",
     "output_type": "stream",
     "text": [
      "\u001b[34m\u001b[1mwandb\u001b[0m:   1 of 1 files downloaded.  \n",
      " 36%|███▌      | 117/325 [37:55<09:03,  2.61s/it]"
     ]
    },
    {
     "name": "stdout",
     "output_type": "stream",
     "text": [
      "Downloading BOSS_Sentiment_Ablate_Data_Dynasent_BERT120000_Translate --- healthyml/In-Context Domain Transfer Improves Out-of-Domain Robustness/run-pv6dxpzt-dynasent_aug_backtranslate_random_16_Kyle1668bosssentiment12000bertbaseuncased_style_logs:v0\n"
     ]
    },
    {
     "name": "stderr",
     "output_type": "stream",
     "text": [
      "\u001b[34m\u001b[1mwandb\u001b[0m:   1 of 1 files downloaded.  \n",
      " 36%|███▋      | 118/325 [37:58<08:40,  2.51s/it]"
     ]
    },
    {
     "name": "stdout",
     "output_type": "stream",
     "text": [
      "Downloading BOSS_Sentiment_Ablate_Data_Dynasent_BERT120000_Paraphrase --- healthyml/In-Context Domain Transfer Improves Out-of-Domain Robustness/run-pv6dxpzt-dynasent_stabilityaiStableBeluga7b_random_0_Kyle1668bosssentiment12000bertbaseuncased_style_logs:v0\n"
     ]
    },
    {
     "name": "stderr",
     "output_type": "stream",
     "text": [
      "\u001b[34m\u001b[1mwandb\u001b[0m:   1 of 1 files downloaded.  \n",
      " 37%|███▋      | 119/325 [38:00<08:38,  2.52s/it]"
     ]
    },
    {
     "name": "stdout",
     "output_type": "stream",
     "text": [
      "Downloading BOSS_Sentiment_Ablate_Data_Dynasent_BERT120000_ICR --- healthyml/In-Context Domain Transfer Improves Out-of-Domain Robustness/run-pv6dxpzt-dynasent_stabilityaiStableBeluga7b_random_16_Kyle1668bosssentiment12000bertbaseuncased_style_logs:v0\n"
     ]
    },
    {
     "name": "stderr",
     "output_type": "stream",
     "text": [
      "\u001b[34m\u001b[1mwandb\u001b[0m:   1 of 1 files downloaded.  \n",
      " 37%|███▋      | 120/325 [38:04<09:27,  2.77s/it]"
     ]
    },
    {
     "name": "stdout",
     "output_type": "stream",
     "text": [
      "Downloading BOSS_Sentiment_Ablate_Data_Dynasent_BERT24000_Insert --- healthyml/In-Context Domain Transfer Improves Out-of-Domain Robustness/run-ujjjnolk-dynasent_aug_insert_random_16_Kyle1668bosssentiment24000bertbaseuncased_style_logs:v0\n"
     ]
    },
    {
     "name": "stderr",
     "output_type": "stream",
     "text": [
      "\u001b[34m\u001b[1mwandb\u001b[0m:   1 of 1 files downloaded.  \n",
      " 37%|███▋      | 121/325 [38:06<09:04,  2.67s/it]"
     ]
    },
    {
     "name": "stdout",
     "output_type": "stream",
     "text": [
      "Downloading BOSS_Sentiment_Ablate_Data_Dynasent_BERT24000_Substitute --- healthyml/In-Context Domain Transfer Improves Out-of-Domain Robustness/run-ujjjnolk-dynasent_aug_substitute_random_16_Kyle1668bosssentiment24000bertbaseuncased_style_logs:v0\n"
     ]
    },
    {
     "name": "stderr",
     "output_type": "stream",
     "text": [
      "\u001b[34m\u001b[1mwandb\u001b[0m:   1 of 1 files downloaded.  \n",
      " 38%|███▊      | 122/325 [38:08<08:32,  2.53s/it]"
     ]
    },
    {
     "name": "stdout",
     "output_type": "stream",
     "text": [
      "Downloading BOSS_Sentiment_Ablate_Data_Dynasent_BERT24000_Translate --- healthyml/In-Context Domain Transfer Improves Out-of-Domain Robustness/run-ujjjnolk-dynasent_aug_backtranslate_random_16_Kyle1668bosssentiment24000bertbaseuncased_style_logs:v0\n"
     ]
    },
    {
     "name": "stderr",
     "output_type": "stream",
     "text": [
      "\u001b[34m\u001b[1mwandb\u001b[0m:   1 of 1 files downloaded.  \n",
      " 38%|███▊      | 123/325 [38:11<08:20,  2.48s/it]"
     ]
    },
    {
     "name": "stdout",
     "output_type": "stream",
     "text": [
      "Downloading BOSS_Sentiment_Ablate_Data_Dynasent_BERT24000_Paraphrase --- healthyml/In-Context Domain Transfer Improves Out-of-Domain Robustness/run-ujjjnolk-dynasent_stabilityaiStableBeluga7b_random_0_Kyle1668bosssentiment24000bertbaseuncased_style_logs:v0\n"
     ]
    },
    {
     "name": "stderr",
     "output_type": "stream",
     "text": [
      "\u001b[34m\u001b[1mwandb\u001b[0m:   1 of 1 files downloaded.  \n",
      " 38%|███▊      | 124/325 [38:13<08:38,  2.58s/it]"
     ]
    },
    {
     "name": "stdout",
     "output_type": "stream",
     "text": [
      "Downloading BOSS_Sentiment_Ablate_Data_Dynasent_BERT24000_ICR --- healthyml/In-Context Domain Transfer Improves Out-of-Domain Robustness/run-ujjjnolk-dynasent_stabilityaiStableBeluga7b_random_16_Kyle1668bosssentiment24000bertbaseuncased_style_logs:v0\n"
     ]
    },
    {
     "name": "stderr",
     "output_type": "stream",
     "text": [
      "\u001b[34m\u001b[1mwandb\u001b[0m:   1 of 1 files downloaded.  \n",
      " 38%|███▊      | 125/325 [38:19<11:07,  3.34s/it]"
     ]
    },
    {
     "name": "stdout",
     "output_type": "stream",
     "text": [
      "Downloading BOSS_Sentiment_Dynasent_T5_Insert --- healthyml/In-Context Domain Transfer Improves Out-of-Domain Robustness/run-omxsb0i7-dynasent_aug_insert_random_16_Kyle1668bosssentimentt5large_style_logs:v0\n"
     ]
    },
    {
     "name": "stderr",
     "output_type": "stream",
     "text": [
      "\u001b[34m\u001b[1mwandb\u001b[0m:   1 of 1 files downloaded.  \n",
      " 39%|███▉      | 126/325 [38:21<09:49,  2.96s/it]"
     ]
    },
    {
     "name": "stdout",
     "output_type": "stream",
     "text": [
      "Downloading BOSS_Sentiment_Dynasent_T5_Substitute --- healthyml/In-Context Domain Transfer Improves Out-of-Domain Robustness/run-omxsb0i7-dynasent_aug_substitute_random_16_Kyle1668bosssentimentt5large_style_logs:v0\n"
     ]
    },
    {
     "name": "stderr",
     "output_type": "stream",
     "text": [
      "\u001b[34m\u001b[1mwandb\u001b[0m:   1 of 1 files downloaded.  \n",
      " 39%|███▉      | 127/325 [38:23<09:09,  2.78s/it]"
     ]
    },
    {
     "name": "stdout",
     "output_type": "stream",
     "text": [
      "Downloading BOSS_Sentiment_Dynasent_T5_Translate --- healthyml/In-Context Domain Transfer Improves Out-of-Domain Robustness/run-omxsb0i7-dynasent_aug_backtranslate_random_16_Kyle1668bosssentimentt5large_style_logs:v0\n"
     ]
    },
    {
     "name": "stderr",
     "output_type": "stream",
     "text": [
      "\u001b[34m\u001b[1mwandb\u001b[0m:   1 of 1 files downloaded.  \n",
      " 39%|███▉      | 128/325 [38:25<08:08,  2.48s/it]"
     ]
    },
    {
     "name": "stdout",
     "output_type": "stream",
     "text": [
      "Downloading BOSS_Sentiment_Dynasent_T5_Paraphrase --- healthyml/In-Context Domain Transfer Improves Out-of-Domain Robustness/run-omxsb0i7-dynasent_stabilityaiStableBeluga7b_random_0_Kyle1668bosssentimentt5large_style_logs:v0\n"
     ]
    },
    {
     "name": "stderr",
     "output_type": "stream",
     "text": [
      "\u001b[34m\u001b[1mwandb\u001b[0m:   1 of 1 files downloaded.  \n",
      " 40%|███▉      | 129/325 [38:27<07:37,  2.33s/it]"
     ]
    },
    {
     "name": "stdout",
     "output_type": "stream",
     "text": [
      "Downloading BOSS_Sentiment_Dynasent_T5_ICR --- healthyml/In-Context Domain Transfer Improves Out-of-Domain Robustness/run-omxsb0i7-dynasent_stabilityaiStableBeluga7b_random_16_Kyle1668bosssentimentt5large_style_logs:v0\n"
     ]
    },
    {
     "name": "stderr",
     "output_type": "stream",
     "text": [
      "\u001b[34m\u001b[1mwandb\u001b[0m:   1 of 1 files downloaded.  \n",
      " 40%|████      | 130/325 [38:31<09:48,  3.02s/it]"
     ]
    },
    {
     "name": "stdout",
     "output_type": "stream",
     "text": [
      "Downloading BOSS_Sentiment_Dynasent_Falcon_Insert --- healthyml/In-Context Domain Transfer Improves Out-of-Domain Robustness/run-omxsb0i7-dynasent_aug_insert_random_16_tiiuaefalcon7binstruct_style_logs:v0\n"
     ]
    },
    {
     "name": "stderr",
     "output_type": "stream",
     "text": [
      "\u001b[34m\u001b[1mwandb\u001b[0m: Downloading large artifact run-omxsb0i7-dynasent_aug_insert_random_16_tiiuaefalcon7binstruct_style_logs:v0, 94.96MB. 1 files... \n",
      "\u001b[34m\u001b[1mwandb\u001b[0m:   1 of 1 files downloaded.  \n",
      "Done. 0:0:28.9\n",
      " 40%|████      | 131/325 [39:01<35:48, 11.08s/it]"
     ]
    },
    {
     "name": "stdout",
     "output_type": "stream",
     "text": [
      "Downloading BOSS_Sentiment_Dynasent_Falcon_Substitute --- healthyml/In-Context Domain Transfer Improves Out-of-Domain Robustness/run-omxsb0i7-dynasent_aug_substitute_random_16_tiiuaefalcon7binstruct_style_logs:v0\n"
     ]
    },
    {
     "name": "stderr",
     "output_type": "stream",
     "text": [
      "\u001b[34m\u001b[1mwandb\u001b[0m: Downloading large artifact run-omxsb0i7-dynasent_aug_substitute_random_16_tiiuaefalcon7binstruct_style_logs:v0, 94.02MB. 1 files... \n",
      "\u001b[34m\u001b[1mwandb\u001b[0m:   1 of 1 files downloaded.  \n",
      "Done. 0:0:30.3\n",
      " 41%|████      | 132/325 [39:32<54:57, 17.09s/it]"
     ]
    },
    {
     "name": "stdout",
     "output_type": "stream",
     "text": [
      "Downloading BOSS_Sentiment_Dynasent_Falcon_Translate --- healthyml/In-Context Domain Transfer Improves Out-of-Domain Robustness/run-omxsb0i7-dynasent_aug_backtranslate_random_16_tiiuaefalcon7binstruct_style_logs:v0\n"
     ]
    },
    {
     "name": "stderr",
     "output_type": "stream",
     "text": [
      "\u001b[34m\u001b[1mwandb\u001b[0m: Downloading large artifact run-omxsb0i7-dynasent_aug_backtranslate_random_16_tiiuaefalcon7binstruct_style_logs:v0, 93.87MB. 1 files... \n",
      "\u001b[34m\u001b[1mwandb\u001b[0m:   1 of 1 files downloaded.  \n",
      "Done. 0:0:18.6\n",
      " 41%|████      | 133/325 [39:52<57:05, 17.84s/it]"
     ]
    },
    {
     "name": "stdout",
     "output_type": "stream",
     "text": [
      "Downloading BOSS_Sentiment_Dynasent_Falcon_Paraphrase --- healthyml/In-Context Domain Transfer Improves Out-of-Domain Robustness/run-omxsb0i7-dynasent_stabilityaiStableBeluga7b_random_0_tiiuaefalcon7binstruct_style_logs:v0\n"
     ]
    },
    {
     "name": "stderr",
     "output_type": "stream",
     "text": [
      "\u001b[34m\u001b[1mwandb\u001b[0m: Downloading large artifact run-omxsb0i7-dynasent_stabilityaiStableBeluga7b_random_0_tiiuaefalcon7binstruct_style_logs:v0, 95.35MB. 1 files... \n",
      "\u001b[34m\u001b[1mwandb\u001b[0m:   1 of 1 files downloaded.  \n",
      "Done. 0:0:15.7\n",
      " 41%|████      | 134/325 [40:08<55:22, 17.39s/it]"
     ]
    },
    {
     "name": "stdout",
     "output_type": "stream",
     "text": [
      "Downloading BOSS_Sentiment_Dynasent_Falcon_ICR --- healthyml/In-Context Domain Transfer Improves Out-of-Domain Robustness/run-omxsb0i7-dynasent_stabilityaiStableBeluga7b_random_16_tiiuaefalcon7binstruct_style_logs:v0\n"
     ]
    },
    {
     "name": "stderr",
     "output_type": "stream",
     "text": [
      "\u001b[34m\u001b[1mwandb\u001b[0m: Downloading large artifact run-omxsb0i7-dynasent_stabilityaiStableBeluga7b_random_16_tiiuaefalcon7binstruct_style_logs:v0, 102.06MB. 1 files... \n",
      "\u001b[34m\u001b[1mwandb\u001b[0m:   1 of 1 files downloaded.  \n",
      "Done. 0:0:25.6\n",
      " 42%|████▏     | 135/325 [40:35<1:03:35, 20.08s/it]"
     ]
    },
    {
     "name": "stdout",
     "output_type": "stream",
     "text": [
      "Downloading BOSS_Toxicity_ID_BERT_Insert --- healthyml/In-Context Domain Transfer Improves Out-of-Domain Robustness/run-57a9z4m8-validation_aug_insert_random_16_Kyle1668bosstoxicitybertbaseuncased_style_logs:v0\n"
     ]
    },
    {
     "name": "stderr",
     "output_type": "stream",
     "text": [
      "\u001b[34m\u001b[1mwandb\u001b[0m: Downloading large artifact run-57a9z4m8-validation_aug_insert_random_16_Kyle1668bosstoxicitybertbaseuncased_style_logs:v0, 340.75MB. 1 files... \n",
      "\u001b[34m\u001b[1mwandb\u001b[0m:   1 of 1 files downloaded.  \n",
      "Done. 0:0:58.3\n",
      " 42%|████▏     | 136/325 [41:34<1:40:06, 31.78s/it]"
     ]
    },
    {
     "name": "stdout",
     "output_type": "stream",
     "text": [
      "Downloading BOSS_Toxicity_ID_BERT_Substitute --- healthyml/In-Context Domain Transfer Improves Out-of-Domain Robustness/run-57a9z4m8-validation_aug_substitute_random_16_Kyle1668bosstoxicitybertbaseuncased_style_logs:v0\n"
     ]
    },
    {
     "name": "stderr",
     "output_type": "stream",
     "text": [
      "\u001b[34m\u001b[1mwandb\u001b[0m: Downloading large artifact run-57a9z4m8-validation_aug_substitute_random_16_Kyle1668bosstoxicitybertbaseuncased_style_logs:v0, 323.02MB. 1 files... \n",
      "\u001b[34m\u001b[1mwandb\u001b[0m:   1 of 1 files downloaded.  \n",
      "Done. 0:0:58.1\n",
      " 42%|████▏     | 137/325 [42:33<2:05:01, 39.90s/it]"
     ]
    },
    {
     "name": "stdout",
     "output_type": "stream",
     "text": [
      "Downloading BOSS_Toxicity_ID_BERT_Translate --- healthyml/In-Context Domain Transfer Improves Out-of-Domain Robustness/run-57a9z4m8-validation_aug_backtranslate_random_16_Kyle1668bosstoxicitybertbaseuncased_style_logs:v0\n"
     ]
    },
    {
     "name": "stderr",
     "output_type": "stream",
     "text": [
      "\u001b[34m\u001b[1mwandb\u001b[0m: Downloading large artifact run-57a9z4m8-validation_aug_backtranslate_random_16_Kyle1668bosstoxicitybertbaseuncased_style_logs:v0, 270.32MB. 1 files... \n",
      "\u001b[34m\u001b[1mwandb\u001b[0m:   1 of 1 files downloaded.  \n",
      "Done. 0:0:54.3\n",
      " 42%|████▏     | 138/325 [43:28<2:18:34, 44.46s/it]"
     ]
    },
    {
     "name": "stdout",
     "output_type": "stream",
     "text": [
      "Downloading BOSS_Toxicity_ID_BERT_Paraphrase --- healthyml/In-Context Domain Transfer Improves Out-of-Domain Robustness/run-cfj9o5h7-validation_stabilityaiStableBeluga7b_random_0_Kyle1668bosstoxicitybertbaseuncased_style_logs:v0\n"
     ]
    },
    {
     "name": "stderr",
     "output_type": "stream",
     "text": [
      "\u001b[34m\u001b[1mwandb\u001b[0m: Downloading large artifact run-cfj9o5h7-validation_stabilityaiStableBeluga7b_random_0_Kyle1668bosstoxicitybertbaseuncased_style_logs:v0, 300.82MB. 1 files... \n",
      "\u001b[34m\u001b[1mwandb\u001b[0m:   1 of 1 files downloaded.  \n",
      "Done. 0:0:53.4\n",
      " 43%|████▎     | 139/325 [44:22<2:26:48, 47.36s/it]"
     ]
    },
    {
     "name": "stdout",
     "output_type": "stream",
     "text": [
      "Downloading BOSS_Toxicity_ID_BERT_ICR --- healthyml/In-Context Domain Transfer Improves Out-of-Domain Robustness/run-dvdcuuij-validation_stabilityaiStableBeluga7b_random_16_Kyle1668bosstoxicitybertbaseuncased_style_logs:v0\n"
     ]
    },
    {
     "name": "stderr",
     "output_type": "stream",
     "text": [
      "\u001b[34m\u001b[1mwandb\u001b[0m: Downloading large artifact run-dvdcuuij-validation_stabilityaiStableBeluga7b_random_16_Kyle1668bosstoxicitybertbaseuncased_style_logs:v0, 492.11MB. 1 files... \n",
      "\u001b[34m\u001b[1mwandb\u001b[0m:   1 of 1 files downloaded.  \n",
      "Done. 0:1:34.5\n",
      " 43%|████▎     | 140/325 [45:57<3:10:30, 61.79s/it]"
     ]
    },
    {
     "name": "stdout",
     "output_type": "stream",
     "text": [
      "Downloading BOSS_Toxicity_ID_T5_Insert --- healthyml/In-Context Domain Transfer Improves Out-of-Domain Robustness/run-0ctkgl69-validation_aug_insert_random_16_Kyle1668bosstoxicityt5large_style_logs:v0\n"
     ]
    },
    {
     "name": "stderr",
     "output_type": "stream",
     "text": [
      "\u001b[34m\u001b[1mwandb\u001b[0m: Downloading large artifact run-0ctkgl69-validation_aug_insert_random_16_Kyle1668bosstoxicityt5large_style_logs:v0, 259.77MB. 1 files... \n",
      "\u001b[34m\u001b[1mwandb\u001b[0m:   1 of 1 files downloaded.  \n",
      "Done. 0:0:49.8\n",
      " 43%|████▎     | 141/325 [46:48<2:59:07, 58.41s/it]"
     ]
    },
    {
     "name": "stdout",
     "output_type": "stream",
     "text": [
      "Downloading BOSS_Toxicity_ID_T5_Substitute --- healthyml/In-Context Domain Transfer Improves Out-of-Domain Robustness/run-0ctkgl69-validation_aug_substitute_random_16_Kyle1668bosstoxicityt5large_style_logs:v0\n"
     ]
    },
    {
     "name": "stderr",
     "output_type": "stream",
     "text": [
      "\u001b[34m\u001b[1mwandb\u001b[0m: Downloading large artifact run-0ctkgl69-validation_aug_substitute_random_16_Kyle1668bosstoxicityt5large_style_logs:v0, 242.05MB. 1 files... \n",
      "\u001b[34m\u001b[1mwandb\u001b[0m:   1 of 1 files downloaded.  \n",
      "Done. 0:0:40.0\n",
      " 44%|████▎     | 142/325 [47:28<2:41:54, 53.09s/it]"
     ]
    },
    {
     "name": "stdout",
     "output_type": "stream",
     "text": [
      "Downloading BOSS_Toxicity_ID_T5_Translate --- healthyml/In-Context Domain Transfer Improves Out-of-Domain Robustness/run-0ctkgl69-validation_aug_backtranslate_random_16_Kyle1668bosstoxicityt5large_style_logs:v0\n"
     ]
    },
    {
     "name": "stderr",
     "output_type": "stream",
     "text": [
      "\u001b[34m\u001b[1mwandb\u001b[0m: Downloading large artifact run-0ctkgl69-validation_aug_backtranslate_random_16_Kyle1668bosstoxicityt5large_style_logs:v0, 228.97MB. 1 files... \n",
      "\u001b[34m\u001b[1mwandb\u001b[0m:   1 of 1 files downloaded.  \n",
      "Done. 0:0:45.6\n",
      " 44%|████▍     | 143/325 [48:16<2:36:03, 51.45s/it]"
     ]
    },
    {
     "name": "stdout",
     "output_type": "stream",
     "text": [
      "Downloading BOSS_Toxicity_ID_T5_Paraphrase --- healthyml/In-Context Domain Transfer Improves Out-of-Domain Robustness/run-0ctkgl69-validation_stabilityaiStableBeluga7b_random_0_Kyle1668bosstoxicityt5large_style_logs:v0\n"
     ]
    },
    {
     "name": "stderr",
     "output_type": "stream",
     "text": [
      "\u001b[34m\u001b[1mwandb\u001b[0m: Downloading large artifact run-0ctkgl69-validation_stabilityaiStableBeluga7b_random_0_Kyle1668bosstoxicityt5large_style_logs:v0, 230.49MB. 1 files... \n",
      "\u001b[34m\u001b[1mwandb\u001b[0m:   1 of 1 files downloaded.  \n",
      "Done. 0:0:52.6\n",
      " 44%|████▍     | 144/325 [49:09<2:36:53, 52.01s/it]"
     ]
    },
    {
     "name": "stdout",
     "output_type": "stream",
     "text": [
      "Downloading BOSS_Toxicity_ID_T5_ICR --- healthyml/In-Context Domain Transfer Improves Out-of-Domain Robustness/run-0ctkgl69-validation_stabilityaiStableBeluga7b_random_16_Kyle1668bosstoxicityt5large_style_logs:v0\n"
     ]
    },
    {
     "name": "stderr",
     "output_type": "stream",
     "text": [
      "\u001b[34m\u001b[1mwandb\u001b[0m: Downloading large artifact run-0ctkgl69-validation_stabilityaiStableBeluga7b_random_16_Kyle1668bosstoxicityt5large_style_logs:v0, 448.25MB. 1 files... \n",
      "\u001b[34m\u001b[1mwandb\u001b[0m:   1 of 1 files downloaded.  \n",
      "Done. 0:1:31.6\n",
      " 45%|████▍     | 145/325 [50:42<3:12:21, 64.12s/it]"
     ]
    },
    {
     "name": "stdout",
     "output_type": "stream",
     "text": [
      "Downloading BOSS_Toxicity_ID_Falcon_Insert --- healthyml/In-Context Domain Transfer Improves Out-of-Domain Robustness/run-bo8gbtun-validation_aug_insert_random_16_tiiuaefalcon7binstruct_style_logs:v0\n"
     ]
    },
    {
     "name": "stderr",
     "output_type": "stream",
     "text": [
      "\u001b[34m\u001b[1mwandb\u001b[0m: Downloading large artifact run-bo8gbtun-validation_aug_insert_random_16_tiiuaefalcon7binstruct_style_logs:v0, 3294.07MB. 1 files... \n",
      "\u001b[34m\u001b[1mwandb\u001b[0m:   1 of 1 files downloaded.  \n",
      "Done. 0:14:12.8\n",
      " 45%|████▍     | 146/325 [1:04:55<14:57:53, 300.97s/it]"
     ]
    },
    {
     "name": "stdout",
     "output_type": "stream",
     "text": [
      "Downloading BOSS_Toxicity_ID_Falcon_Substitute --- healthyml/In-Context Domain Transfer Improves Out-of-Domain Robustness/run-bo8gbtun-validation_aug_substitute_random_16_tiiuaefalcon7binstruct_style_logs:v0\n"
     ]
    },
    {
     "name": "stderr",
     "output_type": "stream",
     "text": [
      "\u001b[34m\u001b[1mwandb\u001b[0m: Downloading large artifact run-bo8gbtun-validation_aug_substitute_random_16_tiiuaefalcon7binstruct_style_logs:v0, 3170.69MB. 1 files... \n",
      "\u001b[34m\u001b[1mwandb\u001b[0m:   1 of 1 files downloaded.  \n",
      "Done. 0:14:15.3\n",
      " 45%|████▌     | 147/325 [1:19:12<23:07:10, 467.59s/it]"
     ]
    },
    {
     "name": "stdout",
     "output_type": "stream",
     "text": [
      "Downloading BOSS_Toxicity_Toxigen_BERT_Insert --- healthyml/In-Context Domain Transfer Improves Out-of-Domain Robustness/run-57a9z4m8-toxigen_aug_insert_random_16_Kyle1668bosstoxicitybertbaseuncased_style_logs:v0\n"
     ]
    },
    {
     "name": "stderr",
     "output_type": "stream",
     "text": [
      "\u001b[34m\u001b[1mwandb\u001b[0m:   1 of 1 files downloaded.  \n",
      " 46%|████▋     | 151/325 [1:19:13<8:20:15, 172.51s/it] "
     ]
    },
    {
     "name": "stdout",
     "output_type": "stream",
     "text": [
      "Downloading BOSS_Toxicity_Toxigen_BERT_Substitute --- healthyml/In-Context Domain Transfer Improves Out-of-Domain Robustness/run-57a9z4m8-toxigen_aug_substitute_random_16_Kyle1668bosstoxicitybertbaseuncased_style_logs:v0\n"
     ]
    },
    {
     "name": "stderr",
     "output_type": "stream",
     "text": [
      "\u001b[34m\u001b[1mwandb\u001b[0m:   1 of 1 files downloaded.  \n",
      " 47%|████▋     | 152/325 [1:19:15<6:46:35, 141.01s/it]"
     ]
    },
    {
     "name": "stdout",
     "output_type": "stream",
     "text": [
      "Downloading BOSS_Toxicity_Toxigen_BERT_Translate --- healthyml/In-Context Domain Transfer Improves Out-of-Domain Robustness/run-57a9z4m8-toxigen_aug_backtranslate_random_16_Kyle1668bosstoxicitybertbaseuncased_style_logs:v0\n"
     ]
    },
    {
     "name": "stderr",
     "output_type": "stream",
     "text": [
      "\u001b[34m\u001b[1mwandb\u001b[0m:   1 of 1 files downloaded.  \n",
      " 47%|████▋     | 153/325 [1:19:16<5:21:09, 112.03s/it]"
     ]
    },
    {
     "name": "stdout",
     "output_type": "stream",
     "text": [
      "Downloading BOSS_Toxicity_Toxigen_BERT_Paraphrase --- healthyml/In-Context Domain Transfer Improves Out-of-Domain Robustness/run-57a9z4m8-toxigen_stabilityaiStableBeluga7b_random_0_Kyle1668bosstoxicitybertbaseuncased_style_logs:v0\n"
     ]
    },
    {
     "name": "stderr",
     "output_type": "stream",
     "text": [
      "\u001b[34m\u001b[1mwandb\u001b[0m:   1 of 1 files downloaded.  \n",
      " 47%|████▋     | 154/325 [1:19:18<4:07:00, 86.67s/it] "
     ]
    },
    {
     "name": "stdout",
     "output_type": "stream",
     "text": [
      "Downloading BOSS_Toxicity_Toxigen_BERT_ICR --- healthyml/In-Context Domain Transfer Improves Out-of-Domain Robustness/run-57a9z4m8-toxigen_stabilityaiStableBeluga7b_random_16_Kyle1668bosstoxicitybertbaseuncased_style_logs:v0\n"
     ]
    },
    {
     "name": "stderr",
     "output_type": "stream",
     "text": [
      "\u001b[34m\u001b[1mwandb\u001b[0m:   1 of 1 files downloaded.  \n",
      " 48%|████▊     | 155/325 [1:19:20<3:06:16, 65.74s/it]"
     ]
    },
    {
     "name": "stdout",
     "output_type": "stream",
     "text": [
      "Downloading BOSS_Toxicity_Ablate_Data_Toxigen_BERT3000_Insert --- healthyml/In-Context Domain Transfer Improves Out-of-Domain Robustness/run-2ecsgmy9-toxigen_aug_insert_random_16_Kyle1668bosstoxicity6000bertbaseuncased_style_logs:v0\n"
     ]
    },
    {
     "name": "stderr",
     "output_type": "stream",
     "text": [
      "\u001b[34m\u001b[1mwandb\u001b[0m:   1 of 1 files downloaded.  \n",
      " 48%|████▊     | 156/325 [1:19:21<2:18:04, 49.02s/it]"
     ]
    },
    {
     "name": "stdout",
     "output_type": "stream",
     "text": [
      "Downloading BOSS_Toxicity_Ablate_Data_Toxigen_BERT3000_Substitute --- healthyml/In-Context Domain Transfer Improves Out-of-Domain Robustness/run-2ecsgmy9-toxigen_aug_substitute_random_16_Kyle1668bosstoxicity6000bertbaseuncased_style_logs:v0\n"
     ]
    },
    {
     "name": "stderr",
     "output_type": "stream",
     "text": [
      "\u001b[34m\u001b[1mwandb\u001b[0m:   1 of 1 files downloaded.  \n",
      " 48%|████▊     | 157/325 [1:19:23<1:41:05, 36.10s/it]"
     ]
    },
    {
     "name": "stdout",
     "output_type": "stream",
     "text": [
      "Downloading BOSS_Toxicity_Ablate_Data_Toxigen_BERT3000_Translate --- healthyml/In-Context Domain Transfer Improves Out-of-Domain Robustness/run-2ecsgmy9-toxigen_aug_backtranslate_random_16_Kyle1668bosstoxicity6000bertbaseuncased_style_logs:v0\n"
     ]
    },
    {
     "name": "stderr",
     "output_type": "stream",
     "text": [
      "\u001b[34m\u001b[1mwandb\u001b[0m:   1 of 1 files downloaded.  \n",
      " 49%|████▊     | 158/325 [1:19:24<1:13:29, 26.41s/it]"
     ]
    },
    {
     "name": "stdout",
     "output_type": "stream",
     "text": [
      "Downloading BOSS_Toxicity_Ablate_Data_Toxigen_BERT3000_Paraphrase --- healthyml/In-Context Domain Transfer Improves Out-of-Domain Robustness/run-2ecsgmy9-toxigen_stabilityaiStableBeluga7b_random_0_Kyle1668bosstoxicity6000bertbaseuncased_style_logs:v0\n"
     ]
    },
    {
     "name": "stderr",
     "output_type": "stream",
     "text": [
      "\u001b[34m\u001b[1mwandb\u001b[0m:   1 of 1 files downloaded.  \n",
      " 49%|████▉     | 159/325 [1:19:26<53:30, 19.34s/it]  "
     ]
    },
    {
     "name": "stdout",
     "output_type": "stream",
     "text": [
      "Downloading BOSS_Toxicity_Ablate_Data_Toxigen_BERT3000_ICR --- healthyml/In-Context Domain Transfer Improves Out-of-Domain Robustness/run-2ecsgmy9-toxigen_stabilityaiStableBeluga7b_random_16_Kyle1668bosstoxicity6000bertbaseuncased_style_logs:v0\n"
     ]
    },
    {
     "name": "stderr",
     "output_type": "stream",
     "text": [
      "\u001b[34m\u001b[1mwandb\u001b[0m:   1 of 1 files downloaded.  \n",
      " 49%|████▉     | 160/325 [1:19:27<39:10, 14.25s/it]"
     ]
    },
    {
     "name": "stdout",
     "output_type": "stream",
     "text": [
      "Downloading BOSS_Toxicity_Ablate_Data_Toxigen_BERT6000_Insert --- healthyml/In-Context Domain Transfer Improves Out-of-Domain Robustness/run-ms2943fk-toxigen_aug_insert_random_16_Kyle1668bosstoxicity3000bertbaseuncased_style_logs:v0\n"
     ]
    },
    {
     "name": "stderr",
     "output_type": "stream",
     "text": [
      "\u001b[34m\u001b[1mwandb\u001b[0m:   1 of 1 files downloaded.  \n",
      " 50%|████▉     | 161/325 [1:19:29<28:39, 10.49s/it]"
     ]
    },
    {
     "name": "stdout",
     "output_type": "stream",
     "text": [
      "Downloading BOSS_Toxicity_Ablate_Data_Toxigen_BERT6000_Substitute --- healthyml/In-Context Domain Transfer Improves Out-of-Domain Robustness/run-ms2943fk-toxigen_aug_substitute_random_16_Kyle1668bosstoxicity3000bertbaseuncased_style_logs:v0\n"
     ]
    },
    {
     "name": "stderr",
     "output_type": "stream",
     "text": [
      "\u001b[34m\u001b[1mwandb\u001b[0m:   1 of 1 files downloaded.  \n",
      " 50%|████▉     | 162/325 [1:19:31<21:32,  7.93s/it]"
     ]
    },
    {
     "name": "stdout",
     "output_type": "stream",
     "text": [
      "Downloading BOSS_Toxicity_Ablate_Data_Toxigen_BERT6000_Translate --- healthyml/In-Context Domain Transfer Improves Out-of-Domain Robustness/run-ms2943fk-toxigen_aug_backtranslate_random_16_Kyle1668bosstoxicity3000bertbaseuncased_style_logs:v0\n"
     ]
    },
    {
     "name": "stderr",
     "output_type": "stream",
     "text": [
      "\u001b[34m\u001b[1mwandb\u001b[0m:   1 of 1 files downloaded.  \n",
      " 50%|█████     | 163/325 [1:19:32<16:11,  5.99s/it]"
     ]
    },
    {
     "name": "stdout",
     "output_type": "stream",
     "text": [
      "Downloading BOSS_Toxicity_Ablate_Data_Toxigen_BERT6000_Paraphrase --- healthyml/In-Context Domain Transfer Improves Out-of-Domain Robustness/run-ms2943fk-toxigen_stabilityaiStableBeluga7b_random_0_Kyle1668bosstoxicity3000bertbaseuncased_style_logs:v0\n"
     ]
    },
    {
     "name": "stderr",
     "output_type": "stream",
     "text": [
      "\u001b[34m\u001b[1mwandb\u001b[0m:   1 of 1 files downloaded.  \n",
      " 50%|█████     | 164/325 [1:19:34<12:34,  4.68s/it]"
     ]
    },
    {
     "name": "stdout",
     "output_type": "stream",
     "text": [
      "Downloading BOSS_Toxicity_Ablate_Data_Toxigen_BERT6000_ICR --- healthyml/In-Context Domain Transfer Improves Out-of-Domain Robustness/run-ms2943fk-toxigen_stabilityaiStableBeluga7b_random_16_Kyle1668bosstoxicity3000bertbaseuncased_style_logs:v0\n"
     ]
    },
    {
     "name": "stderr",
     "output_type": "stream",
     "text": [
      "\u001b[34m\u001b[1mwandb\u001b[0m:   1 of 1 files downloaded.  \n",
      " 51%|█████     | 165/325 [1:19:35<10:10,  3.82s/it]"
     ]
    },
    {
     "name": "stdout",
     "output_type": "stream",
     "text": [
      "Downloading BOSS_Toxicity_Ablate_Data_Toxigen_BERT12000_Insert --- healthyml/In-Context Domain Transfer Improves Out-of-Domain Robustness/run-7hgtyr98-toxigen_aug_insert_random_16_Kyle1668bosstoxicity12000bertbaseuncased_style_logs:v0\n"
     ]
    },
    {
     "name": "stderr",
     "output_type": "stream",
     "text": [
      "\u001b[34m\u001b[1mwandb\u001b[0m:   1 of 1 files downloaded.  \n",
      " 51%|█████     | 166/325 [1:19:37<08:15,  3.11s/it]"
     ]
    },
    {
     "name": "stdout",
     "output_type": "stream",
     "text": [
      "Downloading BOSS_Toxicity_Ablate_Data_Toxigen_BERT12000_Substitute --- healthyml/In-Context Domain Transfer Improves Out-of-Domain Robustness/run-7hgtyr98-toxigen_aug_substitute_random_16_Kyle1668bosstoxicity12000bertbaseuncased_style_logs:v0\n"
     ]
    },
    {
     "name": "stderr",
     "output_type": "stream",
     "text": [
      "\u001b[34m\u001b[1mwandb\u001b[0m:   1 of 1 files downloaded.  \n",
      " 51%|█████▏    | 167/325 [1:19:38<06:47,  2.58s/it]"
     ]
    },
    {
     "name": "stdout",
     "output_type": "stream",
     "text": [
      "Downloading BOSS_Toxicity_Ablate_Data_Toxigen_BERT12000_Translate --- healthyml/In-Context Domain Transfer Improves Out-of-Domain Robustness/run-7hgtyr98-toxigen_aug_backtranslate_random_16_Kyle1668bosstoxicity12000bertbaseuncased_style_logs:v0\n"
     ]
    },
    {
     "name": "stderr",
     "output_type": "stream",
     "text": [
      "\u001b[34m\u001b[1mwandb\u001b[0m:   1 of 1 files downloaded.  \n",
      " 52%|█████▏    | 168/325 [1:19:39<05:45,  2.20s/it]"
     ]
    },
    {
     "name": "stdout",
     "output_type": "stream",
     "text": [
      "Downloading BOSS_Toxicity_Ablate_Data_Toxigen_BERT12000_Paraphrase --- healthyml/In-Context Domain Transfer Improves Out-of-Domain Robustness/run-7hgtyr98-toxigen_stabilityaiStableBeluga7b_random_0_Kyle1668bosstoxicity12000bertbaseuncased_style_logs:v0\n"
     ]
    },
    {
     "name": "stderr",
     "output_type": "stream",
     "text": [
      "\u001b[34m\u001b[1mwandb\u001b[0m:   1 of 1 files downloaded.  \n",
      " 52%|█████▏    | 169/325 [1:19:41<05:19,  2.05s/it]"
     ]
    },
    {
     "name": "stdout",
     "output_type": "stream",
     "text": [
      "Downloading BOSS_Toxicity_Ablate_Data_Toxigen_BERT12000_ICR --- healthyml/In-Context Domain Transfer Improves Out-of-Domain Robustness/run-7hgtyr98-toxigen_stabilityaiStableBeluga7b_random_16_Kyle1668bosstoxicity12000bertbaseuncased_style_logs:v0\n"
     ]
    },
    {
     "name": "stderr",
     "output_type": "stream",
     "text": [
      "\u001b[34m\u001b[1mwandb\u001b[0m:   1 of 1 files downloaded.  \n",
      " 52%|█████▏    | 170/325 [1:19:43<05:06,  1.98s/it]"
     ]
    },
    {
     "name": "stdout",
     "output_type": "stream",
     "text": [
      "Downloading BOSS_Toxicity_Ablate_Data_Toxigen_BERT24000_Insert --- healthyml/In-Context Domain Transfer Improves Out-of-Domain Robustness/run-wl2a38kf-toxigen_aug_insert_random_16_Kyle1668bosstoxicity24000bertbaseuncased_style_logs:v0\n"
     ]
    },
    {
     "name": "stderr",
     "output_type": "stream",
     "text": [
      "\u001b[34m\u001b[1mwandb\u001b[0m:   1 of 1 files downloaded.  \n",
      " 53%|█████▎    | 171/325 [1:19:44<04:37,  1.80s/it]"
     ]
    },
    {
     "name": "stdout",
     "output_type": "stream",
     "text": [
      "Downloading BOSS_Toxicity_Ablate_Data_Toxigen_BERT24000_Substitute --- healthyml/In-Context Domain Transfer Improves Out-of-Domain Robustness/run-wl2a38kf-toxigen_aug_substitute_random_16_Kyle1668bosstoxicity24000bertbaseuncased_style_logs:v0\n"
     ]
    },
    {
     "name": "stderr",
     "output_type": "stream",
     "text": [
      "\u001b[34m\u001b[1mwandb\u001b[0m:   1 of 1 files downloaded.  \n",
      " 53%|█████▎    | 172/325 [1:19:46<04:17,  1.68s/it]"
     ]
    },
    {
     "name": "stdout",
     "output_type": "stream",
     "text": [
      "Downloading BOSS_Toxicity_Ablate_Data_Toxigen_BERT24000_Translate --- healthyml/In-Context Domain Transfer Improves Out-of-Domain Robustness/run-wl2a38kf-toxigen_aug_backtranslate_random_16_Kyle1668bosstoxicity24000bertbaseuncased_style_logs:v0\n"
     ]
    },
    {
     "name": "stderr",
     "output_type": "stream",
     "text": [
      "\u001b[34m\u001b[1mwandb\u001b[0m:   1 of 1 files downloaded.  \n",
      " 53%|█████▎    | 173/325 [1:19:48<05:01,  1.99s/it]"
     ]
    },
    {
     "name": "stdout",
     "output_type": "stream",
     "text": [
      "Downloading BOSS_Toxicity_Ablate_Data_Toxigen_BERT24000_Paraphrase --- healthyml/In-Context Domain Transfer Improves Out-of-Domain Robustness/run-wl2a38kf-toxigen_stabilityaiStableBeluga7b_random_0_Kyle1668bosstoxicity24000bertbaseuncased_style_logs:v0\n"
     ]
    },
    {
     "name": "stderr",
     "output_type": "stream",
     "text": [
      "\u001b[34m\u001b[1mwandb\u001b[0m:   1 of 1 files downloaded.  \n",
      " 54%|█████▎    | 174/325 [1:19:50<04:32,  1.81s/it]"
     ]
    },
    {
     "name": "stdout",
     "output_type": "stream",
     "text": [
      "Downloading BOSS_Toxicity_Ablate_Data_Toxigen_BERT24000_ICR --- healthyml/In-Context Domain Transfer Improves Out-of-Domain Robustness/run-wl2a38kf-toxigen_stabilityaiStableBeluga7b_random_16_Kyle1668bosstoxicity24000bertbaseuncased_style_logs:v0\n"
     ]
    },
    {
     "name": "stderr",
     "output_type": "stream",
     "text": [
      "\u001b[34m\u001b[1mwandb\u001b[0m:   1 of 1 files downloaded.  \n",
      " 54%|█████▍    | 175/325 [1:19:51<04:16,  1.71s/it]"
     ]
    },
    {
     "name": "stdout",
     "output_type": "stream",
     "text": [
      "Downloading BOSS_Toxicity_Ablate_Data_Toxigen_BERT48000_Insert --- healthyml/In-Context Domain Transfer Improves Out-of-Domain Robustness/run-iaorx9o7-toxigen_aug_insert_random_16_Kyle1668bosstoxicity48000bertbaseuncased_style_logs:v0\n"
     ]
    },
    {
     "name": "stderr",
     "output_type": "stream",
     "text": [
      "\u001b[34m\u001b[1mwandb\u001b[0m:   1 of 1 files downloaded.  \n",
      " 54%|█████▍    | 176/325 [1:19:53<04:10,  1.68s/it]"
     ]
    },
    {
     "name": "stdout",
     "output_type": "stream",
     "text": [
      "Downloading BOSS_Toxicity_Ablate_Data_Toxigen_BERT48000_Substitute --- healthyml/In-Context Domain Transfer Improves Out-of-Domain Robustness/run-iaorx9o7-toxigen_aug_substitute_random_16_Kyle1668bosstoxicity48000bertbaseuncased_style_logs:v0\n"
     ]
    },
    {
     "name": "stderr",
     "output_type": "stream",
     "text": [
      "\u001b[34m\u001b[1mwandb\u001b[0m:   1 of 1 files downloaded.  \n",
      " 54%|█████▍    | 177/325 [1:19:54<03:50,  1.55s/it]"
     ]
    },
    {
     "name": "stdout",
     "output_type": "stream",
     "text": [
      "Downloading BOSS_Toxicity_Ablate_Data_Toxigen_BERT48000_Translate --- healthyml/In-Context Domain Transfer Improves Out-of-Domain Robustness/run-iaorx9o7-toxigen_aug_backtranslate_random_16_Kyle1668bosstoxicity48000bertbaseuncased_style_logs:v0\n"
     ]
    },
    {
     "name": "stderr",
     "output_type": "stream",
     "text": [
      "\u001b[34m\u001b[1mwandb\u001b[0m:   1 of 1 files downloaded.  \n",
      " 55%|█████▍    | 178/325 [1:19:56<03:39,  1.49s/it]"
     ]
    },
    {
     "name": "stdout",
     "output_type": "stream",
     "text": [
      "Downloading BOSS_Toxicity_Ablate_Data_Toxigen_BERT48000_Paraphrase --- healthyml/In-Context Domain Transfer Improves Out-of-Domain Robustness/run-iaorx9o7-toxigen_stabilityaiStableBeluga7b_random_0_Kyle1668bosstoxicity48000bertbaseuncased_style_logs:v0\n"
     ]
    },
    {
     "name": "stderr",
     "output_type": "stream",
     "text": [
      "\u001b[34m\u001b[1mwandb\u001b[0m:   1 of 1 files downloaded.  \n",
      " 55%|█████▌    | 179/325 [1:19:57<03:36,  1.48s/it]"
     ]
    },
    {
     "name": "stdout",
     "output_type": "stream",
     "text": [
      "Downloading BOSS_Toxicity_Ablate_Data_Toxigen_BERT48000_ICR --- healthyml/In-Context Domain Transfer Improves Out-of-Domain Robustness/run-iaorx9o7-toxigen_stabilityaiStableBeluga7b_random_16_Kyle1668bosstoxicity48000bertbaseuncased_style_logs:v0\n"
     ]
    },
    {
     "name": "stderr",
     "output_type": "stream",
     "text": [
      "\u001b[34m\u001b[1mwandb\u001b[0m:   1 of 1 files downloaded.  \n",
      " 56%|█████▌    | 181/325 [1:19:59<02:40,  1.11s/it]"
     ]
    },
    {
     "name": "stdout",
     "output_type": "stream",
     "text": [
      "Downloading BOSS_Toxicity_Toxigen_T5_Insert --- healthyml/In-Context Domain Transfer Improves Out-of-Domain Robustness/run-57a9z4m8-toxigen_aug_insert_random_16_Kyle1668bosstoxicityt5large_style_logs:v0\n",
      "Permission denied to access healthyml/In-Context-Domain-Transfer-Improves-Out-of-Domain-Robustness-notebooks/4tkjw4fr\n",
      "BOSS_Toxicity_Toxigen_T5_Insert\n"
     ]
    },
    {
     "name": "stderr",
     "output_type": "stream",
     "text": [
      " 56%|█████▌    | 182/325 [1:19:59<02:00,  1.19it/s]"
     ]
    },
    {
     "name": "stdout",
     "output_type": "stream",
     "text": [
      "Downloading BOSS_Toxicity_Toxigen_T5_Substitute --- healthyml/In-Context Domain Transfer Improves Out-of-Domain Robustness/run-57a9z4m8-toxigen_aug_substitute_random_16_Kyle1668bosstoxicityt5large_style_logs:v0\n",
      "Permission denied to access healthyml/In-Context-Domain-Transfer-Improves-Out-of-Domain-Robustness-notebooks/4tkjw4fr\n",
      "BOSS_Toxicity_Toxigen_T5_Substitute\n",
      "Downloading BOSS_Toxicity_Toxigen_T5_Translate --- healthyml/In-Context Domain Transfer Improves Out-of-Domain Robustness/run-57a9z4m8-toxigen_aug_backtranslate_random_16_Kyle1668bosstoxicityt5large_style_logs:v0\n"
     ]
    },
    {
     "name": "stderr",
     "output_type": "stream",
     "text": [
      " 56%|█████▋    | 183/325 [1:19:59<01:32,  1.53it/s]"
     ]
    },
    {
     "name": "stdout",
     "output_type": "stream",
     "text": [
      "Permission denied to access healthyml/In-Context-Domain-Transfer-Improves-Out-of-Domain-Robustness-notebooks/4tkjw4fr\n",
      "BOSS_Toxicity_Toxigen_T5_Translate\n",
      "Downloading BOSS_Toxicity_Toxigen_T5_Paraphrase --- healthyml/In-Context Domain Transfer Improves Out-of-Domain Robustness/run-57a9z4m8-toxigen_stabilityaiStableBeluga7b_random_0_Kyle1668bosstoxicityt5large_style_logs:v0\n"
     ]
    },
    {
     "name": "stderr",
     "output_type": "stream",
     "text": [
      " 57%|█████▋    | 185/325 [1:20:00<01:00,  2.30it/s]"
     ]
    },
    {
     "name": "stdout",
     "output_type": "stream",
     "text": [
      "Permission denied to access healthyml/In-Context-Domain-Transfer-Improves-Out-of-Domain-Robustness-notebooks/4tkjw4fr\n",
      "BOSS_Toxicity_Toxigen_T5_Paraphrase\n",
      "Downloading BOSS_Toxicity_Toxigen_T5_ICR --- healthyml/In-Context Domain Transfer Improves Out-of-Domain Robustness/run-57a9z4m8-toxigen_stabilityaiStableBeluga7b_random_16_Kyle1668bosstoxicityt5large_style_logs:v0\n",
      "Permission denied to access healthyml/In-Context-Domain-Transfer-Improves-Out-of-Domain-Robustness-notebooks/4tkjw4fr\n",
      "BOSS_Toxicity_Toxigen_T5_ICR\n",
      "Downloading BOSS_Toxicity_Toxigen_Falcon_Insert --- healthyml/In-Context Domain Transfer Improves Out-of-Domain Robustness/run-57a9z4m8-toxigen_aug_insert_random_16_tiiuaefalcon7binstruct_style_logs:v0\n"
     ]
    },
    {
     "name": "stderr",
     "output_type": "stream",
     "text": [
      " 58%|█████▊    | 187/325 [1:20:00<00:42,  3.22it/s]"
     ]
    },
    {
     "name": "stdout",
     "output_type": "stream",
     "text": [
      "Permission denied to access healthyml/In-Context-Domain-Transfer-Improves-Out-of-Domain-Robustness-notebooks/4tkjw4fr\n",
      "BOSS_Toxicity_Toxigen_Falcon_Insert\n",
      "Downloading BOSS_Toxicity_Toxigen_Falcon_Substitute --- healthyml/In-Context Domain Transfer Improves Out-of-Domain Robustness/run-57a9z4m8-toxigen_aug_substitute_random_16_tiiuaefalcon7binstruct_style_logs:v0\n",
      "Permission denied to access healthyml/In-Context-Domain-Transfer-Improves-Out-of-Domain-Robustness-notebooks/4tkjw4fr\n",
      "BOSS_Toxicity_Toxigen_Falcon_Substitute\n",
      "Downloading BOSS_Toxicity_Toxigen_Falcon_Translate --- healthyml/In-Context Domain Transfer Improves Out-of-Domain Robustness/run-57a9z4m8-toxigen_aug_backtranslate_random_16_tiiuaefalcon7binstruct_style_logs:v0\n"
     ]
    },
    {
     "name": "stderr",
     "output_type": "stream",
     "text": [
      " 58%|█████▊    | 189/325 [1:20:00<00:33,  4.04it/s]"
     ]
    },
    {
     "name": "stdout",
     "output_type": "stream",
     "text": [
      "Permission denied to access healthyml/In-Context-Domain-Transfer-Improves-Out-of-Domain-Robustness-notebooks/4tkjw4fr\n",
      "BOSS_Toxicity_Toxigen_Falcon_Translate\n",
      "Downloading BOSS_Toxicity_Toxigen_Falcon_Paraphrase --- healthyml/In-Context Domain Transfer Improves Out-of-Domain Robustness/run-57a9z4m8-toxigen_stabilityaiStableBeluga7b_random_0_tiiuaefalcon7binstruct_style_logs:v0\n",
      "Permission denied to access healthyml/In-Context-Domain-Transfer-Improves-Out-of-Domain-Robustness-notebooks/4tkjw4fr\n",
      "BOSS_Toxicity_Toxigen_Falcon_Paraphrase\n",
      "Downloading BOSS_Toxicity_Toxigen_Falcon_ICR --- healthyml/In-Context Domain Transfer Improves Out-of-Domain Robustness/run-57a9z4m8-toxigen_stabilityaiStableBeluga7b_random_16_tiiuaefalcon7binstruct_style_logs:v0\n"
     ]
    },
    {
     "name": "stderr",
     "output_type": "stream",
     "text": [
      " 58%|█████▊    | 190/325 [1:20:01<00:31,  4.32it/s]"
     ]
    },
    {
     "name": "stdout",
     "output_type": "stream",
     "text": [
      "Permission denied to access healthyml/In-Context-Domain-Transfer-Improves-Out-of-Domain-Robustness-notebooks/4tkjw4fr\n",
      "BOSS_Toxicity_Toxigen_Falcon_ICR\n",
      "Downloading BOSS_Toxicity_ImplicitHate_BERT_Insert --- healthyml/In-Context Domain Transfer Improves Out-of-Domain Robustness/run-57a9z4m8-implicit_hate_aug_insert_random_16_Kyle1668bosstoxicitybertbaseuncased_style_logs:v0\n"
     ]
    },
    {
     "name": "stderr",
     "output_type": "stream",
     "text": [
      "\u001b[34m\u001b[1mwandb\u001b[0m:   1 of 1 files downloaded.  \n",
      " 59%|█████▉    | 191/325 [1:20:08<05:03,  2.27s/it]"
     ]
    },
    {
     "name": "stdout",
     "output_type": "stream",
     "text": [
      "Downloading BOSS_Toxicity_ImplicitHate_BERT_Substitute --- healthyml/In-Context Domain Transfer Improves Out-of-Domain Robustness/run-57a9z4m8-implicit_hate_aug_substitute_random_16_Kyle1668bosstoxicitybertbaseuncased_style_logs:v0\n"
     ]
    },
    {
     "name": "stderr",
     "output_type": "stream",
     "text": [
      "\u001b[34m\u001b[1mwandb\u001b[0m:   1 of 1 files downloaded.  \n",
      " 59%|█████▉    | 192/325 [1:20:15<08:42,  3.93s/it]"
     ]
    },
    {
     "name": "stdout",
     "output_type": "stream",
     "text": [
      "Downloading BOSS_Toxicity_ImplicitHate_BERT_Translate --- healthyml/In-Context Domain Transfer Improves Out-of-Domain Robustness/run-57a9z4m8-implicit_hate_aug_backtranslate_random_16_Kyle1668bosstoxicitybertbaseuncased_style_logs:v0\n"
     ]
    },
    {
     "name": "stderr",
     "output_type": "stream",
     "text": [
      "\u001b[34m\u001b[1mwandb\u001b[0m:   1 of 1 files downloaded.  \n",
      " 59%|█████▉    | 193/325 [1:20:25<12:10,  5.53s/it]"
     ]
    },
    {
     "name": "stdout",
     "output_type": "stream",
     "text": [
      "Downloading BOSS_Toxicity_ImplicitHate_BERT_Paraphrase --- healthyml/In-Context Domain Transfer Improves Out-of-Domain Robustness/run-57a9z4m8-implicit_hate_stabilityaiStableBeluga7b_random_0_Kyle1668bosstoxicitybertbaseuncased_style_logs:v0\n"
     ]
    },
    {
     "name": "stderr",
     "output_type": "stream",
     "text": [
      "\u001b[34m\u001b[1mwandb\u001b[0m:   1 of 1 files downloaded.  \n",
      " 60%|█████▉    | 194/325 [1:20:33<14:11,  6.50s/it]"
     ]
    },
    {
     "name": "stdout",
     "output_type": "stream",
     "text": [
      "Downloading BOSS_Toxicity_ImplicitHate_BERT_ICR --- healthyml/In-Context Domain Transfer Improves Out-of-Domain Robustness/run-lixlm6qh-implicit_hate_stabilityaiStableBeluga7b_random_16_Kyle1668bosstoxicitybertbaseuncased_style_logs:v0\n"
     ]
    },
    {
     "name": "stderr",
     "output_type": "stream",
     "text": [
      "\u001b[34m\u001b[1mwandb\u001b[0m: Downloading large artifact run-lixlm6qh-implicit_hate_stabilityaiStableBeluga7b_random_16_Kyle1668bosstoxicitybertbaseuncased_style_logs:v0, 611.76MB. 1 files... \n",
      "\u001b[34m\u001b[1mwandb\u001b[0m:   1 of 1 files downloaded.  \n",
      "Done. 0:1:28.6\n",
      " 60%|██████    | 195/325 [1:22:03<1:07:59, 31.38s/it]"
     ]
    },
    {
     "name": "stdout",
     "output_type": "stream",
     "text": [
      "Downloading BOSS_Toxicity_Ablate_Data_ImplicitHate_BERT3000_Insert --- healthyml/In-Context Domain Transfer Improves Out-of-Domain Robustness/run-ms2943fk-implicit_hate_aug_insert_random_16_Kyle1668bosstoxicity3000bertbaseuncased_style_logs:v0\n"
     ]
    },
    {
     "name": "stderr",
     "output_type": "stream",
     "text": [
      "\u001b[34m\u001b[1mwandb\u001b[0m:   1 of 1 files downloaded.  \n",
      " 60%|██████    | 196/325 [1:22:09<51:22, 23.90s/it]  "
     ]
    },
    {
     "name": "stdout",
     "output_type": "stream",
     "text": [
      "Downloading BOSS_Toxicity_Ablate_Data_ImplicitHate_BERT3000_Substitute --- healthyml/In-Context Domain Transfer Improves Out-of-Domain Robustness/run-ms2943fk-implicit_hate_aug_substitute_random_16_Kyle1668bosstoxicity3000bertbaseuncased_style_logs:v0\n"
     ]
    },
    {
     "name": "stderr",
     "output_type": "stream",
     "text": [
      "\u001b[34m\u001b[1mwandb\u001b[0m:   1 of 1 files downloaded.  \n",
      " 61%|██████    | 197/325 [1:22:15<39:32, 18.54s/it]"
     ]
    },
    {
     "name": "stdout",
     "output_type": "stream",
     "text": [
      "Downloading BOSS_Toxicity_Ablate_Data_ImplicitHate_BERT3000_Translate --- healthyml/In-Context Domain Transfer Improves Out-of-Domain Robustness/run-ms2943fk-implicit_hate_aug_backtranslate_random_16_Kyle1668bosstoxicity3000bertbaseuncased_style_logs:v0\n"
     ]
    },
    {
     "name": "stderr",
     "output_type": "stream",
     "text": [
      "\u001b[34m\u001b[1mwandb\u001b[0m:   1 of 1 files downloaded.  \n",
      " 61%|██████    | 198/325 [1:22:22<31:24, 14.84s/it]"
     ]
    },
    {
     "name": "stdout",
     "output_type": "stream",
     "text": [
      "Downloading BOSS_Toxicity_Ablate_Data_ImplicitHate_BERT3000_Paraphrase --- healthyml/In-Context Domain Transfer Improves Out-of-Domain Robustness/run-ms2943fk-implicit_hate_stabilityaiStableBeluga7b_random_0_Kyle1668bosstoxicity3000bertbaseuncased_style_logs:v0\n"
     ]
    },
    {
     "name": "stderr",
     "output_type": "stream",
     "text": [
      "\u001b[34m\u001b[1mwandb\u001b[0m:   1 of 1 files downloaded.  \n",
      " 61%|██████    | 199/325 [1:22:28<25:47, 12.28s/it]"
     ]
    },
    {
     "name": "stdout",
     "output_type": "stream",
     "text": [
      "Downloading BOSS_Toxicity_Ablate_Data_ImplicitHate_BERT3000_ICR --- healthyml/In-Context Domain Transfer Improves Out-of-Domain Robustness/run-ms2943fk-implicit_hate_stabilityaiStableBeluga7b_random_16_Kyle1668bosstoxicity3000bertbaseuncased_style_logs:v0\n"
     ]
    },
    {
     "name": "stderr",
     "output_type": "stream",
     "text": [
      "\u001b[34m\u001b[1mwandb\u001b[0m: Downloading large artifact run-ms2943fk-implicit_hate_stabilityaiStableBeluga7b_random_16_Kyle1668bosstoxicity3000bertbaseuncased_style_logs:v0, 82.01MB. 1 files... \n",
      "\u001b[34m\u001b[1mwandb\u001b[0m:   1 of 1 files downloaded.  \n",
      "Done. 0:0:11.2\n",
      " 62%|██████▏   | 200/325 [1:22:41<26:15, 12.60s/it]"
     ]
    },
    {
     "name": "stdout",
     "output_type": "stream",
     "text": [
      "Downloading BOSS_Toxicity_Ablate_Data_ImplicitHate_BERT6000_Insert --- healthyml/In-Context Domain Transfer Improves Out-of-Domain Robustness/run-2ecsgmy9-implicit_hate_aug_insert_random_16_Kyle1668bosstoxicity6000bertbaseuncased_style_logs:v0\n"
     ]
    },
    {
     "name": "stderr",
     "output_type": "stream",
     "text": [
      "\u001b[34m\u001b[1mwandb\u001b[0m:   1 of 1 files downloaded.  \n",
      " 62%|██████▏   | 201/325 [1:22:50<23:49, 11.53s/it]"
     ]
    },
    {
     "name": "stdout",
     "output_type": "stream",
     "text": [
      "Downloading BOSS_Toxicity_Ablate_Data_ImplicitHate_BERT6000_Substitute --- healthyml/In-Context Domain Transfer Improves Out-of-Domain Robustness/run-2ecsgmy9-implicit_hate_aug_substitute_random_16_Kyle1668bosstoxicity6000bertbaseuncased_style_logs:v0\n"
     ]
    },
    {
     "name": "stderr",
     "output_type": "stream",
     "text": [
      "\u001b[34m\u001b[1mwandb\u001b[0m:   1 of 1 files downloaded.  \n",
      " 62%|██████▏   | 202/325 [1:23:01<23:01, 11.24s/it]"
     ]
    },
    {
     "name": "stdout",
     "output_type": "stream",
     "text": [
      "Downloading BOSS_Toxicity_Ablate_Data_ImplicitHate_BERT6000_Translate --- healthyml/In-Context Domain Transfer Improves Out-of-Domain Robustness/run-2ecsgmy9-implicit_hate_aug_backtranslate_random_16_Kyle1668bosstoxicity6000bertbaseuncased_style_logs:v0\n"
     ]
    },
    {
     "name": "stderr",
     "output_type": "stream",
     "text": [
      "\u001b[34m\u001b[1mwandb\u001b[0m:   1 of 1 files downloaded.  \n",
      " 62%|██████▏   | 203/325 [1:23:09<20:51, 10.26s/it]"
     ]
    },
    {
     "name": "stdout",
     "output_type": "stream",
     "text": [
      "Downloading BOSS_Toxicity_Ablate_Data_ImplicitHate_BERT6000_Paraphrase --- healthyml/In-Context Domain Transfer Improves Out-of-Domain Robustness/run-2ecsgmy9-implicit_hate_stabilityaiStableBeluga7b_random_0_Kyle1668bosstoxicity6000bertbaseuncased_style_logs:v0\n"
     ]
    },
    {
     "name": "stderr",
     "output_type": "stream",
     "text": [
      "\u001b[34m\u001b[1mwandb\u001b[0m:   1 of 1 files downloaded.  \n",
      " 63%|██████▎   | 204/325 [1:23:16<19:06,  9.47s/it]"
     ]
    },
    {
     "name": "stdout",
     "output_type": "stream",
     "text": [
      "Downloading BOSS_Toxicity_Ablate_Data_ImplicitHate_BERT6000_ICR --- healthyml/In-Context Domain Transfer Improves Out-of-Domain Robustness/run-2ecsgmy9-implicit_hate_stabilityaiStableBeluga7b_random_16_Kyle1668bosstoxicity6000bertbaseuncased_style_logs:v0\n"
     ]
    },
    {
     "name": "stderr",
     "output_type": "stream",
     "text": [
      "\u001b[34m\u001b[1mwandb\u001b[0m: Downloading large artifact run-2ecsgmy9-implicit_hate_stabilityaiStableBeluga7b_random_16_Kyle1668bosstoxicity6000bertbaseuncased_style_logs:v0, 86.79MB. 1 files... \n",
      "\u001b[34m\u001b[1mwandb\u001b[0m:   1 of 1 files downloaded.  \n",
      "Done. 0:0:14.0\n",
      " 63%|██████▎   | 205/325 [1:23:31<22:05, 11.04s/it]"
     ]
    },
    {
     "name": "stdout",
     "output_type": "stream",
     "text": [
      "Downloading BOSS_Toxicity_Ablate_Data_ImplicitHate_BERT12000_Insert --- healthyml/In-Context Domain Transfer Improves Out-of-Domain Robustness/run-7hgtyr98-implicit_hate_aug_insert_random_16_Kyle1668bosstoxicity12000bertbaseuncased_style_logs:v0\n"
     ]
    },
    {
     "name": "stderr",
     "output_type": "stream",
     "text": [
      "\u001b[34m\u001b[1mwandb\u001b[0m:   1 of 1 files downloaded.  \n",
      " 63%|██████▎   | 206/325 [1:23:38<19:29,  9.83s/it]"
     ]
    },
    {
     "name": "stdout",
     "output_type": "stream",
     "text": [
      "Downloading BOSS_Toxicity_Ablate_Data_ImplicitHate_BERT12000_Substitute --- healthyml/In-Context Domain Transfer Improves Out-of-Domain Robustness/run-7hgtyr98-implicit_hate_aug_substitute_random_16_Kyle1668bosstoxicity12000bertbaseuncased_style_logs:v0\n"
     ]
    },
    {
     "name": "stderr",
     "output_type": "stream",
     "text": [
      "\u001b[34m\u001b[1mwandb\u001b[0m:   1 of 1 files downloaded.  \n",
      " 64%|██████▎   | 207/325 [1:23:45<17:21,  8.83s/it]"
     ]
    },
    {
     "name": "stdout",
     "output_type": "stream",
     "text": [
      "Downloading BOSS_Toxicity_Ablate_Data_ImplicitHate_BERT12000_Translate --- healthyml/In-Context Domain Transfer Improves Out-of-Domain Robustness/run-7hgtyr98-implicit_hate_aug_backtranslate_random_16_Kyle1668bosstoxicity12000bertbaseuncased_style_logs:v0\n"
     ]
    },
    {
     "name": "stderr",
     "output_type": "stream",
     "text": [
      "\u001b[34m\u001b[1mwandb\u001b[0m:   1 of 1 files downloaded.  \n",
      " 64%|██████▍   | 208/325 [1:23:52<16:04,  8.25s/it]"
     ]
    },
    {
     "name": "stdout",
     "output_type": "stream",
     "text": [
      "Downloading BOSS_Toxicity_Ablate_Data_ImplicitHate_BERT12000_Paraphrase --- healthyml/In-Context Domain Transfer Improves Out-of-Domain Robustness/run-7hgtyr98-implicit_hate_stabilityaiStableBeluga7b_random_0_Kyle1668bosstoxicity12000bertbaseuncased_style_logs:v0\n"
     ]
    },
    {
     "name": "stderr",
     "output_type": "stream",
     "text": [
      "\u001b[34m\u001b[1mwandb\u001b[0m:   1 of 1 files downloaded.  \n",
      " 64%|██████▍   | 209/325 [1:23:59<15:43,  8.13s/it]"
     ]
    },
    {
     "name": "stdout",
     "output_type": "stream",
     "text": [
      "Downloading BOSS_Toxicity_Ablate_Data_ImplicitHate_BERT12000_ICR --- healthyml/In-Context Domain Transfer Improves Out-of-Domain Robustness/run-7hgtyr98-implicit_hate_stabilityaiStableBeluga7b_random_16_Kyle1668bosstoxicity12000bertbaseuncased_style_logs:v0\n"
     ]
    },
    {
     "name": "stderr",
     "output_type": "stream",
     "text": [
      "\u001b[34m\u001b[1mwandb\u001b[0m: Downloading large artifact run-7hgtyr98-implicit_hate_stabilityaiStableBeluga7b_random_16_Kyle1668bosstoxicity12000bertbaseuncased_style_logs:v0, 86.52MB. 1 files... \n",
      "\u001b[34m\u001b[1mwandb\u001b[0m:   1 of 1 files downloaded.  \n",
      "Done. 0:0:15.6\n",
      " 65%|██████▍   | 210/325 [1:24:16<20:21, 10.62s/it]"
     ]
    },
    {
     "name": "stdout",
     "output_type": "stream",
     "text": [
      "Downloading BOSS_Toxicity_Ablate_Data_ImplicitHate_BERT24000_Insert --- healthyml/In-Context Domain Transfer Improves Out-of-Domain Robustness/run-wl2a38kf-implicit_hate_aug_insert_random_16_Kyle1668bosstoxicity24000bertbaseuncased_style_logs:v0\n"
     ]
    },
    {
     "name": "stderr",
     "output_type": "stream",
     "text": [
      "\u001b[34m\u001b[1mwandb\u001b[0m:   1 of 1 files downloaded.  \n",
      " 65%|██████▍   | 211/325 [1:24:26<20:08, 10.60s/it]"
     ]
    },
    {
     "name": "stdout",
     "output_type": "stream",
     "text": [
      "Downloading BOSS_Toxicity_Ablate_Data_ImplicitHate_BERT24000_Substitute --- healthyml/In-Context Domain Transfer Improves Out-of-Domain Robustness/run-wl2a38kf-implicit_hate_aug_substitute_random_16_Kyle1668bosstoxicity24000bertbaseuncased_style_logs:v0\n"
     ]
    },
    {
     "name": "stderr",
     "output_type": "stream",
     "text": [
      "\u001b[34m\u001b[1mwandb\u001b[0m:   1 of 1 files downloaded.  \n",
      " 65%|██████▌   | 212/325 [1:24:36<19:13, 10.21s/it]"
     ]
    },
    {
     "name": "stdout",
     "output_type": "stream",
     "text": [
      "Downloading BOSS_Toxicity_Ablate_Data_ImplicitHate_BERT24000_Translate --- healthyml/In-Context Domain Transfer Improves Out-of-Domain Robustness/run-wl2a38kf-implicit_hate_aug_backtranslate_random_16_Kyle1668bosstoxicity24000bertbaseuncased_style_logs:v0\n"
     ]
    },
    {
     "name": "stderr",
     "output_type": "stream",
     "text": [
      "\u001b[34m\u001b[1mwandb\u001b[0m:   1 of 1 files downloaded.  \n",
      " 66%|██████▌   | 213/325 [1:24:42<17:08,  9.19s/it]"
     ]
    },
    {
     "name": "stdout",
     "output_type": "stream",
     "text": [
      "Downloading BOSS_Toxicity_Ablate_Data_ImplicitHate_BERT24000_Paraphrase --- healthyml/In-Context Domain Transfer Improves Out-of-Domain Robustness/run-wl2a38kf-implicit_hate_stabilityaiStableBeluga7b_random_0_Kyle1668bosstoxicity24000bertbaseuncased_style_logs:v0\n"
     ]
    },
    {
     "name": "stderr",
     "output_type": "stream",
     "text": [
      "\u001b[34m\u001b[1mwandb\u001b[0m:   1 of 1 files downloaded.  \n",
      " 66%|██████▌   | 214/325 [1:24:54<18:18,  9.90s/it]"
     ]
    },
    {
     "name": "stdout",
     "output_type": "stream",
     "text": [
      "Downloading BOSS_Toxicity_Ablate_Data_ImplicitHate_BERT24000_ICR --- healthyml/In-Context Domain Transfer Improves Out-of-Domain Robustness/run-wl2a38kf-implicit_hate_stabilityaiStableBeluga7b_random_16_Kyle1668bosstoxicity24000bertbaseuncased_style_logs:v0\n"
     ]
    },
    {
     "name": "stderr",
     "output_type": "stream",
     "text": [
      "\u001b[34m\u001b[1mwandb\u001b[0m: Downloading large artifact run-wl2a38kf-implicit_hate_stabilityaiStableBeluga7b_random_16_Kyle1668bosstoxicity24000bertbaseuncased_style_logs:v0, 87.23MB. 1 files... \n",
      "\u001b[34m\u001b[1mwandb\u001b[0m:   1 of 1 files downloaded.  \n",
      "Done. 0:0:26.8\n",
      " 66%|██████▌   | 215/325 [1:25:22<28:02, 15.30s/it]"
     ]
    },
    {
     "name": "stdout",
     "output_type": "stream",
     "text": [
      "Downloading BOSS_Toxicity_Ablate_Data_ImplicitHate_BERT48000_Insert --- healthyml/In-Context Domain Transfer Improves Out-of-Domain Robustness/run-iaorx9o7-implicit_hate_aug_insert_random_16_Kyle1668bosstoxicity48000bertbaseuncased_style_logs:v0\n"
     ]
    },
    {
     "name": "stderr",
     "output_type": "stream",
     "text": [
      "\u001b[34m\u001b[1mwandb\u001b[0m:   1 of 1 files downloaded.  \n",
      " 66%|██████▋   | 216/325 [1:25:36<27:14, 14.99s/it]"
     ]
    },
    {
     "name": "stdout",
     "output_type": "stream",
     "text": [
      "Downloading BOSS_Toxicity_Ablate_Data_ImplicitHate_BERT48000_Substitute --- healthyml/In-Context Domain Transfer Improves Out-of-Domain Robustness/run-iaorx9o7-implicit_hate_aug_substitute_random_16_Kyle1668bosstoxicity48000bertbaseuncased_style_logs:v0\n"
     ]
    },
    {
     "name": "stderr",
     "output_type": "stream",
     "text": [
      "\u001b[34m\u001b[1mwandb\u001b[0m:   1 of 1 files downloaded.  \n",
      " 67%|██████▋   | 217/325 [1:25:50<26:30, 14.73s/it]"
     ]
    },
    {
     "name": "stdout",
     "output_type": "stream",
     "text": [
      "Downloading BOSS_Toxicity_Ablate_Data_ImplicitHate_BERT48000_Translate --- healthyml/In-Context Domain Transfer Improves Out-of-Domain Robustness/run-iaorx9o7-implicit_hate_aug_backtranslate_random_16_Kyle1668bosstoxicity48000bertbaseuncased_style_logs:v0\n"
     ]
    },
    {
     "name": "stderr",
     "output_type": "stream",
     "text": [
      "\u001b[34m\u001b[1mwandb\u001b[0m:   1 of 1 files downloaded.  \n",
      " 67%|██████▋   | 218/325 [1:26:01<24:15, 13.60s/it]"
     ]
    },
    {
     "name": "stdout",
     "output_type": "stream",
     "text": [
      "Downloading BOSS_Toxicity_Ablate_Data_ImplicitHate_BERT48000_Paraphrase --- healthyml/In-Context Domain Transfer Improves Out-of-Domain Robustness/run-iaorx9o7-implicit_hate_stabilityaiStableBeluga7b_random_0_Kyle1668bosstoxicity48000bertbaseuncased_style_logs:v0\n"
     ]
    },
    {
     "name": "stderr",
     "output_type": "stream",
     "text": [
      "\u001b[34m\u001b[1mwandb\u001b[0m:   1 of 1 files downloaded.  \n",
      " 67%|██████▋   | 219/325 [1:26:17<24:58, 14.14s/it]"
     ]
    },
    {
     "name": "stdout",
     "output_type": "stream",
     "text": [
      "Downloading BOSS_Toxicity_Ablate_Data_ImplicitHate_BERT48000_ICR --- healthyml/In-Context Domain Transfer Improves Out-of-Domain Robustness/run-iaorx9o7-implicit_hate_stabilityaiStableBeluga7b_random_16_Kyle1668bosstoxicity48000bertbaseuncased_style_logs:v0\n"
     ]
    },
    {
     "name": "stderr",
     "output_type": "stream",
     "text": [
      "\u001b[34m\u001b[1mwandb\u001b[0m: Downloading large artifact run-iaorx9o7-implicit_hate_stabilityaiStableBeluga7b_random_16_Kyle1668bosstoxicity48000bertbaseuncased_style_logs:v0, 86.60MB. 1 files... \n",
      "\u001b[34m\u001b[1mwandb\u001b[0m:   1 of 1 files downloaded.  \n",
      "Done. 0:0:50.7\n",
      " 68%|██████▊   | 220/325 [1:27:08<44:23, 25.37s/it]"
     ]
    },
    {
     "name": "stdout",
     "output_type": "stream",
     "text": [
      "Downloading BOSS_Toxicity_ImplicitHate_T5_Insert --- healthyml/In-Context Domain Transfer Improves Out-of-Domain Robustness/run-57a9z4m8-implicit_hate_aug_insert_random_16_Kyle1668bosstoxicityt5large_style_logs:v0\n"
     ]
    },
    {
     "name": "stderr",
     "output_type": "stream",
     "text": [
      " 68%|██████▊   | 221/325 [1:27:08<30:54, 17.83s/it]"
     ]
    },
    {
     "name": "stdout",
     "output_type": "stream",
     "text": [
      "Permission denied to access healthyml/In-Context-Domain-Transfer-Improves-Out-of-Domain-Robustness-notebooks/4tkjw4fr\n",
      "BOSS_Toxicity_ImplicitHate_T5_Insert\n",
      "Downloading BOSS_Toxicity_ImplicitHate_T5_Substitute --- healthyml/In-Context Domain Transfer Improves Out-of-Domain Robustness/run-57a9z4m8-implicit_hate_aug_substitute_random_16_Kyle1668bosstoxicityt5large_style_logs:v0\n"
     ]
    },
    {
     "name": "stderr",
     "output_type": "stream",
     "text": [
      " 68%|██████▊   | 222/325 [1:27:09<21:36, 12.59s/it]"
     ]
    },
    {
     "name": "stdout",
     "output_type": "stream",
     "text": [
      "Permission denied to access healthyml/In-Context-Domain-Transfer-Improves-Out-of-Domain-Robustness-notebooks/4tkjw4fr\n",
      "BOSS_Toxicity_ImplicitHate_T5_Substitute\n",
      "Downloading BOSS_Toxicity_ImplicitHate_T5_Translate --- healthyml/In-Context Domain Transfer Improves Out-of-Domain Robustness/run-57a9z4m8-implicit_hate_aug_backtranslate_random_16_Kyle1668bosstoxicityt5large_style_logs:v0\n"
     ]
    },
    {
     "name": "stderr",
     "output_type": "stream",
     "text": [
      " 69%|██████▊   | 223/325 [1:27:09<15:10,  8.92s/it]"
     ]
    },
    {
     "name": "stdout",
     "output_type": "stream",
     "text": [
      "Permission denied to access healthyml/In-Context-Domain-Transfer-Improves-Out-of-Domain-Robustness-notebooks/4tkjw4fr\n",
      "BOSS_Toxicity_ImplicitHate_T5_Translate\n",
      "Downloading BOSS_Toxicity_ImplicitHate_T5_Paraphrase --- healthyml/In-Context Domain Transfer Improves Out-of-Domain Robustness/run-57a9z4m8-implicit_hate_stabilityaiStableBeluga7b_random_0_Kyle1668bosstoxicityt5large_style_logs:v0\n"
     ]
    },
    {
     "name": "stderr",
     "output_type": "stream",
     "text": [
      " 69%|██████▉   | 224/325 [1:27:09<10:39,  6.33s/it]"
     ]
    },
    {
     "name": "stdout",
     "output_type": "stream",
     "text": [
      "Permission denied to access healthyml/In-Context-Domain-Transfer-Improves-Out-of-Domain-Robustness-notebooks/4tkjw4fr\n",
      "BOSS_Toxicity_ImplicitHate_T5_Paraphrase\n",
      "Downloading BOSS_Toxicity_ImplicitHate_T5_ICR --- healthyml/In-Context Domain Transfer Improves Out-of-Domain Robustness/run-57a9z4m8-implicit_hate_stabilityaiStableBeluga7b_random_16_Kyle1668bosstoxicityt5large_style_logs:v0\n"
     ]
    },
    {
     "name": "stderr",
     "output_type": "stream",
     "text": [
      " 69%|██████▉   | 225/325 [1:27:10<07:34,  4.55s/it]"
     ]
    },
    {
     "name": "stdout",
     "output_type": "stream",
     "text": [
      "Permission denied to access healthyml/In-Context-Domain-Transfer-Improves-Out-of-Domain-Robustness-notebooks/4tkjw4fr\n",
      "BOSS_Toxicity_ImplicitHate_T5_ICR\n",
      "Downloading BOSS_Toxicity_ImplicitHate_Falcon_Insert --- healthyml/In-Context Domain Transfer Improves Out-of-Domain Robustness/run-57a9z4m8-implicit_hate_aug_insert_random_16_tiiuaefalcon7binstruct_style_logs:v0\n"
     ]
    },
    {
     "name": "stderr",
     "output_type": "stream",
     "text": [
      " 70%|██████▉   | 226/325 [1:27:10<05:23,  3.27s/it]"
     ]
    },
    {
     "name": "stdout",
     "output_type": "stream",
     "text": [
      "Permission denied to access healthyml/In-Context-Domain-Transfer-Improves-Out-of-Domain-Robustness-notebooks/4tkjw4fr\n",
      "BOSS_Toxicity_ImplicitHate_Falcon_Insert\n",
      "Downloading BOSS_Toxicity_ImplicitHate_Falcon_Substitute --- healthyml/In-Context Domain Transfer Improves Out-of-Domain Robustness/run-57a9z4m8-implicit_hate_aug_substitute_random_16_tiiuaefalcon7binstruct_style_logs:v0\n"
     ]
    },
    {
     "name": "stderr",
     "output_type": "stream",
     "text": [
      " 70%|██████▉   | 227/325 [1:27:10<03:53,  2.38s/it]"
     ]
    },
    {
     "name": "stdout",
     "output_type": "stream",
     "text": [
      "Permission denied to access healthyml/In-Context-Domain-Transfer-Improves-Out-of-Domain-Robustness-notebooks/4tkjw4fr\n",
      "BOSS_Toxicity_ImplicitHate_Falcon_Substitute\n",
      "Downloading BOSS_Toxicity_ImplicitHate_Falcon_Translate --- healthyml/In-Context Domain Transfer Improves Out-of-Domain Robustness/run-57a9z4m8-implicit_hate_aug_backtranslate_random_16_tiiuaefalcon7binstruct_style_logs:v0\n"
     ]
    },
    {
     "name": "stderr",
     "output_type": "stream",
     "text": [
      " 70%|███████   | 228/325 [1:27:11<02:52,  1.77s/it]"
     ]
    },
    {
     "name": "stdout",
     "output_type": "stream",
     "text": [
      "Permission denied to access healthyml/In-Context-Domain-Transfer-Improves-Out-of-Domain-Robustness-notebooks/4tkjw4fr\n",
      "BOSS_Toxicity_ImplicitHate_Falcon_Translate\n",
      "Downloading BOSS_Toxicity_AdvCivil_BERT_Insert --- healthyml/In-Context Domain Transfer Improves Out-of-Domain Robustness/run-57a9z4m8-adv_civil_aug_insert_random_16_Kyle1668bosstoxicitybertbaseuncased_style_logs:v0\n"
     ]
    },
    {
     "name": "stderr",
     "output_type": "stream",
     "text": [
      "\u001b[34m\u001b[1mwandb\u001b[0m:   1 of 1 files downloaded.  \n",
      " 71%|███████   | 231/325 [1:27:14<02:17,  1.46s/it]"
     ]
    },
    {
     "name": "stdout",
     "output_type": "stream",
     "text": [
      "Downloading BOSS_Toxicity_AdvCivil_BERT_Substitute --- healthyml/In-Context Domain Transfer Improves Out-of-Domain Robustness/run-57a9z4m8-adv_civil_aug_substitute_random_16_Kyle1668bosstoxicitybertbaseuncased_style_logs:v0\n"
     ]
    },
    {
     "name": "stderr",
     "output_type": "stream",
     "text": [
      "\u001b[34m\u001b[1mwandb\u001b[0m:   1 of 1 files downloaded.  \n",
      " 71%|███████▏  | 232/325 [1:27:18<03:05,  2.00s/it]"
     ]
    },
    {
     "name": "stdout",
     "output_type": "stream",
     "text": [
      "Downloading BOSS_Toxicity_AdvCivil_BERT_Translate --- healthyml/In-Context Domain Transfer Improves Out-of-Domain Robustness/run-57a9z4m8-adv_civil_aug_backtranslate_random_16_Kyle1668bosstoxicitybertbaseuncased_style_logs:v0\n"
     ]
    },
    {
     "name": "stderr",
     "output_type": "stream",
     "text": [
      "\u001b[34m\u001b[1mwandb\u001b[0m:   1 of 1 files downloaded.  \n",
      " 72%|███████▏  | 233/325 [1:27:22<03:31,  2.29s/it]"
     ]
    },
    {
     "name": "stdout",
     "output_type": "stream",
     "text": [
      "Downloading BOSS_Toxicity_AdvCivil_BERT_Paraphrase --- healthyml/In-Context Domain Transfer Improves Out-of-Domain Robustness/run-57a9z4m8-adv_civil_stabilityaiStableBeluga7b_random_0_Kyle1668bosstoxicitybertbaseuncased_style_logs:v0\n"
     ]
    },
    {
     "name": "stderr",
     "output_type": "stream",
     "text": [
      "\u001b[34m\u001b[1mwandb\u001b[0m:   1 of 1 files downloaded.  \n",
      " 72%|███████▏  | 234/325 [1:27:26<04:02,  2.66s/it]"
     ]
    },
    {
     "name": "stdout",
     "output_type": "stream",
     "text": [
      "Downloading BOSS_Toxicity_AdvCivil_BERT_ICR --- healthyml/In-Context Domain Transfer Improves Out-of-Domain Robustness/run-57a9z4m8-adv_civil_stabilityaiStableBeluga7b_random_16_Kyle1668bosstoxicitybertbaseuncased_style_logs:v0\n"
     ]
    },
    {
     "name": "stderr",
     "output_type": "stream",
     "text": [
      "\u001b[34m\u001b[1mwandb\u001b[0m:   1 of 1 files downloaded.  \n",
      " 72%|███████▏  | 235/325 [1:27:31<05:03,  3.37s/it]"
     ]
    },
    {
     "name": "stdout",
     "output_type": "stream",
     "text": [
      "Downloading BOSS_Toxicity_Ablate_Data_AdvCivil_BERT3000_Insert --- healthyml/In-Context Domain Transfer Improves Out-of-Domain Robustness/run-ms2943fk-adv_civil_aug_insert_random_16_Kyle1668bosstoxicity3000bertbaseuncased_style_logs:v0\n"
     ]
    },
    {
     "name": "stderr",
     "output_type": "stream",
     "text": [
      "\u001b[34m\u001b[1mwandb\u001b[0m:   1 of 1 files downloaded.  \n",
      " 73%|███████▎  | 236/325 [1:27:35<05:16,  3.56s/it]"
     ]
    },
    {
     "name": "stdout",
     "output_type": "stream",
     "text": [
      "Downloading BOSS_Toxicity_Ablate_Data_AdvCivil_BERT3000_Substitute --- healthyml/In-Context Domain Transfer Improves Out-of-Domain Robustness/run-ms2943fk-adv_civil_aug_substitute_random_16_Kyle1668bosstoxicity3000bertbaseuncased_style_logs:v0\n"
     ]
    },
    {
     "name": "stderr",
     "output_type": "stream",
     "text": [
      "\u001b[34m\u001b[1mwandb\u001b[0m:   1 of 1 files downloaded.  \n",
      " 73%|███████▎  | 237/325 [1:27:40<05:41,  3.88s/it]"
     ]
    },
    {
     "name": "stdout",
     "output_type": "stream",
     "text": [
      "Downloading BOSS_Toxicity_Ablate_Data_AdvCivil_BERT3000_Translate --- healthyml/In-Context Domain Transfer Improves Out-of-Domain Robustness/run-ms2943fk-adv_civil_aug_backtranslate_random_16_Kyle1668bosstoxicity3000bertbaseuncased_style_logs:v0\n"
     ]
    },
    {
     "name": "stderr",
     "output_type": "stream",
     "text": [
      "\u001b[34m\u001b[1mwandb\u001b[0m:   1 of 1 files downloaded.  \n",
      " 73%|███████▎  | 238/325 [1:27:43<05:15,  3.62s/it]"
     ]
    },
    {
     "name": "stdout",
     "output_type": "stream",
     "text": [
      "Downloading BOSS_Toxicity_Ablate_Data_AdvCivil_BERT3000_Paraphrase --- healthyml/In-Context Domain Transfer Improves Out-of-Domain Robustness/run-ms2943fk-adv_civil_stabilityaiStableBeluga7b_random_0_Kyle1668bosstoxicity3000bertbaseuncased_style_logs:v0\n"
     ]
    },
    {
     "name": "stderr",
     "output_type": "stream",
     "text": [
      "\u001b[34m\u001b[1mwandb\u001b[0m:   1 of 1 files downloaded.  \n",
      " 74%|███████▎  | 239/325 [1:27:48<05:54,  4.12s/it]"
     ]
    },
    {
     "name": "stdout",
     "output_type": "stream",
     "text": [
      "Downloading BOSS_Toxicity_Ablate_Data_AdvCivil_BERT3000_ICR --- healthyml/In-Context Domain Transfer Improves Out-of-Domain Robustness/run-ms2943fk-adv_civil_stabilityaiStableBeluga7b_random_16_Kyle1668bosstoxicity3000bertbaseuncased_style_logs:v0\n"
     ]
    },
    {
     "name": "stderr",
     "output_type": "stream",
     "text": [
      "\u001b[34m\u001b[1mwandb\u001b[0m:   1 of 1 files downloaded.  \n",
      " 74%|███████▍  | 240/325 [1:27:52<05:50,  4.13s/it]"
     ]
    },
    {
     "name": "stdout",
     "output_type": "stream",
     "text": [
      "Downloading BOSS_Toxicity_Ablate_Data_AdvCivil_BERT6000_Insert --- healthyml/In-Context Domain Transfer Improves Out-of-Domain Robustness/run-2ecsgmy9-adv_civil_aug_insert_random_16_Kyle1668bosstoxicity6000bertbaseuncased_style_logs:v0\n"
     ]
    },
    {
     "name": "stderr",
     "output_type": "stream",
     "text": [
      "\u001b[34m\u001b[1mwandb\u001b[0m:   1 of 1 files downloaded.  \n",
      " 74%|███████▍  | 241/325 [1:27:56<05:36,  4.01s/it]"
     ]
    },
    {
     "name": "stdout",
     "output_type": "stream",
     "text": [
      "Downloading BOSS_Toxicity_Ablate_Data_AdvCivil_BERT6000_Substitute --- healthyml/In-Context Domain Transfer Improves Out-of-Domain Robustness/run-2ecsgmy9-adv_civil_aug_substitute_random_16_Kyle1668bosstoxicity6000bertbaseuncased_style_logs:v0\n"
     ]
    },
    {
     "name": "stderr",
     "output_type": "stream",
     "text": [
      "\u001b[34m\u001b[1mwandb\u001b[0m:   1 of 1 files downloaded.  \n",
      " 74%|███████▍  | 242/325 [1:27:58<04:55,  3.57s/it]"
     ]
    },
    {
     "name": "stdout",
     "output_type": "stream",
     "text": [
      "Downloading BOSS_Toxicity_Ablate_Data_AdvCivil_BERT6000_Translate --- healthyml/In-Context Domain Transfer Improves Out-of-Domain Robustness/run-2ecsgmy9-adv_civil_aug_backtranslate_random_16_Kyle1668bosstoxicity6000bertbaseuncased_style_logs:v0\n"
     ]
    },
    {
     "name": "stderr",
     "output_type": "stream",
     "text": [
      "\u001b[34m\u001b[1mwandb\u001b[0m:   1 of 1 files downloaded.  \n",
      " 75%|███████▍  | 243/325 [1:28:01<04:27,  3.26s/it]"
     ]
    },
    {
     "name": "stdout",
     "output_type": "stream",
     "text": [
      "Downloading BOSS_Toxicity_Ablate_Data_AdvCivil_BERT6000_Paraphrase --- healthyml/In-Context Domain Transfer Improves Out-of-Domain Robustness/run-2ecsgmy9-adv_civil_stabilityaiStableBeluga7b_random_0_Kyle1668bosstoxicity6000bertbaseuncased_style_logs:v0\n"
     ]
    },
    {
     "name": "stderr",
     "output_type": "stream",
     "text": [
      "\u001b[34m\u001b[1mwandb\u001b[0m:   1 of 1 files downloaded.  \n",
      " 75%|███████▌  | 244/325 [1:28:04<04:26,  3.28s/it]"
     ]
    },
    {
     "name": "stdout",
     "output_type": "stream",
     "text": [
      "Downloading BOSS_Toxicity_Ablate_Data_AdvCivil_BERT6000_ICR --- healthyml/In-Context Domain Transfer Improves Out-of-Domain Robustness/run-2ecsgmy9-adv_civil_stabilityaiStableBeluga7b_random_16_Kyle1668bosstoxicity6000bertbaseuncased_style_logs:v0\n"
     ]
    },
    {
     "name": "stderr",
     "output_type": "stream",
     "text": [
      "\u001b[34m\u001b[1mwandb\u001b[0m:   1 of 1 files downloaded.  \n",
      " 75%|███████▌  | 245/325 [1:28:08<04:34,  3.44s/it]"
     ]
    },
    {
     "name": "stdout",
     "output_type": "stream",
     "text": [
      "Downloading BOSS_Toxicity_Ablate_Data_AdvCivil_BERT12000_Insert --- healthyml/In-Context Domain Transfer Improves Out-of-Domain Robustness/run-7hgtyr98-adv_civil_aug_insert_random_16_Kyle1668bosstoxicity12000bertbaseuncased_style_logs:v0\n"
     ]
    },
    {
     "name": "stderr",
     "output_type": "stream",
     "text": [
      "\u001b[34m\u001b[1mwandb\u001b[0m:   1 of 1 files downloaded.  \n",
      " 76%|███████▌  | 246/325 [1:28:11<04:18,  3.27s/it]"
     ]
    },
    {
     "name": "stdout",
     "output_type": "stream",
     "text": [
      "Downloading BOSS_Toxicity_Ablate_Data_AdvCivil_BERT12000_Substitute --- healthyml/In-Context Domain Transfer Improves Out-of-Domain Robustness/run-7hgtyr98-adv_civil_aug_substitute_random_16_Kyle1668bosstoxicity12000bertbaseuncased_style_logs:v0\n"
     ]
    },
    {
     "name": "stderr",
     "output_type": "stream",
     "text": [
      "\u001b[34m\u001b[1mwandb\u001b[0m:   1 of 1 files downloaded.  \n",
      " 76%|███████▌  | 247/325 [1:28:14<04:10,  3.21s/it]"
     ]
    },
    {
     "name": "stdout",
     "output_type": "stream",
     "text": [
      "Downloading BOSS_Toxicity_Ablate_Data_AdvCivil_BERT12000_Translate --- healthyml/In-Context Domain Transfer Improves Out-of-Domain Robustness/run-7hgtyr98-adv_civil_aug_backtranslate_random_16_Kyle1668bosstoxicity12000bertbaseuncased_style_logs:v0\n"
     ]
    },
    {
     "name": "stderr",
     "output_type": "stream",
     "text": [
      "\u001b[34m\u001b[1mwandb\u001b[0m:   1 of 1 files downloaded.  \n",
      " 76%|███████▋  | 248/325 [1:28:17<03:56,  3.07s/it]"
     ]
    },
    {
     "name": "stdout",
     "output_type": "stream",
     "text": [
      "Downloading BOSS_Toxicity_Ablate_Data_AdvCivil_BERT12000_Paraphrase --- healthyml/In-Context Domain Transfer Improves Out-of-Domain Robustness/run-7hgtyr98-adv_civil_stabilityaiStableBeluga7b_random_0_Kyle1668bosstoxicity12000bertbaseuncased_style_logs:v0\n"
     ]
    },
    {
     "name": "stderr",
     "output_type": "stream",
     "text": [
      "\u001b[34m\u001b[1mwandb\u001b[0m:   1 of 1 files downloaded.  \n",
      " 77%|███████▋  | 249/325 [1:28:19<03:38,  2.88s/it]"
     ]
    },
    {
     "name": "stdout",
     "output_type": "stream",
     "text": [
      "Downloading BOSS_Toxicity_Ablate_Data_AdvCivil_BERT12000_ICR --- healthyml/In-Context Domain Transfer Improves Out-of-Domain Robustness/run-7hgtyr98-adv_civil_stabilityaiStableBeluga7b_random_16_Kyle1668bosstoxicity12000bertbaseuncased_style_logs:v0\n"
     ]
    },
    {
     "name": "stderr",
     "output_type": "stream",
     "text": [
      "\u001b[34m\u001b[1mwandb\u001b[0m:   1 of 1 files downloaded.  \n",
      " 77%|███████▋  | 250/325 [1:28:24<04:26,  3.56s/it]"
     ]
    },
    {
     "name": "stdout",
     "output_type": "stream",
     "text": [
      "Downloading BOSS_Toxicity_Ablate_Data_AdvCivil_BERT24000_Insert --- healthyml/In-Context Domain Transfer Improves Out-of-Domain Robustness/run-wl2a38kf-adv_civil_aug_insert_random_16_Kyle1668bosstoxicity24000bertbaseuncased_style_logs:v0\n"
     ]
    },
    {
     "name": "stderr",
     "output_type": "stream",
     "text": [
      "\u001b[34m\u001b[1mwandb\u001b[0m:   1 of 1 files downloaded.  \n",
      " 77%|███████▋  | 251/325 [1:28:30<05:06,  4.14s/it]"
     ]
    },
    {
     "name": "stdout",
     "output_type": "stream",
     "text": [
      "Downloading BOSS_Toxicity_Ablate_Data_AdvCivil_BERT24000_Substitute --- healthyml/In-Context Domain Transfer Improves Out-of-Domain Robustness/run-wl2a38kf-adv_civil_aug_substitute_random_16_Kyle1668bosstoxicity24000bertbaseuncased_style_logs:v0\n"
     ]
    },
    {
     "name": "stderr",
     "output_type": "stream",
     "text": [
      "\u001b[34m\u001b[1mwandb\u001b[0m:   1 of 1 files downloaded.  \n",
      " 78%|███████▊  | 252/325 [1:28:33<04:42,  3.87s/it]"
     ]
    },
    {
     "name": "stdout",
     "output_type": "stream",
     "text": [
      "Downloading BOSS_Toxicity_Ablate_Data_AdvCivil_BERT24000_Translate --- healthyml/In-Context Domain Transfer Improves Out-of-Domain Robustness/run-wl2a38kf-adv_civil_aug_backtranslate_random_16_Kyle1668bosstoxicity24000bertbaseuncased_style_logs:v0\n"
     ]
    },
    {
     "name": "stderr",
     "output_type": "stream",
     "text": [
      "\u001b[34m\u001b[1mwandb\u001b[0m:   1 of 1 files downloaded.  \n",
      " 78%|███████▊  | 253/325 [1:28:37<04:37,  3.85s/it]"
     ]
    },
    {
     "name": "stdout",
     "output_type": "stream",
     "text": [
      "Downloading BOSS_Toxicity_Ablate_Data_AdvCivil_BERT24000_Paraphrase --- healthyml/In-Context Domain Transfer Improves Out-of-Domain Robustness/run-wl2a38kf-adv_civil_stabilityaiStableBeluga7b_random_0_Kyle1668bosstoxicity24000bertbaseuncased_style_logs:v0\n"
     ]
    },
    {
     "name": "stderr",
     "output_type": "stream",
     "text": [
      "\u001b[34m\u001b[1mwandb\u001b[0m:   1 of 1 files downloaded.  \n",
      " 78%|███████▊  | 254/325 [1:28:40<04:09,  3.52s/it]"
     ]
    },
    {
     "name": "stdout",
     "output_type": "stream",
     "text": [
      "Downloading BOSS_Toxicity_Ablate_Data_AdvCivil_BERT24000_ICR --- healthyml/In-Context Domain Transfer Improves Out-of-Domain Robustness/run-wl2a38kf-adv_civil_stabilityaiStableBeluga7b_random_16_Kyle1668bosstoxicity24000bertbaseuncased_style_logs:v0\n"
     ]
    },
    {
     "name": "stderr",
     "output_type": "stream",
     "text": [
      "\u001b[34m\u001b[1mwandb\u001b[0m:   1 of 1 files downloaded.  \n",
      " 78%|███████▊  | 255/325 [1:28:43<04:10,  3.57s/it]"
     ]
    },
    {
     "name": "stdout",
     "output_type": "stream",
     "text": [
      "Downloading BOSS_Toxicity_Ablate_Data_AdvCivil_BERT48000_Insert --- healthyml/In-Context Domain Transfer Improves Out-of-Domain Robustness/run-iaorx9o7-adv_civil_aug_insert_random_16_Kyle1668bosstoxicity48000bertbaseuncased_style_logs:v0\n"
     ]
    },
    {
     "name": "stderr",
     "output_type": "stream",
     "text": [
      "\u001b[34m\u001b[1mwandb\u001b[0m:   1 of 1 files downloaded.  \n",
      " 79%|███████▉  | 256/325 [1:28:46<03:56,  3.42s/it]"
     ]
    },
    {
     "name": "stdout",
     "output_type": "stream",
     "text": [
      "Downloading BOSS_Toxicity_Ablate_Data_AdvCivil_BERT48000_Substitute --- healthyml/In-Context Domain Transfer Improves Out-of-Domain Robustness/run-iaorx9o7-adv_civil_aug_substitute_random_16_Kyle1668bosstoxicity48000bertbaseuncased_style_logs:v0\n"
     ]
    },
    {
     "name": "stderr",
     "output_type": "stream",
     "text": [
      "\u001b[34m\u001b[1mwandb\u001b[0m:   1 of 1 files downloaded.  \n",
      " 79%|███████▉  | 257/325 [1:28:50<03:51,  3.40s/it]"
     ]
    },
    {
     "name": "stdout",
     "output_type": "stream",
     "text": [
      "Downloading BOSS_Toxicity_Ablate_Data_AdvCivil_BERT48000_Translate --- healthyml/In-Context Domain Transfer Improves Out-of-Domain Robustness/run-iaorx9o7-adv_civil_aug_backtranslate_random_16_Kyle1668bosstoxicity48000bertbaseuncased_style_logs:v0\n"
     ]
    },
    {
     "name": "stderr",
     "output_type": "stream",
     "text": [
      "\u001b[34m\u001b[1mwandb\u001b[0m:   1 of 1 files downloaded.  \n",
      " 79%|███████▉  | 258/325 [1:28:52<03:26,  3.08s/it]"
     ]
    },
    {
     "name": "stdout",
     "output_type": "stream",
     "text": [
      "Downloading BOSS_Toxicity_Ablate_Data_AdvCivil_BERT48000_Paraphrase --- healthyml/In-Context Domain Transfer Improves Out-of-Domain Robustness/run-iaorx9o7-adv_civil_stabilityaiStableBeluga7b_random_0_Kyle1668bosstoxicity48000bertbaseuncased_style_logs:v0\n"
     ]
    },
    {
     "name": "stderr",
     "output_type": "stream",
     "text": [
      "\u001b[34m\u001b[1mwandb\u001b[0m:   1 of 1 files downloaded.  \n",
      " 80%|███████▉  | 259/325 [1:28:54<03:08,  2.86s/it]"
     ]
    },
    {
     "name": "stdout",
     "output_type": "stream",
     "text": [
      "Downloading BOSS_Toxicity_Ablate_Data_AdvCivil_BERT48000_ICR --- healthyml/In-Context Domain Transfer Improves Out-of-Domain Robustness/run-iaorx9o7-adv_civil_stabilityaiStableBeluga7b_random_16_Kyle1668bosstoxicity48000bertbaseuncased_style_logs:v0\n"
     ]
    },
    {
     "name": "stderr",
     "output_type": "stream",
     "text": [
      "\u001b[34m\u001b[1mwandb\u001b[0m:   1 of 1 files downloaded.  \n",
      " 80%|████████  | 260/325 [1:28:57<03:08,  2.90s/it]"
     ]
    },
    {
     "name": "stdout",
     "output_type": "stream",
     "text": [
      "Downloading BOSS_Toxicity_AdvCivil_T5_Insert --- healthyml/In-Context Domain Transfer Improves Out-of-Domain Robustness/run-57a9z4m8-adv_civil_aug_insert_random_16_Kyle1668bosstoxicityt5large_style_logs:v0\n"
     ]
    },
    {
     "name": "stderr",
     "output_type": "stream",
     "text": [
      " 80%|████████  | 261/325 [1:28:58<02:16,  2.14s/it]"
     ]
    },
    {
     "name": "stdout",
     "output_type": "stream",
     "text": [
      "Permission denied to access healthyml/In-Context-Domain-Transfer-Improves-Out-of-Domain-Robustness-notebooks/4tkjw4fr\n",
      "BOSS_Toxicity_AdvCivil_T5_Insert\n",
      "Downloading BOSS_Toxicity_AdvCivil_T5_Substitute --- healthyml/In-Context Domain Transfer Improves Out-of-Domain Robustness/run-57a9z4m8-adv_civil_aug_substitute_random_16_Kyle1668bosstoxicityt5large_style_logs:v0\n"
     ]
    },
    {
     "name": "stderr",
     "output_type": "stream",
     "text": [
      " 81%|████████  | 262/325 [1:28:58<01:41,  1.61s/it]"
     ]
    },
    {
     "name": "stdout",
     "output_type": "stream",
     "text": [
      "Permission denied to access healthyml/In-Context-Domain-Transfer-Improves-Out-of-Domain-Robustness-notebooks/4tkjw4fr\n",
      "BOSS_Toxicity_AdvCivil_T5_Substitute\n",
      "Downloading BOSS_Toxicity_AdvCivil_T5_Translate --- healthyml/In-Context Domain Transfer Improves Out-of-Domain Robustness/run-57a9z4m8-adv_civil_aug_backtranslate_random_16_Kyle1668bosstoxicityt5large_style_logs:v0\n"
     ]
    },
    {
     "name": "stderr",
     "output_type": "stream",
     "text": [
      " 81%|████████  | 263/325 [1:28:58<01:15,  1.21s/it]"
     ]
    },
    {
     "name": "stdout",
     "output_type": "stream",
     "text": [
      "Permission denied to access healthyml/In-Context-Domain-Transfer-Improves-Out-of-Domain-Robustness-notebooks/4tkjw4fr\n",
      "BOSS_Toxicity_AdvCivil_T5_Translate\n",
      "Downloading BOSS_Toxicity_AdvCivil_T5_Paraphrase --- healthyml/In-Context Domain Transfer Improves Out-of-Domain Robustness/run-57a9z4m8-adv_civil_stabilityaiStableBeluga7b_random_0_Kyle1668bosstoxicityt5large_style_logs:v0\n"
     ]
    },
    {
     "name": "stderr",
     "output_type": "stream",
     "text": [
      " 81%|████████  | 264/325 [1:28:59<00:57,  1.06it/s]"
     ]
    },
    {
     "name": "stdout",
     "output_type": "stream",
     "text": [
      "Permission denied to access healthyml/In-Context-Domain-Transfer-Improves-Out-of-Domain-Robustness-notebooks/4tkjw4fr\n",
      "BOSS_Toxicity_AdvCivil_T5_Paraphrase\n",
      "Downloading BOSS_Toxicity_AdvCivil_T5_ICR --- healthyml/In-Context Domain Transfer Improves Out-of-Domain Robustness/run-57a9z4m8-adv_civil_stabilityaiStableBeluga7b_random_16_Kyle1668bosstoxicityt5large_style_logs:v0\n"
     ]
    },
    {
     "name": "stderr",
     "output_type": "stream",
     "text": [
      " 82%|████████▏ | 265/325 [1:28:59<00:44,  1.33it/s]"
     ]
    },
    {
     "name": "stdout",
     "output_type": "stream",
     "text": [
      "Permission denied to access healthyml/In-Context-Domain-Transfer-Improves-Out-of-Domain-Robustness-notebooks/4tkjw4fr\n",
      "BOSS_Toxicity_AdvCivil_T5_ICR\n",
      "Downloading BOSS_Toxicity_AdvCivil_Falcon_Insert --- healthyml/In-Context Domain Transfer Improves Out-of-Domain Robustness/run-57a9z4m8-adv_civil_aug_insert_random_16_tiiuaefalcon7binstruct_style_logs:v0\n"
     ]
    },
    {
     "name": "stderr",
     "output_type": "stream",
     "text": [
      " 82%|████████▏ | 266/325 [1:28:59<00:35,  1.67it/s]"
     ]
    },
    {
     "name": "stdout",
     "output_type": "stream",
     "text": [
      "Permission denied to access healthyml/In-Context-Domain-Transfer-Improves-Out-of-Domain-Robustness-notebooks/4tkjw4fr\n",
      "BOSS_Toxicity_AdvCivil_Falcon_Insert\n",
      "Downloading BOSS_Toxicity_AdvCivil_Falcon_Substitute --- healthyml/In-Context Domain Transfer Improves Out-of-Domain Robustness/run-57a9z4m8-adv_civil_aug_substitute_random_16_tiiuaefalcon7binstruct_style_logs:v0\n"
     ]
    },
    {
     "name": "stderr",
     "output_type": "stream",
     "text": [
      " 82%|████████▏ | 267/325 [1:29:00<00:28,  2.01it/s]"
     ]
    },
    {
     "name": "stdout",
     "output_type": "stream",
     "text": [
      "Permission denied to access healthyml/In-Context-Domain-Transfer-Improves-Out-of-Domain-Robustness-notebooks/4tkjw4fr\n",
      "BOSS_Toxicity_AdvCivil_Falcon_Substitute\n",
      "Downloading BOSS_Toxicity_AdvCivil_Falcon_Translate --- healthyml/In-Context Domain Transfer Improves Out-of-Domain Robustness/run-57a9z4m8-adv_civil_aug_backtranslate_random_16_tiiuaefalcon7binstruct_style_logs:v0\n"
     ]
    },
    {
     "name": "stderr",
     "output_type": "stream",
     "text": [
      " 82%|████████▏ | 268/325 [1:29:00<00:25,  2.28it/s]"
     ]
    },
    {
     "name": "stdout",
     "output_type": "stream",
     "text": [
      "Permission denied to access healthyml/In-Context-Domain-Transfer-Improves-Out-of-Domain-Robustness-notebooks/4tkjw4fr\n",
      "BOSS_Toxicity_AdvCivil_Falcon_Translate\n",
      "Downloading BOSS_Toxicity_AdvCivil_Falcon_Paraphrase --- healthyml/In-Context Domain Transfer Improves Out-of-Domain Robustness/run-57a9z4m8-adv_civil_stabilityaiStableBeluga7b_random_0_tiiuaefalcon7binstruct_style_logs:v0\n"
     ]
    },
    {
     "name": "stderr",
     "output_type": "stream",
     "text": [
      " 83%|████████▎ | 269/325 [1:29:00<00:21,  2.56it/s]"
     ]
    },
    {
     "name": "stdout",
     "output_type": "stream",
     "text": [
      "Permission denied to access healthyml/In-Context-Domain-Transfer-Improves-Out-of-Domain-Robustness-notebooks/4tkjw4fr\n",
      "BOSS_Toxicity_AdvCivil_Falcon_Paraphrase\n",
      "Downloading BOSS_Toxicity_AdvCivil_Falcon_ICR --- healthyml/In-Context Domain Transfer Improves Out-of-Domain Robustness/run-57a9z4m8-adv_civil_stabilityaiStableBeluga7b_random_16_tiiuaefalcon7binstruct_style_logs:v0\n"
     ]
    },
    {
     "name": "stderr",
     "output_type": "stream",
     "text": [
      " 83%|████████▎ | 270/325 [1:29:00<00:20,  2.72it/s]"
     ]
    },
    {
     "name": "stdout",
     "output_type": "stream",
     "text": [
      "Permission denied to access healthyml/In-Context-Domain-Transfer-Improves-Out-of-Domain-Robustness-notebooks/4tkjw4fr\n",
      "BOSS_Toxicity_AdvCivil_Falcon_ICR\n",
      "Downloading AgNewsTweets_ID_BERT_Insert --- healthyml/In-Context Domain Transfer Improves Out-of-Domain Robustness/run-r4cog6cc-validation_aug_insert_random_16_Kyle1668agnewsbertbaseuncased_style_logs:v0\n"
     ]
    },
    {
     "name": "stderr",
     "output_type": "stream",
     "text": [
      "\u001b[34m\u001b[1mwandb\u001b[0m:   1 of 1 files downloaded.  \n",
      " 83%|████████▎ | 271/325 [1:29:10<02:49,  3.14s/it]"
     ]
    },
    {
     "name": "stdout",
     "output_type": "stream",
     "text": [
      "Downloading AgNewsTweets_ID_BERT_Substitute --- healthyml/In-Context Domain Transfer Improves Out-of-Domain Robustness/run-r4cog6cc-validation_aug_substitute_random_16_Kyle1668agnewsbertbaseuncased_style_logs:v0\n"
     ]
    },
    {
     "name": "stderr",
     "output_type": "stream",
     "text": [
      "\u001b[34m\u001b[1mwandb\u001b[0m:   1 of 1 files downloaded.  \n",
      " 84%|████████▎ | 272/325 [1:29:20<04:28,  5.06s/it]"
     ]
    },
    {
     "name": "stdout",
     "output_type": "stream",
     "text": [
      "Downloading AgNewsTweets_ID_BERT_Translate --- healthyml/In-Context Domain Transfer Improves Out-of-Domain Robustness/run-r4cog6cc-validation_aug_backtranslate_random_16_Kyle1668agnewsbertbaseuncased_style_logs:v0\n"
     ]
    },
    {
     "name": "stderr",
     "output_type": "stream",
     "text": [
      "\u001b[34m\u001b[1mwandb\u001b[0m:   1 of 1 files downloaded.  \n",
      " 84%|████████▍ | 273/325 [1:29:45<09:38, 11.13s/it]"
     ]
    },
    {
     "name": "stdout",
     "output_type": "stream",
     "text": [
      "Downloading AgNewsTweets_ID_BERT_Paraphrase --- healthyml/In-Context Domain Transfer Improves Out-of-Domain Robustness/run-r4cog6cc-validation_stabilityaiStableBeluga7b_random_0_Kyle1668agnewsbertbaseuncased_style_logs:v0\n"
     ]
    },
    {
     "name": "stderr",
     "output_type": "stream",
     "text": [
      "\u001b[34m\u001b[1mwandb\u001b[0m:   1 of 1 files downloaded.  \n",
      " 84%|████████▍ | 274/325 [1:29:55<09:16, 10.91s/it]"
     ]
    },
    {
     "name": "stdout",
     "output_type": "stream",
     "text": [
      "Downloading AgNewsTweets_ID_BERT_ICR --- healthyml/In-Context Domain Transfer Improves Out-of-Domain Robustness/run-r4cog6cc-validation_stabilityaiStableBeluga7b_random_16_Kyle1668agnewsbertbaseuncased_style_logs:v0\n"
     ]
    },
    {
     "name": "stderr",
     "output_type": "stream",
     "text": [
      "\u001b[34m\u001b[1mwandb\u001b[0m:   1 of 1 files downloaded.  \n",
      " 85%|████████▍ | 275/325 [1:30:06<09:06, 10.94s/it]"
     ]
    },
    {
     "name": "stdout",
     "output_type": "stream",
     "text": [
      "Downloading AgNewsTweets_Ablate_Data_Tweets_BERT4800_Insert --- healthyml/In-Context Domain Transfer Improves Out-of-Domain Robustness/run-s51a9946-test_aug_insert_random_16_Kyle1668agnews4800bertbaseuncased_style_logs:v0\n"
     ]
    },
    {
     "name": "stderr",
     "output_type": "stream",
     "text": [
      "\u001b[34m\u001b[1mwandb\u001b[0m:   1 of 1 files downloaded.  \n",
      " 85%|████████▍ | 276/325 [1:30:15<08:20, 10.21s/it]"
     ]
    },
    {
     "name": "stdout",
     "output_type": "stream",
     "text": [
      "Downloading AgNewsTweets_Ablate_Data_Tweets_BERT4800_Substitute --- healthyml/In-Context Domain Transfer Improves Out-of-Domain Robustness/run-s51a9946-test_aug_substitute_random_16_Kyle1668agnews4800bertbaseuncased_style_logs:v0\n"
     ]
    },
    {
     "name": "stderr",
     "output_type": "stream",
     "text": [
      "\u001b[34m\u001b[1mwandb\u001b[0m:   1 of 1 files downloaded.  \n",
      " 85%|████████▌ | 277/325 [1:30:23<07:42,  9.63s/it]"
     ]
    },
    {
     "name": "stdout",
     "output_type": "stream",
     "text": [
      "Downloading AgNewsTweets_Ablate_Data_Tweets_BERT4800_Translate --- healthyml/In-Context Domain Transfer Improves Out-of-Domain Robustness/run-s51a9946-test_aug_backtranslate_random_16_Kyle1668agnews4800bertbaseuncased_style_logs:v0\n"
     ]
    },
    {
     "name": "stderr",
     "output_type": "stream",
     "text": [
      "\u001b[34m\u001b[1mwandb\u001b[0m:   1 of 1 files downloaded.  \n",
      " 86%|████████▌ | 278/325 [1:30:30<06:49,  8.71s/it]"
     ]
    },
    {
     "name": "stdout",
     "output_type": "stream",
     "text": [
      "Downloading AgNewsTweets_Ablate_Data_Tweets_BERT4800_Paraphrase --- healthyml/In-Context Domain Transfer Improves Out-of-Domain Robustness/run-s51a9946-test_stabilityaiStableBeluga7b_random_0_Kyle1668agnews4800bertbaseuncased_style_logs:v0\n"
     ]
    },
    {
     "name": "stderr",
     "output_type": "stream",
     "text": [
      "\u001b[34m\u001b[1mwandb\u001b[0m:   1 of 1 files downloaded.  \n",
      " 86%|████████▌ | 279/325 [1:30:39<06:46,  8.84s/it]"
     ]
    },
    {
     "name": "stdout",
     "output_type": "stream",
     "text": [
      "Downloading AgNewsTweets_Ablate_Data_Tweets_BERT4800_ICR --- healthyml/In-Context Domain Transfer Improves Out-of-Domain Robustness/run-s51a9946-test_stabilityaiStableBeluga7b_random_16_Kyle1668agnews4800bertbaseuncased_style_logs:v0\n"
     ]
    },
    {
     "name": "stderr",
     "output_type": "stream",
     "text": [
      "\u001b[34m\u001b[1mwandb\u001b[0m:   1 of 1 files downloaded.  \n",
      " 86%|████████▌ | 280/325 [1:30:52<07:37, 10.17s/it]"
     ]
    },
    {
     "name": "stdout",
     "output_type": "stream",
     "text": [
      "Downloading AgNewsTweets_Ablate_Data_Tweets_BERT9600_Insert --- healthyml/In-Context Domain Transfer Improves Out-of-Domain Robustness/run-ymlu6tfz-test_aug_insert_random_16_Kyle1668agnews9600bertbaseuncased_style_logs:v0\n"
     ]
    },
    {
     "name": "stderr",
     "output_type": "stream",
     "text": [
      "\u001b[34m\u001b[1mwandb\u001b[0m:   1 of 1 files downloaded.  \n",
      " 86%|████████▋ | 281/325 [1:31:05<07:58, 10.88s/it]"
     ]
    },
    {
     "name": "stdout",
     "output_type": "stream",
     "text": [
      "Downloading AgNewsTweets_Ablate_Data_Tweets_BERT9600_Substitute --- healthyml/In-Context Domain Transfer Improves Out-of-Domain Robustness/run-ymlu6tfz-test_aug_substitute_random_16_Kyle1668agnews9600bertbaseuncased_style_logs:v0\n"
     ]
    },
    {
     "name": "stderr",
     "output_type": "stream",
     "text": [
      "\u001b[34m\u001b[1mwandb\u001b[0m:   1 of 1 files downloaded.  \n",
      " 87%|████████▋ | 282/325 [1:31:15<07:46, 10.85s/it]"
     ]
    },
    {
     "name": "stdout",
     "output_type": "stream",
     "text": [
      "Downloading AgNewsTweets_Ablate_Data_Tweets_BERT9600_Translate --- healthyml/In-Context Domain Transfer Improves Out-of-Domain Robustness/run-ymlu6tfz-test_aug_backtranslate_random_16_Kyle1668agnews9600bertbaseuncased_style_logs:v0\n"
     ]
    },
    {
     "name": "stderr",
     "output_type": "stream",
     "text": [
      "\u001b[34m\u001b[1mwandb\u001b[0m:   1 of 1 files downloaded.  \n",
      " 87%|████████▋ | 283/325 [1:31:23<07:00, 10.01s/it]"
     ]
    },
    {
     "name": "stdout",
     "output_type": "stream",
     "text": [
      "Downloading AgNewsTweets_Ablate_Data_Tweets_BERT9600_Paraphrase --- healthyml/In-Context Domain Transfer Improves Out-of-Domain Robustness/run-ymlu6tfz-test_stabilityaiStableBeluga7b_random_0_Kyle1668agnews9600bertbaseuncased_style_logs:v0\n"
     ]
    },
    {
     "name": "stderr",
     "output_type": "stream",
     "text": [
      "\u001b[34m\u001b[1mwandb\u001b[0m:   1 of 1 files downloaded.  \n",
      " 87%|████████▋ | 284/325 [1:31:32<06:33,  9.59s/it]"
     ]
    },
    {
     "name": "stdout",
     "output_type": "stream",
     "text": [
      "Downloading AgNewsTweets_Ablate_Data_Tweets_BERT9600_ICR --- healthyml/In-Context Domain Transfer Improves Out-of-Domain Robustness/run-ymlu6tfz-test_stabilityaiStableBeluga7b_random_0_Kyle1668agnews9600bertbaseuncased_style_logs:v0\n"
     ]
    },
    {
     "name": "stderr",
     "output_type": "stream",
     "text": [
      "\u001b[34m\u001b[1mwandb\u001b[0m:   1 of 1 files downloaded.  \n",
      " 88%|████████▊ | 285/325 [1:31:33<04:41,  7.03s/it]"
     ]
    },
    {
     "name": "stdout",
     "output_type": "stream",
     "text": [
      "Downloading AgNewsTweets_Ablate_Data_Tweets_BERT19200_Insert --- healthyml/In-Context Domain Transfer Improves Out-of-Domain Robustness/run-arskmac6-test_aug_insert_random_16_Kyle1668agnews19200bertbaseuncased_style_logs:v0\n"
     ]
    },
    {
     "name": "stderr",
     "output_type": "stream",
     "text": [
      "\u001b[34m\u001b[1mwandb\u001b[0m:   1 of 1 files downloaded.  \n",
      " 88%|████████▊ | 286/325 [1:31:42<04:52,  7.50s/it]"
     ]
    },
    {
     "name": "stdout",
     "output_type": "stream",
     "text": [
      "Downloading AgNewsTweets_Ablate_Data_Tweets_BERT19200_Substitute --- healthyml/In-Context Domain Transfer Improves Out-of-Domain Robustness/run-arskmac6-test_aug_substitute_random_16_Kyle1668agnews19200bertbaseuncased_style_logs:v0\n"
     ]
    },
    {
     "name": "stderr",
     "output_type": "stream",
     "text": [
      "\u001b[34m\u001b[1mwandb\u001b[0m:   1 of 1 files downloaded.  \n",
      " 88%|████████▊ | 287/325 [1:31:51<05:04,  8.02s/it]"
     ]
    },
    {
     "name": "stdout",
     "output_type": "stream",
     "text": [
      "Downloading AgNewsTweets_Ablate_Data_Tweets_BERT19200_Translate --- healthyml/In-Context Domain Transfer Improves Out-of-Domain Robustness/run-arskmac6-test_aug_backtranslate_random_16_Kyle1668agnews19200bertbaseuncased_style_logs:v0\n"
     ]
    },
    {
     "name": "stderr",
     "output_type": "stream",
     "text": [
      "\u001b[34m\u001b[1mwandb\u001b[0m:   1 of 1 files downloaded.  \n",
      " 89%|████████▊ | 288/325 [1:31:58<04:47,  7.78s/it]"
     ]
    },
    {
     "name": "stdout",
     "output_type": "stream",
     "text": [
      "Downloading AgNewsTweets_Ablate_Data_Tweets_BERT19200_Paraphrase --- healthyml/In-Context Domain Transfer Improves Out-of-Domain Robustness/run-arskmac6-test_stabilityaiStableBeluga7b_random_0_Kyle1668agnews19200bertbaseuncased_style_logs:v0\n"
     ]
    },
    {
     "name": "stderr",
     "output_type": "stream",
     "text": [
      "\u001b[34m\u001b[1mwandb\u001b[0m:   1 of 1 files downloaded.  \n",
      " 89%|████████▉ | 289/325 [1:32:05<04:29,  7.49s/it]"
     ]
    },
    {
     "name": "stdout",
     "output_type": "stream",
     "text": [
      "Downloading AgNewsTweets_Ablate_Data_Tweets_BERT19200_ICR --- healthyml/In-Context Domain Transfer Improves Out-of-Domain Robustness/run-arskmac6-test_stabilityaiStableBeluga7b_random_16_Kyle1668agnews19200bertbaseuncased_style_logs:v0\n"
     ]
    },
    {
     "name": "stderr",
     "output_type": "stream",
     "text": [
      "\u001b[34m\u001b[1mwandb\u001b[0m:   1 of 1 files downloaded.  \n",
      " 89%|████████▉ | 290/325 [1:32:24<06:20, 10.87s/it]"
     ]
    },
    {
     "name": "stdout",
     "output_type": "stream",
     "text": [
      "Downloading AgNewsTweets_Ablate_Data_Tweets_BERT38400_Insert --- healthyml/In-Context Domain Transfer Improves Out-of-Domain Robustness/run-6qktrbp8-test_aug_insert_random_16_Kyle1668agnews38400bertbaseuncased_style_logs:v0\n"
     ]
    },
    {
     "name": "stderr",
     "output_type": "stream",
     "text": [
      "\u001b[34m\u001b[1mwandb\u001b[0m:   1 of 1 files downloaded.  \n",
      " 90%|████████▉ | 291/325 [1:32:36<06:26, 11.36s/it]"
     ]
    },
    {
     "name": "stdout",
     "output_type": "stream",
     "text": [
      "Downloading AgNewsTweets_Ablate_Data_Tweets_BERT38400_Substitute --- healthyml/In-Context Domain Transfer Improves Out-of-Domain Robustness/run-6qktrbp8-test_aug_substitute_random_16_Kyle1668agnews38400bertbaseuncased_style_logs:v0\n"
     ]
    },
    {
     "name": "stderr",
     "output_type": "stream",
     "text": [
      "\u001b[34m\u001b[1mwandb\u001b[0m:   1 of 1 files downloaded.  \n",
      " 90%|████████▉ | 292/325 [1:32:46<06:01, 10.95s/it]"
     ]
    },
    {
     "name": "stdout",
     "output_type": "stream",
     "text": [
      "Downloading AgNewsTweets_Ablate_Data_Tweets_BERT38400_Translate --- healthyml/In-Context Domain Transfer Improves Out-of-Domain Robustness/run-6qktrbp8-test_aug_backtranslate_random_16_Kyle1668agnews38400bertbaseuncased_style_logs:v0\n"
     ]
    },
    {
     "name": "stderr",
     "output_type": "stream",
     "text": [
      "\u001b[34m\u001b[1mwandb\u001b[0m:   1 of 1 files downloaded.  \n",
      " 90%|█████████ | 293/325 [1:32:54<05:24, 10.15s/it]"
     ]
    },
    {
     "name": "stdout",
     "output_type": "stream",
     "text": [
      "Downloading AgNewsTweets_Ablate_Data_Tweets_BERT38400_Paraphrase --- healthyml/In-Context Domain Transfer Improves Out-of-Domain Robustness/run-6qktrbp8-test_stabilityaiStableBeluga7b_random_0_Kyle1668agnews38400bertbaseuncased_style_logs:v0\n"
     ]
    },
    {
     "name": "stderr",
     "output_type": "stream",
     "text": [
      "\u001b[34m\u001b[1mwandb\u001b[0m:   1 of 1 files downloaded.  \n",
      " 90%|█████████ | 294/325 [1:33:06<05:32, 10.71s/it]"
     ]
    },
    {
     "name": "stdout",
     "output_type": "stream",
     "text": [
      "Downloading AgNewsTweets_Ablate_Data_Tweets_BERT38400_ICR --- healthyml/In-Context Domain Transfer Improves Out-of-Domain Robustness/run-6qktrbp8-test_stabilityaiStableBeluga7b_random_16_Kyle1668agnews38400bertbaseuncased_style_logs:v0\n"
     ]
    },
    {
     "name": "stderr",
     "output_type": "stream",
     "text": [
      "\u001b[34m\u001b[1mwandb\u001b[0m:   1 of 1 files downloaded.  \n",
      " 91%|█████████ | 295/325 [1:33:23<06:16, 12.56s/it]"
     ]
    },
    {
     "name": "stdout",
     "output_type": "stream",
     "text": [
      "Downloading AgNewsTweets_Ablate_Data_Tweets_BERT76800_Insert --- healthyml/In-Context Domain Transfer Improves Out-of-Domain Robustness/run-seqenj7d-test_aug_insert_random_16_Kyle1668agnews76800bertbaseuncased_style_logs:v0\n"
     ]
    },
    {
     "name": "stderr",
     "output_type": "stream",
     "text": [
      "\u001b[34m\u001b[1mwandb\u001b[0m:   1 of 1 files downloaded.  \n",
      " 91%|█████████ | 296/325 [1:33:33<05:38, 11.68s/it]"
     ]
    },
    {
     "name": "stdout",
     "output_type": "stream",
     "text": [
      "Downloading AgNewsTweets_Ablate_Data_Tweets_BERT76800_Substitute --- healthyml/In-Context Domain Transfer Improves Out-of-Domain Robustness/run-seqenj7d-test_aug_substitute_random_16_Kyle1668agnews76800bertbaseuncased_style_logs:v0\n"
     ]
    },
    {
     "name": "stderr",
     "output_type": "stream",
     "text": [
      "\u001b[34m\u001b[1mwandb\u001b[0m:   1 of 1 files downloaded.  \n",
      " 91%|█████████▏| 297/325 [1:33:47<05:44, 12.30s/it]"
     ]
    },
    {
     "name": "stdout",
     "output_type": "stream",
     "text": [
      "Downloading AgNewsTweets_Ablate_Data_Tweets_BERT76800_Translate --- healthyml/In-Context Domain Transfer Improves Out-of-Domain Robustness/run-seqenj7d-test_aug_backtranslate_random_16_Kyle1668agnews76800bertbaseuncased_style_logs:v0\n"
     ]
    },
    {
     "name": "stderr",
     "output_type": "stream",
     "text": [
      "\u001b[34m\u001b[1mwandb\u001b[0m:   1 of 1 files downloaded.  \n",
      " 92%|█████████▏| 298/325 [1:33:56<05:06, 11.33s/it]"
     ]
    },
    {
     "name": "stdout",
     "output_type": "stream",
     "text": [
      "Downloading AgNewsTweets_Ablate_Data_Tweets_BERT76800_Paraphrase --- healthyml/In-Context Domain Transfer Improves Out-of-Domain Robustness/run-seqenj7d-test_stabilityaiStableBeluga7b_random_0_Kyle1668agnews76800bertbaseuncased_style_logs:v0\n"
     ]
    },
    {
     "name": "stderr",
     "output_type": "stream",
     "text": [
      "\u001b[34m\u001b[1mwandb\u001b[0m:   1 of 1 files downloaded.  \n",
      " 92%|█████████▏| 299/325 [1:34:06<04:45, 10.98s/it]"
     ]
    },
    {
     "name": "stdout",
     "output_type": "stream",
     "text": [
      "Downloading AgNewsTweets_Ablate_Data_Tweets_BERT76800_ICR --- healthyml/In-Context Domain Transfer Improves Out-of-Domain Robustness/run-seqenj7d-test_stabilityaiStableBeluga7b_random_16_Kyle1668agnews76800bertbaseuncased_style_logs:v0\n"
     ]
    },
    {
     "name": "stderr",
     "output_type": "stream",
     "text": [
      "\u001b[34m\u001b[1mwandb\u001b[0m:   1 of 1 files downloaded.  \n",
      " 92%|█████████▏| 300/325 [1:34:19<04:46, 11.48s/it]"
     ]
    },
    {
     "name": "stdout",
     "output_type": "stream",
     "text": [
      "Downloading AgNewsTweets_ID_T5_Insert --- healthyml/In-Context Domain Transfer Improves Out-of-Domain Robustness/run-r4cog6cc-validation_aug_insert_random_16_Kyle1668agnewst5large_style_logs:v0\n"
     ]
    },
    {
     "name": "stderr",
     "output_type": "stream",
     "text": [
      "\u001b[34m\u001b[1mwandb\u001b[0m:   1 of 1 files downloaded.  \n",
      " 93%|█████████▎| 301/325 [1:34:25<04:00, 10.03s/it]"
     ]
    },
    {
     "name": "stdout",
     "output_type": "stream",
     "text": [
      "Downloading AgNewsTweets_ID_T5_Substitute --- healthyml/In-Context Domain Transfer Improves Out-of-Domain Robustness/run-r4cog6cc-validation_aug_substitute_random_16_Kyle1668agnewst5large_style_logs:v0\n"
     ]
    },
    {
     "name": "stderr",
     "output_type": "stream",
     "text": [
      "\u001b[34m\u001b[1mwandb\u001b[0m:   1 of 1 files downloaded.  \n",
      " 93%|█████████▎| 302/325 [1:34:31<03:23,  8.86s/it]"
     ]
    },
    {
     "name": "stdout",
     "output_type": "stream",
     "text": [
      "Downloading AgNewsTweets_ID_T5_Translate --- healthyml/In-Context Domain Transfer Improves Out-of-Domain Robustness/run-r4cog6cc-validation_aug_backtranslate_random_16_Kyle1668agnewst5large_style_logs:v0\n"
     ]
    },
    {
     "name": "stderr",
     "output_type": "stream",
     "text": [
      "\u001b[34m\u001b[1mwandb\u001b[0m:   1 of 1 files downloaded.  \n",
      " 93%|█████████▎| 303/325 [1:34:42<03:24,  9.32s/it]"
     ]
    },
    {
     "name": "stdout",
     "output_type": "stream",
     "text": [
      "Downloading AgNewsTweets_ID_T5_Paraphrase --- healthyml/In-Context Domain Transfer Improves Out-of-Domain Robustness/run-r4cog6cc-validation_stabilityaiStableBeluga7b_random_0_Kyle1668agnewst5large_style_logs:v0\n"
     ]
    },
    {
     "name": "stderr",
     "output_type": "stream",
     "text": [
      "\u001b[34m\u001b[1mwandb\u001b[0m:   1 of 1 files downloaded.  \n",
      " 94%|█████████▎| 304/325 [1:34:49<03:04,  8.78s/it]"
     ]
    },
    {
     "name": "stdout",
     "output_type": "stream",
     "text": [
      "Downloading AgNewsTweets_ID_T5_ICR --- healthyml/In-Context Domain Transfer Improves Out-of-Domain Robustness/run-r4cog6cc-validation_stabilityaiStableBeluga7b_random_16_Kyle1668agnewst5large_style_logs:v0\n"
     ]
    },
    {
     "name": "stderr",
     "output_type": "stream",
     "text": [
      "\u001b[34m\u001b[1mwandb\u001b[0m:   1 of 1 files downloaded.  \n",
      " 94%|█████████▍| 305/325 [1:35:01<03:11,  9.57s/it]"
     ]
    },
    {
     "name": "stdout",
     "output_type": "stream",
     "text": [
      "Downloading AgNewsTweets_ID_Falcon_Insert --- healthyml/In-Context Domain Transfer Improves Out-of-Domain Robustness/run-r4cog6cc-validation_aug_insert_random_16_tiiuaefalcon7binstruct_style_logs:v0\n"
     ]
    },
    {
     "name": "stderr",
     "output_type": "stream",
     "text": [
      "\u001b[34m\u001b[1mwandb\u001b[0m: Downloading large artifact run-r4cog6cc-validation_aug_insert_random_16_tiiuaefalcon7binstruct_style_logs:v0, 230.25MB. 1 files... \n",
      "\u001b[34m\u001b[1mwandb\u001b[0m:   1 of 1 files downloaded.  \n",
      "Done. 0:1:2.1\n",
      " 94%|█████████▍| 306/325 [1:36:04<08:05, 25.56s/it]"
     ]
    },
    {
     "name": "stdout",
     "output_type": "stream",
     "text": [
      "Downloading AgNewsTweets_ID_Falcon_Substitute --- healthyml/In-Context Domain Transfer Improves Out-of-Domain Robustness/run-r4cog6cc-validation_aug_substitute_random_16_tiiuaefalcon7binstruct_style_logs:v0\n"
     ]
    },
    {
     "name": "stderr",
     "output_type": "stream",
     "text": [
      "\u001b[34m\u001b[1mwandb\u001b[0m: Downloading large artifact run-r4cog6cc-validation_aug_substitute_random_16_tiiuaefalcon7binstruct_style_logs:v0, 226.76MB. 1 files... \n",
      "\u001b[34m\u001b[1mwandb\u001b[0m:   1 of 1 files downloaded.  \n",
      "Done. 0:1:35.1\n",
      " 94%|█████████▍| 307/325 [1:37:40<14:00, 46.72s/it]"
     ]
    },
    {
     "name": "stdout",
     "output_type": "stream",
     "text": [
      "Downloading AgNewsTweets_ID_Falcon_Translate --- healthyml/In-Context Domain Transfer Improves Out-of-Domain Robustness/run-r4cog6cc-validation_aug_backtranslate_random_16_tiiuaefalcon7binstruct_style_logs:v0\n"
     ]
    },
    {
     "name": "stderr",
     "output_type": "stream",
     "text": [
      "\u001b[34m\u001b[1mwandb\u001b[0m: Downloading large artifact run-r4cog6cc-validation_aug_backtranslate_random_16_tiiuaefalcon7binstruct_style_logs:v0, 225.38MB. 1 files... \n",
      "\u001b[34m\u001b[1mwandb\u001b[0m:   1 of 1 files downloaded.  \n",
      "Done. 0:1:19.1\n",
      " 95%|█████████▍| 308/325 [1:39:00<16:05, 56.77s/it]"
     ]
    },
    {
     "name": "stdout",
     "output_type": "stream",
     "text": [
      "Downloading AgNewsTweets_ID_Falcon_Paraphrase --- healthyml/In-Context Domain Transfer Improves Out-of-Domain Robustness/run-r4cog6cc-validation_stabilityaiStableBeluga7b_random_0_tiiuaefalcon7binstruct_style_logs:v0\n"
     ]
    },
    {
     "name": "stderr",
     "output_type": "stream",
     "text": [
      "\u001b[34m\u001b[1mwandb\u001b[0m: Downloading large artifact run-r4cog6cc-validation_stabilityaiStableBeluga7b_random_0_tiiuaefalcon7binstruct_style_logs:v0, 227.27MB. 1 files... \n",
      "\u001b[34m\u001b[1mwandb\u001b[0m:   1 of 1 files downloaded.  \n",
      "Done. 0:0:52.9\n",
      " 95%|█████████▌| 309/325 [1:39:54<14:54, 55.88s/it]"
     ]
    },
    {
     "name": "stdout",
     "output_type": "stream",
     "text": [
      "Downloading AgNewsTweets_ID_Falcon_ICR --- healthyml/In-Context Domain Transfer Improves Out-of-Domain Robustness/run-r4cog6cc-validation_stabilityaiStableBeluga7b_random_16_tiiuaefalcon7binstruct_style_logs:v0\n"
     ]
    },
    {
     "name": "stderr",
     "output_type": "stream",
     "text": [
      "\u001b[34m\u001b[1mwandb\u001b[0m: Downloading large artifact run-r4cog6cc-validation_stabilityaiStableBeluga7b_random_16_tiiuaefalcon7binstruct_style_logs:v0, 242.19MB. 1 files... \n",
      "\u001b[34m\u001b[1mwandb\u001b[0m:   1 of 1 files downloaded.  \n",
      "Done. 0:0:33.7\n",
      " 95%|█████████▌| 310/325 [1:40:28<12:21, 49.44s/it]"
     ]
    },
    {
     "name": "stdout",
     "output_type": "stream",
     "text": [
      "Downloading AgNewsTweets_Tweets_BERT_Insert --- healthyml/In-Context Domain Transfer Improves Out-of-Domain Robustness/run-r4cog6cc-test_aug_insert_random_16_Kyle1668agnewsbertbaseuncased_style_logs:v0\n"
     ]
    },
    {
     "name": "stderr",
     "output_type": "stream",
     "text": [
      "\u001b[34m\u001b[1mwandb\u001b[0m:   1 of 1 files downloaded.  \n",
      " 96%|█████████▌| 311/325 [1:40:34<08:28, 36.31s/it]"
     ]
    },
    {
     "name": "stdout",
     "output_type": "stream",
     "text": [
      "Downloading AgNewsTweets_Tweets_BERT_Substitute --- healthyml/In-Context Domain Transfer Improves Out-of-Domain Robustness/run-r4cog6cc-test_aug_substitute_random_16_Kyle1668agnewsbertbaseuncased_style_logs:v0\n"
     ]
    },
    {
     "name": "stderr",
     "output_type": "stream",
     "text": [
      "\u001b[34m\u001b[1mwandb\u001b[0m:   1 of 1 files downloaded.  \n",
      " 96%|█████████▌| 312/325 [1:40:39<05:50, 26.92s/it]"
     ]
    },
    {
     "name": "stdout",
     "output_type": "stream",
     "text": [
      "Downloading AgNewsTweets_Tweets_BERT_Translate --- healthyml/In-Context Domain Transfer Improves Out-of-Domain Robustness/run-r4cog6cc-test_aug_backtranslate_random_16_Kyle1668agnewsbertbaseuncased_style_logs:v0\n"
     ]
    },
    {
     "name": "stderr",
     "output_type": "stream",
     "text": [
      "\u001b[34m\u001b[1mwandb\u001b[0m:   1 of 1 files downloaded.  \n",
      " 96%|█████████▋| 313/325 [1:40:44<04:05, 20.46s/it]"
     ]
    },
    {
     "name": "stdout",
     "output_type": "stream",
     "text": [
      "Downloading AgNewsTweets_Tweets_BERT_Paraphrase --- healthyml/In-Context Domain Transfer Improves Out-of-Domain Robustness/run-r4cog6cc-test_stabilityaiStableBeluga7b_random_0_Kyle1668agnewsbertbaseuncased_style_logs:v0\n"
     ]
    },
    {
     "name": "stderr",
     "output_type": "stream",
     "text": [
      "\u001b[34m\u001b[1mwandb\u001b[0m:   1 of 1 files downloaded.  \n",
      " 97%|█████████▋| 314/325 [1:40:49<02:54, 15.90s/it]"
     ]
    },
    {
     "name": "stdout",
     "output_type": "stream",
     "text": [
      "Downloading AgNewsTweets_Tweets_BERT_ICR --- healthyml/In-Context Domain Transfer Improves Out-of-Domain Robustness/run-r4cog6cc-test_stabilityaiStableBeluga7b_random_16_Kyle1668agnewsbertbaseuncased_style_logs:v0\n"
     ]
    },
    {
     "name": "stderr",
     "output_type": "stream",
     "text": [
      "\u001b[34m\u001b[1mwandb\u001b[0m:   1 of 1 files downloaded.  \n",
      " 97%|█████████▋| 315/325 [1:40:57<02:15, 13.53s/it]"
     ]
    },
    {
     "name": "stdout",
     "output_type": "stream",
     "text": [
      "Downloading AgNewsTweets_Tweets_T5_Insert --- healthyml/In-Context Domain Transfer Improves Out-of-Domain Robustness/run-r4cog6cc-test_aug_insert_random_16_Kyle1668agnewst5large_style_logs:v0\n"
     ]
    },
    {
     "name": "stderr",
     "output_type": "stream",
     "text": [
      "\u001b[34m\u001b[1mwandb\u001b[0m:   1 of 1 files downloaded.  \n",
      " 97%|█████████▋| 316/325 [1:41:02<01:37, 10.88s/it]"
     ]
    },
    {
     "name": "stdout",
     "output_type": "stream",
     "text": [
      "Downloading AgNewsTweets_Tweets_T5_Substitute --- healthyml/In-Context Domain Transfer Improves Out-of-Domain Robustness/run-r4cog6cc-test_aug_substitute_random_16_Kyle1668agnewst5large_style_logs:v0\n"
     ]
    },
    {
     "name": "stderr",
     "output_type": "stream",
     "text": [
      "\u001b[34m\u001b[1mwandb\u001b[0m:   1 of 1 files downloaded.  \n",
      " 98%|█████████▊| 317/325 [1:41:06<01:09,  8.68s/it]"
     ]
    },
    {
     "name": "stdout",
     "output_type": "stream",
     "text": [
      "Downloading AgNewsTweets_Tweets_T5_Translate --- healthyml/In-Context Domain Transfer Improves Out-of-Domain Robustness/run-r4cog6cc-test_aug_backtranslate_random_16_Kyle1668agnewst5large_style_logs:v0\n"
     ]
    },
    {
     "name": "stderr",
     "output_type": "stream",
     "text": [
      "\u001b[34m\u001b[1mwandb\u001b[0m:   1 of 1 files downloaded.  \n",
      " 98%|█████████▊| 318/325 [1:41:09<00:49,  7.12s/it]"
     ]
    },
    {
     "name": "stdout",
     "output_type": "stream",
     "text": [
      "Downloading AgNewsTweets_Tweets_T5_Paraphrase --- healthyml/In-Context Domain Transfer Improves Out-of-Domain Robustness/run-r4cog6cc-test_stabilityaiStableBeluga7b_random_0_Kyle1668agnewst5large_style_logs:v0\n"
     ]
    },
    {
     "name": "stderr",
     "output_type": "stream",
     "text": [
      "\u001b[34m\u001b[1mwandb\u001b[0m:   1 of 1 files downloaded.  \n",
      " 98%|█████████▊| 319/325 [1:41:13<00:36,  6.08s/it]"
     ]
    },
    {
     "name": "stdout",
     "output_type": "stream",
     "text": [
      "Downloading AgNewsTweets_Tweets_T5_ICR --- healthyml/In-Context Domain Transfer Improves Out-of-Domain Robustness/run-r4cog6cc-test_stabilityaiStableBeluga7b_random_16_Kyle1668agnewst5large_style_logs:v0\n"
     ]
    },
    {
     "name": "stderr",
     "output_type": "stream",
     "text": [
      "\u001b[34m\u001b[1mwandb\u001b[0m:   1 of 1 files downloaded.  \n",
      " 98%|█████████▊| 320/325 [1:41:20<00:31,  6.38s/it]"
     ]
    },
    {
     "name": "stdout",
     "output_type": "stream",
     "text": [
      "Downloading AgNewsTweets_Tweets_Falcon_Insert --- healthyml/In-Context Domain Transfer Improves Out-of-Domain Robustness/run-r4cog6cc-test_aug_insert_random_16_tiiuaefalcon7binstruct_style_logs:v0\n"
     ]
    },
    {
     "name": "stderr",
     "output_type": "stream",
     "text": [
      "\u001b[34m\u001b[1mwandb\u001b[0m: Downloading large artifact run-r4cog6cc-test_aug_insert_random_16_tiiuaefalcon7binstruct_style_logs:v0, 228.19MB. 1 files... \n",
      "\u001b[34m\u001b[1mwandb\u001b[0m:   1 of 1 files downloaded.  \n",
      "Done. 0:0:45.0\n",
      " 99%|█████████▉| 321/325 [1:42:06<01:12, 18.19s/it]"
     ]
    },
    {
     "name": "stdout",
     "output_type": "stream",
     "text": [
      "Downloading AgNewsTweets_Tweets_Falcon_Substitute --- healthyml/In-Context Domain Transfer Improves Out-of-Domain Robustness/run-r4cog6cc-test_aug_substitute_random_16_tiiuaefalcon7binstruct_style_logs:v0\n"
     ]
    },
    {
     "name": "stderr",
     "output_type": "stream",
     "text": [
      "\u001b[34m\u001b[1mwandb\u001b[0m: Downloading large artifact run-r4cog6cc-test_aug_substitute_random_16_tiiuaefalcon7binstruct_style_logs:v0, 224.41MB. 1 files... \n",
      "\u001b[34m\u001b[1mwandb\u001b[0m:   1 of 1 files downloaded.  \n",
      "Done. 0:0:42.9\n",
      " 99%|█████████▉| 322/325 [1:42:49<01:17, 25.83s/it]"
     ]
    },
    {
     "name": "stdout",
     "output_type": "stream",
     "text": [
      "Downloading AgNewsTweets_Tweets_Falcon_Translate --- healthyml/In-Context Domain Transfer Improves Out-of-Domain Robustness/run-r4cog6cc-test_aug_backtranslate_random_16_tiiuaefalcon7binstruct_style_logs:v0\n"
     ]
    },
    {
     "name": "stderr",
     "output_type": "stream",
     "text": [
      "\u001b[34m\u001b[1mwandb\u001b[0m: Downloading large artifact run-r4cog6cc-test_aug_backtranslate_random_16_tiiuaefalcon7binstruct_style_logs:v0, 223.94MB. 1 files... \n",
      "\u001b[34m\u001b[1mwandb\u001b[0m:   1 of 1 files downloaded.  \n",
      "Done. 0:0:36.7\n",
      " 99%|█████████▉| 323/325 [1:43:27<00:58, 29.34s/it]"
     ]
    },
    {
     "name": "stdout",
     "output_type": "stream",
     "text": [
      "Downloading AgNewsTweets_Tweets_Falcon_Paraphrase --- healthyml/In-Context Domain Transfer Improves Out-of-Domain Robustness/run-r4cog6cc-test_stabilityaiStableBeluga7b_random_0_tiiuaefalcon7binstruct_style_logs:v0\n"
     ]
    },
    {
     "name": "stderr",
     "output_type": "stream",
     "text": [
      "\u001b[34m\u001b[1mwandb\u001b[0m: Downloading large artifact run-r4cog6cc-test_stabilityaiStableBeluga7b_random_0_tiiuaefalcon7binstruct_style_logs:v0, 227.60MB. 1 files... \n"
     ]
    }
   ],
   "source": [
    "# for each table path, run.use_artifact and download the artifact.\n",
    "local_paths = {}\n",
    "missing_tables = []\n",
    "for table_name, table_path in tqdm(list(table_paths.items())[:]):\n",
    "    # if table_name == \"BOSS_Toxicity_ImplicitHate_BERT_ICR\":\n",
    "    #     print()\n",
    "    # else:\n",
    "    #     continue\n",
    "\n",
    "    try:\n",
    "        if table_path == \"\":\n",
    "            missing_tables.append(table_name)\n",
    "            continue\n",
    "\n",
    "        if get_local_logs_path(f\"data/{table_name}\") is None:\n",
    "            download_path = f\"{project_name}/{table_path}\"\n",
    "            print(f\"Downloading {table_name} --- {download_path}\")\n",
    "            artifact = run.use_artifact(download_path, type=\"run_table\")\n",
    "            artifact_dir = artifact.download(root=f\"data/{table_name}\")\n",
    "\n",
    "        local_paths[table_name] = get_local_logs_path(f\"data/{table_name}\")\n",
    "    except Exception as e:\n",
    "        print(e)\n",
    "        print(table_name)\n",
    "        missing_tables.append(table_name)\n",
    "\n",
    "print(json.dumps(missing_tables, indent=4))"
   ]
  },
  {
   "cell_type": "code",
   "execution_count": null,
   "metadata": {},
   "outputs": [],
   "source": [
    "column_renaming = {\n",
    "    \"entropy\": \"tta_prediction_entropy\",\n",
    "    \"mean probs\": \"tta_mean_class_probs\",\n",
    "    \"all probs\": \"tta_all_class_probs\",\n",
    "    \"all entropies\": \"tta_all_class_entropy\",\n",
    "    \"latency\": \"tta_inference_latency\",\n",
    "    \"input\": \"augmentations\",\n",
    "    \"original_input\": \"original_text\",\n",
    "    \"judgment\": \"tta_predicted_class\",\n",
    "    \"original judgment\": \"original_predicted_class\",\n",
    "    \"original entropy\": \"original_prediction_entropy\",\n",
    "    \"entropy decrease\": \"prediction_entropy_decrease\",\n",
    "    \"entropy decreased\": \"prediction_entropy_decreased\",\n",
    "}\n",
    "columns_to_drop = [\"style prompt\", \"mean exemplar distance\", \"prompt\"]\n",
    "columns_order = [\"outcome\", \"original_text\", \"augmentations\", \"generations\", \"original_predicted_class\", \"tta_predicted_class\", \"label\", \"tta_inference_latency\", \"original_prediction_entropy\", \"tta_prediction_entropy\", \"prediction_entropy_decreased\", \"prediction_entropy_decrease\", \"tta_mean_class_probs\", \"tta_all_class_probs\", \"tta_all_class_entropy\", ]"
   ]
  },
  {
   "cell_type": "code",
   "execution_count": null,
   "metadata": {},
   "outputs": [],
   "source": [
    "def parse_augmentations(augmentations):\n",
    "    if augmentations is None or len(augmentations) == 0:\n",
    "        return []\n",
    "\n",
    "    return [aug.replace(\"<aug>\", \"\").replace(\"</aug>\", \"\") for aug in augmentations[:4]]\n",
    "\n",
    "formatted_augs = parse_augmentations([ \"<aug>too not much of anything this well - well acted but dangerously slow thriller feels somehow like simply a terrible preamble to a bigger, much more too complicated horror story, one reality that never materializes.</aug>\", \"<aug>one too too much apprehension of this well - being acted but dangerously still slow thriller feels like only a preamble to a seemingly bigger, yet more more complicated story, and one that never materializes.</aug>\", \"<aug>too much of this a well - well acted but dangerously slow thriller film feels like a big preamble opening to a somehow bigger, more complicated dream story, the one concept that almost never materializes.</aug>\", \"<aug>too am much of this this well - acted but dangerously slow paced thriller feels somehow like a prime preamble to creating a bigger, more painfully complicated story, but one one that never ever materializes.</aug>\", \"<aug>Too much of this well-acted but dangerously slow thriller feels like a preamble to a bigger , more complicated story , one that never materializes .</aug>\", \"<aug>Too much of this well-acted but dangerously slow thriller feels like a preamble to a bigger , more complicated story , one that never materializes .</aug>\" ])\n",
    "\n",
    "print(formatted_augs)\n",
    "print(len(formatted_augs))"
   ]
  },
  {
   "cell_type": "code",
   "execution_count": null,
   "metadata": {},
   "outputs": [],
   "source": [
    "local_paths"
   ]
  },
  {
   "cell_type": "code",
   "execution_count": null,
   "metadata": {},
   "outputs": [],
   "source": [
    "combined_datset = DatasetDict()\n",
    "for split in tqdm(local_paths):\n",
    "    # print(f\"Processing {split}\")\n",
    "    path = local_paths[split]\n",
    "    json_logs = json.load(open(path))\n",
    "    frame = pd.DataFrame(data=json_logs[\"data\"], columns=json_logs[\"columns\"])\n",
    "    frame = frame.rename(columns=column_renaming)\n",
    "    frame = frame.drop(columns=columns_to_drop)\n",
    "    frame[\"augmentations\"] = frame[\"augmentations\"].apply(parse_augmentations)\n",
    "\n",
    "    if \"BERT\" not in split:\n",
    "        for col in columns_order:\n",
    "            if col not in frame.columns:\n",
    "                if col == \"original_prediction_entropy\" or col == \"tta_prediction_entropy\" or col == \"prediction_entropy_decrease\":\n",
    "                    frame[col] = float(\"nan\")\n",
    "                elif col == \"prediction_entropy_decreased\":\n",
    "                    frame[col] = False\n",
    "                elif col == \"tta_all_class_probs\":\n",
    "                    frame[col] = frame.apply(lambda x: [[float(0.0)]], axis=1)\n",
    "                elif \"probs\" in col:\n",
    "                    frame[col] = frame.apply(lambda x: [float(0.0)], axis=1)\n",
    "                elif col == \"tta_all_class_entropy\":\n",
    "                    frame[col] = frame.apply(lambda x: [float(0.0)], axis=1)\n",
    "\n",
    "    if \"generations\" not in frame.columns:\n",
    "        frame[\"generations\"] = [[]] * len(frame)\n",
    "\n",
    "    frame = frame[columns_order]\n",
    "    combined_datset[split] = Dataset.from_pandas(frame)\n",
    "\n",
    "combined_datset"
   ]
  },
  {
   "cell_type": "code",
   "execution_count": null,
   "metadata": {},
   "outputs": [],
   "source": [
    "combined_datset.save_to_disk(\"data/combined_dataset\")"
   ]
  },
  {
   "cell_type": "code",
   "execution_count": null,
   "metadata": {},
   "outputs": [],
   "source": [
    "list(combined_datset.keys())"
   ]
  },
  {
   "cell_type": "code",
   "execution_count": null,
   "metadata": {},
   "outputs": [],
   "source": [
    "# combined_datset.push_to_hub(\"LLM-TTA-Augmentation-Logs\")"
   ]
  }
 ],
 "metadata": {
  "kernelspec": {
   "display_name": "eval-aug",
   "language": "python",
   "name": "python3"
  },
  "language_info": {
   "codemirror_mode": {
    "name": "ipython",
    "version": 3
   },
   "file_extension": ".py",
   "mimetype": "text/x-python",
   "name": "python",
   "nbconvert_exporter": "python",
   "pygments_lexer": "ipython3",
   "version": "3.10.13"
  }
 },
 "nbformat": 4,
 "nbformat_minor": 2
}
