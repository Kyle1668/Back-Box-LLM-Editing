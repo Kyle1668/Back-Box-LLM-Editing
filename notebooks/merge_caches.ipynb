{
 "cells": [
  {
   "cell_type": "code",
   "execution_count": 1,
   "metadata": {},
   "outputs": [],
   "source": [
    "import os\n",
    "import pandas as pd\n",
    "from tqdm import tqdm\n",
    "tqdm.pandas()"
   ]
  },
  {
   "cell_type": "code",
   "execution_count": 2,
   "metadata": {},
   "outputs": [],
   "source": [
    "healthy_cache_path = \"../healthyml_cache/\"\n",
    "healthy_cache_files = os.listdir(healthy_cache_path)"
   ]
  },
  {
   "cell_type": "code",
   "execution_count": 3,
   "metadata": {},
   "outputs": [],
   "source": [
    "azure_cache_path = \"../cached_rewrites_old/\"\n",
    "azure_cache_files = os.listdir(azure_cache_path)"
   ]
  },
  {
   "cell_type": "code",
   "execution_count": 4,
   "metadata": {},
   "outputs": [
    {
     "data": {
      "text/plain": [
       "{'ag_news_twitter_aug_back-translate.csv',\n",
       " 'ag_news_twitter_aug_insert.csv',\n",
       " 'ag_news_twitter_aug_substitute.csv',\n",
       " 'ag_news_twitter_stabilityai_StableBeluga-7b_temp=0.0.csv',\n",
       " 'boss_sentiment_aug_back-translate.csv',\n",
       " 'boss_sentiment_aug_insert.csv',\n",
       " 'boss_sentiment_aug_substitute.csv',\n",
       " 'boss_sentiment_stabilityai_StableBeluga-13B_temp=0.0.csv',\n",
       " 'boss_sentiment_stabilityai_StableBeluga-7b_temp=0.0.csv',\n",
       " 'boss_toxicity_aug_back-translate.csv',\n",
       " 'boss_toxicity_aug_insert.csv',\n",
       " 'boss_toxicity_aug_substitute.csv',\n",
       " 'boss_toxicity_stabilityai_StableBeluga-7b_temp=0.0.csv'}"
      ]
     },
     "execution_count": 4,
     "metadata": {},
     "output_type": "execute_result"
    }
   ],
   "source": [
    "# files without overlap\n",
    "combines_files_set = set(healthy_cache_files).union(set(azure_cache_files))\n",
    "combines_files_set"
   ]
  },
  {
   "cell_type": "code",
   "execution_count": 5,
   "metadata": {},
   "outputs": [
    {
     "name": "stderr",
     "output_type": "stream",
     "text": [
      "  0%|          | 0/13 [00:00<?, ?it/s]"
     ]
    },
    {
     "name": "stdout",
     "output_type": "stream",
     "text": [
      "boss_sentiment_aug_insert.csv\n",
      "Healthy cache len: 61580, Azure cache len: 61580, Combined len: 61580\n"
     ]
    },
    {
     "name": "stderr",
     "output_type": "stream",
     "text": [
      "  8%|▊         | 1/13 [00:01<00:18,  1.54s/it]"
     ]
    },
    {
     "name": "stdout",
     "output_type": "stream",
     "text": [
      "ag_news_twitter_aug_insert.csv\n"
     ]
    },
    {
     "name": "stderr",
     "output_type": "stream",
     "text": [
      " 15%|█▌        | 2/13 [00:02<00:09,  1.10it/s]"
     ]
    },
    {
     "name": "stdout",
     "output_type": "stream",
     "text": [
      "Healthy cache len: 15200, Azure cache len: 15200, Combined len: 15200\n",
      "boss_sentiment_stabilityai_StableBeluga-7b_temp=0.0.csv\n",
      "Healthy cache len: 123133, Azure cache len: 123133, Combined len: 123133\n"
     ]
    },
    {
     "name": "stderr",
     "output_type": "stream",
     "text": [
      " 23%|██▎       | 3/13 [00:06<00:24,  2.47s/it]"
     ]
    },
    {
     "name": "stdout",
     "output_type": "stream",
     "text": [
      "boss_toxicity_aug_back-translate.csv\n",
      "Healthy cache len: 120032, Azure cache len: 116807, Combined len: 120032\n"
     ]
    },
    {
     "name": "stderr",
     "output_type": "stream",
     "text": [
      " 31%|███       | 4/13 [00:09<00:23,  2.64s/it]"
     ]
    },
    {
     "name": "stdout",
     "output_type": "stream",
     "text": [
      "boss_sentiment_aug_substitute.csv\n",
      "Healthy cache len: 61580, Azure cache len: 61580, Combined len: 61580\n"
     ]
    },
    {
     "name": "stderr",
     "output_type": "stream",
     "text": [
      " 38%|███▊      | 5/13 [00:10<00:17,  2.19s/it]"
     ]
    },
    {
     "name": "stdout",
     "output_type": "stream",
     "text": [
      "ag_news_twitter_aug_substitute.csv\n"
     ]
    },
    {
     "name": "stderr",
     "output_type": "stream",
     "text": [
      " 46%|████▌     | 6/13 [00:11<00:11,  1.57s/it]"
     ]
    },
    {
     "name": "stdout",
     "output_type": "stream",
     "text": [
      "Healthy cache len: 15200, Azure cache len: 15200, Combined len: 15200\n",
      "ag_news_twitter_aug_back-translate.csv\n"
     ]
    },
    {
     "name": "stderr",
     "output_type": "stream",
     "text": [
      " 54%|█████▍    | 7/13 [00:11<00:07,  1.18s/it]"
     ]
    },
    {
     "name": "stdout",
     "output_type": "stream",
     "text": [
      "Healthy cache len: 15200, Azure cache len: 15200, Combined len: 15200\n",
      "boss_toxicity_stabilityai_StableBeluga-7b_temp=0.0.csv\n",
      "Healthy cache len: 240019, Azure cache len: 190596, Combined len: 240032\n"
     ]
    },
    {
     "name": "stderr",
     "output_type": "stream",
     "text": [
      " 62%|██████▏   | 8/13 [00:20<00:18,  3.73s/it]"
     ]
    },
    {
     "name": "stdout",
     "output_type": "stream",
     "text": [
      "boss_sentiment_aug_back-translate.csv\n",
      "Healthy cache len: 61580, Azure cache len: 61580, Combined len: 61580\n"
     ]
    },
    {
     "name": "stderr",
     "output_type": "stream",
     "text": [
      " 69%|██████▉   | 9/13 [00:21<00:11,  2.97s/it]"
     ]
    },
    {
     "name": "stdout",
     "output_type": "stream",
     "text": [
      "boss_toxicity_aug_substitute.csv\n",
      "Healthy cache len: 120032, Azure cache len: 120032, Combined len: 120032\n"
     ]
    },
    {
     "name": "stderr",
     "output_type": "stream",
     "text": [
      " 77%|███████▋  | 10/13 [00:24<00:08,  3.00s/it]"
     ]
    },
    {
     "name": "stdout",
     "output_type": "stream",
     "text": [
      "ag_news_twitter_stabilityai_StableBeluga-7b_temp=0.0.csv\n",
      "Healthy cache len: 30400, Azure cache len: 30400, Combined len: 30400\n"
     ]
    },
    {
     "name": "stderr",
     "output_type": "stream",
     "text": [
      " 85%|████████▍ | 11/13 [00:26<00:05,  2.52s/it]"
     ]
    },
    {
     "name": "stdout",
     "output_type": "stream",
     "text": [
      "boss_toxicity_aug_insert.csv\n",
      "Healthy cache len: 120032, Azure cache len: 120032, Combined len: 120032\n"
     ]
    },
    {
     "name": "stderr",
     "output_type": "stream",
     "text": [
      "100%|██████████| 13/13 [00:29<00:00,  2.30s/it]"
     ]
    },
    {
     "name": "stdout",
     "output_type": "stream",
     "text": [
      "boss_sentiment_stabilityai_StableBeluga-13B_temp=0.0.csv\n",
      "Healthy cache len: 2132, Azure cache len: 2132, Combined len: 2132\n"
     ]
    },
    {
     "name": "stderr",
     "output_type": "stream",
     "text": [
      "\n"
     ]
    }
   ],
   "source": [
    "for file_name in tqdm(combines_files_set):\n",
    "    print(file_name)\n",
    "    healthy_cache_file = healthy_cache_path + file_name\n",
    "    azure_cache_file = azure_cache_path + file_name\n",
    "    \n",
    "    # read the frames and skip bad data\n",
    "    healthy_cache_df = pd.read_csv(healthy_cache_file, on_bad_lines=\"warn\", engine=\"python\") if os.path.exists(healthy_cache_file) else None\n",
    "    azure_cache_df = pd.read_csv(azure_cache_file, on_bad_lines=\"warn\", engine=\"python\") if os.path.exists(azure_cache_file) else None\n",
    "    healthy_cache_len = len(healthy_cache_df) if healthy_cache_df is not None else 0\n",
    "    azure_cache_len = len(azure_cache_df) if azure_cache_df is not None else 0\n",
    "    \n",
    "    combined_df = None\n",
    "    if healthy_cache_df is not None and azure_cache_df is not None:\n",
    "        combined_df = pd.concat([healthy_cache_df, azure_cache_df])\n",
    "    elif healthy_cache_df is None and azure_cache_df is not None:\n",
    "        combined_df = azure_cache_df\n",
    "    elif healthy_cache_df is not None and azure_cache_df is None:\n",
    "        combined_df = healthy_cache_df\n",
    "    else:\n",
    "        raise Exception(\"Both files are None\")\n",
    "    \n",
    "    combined_df = combined_df.drop_duplicates(subset=[\"prompt_hash\"], keep=\"first\")\n",
    "    combined_len = len(combined_df)\n",
    "    print(f\"Healthy cache len: {healthy_cache_len}, Azure cache len: {azure_cache_len}, Combined len: {combined_len}\")\n",
    "    \n",
    "    cached_rewrites_path = \"../cached_rewrites/\"\n",
    "    if os.path.exists(cached_rewrites_path) is False:\n",
    "        os.mkdir(cached_rewrites_path)\n",
    "    \n",
    "    combined_df.to_csv(cached_rewrites_path + file_name, index=False)\n",
    "    "
   ]
  },
  {
   "cell_type": "code",
   "execution_count": null,
   "metadata": {},
   "outputs": [],
   "source": []
  }
 ],
 "metadata": {
  "kernelspec": {
   "display_name": "eval-aug",
   "language": "python",
   "name": "python3"
  },
  "language_info": {
   "codemirror_mode": {
    "name": "ipython",
    "version": 3
   },
   "file_extension": ".py",
   "mimetype": "text/x-python",
   "name": "python",
   "nbconvert_exporter": "python",
   "pygments_lexer": "ipython3",
   "version": "3.10.13"
  }
 },
 "nbformat": 4,
 "nbformat_minor": 2
}
